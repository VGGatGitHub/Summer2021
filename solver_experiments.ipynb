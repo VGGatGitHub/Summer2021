{
 "cells": [
  {
   "cell_type": "markdown",
   "metadata": {},
   "source": [
    "[![Open In Colab](https://colab.research.google.com/assets/colab-badge.svg)](https://colab.research.google.com/github/VGGatGitHub/Summer2021/blob/master/solver_experiments.ipynb)"
   ]
  },
  {
   "cell_type": "markdown",
   "metadata": {},
   "source": [
    "Notebook experimenting how to use DOcplex and IBM Quantum."
   ]
  },
  {
   "cell_type": "markdown",
   "metadata": {
    "id": "TWpZnxqoxtCH"
   },
   "source": [
    "# 0. Install libraries & clone repo"
   ]
  },
  {
   "cell_type": "code",
   "execution_count": null,
   "metadata": {
    "id": "jjhGsa9LxtCJ"
   },
   "outputs": [],
   "source": [
    "import sys\n",
    "\n",
    "if hasattr(sys, 'real_prefix'):\n",
    "    #we are in a virtual env.\n",
    "    !pip install cplex && pip install docplex\n",
    "else:\n",
    "    !pip install --user cplex && pip install --user docplex"
   ]
  },
  {
   "cell_type": "markdown",
   "metadata": {},
   "source": [
    "Possibly need to restart runtime here."
   ]
  },
  {
   "cell_type": "code",
   "execution_count": null,
   "metadata": {
    "id": "RPk5nF4ZxtCJ"
   },
   "outputs": [],
   "source": [
    "# clone repo\n",
    "!git clone https://github.com/VGGatGitHub/Summer2021.git"
   ]
  },
  {
   "cell_type": "markdown",
   "metadata": {
    "id": "jFOO2BnFxtCM"
   },
   "source": [
    "# 1. Load Data"
   ]
  },
  {
   "cell_type": "code",
   "execution_count": null,
   "metadata": {},
   "outputs": [],
   "source": [
    "import pandas as pd\n",
    "\n",
    "# supply + costs\n",
    "supply_file = 'Summer2021/introScenario/plants.csv'\n",
    "\n",
    "# demand\n",
    "demand_file = 'Summer2021/introScenario/customerDemand.csv'\n",
    "\n",
    "# for now load example data (plants.csv and customerDemand.csv under introScenario folder)\n",
    "s_df = pd.read_csv(supply_file)\n",
    "d_df = pd.read_csv(demand_file)"
   ]
  },
  {
   "cell_type": "markdown",
   "metadata": {},
   "source": [
    "# 2. Solve the DO problem via DOcplex"
   ]
  },
  {
   "cell_type": "code",
   "execution_count": null,
   "metadata": {},
   "outputs": [],
   "source": [
    "import cplex\n",
    "import docplex.mp\n",
    "from docplex.mp.model import Model\n",
    "# TODO"
   ]
  },
  {
   "cell_type": "markdown",
   "metadata": {},
   "source": [
    "# 3. Solve the DO problem using IBM Quantum"
   ]
  },
  {
   "cell_type": "code",
   "execution_count": null,
   "metadata": {},
   "outputs": [],
   "source": [
    "# TODO (after steps 1 and 2)"
   ]
  }
 ],
 "metadata": {
  "colab": {
   "include_colab_link": true,
   "name": "solver_experiments.ipynb",
   "provenance": []
  },
  "kernelspec": {
   "display_name": "Python 3",
   "language": "python",
   "name": "python3"
  },
  "language_info": {
   "codemirror_mode": {
    "name": "ipython",
    "version": 3
   },
   "file_extension": ".py",
   "mimetype": "text/x-python",
   "name": "python",
   "nbconvert_exporter": "python",
   "pygments_lexer": "ipython3",
   "version": "3.7.6"
  }
 },
 "nbformat": 4,
 "nbformat_minor": 1
}
