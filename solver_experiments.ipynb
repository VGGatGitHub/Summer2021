{
  "nbformat": 4,
  "nbformat_minor": 0,
  "metadata": {
    "colab": {
      "name": "solver_experiments.ipynb",
      "provenance": [],
      "toc_visible": true,
      "include_colab_link": true
    },
    "kernelspec": {
      "display_name": "Python 3",
      "language": "python",
      "name": "python3"
    },
    "language_info": {
      "codemirror_mode": {
        "name": "ipython",
        "version": 3
      },
      "file_extension": ".py",
      "mimetype": "text/x-python",
      "name": "python",
      "nbconvert_exporter": "python",
      "pygments_lexer": "ipython3",
      "version": "3.7.6"
    }
  },
  "cells": [
    {
      "cell_type": "markdown",
      "metadata": {
        "id": "view-in-github",
        "colab_type": "text"
      },
      "source": [
        "<a href=\"https://colab.research.google.com/github/VGGatGitHub/Summer2021/blob/main/solver_experiments.ipynb\" target=\"_parent\"><img src=\"https://colab.research.google.com/assets/colab-badge.svg\" alt=\"Open In Colab\"/></a>"
      ]
    },
    {
      "cell_type": "markdown",
      "metadata": {
        "id": "rm4Kd0IfYVuK"
      },
      "source": [
        "Notebook experimenting how to use DOcplex and IBM Quantum."
      ]
    },
    {
      "cell_type": "markdown",
      "metadata": {
        "id": "TWpZnxqoxtCH"
      },
      "source": [
        "# 0. Install libraries & clone repo"
      ]
    },
    {
      "cell_type": "code",
      "metadata": {
        "id": "jjhGsa9LxtCJ"
      },
      "source": [
        "import sys\n",
        "\n",
        "if hasattr(sys, 'real_prefix'):\n",
        "    #we are in a virtual env.\n",
        "    !pip install cplex && pip install docplex\n",
        "else:\n",
        "    !pip install --user cplex && pip install --user docplex\n",
        "\n",
        "print()\n",
        "!pip show cplex\n",
        "print()\n",
        "!pip show docplex\n",
        "\n",
        "#it my be useful to retstart you runtime"
      ],
      "execution_count": null,
      "outputs": []
    },
    {
      "cell_type": "code",
      "metadata": {
        "id": "zeBTiUzOwgR_"
      },
      "source": [
        "!pip show qiskit\n",
        "#!pip install qiskit\n",
        "\n",
        "# !pip install qiskit-optimization\n",
        "#!pip show qiskit-optimization\n",
        "\n",
        "#it my be useful to retstart you runtime"
      ],
      "execution_count": null,
      "outputs": []
    },
    {
      "cell_type": "markdown",
      "metadata": {
        "id": "DMGKfSM9YVuM"
      },
      "source": [
        "**Possibly need to restart runtime here.**"
      ]
    },
    {
      "cell_type": "code",
      "metadata": {
        "id": "RPk5nF4ZxtCJ",
        "colab": {
          "base_uri": "https://localhost:8080/"
        },
        "outputId": "faa2aeb7-8ad4-4ceb-afa5-a6d02736e99e"
      },
      "source": [
        "#it my be useful to retstart you runtime\n",
        "\n",
        "# clone repo\n",
        "!git clone https://github.com/VGGatGitHub/Summer2021.git"
      ],
      "execution_count": 2,
      "outputs": [
        {
          "output_type": "stream",
          "text": [
            "Cloning into 'Summer2021'...\n",
            "remote: Enumerating objects: 100, done.\u001b[K\n",
            "remote: Counting objects: 100% (100/100), done.\u001b[K\n",
            "remote: Compressing objects: 100% (86/86), done.\u001b[K\n",
            "remote: Total 100 (delta 44), reused 20 (delta 10), pack-reused 0\u001b[K\n",
            "Receiving objects: 100% (100/100), 197.66 KiB | 8.59 MiB/s, done.\n",
            "Resolving deltas: 100% (44/44), done.\n"
          ],
          "name": "stdout"
        }
      ]
    },
    {
      "cell_type": "markdown",
      "metadata": {
        "id": "jFOO2BnFxtCM"
      },
      "source": [
        "# 1. Load Data"
      ]
    },
    {
      "cell_type": "code",
      "metadata": {
        "id": "y8U39lpVaWLJ",
        "colab": {
          "base_uri": "https://localhost:8080/"
        },
        "outputId": "80b63c9a-d8a0-4668-9d21-fe75919bb7f5"
      },
      "source": [
        "#next run the model.py in the folder introScenario\n",
        "!pwd\n",
        "%cd ./Summer2021/introScenario/\n",
        "#./Summer2021/intermediateScenario\n",
        "#./Summer2021/introScenario/\n",
        "#%ls\n"
      ],
      "execution_count": 1,
      "outputs": [
        {
          "output_type": "stream",
          "text": [
            "/content\n",
            "/content/Summer2021/introScenario\n"
          ],
          "name": "stdout"
        }
      ]
    },
    {
      "cell_type": "code",
      "metadata": {
        "id": "w5eQxjG1YVuP"
      },
      "source": [
        "import pandas as pd\n",
        "\n",
        "# supply + costs\n",
        "supply_file = './plants.csv'\n",
        "\n",
        "# demand\n",
        "demand_file = './customerDemand.csv'\n",
        "\n",
        "# for now load example data (plants.csv and customerDemand.csv under introScenario folder)\n",
        "s_df = pd.read_csv(supply_file)\n",
        "d_df = pd.read_csv(demand_file)"
      ],
      "execution_count": 2,
      "outputs": []
    },
    {
      "cell_type": "code",
      "metadata": {
        "id": "m3VwLMJr1wBE"
      },
      "source": [
        "inputs={'customerDemand':d_df,'plants':s_df}"
      ],
      "execution_count": 3,
      "outputs": []
    },
    {
      "cell_type": "markdown",
      "metadata": {
        "id": "89lxEMTBYVuQ"
      },
      "source": [
        "# 2. Solve the DO problem via DOcplex"
      ]
    },
    {
      "cell_type": "code",
      "metadata": {
        "id": "UIfEsCTjYVuQ"
      },
      "source": [
        "#If you get an error you may have to restart the runtime\n",
        "import cplex\n",
        "import docplex.mp\n",
        "from docplex.mp.model import Model"
      ],
      "execution_count": 4,
      "outputs": []
    },
    {
      "cell_type": "code",
      "metadata": {
        "id": "QyDnKO0VRW2r"
      },
      "source": [
        "global output_lock\n",
        "#with output_lock:\n",
        "\n",
        "try:  \n",
        "  if output_lock:\n",
        "    print(output_lock)\n",
        "except:\n",
        "  output_lock=dict({'output_lock':{}})\n",
        "\n",
        "try: \n",
        "  if outputs:\n",
        "    print(outputs)\n",
        "except:\n",
        "  outputs=dict()\n"
      ],
      "execution_count": 5,
      "outputs": []
    },
    {
      "cell_type": "code",
      "metadata": {
        "id": "QR6mPc1i4fpz",
        "colab": {
          "base_uri": "https://localhost:8080/"
        },
        "outputId": "c067dcbb-4f60-4bef-90bb-eb82313ad5a9"
      },
      "source": [
        "exec(open(\"./model.py\").read())"
      ],
      "execution_count": 6,
      "outputs": [
        {
          "output_type": "stream",
          "text": [
            "* building wado model\n",
            "model building done in 0.07520079612731934 secs\n",
            "* running wado model\n",
            "Version identifier: 20.1.0.0 | 2020-11-11 | 9bedb6d68\n",
            "CPXPARAM_Read_DataCheck                          1\n",
            "CPXPARAM_TimeLimit                               120\n",
            "Found incumbent of value 0.000000 after 0.00 sec. (0.00 ticks)\n",
            "Tried aggregator 1 time.\n",
            "MIP Presolve eliminated 20 rows and 12 columns.\n",
            "All rows and columns eliminated.\n",
            "Presolve time = 0.01 sec. (0.01 ticks)\n",
            "\n",
            "Root node processing (before b&c):\n",
            "  Real time             =    0.01 sec. (0.01 ticks)\n",
            "Parallel b&c, 2 threads:\n",
            "  Real time             =    0.00 sec. (0.00 ticks)\n",
            "  Sync time (average)   =    0.00 sec.\n",
            "  Wait time (average)   =    0.00 sec.\n",
            "                          ------------\n",
            "Total (root+branch&cut) =    0.01 sec. (0.01 ticks)\n",
            "Solve status: JobSolveStatus.OPTIMAL_SOLUTION\n",
            "* model docplex_model1 solved with objective = -105680.000\n",
            "*  KPI: total plants allocations                  = 112640.000\n",
            "*  KPI: total Cost of plants over all allocations = 6960.000\n",
            "model solve done in 0.0403599739074707 secs\n",
            "solution export done in 0.03220534324645996 secs\n"
          ],
          "name": "stdout"
        }
      ]
    },
    {
      "cell_type": "code",
      "metadata": {
        "id": "oT2QEZYAX97y",
        "colab": {
          "base_uri": "https://localhost:8080/"
        },
        "outputId": "c9b5a821-6d1c-451c-bad8-e09267512d92"
      },
      "source": [
        "outputs\n"
      ],
      "execution_count": 7,
      "outputs": [
        {
          "output_type": "execute_result",
          "data": {
            "text/plain": [
              "{'plantsAllocation':    plants  ...  plants minValueAllocationForAssignment\n",
              " 0       1  ...                                       0\n",
              " 1       2  ...                                       0\n",
              " 2       3  ...                                       0\n",
              " 3       4  ...                                       0\n",
              " 4       5  ...                                       0\n",
              " 5       6  ...                                       0\n",
              " \n",
              " [6 rows x 7 columns]}"
            ]
          },
          "metadata": {
            "tags": []
          },
          "execution_count": 7
        }
      ]
    },
    {
      "cell_type": "code",
      "metadata": {
        "id": "TiWDpfHILzSo",
        "colab": {
          "base_uri": "https://localhost:8080/",
          "height": 269
        },
        "outputId": "9fda888f-8b9a-4af6-f50f-e4c319e85ed7"
      },
      "source": [
        "outputs['plantsAllocation']"
      ],
      "execution_count": 8,
      "outputs": [
        {
          "output_type": "execute_result",
          "data": {
            "text/html": [
              "<div>\n",
              "<style scoped>\n",
              "    .dataframe tbody tr th:only-of-type {\n",
              "        vertical-align: middle;\n",
              "    }\n",
              "\n",
              "    .dataframe tbody tr th {\n",
              "        vertical-align: top;\n",
              "    }\n",
              "\n",
              "    .dataframe thead th {\n",
              "        text-align: right;\n",
              "    }\n",
              "</style>\n",
              "<table border=\"1\" class=\"dataframe\">\n",
              "  <thead>\n",
              "    <tr style=\"text-align: right;\">\n",
              "      <th></th>\n",
              "      <th>plants</th>\n",
              "      <th>plants allocation decision</th>\n",
              "      <th>plants selection decision</th>\n",
              "      <th>plants Capacity</th>\n",
              "      <th>plants Product</th>\n",
              "      <th>plants Cost</th>\n",
              "      <th>plants minValueAllocationForAssignment</th>\n",
              "    </tr>\n",
              "  </thead>\n",
              "  <tbody>\n",
              "    <tr>\n",
              "      <th>0</th>\n",
              "      <td>1</td>\n",
              "      <td>0.0</td>\n",
              "      <td>1.0</td>\n",
              "      <td>40</td>\n",
              "      <td>mask</td>\n",
              "      <td>3</td>\n",
              "      <td>0</td>\n",
              "    </tr>\n",
              "    <tr>\n",
              "      <th>1</th>\n",
              "      <td>2</td>\n",
              "      <td>15.0</td>\n",
              "      <td>1.0</td>\n",
              "      <td>30</td>\n",
              "      <td>mask</td>\n",
              "      <td>2</td>\n",
              "      <td>0</td>\n",
              "    </tr>\n",
              "    <tr>\n",
              "      <th>2</th>\n",
              "      <td>3</td>\n",
              "      <td>30.0</td>\n",
              "      <td>1.0</td>\n",
              "      <td>30</td>\n",
              "      <td>handSanitizer</td>\n",
              "      <td>1</td>\n",
              "      <td>0</td>\n",
              "    </tr>\n",
              "    <tr>\n",
              "      <th>3</th>\n",
              "      <td>4</td>\n",
              "      <td>70.0</td>\n",
              "      <td>1.0</td>\n",
              "      <td>100</td>\n",
              "      <td>handSanitizer</td>\n",
              "      <td>3</td>\n",
              "      <td>0</td>\n",
              "    </tr>\n",
              "    <tr>\n",
              "      <th>4</th>\n",
              "      <td>5</td>\n",
              "      <td>60.0</td>\n",
              "      <td>1.0</td>\n",
              "      <td>60</td>\n",
              "      <td>mask</td>\n",
              "      <td>2</td>\n",
              "      <td>0</td>\n",
              "    </tr>\n",
              "    <tr>\n",
              "      <th>5</th>\n",
              "      <td>6</td>\n",
              "      <td>45.0</td>\n",
              "      <td>1.0</td>\n",
              "      <td>45</td>\n",
              "      <td>mask</td>\n",
              "      <td>1</td>\n",
              "      <td>0</td>\n",
              "    </tr>\n",
              "  </tbody>\n",
              "</table>\n",
              "</div>"
            ],
            "text/plain": [
              "   plants  ...  plants minValueAllocationForAssignment\n",
              "0       1  ...                                       0\n",
              "1       2  ...                                       0\n",
              "2       3  ...                                       0\n",
              "3       4  ...                                       0\n",
              "4       5  ...                                       0\n",
              "5       6  ...                                       0\n",
              "\n",
              "[6 rows x 7 columns]"
            ]
          },
          "metadata": {
            "tags": []
          },
          "execution_count": 8
        }
      ]
    },
    {
      "cell_type": "code",
      "metadata": {
        "id": "Z7pXtDgMxKiX",
        "colab": {
          "base_uri": "https://localhost:8080/"
        },
        "outputId": "413fa2ac-ad66-48b0-f86c-ea92acd77716"
      },
      "source": [
        "model"
      ],
      "execution_count": 9,
      "outputs": [
        {
          "output_type": "execute_result",
          "data": {
            "text/plain": [
              "docplex.mp.Model['docplex_model1']"
            ]
          },
          "metadata": {
            "tags": []
          },
          "execution_count": 9
        }
      ]
    },
    {
      "cell_type": "code",
      "metadata": {
        "colab": {
          "base_uri": "https://localhost:8080/"
        },
        "id": "GJb3NIm38Iuz",
        "outputId": "6a66dc9c-c0e4-422f-b663-49d7c8f5eb1f"
      },
      "source": [
        "solution=model.solve()\n",
        "print(solution)\n",
        "solution"
      ],
      "execution_count": 10,
      "outputs": [
        {
          "output_type": "stream",
          "text": [
            "solution for: docplex_model1\n",
            "objective: -105680\n",
            "x2=15\n",
            "x3=30\n",
            "x4=70\n",
            "x5=60\n",
            "x6=45\n",
            "x7=1\n",
            "x8=1\n",
            "x9=1\n",
            "x10=1\n",
            "x11=1\n",
            "x12=1\n",
            "\n"
          ],
          "name": "stdout"
        },
        {
          "output_type": "execute_result",
          "data": {
            "text/plain": [
              "docplex.mp.solution.SolveSolution(obj=-105680,values={x2:15,x3:30,x4:70,.."
            ]
          },
          "metadata": {
            "tags": []
          },
          "execution_count": 10
        }
      ]
    },
    {
      "cell_type": "code",
      "metadata": {
        "id": "zHUJX4zh7DtO",
        "colab": {
          "base_uri": "https://localhost:8080/"
        },
        "outputId": "4a5d66b6-796b-4422-f6ca-38ba5b9b5b89"
      },
      "source": [
        "cost = solution.get_objective_value()\n",
        "x = solution.get_all_values()\n",
        "x = np.array(x)\n",
        "print(cost,x)"
      ],
      "execution_count": 11,
      "outputs": [
        {
          "output_type": "stream",
          "text": [
            "-105680.0 [ 0. 15. 30. 70. 60. 45.  1.  1.  1.  1.  1.  1.]\n"
          ],
          "name": "stdout"
        }
      ]
    },
    {
      "cell_type": "markdown",
      "metadata": {
        "id": "s5q263eZGVaP"
      },
      "source": [
        "#Minimum Eigen Optimizer example"
      ]
    },
    {
      "cell_type": "code",
      "metadata": {
        "id": "ab6VoroV3KP4",
        "colab": {
          "base_uri": "https://localhost:8080/"
        },
        "outputId": "1a2a3d1d-9142-4686-8847-0fa86c5a1fe7"
      },
      "source": [
        "#https://quantum-computing.ibm.com/lab/docs/iql/optimization\n",
        "\n",
        "from qiskit import BasicAer\n",
        "from qiskit.aqua import aqua_globals, QuantumInstance\n",
        "from qiskit.aqua.algorithms import QAOA, NumPyMinimumEigensolver\n",
        "from qiskit.optimization.algorithms import MinimumEigenOptimizer, RecursiveMinimumEigenOptimizer\n",
        "from qiskit.optimization import QuadraticProgram\n",
        "\n",
        "aqua_globals.random_seed = 10598\n",
        "quantum_instance = QuantumInstance(BasicAer.get_backend('statevector_simulator'),\n",
        "                                   seed_simulator=aqua_globals.random_seed,\n",
        "                                   seed_transpiler=aqua_globals.random_seed)\n",
        "qaoa_mes = QAOA(quantum_instance=quantum_instance, initial_point=[0., 0.])\n",
        "exact_mes = NumPyMinimumEigensolver()\n",
        "\n",
        "qaoa = MinimumEigenOptimizer(qaoa_mes)   # using QAOA\n",
        "exact = MinimumEigenOptimizer(exact_mes)  # using the exact classical numpy minimum eigen solver\n",
        "rqaoa = RecursiveMinimumEigenOptimizer(min_eigen_optimizer=qaoa, min_num_vars=1, min_num_vars_optimizer=exact)\n"
      ],
      "execution_count": 12,
      "outputs": [
        {
          "output_type": "stream",
          "text": [
            "/usr/local/lib/python3.7/dist-packages/qiskit/aqua/__init__.py:86: DeprecationWarning: The package qiskit.aqua is deprecated. It was moved/refactored to qiskit-terra For more information see <https://github.com/Qiskit/qiskit-aqua/blob/main/README.md#migration-guide>\n",
            "  warn_package('aqua', 'qiskit-terra')\n",
            "/usr/local/lib/python3.7/dist-packages/qiskit/optimization/__init__.py:92: DeprecationWarning: The package qiskit.optimization is deprecated. It was moved/refactored to qiskit_optimization (pip install qiskit-optimization). For more information see <https://github.com/Qiskit/qiskit-aqua/blob/main/README.md#migration-guide>\n",
            "  warn_package('optimization', 'qiskit_optimization', 'qiskit-optimization')\n",
            "/usr/local/lib/python3.7/dist-packages/ipykernel_launcher.py:9: DeprecationWarning: The variable qiskit.aqua.aqua_globals is deprecated. It was moved/refactored to qiskit.utils.algorithm_globals (pip install qiskit-terra). For more information see <https://github.com/Qiskit/qiskit-aqua/blob/main/README.md#migration-guide>\n",
            "  if __name__ == '__main__':\n",
            "/usr/local/lib/python3.7/dist-packages/qiskit/aqua/quantum_instance.py:137: DeprecationWarning: The class qiskit.aqua.QuantumInstance is deprecated. It was moved/refactored to qiskit.utils.QuantumInstance (pip install qiskit-terra). For more information see <https://github.com/Qiskit/qiskit-aqua/blob/main/README.md#migration-guide>\n",
            "  'qiskit-terra')\n",
            "/usr/local/lib/python3.7/dist-packages/qiskit/aqua/components/optimizers/optimizer.py:50: DeprecationWarning: The package qiskit.aqua.components.optimizers is deprecated. It was moved/refactored to qiskit.algorithms.optimizers (pip install qiskit-terra). For more information see <https://github.com/Qiskit/qiskit-aqua/blob/main/README.md#migration-guide>\n",
            "  'qiskit.algorithms.optimizers', 'qiskit-terra')\n",
            "/usr/local/lib/python3.7/dist-packages/qiskit/aqua/algorithms/vq_algorithm.py:72: DeprecationWarning: The class qiskit.aqua.algorithms.VQAlgorithm is deprecated. It was moved/refactored to qiskit.algorithms.VariationalAlgorithm (pip install qiskit-terra). For more information see <https://github.com/Qiskit/qiskit-aqua/blob/main/README.md#migration-guide>\n",
            "  'qiskit-terra')\n",
            "/usr/local/lib/python3.7/dist-packages/qiskit/aqua/algorithms/minimum_eigen_solvers/minimum_eigen_solver.py:38: DeprecationWarning: The package qiskit.aqua.algorithms.minimum_eigen_solvers is deprecated. It was moved/refactored to qiskit.algorithms.minimum_eigen_solvers (pip install qiskit-terra). For more information see <https://github.com/Qiskit/qiskit-aqua/blob/main/README.md#migration-guide>\n",
            "  'qiskit-terra')\n",
            "/usr/local/lib/python3.7/dist-packages/qiskit/aqua/algorithms/eigen_solvers/eigen_solver.py:38: DeprecationWarning: The package qiskit.aqua.algorithms.eigen_solvers is deprecated. It was moved/refactored to qiskit.algorithms.eigen_solvers (pip install qiskit-terra). For more information see <https://github.com/Qiskit/qiskit-aqua/blob/main/README.md#migration-guide>\n",
            "  'qiskit-terra')\n"
          ],
          "name": "stderr"
        }
      ]
    },
    {
      "cell_type": "code",
      "metadata": {
        "colab": {
          "base_uri": "https://localhost:8080/"
        },
        "id": "ANdqD_Mn4SyL",
        "outputId": "290ef00a-0224-4df1-c9ed-c63997e14825"
      },
      "source": [
        "# create a QUBO\n",
        "qubo = QuadraticProgram()\n",
        "qubo.binary_var('x')\n",
        "qubo.binary_var('y')\n",
        "qubo.binary_var('z')\n",
        "qubo.minimize(linear=[1,-2,3], quadratic={('x', 'y'): 1, ('x', 'z'): -1, ('y', 'z'): 2})\n",
        "print(qubo.export_as_lp_string())"
      ],
      "execution_count": 13,
      "outputs": [
        {
          "output_type": "stream",
          "text": [
            "\\ This file has been generated by DOcplex\n",
            "\\ ENCODING=ISO-8859-1\n",
            "\\Problem name: CPLEX\n",
            "\n",
            "Minimize\n",
            " obj: x - 2 y + 3 z + [ 2 x*y - 2 x*z + 4 y*z ]/2\n",
            "Subject To\n",
            "\n",
            "Bounds\n",
            " 0 <= x <= 1\n",
            " 0 <= y <= 1\n",
            " 0 <= z <= 1\n",
            "\n",
            "Binaries\n",
            " x y z\n",
            "End\n",
            "\n"
          ],
          "name": "stdout"
        }
      ]
    },
    {
      "cell_type": "code",
      "metadata": {
        "colab": {
          "base_uri": "https://localhost:8080/"
        },
        "id": "G6l8RUow3uPN",
        "outputId": "bb3bebc0-6139-420d-a1fe-d757845c5e96"
      },
      "source": [
        "%time exact_result = exact.solve(qubo)\n",
        "print(exact_result)"
      ],
      "execution_count": 14,
      "outputs": [
        {
          "output_type": "stream",
          "text": [
            "CPU times: user 30 ms, sys: 207 µs, total: 30.2 ms\n",
            "Wall time: 28.9 ms\n",
            "optimal function value: -2.0\n",
            "optimal value: [0. 1. 0.]\n",
            "status: SUCCESS\n"
          ],
          "name": "stdout"
        },
        {
          "output_type": "stream",
          "text": [
            "/usr/local/lib/python3.7/dist-packages/qiskit/aqua/operators/operator_base.py:46: DeprecationWarning: The package qiskit.aqua.operators is deprecated. It was moved/refactored to qiskit.opflow (pip install qiskit-terra). For more information see <https://github.com/Qiskit/qiskit-aqua/blob/main/README.md#migration-guide>\n",
            "  warn_package('aqua.operators', 'qiskit.opflow', 'qiskit-terra')\n"
          ],
          "name": "stderr"
        }
      ]
    },
    {
      "cell_type": "code",
      "metadata": {
        "id": "WbXFiLhT4hML"
      },
      "source": [
        "op, offset = qubo.to_ising()\n",
        "qp=QuadraticProgram()\n",
        "qp.from_ising(op, offset, linear=True)"
      ],
      "execution_count": 15,
      "outputs": []
    },
    {
      "cell_type": "code",
      "metadata": {
        "colab": {
          "base_uri": "https://localhost:8080/"
        },
        "id": "L8xtWbCa4vSE",
        "outputId": "20ce7335-aac3-4a3b-e672-0590d4aa26ee"
      },
      "source": [
        "%time exact_result = exact.solve(qp)\n",
        "print(exact_result)"
      ],
      "execution_count": 16,
      "outputs": [
        {
          "output_type": "stream",
          "text": [
            "CPU times: user 19.5 ms, sys: 327 µs, total: 19.8 ms\n",
            "Wall time: 21.4 ms\n",
            "optimal function value: -2.0\n",
            "optimal value: [0. 1. 0.]\n",
            "status: SUCCESS\n"
          ],
          "name": "stdout"
        }
      ]
    },
    {
      "cell_type": "code",
      "metadata": {
        "colab": {
          "base_uri": "https://localhost:8080/"
        },
        "id": "8y54vrkE49gp",
        "outputId": "32aa95e2-1a9f-46b4-d9df-79ed8f846846"
      },
      "source": [
        "%time qaoa_result = qaoa.solve(qubo)\n",
        "print(qaoa_result)"
      ],
      "execution_count": 17,
      "outputs": [
        {
          "output_type": "stream",
          "text": [
            "/usr/local/lib/python3.7/dist-packages/qiskit/aqua/components/variational_forms/variational_form.py:48: DeprecationWarning: The package qiskit.aqua.components.variational_forms is deprecated. For more information see <https://github.com/Qiskit/qiskit-aqua/blob/main/README.md#migration-guide>\n",
            "  warn_package('aqua.components.variational_forms')\n"
          ],
          "name": "stderr"
        },
        {
          "output_type": "stream",
          "text": [
            "CPU times: user 386 ms, sys: 44.6 ms, total: 430 ms\n",
            "Wall time: 444 ms\n",
            "optimal function value: -2.0\n",
            "optimal value: [0. 1. 0.]\n",
            "status: SUCCESS\n"
          ],
          "name": "stdout"
        }
      ]
    },
    {
      "cell_type": "code",
      "metadata": {
        "colab": {
          "base_uri": "https://localhost:8080/"
        },
        "id": "2utomO5C5YeB",
        "outputId": "bf8e07c1-0be3-4df8-9453-e90abe1c8e02"
      },
      "source": [
        "%time rqaoa_result = rqaoa.solve(qubo)\n",
        "print(rqaoa_result)"
      ],
      "execution_count": 18,
      "outputs": [
        {
          "output_type": "stream",
          "text": [
            "CPU times: user 273 ms, sys: 19.5 ms, total: 293 ms\n",
            "Wall time: 274 ms\n",
            "optimal function value: -2.0\n",
            "optimal value: [0. 1. 0.]\n",
            "status: SUCCESS\n"
          ],
          "name": "stdout"
        }
      ]
    },
    {
      "cell_type": "markdown",
      "metadata": {
        "id": "wxzevubBUwLu"
      },
      "source": [
        "#Try Grover Optimizer"
      ]
    },
    {
      "cell_type": "code",
      "metadata": {
        "id": "Cy1FE4DCU5-A"
      },
      "source": [
        "from qiskit.aqua.algorithms import NumPyMinimumEigensolver\n",
        "from qiskit.optimization.algorithms import GroverOptimizer, MinimumEigenOptimizer\n",
        "from qiskit.optimization.problems import QuadraticProgram\n",
        "from qiskit import BasicAer\n",
        "from docplex.mp.model import Model\n",
        "\n",
        "backend = BasicAer.get_backend('statevector_simulator')\n",
        "grover_optimizer = GroverOptimizer(6, num_iterations=10, quantum_instance=backend)\n"
      ],
      "execution_count": 19,
      "outputs": []
    },
    {
      "cell_type": "code",
      "metadata": {
        "id": "op7B8DOcVCj3",
        "colab": {
          "base_uri": "https://localhost:8080/"
        },
        "outputId": "1f0633c4-e072-4cca-9b33-f70ed5d0ebeb"
      },
      "source": [
        "%time results = grover_optimizer.solve(qp)#qubo or qp\n",
        "print(\"x={}\".format(results.x))\n",
        "print(\"fval={}\".format(results.fval))"
      ],
      "execution_count": 20,
      "outputs": [
        {
          "output_type": "stream",
          "text": [
            "/usr/local/lib/python3.7/dist-packages/qiskit/aqua/algorithms/amplitude_amplifiers/grover.py:216: DeprecationWarning: The package qiskit.aqua.algorithms.amplitude_amplifiers is deprecated. It was moved/refactored to qiskit.algorithms.amplitude_amplifiers (pip install qiskit-terra). For more information see <https://github.com/Qiskit/qiskit-aqua/blob/main/README.md#migration-guide>\n",
            "  'qiskit.algorithms.amplitude_amplifiers', 'qiskit-terra')\n"
          ],
          "name": "stderr"
        },
        {
          "output_type": "stream",
          "text": [
            "CPU times: user 53.6 s, sys: 2.2 s, total: 55.8 s\n",
            "Wall time: 51.8 s\n",
            "x=[0. 1. 0.]\n",
            "fval=-2.0\n"
          ],
          "name": "stdout"
        }
      ]
    },
    {
      "cell_type": "code",
      "metadata": {
        "colab": {
          "base_uri": "https://localhost:8080/"
        },
        "id": "amMIXqXADYuw",
        "outputId": "7c3e81b0-ed23-42ff-fd99-ee1bc2b120d4"
      },
      "source": [
        "%time results = grover_optimizer.solve(qubo)#qubo or qp\n",
        "print(\"x={}\".format(results.x))\n",
        "print(\"fval={}\".format(results.fval))"
      ],
      "execution_count": 21,
      "outputs": [
        {
          "output_type": "stream",
          "text": [
            "CPU times: user 59.8 s, sys: 2.35 s, total: 1min 2s\n",
            "Wall time: 57.8 s\n",
            "x=[0. 1. 0.]\n",
            "fval=-2.0\n"
          ],
          "name": "stdout"
        }
      ]
    },
    {
      "cell_type": "markdown",
      "metadata": {
        "id": "3SDl5IkWMFQr"
      },
      "source": [
        "#Try ADMM Optimizer\n"
      ]
    },
    {
      "cell_type": "code",
      "metadata": {
        "id": "Pb2LNiKgMx3t"
      },
      "source": [
        "import time\n",
        "from typing import List, Optional, Any\n",
        "import numpy as np\n",
        "import matplotlib.pyplot as plt \n",
        "\n",
        "from docplex.mp.model import Model\n",
        "\n",
        "from qiskit import BasicAer\n",
        "from qiskit.aqua.algorithms import QAOA, NumPyMinimumEigensolver\n",
        "from qiskit.optimization.algorithms import CobylaOptimizer, MinimumEigenOptimizer\n",
        "from qiskit.optimization.problems import QuadraticProgram\n",
        "from qiskit.optimization.algorithms.admm_optimizer import ADMMParameters, ADMMOptimizer\n",
        "\n",
        "# If CPLEX is installed, you can uncomment this line to import the CplexOptimizer.\n",
        "# CPLEX can be used in this tutorial to solve the convex continuous problem, \n",
        "# but also as a reference to solve the QUBO, or even the full problem.\n",
        "# \n",
        "from qiskit.optimization.algorithms import CplexOptimizer"
      ],
      "execution_count": 53,
      "outputs": []
    },
    {
      "cell_type": "code",
      "metadata": {
        "id": "FjH7FontM2sY"
      },
      "source": [
        "# define COBYLA optimizer to handle convex continuous problems.\n",
        "cobyla = CobylaOptimizer()\n",
        "\n",
        "# define QAOA via the minimum eigen optimizer\n",
        "qaoa = MinimumEigenOptimizer(QAOA(quantum_instance=BasicAer.get_backend('statevector_simulator')))\n",
        "\n",
        "# exact QUBO solver as classical benchmark\n",
        "exact = MinimumEigenOptimizer(NumPyMinimumEigensolver()) # to solve QUBOs\n"
      ],
      "execution_count": 54,
      "outputs": []
    },
    {
      "cell_type": "code",
      "metadata": {
        "id": "PAL07KTjQbW0",
        "colab": {
          "base_uri": "https://localhost:8080/"
        },
        "outputId": "047edcf3-f4b3-4266-c481-57673fbfab68"
      },
      "source": [
        "print(qubo)"
      ],
      "execution_count": 55,
      "outputs": [
        {
          "output_type": "stream",
          "text": [
            "\\ This file has been generated by DOcplex\n",
            "\\ ENCODING=ISO-8859-1\n",
            "\\Problem name: CPLEX\n",
            "\n",
            "Minimize\n",
            " obj: x - 2 y + 3 z + [ 2 x*y - 2 x*z + 4 y*z ]/2\n",
            "Subject To\n",
            "\n",
            "Bounds\n",
            " 0 <= x <= 1\n",
            " 0 <= y <= 1\n",
            " 0 <= z <= 1\n",
            "\n",
            "Binaries\n",
            " x y z\n",
            "End\n",
            "\n"
          ],
          "name": "stdout"
        }
      ]
    },
    {
      "cell_type": "code",
      "metadata": {
        "id": "0eYHQLwHNBt0"
      },
      "source": [
        "admm_params = ADMMParameters(\n",
        "                            rho_initial=1001, \n",
        "                            beta=1000, \n",
        "                            factor_c=900,\n",
        "                            maxiter=100,\n",
        "                            three_block=True, tol=1.e-6\n",
        "                        )"
      ],
      "execution_count": 56,
      "outputs": []
    },
    {
      "cell_type": "code",
      "metadata": {
        "id": "LurKAKN2NJWe",
        "colab": {
          "base_uri": "https://localhost:8080/"
        },
        "outputId": "16e5e01b-3840-4795-f9a6-3ed66ccfedc1"
      },
      "source": [
        "# in case CPLEX is installed it can also be used for the convex problems, the QUBO, \n",
        "# or as a benchmark for the full problem.\n",
        "#\n",
        "cplex = CplexOptimizer()\n",
        "\n",
        "# define QUBO optimizer\n",
        "# qubo_optimizer = exact #qaoa #rqaoa #grover_optimizer\n",
        "\n",
        "# qubo_optimizer = cplex  # uncomment to use CPLEX instead\n",
        "\n",
        "i=-1\n",
        "optms=['cplex','exact','qaoa','rqaoa']\n",
        "for qubo_optimizer in [cplex,exact,qaoa,rqaoa]:\n",
        "\n",
        "  # define classical optimizer\n",
        "  #convex_optimizer = cobyla\n",
        "  convex_optimizer = cplex  # uncomment to use CPLEX instead\n",
        "\n",
        "  # initialize ADMM with classical QUBO and convex optimizer\n",
        "  admm = ADMMOptimizer(params=admm_params, \n",
        "                      qubo_optimizer=qubo_optimizer,\n",
        "                      continuous_optimizer=convex_optimizer)\n",
        "\n",
        "  # run ADMM to solve problem\n",
        "  i+=1\n",
        "  print(\"\\nOptimizer:\",optms[i])\n",
        "  %time result = admm.solve(qubo)\n",
        "  print(\"x={}\".format(result.x))\n",
        "  print(\"fval={:.2f}\".format(result.fval))"
      ],
      "execution_count": 67,
      "outputs": [
        {
          "output_type": "stream",
          "text": [
            "\n",
            "Optimizer: cplex\n",
            "CPU times: user 108 ms, sys: 139 ms, total: 246 ms\n",
            "Wall time: 373 ms\n",
            "x=[0. 0. 0.]\n",
            "fval=0.00\n",
            "\n",
            "Optimizer: exact\n",
            "CPU times: user 430 ms, sys: 136 ms, total: 566 ms\n",
            "Wall time: 678 ms\n",
            "x=[0. 0. 0.]\n",
            "fval=0.00\n",
            "\n",
            "Optimizer: qaoa\n",
            "CPU times: user 583 ms, sys: 125 ms, total: 708 ms\n",
            "Wall time: 779 ms\n",
            "x=[0. 0. 0.]\n",
            "fval=0.00\n",
            "\n",
            "Optimizer: rqaoa\n",
            "CPU times: user 4.31 s, sys: 892 ms, total: 5.2 s\n",
            "Wall time: 5.9 s\n",
            "x=[0. 1. 0.]\n",
            "fval=-2.00\n"
          ],
          "name": "stdout"
        }
      ]
    },
    {
      "cell_type": "code",
      "metadata": {
        "id": "kiet4aWXNPk0",
        "colab": {
          "base_uri": "https://localhost:8080/"
        },
        "outputId": "67a6ac54-38b8-4a79-cc41-fdb0cf39977d"
      },
      "source": [
        "# run ADMM to solve problem\n",
        "%time result = admm.solve(qp)\n",
        "print(\"x={}\".format(result.x))\n",
        "print(\"fval={:.2f}\".format(result.fval))"
      ],
      "execution_count": 68,
      "outputs": [
        {
          "output_type": "stream",
          "text": [
            "CPU times: user 1.49 s, sys: 356 ms, total: 1.85 s\n",
            "Wall time: 2.17 s\n",
            "x=[0. 1. 0.]\n",
            "fval=-2.00\n"
          ],
          "name": "stdout"
        }
      ]
    },
    {
      "cell_type": "code",
      "metadata": {
        "id": "MU9qL_m2Nba_",
        "colab": {
          "base_uri": "https://localhost:8080/"
        },
        "outputId": "36076231-4bd8-4bb9-aac5-3fc7437cc6d1"
      },
      "source": [
        "%time result = admm.solve(qubo)\n",
        "print(\"x={}\".format(result.x))\n",
        "print(\"fval={:.2f}\".format(result.fval))"
      ],
      "execution_count": 69,
      "outputs": [
        {
          "output_type": "stream",
          "text": [
            "CPU times: user 4.52 s, sys: 1.05 s, total: 5.56 s\n",
            "Wall time: 6.32 s\n",
            "x=[0. 1. 0.]\n",
            "fval=-2.00\n"
          ],
          "name": "stdout"
        }
      ]
    },
    {
      "cell_type": "markdown",
      "metadata": {
        "id": "pou-xP5MYVuR"
      },
      "source": [
        "# 3. Solve the problem using QISKit"
      ]
    },
    {
      "cell_type": "code",
      "metadata": {
        "id": "wtwrodHZYVuR",
        "colab": {
          "base_uri": "https://localhost:8080/"
        },
        "outputId": "645166f7-a226-461c-98cf-750ef6c70a66"
      },
      "source": [
        "# take a look at https://quantum-computing.ibm.com/lab/docs/iql/optimization\n",
        "\n",
        "#from qiskit_optimization import QuadraticProgram\n",
        "#from qiskit_optimization.translators import from_docplex_mp\n",
        "\n",
        "from qiskit.optimization import QuadraticProgram\n",
        "\n",
        "# load from a Docplex model\n",
        "mod = QuadraticProgram()\n",
        "mod.from_docplex(model)\n",
        "print(mod.export_as_lp_string())"
      ],
      "execution_count": 70,
      "outputs": [
        {
          "output_type": "stream",
          "text": [
            "\\ This file has been generated by DOcplex\n",
            "\\ ENCODING=ISO-8859-1\n",
            "\\Problem name: docplex_model1\n",
            "\n",
            "Minimize\n",
            " obj: - 464 x0 - 480 x1 - 496 x2 - 464 x3 - 480 x4 - 496 x5\n",
            "Subject To\n",
            " _L_EXPR_1: x0 - 40 x6 <= 0\n",
            " _L_EXPR_2: x1 - 30 x7 <= 0\n",
            " _L_EXPR_3: x2 - 30 x8 <= 0\n",
            " _L_EXPR_4: x3 - 100 x9 <= 0\n",
            " _L_EXPR_5: x4 - 60 x10 <= 0\n",
            " _L_EXPR_6: x5 - 45 x11 <= 0\n",
            " _L_EXPR_7: x0 >= 0\n",
            " _L_EXPR_8: x1 >= 0\n",
            " _L_EXPR_9: x2 >= 0\n",
            " _L_EXPR_10: x3 >= 0\n",
            " _L_EXPR_11: x4 >= 0\n",
            " _L_EXPR_12: x5 >= 0\n",
            " _L_EXPR_13: x0 <= 40\n",
            " _L_EXPR_14: x1 <= 30\n",
            " _L_EXPR_15: x2 <= 30\n",
            " _L_EXPR_16: x3 <= 100\n",
            " _L_EXPR_17: x4 <= 60\n",
            " _L_EXPR_18: x5 <= 45\n",
            " _L_EXPR_19: x2 + x3 <= 100\n",
            " _L_EXPR_20: x0 + x1 + x4 + x5 <= 120\n",
            "\n",
            "Bounds\n",
            " 0 <= x6 <= 1\n",
            " 0 <= x7 <= 1\n",
            " 0 <= x8 <= 1\n",
            " 0 <= x9 <= 1\n",
            " 0 <= x10 <= 1\n",
            " 0 <= x11 <= 1\n",
            "\n",
            "Binaries\n",
            " x6 x7 x8 x9 x10 x11\n",
            "\n",
            "Generals\n",
            " x0 x1 x2 x3 x4 x5\n",
            "End\n",
            "\n"
          ],
          "name": "stdout"
        }
      ]
    },
    {
      "cell_type": "code",
      "metadata": {
        "colab": {
          "base_uri": "https://localhost:8080/"
        },
        "id": "7QsOma-VFkAk",
        "outputId": "3b194243-216f-4871-cfe9-031866b5dcc1"
      },
      "source": [
        "print('constant:\\t\\t\\t', mod.objective.constant)\n",
        "\n",
        "print('linear dict:\\t\\t\\t', mod.objective.linear.to_dict())\n",
        "print('linear array:\\t\\t\\t', mod.objective.linear.to_array())\n",
        "print('linear array as sparse matrix:\\n', mod.objective.linear.coefficients, '\\n')\n",
        "\n",
        "print('quadratic dict w/ index:\\t', mod.objective.quadratic.to_dict())\n",
        "print('quadratic dict w/ name:\\t\\t', mod.objective.quadratic.to_dict(use_name=True))\n",
        "print('symmetric quadratic dict w/ name:\\t', mod.objective.quadratic.to_dict(use_name=True, symmetric=True))\n",
        "print('quadratic matrix:\\n', mod.objective.quadratic.to_array(),'\\n')\n",
        "print('symmetric quadratic matrix:\\n', mod.objective.quadratic.to_array(symmetric=True),'\\n')\n",
        "print('quadratic matrix as sparse matrix:\\n', mod.objective.quadratic.coefficients)\n"
      ],
      "execution_count": 71,
      "outputs": [
        {
          "output_type": "stream",
          "text": [
            "constant:\t\t\t 0.0\n",
            "linear dict:\t\t\t {0: -464.0, 1: -480.0, 2: -496.0, 3: -464.0, 4: -480.0, 5: -496.0}\n",
            "linear array:\t\t\t [-464. -480. -496. -464. -480. -496.    0.    0.    0.    0.    0.    0.]\n",
            "linear array as sparse matrix:\n",
            "   (0, 0)\t-464.0\n",
            "  (0, 1)\t-480.0\n",
            "  (0, 2)\t-496.0\n",
            "  (0, 3)\t-464.0\n",
            "  (0, 4)\t-480.0\n",
            "  (0, 5)\t-496.0 \n",
            "\n",
            "quadratic dict w/ index:\t {}\n",
            "quadratic dict w/ name:\t\t {}\n",
            "symmetric quadratic dict w/ name:\t {}\n",
            "quadratic matrix:\n",
            " [[0. 0. 0. 0. 0. 0. 0. 0. 0. 0. 0. 0.]\n",
            " [0. 0. 0. 0. 0. 0. 0. 0. 0. 0. 0. 0.]\n",
            " [0. 0. 0. 0. 0. 0. 0. 0. 0. 0. 0. 0.]\n",
            " [0. 0. 0. 0. 0. 0. 0. 0. 0. 0. 0. 0.]\n",
            " [0. 0. 0. 0. 0. 0. 0. 0. 0. 0. 0. 0.]\n",
            " [0. 0. 0. 0. 0. 0. 0. 0. 0. 0. 0. 0.]\n",
            " [0. 0. 0. 0. 0. 0. 0. 0. 0. 0. 0. 0.]\n",
            " [0. 0. 0. 0. 0. 0. 0. 0. 0. 0. 0. 0.]\n",
            " [0. 0. 0. 0. 0. 0. 0. 0. 0. 0. 0. 0.]\n",
            " [0. 0. 0. 0. 0. 0. 0. 0. 0. 0. 0. 0.]\n",
            " [0. 0. 0. 0. 0. 0. 0. 0. 0. 0. 0. 0.]\n",
            " [0. 0. 0. 0. 0. 0. 0. 0. 0. 0. 0. 0.]] \n",
            "\n",
            "symmetric quadratic matrix:\n",
            " [[0. 0. 0. 0. 0. 0. 0. 0. 0. 0. 0. 0.]\n",
            " [0. 0. 0. 0. 0. 0. 0. 0. 0. 0. 0. 0.]\n",
            " [0. 0. 0. 0. 0. 0. 0. 0. 0. 0. 0. 0.]\n",
            " [0. 0. 0. 0. 0. 0. 0. 0. 0. 0. 0. 0.]\n",
            " [0. 0. 0. 0. 0. 0. 0. 0. 0. 0. 0. 0.]\n",
            " [0. 0. 0. 0. 0. 0. 0. 0. 0. 0. 0. 0.]\n",
            " [0. 0. 0. 0. 0. 0. 0. 0. 0. 0. 0. 0.]\n",
            " [0. 0. 0. 0. 0. 0. 0. 0. 0. 0. 0. 0.]\n",
            " [0. 0. 0. 0. 0. 0. 0. 0. 0. 0. 0. 0.]\n",
            " [0. 0. 0. 0. 0. 0. 0. 0. 0. 0. 0. 0.]\n",
            " [0. 0. 0. 0. 0. 0. 0. 0. 0. 0. 0. 0.]\n",
            " [0. 0. 0. 0. 0. 0. 0. 0. 0. 0. 0. 0.]] \n",
            "\n",
            "quadratic matrix as sparse matrix:\n",
            " \n"
          ],
          "name": "stdout"
        }
      ]
    },
    {
      "cell_type": "code",
      "metadata": {
        "id": "GnVKgsllsFAO"
      },
      "source": [
        "from qiskit.optimization.converters import QuadraticProgramToQubo\n",
        "conv = QuadraticProgramToQubo()\n",
        "mod_Qubo = conv.convert(mod)\n"
      ],
      "execution_count": 72,
      "outputs": []
    },
    {
      "cell_type": "code",
      "metadata": {
        "id": "wBlT79HlaF9b",
        "outputId": "f00b16b2-3b12-4673-a768-b0b4aea34963",
        "colab": {
          "base_uri": "https://localhost:8080/"
        }
      },
      "source": [
        "print('constant:\\t\\t\\t', mod_Qubo.objective.constant)\n",
        "print('linear array as sparse matrix:\\n', mod_Qubo.objective.linear.coefficients, '\\n')\n",
        "\n",
        "print('quadratic matrix as sparse matrix:\\n', mod_Qubo.objective.quadratic.coefficients)"
      ],
      "execution_count": 73,
      "outputs": [
        {
          "output_type": "stream",
          "text": [
            "constant:\t\t\t 1.25064e+28\n",
            "linear array as sparse matrix:\n",
            "   (0, 0)\t-9.216e+25\n",
            "  (0, 1)\t-1.8432e+26\n",
            "  (0, 2)\t-3.6864e+26\n",
            "  (0, 3)\t-7.3728e+26\n",
            "  (0, 4)\t-1.47456e+27\n",
            "  (0, 5)\t-2.94912e+27\n",
            "  (0, 6)\t-5.89824e+27\n",
            "  (0, 7)\t-1.179648e+28\n",
            "  (0, 8)\t-2.359296e+28\n",
            "  (0, 9)\t-4.718592e+28\n",
            "  (0, 10)\t-9.437184e+28\n",
            "  (0, 11)\t-1.8874368e+29\n",
            "  (0, 12)\t-3.7748736e+29\n",
            "  (0, 13)\t-7.5497472e+29\n",
            "  (0, 14)\t-1.50994944e+30\n",
            "  (0, 15)\t-3.01989888e+30\n",
            "  (0, 16)\t-6.03979776e+30\n",
            "  (0, 17)\t-1.207959552e+31\n",
            "  (0, 18)\t-2.415919104e+31\n",
            "  (0, 19)\t-4.831838208e+31\n",
            "  (0, 20)\t-9.663676416e+31\n",
            "  (0, 21)\t-1.9327352832e+32\n",
            "  (0, 22)\t-3.8654705664e+32\n",
            "  (0, 23)\t-7.7309411328e+32\n",
            "  (0, 24)\t-1.54618822656e+33\n",
            "  :\t:\n",
            "  (0, 869)\t-6.912e+25\n",
            "  (0, 870)\t-1.3824e+26\n",
            "  (0, 871)\t-2.7648e+26\n",
            "  (0, 872)\t-5.5296e+26\n",
            "  (0, 873)\t-1.00224e+27\n",
            "  (0, 874)\t-2.592e+25\n",
            "  (0, 875)\t-5.184e+25\n",
            "  (0, 876)\t-1.0368e+26\n",
            "  (0, 877)\t-2.0736e+26\n",
            "  (0, 878)\t-4.1472e+26\n",
            "  (0, 879)\t-3.6288e+26\n",
            "  (0, 880)\t-5.76e+25\n",
            "  (0, 881)\t-1.152e+26\n",
            "  (0, 882)\t-2.304e+26\n",
            "  (0, 883)\t-4.608e+26\n",
            "  (0, 884)\t-9.216e+26\n",
            "  (0, 885)\t-1.8432e+27\n",
            "  (0, 886)\t-2.1312e+27\n",
            "  (0, 887)\t-6.912e+25\n",
            "  (0, 888)\t-1.3824e+26\n",
            "  (0, 889)\t-2.7648e+26\n",
            "  (0, 890)\t-5.5296e+26\n",
            "  (0, 891)\t-1.10592e+27\n",
            "  (0, 892)\t-2.21184e+27\n",
            "  (0, 893)\t-3.9398400000000005e+27 \n",
            "\n",
            "quadratic matrix as sparse matrix:\n",
            "   (0, 0)\t1.152e+24\n",
            "  (0, 1)\t4.608e+24\n",
            "  (1, 1)\t4.608e+24\n",
            "  (0, 2)\t9.216e+24\n",
            "  (1, 2)\t1.8432e+25\n",
            "  (2, 2)\t1.8432e+25\n",
            "  (0, 3)\t1.8432e+25\n",
            "  (1, 3)\t3.6864e+25\n",
            "  (2, 3)\t7.3728e+25\n",
            "  (3, 3)\t7.3728e+25\n",
            "  (0, 4)\t3.6864e+25\n",
            "  (1, 4)\t7.3728e+25\n",
            "  (2, 4)\t1.47456e+26\n",
            "  (3, 4)\t2.94912e+26\n",
            "  (4, 4)\t2.94912e+26\n",
            "  (0, 5)\t7.3728e+25\n",
            "  (1, 5)\t1.47456e+26\n",
            "  (2, 5)\t2.94912e+26\n",
            "  (3, 5)\t5.89824e+26\n",
            "  (4, 5)\t1.179648e+27\n",
            "  (5, 5)\t1.179648e+27\n",
            "  (0, 6)\t1.47456e+26\n",
            "  (1, 6)\t2.94912e+26\n",
            "  (2, 6)\t5.89824e+26\n",
            "  (3, 6)\t1.179648e+27\n",
            "  :\t:\n",
            "  (384, 893)\t1.8482772870728516e+40\n",
            "  (385, 893)\t3.6965545741457033e+40\n",
            "  (386, 893)\t7.393109148291407e+40\n",
            "  (387, 893)\t1.4786218296582813e+41\n",
            "  (388, 893)\t2.9572436593165626e+41\n",
            "  (389, 893)\t5.914487318633125e+41\n",
            "  (390, 893)\t1.182897463726625e+42\n",
            "  (391, 893)\t2.36579492745325e+42\n",
            "  (392, 893)\t4.7315898549065e+42\n",
            "  (393, 893)\t9.463179709813e+42\n",
            "  (394, 893)\t1.8926359419626e+43\n",
            "  (395, 893)\t3.7852718839252e+43\n",
            "  (396, 893)\t7.5705437678504e+43\n",
            "  (397, 893)\t1.51410875357008e+44\n",
            "  (398, 893)\t3.02821750714016e+44\n",
            "  (399, 893)\t6.05643501428032e+44\n",
            "  (400, 893)\t1.211287002856064e+45\n",
            "  (401, 893)\t8.60625994287872e+44\n",
            "  (887, 893)\t3.2832e+25\n",
            "  (888, 893)\t6.5664e+25\n",
            "  (889, 893)\t1.31328e+26\n",
            "  (890, 893)\t2.62656e+26\n",
            "  (891, 893)\t5.25312e+26\n",
            "  (892, 893)\t1.050624e+27\n",
            "  (893, 893)\t9.35712e+26\n"
          ],
          "name": "stdout"
        }
      ]
    },
    {
      "cell_type": "code",
      "metadata": {
        "id": "GDjJ7iKIn7YM"
      },
      "source": [
        "op, offset = mod_Qubo.to_ising()\n",
        "QPI=QuadraticProgram()\n",
        "QPI.from_ising(op, offset, linear=True)"
      ],
      "execution_count": null,
      "outputs": []
    },
    {
      "cell_type": "code",
      "metadata": {
        "id": "dRjEsQ_Xomsz"
      },
      "source": [
        "print('constant:\\t\\t\\t', QPI.objective.constant)\n",
        "print('linear array as sparse matrix:\\n', QPI.objective.linear.coefficients, '\\n')\n",
        "\n",
        "print('quadratic matrix as sparse matrix:\\n', QPI.objective.quadratic.coefficients)"
      ],
      "execution_count": null,
      "outputs": []
    },
    {
      "cell_type": "code",
      "metadata": {
        "id": "NkoqR7rW6Sty"
      },
      "source": [
        "#exact, qaoa, rqaoa, grover_optimizer, admm\n",
        "%time result = admm.solve(mod_Qubo)\n",
        "\n",
        "print(result)"
      ],
      "execution_count": null,
      "outputs": []
    },
    {
      "cell_type": "markdown",
      "metadata": {
        "id": "DQAN0w9yjMy7"
      },
      "source": [
        "#Minimum Eigen Optimizer using VQE"
      ]
    },
    {
      "cell_type": "code",
      "metadata": {
        "id": "EenPYo1HjuGY"
      },
      "source": [
        "from qiskit.circuit.library import RealAmplitudes\n",
        "from qiskit.aqua.components.optimizers import COBYLA\n",
        "from qiskit.aqua.algorithms import NumPyMinimumEigensolver, VQE\n",
        "from qiskit.aqua.operators import PauliExpectation, CVaRExpectation\n",
        "from qiskit.optimization import QuadraticProgram\n",
        "from qiskit.optimization.converters import LinearEqualityToPenalty\n",
        "from qiskit.optimization.algorithms import MinimumEigenOptimizer\n",
        "from qiskit import execute, Aer\n",
        "from qiskit.aqua import aqua_globals\n",
        "\n",
        "import numpy as np\n",
        "import matplotlib.pyplot as plt\n",
        "from docplex.mp.model import Model"
      ],
      "execution_count": 20,
      "outputs": []
    },
    {
      "cell_type": "code",
      "metadata": {
        "id": "KHeXveFnjxn6"
      },
      "source": [
        "aqua_globals.random_seed = 123456\n",
        "n = 100            # number of assets for the variational ansatz"
      ],
      "execution_count": 22,
      "outputs": []
    },
    {
      "cell_type": "code",
      "metadata": {
        "id": "pOhPjURekQQ8"
      },
      "source": [
        "# set classical optimizer\n",
        "maxiter = 100\n",
        "optimizer = COBYLA(maxiter=maxiter)\n",
        "\n",
        "# set variational ansatz\n",
        "var_form = RealAmplitudes(n, reps=1)\n",
        "m = var_form.num_parameters\n",
        "\n",
        "# set backend\n",
        "backend_name = 'qasm_simulator'  # use this for QASM simulator\n",
        "# backend_name = 'statevector_simulator'  # use this for statevector simlator\n",
        "backend = Aer.get_backend(backend_name)  \n",
        "\n",
        "# run variational optimization for different values of alpha\n",
        "alphas = [1.0, 0.50, 0.25]  # confidence levels to be evaluated"
      ],
      "execution_count": 24,
      "outputs": []
    },
    {
      "cell_type": "code",
      "metadata": {
        "id": "w1LQoClyj4Yi"
      },
      "source": [
        "# dictionaries to store optimization progress and results\n",
        "objectives = {alpha: [] for alpha in alphas}  # set of tested objective functions w.r.t. alpha\n",
        "results = {}  # results of minimum eigensolver w.r.t alpha\n",
        "\n",
        "# callback to store intermediate results\n",
        "def callback(i, params, obj, stddev, alpha):\n",
        "    # we translate the objective from the internal Ising representation\n",
        "    # to the original optimization problem\n",
        "    objectives[alpha] += [-(obj + offset)]  \n",
        "\n",
        "# loop over all given alpha values\n",
        "for alpha in alphas:\n",
        "    \n",
        "    # initialize CVaR_alpha objective\n",
        "    cvar_exp = CVaRExpectation(alpha, PauliExpectation())\n",
        "    cvar_exp.compute_variance = lambda x: [0]  # to be fixed in PR #1373\n",
        "    \n",
        "    # initialize VQE using CVaR\n",
        "    vqe = VQE(expectation=cvar_exp, optimizer=optimizer, var_form=var_form, quantum_instance=backend,\n",
        "              callback=lambda i, params, obj, stddev: callback(i, params, obj, stddev, alpha))\n",
        "   \n",
        "    # initialize optimization algorithm based on CVaR-VQE\n",
        "    opt_alg = MinimumEigenOptimizer(vqe)\n",
        "\n",
        "    # solve problem\n",
        "    %time results[alpha] = opt_alg.solve(mod_Qubo) #VGG qp, mod, mod2, mod_Qubo\n",
        "    \n",
        "    # print results\n",
        "    print('alpha = {}:'.format(alpha))\n",
        "    print(results[alpha])\n",
        "    print()"
      ],
      "execution_count": null,
      "outputs": []
    },
    {
      "cell_type": "code",
      "metadata": {
        "id": "yISldJZwjpMG"
      },
      "source": [
        ""
      ],
      "execution_count": null,
      "outputs": []
    }
  ]
}