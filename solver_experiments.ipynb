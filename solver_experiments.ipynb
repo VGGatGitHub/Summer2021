{
  "nbformat": 4,
  "nbformat_minor": 0,
  "metadata": {
    "colab": {
      "name": "solver_experiments.ipynb",
      "provenance": [],
      "toc_visible": true,
      "include_colab_link": true
    },
    "kernelspec": {
      "display_name": "Python 3",
      "language": "python",
      "name": "python3"
    },
    "language_info": {
      "codemirror_mode": {
        "name": "ipython",
        "version": 3
      },
      "file_extension": ".py",
      "mimetype": "text/x-python",
      "name": "python",
      "nbconvert_exporter": "python",
      "pygments_lexer": "ipython3",
      "version": "3.7.6"
    }
  },
  "cells": [
    {
      "cell_type": "markdown",
      "metadata": {
        "id": "view-in-github",
        "colab_type": "text"
      },
      "source": [
        "<a href=\"https://colab.research.google.com/github/VGGatGitHub/Summer2021/blob/main/solver_experiments.ipynb\" target=\"_parent\"><img src=\"https://colab.research.google.com/assets/colab-badge.svg\" alt=\"Open In Colab\"/></a>"
      ]
    },
    {
      "cell_type": "markdown",
      "metadata": {
        "id": "rm4Kd0IfYVuK"
      },
      "source": [
        "Notebook experimenting how to use DOcplex and IBM Quantum."
      ]
    },
    {
      "cell_type": "markdown",
      "metadata": {
        "id": "TWpZnxqoxtCH"
      },
      "source": [
        "# 0. Install libraries & clone repo"
      ]
    },
    {
      "cell_type": "code",
      "metadata": {
        "id": "jjhGsa9LxtCJ"
      },
      "source": [
        "import sys\n",
        "\n",
        "if hasattr(sys, 'real_prefix'):\n",
        "    #we are in a virtual env.\n",
        "    !pip install cplex && pip install docplex\n",
        "else:\n",
        "    !pip install --user cplex && pip install --user docplex\n",
        "\n",
        "print()\n",
        "!pip show cplex\n",
        "print()\n",
        "!pip show docplex\n",
        "\n",
        "#it my be useful to retstart you runtime"
      ],
      "execution_count": null,
      "outputs": []
    },
    {
      "cell_type": "code",
      "metadata": {
        "id": "zeBTiUzOwgR_",
        "colab": {
          "base_uri": "https://localhost:8080/"
        },
        "outputId": "655fe4e7-a200-4b81-a9fa-f364120160e5"
      },
      "source": [
        "!pip show qiskit\n",
        "#!pip install qiskit\n",
        "\n",
        "# !pip install qiskit-optimization\n",
        "#!pip show qiskit-optimization\n",
        "\n",
        "#it my be useful to retstart you runtime"
      ],
      "execution_count": 3,
      "outputs": [
        {
          "output_type": "stream",
          "text": [
            "Name: qiskit\n",
            "Version: 0.29.0\n",
            "Summary: Software for developing quantum computing programs\n",
            "Home-page: https://github.com/Qiskit/qiskit\n",
            "Author: Qiskit Development Team\n",
            "Author-email: hello@qiskit.org\n",
            "License: Apache 2.0\n",
            "Location: /usr/local/lib/python3.7/dist-packages\n",
            "Requires: qiskit-aqua, qiskit-terra, qiskit-ignis, qiskit-ibmq-provider, qiskit-aer\n",
            "Required-by: \n"
          ],
          "name": "stdout"
        }
      ]
    },
    {
      "cell_type": "markdown",
      "metadata": {
        "id": "DMGKfSM9YVuM"
      },
      "source": [
        "Possibly need to restart runtime here."
      ]
    },
    {
      "cell_type": "code",
      "metadata": {
        "id": "RPk5nF4ZxtCJ",
        "colab": {
          "base_uri": "https://localhost:8080/"
        },
        "outputId": "26968286-37a2-4e38-925f-bd12648b23df"
      },
      "source": [
        "#it my be useful to retstart you runtime\n",
        "\n",
        "# clone repo\n",
        "!git clone https://github.com/VGGatGitHub/Summer2021.git"
      ],
      "execution_count": 1,
      "outputs": [
        {
          "output_type": "stream",
          "text": [
            "Cloning into 'Summer2021'...\n",
            "remote: Enumerating objects: 74, done.\u001b[K\n",
            "remote: Counting objects: 100% (74/74), done.\u001b[K\n",
            "remote: Compressing objects: 100% (60/60), done.\u001b[K\n",
            "remote: Total 74 (delta 27), reused 21 (delta 10), pack-reused 0\u001b[K\n",
            "Unpacking objects: 100% (74/74), done.\n"
          ],
          "name": "stdout"
        }
      ]
    },
    {
      "cell_type": "markdown",
      "metadata": {
        "id": "jFOO2BnFxtCM"
      },
      "source": [
        "# 1. Load Data"
      ]
    },
    {
      "cell_type": "code",
      "metadata": {
        "id": "y8U39lpVaWLJ",
        "colab": {
          "base_uri": "https://localhost:8080/"
        },
        "outputId": "1ea812b2-55a3-49b8-8df3-01cde4cc7d46"
      },
      "source": [
        "#next run the model.py in the folder introScenario\n",
        "!pwd\n",
        "%cd ./Summer2021/introScenario/\n",
        "#%ls\n"
      ],
      "execution_count": 1,
      "outputs": [
        {
          "output_type": "stream",
          "text": [
            "/content\n",
            "/content/Summer2021/introScenario\n"
          ],
          "name": "stdout"
        }
      ]
    },
    {
      "cell_type": "code",
      "metadata": {
        "id": "w5eQxjG1YVuP"
      },
      "source": [
        "import pandas as pd\n",
        "\n",
        "# supply + costs\n",
        "supply_file = './plants.csv'\n",
        "\n",
        "# demand\n",
        "demand_file = './customerDemand.csv'\n",
        "\n",
        "# for now load example data (plants.csv and customerDemand.csv under introScenario folder)\n",
        "s_df = pd.read_csv(supply_file)\n",
        "d_df = pd.read_csv(demand_file)"
      ],
      "execution_count": 2,
      "outputs": []
    },
    {
      "cell_type": "code",
      "metadata": {
        "id": "m3VwLMJr1wBE"
      },
      "source": [
        "inputs={'customerDemand':d_df,'plants':s_df}"
      ],
      "execution_count": 3,
      "outputs": []
    },
    {
      "cell_type": "markdown",
      "metadata": {
        "id": "89lxEMTBYVuQ"
      },
      "source": [
        "# 2. Solve the DO problem via DOcplex"
      ]
    },
    {
      "cell_type": "code",
      "metadata": {
        "id": "UIfEsCTjYVuQ"
      },
      "source": [
        "#If you get an error you may have to restart the runtime\n",
        "import cplex\n",
        "import docplex.mp\n",
        "from docplex.mp.model import Model"
      ],
      "execution_count": 4,
      "outputs": []
    },
    {
      "cell_type": "code",
      "metadata": {
        "id": "QyDnKO0VRW2r"
      },
      "source": [
        "global output_lock\n",
        "#with output_lock:\n",
        "\n",
        "try:  \n",
        "  if output_lock:\n",
        "    print(output_lock)\n",
        "except:\n",
        "  output_lock=dict({'output_lock':{}})\n",
        "\n",
        "try: \n",
        "  if outputs:\n",
        "    print(outputs)\n",
        "except:\n",
        "  outputs=dict()\n"
      ],
      "execution_count": 5,
      "outputs": []
    },
    {
      "cell_type": "code",
      "metadata": {
        "id": "QR6mPc1i4fpz",
        "colab": {
          "base_uri": "https://localhost:8080/"
        },
        "outputId": "88a1fd75-905a-4093-e0c4-09e5680531cb"
      },
      "source": [
        "exec(open(\"./model.py\").read())"
      ],
      "execution_count": 6,
      "outputs": [
        {
          "output_type": "stream",
          "text": [
            "* building wado model\n",
            "model building done in 0.07274937629699707 secs\n",
            "* running wado model\n",
            "Version identifier: 20.1.0.0 | 2020-11-11 | 9bedb6d68\n",
            "CPXPARAM_Read_DataCheck                          1\n",
            "CPXPARAM_TimeLimit                               120\n",
            "Found incumbent of value 0.000000 after 0.00 sec. (0.00 ticks)\n",
            "Tried aggregator 1 time.\n",
            "MIP Presolve eliminated 20 rows and 12 columns.\n",
            "All rows and columns eliminated.\n",
            "Presolve time = 0.00 sec. (0.01 ticks)\n",
            "\n",
            "Root node processing (before b&c):\n",
            "  Real time             =    0.01 sec. (0.01 ticks)\n",
            "Parallel b&c, 2 threads:\n",
            "  Real time             =    0.00 sec. (0.00 ticks)\n",
            "  Sync time (average)   =    0.00 sec.\n",
            "  Wait time (average)   =    0.00 sec.\n",
            "                          ------------\n",
            "Total (root+branch&cut) =    0.01 sec. (0.01 ticks)\n",
            "Solve status: JobSolveStatus.OPTIMAL_SOLUTION\n",
            "* model docplex_model1 solved with objective = -105680.000\n",
            "*  KPI: total plants allocations                  = 112640.000\n",
            "*  KPI: total Cost of plants over all allocations = 6960.000\n",
            "model solve done in 0.03514361381530762 secs\n",
            "solution export done in 0.03351855278015137 secs\n"
          ],
          "name": "stdout"
        }
      ]
    },
    {
      "cell_type": "code",
      "metadata": {
        "id": "oT2QEZYAX97y",
        "colab": {
          "base_uri": "https://localhost:8080/"
        },
        "outputId": "9ce0edcf-0c81-4511-85aa-50455707d012"
      },
      "source": [
        "outputs\n"
      ],
      "execution_count": 7,
      "outputs": [
        {
          "output_type": "execute_result",
          "data": {
            "text/plain": [
              "{'plantsAllocation':    plants  ...  plants minValueAllocationForAssignment\n",
              " 0       1  ...                                       0\n",
              " 1       2  ...                                       0\n",
              " 2       3  ...                                       0\n",
              " 3       4  ...                                       0\n",
              " 4       5  ...                                       0\n",
              " 5       6  ...                                       0\n",
              " \n",
              " [6 rows x 7 columns]}"
            ]
          },
          "metadata": {
            "tags": []
          },
          "execution_count": 7
        }
      ]
    },
    {
      "cell_type": "code",
      "metadata": {
        "id": "TiWDpfHILzSo",
        "colab": {
          "base_uri": "https://localhost:8080/",
          "height": 269
        },
        "outputId": "8716e68f-47ed-4b3e-f98a-c5a53dcf4b84"
      },
      "source": [
        "outputs['plantsAllocation']"
      ],
      "execution_count": 8,
      "outputs": [
        {
          "output_type": "execute_result",
          "data": {
            "text/html": [
              "<div>\n",
              "<style scoped>\n",
              "    .dataframe tbody tr th:only-of-type {\n",
              "        vertical-align: middle;\n",
              "    }\n",
              "\n",
              "    .dataframe tbody tr th {\n",
              "        vertical-align: top;\n",
              "    }\n",
              "\n",
              "    .dataframe thead th {\n",
              "        text-align: right;\n",
              "    }\n",
              "</style>\n",
              "<table border=\"1\" class=\"dataframe\">\n",
              "  <thead>\n",
              "    <tr style=\"text-align: right;\">\n",
              "      <th></th>\n",
              "      <th>plants</th>\n",
              "      <th>plants allocation decision</th>\n",
              "      <th>plants selection decision</th>\n",
              "      <th>plants Capacity</th>\n",
              "      <th>plants Product</th>\n",
              "      <th>plants Cost</th>\n",
              "      <th>plants minValueAllocationForAssignment</th>\n",
              "    </tr>\n",
              "  </thead>\n",
              "  <tbody>\n",
              "    <tr>\n",
              "      <th>0</th>\n",
              "      <td>1</td>\n",
              "      <td>0.0</td>\n",
              "      <td>1.0</td>\n",
              "      <td>40</td>\n",
              "      <td>mask</td>\n",
              "      <td>3</td>\n",
              "      <td>0</td>\n",
              "    </tr>\n",
              "    <tr>\n",
              "      <th>1</th>\n",
              "      <td>2</td>\n",
              "      <td>15.0</td>\n",
              "      <td>1.0</td>\n",
              "      <td>30</td>\n",
              "      <td>mask</td>\n",
              "      <td>2</td>\n",
              "      <td>0</td>\n",
              "    </tr>\n",
              "    <tr>\n",
              "      <th>2</th>\n",
              "      <td>3</td>\n",
              "      <td>30.0</td>\n",
              "      <td>1.0</td>\n",
              "      <td>30</td>\n",
              "      <td>handSanitizer</td>\n",
              "      <td>1</td>\n",
              "      <td>0</td>\n",
              "    </tr>\n",
              "    <tr>\n",
              "      <th>3</th>\n",
              "      <td>4</td>\n",
              "      <td>70.0</td>\n",
              "      <td>1.0</td>\n",
              "      <td>100</td>\n",
              "      <td>handSanitizer</td>\n",
              "      <td>3</td>\n",
              "      <td>0</td>\n",
              "    </tr>\n",
              "    <tr>\n",
              "      <th>4</th>\n",
              "      <td>5</td>\n",
              "      <td>60.0</td>\n",
              "      <td>1.0</td>\n",
              "      <td>60</td>\n",
              "      <td>mask</td>\n",
              "      <td>2</td>\n",
              "      <td>0</td>\n",
              "    </tr>\n",
              "    <tr>\n",
              "      <th>5</th>\n",
              "      <td>6</td>\n",
              "      <td>45.0</td>\n",
              "      <td>1.0</td>\n",
              "      <td>45</td>\n",
              "      <td>mask</td>\n",
              "      <td>1</td>\n",
              "      <td>0</td>\n",
              "    </tr>\n",
              "  </tbody>\n",
              "</table>\n",
              "</div>"
            ],
            "text/plain": [
              "   plants  ...  plants minValueAllocationForAssignment\n",
              "0       1  ...                                       0\n",
              "1       2  ...                                       0\n",
              "2       3  ...                                       0\n",
              "3       4  ...                                       0\n",
              "4       5  ...                                       0\n",
              "5       6  ...                                       0\n",
              "\n",
              "[6 rows x 7 columns]"
            ]
          },
          "metadata": {
            "tags": []
          },
          "execution_count": 8
        }
      ]
    },
    {
      "cell_type": "code",
      "metadata": {
        "id": "Z7pXtDgMxKiX",
        "colab": {
          "base_uri": "https://localhost:8080/"
        },
        "outputId": "db86b5fe-0ee8-4531-a238-8f6c57c0461f"
      },
      "source": [
        "model"
      ],
      "execution_count": 9,
      "outputs": [
        {
          "output_type": "execute_result",
          "data": {
            "text/plain": [
              "docplex.mp.Model['docplex_model1']"
            ]
          },
          "metadata": {
            "tags": []
          },
          "execution_count": 9
        }
      ]
    },
    {
      "cell_type": "code",
      "metadata": {
        "colab": {
          "base_uri": "https://localhost:8080/"
        },
        "id": "GJb3NIm38Iuz",
        "outputId": "6942708c-b892-47a6-cb8c-1b3ef82d4511"
      },
      "source": [
        "solution=model.solve()\n",
        "print(solution)\n",
        "solution"
      ],
      "execution_count": 10,
      "outputs": [
        {
          "output_type": "stream",
          "text": [
            "solution for: docplex_model1\n",
            "objective: -105680\n",
            "x2=15\n",
            "x3=30\n",
            "x4=70\n",
            "x5=60\n",
            "x6=45\n",
            "x7=1\n",
            "x8=1\n",
            "x9=1\n",
            "x10=1\n",
            "x11=1\n",
            "x12=1\n",
            "\n"
          ],
          "name": "stdout"
        },
        {
          "output_type": "execute_result",
          "data": {
            "text/plain": [
              "docplex.mp.solution.SolveSolution(obj=-105680,values={x2:15,x3:30,x4:70,.."
            ]
          },
          "metadata": {
            "tags": []
          },
          "execution_count": 10
        }
      ]
    },
    {
      "cell_type": "code",
      "metadata": {
        "id": "zHUJX4zh7DtO",
        "outputId": "b1272dd0-22fe-4d3a-dbfe-e59a9029d5a0",
        "colab": {
          "base_uri": "https://localhost:8080/"
        }
      },
      "source": [
        "cost = solution.get_objective_value()\n",
        "x = solution.get_all_values()\n",
        "x = np.array(x)\n",
        "print(cost,x)"
      ],
      "execution_count": 24,
      "outputs": [
        {
          "output_type": "stream",
          "text": [
            "-105680.0 [ 0. 15. 30. 70. 60. 45.  1.  1.  1.  1.  1.  1.]\n"
          ],
          "name": "stdout"
        }
      ]
    },
    {
      "cell_type": "markdown",
      "metadata": {
        "id": "s5q263eZGVaP"
      },
      "source": [
        "#Minimum Eigen Optimizer example"
      ]
    },
    {
      "cell_type": "code",
      "metadata": {
        "id": "ab6VoroV3KP4"
      },
      "source": [
        "#https://quantum-computing.ibm.com/lab/docs/iql/optimization\n",
        "\n",
        "from qiskit import BasicAer\n",
        "from qiskit.aqua import aqua_globals, QuantumInstance\n",
        "from qiskit.aqua.algorithms import QAOA, NumPyMinimumEigensolver\n",
        "from qiskit.optimization.algorithms import MinimumEigenOptimizer, RecursiveMinimumEigenOptimizer\n",
        "from qiskit.optimization import QuadraticProgram\n",
        "\n",
        "aqua_globals.random_seed = 10598\n",
        "quantum_instance = QuantumInstance(BasicAer.get_backend('statevector_simulator'),\n",
        "                                   seed_simulator=aqua_globals.random_seed,\n",
        "                                   seed_transpiler=aqua_globals.random_seed)\n",
        "qaoa_mes = QAOA(quantum_instance=quantum_instance, initial_point=[0., 0.])\n",
        "exact_mes = NumPyMinimumEigensolver()\n",
        "\n",
        "qaoa = MinimumEigenOptimizer(qaoa_mes)   # using QAOA\n",
        "exact = MinimumEigenOptimizer(exact_mes)  # using the exact classical numpy minimum eigen solver\n",
        "rqaoa = RecursiveMinimumEigenOptimizer(min_eigen_optimizer=qaoa, min_num_vars=1, min_num_vars_optimizer=exact)\n"
      ],
      "execution_count": null,
      "outputs": []
    },
    {
      "cell_type": "code",
      "metadata": {
        "colab": {
          "base_uri": "https://localhost:8080/"
        },
        "id": "ANdqD_Mn4SyL",
        "outputId": "68cdf39b-3f1c-4b04-9657-1dfbe32c1fd9"
      },
      "source": [
        "# create a QUBO\n",
        "qubo = QuadraticProgram()\n",
        "qubo.binary_var('x')\n",
        "qubo.binary_var('y')\n",
        "qubo.binary_var('z')\n",
        "qubo.minimize(linear=[1,-2,3], quadratic={('x', 'y'): 1, ('x', 'z'): -1, ('y', 'z'): 2})\n",
        "print(qubo.export_as_lp_string())"
      ],
      "execution_count": 26,
      "outputs": [
        {
          "output_type": "stream",
          "text": [
            "\\ This file has been generated by DOcplex\n",
            "\\ ENCODING=ISO-8859-1\n",
            "\\Problem name: CPLEX\n",
            "\n",
            "Minimize\n",
            " obj: x - 2 y + 3 z + [ 2 x*y - 2 x*z + 4 y*z ]/2\n",
            "Subject To\n",
            "\n",
            "Bounds\n",
            " 0 <= x <= 1\n",
            " 0 <= y <= 1\n",
            " 0 <= z <= 1\n",
            "\n",
            "Binaries\n",
            " x y z\n",
            "End\n",
            "\n"
          ],
          "name": "stdout"
        }
      ]
    },
    {
      "cell_type": "code",
      "metadata": {
        "colab": {
          "base_uri": "https://localhost:8080/"
        },
        "id": "G6l8RUow3uPN",
        "outputId": "01ec5874-4e7d-4a53-91c5-0a504afd4a22"
      },
      "source": [
        "%time exact_result = exact.solve(qubo)\n",
        "print(exact_result)"
      ],
      "execution_count": 27,
      "outputs": [
        {
          "output_type": "stream",
          "text": [
            "CPU times: user 21 ms, sys: 2.17 ms, total: 23.2 ms\n",
            "Wall time: 23 ms\n",
            "optimal function value: -2.0\n",
            "optimal value: [0. 1. 0.]\n",
            "status: SUCCESS\n"
          ],
          "name": "stdout"
        },
        {
          "output_type": "stream",
          "text": [
            "/usr/local/lib/python3.7/dist-packages/qiskit/aqua/operators/operator_base.py:46: DeprecationWarning: The package qiskit.aqua.operators is deprecated. It was moved/refactored to qiskit.opflow (pip install qiskit-terra). For more information see <https://github.com/Qiskit/qiskit-aqua/blob/main/README.md#migration-guide>\n",
            "  warn_package('aqua.operators', 'qiskit.opflow', 'qiskit-terra')\n"
          ],
          "name": "stderr"
        }
      ]
    },
    {
      "cell_type": "code",
      "metadata": {
        "id": "WbXFiLhT4hML"
      },
      "source": [
        "op, offset = qubo.to_ising()\n",
        "qp=QuadraticProgram()\n",
        "qp.from_ising(op, offset, linear=True)"
      ],
      "execution_count": 28,
      "outputs": []
    },
    {
      "cell_type": "code",
      "metadata": {
        "colab": {
          "base_uri": "https://localhost:8080/"
        },
        "id": "L8xtWbCa4vSE",
        "outputId": "95ff2f63-9cef-418d-ac8b-e4940461f655"
      },
      "source": [
        "%time exact_result = exact.solve(qp)\n",
        "print(exact_result)"
      ],
      "execution_count": 29,
      "outputs": [
        {
          "output_type": "stream",
          "text": [
            "CPU times: user 23.2 ms, sys: 6.48 ms, total: 29.7 ms\n",
            "Wall time: 29.5 ms\n",
            "optimal function value: -2.0\n",
            "optimal value: [0. 1. 0.]\n",
            "status: SUCCESS\n"
          ],
          "name": "stdout"
        }
      ]
    },
    {
      "cell_type": "code",
      "metadata": {
        "colab": {
          "base_uri": "https://localhost:8080/"
        },
        "id": "8y54vrkE49gp",
        "outputId": "dbe7738d-0feb-4fe1-944b-18aef92e66c5"
      },
      "source": [
        "%time qaoa_result = qaoa.solve(qubo)\n",
        "print(qaoa_result)"
      ],
      "execution_count": 30,
      "outputs": [
        {
          "output_type": "stream",
          "text": [
            "/usr/local/lib/python3.7/dist-packages/qiskit/aqua/components/variational_forms/variational_form.py:48: DeprecationWarning: The package qiskit.aqua.components.variational_forms is deprecated. For more information see <https://github.com/Qiskit/qiskit-aqua/blob/main/README.md#migration-guide>\n",
            "  warn_package('aqua.components.variational_forms')\n"
          ],
          "name": "stderr"
        },
        {
          "output_type": "stream",
          "text": [
            "CPU times: user 352 ms, sys: 41.1 ms, total: 393 ms\n",
            "Wall time: 403 ms\n",
            "optimal function value: -2.0\n",
            "optimal value: [0. 1. 0.]\n",
            "status: SUCCESS\n"
          ],
          "name": "stdout"
        }
      ]
    },
    {
      "cell_type": "code",
      "metadata": {
        "colab": {
          "base_uri": "https://localhost:8080/"
        },
        "id": "2utomO5C5YeB",
        "outputId": "54c06f7c-3e07-43aa-c728-ff4fc794f05c"
      },
      "source": [
        "%time rqaoa_result = rqaoa.solve(qubo)\n",
        "print(rqaoa_result)"
      ],
      "execution_count": 31,
      "outputs": [
        {
          "output_type": "stream",
          "text": [
            "CPU times: user 230 ms, sys: 3 µs, total: 230 ms\n",
            "Wall time: 237 ms\n",
            "optimal function value: -2.0\n",
            "optimal value: [0. 1. 0.]\n",
            "status: SUCCESS\n"
          ],
          "name": "stdout"
        }
      ]
    },
    {
      "cell_type": "markdown",
      "metadata": {
        "id": "wxzevubBUwLu"
      },
      "source": [
        "#Try Grover Optimizer"
      ]
    },
    {
      "cell_type": "code",
      "metadata": {
        "id": "Cy1FE4DCU5-A"
      },
      "source": [
        "from qiskit.aqua.algorithms import NumPyMinimumEigensolver\n",
        "from qiskit.optimization.algorithms import GroverOptimizer, MinimumEigenOptimizer\n",
        "from qiskit.optimization.problems import QuadraticProgram\n",
        "from qiskit import BasicAer\n",
        "from docplex.mp.model import Model\n",
        "\n",
        "backend = BasicAer.get_backend('statevector_simulator')\n",
        "grover_optimizer = GroverOptimizer(6, num_iterations=10, quantum_instance=backend)\n"
      ],
      "execution_count": 32,
      "outputs": []
    },
    {
      "cell_type": "code",
      "metadata": {
        "id": "op7B8DOcVCj3",
        "outputId": "3f40c215-d083-462d-d434-d8944e581e6b",
        "colab": {
          "base_uri": "https://localhost:8080/"
        }
      },
      "source": [
        "%time results = grover_optimizer.solve(qp)#qubo or qp\n",
        "print(\"x={}\".format(results.x))\n",
        "print(\"fval={}\".format(results.fval))"
      ],
      "execution_count": 33,
      "outputs": [
        {
          "output_type": "stream",
          "text": [
            "/usr/local/lib/python3.7/dist-packages/qiskit/aqua/algorithms/amplitude_amplifiers/grover.py:216: DeprecationWarning: The package qiskit.aqua.algorithms.amplitude_amplifiers is deprecated. It was moved/refactored to qiskit.algorithms.amplitude_amplifiers (pip install qiskit-terra). For more information see <https://github.com/Qiskit/qiskit-aqua/blob/main/README.md#migration-guide>\n",
            "  'qiskit.algorithms.amplitude_amplifiers', 'qiskit-terra')\n"
          ],
          "name": "stderr"
        },
        {
          "output_type": "stream",
          "text": [
            "CPU times: user 50.2 s, sys: 2.17 s, total: 52.4 s\n",
            "Wall time: 48.4 s\n",
            "x=[0. 1. 0.]\n",
            "fval=-2.0\n"
          ],
          "name": "stdout"
        }
      ]
    },
    {
      "cell_type": "code",
      "metadata": {
        "id": "amMIXqXADYuw",
        "outputId": "4d813677-76cb-427f-e9cb-6e384be058c6",
        "colab": {
          "base_uri": "https://localhost:8080/"
        }
      },
      "source": [
        "%time results = grover_optimizer.solve(qubo)#qubo or qp\n",
        "print(\"x={}\".format(results.x))\n",
        "print(\"fval={}\".format(results.fval))"
      ],
      "execution_count": 34,
      "outputs": [
        {
          "output_type": "stream",
          "text": [
            "CPU times: user 55.4 s, sys: 2.14 s, total: 57.6 s\n",
            "Wall time: 53.5 s\n",
            "x=[0. 1. 0.]\n",
            "fval=-2.0\n"
          ],
          "name": "stdout"
        }
      ]
    },
    {
      "cell_type": "markdown",
      "metadata": {
        "id": "3SDl5IkWMFQr"
      },
      "source": [
        "#Try ADMM Optimizer\n"
      ]
    },
    {
      "cell_type": "code",
      "metadata": {
        "id": "Pb2LNiKgMx3t"
      },
      "source": [
        "import time\n",
        "from typing import List, Optional, Any\n",
        "import numpy as np\n",
        "import matplotlib.pyplot as plt \n",
        "\n",
        "from docplex.mp.model import Model\n",
        "\n",
        "from qiskit import BasicAer\n",
        "from qiskit.aqua.algorithms import QAOA, NumPyMinimumEigensolver\n",
        "from qiskit.optimization.algorithms import CobylaOptimizer, MinimumEigenOptimizer\n",
        "from qiskit.optimization.problems import QuadraticProgram\n",
        "from qiskit.optimization.algorithms.admm_optimizer import ADMMParameters, ADMMOptimizer\n",
        "\n",
        "# If CPLEX is installed, you can uncomment this line to import the CplexOptimizer.\n",
        "# CPLEX can be used in this tutorial to solve the convex continuous problem, \n",
        "# but also as a reference to solve the QUBO, or even the full problem.\n",
        "# \n",
        "# from qiskit.optimization.algorithms import CplexOptimizer"
      ],
      "execution_count": 35,
      "outputs": []
    },
    {
      "cell_type": "code",
      "metadata": {
        "id": "FjH7FontM2sY"
      },
      "source": [
        "# define COBYLA optimizer to handle convex continuous problems.\n",
        "cobyla = CobylaOptimizer()\n",
        "\n",
        "# define QAOA via the minimum eigen optimizer\n",
        "qaoa = MinimumEigenOptimizer(QAOA(quantum_instance=BasicAer.get_backend('statevector_simulator')))\n",
        "\n",
        "# exact QUBO solver as classical benchmark\n",
        "exact = MinimumEigenOptimizer(NumPyMinimumEigensolver()) # to solve QUBOs\n",
        "\n",
        "# in case CPLEX is installed it can also be used for the convex problems, the QUBO, \n",
        "# or as a benchmark for the full problem.\n",
        "#\n",
        "# cplex = CplexOptimizer()"
      ],
      "execution_count": 36,
      "outputs": []
    },
    {
      "cell_type": "code",
      "metadata": {
        "id": "0eYHQLwHNBt0"
      },
      "source": [
        "admm_params = ADMMParameters(\n",
        "                            rho_initial=1001, \n",
        "                            beta=1000, \n",
        "                            factor_c=900,\n",
        "                            maxiter=100,\n",
        "                            three_block=True, tol=1.e-6\n",
        "                        )"
      ],
      "execution_count": 37,
      "outputs": []
    },
    {
      "cell_type": "code",
      "metadata": {
        "id": "LurKAKN2NJWe"
      },
      "source": [
        "# define QUBO optimizer\n",
        "qubo_optimizer = exact\n",
        "# qubo_optimizer = cplex  # uncomment to use CPLEX instead\n",
        "\n",
        "# define classical optimizer\n",
        "convex_optimizer = cobyla\n",
        "# convex_optimizer = cplex  # uncomment to use CPLEX instead\n",
        "\n",
        "# initialize ADMM with classical QUBO and convex optimizer\n",
        "admm = ADMMOptimizer(params=admm_params, \n",
        "                     qubo_optimizer=qubo_optimizer,\n",
        "                     continuous_optimizer=convex_optimizer)"
      ],
      "execution_count": 38,
      "outputs": []
    },
    {
      "cell_type": "code",
      "metadata": {
        "id": "PAL07KTjQbW0",
        "colab": {
          "base_uri": "https://localhost:8080/"
        },
        "outputId": "d021b28d-5733-4bac-cdb4-ce381fadfc25"
      },
      "source": [
        "print(qubo)"
      ],
      "execution_count": 39,
      "outputs": [
        {
          "output_type": "stream",
          "text": [
            "\\ This file has been generated by DOcplex\n",
            "\\ ENCODING=ISO-8859-1\n",
            "\\Problem name: CPLEX\n",
            "\n",
            "Minimize\n",
            " obj: x - 2 y + 3 z + [ 2 x*y - 2 x*z + 4 y*z ]/2\n",
            "Subject To\n",
            "\n",
            "Bounds\n",
            " 0 <= x <= 1\n",
            " 0 <= y <= 1\n",
            " 0 <= z <= 1\n",
            "\n",
            "Binaries\n",
            " x y z\n",
            "End\n",
            "\n"
          ],
          "name": "stdout"
        }
      ]
    },
    {
      "cell_type": "code",
      "metadata": {
        "id": "kiet4aWXNPk0",
        "outputId": "63952954-6e4a-42f3-c52d-d159bc1c6b8e",
        "colab": {
          "base_uri": "https://localhost:8080/"
        }
      },
      "source": [
        "# run ADMM to solve problem\n",
        "%time result = admm.solve(qubo)\n",
        "print(\"x={}\".format(result.x))\n",
        "print(\"fval={:.2f}\".format(result.fval))"
      ],
      "execution_count": 40,
      "outputs": [
        {
          "output_type": "stream",
          "text": [
            "CPU times: user 11.1 s, sys: 2.94 s, total: 14 s\n",
            "Wall time: 16.2 s\n",
            "x=[0. 0. 0.]\n",
            "fval=0.00\n"
          ],
          "name": "stdout"
        }
      ]
    },
    {
      "cell_type": "code",
      "metadata": {
        "id": "MU9qL_m2Nba_",
        "colab": {
          "base_uri": "https://localhost:8080/"
        },
        "outputId": "2b1bc93b-a05d-4049-c351-e82d537caf8f"
      },
      "source": [
        "%time result = admm.solve(qp)\n",
        "print(\"x={}\".format(result.x))\n",
        "print(\"fval={:.2f}\".format(result.fval))"
      ],
      "execution_count": 41,
      "outputs": [
        {
          "output_type": "stream",
          "text": [
            "CPU times: user 11.1 s, sys: 2.89 s, total: 14 s\n",
            "Wall time: 16.2 s\n",
            "x=[0. 0. 0.]\n",
            "fval=0.00\n"
          ],
          "name": "stdout"
        }
      ]
    },
    {
      "cell_type": "code",
      "metadata": {
        "id": "c3Qvl8HpS7XZ"
      },
      "source": [
        "# define QUBO optimizer\n",
        "qubo_optimizer = qaoa \n",
        "\n",
        "# define classical optimizer\n",
        "convex_optimizer = cobyla\n",
        "# convex_optimizer = cplex  # uncomment to use CPLEX instead\n",
        "\n",
        "# initialize ADMM with quantum QUBO optimizer and classical convex optimizer\n",
        "admm_q = ADMMOptimizer(params=admm_params, \n",
        "                       qubo_optimizer=qubo_optimizer,\n",
        "                       continuous_optimizer=convex_optimizer)"
      ],
      "execution_count": 42,
      "outputs": []
    },
    {
      "cell_type": "code",
      "metadata": {
        "id": "EzlMIfo_S_C5",
        "colab": {
          "base_uri": "https://localhost:8080/"
        },
        "outputId": "7fd5f872-1994-4520-e785-92c701494aee"
      },
      "source": [
        "# run ADMM to solve problem\n",
        "%time  result_q = admm_q.solve(qp) #note the need for 402 qubits for mod"
      ],
      "execution_count": 43,
      "outputs": [
        {
          "output_type": "stream",
          "text": [
            "CPU times: user 47.5 s, sys: 3.75 s, total: 51.3 s\n",
            "Wall time: 52.8 s\n"
          ],
          "name": "stdout"
        }
      ]
    },
    {
      "cell_type": "markdown",
      "metadata": {
        "id": "pou-xP5MYVuR"
      },
      "source": [
        "# 3. Solve the problem using QISKit"
      ]
    },
    {
      "cell_type": "code",
      "metadata": {
        "id": "wtwrodHZYVuR",
        "outputId": "07bdcc50-9e36-4cdd-880c-f47287b9fe80",
        "colab": {
          "base_uri": "https://localhost:8080/"
        }
      },
      "source": [
        "# take a look at https://quantum-computing.ibm.com/lab/docs/iql/optimization\n",
        "\n",
        "#from qiskit_optimization import QuadraticProgram\n",
        "#from qiskit_optimization.translators import from_docplex_mp\n",
        "\n",
        "from qiskit.optimization import QuadraticProgram\n",
        "\n",
        "# load from a Docplex model\n",
        "mod = QuadraticProgram()\n",
        "mod.from_docplex(model)\n",
        "print(mod.export_as_lp_string())"
      ],
      "execution_count": 44,
      "outputs": [
        {
          "output_type": "stream",
          "text": [
            "\\ This file has been generated by DOcplex\n",
            "\\ ENCODING=ISO-8859-1\n",
            "\\Problem name: docplex_model1\n",
            "\n",
            "Minimize\n",
            " obj: - 464 x0 - 480 x1 - 496 x2 - 464 x3 - 480 x4 - 496 x5\n",
            "Subject To\n",
            " _L_EXPR_1: x0 - 40 x6 <= 0\n",
            " _L_EXPR_2: x1 - 30 x7 <= 0\n",
            " _L_EXPR_3: x2 - 30 x8 <= 0\n",
            " _L_EXPR_4: x3 - 100 x9 <= 0\n",
            " _L_EXPR_5: x4 - 60 x10 <= 0\n",
            " _L_EXPR_6: x5 - 45 x11 <= 0\n",
            " _L_EXPR_7: x0 >= 0\n",
            " _L_EXPR_8: x1 >= 0\n",
            " _L_EXPR_9: x2 >= 0\n",
            " _L_EXPR_10: x3 >= 0\n",
            " _L_EXPR_11: x4 >= 0\n",
            " _L_EXPR_12: x5 >= 0\n",
            " _L_EXPR_13: x0 <= 40\n",
            " _L_EXPR_14: x1 <= 30\n",
            " _L_EXPR_15: x2 <= 30\n",
            " _L_EXPR_16: x3 <= 100\n",
            " _L_EXPR_17: x4 <= 60\n",
            " _L_EXPR_18: x5 <= 45\n",
            " _L_EXPR_19: x2 + x3 <= 100\n",
            " _L_EXPR_20: x0 + x1 + x4 + x5 <= 120\n",
            "\n",
            "Bounds\n",
            " 0 <= x6 <= 1\n",
            " 0 <= x7 <= 1\n",
            " 0 <= x8 <= 1\n",
            " 0 <= x9 <= 1\n",
            " 0 <= x10 <= 1\n",
            " 0 <= x11 <= 1\n",
            "\n",
            "Binaries\n",
            " x6 x7 x8 x9 x10 x11\n",
            "\n",
            "Generals\n",
            " x0 x1 x2 x3 x4 x5\n",
            "End\n",
            "\n"
          ],
          "name": "stdout"
        }
      ]
    },
    {
      "cell_type": "code",
      "metadata": {
        "id": "7QsOma-VFkAk",
        "outputId": "02783371-dd32-4ff9-e1b8-9972e93f2bb6",
        "colab": {
          "base_uri": "https://localhost:8080/"
        }
      },
      "source": [
        "print('constant:\\t\\t\\t', mod.objective.constant)\n",
        "\n",
        "print('linear dict:\\t\\t\\t', mod.objective.linear.to_dict())\n",
        "print('linear array:\\t\\t\\t', mod.objective.linear.to_array())\n",
        "print('linear array as sparse matrix:\\n', mod.objective.linear.coefficients, '\\n')\n",
        "\n",
        "print('quadratic dict w/ index:\\t', mod.objective.quadratic.to_dict())\n",
        "print('quadratic dict w/ name:\\t\\t', mod.objective.quadratic.to_dict(use_name=True))\n",
        "print('symmetric quadratic dict w/ name:\\t', mod.objective.quadratic.to_dict(use_name=True, symmetric=True))\n",
        "print('quadratic matrix:\\n', mod.objective.quadratic.to_array(),'\\n')\n",
        "print('symmetric quadratic matrix:\\n', mod.objective.quadratic.to_array(symmetric=True),'\\n')\n",
        "print('quadratic matrix as sparse matrix:\\n', mod.objective.quadratic.coefficients)\n"
      ],
      "execution_count": 45,
      "outputs": [
        {
          "output_type": "stream",
          "text": [
            "constant:\t\t\t 0.0\n",
            "linear dict:\t\t\t {0: -464.0, 1: -480.0, 2: -496.0, 3: -464.0, 4: -480.0, 5: -496.0}\n",
            "linear array:\t\t\t [-464. -480. -496. -464. -480. -496.    0.    0.    0.    0.    0.    0.]\n",
            "linear array as sparse matrix:\n",
            "   (0, 0)\t-464.0\n",
            "  (0, 1)\t-480.0\n",
            "  (0, 2)\t-496.0\n",
            "  (0, 3)\t-464.0\n",
            "  (0, 4)\t-480.0\n",
            "  (0, 5)\t-496.0 \n",
            "\n",
            "quadratic dict w/ index:\t {}\n",
            "quadratic dict w/ name:\t\t {}\n",
            "symmetric quadratic dict w/ name:\t {}\n",
            "quadratic matrix:\n",
            " [[0. 0. 0. 0. 0. 0. 0. 0. 0. 0. 0. 0.]\n",
            " [0. 0. 0. 0. 0. 0. 0. 0. 0. 0. 0. 0.]\n",
            " [0. 0. 0. 0. 0. 0. 0. 0. 0. 0. 0. 0.]\n",
            " [0. 0. 0. 0. 0. 0. 0. 0. 0. 0. 0. 0.]\n",
            " [0. 0. 0. 0. 0. 0. 0. 0. 0. 0. 0. 0.]\n",
            " [0. 0. 0. 0. 0. 0. 0. 0. 0. 0. 0. 0.]\n",
            " [0. 0. 0. 0. 0. 0. 0. 0. 0. 0. 0. 0.]\n",
            " [0. 0. 0. 0. 0. 0. 0. 0. 0. 0. 0. 0.]\n",
            " [0. 0. 0. 0. 0. 0. 0. 0. 0. 0. 0. 0.]\n",
            " [0. 0. 0. 0. 0. 0. 0. 0. 0. 0. 0. 0.]\n",
            " [0. 0. 0. 0. 0. 0. 0. 0. 0. 0. 0. 0.]\n",
            " [0. 0. 0. 0. 0. 0. 0. 0. 0. 0. 0. 0.]] \n",
            "\n",
            "symmetric quadratic matrix:\n",
            " [[0. 0. 0. 0. 0. 0. 0. 0. 0. 0. 0. 0.]\n",
            " [0. 0. 0. 0. 0. 0. 0. 0. 0. 0. 0. 0.]\n",
            " [0. 0. 0. 0. 0. 0. 0. 0. 0. 0. 0. 0.]\n",
            " [0. 0. 0. 0. 0. 0. 0. 0. 0. 0. 0. 0.]\n",
            " [0. 0. 0. 0. 0. 0. 0. 0. 0. 0. 0. 0.]\n",
            " [0. 0. 0. 0. 0. 0. 0. 0. 0. 0. 0. 0.]\n",
            " [0. 0. 0. 0. 0. 0. 0. 0. 0. 0. 0. 0.]\n",
            " [0. 0. 0. 0. 0. 0. 0. 0. 0. 0. 0. 0.]\n",
            " [0. 0. 0. 0. 0. 0. 0. 0. 0. 0. 0. 0.]\n",
            " [0. 0. 0. 0. 0. 0. 0. 0. 0. 0. 0. 0.]\n",
            " [0. 0. 0. 0. 0. 0. 0. 0. 0. 0. 0. 0.]\n",
            " [0. 0. 0. 0. 0. 0. 0. 0. 0. 0. 0. 0.]] \n",
            "\n",
            "quadratic matrix as sparse matrix:\n",
            " \n"
          ],
          "name": "stdout"
        }
      ]
    },
    {
      "cell_type": "code",
      "metadata": {
        "id": "exMG3okXH5o2",
        "outputId": "d20ea7e3-52a4-4b2b-d094-4099f2a735f2",
        "colab": {
          "base_uri": "https://localhost:8080/"
        }
      },
      "source": [
        "c_vec=mod.objective.linear.to_array()\n",
        "c_vec"
      ],
      "execution_count": 46,
      "outputs": [
        {
          "output_type": "execute_result",
          "data": {
            "text/plain": [
              "array([-464., -480., -496., -464., -480., -496.,    0.,    0.,    0.,\n",
              "          0.,    0.,    0.])"
            ]
          },
          "metadata": {
            "tags": []
          },
          "execution_count": 46
        }
      ]
    },
    {
      "cell_type": "code",
      "metadata": {
        "id": "IPV7wPZyMMES",
        "outputId": "433a6998-b007-4600-ac8b-915cac557de2",
        "colab": {
          "base_uri": "https://localhost:8080/"
        }
      },
      "source": [
        "print(c_vec.shape)\n",
        "c_vec.reshape(1,12)"
      ],
      "execution_count": 47,
      "outputs": [
        {
          "output_type": "stream",
          "text": [
            "(12,)\n"
          ],
          "name": "stdout"
        },
        {
          "output_type": "execute_result",
          "data": {
            "text/plain": [
              "array([[-464., -480., -496., -464., -480., -496.,    0.,    0.,    0.,\n",
              "           0.,    0.,    0.]])"
            ]
          },
          "metadata": {
            "tags": []
          },
          "execution_count": 47
        }
      ]
    },
    {
      "cell_type": "code",
      "metadata": {
        "id": "0xuLWcKsH_Qp",
        "outputId": "d49fa5c3-5217-43a3-fa18-91cc8fa0a218",
        "colab": {
          "base_uri": "https://localhost:8080/"
        }
      },
      "source": [
        "c_vec2=np.kron(c_vec.reshape(1,12),c_vec.reshape(12,1))\n",
        "c_vec2.shape"
      ],
      "execution_count": 48,
      "outputs": [
        {
          "output_type": "execute_result",
          "data": {
            "text/plain": [
              "(12, 12)"
            ]
          },
          "metadata": {
            "tags": []
          },
          "execution_count": 48
        }
      ]
    },
    {
      "cell_type": "code",
      "metadata": {
        "id": "CC6y4YzVK5RC"
      },
      "source": [
        "mod2 = QuadraticProgram()\n",
        "mod2.from_docplex(model)\n",
        "mod2.minimize(quadratic=+c_vec2)\n"
      ],
      "execution_count": 53,
      "outputs": []
    },
    {
      "cell_type": "code",
      "metadata": {
        "id": "gz_z4r5qoegz",
        "outputId": "c6e5aa97-d56c-4c68-8a30-dffc4b5ce678",
        "colab": {
          "base_uri": "https://localhost:8080/"
        }
      },
      "source": [
        "mod2.to_docplex().prettyprint()"
      ],
      "execution_count": 54,
      "outputs": [
        {
          "output_type": "stream",
          "text": [
            "// This file has been generated by DOcplex\n",
            "// model name is: docplex_model1\n",
            "// single vars section\n",
            "dvar int x0;\n",
            "dvar int x1;\n",
            "dvar int x2;\n",
            "dvar int x3;\n",
            "dvar int x4;\n",
            "dvar int x5;\n",
            "dvar bool x6;\n",
            "dvar bool x7;\n",
            "dvar bool x8;\n",
            "dvar bool x9;\n",
            "dvar bool x10;\n",
            "dvar bool x11;\n",
            "\n",
            "minimize\n",
            " [ 215296 x0^2 + 445440 x0*x1 + 460288 x0*x2 + 430592 x0*x3 + 445440 x0*x4\n",
            " + 460288 x0*x5 + 230400 x1^2 + 476160 x1*x2 + 445440 x1*x3 + 460800 x1*x4\n",
            " + 476160 x1*x5 + 246016 x2^2 + 460288 x2*x3 + 476160 x2*x4 + 492032 x2*x5\n",
            " + 215296 x3^2 + 445440 x3*x4 + 460288 x3*x5 + 230400 x4^2 + 476160 x4*x5\n",
            " + 246016 x5^2 ];\n",
            " \n",
            "subject to {\n",
            " _L_EXPR_1:\n",
            "  x0 - 40 x6 <= 0;\n",
            " _L_EXPR_2:\n",
            "  x1 - 30 x7 <= 0;\n",
            " _L_EXPR_3:\n",
            "  x2 - 30 x8 <= 0;\n",
            " _L_EXPR_4:\n",
            "  x3 - 100 x9 <= 0;\n",
            " _L_EXPR_5:\n",
            "  x4 - 60 x10 <= 0;\n",
            " _L_EXPR_6:\n",
            "  x5 - 45 x11 <= 0;\n",
            " _L_EXPR_7:\n",
            "  x0 >= 0;\n",
            " _L_EXPR_8:\n",
            "  x1 >= 0;\n",
            " _L_EXPR_9:\n",
            "  x2 >= 0;\n",
            " _L_EXPR_10:\n",
            "  x3 >= 0;\n",
            " _L_EXPR_11:\n",
            "  x4 >= 0;\n",
            " _L_EXPR_12:\n",
            "  x5 >= 0;\n",
            " _L_EXPR_13:\n",
            "  x0 <= 40;\n",
            " _L_EXPR_14:\n",
            "  x1 <= 30;\n",
            " _L_EXPR_15:\n",
            "  x2 <= 30;\n",
            " _L_EXPR_16:\n",
            "  x3 <= 100;\n",
            " _L_EXPR_17:\n",
            "  x4 <= 60;\n",
            " _L_EXPR_18:\n",
            "  x5 <= 45;\n",
            " _L_EXPR_19:\n",
            "  x2 + x3 <= 100;\n",
            " _L_EXPR_20:\n",
            "  x0 + x1 + x4 + x5 <= 120;\n",
            "\n",
            "}\n"
          ],
          "name": "stdout"
        }
      ]
    },
    {
      "cell_type": "code",
      "metadata": {
        "id": "GnVKgsllsFAO"
      },
      "source": [
        "from qiskit.optimization.converters import QuadraticProgramToQubo\n",
        "conv = QuadraticProgramToQubo()\n",
        "mod_Qubo = conv.convert(mod2)\n"
      ],
      "execution_count": 55,
      "outputs": []
    },
    {
      "cell_type": "code",
      "metadata": {
        "id": "NkoqR7rW6Sty"
      },
      "source": [
        "%time result = exact.solve(mod_Qubo)\n",
        "print(result)"
      ],
      "execution_count": null,
      "outputs": []
    }
  ]
}