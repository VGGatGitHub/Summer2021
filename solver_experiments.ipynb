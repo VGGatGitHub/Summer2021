{
  "nbformat": 4,
  "nbformat_minor": 0,
  "metadata": {
    "colab": {
      "name": "solver_experiments.ipynb",
      "provenance": [],
      "include_colab_link": true
    },
    "kernelspec": {
      "display_name": "Python 3",
      "language": "python",
      "name": "python3"
    },
    "language_info": {
      "codemirror_mode": {
        "name": "ipython",
        "version": 3
      },
      "file_extension": ".py",
      "mimetype": "text/x-python",
      "name": "python",
      "nbconvert_exporter": "python",
      "pygments_lexer": "ipython3",
      "version": "3.7.6"
    }
  },
  "cells": [
    {
      "cell_type": "markdown",
      "metadata": {
        "id": "view-in-github",
        "colab_type": "text"
      },
      "source": [
        "<a href=\"https://colab.research.google.com/github/VGGatGitHub/Summer2021/blob/main/solver_experiments.ipynb\" target=\"_parent\"><img src=\"https://colab.research.google.com/assets/colab-badge.svg\" alt=\"Open In Colab\"/></a>"
      ]
    },
    {
      "cell_type": "markdown",
      "metadata": {
        "id": "rm4Kd0IfYVuK"
      },
      "source": [
        "Notebook experimenting how to use DOcplex and IBM Quantum."
      ]
    },
    {
      "cell_type": "markdown",
      "metadata": {
        "id": "TWpZnxqoxtCH"
      },
      "source": [
        "# 0. Install libraries & clone repo"
      ]
    },
    {
      "cell_type": "code",
      "metadata": {
        "id": "jjhGsa9LxtCJ"
      },
      "source": [
        "import sys\n",
        "\n",
        "if hasattr(sys, 'real_prefix'):\n",
        "    #we are in a virtual env.\n",
        "    !pip install cplex && pip install docplex\n",
        "else:\n",
        "    !pip install --user cplex && pip install --user docplex\n",
        "\n",
        "print()\n",
        "!pip show cplex\n",
        "print()\n",
        "!pip show docplex\n",
        "\n",
        "#it my be useful to retstart you runtime"
      ],
      "execution_count": null,
      "outputs": []
    },
    {
      "cell_type": "code",
      "metadata": {
        "id": "zeBTiUzOwgR_",
        "colab": {
          "base_uri": "https://localhost:8080/"
        },
        "outputId": "b560737b-1435-44a8-d364-9ce6aca022b0"
      },
      "source": [
        "!pip show qiskit\n",
        "#!pip install qiskit\n",
        "\n",
        "# !pip install qiskit-optimization\n",
        "#!pip show qiskit-optimization"
      ],
      "execution_count": 14,
      "outputs": [
        {
          "output_type": "stream",
          "text": [
            "Name: qiskit\n",
            "Version: 0.29.0\n",
            "Summary: Software for developing quantum computing programs\n",
            "Home-page: https://github.com/Qiskit/qiskit\n",
            "Author: Qiskit Development Team\n",
            "Author-email: hello@qiskit.org\n",
            "License: Apache 2.0\n",
            "Location: /usr/local/lib/python3.7/dist-packages\n",
            "Requires: qiskit-aqua, qiskit-terra, qiskit-aer, qiskit-ibmq-provider, qiskit-ignis\n",
            "Required-by: \n"
          ],
          "name": "stdout"
        }
      ]
    },
    {
      "cell_type": "markdown",
      "metadata": {
        "id": "DMGKfSM9YVuM"
      },
      "source": [
        "Possibly need to restart runtime here."
      ]
    },
    {
      "cell_type": "code",
      "metadata": {
        "id": "RPk5nF4ZxtCJ",
        "colab": {
          "base_uri": "https://localhost:8080/"
        },
        "outputId": "db690978-dd05-4da4-f3d7-7cff8188e52b"
      },
      "source": [
        "# clone repo\n",
        "!git clone https://github.com/VGGatGitHub/Summer2021.git"
      ],
      "execution_count": 4,
      "outputs": [
        {
          "output_type": "stream",
          "text": [
            "Cloning into 'Summer2021'...\n",
            "remote: Enumerating objects: 71, done.\u001b[K\n",
            "remote: Counting objects: 100% (71/71), done.\u001b[K\n",
            "remote: Compressing objects: 100% (57/57), done.\u001b[K\n",
            "remote: Total 71 (delta 25), reused 21 (delta 10), pack-reused 0\u001b[K\n",
            "Unpacking objects: 100% (71/71), done.\n"
          ],
          "name": "stdout"
        }
      ]
    },
    {
      "cell_type": "markdown",
      "metadata": {
        "id": "jFOO2BnFxtCM"
      },
      "source": [
        "# 1. Load Data"
      ]
    },
    {
      "cell_type": "code",
      "metadata": {
        "id": "y8U39lpVaWLJ",
        "colab": {
          "base_uri": "https://localhost:8080/"
        },
        "outputId": "7747ed0d-0ba2-4bd2-d621-4a7e016ed79b"
      },
      "source": [
        "#next run the model.py in the folder introScenario\n",
        "!pwd\n",
        "%cd ./Summer2021/introScenario/\n",
        "#%ls\n"
      ],
      "execution_count": 1,
      "outputs": [
        {
          "output_type": "stream",
          "text": [
            "/content\n",
            "/content/Summer2021/introScenario\n"
          ],
          "name": "stdout"
        }
      ]
    },
    {
      "cell_type": "code",
      "metadata": {
        "id": "w5eQxjG1YVuP"
      },
      "source": [
        "import pandas as pd\n",
        "\n",
        "# supply + costs\n",
        "supply_file = './plants.csv'\n",
        "\n",
        "# demand\n",
        "demand_file = './customerDemand.csv'\n",
        "\n",
        "# for now load example data (plants.csv and customerDemand.csv under introScenario folder)\n",
        "s_df = pd.read_csv(supply_file)\n",
        "d_df = pd.read_csv(demand_file)"
      ],
      "execution_count": 2,
      "outputs": []
    },
    {
      "cell_type": "code",
      "metadata": {
        "id": "m3VwLMJr1wBE"
      },
      "source": [
        "inputs={'customerDemand':d_df,'plants':s_df}"
      ],
      "execution_count": 3,
      "outputs": []
    },
    {
      "cell_type": "markdown",
      "metadata": {
        "id": "89lxEMTBYVuQ"
      },
      "source": [
        "# 2. Solve the DO problem via DOcplex"
      ]
    },
    {
      "cell_type": "code",
      "metadata": {
        "id": "UIfEsCTjYVuQ"
      },
      "source": [
        "#If you get an error you may have to restart the runtime\n",
        "import cplex\n",
        "import docplex.mp\n",
        "from docplex.mp.model import Model"
      ],
      "execution_count": 4,
      "outputs": []
    },
    {
      "cell_type": "code",
      "metadata": {
        "id": "QyDnKO0VRW2r"
      },
      "source": [
        "global output_lock\n",
        "#with output_lock:\n",
        "\n",
        "try:  \n",
        "  if output_lock:\n",
        "    print(output_lock)\n",
        "except:\n",
        "  output_lock=dict({'output_lock':{}})\n",
        "\n",
        "try: \n",
        "  if outputs:\n",
        "    print(outputs)\n",
        "except:\n",
        "  outputs=dict()\n"
      ],
      "execution_count": 5,
      "outputs": []
    },
    {
      "cell_type": "code",
      "metadata": {
        "id": "QR6mPc1i4fpz",
        "colab": {
          "base_uri": "https://localhost:8080/"
        },
        "outputId": "48ee91de-346f-4c90-c4a9-1b4686de540b"
      },
      "source": [
        "exec(open(\"./model.py\").read())"
      ],
      "execution_count": 6,
      "outputs": [
        {
          "output_type": "stream",
          "text": [
            "* building wado model\n",
            "model building done in 0.07317137718200684 secs\n",
            "* running wado model\n",
            "Version identifier: 20.1.0.0 | 2020-11-11 | 9bedb6d68\n",
            "CPXPARAM_Read_DataCheck                          1\n",
            "CPXPARAM_TimeLimit                               120\n",
            "Found incumbent of value 0.000000 after 0.00 sec. (0.00 ticks)\n",
            "Tried aggregator 1 time.\n",
            "MIP Presolve eliminated 20 rows and 12 columns.\n",
            "All rows and columns eliminated.\n",
            "Presolve time = 0.00 sec. (0.01 ticks)\n",
            "\n",
            "Root node processing (before b&c):\n",
            "  Real time             =    0.01 sec. (0.01 ticks)\n",
            "Parallel b&c, 2 threads:\n",
            "  Real time             =    0.00 sec. (0.00 ticks)\n",
            "  Sync time (average)   =    0.00 sec.\n",
            "  Wait time (average)   =    0.00 sec.\n",
            "                          ------------\n",
            "Total (root+branch&cut) =    0.01 sec. (0.01 ticks)\n",
            "Solve status: JobSolveStatus.OPTIMAL_SOLUTION\n",
            "* model docplex_model1 solved with objective = -105680.000\n",
            "*  KPI: total plants allocations                  = 112640.000\n",
            "*  KPI: total Cost of plants over all allocations = 6960.000\n",
            "model solve done in 0.0341792106628418 secs\n",
            "solution export done in 0.03431558609008789 secs\n"
          ],
          "name": "stdout"
        }
      ]
    },
    {
      "cell_type": "code",
      "metadata": {
        "id": "oT2QEZYAX97y",
        "colab": {
          "base_uri": "https://localhost:8080/"
        },
        "outputId": "4dc37187-8005-46bb-e040-90860ead096a"
      },
      "source": [
        "outputs\n"
      ],
      "execution_count": 7,
      "outputs": [
        {
          "output_type": "execute_result",
          "data": {
            "text/plain": [
              "{'plantsAllocation':    plants  ...  plants minValueAllocationForAssignment\n",
              " 0       1  ...                                       0\n",
              " 1       2  ...                                       0\n",
              " 2       3  ...                                       0\n",
              " 3       4  ...                                       0\n",
              " 4       5  ...                                       0\n",
              " 5       6  ...                                       0\n",
              " \n",
              " [6 rows x 7 columns]}"
            ]
          },
          "metadata": {
            "tags": []
          },
          "execution_count": 7
        }
      ]
    },
    {
      "cell_type": "code",
      "metadata": {
        "id": "TiWDpfHILzSo",
        "colab": {
          "base_uri": "https://localhost:8080/",
          "height": 252
        },
        "outputId": "c96a1c2a-e415-4e57-8a66-b8ac01d99d9d"
      },
      "source": [
        "outputs['plantsAllocation']"
      ],
      "execution_count": 8,
      "outputs": [
        {
          "output_type": "execute_result",
          "data": {
            "text/html": [
              "<div>\n",
              "<style scoped>\n",
              "    .dataframe tbody tr th:only-of-type {\n",
              "        vertical-align: middle;\n",
              "    }\n",
              "\n",
              "    .dataframe tbody tr th {\n",
              "        vertical-align: top;\n",
              "    }\n",
              "\n",
              "    .dataframe thead th {\n",
              "        text-align: right;\n",
              "    }\n",
              "</style>\n",
              "<table border=\"1\" class=\"dataframe\">\n",
              "  <thead>\n",
              "    <tr style=\"text-align: right;\">\n",
              "      <th></th>\n",
              "      <th>plants</th>\n",
              "      <th>plants allocation decision</th>\n",
              "      <th>plants selection decision</th>\n",
              "      <th>plants Capacity</th>\n",
              "      <th>plants Product</th>\n",
              "      <th>plants Cost</th>\n",
              "      <th>plants minValueAllocationForAssignment</th>\n",
              "    </tr>\n",
              "  </thead>\n",
              "  <tbody>\n",
              "    <tr>\n",
              "      <th>0</th>\n",
              "      <td>1</td>\n",
              "      <td>0.0</td>\n",
              "      <td>1.0</td>\n",
              "      <td>40</td>\n",
              "      <td>mask</td>\n",
              "      <td>3</td>\n",
              "      <td>0</td>\n",
              "    </tr>\n",
              "    <tr>\n",
              "      <th>1</th>\n",
              "      <td>2</td>\n",
              "      <td>15.0</td>\n",
              "      <td>1.0</td>\n",
              "      <td>30</td>\n",
              "      <td>mask</td>\n",
              "      <td>2</td>\n",
              "      <td>0</td>\n",
              "    </tr>\n",
              "    <tr>\n",
              "      <th>2</th>\n",
              "      <td>3</td>\n",
              "      <td>30.0</td>\n",
              "      <td>1.0</td>\n",
              "      <td>30</td>\n",
              "      <td>handSanitizer</td>\n",
              "      <td>1</td>\n",
              "      <td>0</td>\n",
              "    </tr>\n",
              "    <tr>\n",
              "      <th>3</th>\n",
              "      <td>4</td>\n",
              "      <td>70.0</td>\n",
              "      <td>1.0</td>\n",
              "      <td>100</td>\n",
              "      <td>handSanitizer</td>\n",
              "      <td>3</td>\n",
              "      <td>0</td>\n",
              "    </tr>\n",
              "    <tr>\n",
              "      <th>4</th>\n",
              "      <td>5</td>\n",
              "      <td>60.0</td>\n",
              "      <td>1.0</td>\n",
              "      <td>60</td>\n",
              "      <td>mask</td>\n",
              "      <td>2</td>\n",
              "      <td>0</td>\n",
              "    </tr>\n",
              "    <tr>\n",
              "      <th>5</th>\n",
              "      <td>6</td>\n",
              "      <td>45.0</td>\n",
              "      <td>1.0</td>\n",
              "      <td>45</td>\n",
              "      <td>mask</td>\n",
              "      <td>1</td>\n",
              "      <td>0</td>\n",
              "    </tr>\n",
              "  </tbody>\n",
              "</table>\n",
              "</div>"
            ],
            "text/plain": [
              "   plants  ...  plants minValueAllocationForAssignment\n",
              "0       1  ...                                       0\n",
              "1       2  ...                                       0\n",
              "2       3  ...                                       0\n",
              "3       4  ...                                       0\n",
              "4       5  ...                                       0\n",
              "5       6  ...                                       0\n",
              "\n",
              "[6 rows x 7 columns]"
            ]
          },
          "metadata": {
            "tags": []
          },
          "execution_count": 8
        }
      ]
    },
    {
      "cell_type": "code",
      "metadata": {
        "id": "Z7pXtDgMxKiX",
        "colab": {
          "base_uri": "https://localhost:8080/"
        },
        "outputId": "79827fbc-836d-4ccc-f4e9-1648a6d894fb"
      },
      "source": [
        "model"
      ],
      "execution_count": 9,
      "outputs": [
        {
          "output_type": "execute_result",
          "data": {
            "text/plain": [
              "docplex.mp.Model['docplex_model1']"
            ]
          },
          "metadata": {
            "tags": []
          },
          "execution_count": 9
        }
      ]
    },
    {
      "cell_type": "code",
      "metadata": {
        "colab": {
          "base_uri": "https://localhost:8080/"
        },
        "id": "GJb3NIm38Iuz",
        "outputId": "7a39f478-b36e-4889-e494-d8572c16cfc6"
      },
      "source": [
        "solution=model.solve()\n",
        "print(solution)\n",
        "solution"
      ],
      "execution_count": 12,
      "outputs": [
        {
          "output_type": "stream",
          "text": [
            "solution for: docplex_model1\n",
            "objective: -105680\n",
            "x2=15\n",
            "x3=30\n",
            "x4=70\n",
            "x5=60\n",
            "x6=45\n",
            "x7=1\n",
            "x8=1\n",
            "x9=1\n",
            "x10=1\n",
            "x11=1\n",
            "x12=1\n",
            "\n"
          ],
          "name": "stdout"
        },
        {
          "output_type": "execute_result",
          "data": {
            "text/plain": [
              "docplex.mp.solution.SolveSolution(obj=-105680,values={x2:15,x3:30,x4:70,.."
            ]
          },
          "metadata": {
            "tags": []
          },
          "execution_count": 12
        }
      ]
    },
    {
      "cell_type": "code",
      "metadata": {
        "id": "zHUJX4zh7DtO"
      },
      "source": [
        "cost = solution.get_objective_value()\n",
        "x = solution.get_values()\n",
        "x = np.array(x)\n",
        "print(cost,x)"
      ],
      "execution_count": null,
      "outputs": []
    },
    {
      "cell_type": "markdown",
      "metadata": {
        "id": "s5q263eZGVaP"
      },
      "source": [
        "#Practice and test Examples from QISKit (Minimum Eigen Optimizer)"
      ]
    },
    {
      "cell_type": "code",
      "metadata": {
        "id": "ab6VoroV3KP4"
      },
      "source": [
        "#https://quantum-computing.ibm.com/lab/docs/iql/optimization\n",
        "\n",
        "from qiskit import BasicAer\n",
        "from qiskit.aqua import aqua_globals, QuantumInstance\n",
        "from qiskit.aqua.algorithms import QAOA, NumPyMinimumEigensolver\n",
        "from qiskit.optimization.algorithms import MinimumEigenOptimizer, RecursiveMinimumEigenOptimizer\n",
        "from qiskit.optimization import QuadraticProgram\n",
        "\n",
        "aqua_globals.random_seed = 10598\n",
        "quantum_instance = QuantumInstance(BasicAer.get_backend('statevector_simulator'),\n",
        "                                   seed_simulator=aqua_globals.random_seed,\n",
        "                                   seed_transpiler=aqua_globals.random_seed)\n",
        "qaoa_mes = QAOA(quantum_instance=quantum_instance, initial_point=[0., 0.])\n",
        "exact_mes = NumPyMinimumEigensolver()\n",
        "\n",
        "qaoa = MinimumEigenOptimizer(qaoa_mes)   # using QAOA\n",
        "exact = MinimumEigenOptimizer(exact_mes)  # using the exact classical numpy minimum eigen solver\n",
        "rqaoa = RecursiveMinimumEigenOptimizer(min_eigen_optimizer=qaoa, min_num_vars=1, min_num_vars_optimizer=exact)\n"
      ],
      "execution_count": 21,
      "outputs": []
    },
    {
      "cell_type": "code",
      "metadata": {
        "colab": {
          "base_uri": "https://localhost:8080/"
        },
        "id": "ANdqD_Mn4SyL",
        "outputId": "09b59f60-8c91-4334-b09b-b75bd349a74b"
      },
      "source": [
        "# create a QUBO\n",
        "qubo = QuadraticProgram()\n",
        "qubo.binary_var('x')\n",
        "qubo.binary_var('y')\n",
        "qubo.binary_var('z')\n",
        "qubo.minimize(linear=[1,-2,3], quadratic={('x', 'y'): 1, ('x', 'z'): -1, ('y', 'z'): 2})\n",
        "print(qubo.export_as_lp_string())"
      ],
      "execution_count": 22,
      "outputs": [
        {
          "output_type": "stream",
          "text": [
            "\\ This file has been generated by DOcplex\n",
            "\\ ENCODING=ISO-8859-1\n",
            "\\Problem name: CPLEX\n",
            "\n",
            "Minimize\n",
            " obj: x - 2 y + 3 z + [ 2 x*y - 2 x*z + 4 y*z ]/2\n",
            "Subject To\n",
            "\n",
            "Bounds\n",
            " 0 <= x <= 1\n",
            " 0 <= y <= 1\n",
            " 0 <= z <= 1\n",
            "\n",
            "Binaries\n",
            " x y z\n",
            "End\n",
            "\n"
          ],
          "name": "stdout"
        }
      ]
    },
    {
      "cell_type": "code",
      "metadata": {
        "colab": {
          "base_uri": "https://localhost:8080/"
        },
        "id": "G6l8RUow3uPN",
        "outputId": "41925235-aa2c-4cb6-cb16-78f1daee1933"
      },
      "source": [
        "exact_result = exact.solve(qubo)\n",
        "print(exact_result)"
      ],
      "execution_count": 23,
      "outputs": [
        {
          "output_type": "stream",
          "text": [
            "optimal function value: -2.0\n",
            "optimal value: [0. 1. 0.]\n",
            "status: SUCCESS\n"
          ],
          "name": "stdout"
        }
      ]
    },
    {
      "cell_type": "code",
      "metadata": {
        "id": "WbXFiLhT4hML"
      },
      "source": [
        "op, offset = qubo.to_ising()\n",
        "qp=QuadraticProgram()\n",
        "qp.from_ising(op, offset, linear=True)"
      ],
      "execution_count": 24,
      "outputs": []
    },
    {
      "cell_type": "code",
      "metadata": {
        "colab": {
          "base_uri": "https://localhost:8080/"
        },
        "id": "L8xtWbCa4vSE",
        "outputId": "ab9a771a-68e5-4022-b85b-03e11ad71484"
      },
      "source": [
        "exact_result = exact.solve(qp)\n",
        "print(exact_result)"
      ],
      "execution_count": 25,
      "outputs": [
        {
          "output_type": "stream",
          "text": [
            "optimal function value: -2.0\n",
            "optimal value: [0. 1. 0.]\n",
            "status: SUCCESS\n"
          ],
          "name": "stdout"
        }
      ]
    },
    {
      "cell_type": "code",
      "metadata": {
        "colab": {
          "base_uri": "https://localhost:8080/"
        },
        "id": "8y54vrkE49gp",
        "outputId": "636dff90-5a6c-48b3-9352-85ef72a283fa"
      },
      "source": [
        "qaoa_result = qaoa.solve(qubo)\n",
        "print(qaoa_result)"
      ],
      "execution_count": 26,
      "outputs": [
        {
          "output_type": "stream",
          "text": [
            "optimal function value: -2.0\n",
            "optimal value: [0. 1. 0.]\n",
            "status: SUCCESS\n"
          ],
          "name": "stdout"
        }
      ]
    },
    {
      "cell_type": "code",
      "metadata": {
        "colab": {
          "base_uri": "https://localhost:8080/"
        },
        "id": "2utomO5C5YeB",
        "outputId": "e2952824-07f5-4430-caaa-b7c3539d6fe4"
      },
      "source": [
        "rqaoa_result = rqaoa.solve(qubo)\n",
        "print(rqaoa_result)"
      ],
      "execution_count": 27,
      "outputs": [
        {
          "output_type": "stream",
          "text": [
            "optimal function value: -2.0\n",
            "optimal value: [0. 1. 0.]\n",
            "status: SUCCESS\n"
          ],
          "name": "stdout"
        }
      ]
    },
    {
      "cell_type": "markdown",
      "metadata": {
        "id": "wxzevubBUwLu"
      },
      "source": [
        "#Try Grover Optimizer"
      ]
    },
    {
      "cell_type": "code",
      "metadata": {
        "id": "Cy1FE4DCU5-A"
      },
      "source": [
        "from qiskit.aqua.algorithms import NumPyMinimumEigensolver\n",
        "from qiskit.optimization.algorithms import GroverOptimizer, MinimumEigenOptimizer\n",
        "from qiskit.optimization.problems import QuadraticProgram\n",
        "from qiskit import BasicAer\n",
        "from docplex.mp.model import Model\n",
        "\n",
        "backend = BasicAer.get_backend('statevector_simulator')"
      ],
      "execution_count": 28,
      "outputs": []
    },
    {
      "cell_type": "code",
      "metadata": {
        "id": "op7B8DOcVCj3"
      },
      "source": [
        "grover_optimizer = GroverOptimizer(6, num_iterations=10, quantum_instance=backend)\n",
        "results = grover_optimizer.solve(qubo)#qubo or qp\n",
        "print(\"x={}\".format(results.x))\n",
        "print(\"fval={}\".format(results.fval))"
      ],
      "execution_count": null,
      "outputs": []
    },
    {
      "cell_type": "code",
      "metadata": {
        "id": "SMcSnTDFV8ho"
      },
      "source": [
        "# load from a Docplex model\n",
        "mod = QuadraticProgram()\n",
        "mod.from_docplex(model)\n",
        "print(mod.export_as_lp_string())"
      ],
      "execution_count": null,
      "outputs": []
    },
    {
      "cell_type": "code",
      "metadata": {
        "id": "AH-nv5PlYco5"
      },
      "source": [
        "results = grover_optimizer.solve(mod)\n"
      ],
      "execution_count": null,
      "outputs": []
    },
    {
      "cell_type": "markdown",
      "metadata": {
        "id": "3SDl5IkWMFQr"
      },
      "source": [
        "#Try ADMM Optimizer\n"
      ]
    },
    {
      "cell_type": "code",
      "metadata": {
        "id": "Pb2LNiKgMx3t"
      },
      "source": [
        "import time\n",
        "from typing import List, Optional, Any\n",
        "import numpy as np\n",
        "import matplotlib.pyplot as plt \n",
        "\n",
        "from docplex.mp.model import Model\n",
        "\n",
        "from qiskit import BasicAer\n",
        "from qiskit.aqua.algorithms import QAOA, NumPyMinimumEigensolver\n",
        "from qiskit.optimization.algorithms import CobylaOptimizer, MinimumEigenOptimizer\n",
        "from qiskit.optimization.problems import QuadraticProgram\n",
        "from qiskit.optimization.algorithms.admm_optimizer import ADMMParameters, ADMMOptimizer\n",
        "\n",
        "# If CPLEX is installed, you can uncomment this line to import the CplexOptimizer.\n",
        "# CPLEX can be used in this tutorial to solve the convex continuous problem, \n",
        "# but also as a reference to solve the QUBO, or even the full problem.\n",
        "# \n",
        "# from qiskit.optimization.algorithms import CplexOptimizer"
      ],
      "execution_count": 57,
      "outputs": []
    },
    {
      "cell_type": "code",
      "metadata": {
        "id": "FjH7FontM2sY"
      },
      "source": [
        "# define COBYLA optimizer to handle convex continuous problems.\n",
        "cobyla = CobylaOptimizer()\n",
        "\n",
        "# define QAOA via the minimum eigen optimizer\n",
        "qaoa = MinimumEigenOptimizer(QAOA(quantum_instance=BasicAer.get_backend('statevector_simulator')))\n",
        "\n",
        "# exact QUBO solver as classical benchmark\n",
        "exact = MinimumEigenOptimizer(NumPyMinimumEigensolver()) # to solve QUBOs\n",
        "\n",
        "# in case CPLEX is installed it can also be used for the convex problems, the QUBO, \n",
        "# or as a benchmark for the full problem.\n",
        "#\n",
        "# cplex = CplexOptimizer()"
      ],
      "execution_count": 58,
      "outputs": []
    },
    {
      "cell_type": "code",
      "metadata": {
        "id": "0eYHQLwHNBt0"
      },
      "source": [
        "admm_params = ADMMParameters(\n",
        "                            rho_initial=1001, \n",
        "                            beta=1000, \n",
        "                            factor_c=900,\n",
        "                            maxiter=100,\n",
        "                            three_block=True, tol=1.e-6\n",
        "                        )"
      ],
      "execution_count": 59,
      "outputs": []
    },
    {
      "cell_type": "code",
      "metadata": {
        "id": "LurKAKN2NJWe"
      },
      "source": [
        "# define QUBO optimizer\n",
        "qubo_optimizer = exact\n",
        "# qubo_optimizer = cplex  # uncomment to use CPLEX instead\n",
        "\n",
        "# define classical optimizer\n",
        "convex_optimizer = cobyla\n",
        "# convex_optimizer = cplex  # uncomment to use CPLEX instead\n",
        "\n",
        "# initialize ADMM with classical QUBO and convex optimizer\n",
        "admm = ADMMOptimizer(params=admm_params, \n",
        "                     qubo_optimizer=qubo_optimizer,\n",
        "                     continuous_optimizer=convex_optimizer)"
      ],
      "execution_count": 60,
      "outputs": []
    },
    {
      "cell_type": "code",
      "metadata": {
        "id": "PAL07KTjQbW0",
        "outputId": "eeef4710-59e0-4939-e8da-51991931d286",
        "colab": {
          "base_uri": "https://localhost:8080/"
        }
      },
      "source": [
        "print(qubo)"
      ],
      "execution_count": 63,
      "outputs": [
        {
          "output_type": "stream",
          "text": [
            "\\ This file has been generated by DOcplex\n",
            "\\ ENCODING=ISO-8859-1\n",
            "\\Problem name: CPLEX\n",
            "\n",
            "Minimize\n",
            " obj: x - 2 y + 3 z + [ 2 x*y - 2 x*z + 4 y*z ]/2\n",
            "Subject To\n",
            "\n",
            "Bounds\n",
            " 0 <= x <= 1\n",
            " 0 <= y <= 1\n",
            " 0 <= z <= 1\n",
            "\n",
            "Binaries\n",
            " x y z\n",
            "End\n",
            "\n"
          ],
          "name": "stdout"
        }
      ]
    },
    {
      "cell_type": "code",
      "metadata": {
        "id": "kiet4aWXNPk0"
      },
      "source": [
        "# run ADMM to solve problem\n",
        "result = admm.solve(qubo)\n"
      ],
      "execution_count": 64,
      "outputs": []
    },
    {
      "cell_type": "code",
      "metadata": {
        "id": "MU9qL_m2Nba_",
        "outputId": "ec425260-1ed1-48a1-c3b6-fa9f973e08fb",
        "colab": {
          "base_uri": "https://localhost:8080/"
        }
      },
      "source": [
        "print(\"x={}\".format(result.x))\n",
        "print(\"fval={:.2f}\".format(result.fval))"
      ],
      "execution_count": 65,
      "outputs": [
        {
          "output_type": "stream",
          "text": [
            "x=[0. 0. 0.]\n",
            "fval=0.00\n"
          ],
          "name": "stdout"
        }
      ]
    },
    {
      "cell_type": "code",
      "metadata": {
        "id": "sV8wXiYoPYd0"
      },
      "source": [
        "# load from a Docplex model\n",
        "mod = QuadraticProgram()\n",
        "mod.from_docplex(model)\n",
        "print(mod.export_as_lp_string())"
      ],
      "execution_count": null,
      "outputs": []
    },
    {
      "cell_type": "code",
      "metadata": {
        "id": "A-03DV8aShJg"
      },
      "source": [
        "result = admm.solve(mod)"
      ],
      "execution_count": null,
      "outputs": []
    },
    {
      "cell_type": "code",
      "metadata": {
        "id": "R6MYKmTxR-yq"
      },
      "source": [
        "from qiskit.optimization.converters import QuadraticProgramToQubo\n",
        "conv = QuadraticProgramToQubo()\n",
        "mod_Qubo = conv.convert(mod)"
      ],
      "execution_count": null,
      "outputs": []
    },
    {
      "cell_type": "code",
      "metadata": {
        "id": "r76bLlZ2QzBs"
      },
      "source": [
        "# run ADMM to solve problem\n",
        "result = admm.solve(mod_Qubo)"
      ],
      "execution_count": null,
      "outputs": []
    },
    {
      "cell_type": "code",
      "metadata": {
        "id": "c3Qvl8HpS7XZ"
      },
      "source": [
        "# define QUBO optimizer\n",
        "qubo_optimizer = qaoa \n",
        "\n",
        "# define classical optimizer\n",
        "convex_optimizer = cobyla\n",
        "# convex_optimizer = cplex  # uncomment to use CPLEX instead\n",
        "\n",
        "# initialize ADMM with quantum QUBO optimizer and classical convex optimizer\n",
        "admm_q = ADMMOptimizer(params=admm_params, \n",
        "                       qubo_optimizer=qubo_optimizer,\n",
        "                       continuous_optimizer=convex_optimizer)"
      ],
      "execution_count": 70,
      "outputs": []
    },
    {
      "cell_type": "code",
      "metadata": {
        "id": "EzlMIfo_S_C5",
        "outputId": "2ff0bf40-baa5-484a-9393-36ab72ea9de3",
        "colab": {
          "base_uri": "https://localhost:8080/"
        }
      },
      "source": [
        "# run ADMM to solve problem\n",
        "result_q = admm_q.solve(mod) #note the need for 402 qubits for mod"
      ],
      "execution_count": null,
      "outputs": [
        {
          "output_type": "stream",
          "text": [
            "WARNING:root:Note: Using a statevector_simulator with 402 qubits can be very expensive. Consider using the Aer qasm_simulator instead to take advantage of Aer's built-in fast Pauli Expectation\n"
          ],
          "name": "stderr"
        }
      ]
    },
    {
      "cell_type": "markdown",
      "metadata": {
        "id": "pou-xP5MYVuR"
      },
      "source": [
        "# 3. Solve the problem using IBM Quantum"
      ]
    },
    {
      "cell_type": "code",
      "metadata": {
        "id": "wtwrodHZYVuR"
      },
      "source": [
        "# take a look at https://quantum-computing.ibm.com/lab/docs/iql/optimization\n",
        "\n",
        "#from qiskit_optimization import QuadraticProgram\n",
        "#from qiskit_optimization.translators import from_docplex_mp\n",
        "\n",
        "from qiskit.optimization import QuadraticProgram\n",
        "\n",
        "# load from a Docplex model\n",
        "mod = QuadraticProgram()\n",
        "mod.from_docplex(model)\n",
        "print(mod.export_as_lp_string())"
      ],
      "execution_count": null,
      "outputs": []
    },
    {
      "cell_type": "code",
      "metadata": {
        "id": "gz_z4r5qoegz"
      },
      "source": [
        "mod.to_docplex().prettyprint()"
      ],
      "execution_count": null,
      "outputs": []
    },
    {
      "cell_type": "code",
      "metadata": {
        "id": "GnVKgsllsFAO"
      },
      "source": [
        "from qiskit.optimization.converters import QuadraticProgramToQubo\n",
        "conv = QuadraticProgramToQubo()\n",
        "mod_Qubo = conv.convert(mod)\n"
      ],
      "execution_count": 68,
      "outputs": []
    },
    {
      "cell_type": "code",
      "metadata": {
        "id": "NkoqR7rW6Sty"
      },
      "source": [
        "exact_result = exact.solve(mod_Qubo)\n",
        "print(exact_result)"
      ],
      "execution_count": null,
      "outputs": []
    },
    {
      "cell_type": "code",
      "metadata": {
        "id": "9lny8G_00lo9"
      },
      "source": [
        "op, offset = mod_ising.to_ising()\n",
        "print('offset: {}'.format(offset))\n",
        "print('operator:')\n",
        "print(op)"
      ],
      "execution_count": null,
      "outputs": []
    },
    {
      "cell_type": "code",
      "metadata": {
        "id": "VgAwaqFGtaxr"
      },
      "source": [
        "#mod_ising.prettyprint()\n",
        "qp = QuadraticProgram()\n",
        "qp.from_ising(op, offset)\n",
        "qp.to_docplex().prettyprint()"
      ],
      "execution_count": null,
      "outputs": []
    },
    {
      "cell_type": "code",
      "metadata": {
        "id": "juWrh2AMqDBX"
      },
      "source": [
        "from qiskit.optimization.algorithms import MinimumEigenOptimizer\n",
        "from qiskit.aqua.algorithms import VQE, NumPyMinimumEigensolver\n",
        "\n",
        "exact = MinimumEigenOptimizer(NumPyMinimumEigensolver())\n",
        "result = exact.solve(mod)\n",
        "print(result)"
      ],
      "execution_count": null,
      "outputs": []
    }
  ]
}