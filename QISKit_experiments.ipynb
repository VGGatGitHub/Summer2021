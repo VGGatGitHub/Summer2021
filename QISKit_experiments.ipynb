{
  "nbformat": 4,
  "nbformat_minor": 0,
  "metadata": {
    "colab": {
      "name": "QISKit_experiments.ipynb",
      "provenance": [],
      "toc_visible": true,
      "include_colab_link": true
    },
    "kernelspec": {
      "display_name": "Python 3",
      "language": "python",
      "name": "python3"
    },
    "language_info": {
      "codemirror_mode": {
        "name": "ipython",
        "version": 3
      },
      "file_extension": ".py",
      "mimetype": "text/x-python",
      "name": "python",
      "nbconvert_exporter": "python",
      "pygments_lexer": "ipython3",
      "version": "3.7.6"
    }
  },
  "cells": [
    {
      "cell_type": "markdown",
      "metadata": {
        "id": "view-in-github",
        "colab_type": "text"
      },
      "source": [
        "<a href=\"https://colab.research.google.com/github/VGGatGitHub/Summer2021/blob/main/QISKit_experiments.ipynb\" target=\"_parent\"><img src=\"https://colab.research.google.com/assets/colab-badge.svg\" alt=\"Open In Colab\"/></a>"
      ]
    },
    {
      "cell_type": "markdown",
      "metadata": {
        "id": "rm4Kd0IfYVuK"
      },
      "source": [
        "Experimenting how to use DOcplex and IBM Quantum on a few supply chain examples "
      ]
    },
    {
      "cell_type": "markdown",
      "metadata": {
        "id": "TWpZnxqoxtCH"
      },
      "source": [
        "# 0. Install libraries & clone repo\n",
        "**You may need to restart runtime afeter all the installations!**"
      ]
    },
    {
      "cell_type": "code",
      "metadata": {
        "id": "jjhGsa9LxtCJ"
      },
      "source": [
        "import sys\n",
        "\n",
        "if hasattr(sys, 'real_prefix'):\n",
        "    #we are in a virtual env.\n",
        "    !pip install cplex && pip install docplex\n",
        "else:\n",
        "    !pip install --user cplex && pip install --user docplex\n",
        "\n",
        "print()\n",
        "!pip show cplex\n",
        "print()\n",
        "!pip show docplex\n",
        "\n",
        "#it my be useful to retstart you runtime"
      ],
      "execution_count": null,
      "outputs": []
    },
    {
      "cell_type": "code",
      "metadata": {
        "id": "zeBTiUzOwgR_"
      },
      "source": [
        "!pip install qiskit\n",
        "!pip show qiskit\n",
        "\n",
        "# !pip install qiskit-optimization\n",
        "#!pip show qiskit-optimization\n",
        "\n",
        "#it my be useful to retstart you runtime"
      ],
      "execution_count": null,
      "outputs": []
    },
    {
      "cell_type": "markdown",
      "metadata": {
        "id": "DMGKfSM9YVuM"
      },
      "source": [
        "**You may need to restart runtime here.**"
      ]
    },
    {
      "cell_type": "code",
      "metadata": {
        "id": "RPk5nF4ZxtCJ",
        "outputId": "9e379c74-f038-4c8c-bf58-9cfd224b4d28",
        "colab": {
          "base_uri": "https://localhost:8080/"
        }
      },
      "source": [
        "#it my be useful to retstart you runtime\n",
        "\n",
        "# clone repo\n",
        "!git clone https://github.com/VGGatGitHub/Summer2021.git"
      ],
      "execution_count": 5,
      "outputs": [
        {
          "output_type": "stream",
          "text": [
            "Cloning into 'Summer2021'...\n",
            "remote: Enumerating objects: 178, done.\u001b[K\n",
            "remote: Counting objects: 100% (178/178), done.\u001b[K\n",
            "remote: Compressing objects: 100% (163/163), done.\u001b[K\n",
            "remote: Total 178 (delta 92), reused 22 (delta 11), pack-reused 0\u001b[K\n",
            "Receiving objects: 100% (178/178), 289.66 KiB | 3.81 MiB/s, done.\n",
            "Resolving deltas: 100% (92/92), done.\n"
          ],
          "name": "stdout"
        }
      ]
    },
    {
      "cell_type": "markdown",
      "metadata": {
        "id": "jFOO2BnFxtCM"
      },
      "source": [
        "# 1. Restart the runtime then Run this cell to Load Data"
      ]
    },
    {
      "cell_type": "code",
      "metadata": {
        "id": "y8U39lpVaWLJ",
        "colab": {
          "base_uri": "https://localhost:8080/"
        },
        "outputId": "49e9e250-c80c-4db9-b5b1-c4b825d410cf"
      },
      "source": [
        "#next run the model.py in the folder introScenario\n",
        "!pwd\n",
        "%cd ./Summer2021/introScenario/\n",
        "#./Summer2021/intermediateScenario\n",
        "#./Summer2021/introScenario/\n",
        "#%ls\n"
      ],
      "execution_count": 1,
      "outputs": [
        {
          "output_type": "stream",
          "text": [
            "/content\n",
            "/content/Summer2021/introScenario\n"
          ],
          "name": "stdout"
        }
      ]
    },
    {
      "cell_type": "code",
      "metadata": {
        "id": "w5eQxjG1YVuP"
      },
      "source": [
        "import pandas as pd\n",
        "\n",
        "# supply + costs\n",
        "supply_file = './plants.csv'\n",
        "\n",
        "# demand\n",
        "demand_file = './customerDemand.csv'\n",
        "\n",
        "# for now load example data (plants.csv and customerDemand.csv under introScenario folder)\n",
        "s_df = pd.read_csv(supply_file)\n",
        "d_df = pd.read_csv(demand_file)"
      ],
      "execution_count": 2,
      "outputs": []
    },
    {
      "cell_type": "code",
      "metadata": {
        "id": "jpII3ShlTtMI",
        "colab": {
          "base_uri": "https://localhost:8080/",
          "height": 111
        },
        "outputId": "1b889c99-2d97-4319-a86a-784251c975f1"
      },
      "source": [
        "d_df"
      ],
      "execution_count": 3,
      "outputs": [
        {
          "output_type": "execute_result",
          "data": {
            "text/html": [
              "<div>\n",
              "<style scoped>\n",
              "    .dataframe tbody tr th:only-of-type {\n",
              "        vertical-align: middle;\n",
              "    }\n",
              "\n",
              "    .dataframe tbody tr th {\n",
              "        vertical-align: top;\n",
              "    }\n",
              "\n",
              "    .dataframe thead th {\n",
              "        text-align: right;\n",
              "    }\n",
              "</style>\n",
              "<table border=\"1\" class=\"dataframe\">\n",
              "  <thead>\n",
              "    <tr style=\"text-align: right;\">\n",
              "      <th></th>\n",
              "      <th>Product</th>\n",
              "      <th>Demand</th>\n",
              "    </tr>\n",
              "  </thead>\n",
              "  <tbody>\n",
              "    <tr>\n",
              "      <th>0</th>\n",
              "      <td>handSanitizer</td>\n",
              "      <td>100</td>\n",
              "    </tr>\n",
              "    <tr>\n",
              "      <th>1</th>\n",
              "      <td>mask</td>\n",
              "      <td>120</td>\n",
              "    </tr>\n",
              "  </tbody>\n",
              "</table>\n",
              "</div>"
            ],
            "text/plain": [
              "         Product  Demand\n",
              "0  handSanitizer     100\n",
              "1           mask     120"
            ]
          },
          "metadata": {},
          "execution_count": 3
        }
      ]
    },
    {
      "cell_type": "code",
      "metadata": {
        "id": "Urm0R_bETqO2",
        "colab": {
          "base_uri": "https://localhost:8080/",
          "height": 235
        },
        "outputId": "300d092c-a580-4fd9-a85a-8af97ede2b28"
      },
      "source": [
        "s_df"
      ],
      "execution_count": 4,
      "outputs": [
        {
          "output_type": "execute_result",
          "data": {
            "text/html": [
              "<div>\n",
              "<style scoped>\n",
              "    .dataframe tbody tr th:only-of-type {\n",
              "        vertical-align: middle;\n",
              "    }\n",
              "\n",
              "    .dataframe tbody tr th {\n",
              "        vertical-align: top;\n",
              "    }\n",
              "\n",
              "    .dataframe thead th {\n",
              "        text-align: right;\n",
              "    }\n",
              "</style>\n",
              "<table border=\"1\" class=\"dataframe\">\n",
              "  <thead>\n",
              "    <tr style=\"text-align: right;\">\n",
              "      <th></th>\n",
              "      <th>Plants</th>\n",
              "      <th>Cost</th>\n",
              "      <th>Capacity</th>\n",
              "      <th>Product</th>\n",
              "    </tr>\n",
              "  </thead>\n",
              "  <tbody>\n",
              "    <tr>\n",
              "      <th>0</th>\n",
              "      <td>1</td>\n",
              "      <td>3</td>\n",
              "      <td>40</td>\n",
              "      <td>mask</td>\n",
              "    </tr>\n",
              "    <tr>\n",
              "      <th>1</th>\n",
              "      <td>2</td>\n",
              "      <td>2</td>\n",
              "      <td>30</td>\n",
              "      <td>mask</td>\n",
              "    </tr>\n",
              "    <tr>\n",
              "      <th>2</th>\n",
              "      <td>3</td>\n",
              "      <td>1</td>\n",
              "      <td>30</td>\n",
              "      <td>handSanitizer</td>\n",
              "    </tr>\n",
              "    <tr>\n",
              "      <th>3</th>\n",
              "      <td>4</td>\n",
              "      <td>3</td>\n",
              "      <td>100</td>\n",
              "      <td>handSanitizer</td>\n",
              "    </tr>\n",
              "    <tr>\n",
              "      <th>4</th>\n",
              "      <td>5</td>\n",
              "      <td>2</td>\n",
              "      <td>60</td>\n",
              "      <td>mask</td>\n",
              "    </tr>\n",
              "    <tr>\n",
              "      <th>5</th>\n",
              "      <td>6</td>\n",
              "      <td>1</td>\n",
              "      <td>45</td>\n",
              "      <td>mask</td>\n",
              "    </tr>\n",
              "  </tbody>\n",
              "</table>\n",
              "</div>"
            ],
            "text/plain": [
              "   Plants  Cost  Capacity        Product\n",
              "0       1     3        40           mask\n",
              "1       2     2        30           mask\n",
              "2       3     1        30  handSanitizer\n",
              "3       4     3       100  handSanitizer\n",
              "4       5     2        60           mask\n",
              "5       6     1        45           mask"
            ]
          },
          "metadata": {},
          "execution_count": 4
        }
      ]
    },
    {
      "cell_type": "code",
      "metadata": {
        "id": "aNxx2K9pURif",
        "colab": {
          "base_uri": "https://localhost:8080/",
          "height": 235
        },
        "outputId": "e6b27236-c96e-40a4-bae1-6c1af1b6fae6"
      },
      "source": [
        "#s_df.drop([1,2,3], inplace = True)\n",
        "s_df"
      ],
      "execution_count": 5,
      "outputs": [
        {
          "output_type": "execute_result",
          "data": {
            "text/html": [
              "<div>\n",
              "<style scoped>\n",
              "    .dataframe tbody tr th:only-of-type {\n",
              "        vertical-align: middle;\n",
              "    }\n",
              "\n",
              "    .dataframe tbody tr th {\n",
              "        vertical-align: top;\n",
              "    }\n",
              "\n",
              "    .dataframe thead th {\n",
              "        text-align: right;\n",
              "    }\n",
              "</style>\n",
              "<table border=\"1\" class=\"dataframe\">\n",
              "  <thead>\n",
              "    <tr style=\"text-align: right;\">\n",
              "      <th></th>\n",
              "      <th>Plants</th>\n",
              "      <th>Cost</th>\n",
              "      <th>Capacity</th>\n",
              "      <th>Product</th>\n",
              "    </tr>\n",
              "  </thead>\n",
              "  <tbody>\n",
              "    <tr>\n",
              "      <th>0</th>\n",
              "      <td>1</td>\n",
              "      <td>3</td>\n",
              "      <td>40</td>\n",
              "      <td>mask</td>\n",
              "    </tr>\n",
              "    <tr>\n",
              "      <th>1</th>\n",
              "      <td>2</td>\n",
              "      <td>2</td>\n",
              "      <td>30</td>\n",
              "      <td>mask</td>\n",
              "    </tr>\n",
              "    <tr>\n",
              "      <th>2</th>\n",
              "      <td>3</td>\n",
              "      <td>1</td>\n",
              "      <td>30</td>\n",
              "      <td>handSanitizer</td>\n",
              "    </tr>\n",
              "    <tr>\n",
              "      <th>3</th>\n",
              "      <td>4</td>\n",
              "      <td>3</td>\n",
              "      <td>100</td>\n",
              "      <td>handSanitizer</td>\n",
              "    </tr>\n",
              "    <tr>\n",
              "      <th>4</th>\n",
              "      <td>5</td>\n",
              "      <td>2</td>\n",
              "      <td>60</td>\n",
              "      <td>mask</td>\n",
              "    </tr>\n",
              "    <tr>\n",
              "      <th>5</th>\n",
              "      <td>6</td>\n",
              "      <td>1</td>\n",
              "      <td>45</td>\n",
              "      <td>mask</td>\n",
              "    </tr>\n",
              "  </tbody>\n",
              "</table>\n",
              "</div>"
            ],
            "text/plain": [
              "   Plants  Cost  Capacity        Product\n",
              "0       1     3        40           mask\n",
              "1       2     2        30           mask\n",
              "2       3     1        30  handSanitizer\n",
              "3       4     3       100  handSanitizer\n",
              "4       5     2        60           mask\n",
              "5       6     1        45           mask"
            ]
          },
          "metadata": {},
          "execution_count": 5
        }
      ]
    },
    {
      "cell_type": "code",
      "metadata": {
        "id": "m3VwLMJr1wBE"
      },
      "source": [
        "inputs={'customerDemand':d_df,'plants':s_df}"
      ],
      "execution_count": 6,
      "outputs": []
    },
    {
      "cell_type": "markdown",
      "metadata": {
        "id": "89lxEMTBYVuQ"
      },
      "source": [
        "# 2. Solve the DO problem via DOcplex"
      ]
    },
    {
      "cell_type": "code",
      "metadata": {
        "id": "UIfEsCTjYVuQ"
      },
      "source": [
        "#If you get an error you may have to restart the runtime\n",
        "import cplex\n",
        "import docplex.mp\n",
        "from docplex.mp.model import Model"
      ],
      "execution_count": 7,
      "outputs": []
    },
    {
      "cell_type": "code",
      "metadata": {
        "id": "QyDnKO0VRW2r"
      },
      "source": [
        "global output_lock\n",
        "#with output_lock:\n",
        "\n",
        "try:  \n",
        "  if output_lock:\n",
        "    print(output_lock)\n",
        "except:\n",
        "  output_lock=dict({'output_lock':{}})\n",
        "\n",
        "try: \n",
        "  if outputs:\n",
        "    print(outputs)\n",
        "except:\n",
        "  outputs=dict()\n"
      ],
      "execution_count": 8,
      "outputs": []
    },
    {
      "cell_type": "code",
      "metadata": {
        "id": "QR6mPc1i4fpz",
        "colab": {
          "base_uri": "https://localhost:8080/"
        },
        "outputId": "61bd78a2-290a-4598-8379-b587b4ed69f9"
      },
      "source": [
        "exec(open(\"./model.py\").read())"
      ],
      "execution_count": 9,
      "outputs": [
        {
          "output_type": "stream",
          "text": [
            "* building wado model\n",
            "model building done in 0.09021592140197754 secs\n",
            "* running wado model\n",
            "Version identifier: 20.1.0.0 | 2020-11-11 | 9bedb6d68\n",
            "CPXPARAM_Read_DataCheck                          1\n",
            "CPXPARAM_TimeLimit                               120\n",
            "Found incumbent of value 0.000000 after 0.00 sec. (0.00 ticks)\n",
            "Tried aggregator 1 time.\n",
            "MIP Presolve eliminated 20 rows and 12 columns.\n",
            "All rows and columns eliminated.\n",
            "Presolve time = 0.01 sec. (0.01 ticks)\n",
            "\n",
            "Root node processing (before b&c):\n",
            "  Real time             =    0.02 sec. (0.01 ticks)\n",
            "Parallel b&c, 2 threads:\n",
            "  Real time             =    0.00 sec. (0.00 ticks)\n",
            "  Sync time (average)   =    0.00 sec.\n",
            "  Wait time (average)   =    0.00 sec.\n",
            "                          ------------\n",
            "Total (root+branch&cut) =    0.02 sec. (0.01 ticks)\n",
            "Solve status: JobSolveStatus.OPTIMAL_SOLUTION\n",
            "* model docplex_model1 solved with objective = -105680.000\n",
            "*  KPI: total plants allocations                  = 112640.000\n",
            "*  KPI: total Cost of plants over all allocations = 6960.000\n",
            "model solve done in 0.09888863563537598 secs\n",
            "solution export done in 0.013811588287353516 secs\n"
          ],
          "name": "stdout"
        }
      ]
    },
    {
      "cell_type": "code",
      "metadata": {
        "id": "oT2QEZYAX97y",
        "colab": {
          "base_uri": "https://localhost:8080/"
        },
        "outputId": "0bfb311d-1b27-4527-a8f2-e00c181bbdaa"
      },
      "source": [
        "outputs\n"
      ],
      "execution_count": 10,
      "outputs": [
        {
          "output_type": "execute_result",
          "data": {
            "text/plain": [
              "{'plantsAllocation':    plants  ...  plants minValueAllocationForAssignment\n",
              " 0       1  ...                                       0\n",
              " 1       2  ...                                       0\n",
              " 2       3  ...                                       0\n",
              " 3       4  ...                                       0\n",
              " 4       5  ...                                       0\n",
              " 5       6  ...                                       0\n",
              " \n",
              " [6 rows x 7 columns]}"
            ]
          },
          "metadata": {},
          "execution_count": 10
        }
      ]
    },
    {
      "cell_type": "code",
      "metadata": {
        "id": "TiWDpfHILzSo",
        "colab": {
          "base_uri": "https://localhost:8080/",
          "height": 269
        },
        "outputId": "5a175d92-b1f8-4e7b-8639-a9e9e2c27e47"
      },
      "source": [
        "outputs['plantsAllocation']"
      ],
      "execution_count": 11,
      "outputs": [
        {
          "output_type": "execute_result",
          "data": {
            "text/html": [
              "<div>\n",
              "<style scoped>\n",
              "    .dataframe tbody tr th:only-of-type {\n",
              "        vertical-align: middle;\n",
              "    }\n",
              "\n",
              "    .dataframe tbody tr th {\n",
              "        vertical-align: top;\n",
              "    }\n",
              "\n",
              "    .dataframe thead th {\n",
              "        text-align: right;\n",
              "    }\n",
              "</style>\n",
              "<table border=\"1\" class=\"dataframe\">\n",
              "  <thead>\n",
              "    <tr style=\"text-align: right;\">\n",
              "      <th></th>\n",
              "      <th>plants</th>\n",
              "      <th>plants allocation decision</th>\n",
              "      <th>plants selection decision</th>\n",
              "      <th>plants Capacity</th>\n",
              "      <th>plants Product</th>\n",
              "      <th>plants Cost</th>\n",
              "      <th>plants minValueAllocationForAssignment</th>\n",
              "    </tr>\n",
              "  </thead>\n",
              "  <tbody>\n",
              "    <tr>\n",
              "      <th>0</th>\n",
              "      <td>1</td>\n",
              "      <td>0.0</td>\n",
              "      <td>1.0</td>\n",
              "      <td>40</td>\n",
              "      <td>mask</td>\n",
              "      <td>3</td>\n",
              "      <td>0</td>\n",
              "    </tr>\n",
              "    <tr>\n",
              "      <th>1</th>\n",
              "      <td>2</td>\n",
              "      <td>15.0</td>\n",
              "      <td>1.0</td>\n",
              "      <td>30</td>\n",
              "      <td>mask</td>\n",
              "      <td>2</td>\n",
              "      <td>0</td>\n",
              "    </tr>\n",
              "    <tr>\n",
              "      <th>2</th>\n",
              "      <td>3</td>\n",
              "      <td>30.0</td>\n",
              "      <td>1.0</td>\n",
              "      <td>30</td>\n",
              "      <td>handSanitizer</td>\n",
              "      <td>1</td>\n",
              "      <td>0</td>\n",
              "    </tr>\n",
              "    <tr>\n",
              "      <th>3</th>\n",
              "      <td>4</td>\n",
              "      <td>70.0</td>\n",
              "      <td>1.0</td>\n",
              "      <td>100</td>\n",
              "      <td>handSanitizer</td>\n",
              "      <td>3</td>\n",
              "      <td>0</td>\n",
              "    </tr>\n",
              "    <tr>\n",
              "      <th>4</th>\n",
              "      <td>5</td>\n",
              "      <td>60.0</td>\n",
              "      <td>1.0</td>\n",
              "      <td>60</td>\n",
              "      <td>mask</td>\n",
              "      <td>2</td>\n",
              "      <td>0</td>\n",
              "    </tr>\n",
              "    <tr>\n",
              "      <th>5</th>\n",
              "      <td>6</td>\n",
              "      <td>45.0</td>\n",
              "      <td>1.0</td>\n",
              "      <td>45</td>\n",
              "      <td>mask</td>\n",
              "      <td>1</td>\n",
              "      <td>0</td>\n",
              "    </tr>\n",
              "  </tbody>\n",
              "</table>\n",
              "</div>"
            ],
            "text/plain": [
              "   plants  ...  plants minValueAllocationForAssignment\n",
              "0       1  ...                                       0\n",
              "1       2  ...                                       0\n",
              "2       3  ...                                       0\n",
              "3       4  ...                                       0\n",
              "4       5  ...                                       0\n",
              "5       6  ...                                       0\n",
              "\n",
              "[6 rows x 7 columns]"
            ]
          },
          "metadata": {},
          "execution_count": 11
        }
      ]
    },
    {
      "cell_type": "code",
      "metadata": {
        "id": "Z7pXtDgMxKiX",
        "colab": {
          "base_uri": "https://localhost:8080/"
        },
        "outputId": "345d4505-7607-4767-9887-b0d3279c30ae"
      },
      "source": [
        "model"
      ],
      "execution_count": 12,
      "outputs": [
        {
          "output_type": "execute_result",
          "data": {
            "text/plain": [
              "docplex.mp.Model['docplex_model1']"
            ]
          },
          "metadata": {},
          "execution_count": 12
        }
      ]
    },
    {
      "cell_type": "code",
      "metadata": {
        "colab": {
          "base_uri": "https://localhost:8080/"
        },
        "id": "GJb3NIm38Iuz",
        "outputId": "aea2f2ce-6546-4636-f68a-fe7a13b49c77"
      },
      "source": [
        "solution=model.solve()\n",
        "print(solution)\n",
        "solution"
      ],
      "execution_count": 13,
      "outputs": [
        {
          "output_type": "stream",
          "text": [
            "solution for: docplex_model1\n",
            "objective: -105680\n",
            "x2=15\n",
            "x3=30\n",
            "x4=70\n",
            "x5=60\n",
            "x6=45\n",
            "x7=1\n",
            "x8=1\n",
            "x9=1\n",
            "x10=1\n",
            "x11=1\n",
            "x12=1\n",
            "\n"
          ],
          "name": "stdout"
        },
        {
          "output_type": "execute_result",
          "data": {
            "text/plain": [
              "docplex.mp.solution.SolveSolution(obj=-105680,values={x2:15,x3:30,x4:70,.."
            ]
          },
          "metadata": {},
          "execution_count": 13
        }
      ]
    },
    {
      "cell_type": "code",
      "metadata": {
        "id": "zHUJX4zh7DtO",
        "colab": {
          "base_uri": "https://localhost:8080/"
        },
        "outputId": "640c7def-9491-46e8-869a-783b214c35d5"
      },
      "source": [
        "cost = solution.get_objective_value()\n",
        "x = solution.get_all_values()\n",
        "x = np.array(x)\n",
        "print(cost,x)\n"
      ],
      "execution_count": 14,
      "outputs": [
        {
          "output_type": "stream",
          "text": [
            "-105680.0 [ 0. 15. 30. 70. 60. 45.  1.  1.  1.  1.  1.  1.]\n"
          ],
          "name": "stdout"
        }
      ]
    },
    {
      "cell_type": "markdown",
      "metadata": {
        "id": "s5q263eZGVaP"
      },
      "source": [
        "#Minimum Eigen Optimizers: exact, qaoa, rqaoa\n",
        "https://quantum-computing.ibm.com/lab/docs/iql/optimization\n",
        "\n",
        "Tested on a simple QUBO example"
      ]
    },
    {
      "cell_type": "code",
      "metadata": {
        "id": "ab6VoroV3KP4"
      },
      "source": [
        "#https://quantum-computing.ibm.com/lab/docs/iql/optimization\n",
        "\n",
        "from qiskit import BasicAer\n",
        "from qiskit.aqua import aqua_globals, QuantumInstance\n",
        "from qiskit.aqua.algorithms import QAOA, NumPyMinimumEigensolver\n",
        "from qiskit.optimization.algorithms import MinimumEigenOptimizer, RecursiveMinimumEigenOptimizer\n",
        "from qiskit.optimization import QuadraticProgram\n",
        "\n",
        "aqua_globals.random_seed = 10598\n",
        "#('qasm_simulator') #qasm_simulator or statevector_simulator\n",
        "\n",
        "quantum_instance = QuantumInstance(BasicAer.get_backend('qasm_simulator'),\n",
        "                                   seed_simulator=aqua_globals.random_seed,\n",
        "                                   seed_transpiler=aqua_globals.random_seed)\n",
        "qaoa_mes = QAOA(quantum_instance=quantum_instance, initial_point=[0., 0.])\n",
        "exact_mes = NumPyMinimumEigensolver()\n",
        "\n",
        "qaoa = MinimumEigenOptimizer(qaoa_mes)   # using QAOA\n",
        "exact = MinimumEigenOptimizer(exact_mes)  # using the exact classical numpy minimum eigen solver\n",
        "rqaoa = RecursiveMinimumEigenOptimizer(min_eigen_optimizer=qaoa, min_num_vars=1, min_num_vars_optimizer=exact)\n"
      ],
      "execution_count": null,
      "outputs": []
    },
    {
      "cell_type": "code",
      "metadata": {
        "id": "ANdqD_Mn4SyL",
        "colab": {
          "base_uri": "https://localhost:8080/"
        },
        "outputId": "1932c80a-7032-4f90-f744-57f995adb5af"
      },
      "source": [
        "# create a QUBO\n",
        "if False: #qp_eq_bin or qp_eq\n",
        "  qubo=qp_eq_bin\n",
        "  print(mod.export_as_lp_string())\n",
        "else:\n",
        "  qubo = QuadraticProgram()\n",
        "  qubo.binary_var('x')\n",
        "  qubo.binary_var('y')\n",
        "  qubo.binary_var('z')\n",
        "  qubo.minimize(linear=[1,-2,3], quadratic={('x', 'y'): 1, ('x', 'z'): -1, ('y', 'z'): 2})\n",
        "  print(qubo.export_as_lp_string())\n"
      ],
      "execution_count": 16,
      "outputs": [
        {
          "output_type": "stream",
          "text": [
            "\\ This file has been generated by DOcplex\n",
            "\\ ENCODING=ISO-8859-1\n",
            "\\Problem name: CPLEX\n",
            "\n",
            "Minimize\n",
            " obj: x - 2 y + 3 z + [ 2 x*y - 2 x*z + 4 y*z ]/2\n",
            "Subject To\n",
            "\n",
            "Bounds\n",
            " 0 <= x <= 1\n",
            " 0 <= y <= 1\n",
            " 0 <= z <= 1\n",
            "\n",
            "Binaries\n",
            " x y z\n",
            "End\n",
            "\n"
          ],
          "name": "stdout"
        }
      ]
    },
    {
      "cell_type": "code",
      "metadata": {
        "id": "2utomO5C5YeB",
        "colab": {
          "base_uri": "https://localhost:8080/"
        },
        "outputId": "16d9eb9d-0b9c-44a9-9f50-081f87b8321a"
      },
      "source": [
        "%time rqaoa_result = rqaoa.solve(qubo)\n",
        "print(rqaoa_result)"
      ],
      "execution_count": 17,
      "outputs": [
        {
          "output_type": "stream",
          "text": [
            "/usr/local/lib/python3.7/dist-packages/qiskit/aqua/operators/operator_base.py:46: DeprecationWarning: The package qiskit.aqua.operators is deprecated. It was moved/refactored to qiskit.opflow (pip install qiskit-terra). For more information see <https://github.com/Qiskit/qiskit-aqua/blob/main/README.md#migration-guide>\n",
            "  warn_package('aqua.operators', 'qiskit.opflow', 'qiskit-terra')\n",
            "/usr/local/lib/python3.7/dist-packages/qiskit/aqua/components/variational_forms/variational_form.py:48: DeprecationWarning: The package qiskit.aqua.components.variational_forms is deprecated. For more information see <https://github.com/Qiskit/qiskit-aqua/blob/main/README.md#migration-guide>\n",
            "  warn_package('aqua.components.variational_forms')\n"
          ],
          "name": "stderr"
        },
        {
          "output_type": "stream",
          "text": [
            "CPU times: user 593 ms, sys: 94.7 ms, total: 688 ms\n",
            "Wall time: 2.26 s\n",
            "optimal function value: 1.0\n",
            "optimal value: [1. 0. 0.]\n",
            "status: SUCCESS\n"
          ],
          "name": "stdout"
        }
      ]
    },
    {
      "cell_type": "code",
      "metadata": {
        "id": "8y54vrkE49gp",
        "colab": {
          "base_uri": "https://localhost:8080/"
        },
        "outputId": "72eabb9d-94b0-4ab7-dd35-6067e3ca7c48"
      },
      "source": [
        "%time qaoa_result = qaoa.solve(qubo)\n",
        "print(qaoa_result)"
      ],
      "execution_count": 18,
      "outputs": [
        {
          "output_type": "stream",
          "text": [
            "CPU times: user 192 ms, sys: 4.32 ms, total: 197 ms\n",
            "Wall time: 194 ms\n",
            "optimal function value: -2.0\n",
            "optimal value: [0. 1. 0.]\n",
            "status: SUCCESS\n"
          ],
          "name": "stdout"
        }
      ]
    },
    {
      "cell_type": "code",
      "metadata": {
        "id": "G6l8RUow3uPN",
        "colab": {
          "base_uri": "https://localhost:8080/"
        },
        "outputId": "b77cd1be-5eac-4112-80f9-33482e2e9fad"
      },
      "source": [
        "%time exact_result = exact.solve(qubo)\n",
        "print(exact_result)"
      ],
      "execution_count": 19,
      "outputs": [
        {
          "output_type": "stream",
          "text": [
            "CPU times: user 22 ms, sys: 631 µs, total: 22.6 ms\n",
            "Wall time: 22.9 ms\n",
            "optimal function value: -2.0\n",
            "optimal value: [0. 1. 0.]\n",
            "status: SUCCESS\n"
          ],
          "name": "stdout"
        }
      ]
    },
    {
      "cell_type": "code",
      "metadata": {
        "id": "WbXFiLhT4hML",
        "colab": {
          "base_uri": "https://localhost:8080/"
        },
        "outputId": "30db9700-5631-45e6-e28e-f92182950136"
      },
      "source": [
        "op, offset = qubo.to_ising()\n",
        "qp=QuadraticProgram()\n",
        "qp.from_ising(op, offset, linear=True)\n",
        "print(qp.export_as_lp_string())\n"
      ],
      "execution_count": 20,
      "outputs": [
        {
          "output_type": "stream",
          "text": [
            "\\ This file has been generated by DOcplex\n",
            "\\ ENCODING=ISO-8859-1\n",
            "\\Problem name: CPLEX\n",
            "\n",
            "Minimize\n",
            " obj: x_0 - 2 x_1 + 3 x_2 + [ 2 x_0*x_1 - 2 x_0*x_2 + 4 x_1*x_2 ]/2\n",
            "Subject To\n",
            "\n",
            "Bounds\n",
            " 0 <= x_0 <= 1\n",
            " 0 <= x_1 <= 1\n",
            " 0 <= x_2 <= 1\n",
            "\n",
            "Binaries\n",
            " x_0 x_1 x_2\n",
            "End\n",
            "\n"
          ],
          "name": "stdout"
        }
      ]
    },
    {
      "cell_type": "code",
      "metadata": {
        "id": "L8xtWbCa4vSE",
        "colab": {
          "base_uri": "https://localhost:8080/"
        },
        "outputId": "8cddd59e-8559-4edd-9b89-67c769ea5217"
      },
      "source": [
        "%time exact_result = exact.solve(qp)\n",
        "print(exact_result)"
      ],
      "execution_count": 21,
      "outputs": [
        {
          "output_type": "stream",
          "text": [
            "CPU times: user 21.6 ms, sys: 794 µs, total: 22.4 ms\n",
            "Wall time: 23 ms\n",
            "optimal function value: -2.0\n",
            "optimal value: [0. 1. 0.]\n",
            "status: SUCCESS\n"
          ],
          "name": "stdout"
        }
      ]
    },
    {
      "cell_type": "markdown",
      "metadata": {
        "id": "wxzevubBUwLu"
      },
      "source": [
        "#Try Grover Optimizer: grover_optimizer"
      ]
    },
    {
      "cell_type": "code",
      "metadata": {
        "id": "Cy1FE4DCU5-A"
      },
      "source": [
        "from qiskit.aqua.algorithms import NumPyMinimumEigensolver\n",
        "from qiskit.optimization.algorithms import GroverOptimizer, MinimumEigenOptimizer\n",
        "from qiskit.optimization.problems import QuadraticProgram\n",
        "from qiskit import BasicAer\n",
        "from docplex.mp.model import Model\n",
        "\n",
        "backend = BasicAer.get_backend('statevector_simulator') #qasm_simulator or statevector_simulator\n",
        "grover_optimizer = GroverOptimizer(6, num_iterations=10, quantum_instance=backend)\n"
      ],
      "execution_count": 22,
      "outputs": []
    },
    {
      "cell_type": "code",
      "metadata": {
        "id": "op7B8DOcVCj3",
        "colab": {
          "base_uri": "https://localhost:8080/"
        },
        "outputId": "9473976e-08a0-49d1-f0ce-b0ae56225195"
      },
      "source": [
        "%time results = grover_optimizer.solve(qp)#qubo or qp\n",
        "print(\"x={}\".format(results.x))\n",
        "print(\"fval={}\".format(results.fval))"
      ],
      "execution_count": 23,
      "outputs": [
        {
          "output_type": "stream",
          "text": [
            "/usr/local/lib/python3.7/dist-packages/qiskit/aqua/algorithms/amplitude_amplifiers/grover.py:216: DeprecationWarning: The package qiskit.aqua.algorithms.amplitude_amplifiers is deprecated. It was moved/refactored to qiskit.algorithms.amplitude_amplifiers (pip install qiskit-terra). For more information see <https://github.com/Qiskit/qiskit-aqua/blob/main/README.md#migration-guide>\n",
            "  'qiskit.algorithms.amplitude_amplifiers', 'qiskit-terra')\n"
          ],
          "name": "stderr"
        },
        {
          "output_type": "stream",
          "text": [
            "CPU times: user 50.1 s, sys: 2.04 s, total: 52.1 s\n",
            "Wall time: 48.5 s\n",
            "x=[0. 1. 0.]\n",
            "fval=-2.0\n"
          ],
          "name": "stdout"
        }
      ]
    },
    {
      "cell_type": "code",
      "metadata": {
        "id": "amMIXqXADYuw",
        "colab": {
          "base_uri": "https://localhost:8080/"
        },
        "outputId": "e9272bd3-df19-48be-db80-e53727d8e03e"
      },
      "source": [
        "%time results = grover_optimizer.solve(qubo)#qubo or qp\n",
        "print(\"x={}\".format(results.x))\n",
        "print(\"fval={}\".format(results.fval))"
      ],
      "execution_count": 24,
      "outputs": [
        {
          "output_type": "stream",
          "text": [
            "CPU times: user 56.7 s, sys: 2.24 s, total: 59 s\n",
            "Wall time: 54.7 s\n",
            "x=[0. 1. 0.]\n",
            "fval=-2.0\n"
          ],
          "name": "stdout"
        }
      ]
    },
    {
      "cell_type": "markdown",
      "metadata": {
        "id": "3SDl5IkWMFQr"
      },
      "source": [
        "#Try ADMM Optimizer (using cobyla or cplex)\n",
        "this optimizer does not do well on the simple QUBO\n"
      ]
    },
    {
      "cell_type": "code",
      "metadata": {
        "id": "Pb2LNiKgMx3t"
      },
      "source": [
        "import time\n",
        "from typing import List, Optional, Any\n",
        "import numpy as np\n",
        "import matplotlib.pyplot as plt \n",
        "\n",
        "from docplex.mp.model import Model\n",
        "\n",
        "from qiskit import BasicAer\n",
        "from qiskit.aqua.algorithms import QAOA, NumPyMinimumEigensolver\n",
        "from qiskit.optimization.algorithms import CobylaOptimizer, MinimumEigenOptimizer\n",
        "from qiskit.optimization.problems import QuadraticProgram\n",
        "from qiskit.optimization.algorithms.admm_optimizer import ADMMParameters, ADMMOptimizer\n",
        "\n",
        "# If CPLEX is installed, you can uncomment this line to import the CplexOptimizer.\n",
        "# CPLEX can be used in this tutorial to solve the convex continuous problem, \n",
        "# but also as a reference to solve the QUBO, or even the full problem.\n",
        "# \n",
        "from qiskit.optimization.algorithms import CplexOptimizer"
      ],
      "execution_count": 25,
      "outputs": []
    },
    {
      "cell_type": "code",
      "metadata": {
        "id": "FjH7FontM2sY"
      },
      "source": [
        "# define COBYLA optimizer to handle convex continuous problems.\n",
        "cobyla = CobylaOptimizer()\n",
        "\n",
        "# define QAOA via the minimum eigen optimizer\n",
        "qaoa = MinimumEigenOptimizer(QAOA(quantum_instance=BasicAer.get_backend('qasm_simulator')))\n",
        "#('qasm_simulator') #qasm_simulator or statevector_simulator\n",
        "# exact QUBO solver as classical benchmark\n",
        "exact = MinimumEigenOptimizer(NumPyMinimumEigensolver()) # to solve QUBOs\n"
      ],
      "execution_count": 37,
      "outputs": []
    },
    {
      "cell_type": "code",
      "metadata": {
        "id": "PAL07KTjQbW0",
        "colab": {
          "base_uri": "https://localhost:8080/"
        },
        "outputId": "3375149c-f6ba-4b75-cd02-791e5656c424"
      },
      "source": [
        "print(qubo)"
      ],
      "execution_count": 38,
      "outputs": [
        {
          "output_type": "stream",
          "text": [
            "\\ This file has been generated by DOcplex\n",
            "\\ ENCODING=ISO-8859-1\n",
            "\\Problem name: CPLEX\n",
            "\n",
            "Minimize\n",
            " obj: x - 2 y + 3 z + [ 2 x*y - 2 x*z + 4 y*z ]/2\n",
            "Subject To\n",
            "\n",
            "Bounds\n",
            " 0 <= x <= 1\n",
            " 0 <= y <= 1\n",
            " 0 <= z <= 1\n",
            "\n",
            "Binaries\n",
            " x y z\n",
            "End\n",
            "\n"
          ],
          "name": "stdout"
        }
      ]
    },
    {
      "cell_type": "code",
      "metadata": {
        "id": "0eYHQLwHNBt0"
      },
      "source": [
        "admm_params = ADMMParameters(\n",
        "                            rho_initial=1001, \n",
        "                            beta=1000, \n",
        "                            factor_c=900,\n",
        "                            maxiter=100,\n",
        "                            three_block=True, tol=1.e-6\n",
        "                        )"
      ],
      "execution_count": 39,
      "outputs": []
    },
    {
      "cell_type": "code",
      "metadata": {
        "id": "LurKAKN2NJWe",
        "colab": {
          "base_uri": "https://localhost:8080/"
        },
        "outputId": "2343b3a8-5b84-46ad-9228-becffd2622d4"
      },
      "source": [
        "# in case CPLEX is installed it can also be used for the convex problems, the QUBO, \n",
        "# or as a benchmark for the full problem.\n",
        "#\n",
        "cplex = CplexOptimizer()\n",
        "\n",
        "# define QUBO optimizer\n",
        "# qubo_optimizer = exact #qaoa #rqaoa #grover_optimizer\n",
        "# qubo_optimizer = cplex  # uncomment to use CPLEX instead\n",
        "\n",
        "i=-1\n",
        "optms=['cplex','exact','qaoa','rqaoa']\n",
        "for qubo_optimizer in [cplex,exact,qaoa,rqaoa]:\n",
        "\n",
        "  # define classical optimizer\n",
        "  convex_optimizer =  cobyla\n",
        "  #convex_optimizer = cplex  # uncomment to use CPLEX instead\n",
        "\n",
        "  # initialize ADMM with classical QUBO and convex optimizer\n",
        "  admm = ADMMOptimizer(params=admm_params, \n",
        "                      qubo_optimizer=qubo_optimizer,\n",
        "                      continuous_optimizer=convex_optimizer)\n",
        "\n",
        "  # run ADMM to solve problem\n",
        "  i+=1\n",
        "  print(\"\\nOptimizer:\",optms[i])\n",
        "  %time result = admm.solve(qubo)\n",
        "  print(\"x={}\".format(result.x))\n",
        "  print(\"fval={:.2f}\".format(result.fval))"
      ],
      "execution_count": 40,
      "outputs": [
        {
          "output_type": "stream",
          "text": [
            "\n",
            "Optimizer: cplex\n",
            "CPU times: user 10.3 s, sys: 3.47 s, total: 13.7 s\n",
            "Wall time: 16.5 s\n",
            "x=[0. 0. 0.]\n",
            "fval=0.00\n",
            "\n",
            "Optimizer: exact\n",
            "CPU times: user 11.1 s, sys: 2.63 s, total: 13.7 s\n",
            "Wall time: 15.8 s\n",
            "x=[0. 0. 0.]\n",
            "fval=0.00\n",
            "\n",
            "Optimizer: qaoa\n",
            "CPU times: user 27.6 s, sys: 3.04 s, total: 30.7 s\n",
            "Wall time: 32.7 s\n",
            "x=[0. 0. 0.]\n",
            "fval=0.00\n",
            "\n",
            "Optimizer: rqaoa\n",
            "CPU times: user 38.4 s, sys: 3.15 s, total: 41.6 s\n",
            "Wall time: 43.4 s\n",
            "x=[1. 0. 0.]\n",
            "fval=1.00\n"
          ],
          "name": "stdout"
        }
      ]
    },
    {
      "cell_type": "code",
      "metadata": {
        "id": "kiet4aWXNPk0",
        "colab": {
          "base_uri": "https://localhost:8080/"
        },
        "outputId": "8686ff4e-7201-4546-f378-989b8d4609c3"
      },
      "source": [
        "# run ADMM to solve problem\n",
        "%time result = admm.solve(qp,)\n",
        "print(\"x={}\".format(result.x))\n",
        "print(\"fval={:.2f}\".format(result.fval))"
      ],
      "execution_count": 41,
      "outputs": [
        {
          "output_type": "stream",
          "text": [
            "CPU times: user 38.8 s, sys: 3.23 s, total: 42.1 s\n",
            "Wall time: 44 s\n",
            "x=[1. 0. 0.]\n",
            "fval=1.00\n"
          ],
          "name": "stdout"
        }
      ]
    },
    {
      "cell_type": "markdown",
      "metadata": {
        "id": "DQAN0w9yjMy7"
      },
      "source": [
        "#Minimum Eigen Optimizer using VQE"
      ]
    },
    {
      "cell_type": "code",
      "metadata": {
        "id": "EenPYo1HjuGY"
      },
      "source": [
        "from qiskit.circuit.library import RealAmplitudes\n",
        "from qiskit.aqua.components.optimizers import COBYLA\n",
        "from qiskit.aqua.algorithms import NumPyMinimumEigensolver, VQE\n",
        "from qiskit.aqua.operators import PauliExpectation, CVaRExpectation\n",
        "from qiskit.optimization import QuadraticProgram\n",
        "from qiskit.optimization.converters import LinearEqualityToPenalty\n",
        "from qiskit.optimization.algorithms import MinimumEigenOptimizer\n",
        "from qiskit import execute, Aer\n",
        "from qiskit.aqua import aqua_globals\n",
        "\n",
        "import numpy as np\n",
        "import matplotlib.pyplot as plt\n",
        "from docplex.mp.model import Model"
      ],
      "execution_count": 42,
      "outputs": []
    },
    {
      "cell_type": "code",
      "metadata": {
        "id": "KHeXveFnjxn6"
      },
      "source": [
        "aqua_globals.random_seed = 123456\n",
        "n = 12            # number of assets for the variational ansatz"
      ],
      "execution_count": 43,
      "outputs": []
    },
    {
      "cell_type": "code",
      "metadata": {
        "id": "pOhPjURekQQ8"
      },
      "source": [
        "# set classical optimizer\n",
        "maxiter = 100\n",
        "optimizer = COBYLA(maxiter=maxiter)\n",
        "\n",
        "# set variational ansatz\n",
        "var_form = RealAmplitudes(n, reps=1)\n",
        "m = var_form.num_parameters\n",
        "\n",
        "# set backend\n",
        "backend_name = 'qasm_simulator'  # use this for QASM simulator qasm_simulator or statevector_simulator\n",
        "# backend_name = 'statevector_simulator'  # use this for statevector simlator\n",
        "backend = Aer.get_backend(backend_name)  \n",
        "\n",
        "# run variational optimization for different values of alpha\n",
        "alphas = [1.0, 0.50, 0.25]  # confidence levels to be evaluated"
      ],
      "execution_count": 44,
      "outputs": []
    },
    {
      "cell_type": "code",
      "metadata": {
        "id": "w1LQoClyj4Yi",
        "colab": {
          "base_uri": "https://localhost:8080/"
        },
        "outputId": "45d0dc19-b59a-44e9-c510-eb8eaea5f6a7"
      },
      "source": [
        "# dictionaries to store optimization progress and results\n",
        "objectives = {alpha: [] for alpha in alphas}  # set of tested objective functions w.r.t. alpha\n",
        "results = {}  # results of minimum eigensolver w.r.t alpha\n",
        "\n",
        "# callback to store intermediate results\n",
        "def callback(i, params, obj, stddev, alpha):\n",
        "    # we translate the objective from the internal Ising representation\n",
        "    # to the original optimization problem\n",
        "    objectives[alpha] += [-(obj + offset)]  \n",
        "\n",
        "# loop over all given alpha values\n",
        "for alpha in alphas:\n",
        "    \n",
        "    # initialize CVaR_alpha objective\n",
        "    cvar_exp = CVaRExpectation(alpha, PauliExpectation())\n",
        "    cvar_exp.compute_variance = lambda x: [0]  # to be fixed in PR #1373\n",
        "    \n",
        "    # initialize VQE using CVaR\n",
        "    vqe = VQE(expectation=cvar_exp, optimizer=optimizer, var_form=var_form, quantum_instance=backend,\n",
        "              callback=lambda i, params, obj, stddev: callback(i, params, obj, stddev, alpha))\n",
        "   \n",
        "    # initialize optimization algorithm based on CVaR-VQE\n",
        "    opt_alg = MinimumEigenOptimizer(vqe)\n",
        "\n",
        "    # solve problem\n",
        "    print()\n",
        "    %time results[alpha] = opt_alg.solve(qubo) #VGG qp, qubo, mod, mod_Qubo\n",
        "    \n",
        "    # print results\n",
        "    print('alpha = {}:'.format(alpha))\n",
        "    print(results[alpha])\n",
        "  "
      ],
      "execution_count": 45,
      "outputs": [
        {
          "output_type": "stream",
          "text": [
            "\n",
            "CPU times: user 669 ms, sys: 17.1 ms, total: 686 ms\n",
            "Wall time: 703 ms\n",
            "alpha = 1.0:\n",
            "optimal function value: -2.0\n",
            "optimal value: [0. 1. 0.]\n",
            "status: SUCCESS\n",
            "\n",
            "CPU times: user 571 ms, sys: 8.4 ms, total: 580 ms\n",
            "Wall time: 582 ms\n",
            "alpha = 0.5:\n",
            "optimal function value: -2.0\n",
            "optimal value: [0. 1. 0.]\n",
            "status: SUCCESS\n",
            "\n",
            "CPU times: user 517 ms, sys: 6.9 ms, total: 524 ms\n",
            "Wall time: 522 ms\n",
            "alpha = 0.25:\n",
            "optimal function value: -2.0\n",
            "optimal value: [0. 1. 0.]\n",
            "status: SUCCESS\n"
          ],
          "name": "stdout"
        }
      ]
    },
    {
      "cell_type": "markdown",
      "metadata": {
        "id": "pou-xP5MYVuR"
      },
      "source": [
        "# 3. Solve the DO problem using QISKit"
      ]
    },
    {
      "cell_type": "code",
      "metadata": {
        "id": "wtwrodHZYVuR",
        "colab": {
          "base_uri": "https://localhost:8080/"
        },
        "outputId": "69fc0d1e-9cf7-40e1-ef67-1a75fc62da21"
      },
      "source": [
        "# take a look at https://quantum-computing.ibm.com/lab/docs/iql/optimization\n",
        "\n",
        "#from qiskit_optimization import QuadraticProgram\n",
        "#from qiskit_optimization.translators import from_docplex_mp\n",
        "\n",
        "from qiskit.optimization import QuadraticProgram\n",
        "\n",
        "# load from a Docplex model\n",
        "mod = QuadraticProgram()\n",
        "mod.from_docplex(model)\n",
        "print(mod.export_as_lp_string())"
      ],
      "execution_count": 83,
      "outputs": [
        {
          "output_type": "stream",
          "text": [
            "\\ This file has been generated by DOcplex\n",
            "\\ ENCODING=ISO-8859-1\n",
            "\\Problem name: docplex_model1\n",
            "\n",
            "Minimize\n",
            " obj: - 464 x0 - 480 x1 - 496 x2 - 464 x3 - 480 x4 - 496 x5\n",
            "Subject To\n",
            " _L_EXPR_1: x0 - 40 x6 <= 0\n",
            " _L_EXPR_2: x1 - 30 x7 <= 0\n",
            " _L_EXPR_3: x2 - 30 x8 <= 0\n",
            " _L_EXPR_4: x3 - 100 x9 <= 0\n",
            " _L_EXPR_5: x4 - 60 x10 <= 0\n",
            " _L_EXPR_6: x5 - 45 x11 <= 0\n",
            " _L_EXPR_7: x0 >= 0\n",
            " _L_EXPR_8: x1 >= 0\n",
            " _L_EXPR_9: x2 >= 0\n",
            " _L_EXPR_10: x3 >= 0\n",
            " _L_EXPR_11: x4 >= 0\n",
            " _L_EXPR_12: x5 >= 0\n",
            " _L_EXPR_13: x0 <= 40\n",
            " _L_EXPR_14: x1 <= 30\n",
            " _L_EXPR_15: x2 <= 30\n",
            " _L_EXPR_16: x3 <= 100\n",
            " _L_EXPR_17: x4 <= 60\n",
            " _L_EXPR_18: x5 <= 45\n",
            " _L_EXPR_19: x2 + x3 <= 100\n",
            " _L_EXPR_20: x0 + x1 + x4 + x5 <= 120\n",
            "\n",
            "Bounds\n",
            " 0 <= x6 <= 1\n",
            " 0 <= x7 <= 1\n",
            " 0 <= x8 <= 1\n",
            " 0 <= x9 <= 1\n",
            " 0 <= x10 <= 1\n",
            " 0 <= x11 <= 1\n",
            "\n",
            "Binaries\n",
            " x6 x7 x8 x9 x10 x11\n",
            "\n",
            "Generals\n",
            " x0 x1 x2 x3 x4 x5\n",
            "End\n",
            "\n"
          ],
          "name": "stdout"
        }
      ]
    },
    {
      "cell_type": "code",
      "metadata": {
        "id": "dZFiMT1udzNX",
        "colab": {
          "base_uri": "https://localhost:8080/"
        },
        "outputId": "7696b622-1e76-4708-9dba-a75698d591ca"
      },
      "source": [
        "%time solution = model.solve()\n",
        "print(solution)\n",
        "cost = solution.get_objective_value()\n",
        "x = solution.get_all_values()\n",
        "x = np.array(x)\n",
        "print(cost,x)\n"
      ],
      "execution_count": 47,
      "outputs": [
        {
          "output_type": "stream",
          "text": [
            "CPU times: user 3.55 ms, sys: 55 µs, total: 3.61 ms\n",
            "Wall time: 3.73 ms\n",
            "solution for: docplex_model1\n",
            "objective: -105680\n",
            "x2=15\n",
            "x3=30\n",
            "x4=70\n",
            "x5=60\n",
            "x6=45\n",
            "x7=1\n",
            "x8=1\n",
            "x9=1\n",
            "x10=1\n",
            "x11=1\n",
            "x12=1\n",
            "\n",
            "-105680.0 [ 0. 15. 30. 70. 60. 45.  1.  1.  1.  1.  1.  1.]\n"
          ],
          "name": "stdout"
        }
      ]
    },
    {
      "cell_type": "code",
      "metadata": {
        "id": "7QsOma-VFkAk",
        "outputId": "39ef3948-4735-4d1a-be38-53f54382ab92",
        "colab": {
          "base_uri": "https://localhost:8080/"
        }
      },
      "source": [
        "print('constant:\\t\\t\\t', mod.objective.constant)\n",
        "\n",
        "print('linear dict:\\t\\t\\t', mod.objective.linear.to_dict())\n",
        "print('linear array:\\t\\t\\t', mod.objective.linear.to_array())\n",
        "print('linear array as sparse matrix:\\n', mod.objective.linear.coefficients, '\\n')\n",
        "\n",
        "print('quadratic dict w/ index:\\t', mod.objective.quadratic.to_dict())\n",
        "print('quadratic dict w/ name:\\t\\t', mod.objective.quadratic.to_dict(use_name=True))\n",
        "print('symmetric quadratic dict w/ name:\\t', mod.objective.quadratic.to_dict(use_name=True, symmetric=True))\n",
        "print('quadratic matrix:\\n', mod.objective.quadratic.to_array(),'\\n')\n",
        "print('symmetric quadratic matrix:\\n', mod.objective.quadratic.to_array(symmetric=True),'\\n')\n",
        "print('quadratic matrix as sparse matrix:\\n', mod.objective.quadratic.coefficients)\n"
      ],
      "execution_count": 84,
      "outputs": [
        {
          "output_type": "stream",
          "text": [
            "constant:\t\t\t 0.0\n",
            "linear dict:\t\t\t {0: -464.0, 1: -480.0, 2: -496.0, 3: -464.0, 4: -480.0, 5: -496.0}\n",
            "linear array:\t\t\t [-464. -480. -496. -464. -480. -496.    0.    0.    0.    0.    0.    0.]\n",
            "linear array as sparse matrix:\n",
            "   (0, 0)\t-464.0\n",
            "  (0, 1)\t-480.0\n",
            "  (0, 2)\t-496.0\n",
            "  (0, 3)\t-464.0\n",
            "  (0, 4)\t-480.0\n",
            "  (0, 5)\t-496.0 \n",
            "\n",
            "quadratic dict w/ index:\t {}\n",
            "quadratic dict w/ name:\t\t {}\n",
            "symmetric quadratic dict w/ name:\t {}\n",
            "quadratic matrix:\n",
            " [[0. 0. 0. 0. 0. 0. 0. 0. 0. 0. 0. 0.]\n",
            " [0. 0. 0. 0. 0. 0. 0. 0. 0. 0. 0. 0.]\n",
            " [0. 0. 0. 0. 0. 0. 0. 0. 0. 0. 0. 0.]\n",
            " [0. 0. 0. 0. 0. 0. 0. 0. 0. 0. 0. 0.]\n",
            " [0. 0. 0. 0. 0. 0. 0. 0. 0. 0. 0. 0.]\n",
            " [0. 0. 0. 0. 0. 0. 0. 0. 0. 0. 0. 0.]\n",
            " [0. 0. 0. 0. 0. 0. 0. 0. 0. 0. 0. 0.]\n",
            " [0. 0. 0. 0. 0. 0. 0. 0. 0. 0. 0. 0.]\n",
            " [0. 0. 0. 0. 0. 0. 0. 0. 0. 0. 0. 0.]\n",
            " [0. 0. 0. 0. 0. 0. 0. 0. 0. 0. 0. 0.]\n",
            " [0. 0. 0. 0. 0. 0. 0. 0. 0. 0. 0. 0.]\n",
            " [0. 0. 0. 0. 0. 0. 0. 0. 0. 0. 0. 0.]] \n",
            "\n",
            "symmetric quadratic matrix:\n",
            " [[0. 0. 0. 0. 0. 0. 0. 0. 0. 0. 0. 0.]\n",
            " [0. 0. 0. 0. 0. 0. 0. 0. 0. 0. 0. 0.]\n",
            " [0. 0. 0. 0. 0. 0. 0. 0. 0. 0. 0. 0.]\n",
            " [0. 0. 0. 0. 0. 0. 0. 0. 0. 0. 0. 0.]\n",
            " [0. 0. 0. 0. 0. 0. 0. 0. 0. 0. 0. 0.]\n",
            " [0. 0. 0. 0. 0. 0. 0. 0. 0. 0. 0. 0.]\n",
            " [0. 0. 0. 0. 0. 0. 0. 0. 0. 0. 0. 0.]\n",
            " [0. 0. 0. 0. 0. 0. 0. 0. 0. 0. 0. 0.]\n",
            " [0. 0. 0. 0. 0. 0. 0. 0. 0. 0. 0. 0.]\n",
            " [0. 0. 0. 0. 0. 0. 0. 0. 0. 0. 0. 0.]\n",
            " [0. 0. 0. 0. 0. 0. 0. 0. 0. 0. 0. 0.]\n",
            " [0. 0. 0. 0. 0. 0. 0. 0. 0. 0. 0. 0.]] \n",
            "\n",
            "quadratic matrix as sparse matrix:\n",
            " \n"
          ],
          "name": "stdout"
        }
      ]
    },
    {
      "cell_type": "code",
      "metadata": {
        "id": "weZQ18hTZJ00"
      },
      "source": [
        "from qiskit.optimization.converters import QuadraticProgramToQubo\n",
        "conv = QuadraticProgramToQubo()\n",
        "mod_Qubo = conv.convert(mod)\n"
      ],
      "execution_count": 48,
      "outputs": []
    },
    {
      "cell_type": "code",
      "metadata": {
        "id": "LmfXAqntZRDy",
        "outputId": "223f7ea8-8e24-49bd-fc98-ba1e6ebf7a75",
        "colab": {
          "base_uri": "https://localhost:8080/"
        }
      },
      "source": [
        "len(mod_Qubo._variables_index)"
      ],
      "execution_count": 49,
      "outputs": [
        {
          "output_type": "execute_result",
          "data": {
            "text/plain": [
              "894"
            ]
          },
          "metadata": {},
          "execution_count": 49
        }
      ]
    },
    {
      "cell_type": "code",
      "metadata": {
        "id": "wBlT79HlaF9b"
      },
      "source": [
        "print('constant:\\t\\t\\t', mod_Qubo.objective.constant)\n",
        "print('linear array as sparse matrix:\\n', mod_Qubo.objective.linear.coefficients, '\\n')\n",
        "print('quadratic matrix as sparse matrix:\\n', mod_Qubo.objective.quadratic.coefficients)"
      ],
      "execution_count": null,
      "outputs": []
    },
    {
      "cell_type": "markdown",
      "metadata": {
        "id": "8mq-bBICZ2cx"
      },
      "source": [
        "##Try to run the VQE, Grover, and QAOA solvers"
      ]
    },
    {
      "cell_type": "code",
      "metadata": {
        "id": "sva-QHPTZ2cx"
      },
      "source": [
        "#exact, qaoa, rqaoa, grover_optimizer, admm\n",
        "%time result = qaoa.solve(mod_Qubo) #rqaoa, grover_optimizer run out of memory after 28min\n",
        "print(result)\n",
        "#statevector_simulator with 402 qubits for admm.solve(mod) and admm_rqaoa had filed after 4m"
      ],
      "execution_count": null,
      "outputs": []
    },
    {
      "cell_type": "code",
      "metadata": {
        "id": "eroRJ2oBZ2cx"
      },
      "source": [
        "# solve problem using VQE\n",
        "%time results[alpha] = opt_alg.solve(mod_Qubo) #VGG qp, qubo, mod, mod_Qubo\n",
        "# print results\n",
        "print('alpha = {}:'.format(alpha))\n",
        "print(results[alpha])"
      ],
      "execution_count": null,
      "outputs": []
    },
    {
      "cell_type": "code",
      "metadata": {
        "id": "xFhFXPqkZ2cx"
      },
      "source": [
        "%time results = grover_optimizer.solve(mod_Qubo)#qubo or qp\n",
        "print(\"x={}\".format(results.x))\n",
        "print(\"fval={}\".format(results.fval))"
      ],
      "execution_count": null,
      "outputs": []
    },
    {
      "cell_type": "markdown",
      "metadata": {
        "id": "56Rh5CTWYx8K"
      },
      "source": [
        "#Try to modify the qubo formulation "
      ]
    },
    {
      "cell_type": "code",
      "metadata": {
        "id": "flfj0T-Fchgv"
      },
      "source": [
        "modm = QuadraticProgram()\n",
        "modm.from_docplex(model)"
      ],
      "execution_count": 104,
      "outputs": []
    },
    {
      "cell_type": "code",
      "metadata": {
        "id": "KyGBd6xhhaTz",
        "colab": {
          "base_uri": "https://localhost:8080/"
        },
        "outputId": "2d91c1fa-7539-4eb2-b85c-f8da5ec69914"
      },
      "source": [
        "#use the cost value as a quadratic part of the qubo\n",
        "constant =modm.objective.constant\n",
        "linear=s_df['Cost'].values\n",
        "quadratic=np.kron(linear.reshape(1,-1),linear.reshape(-1,1))\n",
        "#linear=mod.objective.linear.to_array()\n",
        "#modm.minimize(constant=constant, linear=linear, quadratic=quadratic)\n",
        "modm.minimize(constant=constant, quadratic=quadratic)\n",
        "print(modm.export_as_lp_string())"
      ],
      "execution_count": 105,
      "outputs": [
        {
          "output_type": "stream",
          "text": [
            "\\ This file has been generated by DOcplex\n",
            "\\ ENCODING=ISO-8859-1\n",
            "\\Problem name: docplex_model1\n",
            "\n",
            "Minimize\n",
            " obj: [ 18 x0^2 + 24 x0*x1 + 12 x0*x2 + 36 x0*x3 + 24 x0*x4 + 12 x0*x5 + 8 x1^2\n",
            "      + 8 x1*x2 + 24 x1*x3 + 16 x1*x4 + 8 x1*x5 + 2 x2^2 + 12 x2*x3 + 8 x2*x4\n",
            "      + 4 x2*x5 + 18 x3^2 + 24 x3*x4 + 12 x3*x5 + 8 x4^2 + 8 x4*x5 + 2 x5^2 ]/2\n",
            "Subject To\n",
            " _L_EXPR_1: x0 - 40 x6 <= 0\n",
            " _L_EXPR_2: x1 - 30 x7 <= 0\n",
            " _L_EXPR_3: x2 - 30 x8 <= 0\n",
            " _L_EXPR_4: x3 - 100 x9 <= 0\n",
            " _L_EXPR_5: x4 - 60 x10 <= 0\n",
            " _L_EXPR_6: x5 - 45 x11 <= 0\n",
            " _L_EXPR_7: x0 >= 0\n",
            " _L_EXPR_8: x1 >= 0\n",
            " _L_EXPR_9: x2 >= 0\n",
            " _L_EXPR_10: x3 >= 0\n",
            " _L_EXPR_11: x4 >= 0\n",
            " _L_EXPR_12: x5 >= 0\n",
            " _L_EXPR_13: x0 <= 40\n",
            " _L_EXPR_14: x1 <= 30\n",
            " _L_EXPR_15: x2 <= 30\n",
            " _L_EXPR_16: x3 <= 100\n",
            " _L_EXPR_17: x4 <= 60\n",
            " _L_EXPR_18: x5 <= 45\n",
            " _L_EXPR_19: x2 + x3 <= 100\n",
            " _L_EXPR_20: x0 + x1 + x4 + x5 <= 120\n",
            "\n",
            "Bounds\n",
            " 0 <= x6 <= 1\n",
            " 0 <= x7 <= 1\n",
            " 0 <= x8 <= 1\n",
            " 0 <= x9 <= 1\n",
            " 0 <= x10 <= 1\n",
            " 0 <= x11 <= 1\n",
            "\n",
            "Binaries\n",
            " x6 x7 x8 x9 x10 x11\n",
            "\n",
            "Generals\n",
            " x0 x1 x2 x3 x4 x5\n",
            "End\n",
            "\n"
          ],
          "name": "stdout"
        }
      ]
    },
    {
      "cell_type": "code",
      "metadata": {
        "id": "HaSUcfRCdVmu",
        "outputId": "5c20a641-fbbe-4f9f-eeff-9d418cdeb9c8",
        "colab": {
          "base_uri": "https://localhost:8080/"
        }
      },
      "source": [
        "cplex.solve(modm)"
      ],
      "execution_count": 106,
      "outputs": [
        {
          "output_type": "execute_result",
          "data": {
            "text/plain": [
              "optimal function value: 0.0\n",
              "optimal value: [0. 0. 0. 0. 0. 0. 0. 0. 0. 0. 0. 0.]\n",
              "status: SUCCESS"
            ]
          },
          "metadata": {},
          "execution_count": 106
        }
      ]
    },
    {
      "cell_type": "code",
      "metadata": {
        "id": "GHmNm79khMNK",
        "colab": {
          "base_uri": "https://localhost:8080/"
        },
        "outputId": "c4be56eb-3416-4153-e6fc-2abf391fb63c"
      },
      "source": [
        "#turn the demand inequalities into equalities\n",
        "for eq_n in range(19,21):\n",
        "  lc_name='_L_EXPR_'+str(eq_n)\n",
        "  lin_c = sub.get_linear_constraint(lc_name)\n",
        "  print('lin_c:',lc_name,lin_c.linear.to_dict(use_name=True), lin_c.sense, lin_c.rhs)\n",
        "  modm.remove_linear_constraint(lc_name)\n",
        "  modm.linear_constraint(lin_c.linear.to_dict(use_name=True), sense='==', rhs=lin_c.rhs, name=lc_name)\n",
        "\n",
        "print(modm.export_as_lp_string())\n"
      ],
      "execution_count": 107,
      "outputs": [
        {
          "output_type": "stream",
          "text": [
            "lin_c: _L_EXPR_19 {'x2': 1.0, 'x3': 1.0} ConstraintSense.EQ 100.0\n",
            "lin_c: _L_EXPR_20 {'x0': 1.0, 'x1': 1.0, 'x4': 1.0, 'x5': 1.0} ConstraintSense.EQ 120.0\n",
            "\\ This file has been generated by DOcplex\n",
            "\\ ENCODING=ISO-8859-1\n",
            "\\Problem name: docplex_model1\n",
            "\n",
            "Minimize\n",
            " obj: [ 18 x0^2 + 24 x0*x1 + 12 x0*x2 + 36 x0*x3 + 24 x0*x4 + 12 x0*x5 + 8 x1^2\n",
            "      + 8 x1*x2 + 24 x1*x3 + 16 x1*x4 + 8 x1*x5 + 2 x2^2 + 12 x2*x3 + 8 x2*x4\n",
            "      + 4 x2*x5 + 18 x3^2 + 24 x3*x4 + 12 x3*x5 + 8 x4^2 + 8 x4*x5 + 2 x5^2 ]/2\n",
            "Subject To\n",
            " _L_EXPR_1: x0 - 40 x6 <= 0\n",
            " _L_EXPR_2: x1 - 30 x7 <= 0\n",
            " _L_EXPR_3: x2 - 30 x8 <= 0\n",
            " _L_EXPR_4: x3 - 100 x9 <= 0\n",
            " _L_EXPR_5: x4 - 60 x10 <= 0\n",
            " _L_EXPR_6: x5 - 45 x11 <= 0\n",
            " _L_EXPR_7: x0 >= 0\n",
            " _L_EXPR_8: x1 >= 0\n",
            " _L_EXPR_9: x2 >= 0\n",
            " _L_EXPR_10: x3 >= 0\n",
            " _L_EXPR_11: x4 >= 0\n",
            " _L_EXPR_12: x5 >= 0\n",
            " _L_EXPR_13: x0 <= 40\n",
            " _L_EXPR_14: x1 <= 30\n",
            " _L_EXPR_15: x2 <= 30\n",
            " _L_EXPR_16: x3 <= 100\n",
            " _L_EXPR_17: x4 <= 60\n",
            " _L_EXPR_18: x5 <= 45\n",
            " _L_EXPR_19: x2 + x3 = 100\n",
            " _L_EXPR_20: x0 + x1 + x4 + x5 = 120\n",
            "\n",
            "Bounds\n",
            " 0 <= x6 <= 1\n",
            " 0 <= x7 <= 1\n",
            " 0 <= x8 <= 1\n",
            " 0 <= x9 <= 1\n",
            " 0 <= x10 <= 1\n",
            " 0 <= x11 <= 1\n",
            "\n",
            "Binaries\n",
            " x6 x7 x8 x9 x10 x11\n",
            "\n",
            "Generals\n",
            " x0 x1 x2 x3 x4 x5\n",
            "End\n",
            "\n"
          ],
          "name": "stdout"
        }
      ]
    },
    {
      "cell_type": "code",
      "metadata": {
        "id": "-gNf6oxRdgc0",
        "outputId": "6e1890ac-d934-444f-b54e-b246c1e997b8",
        "colab": {
          "base_uri": "https://localhost:8080/"
        }
      },
      "source": [
        "cplex.solve(modm)"
      ],
      "execution_count": 108,
      "outputs": [
        {
          "output_type": "execute_result",
          "data": {
            "text/plain": [
              "optimal function value: 189225.0\n",
              "optimal value: [-0. 30. 30. 70. 45. 45.  1.  1.  1.  1.  1.  1.]\n",
              "status: INFEASIBLE"
            ]
          },
          "metadata": {},
          "execution_count": 108
        }
      ]
    },
    {
      "cell_type": "code",
      "metadata": {
        "id": "6ih8fRo4zWYF",
        "colab": {
          "base_uri": "https://localhost:8080/"
        },
        "outputId": "3c9e566b-f806-44e7-c1ba-dd9853628692"
      },
      "source": [
        "#remove the linear binary-integer relationship constrains  \n",
        "for eq_n in range(1,7):\n",
        "  lc_name='_L_EXPR_'+str(eq_n)\n",
        "  modm.remove_linear_constraint(lc_name)\n",
        "\n",
        "print(modm.export_as_lp_string())\n"
      ],
      "execution_count": 109,
      "outputs": [
        {
          "output_type": "stream",
          "text": [
            "\\ This file has been generated by DOcplex\n",
            "\\ ENCODING=ISO-8859-1\n",
            "\\Problem name: docplex_model1\n",
            "\n",
            "Minimize\n",
            " obj: [ 18 x0^2 + 24 x0*x1 + 12 x0*x2 + 36 x0*x3 + 24 x0*x4 + 12 x0*x5 + 8 x1^2\n",
            "      + 8 x1*x2 + 24 x1*x3 + 16 x1*x4 + 8 x1*x5 + 2 x2^2 + 12 x2*x3 + 8 x2*x4\n",
            "      + 4 x2*x5 + 18 x3^2 + 24 x3*x4 + 12 x3*x5 + 8 x4^2 + 8 x4*x5 + 2 x5^2 ]/2\n",
            "Subject To\n",
            " _L_EXPR_7: x0 >= 0\n",
            " _L_EXPR_8: x1 >= 0\n",
            " _L_EXPR_9: x2 >= 0\n",
            " _L_EXPR_10: x3 >= 0\n",
            " _L_EXPR_11: x4 >= 0\n",
            " _L_EXPR_12: x5 >= 0\n",
            " _L_EXPR_13: x0 <= 40\n",
            " _L_EXPR_14: x1 <= 30\n",
            " _L_EXPR_15: x2 <= 30\n",
            " _L_EXPR_16: x3 <= 100\n",
            " _L_EXPR_17: x4 <= 60\n",
            " _L_EXPR_18: x5 <= 45\n",
            " _L_EXPR_19: x2 + x3 = 100\n",
            " _L_EXPR_20: x0 + x1 + x4 + x5 = 120\n",
            "\n",
            "Bounds\n",
            " 0 <= x6 <= 1\n",
            " 0 <= x7 <= 1\n",
            " 0 <= x8 <= 1\n",
            " 0 <= x9 <= 1\n",
            " 0 <= x10 <= 1\n",
            " 0 <= x11 <= 1\n",
            "\n",
            "Binaries\n",
            " x6 x7 x8 x9 x10 x11\n",
            "\n",
            "Generals\n",
            " x0 x1 x2 x3 x4 x5\n",
            "End\n",
            "\n"
          ],
          "name": "stdout"
        }
      ]
    },
    {
      "cell_type": "code",
      "metadata": {
        "id": "mTWOzNDWbLWp",
        "outputId": "3ec8e1d1-17b2-4d02-c2c0-d853652f953f",
        "colab": {
          "base_uri": "https://localhost:8080/"
        }
      },
      "source": [
        "#remove the binary variables\n",
        "bb2zero=dict({'x'+str(i):0 for i in range(6,12)})\n",
        "sub = modm.substitute_variables(constants=bb2zero)\n",
        "print(sub.export_as_lp_string())"
      ],
      "execution_count": 110,
      "outputs": [
        {
          "output_type": "stream",
          "text": [
            "\\ This file has been generated by DOcplex\n",
            "\\ ENCODING=ISO-8859-1\n",
            "\\Problem name: docplex_model1\n",
            "\n",
            "Minimize\n",
            " obj: [ 18 x0^2 + 24 x0*x1 + 12 x0*x2 + 36 x0*x3 + 24 x0*x4 + 12 x0*x5 + 8 x1^2\n",
            "      + 8 x1*x2 + 24 x1*x3 + 16 x1*x4 + 8 x1*x5 + 2 x2^2 + 12 x2*x3 + 8 x2*x4\n",
            "      + 4 x2*x5 + 18 x3^2 + 24 x3*x4 + 12 x3*x5 + 8 x4^2 + 8 x4*x5 + 2 x5^2 ]/2\n",
            "Subject To\n",
            " _L_EXPR_7: x0 >= 0\n",
            " _L_EXPR_8: x1 >= 0\n",
            " _L_EXPR_9: x2 >= 0\n",
            " _L_EXPR_10: x3 >= 0\n",
            " _L_EXPR_11: x4 >= 0\n",
            " _L_EXPR_12: x5 >= 0\n",
            " _L_EXPR_13: x0 <= 40\n",
            " _L_EXPR_14: x1 <= 30\n",
            " _L_EXPR_15: x2 <= 30\n",
            " _L_EXPR_16: x3 <= 100\n",
            " _L_EXPR_17: x4 <= 60\n",
            " _L_EXPR_18: x5 <= 45\n",
            " _L_EXPR_19: x2 + x3 = 100\n",
            " _L_EXPR_20: x0 + x1 + x4 + x5 = 120\n",
            "\n",
            "Bounds\n",
            "\n",
            "Generals\n",
            " x0 x1 x2 x3 x4 x5\n",
            "End\n",
            "\n"
          ],
          "name": "stdout"
        }
      ]
    },
    {
      "cell_type": "code",
      "metadata": {
        "id": "2C9cp-2Fha7F",
        "colab": {
          "base_uri": "https://localhost:8080/"
        },
        "outputId": "4b49419f-a99a-45ae-92ff-1b35b7f4006a"
      },
      "source": [
        "cplex.solve(sub)"
      ],
      "execution_count": 112,
      "outputs": [
        {
          "output_type": "execute_result",
          "data": {
            "text/plain": [
              "optimal function value: 189225.0\n",
              "optimal value: [-0. 30. 30. 70. 45. 45.]\n",
              "status: INFEASIBLE"
            ]
          },
          "metadata": {},
          "execution_count": 112
        }
      ]
    },
    {
      "cell_type": "code",
      "metadata": {
        "id": "GnVKgsllsFAO"
      },
      "source": [
        "from qiskit.optimization.converters import QuadraticProgramToQubo\n",
        "conv = QuadraticProgramToQubo()\n",
        "sub_Qubo = conv.convert(sub)\n"
      ],
      "execution_count": 114,
      "outputs": []
    },
    {
      "cell_type": "code",
      "metadata": {
        "id": "eaql8V5SI-g3",
        "colab": {
          "base_uri": "https://localhost:8080/"
        },
        "outputId": "a2855b60-2bb7-4009-8f92-8a1f479b47cc"
      },
      "source": [
        "len(sub_Qubo._variables_index)"
      ],
      "execution_count": 116,
      "outputs": [
        {
          "output_type": "execute_result",
          "data": {
            "text/plain": [
              "839"
            ]
          },
          "metadata": {},
          "execution_count": 116
        }
      ]
    },
    {
      "cell_type": "markdown",
      "metadata": {
        "id": "inzVKH-YhxZ6"
      },
      "source": [
        "## Play with the QP to QUBO converter "
      ]
    },
    {
      "cell_type": "code",
      "metadata": {
        "id": "KXdRsfye66md"
      },
      "source": [
        "from qiskit.optimization.converters import InequalityToEquality\n",
        "from qiskit.optimization.converters import IntegerToBinary\n",
        "from qiskit.optimization.converters import LinearEqualityToPenalty\n",
        "\n",
        "ineq2eq = InequalityToEquality()\n",
        "qp_eq = ineq2eq.convert(modm)\n",
        "#print(qp_eq.export_as_lp_string())\n",
        "\n",
        "int2bin = IntegerToBinary()\n",
        "qp_eq_bin = int2bin.convert(qp_eq)\n",
        "#print(qp_eq_bin.export_as_lp_string())\n",
        "\n",
        "lineq2penalty = LinearEqualityToPenalty()\n",
        "Qubo2 = lineq2penalty.convert(qp_eq_bin)\n",
        "#print(qubo.export_as_lp_string())\n"
      ],
      "execution_count": null,
      "outputs": []
    },
    {
      "cell_type": "code",
      "metadata": {
        "id": "wcl6uo4aJrIp",
        "colab": {
          "base_uri": "https://localhost:8080/"
        },
        "outputId": "d355b1c7-e6a1-41ca-8e05-2799981b90e5"
      },
      "source": [
        "len(Qubo2._variables_index)"
      ],
      "execution_count": null,
      "outputs": [
        {
          "output_type": "execute_result",
          "data": {
            "text/plain": [
              "894"
            ]
          },
          "metadata": {
            "tags": []
          },
          "execution_count": 58
        }
      ]
    },
    {
      "cell_type": "code",
      "metadata": {
        "id": "GDjJ7iKIn7YM"
      },
      "source": [
        "\"\"\" it takes too long to do the next transfirmation \n",
        "op, offset = mod_Qubo.to_ising()\n",
        "QPI=QuadraticProgram()\n",
        "QPI.from_ising(op, offset, linear=True)\n",
        "\"\"\""
      ],
      "execution_count": null,
      "outputs": []
    },
    {
      "cell_type": "code",
      "metadata": {
        "id": "dRjEsQ_Xomsz"
      },
      "source": [
        "\"\"\"\n",
        "print('constant:\\t\\t\\t', QPI.objective.constant)\n",
        "print('linear array as sparse matrix:\\n', QPI.objective.linear.coefficients, '\\n')\n",
        "print('quadratic matrix as sparse matrix:\\n', QPI.objective.quadratic.coefficients)\n",
        "\"\"\""
      ],
      "execution_count": null,
      "outputs": []
    },
    {
      "cell_type": "markdown",
      "metadata": {
        "id": "7vrbnxx1ZcrD"
      },
      "source": [
        "##Try to run the VQE, Grover, and QAOA solvers"
      ]
    },
    {
      "cell_type": "code",
      "metadata": {
        "id": "TkBGZpTgLTqQ"
      },
      "source": [
        "%time results = grover_optimizer.solve(sub_Qubo)#qubo or qp\n",
        "print(\"x={}\".format(results.x))\n",
        "print(\"fval={}\".format(results.fval))"
      ],
      "execution_count": null,
      "outputs": []
    },
    {
      "cell_type": "code",
      "metadata": {
        "id": "lTrpdlc4MCJ1"
      },
      "source": [
        "# solve problem using VQE\n",
        "%time results[alpha] = opt_alg.solve(sub_Qubo) #VGG qp, qubo, mod, mod_Qubo\n",
        "# print results\n",
        "print('alpha = {}:'.format(alpha))\n",
        "print(results[alpha])"
      ],
      "execution_count": null,
      "outputs": []
    },
    {
      "cell_type": "code",
      "metadata": {
        "id": "NkoqR7rW6Sty"
      },
      "source": [
        "#exact, qaoa, rqaoa, grover_optimizer, admm\n",
        "%time result = qaoa.solve(sub_Qubo) #rqaoa, grover_optimizer run out of memory after 28min\n",
        "print(result)\n",
        "#statevector_simulator with 402 qubits for admm.solve(mod) and admm_rqaoa had filed after 4m"
      ],
      "execution_count": null,
      "outputs": []
    }
  ]
}