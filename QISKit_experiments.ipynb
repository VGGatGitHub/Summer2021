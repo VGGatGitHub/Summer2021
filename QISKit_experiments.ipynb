{
  "nbformat": 4,
  "nbformat_minor": 0,
  "metadata": {
    "colab": {
      "name": "solver_experiments.ipynb",
      "provenance": [],
      "toc_visible": true,
      "include_colab_link": true
    },
    "kernelspec": {
      "display_name": "Python 3",
      "language": "python",
      "name": "python3"
    },
    "language_info": {
      "codemirror_mode": {
        "name": "ipython",
        "version": 3
      },
      "file_extension": ".py",
      "mimetype": "text/x-python",
      "name": "python",
      "nbconvert_exporter": "python",
      "pygments_lexer": "ipython3",
      "version": "3.7.6"
    }
  },
  "cells": [
    {
      "cell_type": "markdown",
      "metadata": {
        "id": "view-in-github",
        "colab_type": "text"
      },
      "source": [
        "<a href=\"https://colab.research.google.com/github/VGGatGitHub/Summer2021/blob/main/QISKit_experiments.ipynb\" target=\"_parent\"><img src=\"https://colab.research.google.com/assets/colab-badge.svg\" alt=\"Open In Colab\"/></a>"
      ]
    },
    {
      "cell_type": "markdown",
      "metadata": {
        "id": "rm4Kd0IfYVuK"
      },
      "source": [
        "Notebook experimenting how to use DOcplex and IBM Quantum."
      ]
    },
    {
      "cell_type": "markdown",
      "metadata": {
        "id": "TWpZnxqoxtCH"
      },
      "source": [
        "# 0. Install libraries & clone repo"
      ]
    },
    {
      "cell_type": "code",
      "metadata": {
        "id": "jjhGsa9LxtCJ"
      },
      "source": [
        "import sys\n",
        "\n",
        "if hasattr(sys, 'real_prefix'):\n",
        "    #we are in a virtual env.\n",
        "    !pip install cplex && pip install docplex\n",
        "else:\n",
        "    !pip install --user cplex && pip install --user docplex\n",
        "\n",
        "print()\n",
        "!pip show cplex\n",
        "print()\n",
        "!pip show docplex\n",
        "\n",
        "#it my be useful to retstart you runtime"
      ],
      "execution_count": null,
      "outputs": []
    },
    {
      "cell_type": "code",
      "metadata": {
        "id": "zeBTiUzOwgR_"
      },
      "source": [
        "!pip install qiskit\n",
        "!pip show qiskit\n",
        "\n",
        "# !pip install qiskit-optimization\n",
        "#!pip show qiskit-optimization\n",
        "\n",
        "#it my be useful to retstart you runtime"
      ],
      "execution_count": null,
      "outputs": []
    },
    {
      "cell_type": "markdown",
      "metadata": {
        "id": "DMGKfSM9YVuM"
      },
      "source": [
        "**Possibly need to restart runtime here.**"
      ]
    },
    {
      "cell_type": "code",
      "metadata": {
        "id": "RPk5nF4ZxtCJ",
        "colab": {
          "base_uri": "https://localhost:8080/"
        },
        "outputId": "1e1e736a-cc1c-4a12-afca-3318d381fcd4"
      },
      "source": [
        "#it my be useful to retstart you runtime\n",
        "\n",
        "# clone repo\n",
        "!git clone https://github.com/VGGatGitHub/Summer2021.git"
      ],
      "execution_count": 3,
      "outputs": [
        {
          "output_type": "stream",
          "text": [
            "Cloning into 'Summer2021'...\n",
            "remote: Enumerating objects: 112, done.\u001b[K\n",
            "remote: Counting objects: 100% (112/112), done.\u001b[K\n",
            "remote: Compressing objects: 100% (98/98), done.\u001b[K\n",
            "remote: Total 112 (delta 52), reused 19 (delta 10), pack-reused 0\u001b[K\n",
            "Receiving objects: 100% (112/112), 205.01 KiB | 6.41 MiB/s, done.\n",
            "Resolving deltas: 100% (52/52), done.\n"
          ],
          "name": "stdout"
        }
      ]
    },
    {
      "cell_type": "markdown",
      "metadata": {
        "id": "jFOO2BnFxtCM"
      },
      "source": [
        "# 1. Load Data"
      ]
    },
    {
      "cell_type": "code",
      "metadata": {
        "id": "y8U39lpVaWLJ",
        "colab": {
          "base_uri": "https://localhost:8080/"
        },
        "outputId": "a627f65c-2265-419b-b497-f3d4eae382a7"
      },
      "source": [
        "#next run the model.py in the folder introScenario\n",
        "!pwd\n",
        "%cd ./Summer2021/introScenario/\n",
        "#./Summer2021/intermediateScenario\n",
        "#./Summer2021/introScenario/\n",
        "#%ls\n"
      ],
      "execution_count": 1,
      "outputs": [
        {
          "output_type": "stream",
          "text": [
            "/content\n",
            "/content/Summer2021/introScenario\n"
          ],
          "name": "stdout"
        }
      ]
    },
    {
      "cell_type": "code",
      "metadata": {
        "id": "w5eQxjG1YVuP"
      },
      "source": [
        "import pandas as pd\n",
        "\n",
        "# supply + costs\n",
        "supply_file = './plants.csv'\n",
        "\n",
        "# demand\n",
        "demand_file = './customerDemand.csv'\n",
        "\n",
        "# for now load example data (plants.csv and customerDemand.csv under introScenario folder)\n",
        "s_df = pd.read_csv(supply_file)\n",
        "d_df = pd.read_csv(demand_file)"
      ],
      "execution_count": 13,
      "outputs": []
    },
    {
      "cell_type": "code",
      "metadata": {
        "id": "jpII3ShlTtMI",
        "outputId": "84cbd99c-4bf2-407e-cc57-44464986a738",
        "colab": {
          "base_uri": "https://localhost:8080/",
          "height": 111
        }
      },
      "source": [
        "d_df"
      ],
      "execution_count": 14,
      "outputs": [
        {
          "output_type": "execute_result",
          "data": {
            "text/html": [
              "<div>\n",
              "<style scoped>\n",
              "    .dataframe tbody tr th:only-of-type {\n",
              "        vertical-align: middle;\n",
              "    }\n",
              "\n",
              "    .dataframe tbody tr th {\n",
              "        vertical-align: top;\n",
              "    }\n",
              "\n",
              "    .dataframe thead th {\n",
              "        text-align: right;\n",
              "    }\n",
              "</style>\n",
              "<table border=\"1\" class=\"dataframe\">\n",
              "  <thead>\n",
              "    <tr style=\"text-align: right;\">\n",
              "      <th></th>\n",
              "      <th>Product</th>\n",
              "      <th>Demand</th>\n",
              "    </tr>\n",
              "  </thead>\n",
              "  <tbody>\n",
              "    <tr>\n",
              "      <th>0</th>\n",
              "      <td>handSanitizer</td>\n",
              "      <td>100</td>\n",
              "    </tr>\n",
              "    <tr>\n",
              "      <th>1</th>\n",
              "      <td>mask</td>\n",
              "      <td>120</td>\n",
              "    </tr>\n",
              "  </tbody>\n",
              "</table>\n",
              "</div>"
            ],
            "text/plain": [
              "         Product  Demand\n",
              "0  handSanitizer     100\n",
              "1           mask     120"
            ]
          },
          "metadata": {
            "tags": []
          },
          "execution_count": 14
        }
      ]
    },
    {
      "cell_type": "code",
      "metadata": {
        "id": "Urm0R_bETqO2",
        "outputId": "e9d661db-2377-408b-9049-9a9bd2a32114",
        "colab": {
          "base_uri": "https://localhost:8080/",
          "height": 235
        }
      },
      "source": [
        "s_df"
      ],
      "execution_count": 15,
      "outputs": [
        {
          "output_type": "execute_result",
          "data": {
            "text/html": [
              "<div>\n",
              "<style scoped>\n",
              "    .dataframe tbody tr th:only-of-type {\n",
              "        vertical-align: middle;\n",
              "    }\n",
              "\n",
              "    .dataframe tbody tr th {\n",
              "        vertical-align: top;\n",
              "    }\n",
              "\n",
              "    .dataframe thead th {\n",
              "        text-align: right;\n",
              "    }\n",
              "</style>\n",
              "<table border=\"1\" class=\"dataframe\">\n",
              "  <thead>\n",
              "    <tr style=\"text-align: right;\">\n",
              "      <th></th>\n",
              "      <th>Plants</th>\n",
              "      <th>Cost</th>\n",
              "      <th>Capacity</th>\n",
              "      <th>Product</th>\n",
              "    </tr>\n",
              "  </thead>\n",
              "  <tbody>\n",
              "    <tr>\n",
              "      <th>0</th>\n",
              "      <td>1</td>\n",
              "      <td>3</td>\n",
              "      <td>40</td>\n",
              "      <td>mask</td>\n",
              "    </tr>\n",
              "    <tr>\n",
              "      <th>1</th>\n",
              "      <td>2</td>\n",
              "      <td>2</td>\n",
              "      <td>30</td>\n",
              "      <td>mask</td>\n",
              "    </tr>\n",
              "    <tr>\n",
              "      <th>2</th>\n",
              "      <td>3</td>\n",
              "      <td>1</td>\n",
              "      <td>30</td>\n",
              "      <td>handSanitizer</td>\n",
              "    </tr>\n",
              "    <tr>\n",
              "      <th>3</th>\n",
              "      <td>4</td>\n",
              "      <td>3</td>\n",
              "      <td>100</td>\n",
              "      <td>handSanitizer</td>\n",
              "    </tr>\n",
              "    <tr>\n",
              "      <th>4</th>\n",
              "      <td>5</td>\n",
              "      <td>2</td>\n",
              "      <td>60</td>\n",
              "      <td>mask</td>\n",
              "    </tr>\n",
              "    <tr>\n",
              "      <th>5</th>\n",
              "      <td>6</td>\n",
              "      <td>1</td>\n",
              "      <td>45</td>\n",
              "      <td>mask</td>\n",
              "    </tr>\n",
              "  </tbody>\n",
              "</table>\n",
              "</div>"
            ],
            "text/plain": [
              "   Plants  Cost  Capacity        Product\n",
              "0       1     3        40           mask\n",
              "1       2     2        30           mask\n",
              "2       3     1        30  handSanitizer\n",
              "3       4     3       100  handSanitizer\n",
              "4       5     2        60           mask\n",
              "5       6     1        45           mask"
            ]
          },
          "metadata": {
            "tags": []
          },
          "execution_count": 15
        }
      ]
    },
    {
      "cell_type": "code",
      "metadata": {
        "id": "aNxx2K9pURif",
        "outputId": "97a4f6b4-d4d9-4f13-fd08-3d8cda172af3",
        "colab": {
          "base_uri": "https://localhost:8080/",
          "height": 142
        }
      },
      "source": [
        "s_df.drop([1,2,3], inplace = True)\n",
        "s_df"
      ],
      "execution_count": 16,
      "outputs": [
        {
          "output_type": "execute_result",
          "data": {
            "text/html": [
              "<div>\n",
              "<style scoped>\n",
              "    .dataframe tbody tr th:only-of-type {\n",
              "        vertical-align: middle;\n",
              "    }\n",
              "\n",
              "    .dataframe tbody tr th {\n",
              "        vertical-align: top;\n",
              "    }\n",
              "\n",
              "    .dataframe thead th {\n",
              "        text-align: right;\n",
              "    }\n",
              "</style>\n",
              "<table border=\"1\" class=\"dataframe\">\n",
              "  <thead>\n",
              "    <tr style=\"text-align: right;\">\n",
              "      <th></th>\n",
              "      <th>Plants</th>\n",
              "      <th>Cost</th>\n",
              "      <th>Capacity</th>\n",
              "      <th>Product</th>\n",
              "    </tr>\n",
              "  </thead>\n",
              "  <tbody>\n",
              "    <tr>\n",
              "      <th>0</th>\n",
              "      <td>1</td>\n",
              "      <td>3</td>\n",
              "      <td>40</td>\n",
              "      <td>mask</td>\n",
              "    </tr>\n",
              "    <tr>\n",
              "      <th>4</th>\n",
              "      <td>5</td>\n",
              "      <td>2</td>\n",
              "      <td>60</td>\n",
              "      <td>mask</td>\n",
              "    </tr>\n",
              "    <tr>\n",
              "      <th>5</th>\n",
              "      <td>6</td>\n",
              "      <td>1</td>\n",
              "      <td>45</td>\n",
              "      <td>mask</td>\n",
              "    </tr>\n",
              "  </tbody>\n",
              "</table>\n",
              "</div>"
            ],
            "text/plain": [
              "   Plants  Cost  Capacity Product\n",
              "0       1     3        40    mask\n",
              "4       5     2        60    mask\n",
              "5       6     1        45    mask"
            ]
          },
          "metadata": {
            "tags": []
          },
          "execution_count": 16
        }
      ]
    },
    {
      "cell_type": "code",
      "metadata": {
        "id": "m3VwLMJr1wBE"
      },
      "source": [
        "inputs={'customerDemand':d_df,'plants':s_df}"
      ],
      "execution_count": 17,
      "outputs": []
    },
    {
      "cell_type": "markdown",
      "metadata": {
        "id": "89lxEMTBYVuQ"
      },
      "source": [
        "# 2. Solve the DO problem via DOcplex"
      ]
    },
    {
      "cell_type": "code",
      "metadata": {
        "id": "UIfEsCTjYVuQ"
      },
      "source": [
        "#If you get an error you may have to restart the runtime\n",
        "import cplex\n",
        "import docplex.mp\n",
        "from docplex.mp.model import Model"
      ],
      "execution_count": 18,
      "outputs": []
    },
    {
      "cell_type": "code",
      "metadata": {
        "id": "QyDnKO0VRW2r"
      },
      "source": [
        "global output_lock\n",
        "#with output_lock:\n",
        "\n",
        "try:  \n",
        "  if output_lock:\n",
        "    print(output_lock)\n",
        "except:\n",
        "  output_lock=dict({'output_lock':{}})\n",
        "\n",
        "try: \n",
        "  if outputs:\n",
        "    print(outputs)\n",
        "except:\n",
        "  outputs=dict()\n"
      ],
      "execution_count": 19,
      "outputs": []
    },
    {
      "cell_type": "code",
      "metadata": {
        "id": "QR6mPc1i4fpz",
        "colab": {
          "base_uri": "https://localhost:8080/"
        },
        "outputId": "f84e8c54-71b4-4d2a-c31f-62613ff4f35e"
      },
      "source": [
        "exec(open(\"./model.py\").read())"
      ],
      "execution_count": 20,
      "outputs": [
        {
          "output_type": "stream",
          "text": [
            "* building wado model\n",
            "model building done in 0.0822141170501709 secs\n",
            "* running wado model\n",
            "Version identifier: 20.1.0.0 | 2020-11-11 | 9bedb6d68\n",
            "CPXPARAM_Read_DataCheck                          1\n",
            "CPXPARAM_TimeLimit                               120\n",
            "Found incumbent of value 0.000000 after 0.00 sec. (0.00 ticks)\n",
            "Tried aggregator 1 time.\n",
            "MIP Presolve eliminated 10 rows and 6 columns.\n",
            "All rows and columns eliminated.\n",
            "Presolve time = 0.01 sec. (0.01 ticks)\n",
            "\n",
            "Root node processing (before b&c):\n",
            "  Real time             =    0.02 sec. (0.01 ticks)\n",
            "Parallel b&c, 2 threads:\n",
            "  Real time             =    0.00 sec. (0.00 ticks)\n",
            "  Sync time (average)   =    0.00 sec.\n",
            "  Wait time (average)   =    0.00 sec.\n",
            "                          ------------\n",
            "Total (root+branch&cut) =    0.02 sec. (0.01 ticks)\n",
            "Solve status: JobSolveStatus.OPTIMAL_SOLUTION\n",
            "* model docplex_model1 solved with objective = -58080.000\n",
            "*  KPI: total plants allocations                  = 61440.000\n",
            "*  KPI: total Cost of plants over all allocations = 3360.000\n",
            "model solve done in 0.08458113670349121 secs\n",
            "solution export done in 0.012509584426879883 secs\n"
          ],
          "name": "stdout"
        }
      ]
    },
    {
      "cell_type": "code",
      "metadata": {
        "id": "oT2QEZYAX97y",
        "colab": {
          "base_uri": "https://localhost:8080/"
        },
        "outputId": "97bede92-5f72-480c-df32-e09c06e48829"
      },
      "source": [
        "outputs\n"
      ],
      "execution_count": 21,
      "outputs": [
        {
          "output_type": "execute_result",
          "data": {
            "text/plain": [
              "{'plantsAllocation':    plants  ...  plants minValueAllocationForAssignment\n",
              " 0       1  ...                                       0\n",
              " 1       5  ...                                       0\n",
              " 2       6  ...                                       0\n",
              " \n",
              " [3 rows x 7 columns]}"
            ]
          },
          "metadata": {
            "tags": []
          },
          "execution_count": 21
        }
      ]
    },
    {
      "cell_type": "code",
      "metadata": {
        "id": "TiWDpfHILzSo",
        "colab": {
          "base_uri": "https://localhost:8080/",
          "height": 176
        },
        "outputId": "15c04c16-2131-4b74-9d61-7e09e4676e80"
      },
      "source": [
        "outputs['plantsAllocation']"
      ],
      "execution_count": 22,
      "outputs": [
        {
          "output_type": "execute_result",
          "data": {
            "text/html": [
              "<div>\n",
              "<style scoped>\n",
              "    .dataframe tbody tr th:only-of-type {\n",
              "        vertical-align: middle;\n",
              "    }\n",
              "\n",
              "    .dataframe tbody tr th {\n",
              "        vertical-align: top;\n",
              "    }\n",
              "\n",
              "    .dataframe thead th {\n",
              "        text-align: right;\n",
              "    }\n",
              "</style>\n",
              "<table border=\"1\" class=\"dataframe\">\n",
              "  <thead>\n",
              "    <tr style=\"text-align: right;\">\n",
              "      <th></th>\n",
              "      <th>plants</th>\n",
              "      <th>plants allocation decision</th>\n",
              "      <th>plants selection decision</th>\n",
              "      <th>plants Capacity</th>\n",
              "      <th>plants Product</th>\n",
              "      <th>plants Cost</th>\n",
              "      <th>plants minValueAllocationForAssignment</th>\n",
              "    </tr>\n",
              "  </thead>\n",
              "  <tbody>\n",
              "    <tr>\n",
              "      <th>0</th>\n",
              "      <td>1</td>\n",
              "      <td>15.0</td>\n",
              "      <td>1.0</td>\n",
              "      <td>40</td>\n",
              "      <td>mask</td>\n",
              "      <td>3</td>\n",
              "      <td>0</td>\n",
              "    </tr>\n",
              "    <tr>\n",
              "      <th>1</th>\n",
              "      <td>5</td>\n",
              "      <td>60.0</td>\n",
              "      <td>1.0</td>\n",
              "      <td>60</td>\n",
              "      <td>mask</td>\n",
              "      <td>2</td>\n",
              "      <td>0</td>\n",
              "    </tr>\n",
              "    <tr>\n",
              "      <th>2</th>\n",
              "      <td>6</td>\n",
              "      <td>45.0</td>\n",
              "      <td>1.0</td>\n",
              "      <td>45</td>\n",
              "      <td>mask</td>\n",
              "      <td>1</td>\n",
              "      <td>0</td>\n",
              "    </tr>\n",
              "  </tbody>\n",
              "</table>\n",
              "</div>"
            ],
            "text/plain": [
              "   plants  ...  plants minValueAllocationForAssignment\n",
              "0       1  ...                                       0\n",
              "1       5  ...                                       0\n",
              "2       6  ...                                       0\n",
              "\n",
              "[3 rows x 7 columns]"
            ]
          },
          "metadata": {
            "tags": []
          },
          "execution_count": 22
        }
      ]
    },
    {
      "cell_type": "code",
      "metadata": {
        "id": "Z7pXtDgMxKiX",
        "colab": {
          "base_uri": "https://localhost:8080/"
        },
        "outputId": "b335ca10-ed4e-46a5-9a3b-927cc2500cca"
      },
      "source": [
        "model"
      ],
      "execution_count": 26,
      "outputs": [
        {
          "output_type": "execute_result",
          "data": {
            "text/plain": [
              "docplex.mp.Model['docplex_model1']"
            ]
          },
          "metadata": {
            "tags": []
          },
          "execution_count": 26
        }
      ]
    },
    {
      "cell_type": "code",
      "metadata": {
        "colab": {
          "base_uri": "https://localhost:8080/"
        },
        "id": "GJb3NIm38Iuz",
        "outputId": "3e1a85dd-1fdf-44c5-c6ad-53a414dcd26f"
      },
      "source": [
        "solution=model.solve()\n",
        "print(solution)\n",
        "solution"
      ],
      "execution_count": 27,
      "outputs": [
        {
          "output_type": "stream",
          "text": [
            "solution for: docplex_model1\n",
            "objective: -58080\n",
            "x1=15\n",
            "x2=60\n",
            "x3=45\n",
            "x4=1\n",
            "x5=1\n",
            "x6=1\n",
            "\n"
          ],
          "name": "stdout"
        },
        {
          "output_type": "execute_result",
          "data": {
            "text/plain": [
              "docplex.mp.solution.SolveSolution(obj=-58080,values={x1:15,x2:60,x3:45,x.."
            ]
          },
          "metadata": {
            "tags": []
          },
          "execution_count": 27
        }
      ]
    },
    {
      "cell_type": "code",
      "metadata": {
        "id": "zHUJX4zh7DtO",
        "colab": {
          "base_uri": "https://localhost:8080/"
        },
        "outputId": "15102b35-d3f6-41eb-a0ea-fb5d150e77ec"
      },
      "source": [
        "cost = solution.get_objective_value()\n",
        "x = solution.get_all_values()\n",
        "x = np.array(x)\n",
        "print(cost,x)"
      ],
      "execution_count": 28,
      "outputs": [
        {
          "output_type": "stream",
          "text": [
            "-58080.0 [15. 60. 45.  1.  1.  1.]\n"
          ],
          "name": "stdout"
        }
      ]
    },
    {
      "cell_type": "markdown",
      "metadata": {
        "id": "s5q263eZGVaP"
      },
      "source": [
        "#Minimum Eigen Optimizers: exact, qaoa, rqaoa"
      ]
    },
    {
      "cell_type": "code",
      "metadata": {
        "id": "ab6VoroV3KP4"
      },
      "source": [
        "#https://quantum-computing.ibm.com/lab/docs/iql/optimization\n",
        "\n",
        "from qiskit import BasicAer\n",
        "from qiskit.aqua import aqua_globals, QuantumInstance\n",
        "from qiskit.aqua.algorithms import QAOA, NumPyMinimumEigensolver\n",
        "from qiskit.optimization.algorithms import MinimumEigenOptimizer, RecursiveMinimumEigenOptimizer\n",
        "from qiskit.optimization import QuadraticProgram\n",
        "\n",
        "aqua_globals.random_seed = 10598\n",
        "#('qasm_simulator') #qasm_simulator or statevector_simulator\n",
        "\n",
        "quantum_instance = QuantumInstance(BasicAer.get_backend('qasm_simulator'),\n",
        "                                   seed_simulator=aqua_globals.random_seed,\n",
        "                                   seed_transpiler=aqua_globals.random_seed)\n",
        "qaoa_mes = QAOA(quantum_instance=quantum_instance, initial_point=[0., 0.])\n",
        "exact_mes = NumPyMinimumEigensolver()\n",
        "\n",
        "qaoa = MinimumEigenOptimizer(qaoa_mes)   # using QAOA\n",
        "exact = MinimumEigenOptimizer(exact_mes)  # using the exact classical numpy minimum eigen solver\n",
        "rqaoa = RecursiveMinimumEigenOptimizer(min_eigen_optimizer=qaoa, min_num_vars=1, min_num_vars_optimizer=exact)\n"
      ],
      "execution_count": 35,
      "outputs": []
    },
    {
      "cell_type": "code",
      "metadata": {
        "id": "ANdqD_Mn4SyL"
      },
      "source": [
        "# create a QUBO\n",
        "if mod:\n",
        "  qubo=mod\n",
        "  print(mod.export_as_lp_string())\n",
        "else:\n",
        "  qubo = QuadraticProgram()\n",
        "  qubo.binary_var('x')\n",
        "  qubo.binary_var('y')\n",
        "  qubo.binary_var('z')\n",
        "  qubo.minimize(linear=[1,-2,3], quadratic={('x', 'y'): 1, ('x', 'z'): -1, ('y', 'z'): 2})\n",
        "  print(qubo.export_as_lp_string())\n"
      ],
      "execution_count": null,
      "outputs": []
    },
    {
      "cell_type": "code",
      "metadata": {
        "id": "2utomO5C5YeB"
      },
      "source": [
        "%time rqaoa_result = rqaoa.solve(qubo)\n",
        "print(rqaoa_result)"
      ],
      "execution_count": null,
      "outputs": []
    },
    {
      "cell_type": "code",
      "metadata": {
        "id": "8y54vrkE49gp"
      },
      "source": [
        "%time qaoa_result = qaoa.solve(qubo)\n",
        "print(qaoa_result)"
      ],
      "execution_count": null,
      "outputs": []
    },
    {
      "cell_type": "code",
      "metadata": {
        "id": "G6l8RUow3uPN"
      },
      "source": [
        "%time exact_result = exact.solve(qubo)\n",
        "print(exact_result)"
      ],
      "execution_count": null,
      "outputs": []
    },
    {
      "cell_type": "code",
      "metadata": {
        "id": "WbXFiLhT4hML"
      },
      "source": [
        "op, offset = qubo.to_ising()\n",
        "qp=QuadraticProgram()\n",
        "qp.from_ising(op, offset, linear=True)"
      ],
      "execution_count": null,
      "outputs": []
    },
    {
      "cell_type": "code",
      "metadata": {
        "id": "L8xtWbCa4vSE"
      },
      "source": [
        "%time exact_result = exact.solve(qp)\n",
        "print(exact_result)"
      ],
      "execution_count": null,
      "outputs": []
    },
    {
      "cell_type": "markdown",
      "metadata": {
        "id": "wxzevubBUwLu"
      },
      "source": [
        "#Try Grover Optimizer: grover_optimizer"
      ]
    },
    {
      "cell_type": "code",
      "metadata": {
        "id": "Cy1FE4DCU5-A"
      },
      "source": [
        "from qiskit.aqua.algorithms import NumPyMinimumEigensolver\n",
        "from qiskit.optimization.algorithms import GroverOptimizer, MinimumEigenOptimizer\n",
        "from qiskit.optimization.problems import QuadraticProgram\n",
        "from qiskit import BasicAer\n",
        "from docplex.mp.model import Model\n",
        "\n",
        "backend = BasicAer.get_backend('statevector_simulator') #qasm_simulator or statevector_simulator\n",
        "grover_optimizer = GroverOptimizer(6, num_iterations=10, quantum_instance=backend)\n"
      ],
      "execution_count": 115,
      "outputs": []
    },
    {
      "cell_type": "code",
      "metadata": {
        "id": "op7B8DOcVCj3",
        "colab": {
          "base_uri": "https://localhost:8080/"
        },
        "outputId": "08e5a549-3fc3-44fa-8771-9b145c9290a7"
      },
      "source": [
        "%time results = grover_optimizer.solve(qp)#qubo or qp\n",
        "print(\"x={}\".format(results.x))\n",
        "print(\"fval={}\".format(results.fval))"
      ],
      "execution_count": 116,
      "outputs": [
        {
          "output_type": "stream",
          "text": [
            "CPU times: user 54.8 s, sys: 2.29 s, total: 57.1 s\n",
            "Wall time: 53.1 s\n",
            "x=[0. 1. 0.]\n",
            "fval=-2.0\n"
          ],
          "name": "stdout"
        }
      ]
    },
    {
      "cell_type": "code",
      "metadata": {
        "id": "amMIXqXADYuw"
      },
      "source": [
        "%time results = grover_optimizer.solve(qubo)#qubo or qp\n",
        "print(\"x={}\".format(results.x))\n",
        "print(\"fval={}\".format(results.fval))"
      ],
      "execution_count": null,
      "outputs": []
    },
    {
      "cell_type": "code",
      "metadata": {
        "id": "FvtfLj_4ZCLb"
      },
      "source": [
        "%time results = grover_optimizer.solve(qubo)#qubo or qp\n",
        "print(\"x={}\".format(results.x))\n",
        "print(\"fval={}\".format(results.fval))"
      ],
      "execution_count": null,
      "outputs": []
    },
    {
      "cell_type": "markdown",
      "metadata": {
        "id": "3SDl5IkWMFQr"
      },
      "source": [
        "#Try ADMM Optimizer (using cobyla or cplex)\n"
      ]
    },
    {
      "cell_type": "code",
      "metadata": {
        "id": "Pb2LNiKgMx3t"
      },
      "source": [
        "import time\n",
        "from typing import List, Optional, Any\n",
        "import numpy as np\n",
        "import matplotlib.pyplot as plt \n",
        "\n",
        "from docplex.mp.model import Model\n",
        "\n",
        "from qiskit import BasicAer\n",
        "from qiskit.aqua.algorithms import QAOA, NumPyMinimumEigensolver\n",
        "from qiskit.optimization.algorithms import CobylaOptimizer, MinimumEigenOptimizer\n",
        "from qiskit.optimization.problems import QuadraticProgram\n",
        "from qiskit.optimization.algorithms.admm_optimizer import ADMMParameters, ADMMOptimizer\n",
        "\n",
        "# If CPLEX is installed, you can uncomment this line to import the CplexOptimizer.\n",
        "# CPLEX can be used in this tutorial to solve the convex continuous problem, \n",
        "# but also as a reference to solve the QUBO, or even the full problem.\n",
        "# \n",
        "from qiskit.optimization.algorithms import CplexOptimizer"
      ],
      "execution_count": 118,
      "outputs": []
    },
    {
      "cell_type": "code",
      "metadata": {
        "id": "FjH7FontM2sY"
      },
      "source": [
        "# define COBYLA optimizer to handle convex continuous problems.\n",
        "cobyla = CobylaOptimizer()\n",
        "\n",
        "# define QAOA via the minimum eigen optimizer\n",
        "qaoa = MinimumEigenOptimizer(QAOA(quantum_instance=BasicAer.get_backend('qasm_simulator')))\n",
        "#('qasm_simulator') #qasm_simulator or statevector_simulator\n",
        "# exact QUBO solver as classical benchmark\n",
        "exact = MinimumEigenOptimizer(NumPyMinimumEigensolver()) # to solve QUBOs\n"
      ],
      "execution_count": 119,
      "outputs": []
    },
    {
      "cell_type": "code",
      "metadata": {
        "id": "PAL07KTjQbW0",
        "colab": {
          "base_uri": "https://localhost:8080/"
        },
        "outputId": "cba026a9-cf4d-4083-e13f-b5a993c1cf39"
      },
      "source": [
        "print(qubo)"
      ],
      "execution_count": 120,
      "outputs": [
        {
          "output_type": "stream",
          "text": [
            "\\ This file has been generated by DOcplex\n",
            "\\ ENCODING=ISO-8859-1\n",
            "\\Problem name: CPLEX\n",
            "\n",
            "Minimize\n",
            " obj: x - 2 y + 3 z + [ 2 x*y - 2 x*z + 4 y*z ]/2\n",
            "Subject To\n",
            "\n",
            "Bounds\n",
            " 0 <= x <= 1\n",
            " 0 <= y <= 1\n",
            " 0 <= z <= 1\n",
            "\n",
            "Binaries\n",
            " x y z\n",
            "End\n",
            "\n"
          ],
          "name": "stdout"
        }
      ]
    },
    {
      "cell_type": "code",
      "metadata": {
        "id": "0eYHQLwHNBt0"
      },
      "source": [
        "admm_params = ADMMParameters(\n",
        "                            rho_initial=1001, \n",
        "                            beta=1000, \n",
        "                            factor_c=900,\n",
        "                            maxiter=100,\n",
        "                            three_block=True, tol=1.e-6\n",
        "                        )"
      ],
      "execution_count": 121,
      "outputs": []
    },
    {
      "cell_type": "code",
      "metadata": {
        "id": "LurKAKN2NJWe"
      },
      "source": [
        "# in case CPLEX is installed it can also be used for the convex problems, the QUBO, \n",
        "# or as a benchmark for the full problem.\n",
        "#\n",
        "cplex = CplexOptimizer()\n",
        "\n",
        "# define QUBO optimizer\n",
        "# qubo_optimizer = exact #qaoa #rqaoa #grover_optimizer\n",
        "\n",
        "# qubo_optimizer = cplex  # uncomment to use CPLEX instead\n",
        "\n",
        "i=-1\n",
        "optms=['cplex','exact','qaoa','rqaoa']\n",
        "for qubo_optimizer in [cplex,exact,qaoa,rqaoa]:\n",
        "\n",
        "  # define classical optimizer\n",
        "  convex_optimizer = cobyla\n",
        "  #convex_optimizer = cplex  # uncomment to use CPLEX instead\n",
        "\n",
        "  # initialize ADMM with classical QUBO and convex optimizer\n",
        "  admm = ADMMOptimizer(params=admm_params, \n",
        "                      qubo_optimizer=qubo_optimizer,\n",
        "                      continuous_optimizer=convex_optimizer)\n",
        "\n",
        "  # run ADMM to solve problem\n",
        "  i+=1\n",
        "  print(\"\\nOptimizer:\",optms[i])\n",
        "  %time result = admm.solve(mod)\n",
        "  print(\"x={}\".format(result.x))\n",
        "  print(\"fval={:.2f}\".format(result.fval))"
      ],
      "execution_count": null,
      "outputs": []
    },
    {
      "cell_type": "code",
      "metadata": {
        "id": "kiet4aWXNPk0"
      },
      "source": [
        "# run ADMM to solve problem\n",
        "%time result = admm.solve(qp)\n",
        "print(\"x={}\".format(result.x))\n",
        "print(\"fval={:.2f}\".format(result.fval))"
      ],
      "execution_count": null,
      "outputs": []
    },
    {
      "cell_type": "code",
      "metadata": {
        "id": "MU9qL_m2Nba_"
      },
      "source": [
        "%time result = admm.solve(qubo)\n",
        "print(\"x={}\".format(result.x))\n",
        "print(\"fval={:.2f}\".format(result.fval))"
      ],
      "execution_count": null,
      "outputs": []
    },
    {
      "cell_type": "markdown",
      "metadata": {
        "id": "pou-xP5MYVuR"
      },
      "source": [
        "# 3. Solve the problem using QISKit"
      ]
    },
    {
      "cell_type": "code",
      "metadata": {
        "id": "wtwrodHZYVuR",
        "colab": {
          "base_uri": "https://localhost:8080/"
        },
        "outputId": "420946d5-fd0e-4ca3-c38c-e8d267a1e06d"
      },
      "source": [
        "# take a look at https://quantum-computing.ibm.com/lab/docs/iql/optimization\n",
        "\n",
        "#from qiskit_optimization import QuadraticProgram\n",
        "#from qiskit_optimization.translators import from_docplex_mp\n",
        "\n",
        "from qiskit.optimization import QuadraticProgram\n",
        "\n",
        "# load from a Docplex model\n",
        "mod = QuadraticProgram()\n",
        "mod.from_docplex(model)\n",
        "print(mod.export_as_lp_string())"
      ],
      "execution_count": 29,
      "outputs": [
        {
          "output_type": "stream",
          "text": [
            "/usr/local/lib/python3.7/dist-packages/qiskit/aqua/__init__.py:86: DeprecationWarning: The package qiskit.aqua is deprecated. It was moved/refactored to qiskit-terra For more information see <https://github.com/Qiskit/qiskit-aqua/blob/main/README.md#migration-guide>\n",
            "  warn_package('aqua', 'qiskit-terra')\n",
            "/usr/local/lib/python3.7/dist-packages/qiskit/optimization/__init__.py:92: DeprecationWarning: The package qiskit.optimization is deprecated. It was moved/refactored to qiskit_optimization (pip install qiskit-optimization). For more information see <https://github.com/Qiskit/qiskit-aqua/blob/main/README.md#migration-guide>\n",
            "  warn_package('optimization', 'qiskit_optimization', 'qiskit-optimization')\n"
          ],
          "name": "stderr"
        },
        {
          "output_type": "stream",
          "text": [
            "\\ This file has been generated by DOcplex\n",
            "\\ ENCODING=ISO-8859-1\n",
            "\\Problem name: docplex_model1\n",
            "\n",
            "Minimize\n",
            " obj: - 464 x0 - 480 x1 - 496 x2\n",
            "Subject To\n",
            " _L_EXPR_1: x0 - 40 x3 <= 0\n",
            " _L_EXPR_2: x1 - 60 x4 <= 0\n",
            " _L_EXPR_3: x2 - 45 x5 <= 0\n",
            " _L_EXPR_4: x0 >= 0\n",
            " _L_EXPR_5: x1 >= 0\n",
            " _L_EXPR_6: x2 >= 0\n",
            " _L_EXPR_7: x0 <= 40\n",
            " _L_EXPR_8: x1 <= 60\n",
            " _L_EXPR_9: x2 <= 45\n",
            " _L_EXPR_10: x0 + x1 + x2 <= 120\n",
            "\n",
            "Bounds\n",
            " 0 <= x3 <= 1\n",
            " 0 <= x4 <= 1\n",
            " 0 <= x5 <= 1\n",
            "\n",
            "Binaries\n",
            " x3 x4 x5\n",
            "\n",
            "Generals\n",
            " x0 x1 x2\n",
            "End\n",
            "\n"
          ],
          "name": "stdout"
        }
      ]
    },
    {
      "cell_type": "code",
      "metadata": {
        "colab": {
          "base_uri": "https://localhost:8080/"
        },
        "id": "7QsOma-VFkAk",
        "outputId": "82dab6fb-e611-471c-a375-eef6247cf6f4"
      },
      "source": [
        "print('constant:\\t\\t\\t', mod.objective.constant)\n",
        "\n",
        "print('linear dict:\\t\\t\\t', mod.objective.linear.to_dict())\n",
        "print('linear array:\\t\\t\\t', mod.objective.linear.to_array())\n",
        "print('linear array as sparse matrix:\\n', mod.objective.linear.coefficients, '\\n')\n",
        "\n",
        "print('quadratic dict w/ index:\\t', mod.objective.quadratic.to_dict())\n",
        "print('quadratic dict w/ name:\\t\\t', mod.objective.quadratic.to_dict(use_name=True))\n",
        "print('symmetric quadratic dict w/ name:\\t', mod.objective.quadratic.to_dict(use_name=True, symmetric=True))\n",
        "print('quadratic matrix:\\n', mod.objective.quadratic.to_array(),'\\n')\n",
        "print('symmetric quadratic matrix:\\n', mod.objective.quadratic.to_array(symmetric=True),'\\n')\n",
        "print('quadratic matrix as sparse matrix:\\n', mod.objective.quadratic.coefficients)\n"
      ],
      "execution_count": 125,
      "outputs": [
        {
          "output_type": "stream",
          "text": [
            "constant:\t\t\t 0.0\n",
            "linear dict:\t\t\t {0: -464.0, 1: -480.0, 2: -480.0, 3: -496.0}\n",
            "linear array:\t\t\t [-464. -480. -480. -496.    0.    0.    0.    0.]\n",
            "linear array as sparse matrix:\n",
            "   (0, 0)\t-464.0\n",
            "  (0, 1)\t-480.0\n",
            "  (0, 2)\t-480.0\n",
            "  (0, 3)\t-496.0 \n",
            "\n",
            "quadratic dict w/ index:\t {}\n",
            "quadratic dict w/ name:\t\t {}\n",
            "symmetric quadratic dict w/ name:\t {}\n",
            "quadratic matrix:\n",
            " [[0. 0. 0. 0. 0. 0. 0. 0.]\n",
            " [0. 0. 0. 0. 0. 0. 0. 0.]\n",
            " [0. 0. 0. 0. 0. 0. 0. 0.]\n",
            " [0. 0. 0. 0. 0. 0. 0. 0.]\n",
            " [0. 0. 0. 0. 0. 0. 0. 0.]\n",
            " [0. 0. 0. 0. 0. 0. 0. 0.]\n",
            " [0. 0. 0. 0. 0. 0. 0. 0.]\n",
            " [0. 0. 0. 0. 0. 0. 0. 0.]] \n",
            "\n",
            "symmetric quadratic matrix:\n",
            " [[0. 0. 0. 0. 0. 0. 0. 0.]\n",
            " [0. 0. 0. 0. 0. 0. 0. 0.]\n",
            " [0. 0. 0. 0. 0. 0. 0. 0.]\n",
            " [0. 0. 0. 0. 0. 0. 0. 0.]\n",
            " [0. 0. 0. 0. 0. 0. 0. 0.]\n",
            " [0. 0. 0. 0. 0. 0. 0. 0.]\n",
            " [0. 0. 0. 0. 0. 0. 0. 0.]\n",
            " [0. 0. 0. 0. 0. 0. 0. 0.]] \n",
            "\n",
            "quadratic matrix as sparse matrix:\n",
            " \n"
          ],
          "name": "stdout"
        }
      ]
    },
    {
      "cell_type": "code",
      "metadata": {
        "id": "dZFiMT1udzNX"
      },
      "source": [
        "%time result = mod.solve()\n",
        "print(\"x={}\".format(result.x))\n",
        "print(\"fval={:.2f}\".format(result.fval))"
      ],
      "execution_count": null,
      "outputs": []
    },
    {
      "cell_type": "code",
      "metadata": {
        "id": "GnVKgsllsFAO"
      },
      "source": [
        "from qiskit.optimization.converters import QuadraticProgramToQubo\n",
        "conv = QuadraticProgramToQubo()\n",
        "mod_Qubo = conv.convert(mod)\n"
      ],
      "execution_count": 126,
      "outputs": []
    },
    {
      "cell_type": "code",
      "metadata": {
        "colab": {
          "base_uri": "https://localhost:8080/"
        },
        "id": "wBlT79HlaF9b",
        "outputId": "8d1ae769-903d-4665-c39a-2986e3278491"
      },
      "source": [
        "print('constant:\\t\\t\\t', mod_Qubo.objective.constant)\n",
        "print('linear array as sparse matrix:\\n', mod_Qubo.objective.linear.coefficients, '\\n')\n",
        "\n",
        "print('quadratic matrix as sparse matrix:\\n', mod_Qubo.objective.quadratic.coefficients)"
      ],
      "execution_count": 127,
      "outputs": [
        {
          "output_type": "stream",
          "text": [
            "constant:\t\t\t 4.3248e+27\n",
            "linear array as sparse matrix:\n",
            "   (0, 0)\t-6.144e+25\n",
            "  (0, 1)\t-1.2288e+26\n",
            "  (0, 2)\t-2.4576e+26\n",
            "  (0, 3)\t-4.9152e+26\n",
            "  (0, 4)\t-9.8304e+26\n",
            "  (0, 5)\t-1.96608e+27\n",
            "  (0, 6)\t-3.93216e+27\n",
            "  (0, 7)\t-7.86432e+27\n",
            "  (0, 8)\t-1.572864e+28\n",
            "  (0, 9)\t-3.145728e+28\n",
            "  (0, 10)\t-6.291456e+28\n",
            "  (0, 11)\t-1.2582912e+29\n",
            "  (0, 12)\t-2.5165824e+29\n",
            "  (0, 13)\t-5.0331648e+29\n",
            "  (0, 14)\t-1.00663296e+30\n",
            "  (0, 15)\t-2.01326592e+30\n",
            "  (0, 16)\t-4.02653184e+30\n",
            "  (0, 17)\t-8.05306368e+30\n",
            "  (0, 18)\t-1.610612736e+31\n",
            "  (0, 19)\t-3.221225472e+31\n",
            "  (0, 20)\t-6.442450944e+31\n",
            "  (0, 21)\t-1.2884901888e+32\n",
            "  (0, 22)\t-2.5769803776e+32\n",
            "  (0, 23)\t-5.1539607552e+32\n",
            "  (0, 24)\t-1.03079215104e+33\n",
            "  :\t:\n",
            "  (0, 568)\t-1.3824000000000001e+26\n",
            "  (0, 569)\t-1.152e+25\n",
            "  (0, 570)\t-2.304e+25\n",
            "  (0, 571)\t-4.608e+25\n",
            "  (0, 572)\t-9.216e+25\n",
            "  (0, 573)\t-1.728e+26\n",
            "  (0, 574)\t-2.304e+25\n",
            "  (0, 575)\t-4.608e+25\n",
            "  (0, 576)\t-9.216e+25\n",
            "  (0, 577)\t-1.8432e+26\n",
            "  (0, 578)\t-3.6864e+26\n",
            "  (0, 579)\t-6.6816e+26\n",
            "  (0, 580)\t-1.728e+25\n",
            "  (0, 581)\t-3.456e+25\n",
            "  (0, 582)\t-6.912e+25\n",
            "  (0, 583)\t-1.3824e+26\n",
            "  (0, 584)\t-2.7648e+26\n",
            "  (0, 585)\t-2.4191999999999998e+26\n",
            "  (0, 586)\t-4.608e+25\n",
            "  (0, 587)\t-9.216e+25\n",
            "  (0, 588)\t-1.8432e+26\n",
            "  (0, 589)\t-3.6864e+26\n",
            "  (0, 590)\t-7.3728e+26\n",
            "  (0, 591)\t-1.47456e+27\n",
            "  (0, 592)\t-2.6265599999999996e+27 \n",
            "\n",
            "quadratic matrix as sparse matrix:\n",
            "   (0, 0)\t7.68e+23\n",
            "  (0, 1)\t3.072e+24\n",
            "  (1, 1)\t3.072e+24\n",
            "  (0, 2)\t6.144e+24\n",
            "  (1, 2)\t1.2288e+25\n",
            "  (2, 2)\t1.2288e+25\n",
            "  (0, 3)\t1.2288e+25\n",
            "  (1, 3)\t2.4576e+25\n",
            "  (2, 3)\t4.9152e+25\n",
            "  (3, 3)\t4.9152e+25\n",
            "  (0, 4)\t2.4576e+25\n",
            "  (1, 4)\t4.9152e+25\n",
            "  (2, 4)\t9.8304e+25\n",
            "  (3, 4)\t1.96608e+26\n",
            "  (4, 4)\t1.96608e+26\n",
            "  (0, 5)\t4.9152e+25\n",
            "  (1, 5)\t9.8304e+25\n",
            "  (2, 5)\t1.96608e+26\n",
            "  (3, 5)\t3.93216e+26\n",
            "  (4, 5)\t7.86432e+26\n",
            "  (5, 5)\t7.86432e+26\n",
            "  (0, 6)\t9.8304e+25\n",
            "  (1, 6)\t1.96608e+26\n",
            "  (2, 6)\t3.93216e+26\n",
            "  (3, 6)\t7.86432e+26\n",
            "  :\t:\n",
            "  (250, 592)\t1.2321848580485676e+40\n",
            "  (251, 592)\t2.464369716097135e+40\n",
            "  (252, 592)\t4.92873943219427e+40\n",
            "  (253, 592)\t9.85747886438854e+40\n",
            "  (254, 592)\t1.971495772877708e+41\n",
            "  (255, 592)\t3.942991545755416e+41\n",
            "  (256, 592)\t7.885983091510833e+41\n",
            "  (257, 592)\t1.5771966183021665e+42\n",
            "  (258, 592)\t3.154393236604333e+42\n",
            "  (259, 592)\t6.308786473208666e+42\n",
            "  (260, 592)\t1.2617572946417332e+43\n",
            "  (261, 592)\t2.5235145892834664e+43\n",
            "  (262, 592)\t5.047029178566933e+43\n",
            "  (263, 592)\t1.0094058357133866e+44\n",
            "  (264, 592)\t2.018811671426773e+44\n",
            "  (265, 592)\t4.037623342853546e+44\n",
            "  (266, 592)\t8.075246685707093e+44\n",
            "  (267, 592)\t5.737506628585813e+44\n",
            "  (586, 592)\t2.1888e+25\n",
            "  (587, 592)\t4.3776e+25\n",
            "  (588, 592)\t8.7552e+25\n",
            "  (589, 592)\t1.75104e+26\n",
            "  (590, 592)\t3.50208e+26\n",
            "  (591, 592)\t7.00416e+26\n",
            "  (592, 592)\t6.238079999999999e+26\n"
          ],
          "name": "stdout"
        }
      ]
    },
    {
      "cell_type": "code",
      "metadata": {
        "id": "GDjJ7iKIn7YM"
      },
      "source": [
        "\"\"\" it takes too long to do the next transfirmation \n",
        "op, offset = mod_Qubo.to_ising()\n",
        "QPI=QuadraticProgram()\n",
        "QPI.from_ising(op, offset, linear=True)\n",
        "\"\"\""
      ],
      "execution_count": null,
      "outputs": []
    },
    {
      "cell_type": "code",
      "metadata": {
        "id": "dRjEsQ_Xomsz"
      },
      "source": [
        "\"\"\"\n",
        "print('constant:\\t\\t\\t', QPI.objective.constant)\n",
        "print('linear array as sparse matrix:\\n', QPI.objective.linear.coefficients, '\\n')\n",
        "print('quadratic matrix as sparse matrix:\\n', QPI.objective.quadratic.coefficients)\n",
        "\"\"\""
      ],
      "execution_count": null,
      "outputs": []
    },
    {
      "cell_type": "code",
      "metadata": {
        "id": "NkoqR7rW6Sty"
      },
      "source": [
        "#exact, qaoa, rqaoa, grover_optimizer, admm\n",
        "%time result = qaoa.solve(mod) #rqaoa, grover_optimizer run out of memory after 28min\n",
        "\n",
        "print(result)\n",
        "#statevector_simulator with 402 qubits for admm.solve(mod) and admm_rqaoa had filed after 4m"
      ],
      "execution_count": null,
      "outputs": []
    },
    {
      "cell_type": "markdown",
      "metadata": {
        "id": "DQAN0w9yjMy7"
      },
      "source": [
        "#Minimum Eigen Optimizer using VQE"
      ]
    },
    {
      "cell_type": "code",
      "metadata": {
        "id": "EenPYo1HjuGY"
      },
      "source": [
        "from qiskit.circuit.library import RealAmplitudes\n",
        "from qiskit.aqua.components.optimizers import COBYLA\n",
        "from qiskit.aqua.algorithms import NumPyMinimumEigensolver, VQE\n",
        "from qiskit.aqua.operators import PauliExpectation, CVaRExpectation\n",
        "from qiskit.optimization import QuadraticProgram\n",
        "from qiskit.optimization.converters import LinearEqualityToPenalty\n",
        "from qiskit.optimization.algorithms import MinimumEigenOptimizer\n",
        "from qiskit import execute, Aer\n",
        "from qiskit.aqua import aqua_globals\n",
        "\n",
        "import numpy as np\n",
        "import matplotlib.pyplot as plt\n",
        "from docplex.mp.model import Model"
      ],
      "execution_count": 133,
      "outputs": []
    },
    {
      "cell_type": "code",
      "metadata": {
        "id": "KHeXveFnjxn6"
      },
      "source": [
        "aqua_globals.random_seed = 123456\n",
        "n = 12            # number of assets for the variational ansatz"
      ],
      "execution_count": 134,
      "outputs": []
    },
    {
      "cell_type": "code",
      "metadata": {
        "id": "pOhPjURekQQ8"
      },
      "source": [
        "# set classical optimizer\n",
        "maxiter = 100\n",
        "optimizer = COBYLA(maxiter=maxiter)\n",
        "\n",
        "# set variational ansatz\n",
        "var_form = RealAmplitudes(n, reps=1)\n",
        "m = var_form.num_parameters\n",
        "\n",
        "# set backend\n",
        "backend_name = 'qasm_simulator'  # use this for QASM simulator qasm_simulator or statevector_simulator\n",
        "# backend_name = 'statevector_simulator'  # use this for statevector simlator\n",
        "backend = Aer.get_backend(backend_name)  \n",
        "\n",
        "# run variational optimization for different values of alpha\n",
        "alphas = [1.0, 0.50, 0.25]  # confidence levels to be evaluated"
      ],
      "execution_count": 135,
      "outputs": []
    },
    {
      "cell_type": "code",
      "metadata": {
        "id": "w1LQoClyj4Yi"
      },
      "source": [
        "# dictionaries to store optimization progress and results\n",
        "objectives = {alpha: [] for alpha in alphas}  # set of tested objective functions w.r.t. alpha\n",
        "results = {}  # results of minimum eigensolver w.r.t alpha\n",
        "\n",
        "# callback to store intermediate results\n",
        "def callback(i, params, obj, stddev, alpha):\n",
        "    # we translate the objective from the internal Ising representation\n",
        "    # to the original optimization problem\n",
        "    objectives[alpha] += [-(obj + offset)]  \n",
        "\n",
        "# loop over all given alpha values\n",
        "for alpha in alphas:\n",
        "    \n",
        "    # initialize CVaR_alpha objective\n",
        "    cvar_exp = CVaRExpectation(alpha, PauliExpectation())\n",
        "    cvar_exp.compute_variance = lambda x: [0]  # to be fixed in PR #1373\n",
        "    \n",
        "    # initialize VQE using CVaR\n",
        "    vqe = VQE(expectation=cvar_exp, optimizer=optimizer, var_form=var_form, quantum_instance=backend,\n",
        "              callback=lambda i, params, obj, stddev: callback(i, params, obj, stddev, alpha))\n",
        "   \n",
        "    # initialize optimization algorithm based on CVaR-VQE\n",
        "    opt_alg = MinimumEigenOptimizer(vqe)\n",
        "\n",
        "    # solve problem\n",
        "    %time results[alpha] = opt_alg.solve(mod) #VGG qp, qubo, mod, mod_Qubo\n",
        "    \n",
        "    # print results\n",
        "    print('alpha = {}:'.format(alpha))\n",
        "    print(results[alpha])\n",
        "    print()"
      ],
      "execution_count": null,
      "outputs": []
    },
    {
      "cell_type": "code",
      "metadata": {
        "id": "yISldJZwjpMG"
      },
      "source": [
        ""
      ],
      "execution_count": null,
      "outputs": []
    }
  ]
}