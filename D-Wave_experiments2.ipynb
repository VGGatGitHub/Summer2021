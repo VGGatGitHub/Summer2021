{
  "nbformat": 4,
  "nbformat_minor": 0,
  "metadata": {
    "colab": {
      "name": "D-Wave_experiments.ipynb",
      "provenance": [],
      "include_colab_link": true
    },
    "kernelspec": {
      "display_name": "Python 3.7.11 64-bit",
      "language": "python",
      "name": "python371164biteaadfa2921794657936ac15851c51ff8"
    },
    "language_info": {
      "codemirror_mode": {
        "name": "ipython",
        "version": 3
      },
      "file_extension": ".py",
      "mimetype": "text/x-python",
      "name": "python",
      "nbconvert_exporter": "python",
      "pygments_lexer": "ipython3",
      "version": "3.7.11-final"
    }
  },
  "cells": [
    {
      "cell_type": "markdown",
      "metadata": {
        "id": "view-in-github",
        "colab_type": "text"
      },
      "source": [
        "<a href=\"https://colab.research.google.com/github/VGGatGitHub/Summer2021/blob/main/D-Wave_experiments.ipynb\" target=\"_parent\"><img src=\"https://colab.research.google.com/assets/colab-badge.svg\" alt=\"Open In Colab\"/></a>"
      ]
    },
    {
      "cell_type": "markdown",
      "metadata": {
        "id": "rm4Kd0IfYVuK"
      },
      "source": [
        "Notebook experimenting how to use DOcplex and IBM Quantum."
      ]
    },
    {
      "cell_type": "markdown",
      "metadata": {
        "id": "TWpZnxqoxtCH"
      },
      "source": [
        "# 0. Install libraries & clone repo"
      ]
    },
    {
      "cell_type": "code",
      "metadata": {
        "id": "jjhGsa9LxtCJ"
      },
      "source": [
        "import sys\n",
        "\n",
        "if hasattr(sys, 'real_prefix'):\n",
        "    #we are in a virtual env.\n",
        "    !pip install cplex && pip install docplex\n",
        "else:\n",
        "    !pip install --user cplex && pip install --user docplex\n",
        "\n",
        "print()\n",
        "!pip show cplex\n",
        "print()\n",
        "!pip show docplex\n",
        "\n",
        "#it my be useful to retstart you runtime"
      ],
      "execution_count": null,
      "outputs": []
    },
    {
      "cell_type": "code",
      "metadata": {
        "id": "zeBTiUzOwgR_"
      },
      "source": [
        "!pip install qiskit\n",
        "!pip show qiskit\n",
        "\n",
        "# !pip install qiskit-optimization\n",
        "#!pip show qiskit-optimization\n",
        "\n",
        "#it my be useful to retstart you runtime"
      ],
      "execution_count": null,
      "outputs": []
    },
    {
      "cell_type": "markdown",
      "metadata": {
        "id": "DMGKfSM9YVuM"
      },
      "source": [
        "**Possibly need to restart runtime here.**"
      ]
    },
    {
      "cell_type": "code",
      "metadata": {
        "id": "RPk5nF4ZxtCJ",
        "colab": {
          "base_uri": "https://localhost:8080/"
        },
        "outputId": "1e1e736a-cc1c-4a12-afca-3318d381fcd4"
      },
      "source": [
        "#it my be useful to retstart you runtime\n",
        "\n",
        "# clone repo\n",
        "#!git clone https://github.com/VGGatGitHub/Summer2021.git"
      ],
      "execution_count": null,
      "outputs": []
    },
    {
      "cell_type": "markdown",
      "metadata": {
        "id": "jFOO2BnFxtCM"
      },
      "source": [
        "# 1. Load Data"
      ]
    },
    {
      "cell_type": "code",
      "metadata": {
        "id": "iH4yv4pIRZzd"
      },
      "source": [
        "!pwd"
      ],
      "execution_count": 38,
      "outputs": [
        {
          "output_type": "stream",
          "name": "stdout",
          "text": [
            "/workspace/Summer2021/intermediateScenario\n"
          ]
        }
      ]
    },
    {
      "cell_type": "code",
      "metadata": {
        "id": "y8U39lpVaWLJ",
        "colab": {
          "base_uri": "https://localhost:8080/"
        },
        "outputId": "adb99f94-a3e3-4042-983b-88dd0302ca1e"
      },
      "source": [
        "#next run the model.py in the folder introScenario\n",
        "!pwd\n",
        "%cd ../intermediateScenario/\n",
        "#./Summer2021/intermediateScenario\n",
        "#./Summer2021/introScenario/\n",
        "#%ls\n"
      ],
      "execution_count": 63,
      "outputs": [
        {
          "output_type": "stream",
          "name": "stdout",
          "text": [
            "/workspace/Summer2021/introScenario\n",
            "/workspace/Summer2021/intermediateScenario\n"
          ]
        }
      ]
    },
    {
      "cell_type": "code",
      "metadata": {
        "id": "w5eQxjG1YVuP"
      },
      "source": [
        "import pandas as pd\n",
        "\n",
        "# supply + costs\n",
        "supply_file = './plants.csv'\n",
        "\n",
        "# demand\n",
        "demand_file = './customerDemand.csv'\n",
        "\n",
        "# for now load example data (plants.csv and customerDemand.csv under introScenario folder)\n",
        "s_df = pd.read_csv(supply_file)\n",
        "d_df = pd.read_csv(demand_file)"
      ],
      "execution_count": 65,
      "outputs": []
    },
    {
      "cell_type": "code",
      "metadata": {
        "id": "jpII3ShlTtMI",
        "colab": {
          "base_uri": "https://localhost:8080/",
          "height": 111
        },
        "outputId": "d03893b2-e5e6-4f28-d819-84cdeb812e37"
      },
      "source": [
        "d_df"
      ],
      "execution_count": 67,
      "outputs": [
        {
          "output_type": "execute_result",
          "data": {
            "text/plain": [
              "          Product  Demand\n",
              "0     airFreshner      81\n",
              "1         avocado      75\n",
              "2       batteries      16\n",
              "3      cannedSoup      78\n",
              "4      cannedTuna      29\n",
              "5        chargers      50\n",
              "6          coffee      64\n",
              "7           flour      56\n",
              "8          gloves      41\n",
              "9             gum      64\n",
              "10  handSanitizer     223\n",
              "11       handSoap      93\n",
              "12        jackets      45\n",
              "13          jeans      34\n",
              "14           lamb      39\n",
              "15           mask     191\n",
              "16           pens      57\n",
              "17         salmon      44\n",
              "18          socks      49\n",
              "19    sportsDrink      14\n",
              "20   sprayCleaner     155\n",
              "21      sunscreen      88\n",
              "22    toiletPaper     121\n",
              "23       trailMix      35\n",
              "24      vegBurger      76\n",
              "25       vitaminC       9\n",
              "26          water      72\n",
              "27           wine      41\n",
              "28          wipes       4"
            ],
            "text/html": "<div>\n<style scoped>\n    .dataframe tbody tr th:only-of-type {\n        vertical-align: middle;\n    }\n\n    .dataframe tbody tr th {\n        vertical-align: top;\n    }\n\n    .dataframe thead th {\n        text-align: right;\n    }\n</style>\n<table border=\"1\" class=\"dataframe\">\n  <thead>\n    <tr style=\"text-align: right;\">\n      <th></th>\n      <th>Product</th>\n      <th>Demand</th>\n    </tr>\n  </thead>\n  <tbody>\n    <tr>\n      <th>0</th>\n      <td>airFreshner</td>\n      <td>81</td>\n    </tr>\n    <tr>\n      <th>1</th>\n      <td>avocado</td>\n      <td>75</td>\n    </tr>\n    <tr>\n      <th>2</th>\n      <td>batteries</td>\n      <td>16</td>\n    </tr>\n    <tr>\n      <th>3</th>\n      <td>cannedSoup</td>\n      <td>78</td>\n    </tr>\n    <tr>\n      <th>4</th>\n      <td>cannedTuna</td>\n      <td>29</td>\n    </tr>\n    <tr>\n      <th>5</th>\n      <td>chargers</td>\n      <td>50</td>\n    </tr>\n    <tr>\n      <th>6</th>\n      <td>coffee</td>\n      <td>64</td>\n    </tr>\n    <tr>\n      <th>7</th>\n      <td>flour</td>\n      <td>56</td>\n    </tr>\n    <tr>\n      <th>8</th>\n      <td>gloves</td>\n      <td>41</td>\n    </tr>\n    <tr>\n      <th>9</th>\n      <td>gum</td>\n      <td>64</td>\n    </tr>\n    <tr>\n      <th>10</th>\n      <td>handSanitizer</td>\n      <td>223</td>\n    </tr>\n    <tr>\n      <th>11</th>\n      <td>handSoap</td>\n      <td>93</td>\n    </tr>\n    <tr>\n      <th>12</th>\n      <td>jackets</td>\n      <td>45</td>\n    </tr>\n    <tr>\n      <th>13</th>\n      <td>jeans</td>\n      <td>34</td>\n    </tr>\n    <tr>\n      <th>14</th>\n      <td>lamb</td>\n      <td>39</td>\n    </tr>\n    <tr>\n      <th>15</th>\n      <td>mask</td>\n      <td>191</td>\n    </tr>\n    <tr>\n      <th>16</th>\n      <td>pens</td>\n      <td>57</td>\n    </tr>\n    <tr>\n      <th>17</th>\n      <td>salmon</td>\n      <td>44</td>\n    </tr>\n    <tr>\n      <th>18</th>\n      <td>socks</td>\n      <td>49</td>\n    </tr>\n    <tr>\n      <th>19</th>\n      <td>sportsDrink</td>\n      <td>14</td>\n    </tr>\n    <tr>\n      <th>20</th>\n      <td>sprayCleaner</td>\n      <td>155</td>\n    </tr>\n    <tr>\n      <th>21</th>\n      <td>sunscreen</td>\n      <td>88</td>\n    </tr>\n    <tr>\n      <th>22</th>\n      <td>toiletPaper</td>\n      <td>121</td>\n    </tr>\n    <tr>\n      <th>23</th>\n      <td>trailMix</td>\n      <td>35</td>\n    </tr>\n    <tr>\n      <th>24</th>\n      <td>vegBurger</td>\n      <td>76</td>\n    </tr>\n    <tr>\n      <th>25</th>\n      <td>vitaminC</td>\n      <td>9</td>\n    </tr>\n    <tr>\n      <th>26</th>\n      <td>water</td>\n      <td>72</td>\n    </tr>\n    <tr>\n      <th>27</th>\n      <td>wine</td>\n      <td>41</td>\n    </tr>\n    <tr>\n      <th>28</th>\n      <td>wipes</td>\n      <td>4</td>\n    </tr>\n  </tbody>\n</table>\n</div>"
          },
          "metadata": {},
          "execution_count": 67
        }
      ]
    },
    {
      "cell_type": "code",
      "metadata": {
        "id": "Urm0R_bETqO2",
        "colab": {
          "base_uri": "https://localhost:8080/",
          "height": 235
        },
        "outputId": "b5b25f70-b071-4f77-e0a6-91e2ccd47a51"
      },
      "source": [
        "s_df"
      ],
      "execution_count": 68,
      "outputs": [
        {
          "output_type": "execute_result",
          "data": {
            "text/plain": [
              "    Id         Plants  Cost  Capacity        Product  Profit\n",
              "0    1    Los Angeles     3        40    airFreshner       3\n",
              "1    2    Mexico City     2        30        avocado       4\n",
              "2    3        Toronto     1        30      batteries       2\n",
              "3    4        Chicago     3       100     cannedSoup       5\n",
              "4    5         London     2        60     cannedTuna       6\n",
              "..  ..            ...   ...       ...            ...     ...\n",
              "85  86    Mexico City     2        30           wine       2\n",
              "86  87        Toronto     1        30          wipes       3\n",
              "87  88        Chicago     3       100           mask       1\n",
              "88  89         London     2        60  handSanitizer       3\n",
              "89  90  Los Angeles 4     1        45       handSoap       4\n",
              "\n",
              "[90 rows x 6 columns]"
            ],
            "text/html": "<div>\n<style scoped>\n    .dataframe tbody tr th:only-of-type {\n        vertical-align: middle;\n    }\n\n    .dataframe tbody tr th {\n        vertical-align: top;\n    }\n\n    .dataframe thead th {\n        text-align: right;\n    }\n</style>\n<table border=\"1\" class=\"dataframe\">\n  <thead>\n    <tr style=\"text-align: right;\">\n      <th></th>\n      <th>Id</th>\n      <th>Plants</th>\n      <th>Cost</th>\n      <th>Capacity</th>\n      <th>Product</th>\n      <th>Profit</th>\n    </tr>\n  </thead>\n  <tbody>\n    <tr>\n      <th>0</th>\n      <td>1</td>\n      <td>Los Angeles</td>\n      <td>3</td>\n      <td>40</td>\n      <td>airFreshner</td>\n      <td>3</td>\n    </tr>\n    <tr>\n      <th>1</th>\n      <td>2</td>\n      <td>Mexico City</td>\n      <td>2</td>\n      <td>30</td>\n      <td>avocado</td>\n      <td>4</td>\n    </tr>\n    <tr>\n      <th>2</th>\n      <td>3</td>\n      <td>Toronto</td>\n      <td>1</td>\n      <td>30</td>\n      <td>batteries</td>\n      <td>2</td>\n    </tr>\n    <tr>\n      <th>3</th>\n      <td>4</td>\n      <td>Chicago</td>\n      <td>3</td>\n      <td>100</td>\n      <td>cannedSoup</td>\n      <td>5</td>\n    </tr>\n    <tr>\n      <th>4</th>\n      <td>5</td>\n      <td>London</td>\n      <td>2</td>\n      <td>60</td>\n      <td>cannedTuna</td>\n      <td>6</td>\n    </tr>\n    <tr>\n      <th>...</th>\n      <td>...</td>\n      <td>...</td>\n      <td>...</td>\n      <td>...</td>\n      <td>...</td>\n      <td>...</td>\n    </tr>\n    <tr>\n      <th>85</th>\n      <td>86</td>\n      <td>Mexico City</td>\n      <td>2</td>\n      <td>30</td>\n      <td>wine</td>\n      <td>2</td>\n    </tr>\n    <tr>\n      <th>86</th>\n      <td>87</td>\n      <td>Toronto</td>\n      <td>1</td>\n      <td>30</td>\n      <td>wipes</td>\n      <td>3</td>\n    </tr>\n    <tr>\n      <th>87</th>\n      <td>88</td>\n      <td>Chicago</td>\n      <td>3</td>\n      <td>100</td>\n      <td>mask</td>\n      <td>1</td>\n    </tr>\n    <tr>\n      <th>88</th>\n      <td>89</td>\n      <td>London</td>\n      <td>2</td>\n      <td>60</td>\n      <td>handSanitizer</td>\n      <td>3</td>\n    </tr>\n    <tr>\n      <th>89</th>\n      <td>90</td>\n      <td>Los Angeles 4</td>\n      <td>1</td>\n      <td>45</td>\n      <td>handSoap</td>\n      <td>4</td>\n    </tr>\n  </tbody>\n</table>\n<p>90 rows × 6 columns</p>\n</div>"
          },
          "metadata": {},
          "execution_count": 68
        }
      ]
    },
    {
      "cell_type": "code",
      "metadata": {
        "id": "m3VwLMJr1wBE"
      },
      "source": [
        "inputs={'customerDemand':d_df,'plants':s_df}"
      ],
      "execution_count": 69,
      "outputs": []
    },
    {
      "cell_type": "markdown",
      "metadata": {
        "id": "89lxEMTBYVuQ"
      },
      "source": [
        "# 2. Solve the DO problem via DOcplex"
      ]
    },
    {
      "cell_type": "code",
      "metadata": {
        "id": "UIfEsCTjYVuQ"
      },
      "source": [
        "#If you get an error you may have to restart the runtime\n",
        "import cplex\n",
        "import docplex.mp\n",
        "from docplex.mp.model import Model"
      ],
      "execution_count": 70,
      "outputs": []
    },
    {
      "cell_type": "code",
      "metadata": {
        "id": "QyDnKO0VRW2r",
        "colab": {
          "base_uri": "https://localhost:8080/"
        },
        "outputId": "5b8ae6a0-473b-42f4-ba0f-4d5e16fb4ef8"
      },
      "source": [
        "global output_lock\n",
        "#with output_lock:\n",
        "\n",
        "try:  \n",
        "  if output_lock:\n",
        "    print(output_lock)\n",
        "except:\n",
        "  output_lock=dict({'output_lock':{}})\n",
        "\n",
        "try: \n",
        "  if outputs:\n",
        "    print(outputs)\n",
        "except:\n",
        "  outputs=dict()\n"
      ],
      "execution_count": 71,
      "outputs": [
        {
          "output_type": "stream",
          "name": "stdout",
          "text": [
            "{'output_lock': {}}\n{'plantsAllocation':    plants  plants allocation decision  plants selection decision  \\\n0       1                         0.0                        1.0   \n1       2                        15.0                        1.0   \n2       3                        30.0                        1.0   \n3       4                        70.0                        1.0   \n4       5                        60.0                        1.0   \n5       6                        45.0                        1.0   \n\n   plants Capacity plants Product  plants Cost  \\\n0               40           mask            3   \n1               30           mask            2   \n2               30  handSanitizer            1   \n3              100  handSanitizer            3   \n4               60           mask            2   \n5               45           mask            1   \n\n   plants minValueAllocationForAssignment  \n0                                       0  \n1                                       0  \n2                                       0  \n3                                       0  \n4                                       0  \n5                                       0  }\n"
          ]
        }
      ]
    },
    {
      "cell_type": "code",
      "metadata": {
        "id": "QR6mPc1i4fpz",
        "colab": {
          "base_uri": "https://localhost:8080/"
        },
        "outputId": "6b6779d9-717f-41f0-def3-e8be3bdaa5b2"
      },
      "source": [
        "exec(open(\"./model.py\").read())"
      ],
      "execution_count": 72,
      "outputs": [
        {
          "output_type": "stream",
          "name": "stdout",
          "text": [
            "* building wado model\n",
            "model building done in 0.12578916549682617 secs\n",
            "* running wado model\n",
            "Version identifier: 20.1.0.0 | 2020-11-11 | 9bedb6d68\n",
            "CPXPARAM_Read_DataCheck                          1\n",
            "CPXPARAM_TimeLimit                               120\n",
            "Found incumbent of value 0.000000 after 0.00 sec. (0.01 ticks)\n",
            "Tried aggregator 2 times.\n",
            "MIP Presolve eliminated 297 rows and 178 columns.\n",
            "Aggregator did 2 substitutions.\n",
            "All rows and columns eliminated.\n",
            "Presolve time = 0.01 sec. (0.20 ticks)\n",
            "\n",
            "Root node processing (before b&c):\n",
            "  Real time             =    0.01 sec. (0.22 ticks)\n",
            "Parallel b&c, 16 threads:\n",
            "  Real time             =    0.00 sec. (0.00 ticks)\n",
            "  Sync time (average)   =    0.00 sec.\n",
            "  Wait time (average)   =    0.00 sec.\n",
            "                          ------------\n",
            "Total (root+branch&cut) =    0.01 sec. (0.22 ticks)\n",
            "Solve status: JobSolveStatus.OPTIMAL_SOLUTION\n",
            "* model docplex_model3 solved with objective = -1403296.000\n",
            "*  KPI: total plants allocations                    = 967168.000\n",
            "*  KPI: total Cost of plants over all allocations   = 65248.000\n",
            "*  KPI: total Profit of plants over all allocations = 501376.000\n",
            "model solve done in 0.032675981521606445 secs\n",
            "solution export done in 0.015956640243530273 secs\n"
          ]
        }
      ]
    },
    {
      "cell_type": "code",
      "metadata": {
        "id": "oT2QEZYAX97y",
        "colab": {
          "base_uri": "https://localhost:8080/"
        },
        "outputId": "f9970896-1adc-407f-b4e3-b7ba3619b558"
      },
      "source": [
        "outputs\n"
      ],
      "execution_count": 73,
      "outputs": [
        {
          "output_type": "execute_result",
          "data": {
            "text/plain": [
              "{'plantsAllocation':     plants  plants allocation decision  plants selection decision  \\\n",
              " 0        1                         0.0                        1.0   \n",
              " 1        2                        30.0                        1.0   \n",
              " 2        3                         0.0                        1.0   \n",
              " 3        4                        78.0                        1.0   \n",
              " 4        5                        29.0                        1.0   \n",
              " ..     ...                         ...                        ...   \n",
              " 85      86                         0.0                        1.0   \n",
              " 86      87                         0.0                        1.0   \n",
              " 87      88                        31.0                        1.0   \n",
              " 88      89                        60.0                        1.0   \n",
              " 89      90                         0.0                        1.0   \n",
              " \n",
              "     plants Capacity  plants Profit plants Product  plants Plants  plants Cost  \\\n",
              " 0                40              3    airFreshner    Los Angeles            3   \n",
              " 1                30              4        avocado    Mexico City            2   \n",
              " 2                30              2      batteries        Toronto            1   \n",
              " 3               100              5     cannedSoup        Chicago            3   \n",
              " 4                60              6     cannedTuna         London            2   \n",
              " ..              ...            ...            ...            ...          ...   \n",
              " 85               30              2           wine    Mexico City            2   \n",
              " 86               30              3          wipes        Toronto            1   \n",
              " 87              100              1           mask        Chicago            3   \n",
              " 88               60              3  handSanitizer         London            2   \n",
              " 89               45              4       handSoap  Los Angeles 4            1   \n",
              " \n",
              "     plants minValueAllocationForAssignment  \n",
              " 0                                        0  \n",
              " 1                                        0  \n",
              " 2                                        0  \n",
              " 3                                        0  \n",
              " 4                                        0  \n",
              " ..                                     ...  \n",
              " 85                                       0  \n",
              " 86                                       0  \n",
              " 87                                       0  \n",
              " 88                                       0  \n",
              " 89                                       0  \n",
              " \n",
              " [90 rows x 9 columns]}"
            ]
          },
          "metadata": {},
          "execution_count": 73
        }
      ]
    },
    {
      "cell_type": "code",
      "metadata": {
        "id": "TiWDpfHILzSo",
        "colab": {
          "base_uri": "https://localhost:8080/",
          "height": 176
        },
        "outputId": "d32d1720-2329-4ca8-c295-1bd0fea94096"
      },
      "source": [
        "outputs['plantsAllocation']"
      ],
      "execution_count": 74,
      "outputs": [
        {
          "output_type": "execute_result",
          "data": {
            "text/plain": [
              "    plants  plants allocation decision  plants selection decision  \\\n",
              "0        1                         0.0                        1.0   \n",
              "1        2                        30.0                        1.0   \n",
              "2        3                         0.0                        1.0   \n",
              "3        4                        78.0                        1.0   \n",
              "4        5                        29.0                        1.0   \n",
              "..     ...                         ...                        ...   \n",
              "85      86                         0.0                        1.0   \n",
              "86      87                         0.0                        1.0   \n",
              "87      88                        31.0                        1.0   \n",
              "88      89                        60.0                        1.0   \n",
              "89      90                         0.0                        1.0   \n",
              "\n",
              "    plants Capacity  plants Profit plants Product  plants Plants  plants Cost  \\\n",
              "0                40              3    airFreshner    Los Angeles            3   \n",
              "1                30              4        avocado    Mexico City            2   \n",
              "2                30              2      batteries        Toronto            1   \n",
              "3               100              5     cannedSoup        Chicago            3   \n",
              "4                60              6     cannedTuna         London            2   \n",
              "..              ...            ...            ...            ...          ...   \n",
              "85               30              2           wine    Mexico City            2   \n",
              "86               30              3          wipes        Toronto            1   \n",
              "87              100              1           mask        Chicago            3   \n",
              "88               60              3  handSanitizer         London            2   \n",
              "89               45              4       handSoap  Los Angeles 4            1   \n",
              "\n",
              "    plants minValueAllocationForAssignment  \n",
              "0                                        0  \n",
              "1                                        0  \n",
              "2                                        0  \n",
              "3                                        0  \n",
              "4                                        0  \n",
              "..                                     ...  \n",
              "85                                       0  \n",
              "86                                       0  \n",
              "87                                       0  \n",
              "88                                       0  \n",
              "89                                       0  \n",
              "\n",
              "[90 rows x 9 columns]"
            ],
            "text/html": "<div>\n<style scoped>\n    .dataframe tbody tr th:only-of-type {\n        vertical-align: middle;\n    }\n\n    .dataframe tbody tr th {\n        vertical-align: top;\n    }\n\n    .dataframe thead th {\n        text-align: right;\n    }\n</style>\n<table border=\"1\" class=\"dataframe\">\n  <thead>\n    <tr style=\"text-align: right;\">\n      <th></th>\n      <th>plants</th>\n      <th>plants allocation decision</th>\n      <th>plants selection decision</th>\n      <th>plants Capacity</th>\n      <th>plants Profit</th>\n      <th>plants Product</th>\n      <th>plants Plants</th>\n      <th>plants Cost</th>\n      <th>plants minValueAllocationForAssignment</th>\n    </tr>\n  </thead>\n  <tbody>\n    <tr>\n      <th>0</th>\n      <td>1</td>\n      <td>0.0</td>\n      <td>1.0</td>\n      <td>40</td>\n      <td>3</td>\n      <td>airFreshner</td>\n      <td>Los Angeles</td>\n      <td>3</td>\n      <td>0</td>\n    </tr>\n    <tr>\n      <th>1</th>\n      <td>2</td>\n      <td>30.0</td>\n      <td>1.0</td>\n      <td>30</td>\n      <td>4</td>\n      <td>avocado</td>\n      <td>Mexico City</td>\n      <td>2</td>\n      <td>0</td>\n    </tr>\n    <tr>\n      <th>2</th>\n      <td>3</td>\n      <td>0.0</td>\n      <td>1.0</td>\n      <td>30</td>\n      <td>2</td>\n      <td>batteries</td>\n      <td>Toronto</td>\n      <td>1</td>\n      <td>0</td>\n    </tr>\n    <tr>\n      <th>3</th>\n      <td>4</td>\n      <td>78.0</td>\n      <td>1.0</td>\n      <td>100</td>\n      <td>5</td>\n      <td>cannedSoup</td>\n      <td>Chicago</td>\n      <td>3</td>\n      <td>0</td>\n    </tr>\n    <tr>\n      <th>4</th>\n      <td>5</td>\n      <td>29.0</td>\n      <td>1.0</td>\n      <td>60</td>\n      <td>6</td>\n      <td>cannedTuna</td>\n      <td>London</td>\n      <td>2</td>\n      <td>0</td>\n    </tr>\n    <tr>\n      <th>...</th>\n      <td>...</td>\n      <td>...</td>\n      <td>...</td>\n      <td>...</td>\n      <td>...</td>\n      <td>...</td>\n      <td>...</td>\n      <td>...</td>\n      <td>...</td>\n    </tr>\n    <tr>\n      <th>85</th>\n      <td>86</td>\n      <td>0.0</td>\n      <td>1.0</td>\n      <td>30</td>\n      <td>2</td>\n      <td>wine</td>\n      <td>Mexico City</td>\n      <td>2</td>\n      <td>0</td>\n    </tr>\n    <tr>\n      <th>86</th>\n      <td>87</td>\n      <td>0.0</td>\n      <td>1.0</td>\n      <td>30</td>\n      <td>3</td>\n      <td>wipes</td>\n      <td>Toronto</td>\n      <td>1</td>\n      <td>0</td>\n    </tr>\n    <tr>\n      <th>87</th>\n      <td>88</td>\n      <td>31.0</td>\n      <td>1.0</td>\n      <td>100</td>\n      <td>1</td>\n      <td>mask</td>\n      <td>Chicago</td>\n      <td>3</td>\n      <td>0</td>\n    </tr>\n    <tr>\n      <th>88</th>\n      <td>89</td>\n      <td>60.0</td>\n      <td>1.0</td>\n      <td>60</td>\n      <td>3</td>\n      <td>handSanitizer</td>\n      <td>London</td>\n      <td>2</td>\n      <td>0</td>\n    </tr>\n    <tr>\n      <th>89</th>\n      <td>90</td>\n      <td>0.0</td>\n      <td>1.0</td>\n      <td>45</td>\n      <td>4</td>\n      <td>handSoap</td>\n      <td>Los Angeles 4</td>\n      <td>1</td>\n      <td>0</td>\n    </tr>\n  </tbody>\n</table>\n<p>90 rows × 9 columns</p>\n</div>"
          },
          "metadata": {},
          "execution_count": 74
        }
      ]
    },
    {
      "cell_type": "code",
      "metadata": {
        "id": "Z7pXtDgMxKiX",
        "colab": {
          "base_uri": "https://localhost:8080/"
        },
        "outputId": "4ac530a9-7f17-4048-a44c-01b7b3f97498"
      },
      "source": [
        "model"
      ],
      "execution_count": 75,
      "outputs": [
        {
          "output_type": "execute_result",
          "data": {
            "text/plain": [
              "docplex.mp.Model['docplex_model3']"
            ]
          },
          "metadata": {},
          "execution_count": 75
        }
      ]
    },
    {
      "cell_type": "code",
      "metadata": {
        "colab": {
          "base_uri": "https://localhost:8080/"
        },
        "id": "GJb3NIm38Iuz",
        "outputId": "671a12ab-f399-46f9-c255-c492daa79eb4"
      },
      "source": [
        "solution=model.solve()\n",
        "print(solution)\n",
        "solution"
      ],
      "execution_count": 76,
      "outputs": [
        {
          "output_type": "stream",
          "name": "stdout",
          "text": [
            "solution for: docplex_model3\nobjective: -1.4033e+06\nx2=30\nx4=78\nx5=29\nx6=45\nx7=4\nx10=4\nx11=60\nx13=40\nx15=9\nx16=100\nx17=57\nx18=44\nx21=30\nx22=28\nx26=9\nx27=30\nx28=11\nx30=45\nx31=40\nx32=16\nx37=11\nx38=30\nx39=30\nx40=73\nx43=34\nx44=30\nx45=30\nx50=30\nx51=30\nx52=100\nx54=16\nx56=30\nx57=30\nx58=4\nx59=36\nx60=5\nx64=5\nx65=60\nx66=45\nx67=11\nx68=30\nx69=30\nx70=93\nx71=5\nx74=30\nx77=49\nx78=14\nx79=40\nx80=30\nx81=21\nx82=35\nx83=60\nx85=12\nx88=31\nx89=60\nx91=1\nx92=1\nx93=1\nx94=1\nx95=1\nx96=1\nx97=1\nx98=1\nx99=1\nx100=1\nx101=1\nx102=1\nx103=1\nx104=1\nx105=1\nx106=1\nx107=1\nx108=1\nx109=1\nx110=1\nx111=1\nx112=1\nx113=1\nx114=1\nx115=1\nx116=1\nx117=1\nx118=1\nx119=1\nx120=1\nx121=1\nx122=1\nx123=1\nx124=1\nx125=1\nx126=1\nx127=1\nx128=1\nx129=1\nx130=1\nx131=1\nx132=1\nx133=1\nx134=1\nx135=1\nx136=1\nx137=1\nx138=1\nx139=1\nx140=1\nx141=1\nx142=1\nx143=1\nx144=1\nx145=1\nx146=1\nx147=1\nx148=1\nx149=1\nx150=1\nx151=1\nx152=1\nx153=1\nx154=1\nx155=1\nx156=1\nx157=1\nx158=1\nx159=1\nx160=1\nx161=1\nx162=1\nx163=1\nx164=1\nx165=1\nx166=1\nx167=1\nx168=1\nx169=1\nx170=1\nx171=1\nx172=1\nx173=1\nx174=1\nx175=1\nx176=1\nx177=1\nx178=1\nx179=1\nx180=1\n\n"
          ]
        },
        {
          "output_type": "execute_result",
          "data": {
            "text/plain": [
              "docplex.mp.solution.SolveSolution(obj=-1.4033e+06,values={x2:30,x4:78,x5.."
            ]
          },
          "metadata": {},
          "execution_count": 76
        }
      ]
    },
    {
      "cell_type": "code",
      "metadata": {
        "id": "zHUJX4zh7DtO",
        "colab": {
          "base_uri": "https://localhost:8080/"
        },
        "outputId": "960101f1-ec7b-4c19-f395-b83bb3246e8f"
      },
      "source": [
        "cost = solution.get_objective_value()\n",
        "x = solution.get_all_values()\n",
        "x = np.array(x)\n",
        "print(cost,x)"
      ],
      "execution_count": 77,
      "outputs": [
        {
          "output_type": "stream",
          "name": "stdout",
          "text": [
            "-1403296.0 [  0.  30.   0.  78.  29.  45.   4.   0.   0.   4.  60.   0.  40.   0.\n   9. 100.  57.  44.   0.   0.  30.  28.   0.   0.   0.   9.  30.  11.\n   0.  45.  40.  16.   0.   0.   0.   0.  11.  30.  30.  73.   0.   0.\n  34.  30.  30.   0.   0.   0.   0.  30.  30. 100.   0.  16.   0.  30.\n  30.   4.  36.   5.   0.   0.   0.   5.  60.  45.  11.  30.  30.  93.\n   5.   0.   0.  30.   0.   0.  49.  14.  40.  30.  21.  35.  60.   0.\n  12.   0.   0.  31.  60.   0.   1.   1.   1.   1.   1.   1.   1.   1.\n   1.   1.   1.   1.   1.   1.   1.   1.   1.   1.   1.   1.   1.   1.\n   1.   1.   1.   1.   1.   1.   1.   1.   1.   1.   1.   1.   1.   1.\n   1.   1.   1.   1.   1.   1.   1.   1.   1.   1.   1.   1.   1.   1.\n   1.   1.   1.   1.   1.   1.   1.   1.   1.   1.   1.   1.   1.   1.\n   1.   1.   1.   1.   1.   1.   1.   1.   1.   1.   1.   1.   1.   1.\n   1.   1.   1.   1.   1.   1.   1.   1.   1.   1.   1.   1.]\n"
          ]
        }
      ]
    },
    {
      "cell_type": "markdown",
      "metadata": {
        "id": "pou-xP5MYVuR"
      },
      "source": [
        "# 3. Solve the problem using D-wave"
      ]
    },
    {
      "cell_type": "code",
      "metadata": {
        "id": "wtwrodHZYVuR"
      },
      "source": [
        "# take a look at https://quantum-computing.ibm.com/lab/docs/iql/optimization\n",
        "\n",
        "#from qiskit_optimization import QuadraticProgram\n",
        "#from qiskit_optimization.translators import from_docplex_mp\n",
        "\n",
        "from qiskit.optimization import QuadraticProgram\n",
        "\n",
        "# load from a Docplex model\n",
        "mod = QuadraticProgram()\n",
        "mod.from_docplex(model)\n",
        "print(mod.export_as_lp_string())"
      ],
      "execution_count": 78,
      "outputs": [
        {
          "output_type": "stream",
          "name": "stdout",
          "text": [
            "\\ This file has been generated by DOcplex\n\\ ENCODING=ISO-8859-1\n\\Problem name: docplex_model3\n\nMinimize\n obj: - 656 x0 - 736 x1 - 624 x2 - 784 x3 - 864 x4 - 752 x5 - 656 x6 - 608 x7\n      - 688 x8 - 528 x9 - 672 x10 - 752 x11 - 784 x12 - 672 x13 - 752 x14\n      - 592 x15 - 800 x16 - 880 x17 - 720 x18 - 672 x19 - 624 x20 - 656 x21\n      - 544 x22 - 688 x23 - 720 x24 - 800 x25 - 688 x26 - 720 x27 - 608 x28\n      - 816 x29 - 848 x30 - 736 x31 - 688 x32 - 592 x33 - 672 x34 - 560 x35\n      - 656 x36 - 736 x37 - 816 x38 - 656 x39 - 736 x40 - 624 x41 - 784 x42\n      - 864 x43 - 752 x44 - 656 x45 - 608 x46 - 688 x47 - 528 x48 - 672 x49\n      - 752 x50 - 784 x51 - 672 x52 - 752 x53 - 592 x54 - 800 x55 - 880 x56\n      - 720 x57 - 672 x58 - 624 x59 - 656 x60 - 544 x61 - 688 x62 - 720 x63\n      - 800 x64 - 688 x65 - 720 x66 - 608 x67 - 816 x68 - 848 x69 - 736 x70\n      - 688 x71 - 592 x72 - 672 x73 - 560 x74 - 656 x75 - 736 x76 - 816 x77\n      - 656 x78 - 736 x79 - 624 x80 - 784 x81 - 864 x82 - 752 x83 - 656 x84\n      - 608 x85 - 688 x86 - 528 x87 - 672 x88 - 752 x89\nSubject To\n _L_EXPR_1: x0 - 40 x90 <= 0\n _L_EXPR_2: x1 - 30 x91 <= 0\n _L_EXPR_3: x2 - 30 x92 <= 0\n _L_EXPR_4: x3 - 100 x93 <= 0\n _L_EXPR_5: x4 - 60 x94 <= 0\n _L_EXPR_6: x5 - 45 x95 <= 0\n _L_EXPR_7: x6 - 40 x96 <= 0\n _L_EXPR_8: x7 - 30 x97 <= 0\n _L_EXPR_9: x8 - 30 x98 <= 0\n _L_EXPR_10: x9 - 100 x99 <= 0\n _L_EXPR_11: x10 - 60 x100 <= 0\n _L_EXPR_12: x11 - 45 x101 <= 0\n _L_EXPR_13: x12 - 40 x102 <= 0\n _L_EXPR_14: x13 - 30 x103 <= 0\n _L_EXPR_15: x14 - 30 x104 <= 0\n _L_EXPR_16: x15 - 100 x105 <= 0\n _L_EXPR_17: x16 - 60 x106 <= 0\n _L_EXPR_18: x17 - 45 x107 <= 0\n _L_EXPR_19: x18 - 40 x108 <= 0\n _L_EXPR_20: x19 - 30 x109 <= 0\n _L_EXPR_21: x20 - 30 x110 <= 0\n _L_EXPR_22: x21 - 100 x111 <= 0\n _L_EXPR_23: x22 - 60 x112 <= 0\n _L_EXPR_24: x23 - 45 x113 <= 0\n _L_EXPR_25: x24 - 40 x114 <= 0\n _L_EXPR_26: x25 - 30 x115 <= 0\n _L_EXPR_27: x26 - 30 x116 <= 0\n _L_EXPR_28: x27 - 100 x117 <= 0\n _L_EXPR_29: x28 - 60 x118 <= 0\n _L_EXPR_30: x29 - 45 x119 <= 0\n _L_EXPR_31: x30 - 40 x120 <= 0\n _L_EXPR_32: x31 - 30 x121 <= 0\n _L_EXPR_33: x32 - 30 x122 <= 0\n _L_EXPR_34: x33 - 100 x123 <= 0\n _L_EXPR_35: x34 - 60 x124 <= 0\n _L_EXPR_36: x35 - 45 x125 <= 0\n _L_EXPR_37: x36 - 40 x126 <= 0\n _L_EXPR_38: x37 - 30 x127 <= 0\n _L_EXPR_39: x38 - 30 x128 <= 0\n _L_EXPR_40: x39 - 100 x129 <= 0\n _L_EXPR_41: x40 - 60 x130 <= 0\n _L_EXPR_42: x41 - 45 x131 <= 0\n _L_EXPR_43: x42 - 40 x132 <= 0\n _L_EXPR_44: x43 - 30 x133 <= 0\n _L_EXPR_45: x44 - 30 x134 <= 0\n _L_EXPR_46: x45 - 100 x135 <= 0\n _L_EXPR_47: x46 - 60 x136 <= 0\n _L_EXPR_48: x47 - 45 x137 <= 0\n _L_EXPR_49: x48 - 40 x138 <= 0\n _L_EXPR_50: x49 - 30 x139 <= 0\n _L_EXPR_51: x50 - 30 x140 <= 0\n _L_EXPR_52: x51 - 100 x141 <= 0\n _L_EXPR_53: x52 - 60 x142 <= 0\n _L_EXPR_54: x53 - 45 x143 <= 0\n _L_EXPR_55: x54 - 40 x144 <= 0\n _L_EXPR_56: x55 - 30 x145 <= 0\n _L_EXPR_57: x56 - 30 x146 <= 0\n _L_EXPR_58: x57 - 100 x147 <= 0\n _L_EXPR_59: x58 - 60 x148 <= 0\n _L_EXPR_60: x59 - 45 x149 <= 0\n _L_EXPR_61: x60 - 40 x150 <= 0\n _L_EXPR_62: x61 - 30 x151 <= 0\n _L_EXPR_63: x62 - 30 x152 <= 0\n _L_EXPR_64: x63 - 100 x153 <= 0\n _L_EXPR_65: x64 - 60 x154 <= 0\n _L_EXPR_66: x65 - 45 x155 <= 0\n _L_EXPR_67: x66 - 40 x156 <= 0\n _L_EXPR_68: x67 - 30 x157 <= 0\n _L_EXPR_69: x68 - 30 x158 <= 0\n _L_EXPR_70: x69 - 100 x159 <= 0\n _L_EXPR_71: x70 - 60 x160 <= 0\n _L_EXPR_72: x71 - 45 x161 <= 0\n _L_EXPR_73: x72 - 40 x162 <= 0\n _L_EXPR_74: x73 - 30 x163 <= 0\n _L_EXPR_75: x74 - 30 x164 <= 0\n _L_EXPR_76: x75 - 100 x165 <= 0\n _L_EXPR_77: x76 - 60 x166 <= 0\n _L_EXPR_78: x77 - 45 x167 <= 0\n _L_EXPR_79: x78 - 40 x168 <= 0\n _L_EXPR_80: x79 - 30 x169 <= 0\n _L_EXPR_81: x80 - 30 x170 <= 0\n _L_EXPR_82: x81 - 100 x171 <= 0\n _L_EXPR_83: x82 - 60 x172 <= 0\n _L_EXPR_84: x83 - 45 x173 <= 0\n _L_EXPR_85: x84 - 40 x174 <= 0\n _L_EXPR_86: x85 - 30 x175 <= 0\n _L_EXPR_87: x86 - 30 x176 <= 0\n _L_EXPR_88: x87 - 100 x177 <= 0\n _L_EXPR_89: x88 - 60 x178 <= 0\n _L_EXPR_90: x89 - 45 x179 <= 0\n _L_EXPR_91: x0 >= 0\n _L_EXPR_92: x1 >= 0\n _L_EXPR_93: x2 >= 0\n _L_EXPR_94: x3 >= 0\n _L_EXPR_95: x4 >= 0\n _L_EXPR_96: x5 >= 0\n _L_EXPR_97: x6 >= 0\n _L_EXPR_98: x7 >= 0\n _L_EXPR_99: x8 >= 0\n _L_EXPR_100: x9 >= 0\n _L_EXPR_101: x10 >= 0\n _L_EXPR_102: x11 >= 0\n _L_EXPR_103: x12 >= 0\n _L_EXPR_104: x13 >= 0\n _L_EXPR_105: x14 >= 0\n _L_EXPR_106: x15 >= 0\n _L_EXPR_107: x16 >= 0\n _L_EXPR_108: x17 >= 0\n _L_EXPR_109: x18 >= 0\n _L_EXPR_110: x19 >= 0\n _L_EXPR_111: x20 >= 0\n _L_EXPR_112: x21 >= 0\n _L_EXPR_113: x22 >= 0\n _L_EXPR_114: x23 >= 0\n _L_EXPR_115: x24 >= 0\n _L_EXPR_116: x25 >= 0\n _L_EXPR_117: x26 >= 0\n _L_EXPR_118: x27 >= 0\n _L_EXPR_119: x28 >= 0\n _L_EXPR_120: x29 >= 0\n _L_EXPR_121: x30 >= 0\n _L_EXPR_122: x31 >= 0\n _L_EXPR_123: x32 >= 0\n _L_EXPR_124: x33 >= 0\n _L_EXPR_125: x34 >= 0\n _L_EXPR_126: x35 >= 0\n _L_EXPR_127: x36 >= 0\n _L_EXPR_128: x37 >= 0\n _L_EXPR_129: x38 >= 0\n _L_EXPR_130: x39 >= 0\n _L_EXPR_131: x40 >= 0\n _L_EXPR_132: x41 >= 0\n _L_EXPR_133: x42 >= 0\n _L_EXPR_134: x43 >= 0\n _L_EXPR_135: x44 >= 0\n _L_EXPR_136: x45 >= 0\n _L_EXPR_137: x46 >= 0\n _L_EXPR_138: x47 >= 0\n _L_EXPR_139: x48 >= 0\n _L_EXPR_140: x49 >= 0\n _L_EXPR_141: x50 >= 0\n _L_EXPR_142: x51 >= 0\n _L_EXPR_143: x52 >= 0\n _L_EXPR_144: x53 >= 0\n _L_EXPR_145: x54 >= 0\n _L_EXPR_146: x55 >= 0\n _L_EXPR_147: x56 >= 0\n _L_EXPR_148: x57 >= 0\n _L_EXPR_149: x58 >= 0\n _L_EXPR_150: x59 >= 0\n _L_EXPR_151: x60 >= 0\n _L_EXPR_152: x61 >= 0\n _L_EXPR_153: x62 >= 0\n _L_EXPR_154: x63 >= 0\n _L_EXPR_155: x64 >= 0\n _L_EXPR_156: x65 >= 0\n _L_EXPR_157: x66 >= 0\n _L_EXPR_158: x67 >= 0\n _L_EXPR_159: x68 >= 0\n _L_EXPR_160: x69 >= 0\n _L_EXPR_161: x70 >= 0\n _L_EXPR_162: x71 >= 0\n _L_EXPR_163: x72 >= 0\n _L_EXPR_164: x73 >= 0\n _L_EXPR_165: x74 >= 0\n _L_EXPR_166: x75 >= 0\n _L_EXPR_167: x76 >= 0\n _L_EXPR_168: x77 >= 0\n _L_EXPR_169: x78 >= 0\n _L_EXPR_170: x79 >= 0\n _L_EXPR_171: x80 >= 0\n _L_EXPR_172: x81 >= 0\n _L_EXPR_173: x82 >= 0\n _L_EXPR_174: x83 >= 0\n _L_EXPR_175: x84 >= 0\n _L_EXPR_176: x85 >= 0\n _L_EXPR_177: x86 >= 0\n _L_EXPR_178: x87 >= 0\n _L_EXPR_179: x88 >= 0\n _L_EXPR_180: x89 >= 0\n _L_EXPR_181: x0 <= 40\n _L_EXPR_182: x1 <= 30\n _L_EXPR_183: x2 <= 30\n _L_EXPR_184: x3 <= 100\n _L_EXPR_185: x4 <= 60\n _L_EXPR_186: x5 <= 45\n _L_EXPR_187: x6 <= 40\n _L_EXPR_188: x7 <= 30\n _L_EXPR_189: x8 <= 30\n _L_EXPR_190: x9 <= 100\n _L_EXPR_191: x10 <= 60\n _L_EXPR_192: x11 <= 45\n _L_EXPR_193: x12 <= 40\n _L_EXPR_194: x13 <= 30\n _L_EXPR_195: x14 <= 30\n _L_EXPR_196: x15 <= 100\n _L_EXPR_197: x16 <= 60\n _L_EXPR_198: x17 <= 45\n _L_EXPR_199: x18 <= 40\n _L_EXPR_200: x19 <= 30\n _L_EXPR_201: x20 <= 30\n _L_EXPR_202: x21 <= 100\n _L_EXPR_203: x22 <= 60\n _L_EXPR_204: x23 <= 45\n _L_EXPR_205: x24 <= 40\n _L_EXPR_206: x25 <= 30\n _L_EXPR_207: x26 <= 30\n _L_EXPR_208: x27 <= 100\n _L_EXPR_209: x28 <= 60\n _L_EXPR_210: x29 <= 45\n _L_EXPR_211: x30 <= 40\n _L_EXPR_212: x31 <= 30\n _L_EXPR_213: x32 <= 30\n _L_EXPR_214: x33 <= 100\n _L_EXPR_215: x34 <= 60\n _L_EXPR_216: x35 <= 45\n _L_EXPR_217: x36 <= 40\n _L_EXPR_218: x37 <= 30\n _L_EXPR_219: x38 <= 30\n _L_EXPR_220: x39 <= 100\n _L_EXPR_221: x40 <= 60\n _L_EXPR_222: x41 <= 45\n _L_EXPR_223: x42 <= 40\n _L_EXPR_224: x43 <= 30\n _L_EXPR_225: x44 <= 30\n _L_EXPR_226: x45 <= 100\n _L_EXPR_227: x46 <= 60\n _L_EXPR_228: x47 <= 45\n _L_EXPR_229: x48 <= 40\n _L_EXPR_230: x49 <= 30\n _L_EXPR_231: x50 <= 30\n _L_EXPR_232: x51 <= 100\n _L_EXPR_233: x52 <= 60\n _L_EXPR_234: x53 <= 45\n _L_EXPR_235: x54 <= 40\n _L_EXPR_236: x55 <= 30\n _L_EXPR_237: x56 <= 30\n _L_EXPR_238: x57 <= 100\n _L_EXPR_239: x58 <= 60\n _L_EXPR_240: x59 <= 45\n _L_EXPR_241: x60 <= 40\n _L_EXPR_242: x61 <= 30\n _L_EXPR_243: x62 <= 30\n _L_EXPR_244: x63 <= 100\n _L_EXPR_245: x64 <= 60\n _L_EXPR_246: x65 <= 45\n _L_EXPR_247: x66 <= 40\n _L_EXPR_248: x67 <= 30\n _L_EXPR_249: x68 <= 30\n _L_EXPR_250: x69 <= 100\n _L_EXPR_251: x70 <= 60\n _L_EXPR_252: x71 <= 45\n _L_EXPR_253: x72 <= 40\n _L_EXPR_254: x73 <= 30\n _L_EXPR_255: x74 <= 30\n _L_EXPR_256: x75 <= 100\n _L_EXPR_257: x76 <= 60\n _L_EXPR_258: x77 <= 45\n _L_EXPR_259: x78 <= 40\n _L_EXPR_260: x79 <= 30\n _L_EXPR_261: x80 <= 30\n _L_EXPR_262: x81 <= 100\n _L_EXPR_263: x82 <= 60\n _L_EXPR_264: x83 <= 45\n _L_EXPR_265: x84 <= 40\n _L_EXPR_266: x85 <= 30\n _L_EXPR_267: x86 <= 30\n _L_EXPR_268: x87 <= 100\n _L_EXPR_269: x88 <= 60\n _L_EXPR_270: x89 <= 45\n _L_EXPR_271: x0 + x29 + x58 <= 81\n _L_EXPR_272: x1 + x30 + x59 <= 75\n _L_EXPR_273: x2 + x31 + x60 <= 16\n _L_EXPR_274: x3 + x32 + x61 <= 78\n _L_EXPR_275: x4 + x33 + x62 <= 29\n _L_EXPR_276: x5 + x34 + x63 <= 50\n _L_EXPR_277: x6 + x35 + x64 <= 64\n _L_EXPR_278: x7 + x36 + x65 <= 56\n _L_EXPR_279: x8 + x37 + x66 <= 41\n _L_EXPR_280: x9 + x38 + x67 <= 64\n _L_EXPR_281: x10 + x39 + x68 + x88 <= 223\n _L_EXPR_282: x11 + x40 + x69 + x89 <= 93\n _L_EXPR_283: x12 + x41 + x70 <= 45\n _L_EXPR_284: x13 + x42 + x71 <= 34\n _L_EXPR_285: x14 + x43 + x72 <= 39\n _L_EXPR_286: x15 + x44 + x73 + x87 <= 191\n _L_EXPR_287: x16 + x45 + x74 <= 57\n _L_EXPR_288: x17 + x46 + x75 <= 44\n _L_EXPR_289: x18 + x47 + x76 <= 49\n _L_EXPR_290: x19 + x48 + x77 <= 14\n _L_EXPR_291: x20 + x49 + x78 <= 155\n _L_EXPR_292: x21 + x50 + x79 <= 88\n _L_EXPR_293: x22 + x51 + x80 <= 121\n _L_EXPR_294: x23 + x52 + x81 <= 35\n _L_EXPR_295: x24 + x53 + x82 <= 76\n _L_EXPR_296: x25 + x54 + x83 <= 9\n _L_EXPR_297: x26 + x55 + x84 <= 72\n _L_EXPR_298: x27 + x56 + x85 <= 41\n _L_EXPR_299: x28 + x57 + x86 <= 4\n\nBounds\n 0 <= x90 <= 1\n 0 <= x91 <= 1\n 0 <= x92 <= 1\n 0 <= x93 <= 1\n 0 <= x94 <= 1\n 0 <= x95 <= 1\n 0 <= x96 <= 1\n 0 <= x97 <= 1\n 0 <= x98 <= 1\n 0 <= x99 <= 1\n 0 <= x100 <= 1\n 0 <= x101 <= 1\n 0 <= x102 <= 1\n 0 <= x103 <= 1\n 0 <= x104 <= 1\n 0 <= x105 <= 1\n 0 <= x106 <= 1\n 0 <= x107 <= 1\n 0 <= x108 <= 1\n 0 <= x109 <= 1\n 0 <= x110 <= 1\n 0 <= x111 <= 1\n 0 <= x112 <= 1\n 0 <= x113 <= 1\n 0 <= x114 <= 1\n 0 <= x115 <= 1\n 0 <= x116 <= 1\n 0 <= x117 <= 1\n 0 <= x118 <= 1\n 0 <= x119 <= 1\n 0 <= x120 <= 1\n 0 <= x121 <= 1\n 0 <= x122 <= 1\n 0 <= x123 <= 1\n 0 <= x124 <= 1\n 0 <= x125 <= 1\n 0 <= x126 <= 1\n 0 <= x127 <= 1\n 0 <= x128 <= 1\n 0 <= x129 <= 1\n 0 <= x130 <= 1\n 0 <= x131 <= 1\n 0 <= x132 <= 1\n 0 <= x133 <= 1\n 0 <= x134 <= 1\n 0 <= x135 <= 1\n 0 <= x136 <= 1\n 0 <= x137 <= 1\n 0 <= x138 <= 1\n 0 <= x139 <= 1\n 0 <= x140 <= 1\n 0 <= x141 <= 1\n 0 <= x142 <= 1\n 0 <= x143 <= 1\n 0 <= x144 <= 1\n 0 <= x145 <= 1\n 0 <= x146 <= 1\n 0 <= x147 <= 1\n 0 <= x148 <= 1\n 0 <= x149 <= 1\n 0 <= x150 <= 1\n 0 <= x151 <= 1\n 0 <= x152 <= 1\n 0 <= x153 <= 1\n 0 <= x154 <= 1\n 0 <= x155 <= 1\n 0 <= x156 <= 1\n 0 <= x157 <= 1\n 0 <= x158 <= 1\n 0 <= x159 <= 1\n 0 <= x160 <= 1\n 0 <= x161 <= 1\n 0 <= x162 <= 1\n 0 <= x163 <= 1\n 0 <= x164 <= 1\n 0 <= x165 <= 1\n 0 <= x166 <= 1\n 0 <= x167 <= 1\n 0 <= x168 <= 1\n 0 <= x169 <= 1\n 0 <= x170 <= 1\n 0 <= x171 <= 1\n 0 <= x172 <= 1\n 0 <= x173 <= 1\n 0 <= x174 <= 1\n 0 <= x175 <= 1\n 0 <= x176 <= 1\n 0 <= x177 <= 1\n 0 <= x178 <= 1\n 0 <= x179 <= 1\n\nBinaries\n x90 x91 x92 x93 x94 x95 x96 x97 x98 x99 x100 x101 x102 x103 x104 x105 x106 x107\n x108 x109 x110 x111 x112 x113 x114 x115 x116 x117 x118 x119 x120 x121 x122 x123\n x124 x125 x126 x127 x128 x129 x130 x131 x132 x133 x134 x135 x136 x137 x138 x139\n x140 x141 x142 x143 x144 x145 x146 x147 x148 x149 x150 x151 x152 x153 x154 x155\n x156 x157 x158 x159 x160 x161 x162 x163 x164 x165 x166 x167 x168 x169 x170 x171\n x172 x173 x174 x175 x176 x177 x178 x179\n\nGenerals\n x0 x1 x2 x3 x4 x5 x6 x7 x8 x9 x10 x11 x12 x13 x14 x15 x16 x17 x18 x19 x20 x21\n x22 x23 x24 x25 x26 x27 x28 x29 x30 x31 x32 x33 x34 x35 x36 x37 x38 x39 x40 x41\n x42 x43 x44 x45 x46 x47 x48 x49 x50 x51 x52 x53 x54 x55 x56 x57 x58 x59 x60 x61\n x62 x63 x64 x65 x66 x67 x68 x69 x70 x71 x72 x73 x74 x75 x76 x77 x78 x79 x80 x81\n x82 x83 x84 x85 x86 x87 x88 x89\nEnd\n\n"
          ]
        }
      ]
    },
    {
      "cell_type": "code",
      "metadata": {
        "id": "7QsOma-VFkAk"
      },
      "source": [
        "print('constant:\\t\\t\\t', mod.objective.constant)\n",
        "\n",
        "print('linear dict:\\t\\t\\t', mod.objective.linear.to_dict())\n",
        "print('linear array:\\t\\t\\t', mod.objective.linear.to_array())\n",
        "print('linear array as sparse matrix:\\n', mod.objective.linear.coefficients, '\\n')\n",
        "\n",
        "print('quadratic dict w/ index:\\t', mod.objective.quadratic.to_dict())\n",
        "print('quadratic dict w/ name:\\t\\t', mod.objective.quadratic.to_dict(use_name=True))\n",
        "print('symmetric quadratic dict w/ name:\\t', mod.objective.quadratic.to_dict(use_name=True, symmetric=True))\n",
        "print('quadratic matrix:\\n', mod.objective.quadratic.to_array(),'\\n')\n",
        "print('symmetric quadratic matrix:\\n', mod.objective.quadratic.to_array(symmetric=True),'\\n')\n",
        "print('quadratic matrix as sparse matrix:\\n', mod.objective.quadratic.coefficients)\n"
      ],
      "execution_count": 79,
      "outputs": [
        {
          "output_type": "stream",
          "name": "stdout",
          "text": [
            "constant:\t\t\t 0.0\nlinear dict:\t\t\t {0: -656.0, 1: -736.0, 2: -624.0, 3: -784.0, 4: -864.0, 5: -752.0, 6: -656.0, 7: -608.0, 8: -688.0, 9: -528.0, 10: -672.0, 11: -752.0, 12: -784.0, 13: -672.0, 14: -752.0, 15: -592.0, 16: -800.0, 17: -880.0, 18: -720.0, 19: -672.0, 20: -624.0, 21: -656.0, 22: -544.0, 23: -688.0, 24: -720.0, 25: -800.0, 26: -688.0, 27: -720.0, 28: -608.0, 29: -816.0, 30: -848.0, 31: -736.0, 32: -688.0, 33: -592.0, 34: -672.0, 35: -560.0, 36: -656.0, 37: -736.0, 38: -816.0, 39: -656.0, 40: -736.0, 41: -624.0, 42: -784.0, 43: -864.0, 44: -752.0, 45: -656.0, 46: -608.0, 47: -688.0, 48: -528.0, 49: -672.0, 50: -752.0, 51: -784.0, 52: -672.0, 53: -752.0, 54: -592.0, 55: -800.0, 56: -880.0, 57: -720.0, 58: -672.0, 59: -624.0, 60: -656.0, 61: -544.0, 62: -688.0, 63: -720.0, 64: -800.0, 65: -688.0, 66: -720.0, 67: -608.0, 68: -816.0, 69: -848.0, 70: -736.0, 71: -688.0, 72: -592.0, 73: -672.0, 74: -560.0, 75: -656.0, 76: -736.0, 77: -816.0, 78: -656.0, 79: -736.0, 80: -624.0, 81: -784.0, 82: -864.0, 83: -752.0, 84: -656.0, 85: -608.0, 86: -688.0, 87: -528.0, 88: -672.0, 89: -752.0}\nlinear array:\t\t\t [-656. -736. -624. -784. -864. -752. -656. -608. -688. -528. -672. -752.\n -784. -672. -752. -592. -800. -880. -720. -672. -624. -656. -544. -688.\n -720. -800. -688. -720. -608. -816. -848. -736. -688. -592. -672. -560.\n -656. -736. -816. -656. -736. -624. -784. -864. -752. -656. -608. -688.\n -528. -672. -752. -784. -672. -752. -592. -800. -880. -720. -672. -624.\n -656. -544. -688. -720. -800. -688. -720. -608. -816. -848. -736. -688.\n -592. -672. -560. -656. -736. -816. -656. -736. -624. -784. -864. -752.\n -656. -608. -688. -528. -672. -752.    0.    0.    0.    0.    0.    0.\n    0.    0.    0.    0.    0.    0.    0.    0.    0.    0.    0.    0.\n    0.    0.    0.    0.    0.    0.    0.    0.    0.    0.    0.    0.\n    0.    0.    0.    0.    0.    0.    0.    0.    0.    0.    0.    0.\n    0.    0.    0.    0.    0.    0.    0.    0.    0.    0.    0.    0.\n    0.    0.    0.    0.    0.    0.    0.    0.    0.    0.    0.    0.\n    0.    0.    0.    0.    0.    0.    0.    0.    0.    0.    0.    0.\n    0.    0.    0.    0.    0.    0.    0.    0.    0.    0.    0.    0.]\nlinear array as sparse matrix:\n   (0, 0)\t-656.0\n  (0, 1)\t-736.0\n  (0, 2)\t-624.0\n  (0, 3)\t-784.0\n  (0, 4)\t-864.0\n  (0, 5)\t-752.0\n  (0, 6)\t-656.0\n  (0, 7)\t-608.0\n  (0, 8)\t-688.0\n  (0, 9)\t-528.0\n  (0, 10)\t-672.0\n  (0, 11)\t-752.0\n  (0, 12)\t-784.0\n  (0, 13)\t-672.0\n  (0, 14)\t-752.0\n  (0, 15)\t-592.0\n  (0, 16)\t-800.0\n  (0, 17)\t-880.0\n  (0, 18)\t-720.0\n  (0, 19)\t-672.0\n  (0, 20)\t-624.0\n  (0, 21)\t-656.0\n  (0, 22)\t-544.0\n  (0, 23)\t-688.0\n  (0, 24)\t-720.0\n  :\t:\n  (0, 65)\t-688.0\n  (0, 66)\t-720.0\n  (0, 67)\t-608.0\n  (0, 68)\t-816.0\n  (0, 69)\t-848.0\n  (0, 70)\t-736.0\n  (0, 71)\t-688.0\n  (0, 72)\t-592.0\n  (0, 73)\t-672.0\n  (0, 74)\t-560.0\n  (0, 75)\t-656.0\n  (0, 76)\t-736.0\n  (0, 77)\t-816.0\n  (0, 78)\t-656.0\n  (0, 79)\t-736.0\n  (0, 80)\t-624.0\n  (0, 81)\t-784.0\n  (0, 82)\t-864.0\n  (0, 83)\t-752.0\n  (0, 84)\t-656.0\n  (0, 85)\t-608.0\n  (0, 86)\t-688.0\n  (0, 87)\t-528.0\n  (0, 88)\t-672.0\n  (0, 89)\t-752.0 \n\nquadratic dict w/ index:\t {}\nquadratic dict w/ name:\t\t {}\nsymmetric quadratic dict w/ name:\t {}\nquadratic matrix:\n [[0. 0. 0. ... 0. 0. 0.]\n [0. 0. 0. ... 0. 0. 0.]\n [0. 0. 0. ... 0. 0. 0.]\n ...\n [0. 0. 0. ... 0. 0. 0.]\n [0. 0. 0. ... 0. 0. 0.]\n [0. 0. 0. ... 0. 0. 0.]] \n\nsymmetric quadratic matrix:\n [[0. 0. 0. ... 0. 0. 0.]\n [0. 0. 0. ... 0. 0. 0.]\n [0. 0. 0. ... 0. 0. 0.]\n ...\n [0. 0. 0. ... 0. 0. 0.]\n [0. 0. 0. ... 0. 0. 0.]\n [0. 0. 0. ... 0. 0. 0.]] \n\nquadratic matrix as sparse matrix:\n \n"
          ]
        }
      ]
    },
    {
      "cell_type": "code",
      "metadata": {
        "id": "GnVKgsllsFAO"
      },
      "source": [
        "from qiskit.optimization.converters import QuadraticProgramToQubo\n",
        "conv = QuadraticProgramToQubo()\n",
        "mod_Qubo = conv.convert(mod)"
      ],
      "execution_count": 80,
      "outputs": []
    },
    {
      "cell_type": "code",
      "metadata": {
        "id": "wBlT79HlaF9b"
      },
      "source": [
        "print('constant:\\t\\t\\t', mod_Qubo.objective.constant)\n",
        "print('linear array as sparse matrix:\\n', mod_Qubo.objective.linear.coefficients, '\\n')\n",
        "print('quadratic matrix as sparse matrix:\\n', mod_Qubo.objective.quadratic.coefficients)"
      ],
      "execution_count": 81,
      "outputs": [
        {
          "output_type": "stream",
          "name": "stdout",
          "text": [
            "constant:\t\t\t 3.0761439680000016e+30\n",
            "linear array as sparse matrix:\n",
            "   (0, 0)\t-1.5255680000000002e+27\n",
            "  (0, 1)\t-3.0511360000000004e+27\n",
            "  (0, 2)\t-6.102272000000001e+27\n",
            "  (0, 3)\t-1.2204544000000001e+28\n",
            "  (0, 4)\t-2.4409088000000003e+28\n",
            "  (0, 5)\t-4.881817600000001e+28\n",
            "  (0, 6)\t-9.763635200000001e+28\n",
            "  (0, 7)\t-1.9527270400000002e+29\n",
            "  (0, 8)\t-3.9054540800000005e+29\n",
            "  (0, 9)\t-7.810908160000001e+29\n",
            "  (0, 10)\t-1.5621816320000002e+30\n",
            "  (0, 11)\t-3.1243632640000004e+30\n",
            "  (0, 12)\t-6.248726528000001e+30\n",
            "  (0, 13)\t-1.2497453056000001e+31\n",
            "  (0, 14)\t-2.4994906112000003e+31\n",
            "  (0, 15)\t-4.998981222400001e+31\n",
            "  (0, 16)\t-9.997962444800001e+31\n",
            "  (0, 17)\t-1.9995924889600002e+32\n",
            "  (0, 18)\t-3.9991849779200005e+32\n",
            "  (0, 19)\t-7.998369955840001e+32\n",
            "  (0, 20)\t-1.5996739911680002e+33\n",
            "  (0, 21)\t-3.1993479823360004e+33\n",
            "  (0, 22)\t-6.398695964672001e+33\n",
            "  (0, 23)\t-1.2797391929344002e+34\n",
            "  (0, 24)\t-2.5594783858688003e+34\n",
            "  :\t:\n",
            "  (0, 13356)\t-3.8328320000000005e+27\n",
            "  (0, 13357)\t-7.665664000000001e+27\n",
            "  (0, 13358)\t-1.5331328000000002e+28\n",
            "  (0, 13359)\t-3.0662656000000004e+28\n",
            "  (0, 13360)\t-1.2456704e+28\n",
            "  (0, 13361)\t-1.13472e+26\n",
            "  (0, 13362)\t-2.26944e+26\n",
            "  (0, 13363)\t-4.53888e+26\n",
            "  (0, 13364)\t-2.26944e+26\n",
            "  (0, 13365)\t-9.07776e+26\n",
            "  (0, 13366)\t-1.815552e+27\n",
            "  (0, 13367)\t-3.631104e+27\n",
            "  (0, 13368)\t-7.262208e+27\n",
            "  (0, 13369)\t-1.4524416e+28\n",
            "  (0, 13370)\t-2.9048832e+28\n",
            "  (0, 13371)\t-8.169984000000001e+27\n",
            "  (0, 13372)\t-5.169280000000001e+26\n",
            "  (0, 13373)\t-1.0338560000000001e+27\n",
            "  (0, 13374)\t-2.0677120000000003e+27\n",
            "  (0, 13375)\t-4.1354240000000006e+27\n",
            "  (0, 13376)\t-8.270848000000001e+27\n",
            "  (0, 13377)\t-5.169280000000001e+27\n",
            "  (0, 13378)\t-5.0432e+25\n",
            "  (0, 13379)\t-1.00864e+26\n",
            "  (0, 13380)\t-5.0432e+25 \n",
            "\n",
            "quadratic matrix as sparse matrix:\n",
            "   (0, 0)\t2.5216e+25\n",
            "  (0, 1)\t1.00864e+26\n",
            "  (1, 1)\t1.00864e+26\n",
            "  (0, 2)\t2.01728e+26\n",
            "  (1, 2)\t4.03456e+26\n",
            "  (2, 2)\t4.03456e+26\n",
            "  (0, 3)\t4.03456e+26\n",
            "  (1, 3)\t8.06912e+26\n",
            "  (2, 3)\t1.613824e+27\n",
            "  (3, 3)\t1.613824e+27\n",
            "  (0, 4)\t8.06912e+26\n",
            "  (1, 4)\t1.613824e+27\n",
            "  (2, 4)\t3.227648e+27\n",
            "  (3, 4)\t6.455296e+27\n",
            "  (4, 4)\t6.455296e+27\n",
            "  (0, 5)\t1.613824e+27\n",
            "  (1, 5)\t3.227648e+27\n",
            "  (2, 5)\t6.455296e+27\n",
            "  (3, 5)\t1.2910592e+28\n",
            "  (4, 5)\t2.5821184e+28\n",
            "  (5, 5)\t2.5821184e+28\n",
            "  (0, 6)\t3.227648e+27\n",
            "  (1, 6)\t6.455296e+27\n",
            "  (2, 6)\t1.2910592e+28\n",
            "  (3, 6)\t2.5821184e+28\n",
            "  :\t:\n",
            "  (5807, 13380)\t4.436045632959939e+38\n",
            "  (5808, 13380)\t8.872091265919878e+38\n",
            "  (5809, 13380)\t1.7744182531839756e+39\n",
            "  (5810, 13380)\t3.548836506367951e+39\n",
            "  (5811, 13380)\t7.097673012735902e+39\n",
            "  (5812, 13380)\t1.4195346025471804e+40\n",
            "  (5813, 13380)\t2.839069205094361e+40\n",
            "  (5814, 13380)\t5.678138410188722e+40\n",
            "  (5815, 13380)\t1.1356276820377444e+41\n",
            "  (5816, 13380)\t2.2712553640754887e+41\n",
            "  (5817, 13380)\t4.5425107281509774e+41\n",
            "  (5818, 13380)\t9.085021456301955e+41\n",
            "  (5819, 13380)\t1.817004291260391e+42\n",
            "  (5820, 13380)\t3.634008582520782e+42\n",
            "  (5821, 13380)\t7.268017165041564e+42\n",
            "  (5822, 13380)\t1.4536034330083128e+43\n",
            "  (5823, 13380)\t2.9072068660166256e+43\n",
            "  (5824, 13380)\t5.814413732033251e+43\n",
            "  (5825, 13380)\t1.1628827464066502e+44\n",
            "  (5826, 13380)\t2.3257654928133004e+44\n",
            "  (5827, 13380)\t4.651530985626601e+44\n",
            "  (5828, 13380)\t3.304938028746799e+44\n",
            "  (13378, 13380)\t1.2608e+25\n",
            "  (13379, 13380)\t2.5216e+25\n",
            "  (13380, 13380)\t6.304e+24\n"
          ]
        }
      ]
    },
    {
      "cell_type": "code",
      "metadata": {
        "id": "bf_5xmKTNjOL"
      },
      "source": [
        "from qiskit.optimization.converters import InequalityToEquality\n",
        "from qiskit.optimization.converters import IntegerToBinary\n",
        "from qiskit.optimization.converters import LinearEqualityToPenalty\n",
        "\n",
        "ineq2eq = InequalityToEquality()\n",
        "qp_eq = ineq2eq.convert(mod)\n",
        "#print(qp_eq.export_as_lp_string())\n",
        "\n",
        "int2bin = IntegerToBinary()\n",
        "qp_eq_bin = int2bin.convert(qp_eq)\n",
        "#print(qp_eq_bin.export_as_lp_string())\n",
        "\n",
        "lineq2penalty = LinearEqualityToPenalty()\n",
        "mod_Qubo2 = lineq2penalty.convert(qp_eq_bin)\n",
        "#print(qubo.export_as_lp_string())\n",
        "\n",
        "len(mod_Qubo2._variables_index)"
      ],
      "execution_count": 82,
      "outputs": [
        {
          "output_type": "execute_result",
          "data": {
            "text/plain": [
              "13381"
            ]
          },
          "metadata": {},
          "execution_count": 82
        }
      ]
    },
    {
      "cell_type": "code",
      "execution_count": 83,
      "metadata": {},
      "outputs": [
        {
          "output_type": "stream",
          "name": "stdout",
          "text": [
            "\\ This file has been generated by DOcplex\n\\ ENCODING=ISO-8859-1\n\\Problem name: CPLEX\n\nMinimize\n obj: x - 2 y + 3 z + [ 2 x*y - 2 x*z + 4 y*z ]/2\nSubject To\n\nBounds\n 0 <= x <= 1\n 0 <= y <= 1\n 0 <= z <= 1\n\nBinaries\n x y z\nEnd\n\n"
          ]
        }
      ],
      "source": [
        "qubo = QuadraticProgram()\n",
        "qubo.binary_var('x')\n",
        "qubo.binary_var('y')\n",
        "qubo.binary_var('z')\n",
        "qubo.minimize(linear=[1,-2,3], quadratic={('x', 'y'): 1, ('x', 'z'): -1, ('y', 'z'): 2})\n",
        "print(qubo.export_as_lp_string())"
      ]
    },
    {
      "cell_type": "code",
      "metadata": {
        "id": "ZWzO5oxgNyyq"
      },
      "source": [
        "import dimod\n",
        "import hybrid\n",
        "\n",
        "import neal #sampler = neal.SimulatedAnnealingSampler()\n",
        "\n",
        "from dwave.system import LeapHybridSampler\n",
        "from dwave.system import DWaveSampler, EmbeddingComposite\n",
        "\n",
        "\n",
        "# Extract qubo data\n",
        "\n",
        "qubo=mod_Qubo2 \n",
        "\n",
        "Q = qubo.objective.quadratic.to_dict(use_name=True)\n",
        "g = qubo.objective.linear.to_dict(use_name=True)\n",
        "c = qubo.objective.constant\n",
        "\n",
        "# Build BQM\n",
        "bqm = dimod.BQM(g, Q, c, dimod.BINARY)\n",
        "\n",
        "# Solve\n",
        "sampler = LeapHybridSampler()\n",
        "bqm.result = sampler.sample(bqm)\n",
        "\n",
        "# Extract solution\n",
        "result_dict = bqm.result.first.sample\n",
        "\n",
        "print(bqm.result)"
      ],
      "execution_count": 84,
      "outputs": [
        {
          "output_type": "stream",
          "name": "stdout",
          "text": [
            "  x0@0 x0@1 x0@2 x0@3 x0@4 x0@5 ... _L_EXPR_180@int_slack@66 energy num_oc.\n0    0    0    1    0    0    0 ...                        1    nan       1\n['BINARY', 1 rows, 1 samples, 13381 variables]\n"
          ]
        }
      ]
    },
    {
      "cell_type": "code",
      "execution_count": null,
      "metadata": {},
      "outputs": [],
      "source": []
    }
  ]
}