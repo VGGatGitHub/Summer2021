{
  "nbformat": 4,
  "nbformat_minor": 0,
  "metadata": {
    "colab": {
      "name": "solver_experiments.ipynb",
      "provenance": [],
      "include_colab_link": true
    },
    "kernelspec": {
<<<<<<< HEAD
      "display_name": "Python 3.7.11 64-bit",
      "language": "python",
      "name": "python371164bit76bbccc19da045e3a37546f9732c772e"
=======
      "display_name": "Python 3",
      "language": "python",
      "name": "python3"
>>>>>>> d606e2aeb59da93608c56f6a8c7a6bc533ce68cf
    },
    "language_info": {
      "codemirror_mode": {
        "name": "ipython",
        "version": 3
      },
      "file_extension": ".py",
      "mimetype": "text/x-python",
      "name": "python",
      "nbconvert_exporter": "python",
      "pygments_lexer": "ipython3",
<<<<<<< HEAD
      "version": "3.7.11-final"
=======
      "version": "3.7.6"
>>>>>>> d606e2aeb59da93608c56f6a8c7a6bc533ce68cf
    }
  },
  "cells": [
    {
      "cell_type": "markdown",
      "metadata": {
<<<<<<< HEAD
=======
        "id": "view-in-github",
        "colab_type": "text"
      },
      "source": [
        "<a href=\"https://colab.research.google.com/github/VGGatGitHub/Summer2021/blob/main/D-Wave_experiments.ipynb\" target=\"_parent\"><img src=\"https://colab.research.google.com/assets/colab-badge.svg\" alt=\"Open In Colab\"/></a>"
      ]
    },
    {
      "cell_type": "markdown",
      "metadata": {
>>>>>>> d606e2aeb59da93608c56f6a8c7a6bc533ce68cf
        "id": "rm4Kd0IfYVuK"
      },
      "source": [
        "Notebook experimenting how to use DOcplex and IBM Quantum."
      ]
    },
    {
      "cell_type": "markdown",
      "metadata": {
        "id": "TWpZnxqoxtCH"
      },
      "source": [
        "# 0. Install libraries & clone repo"
      ]
    },
    {
      "cell_type": "code",
      "metadata": {
        "id": "iRRxprB83d-Q"
      },
      "source": [
        "#https://www.youtube.com/watch?v=bErs0dxC1aY&list=PLPvKnT7dgEsuhec_yW9oxcZ6gg9SfRFFV\n",
        "#https://docs.ocean.dwavesys.com/en/latest/overview/install.html#installoceansoftware\n",
        "\n",
        "#!pip install dwave-ocean-sdk\n",
        "!pip show dwave-ocean-sdk"
      ],
      "execution_count": null,
      "outputs": []
    },
    {
      "cell_type": "code",
      "metadata": {
        "id": "iQMyBCvk3jlh"
      },
      "source": [
        "#!dwave setup #API endpoint URL: https://cloud.dwavesys.com/sapi/"
      ],
      "execution_count": 2,
      "outputs": []
    },
    {
      "cell_type": "code",
      "metadata": {
        "id": "jjhGsa9LxtCJ"
      },
      "source": [
        "import sys\n",
        "\n",
        "if hasattr(sys, 'real_prefix'):\n",
        "    #we are in a virtual env.\n",
        "    !pip install cplex && pip install docplex\n",
        "else:\n",
        "    !pip install --user cplex && pip install --user docplex\n",
        "\n",
        "print()\n",
        "!pip show cplex\n",
        "print()\n",
        "!pip show docplex\n",
        "\n",
        "#it my be useful to retstart you runtime"
      ],
<<<<<<< HEAD
      "execution_count": 1,
      "outputs": [
        {
          "output_type": "stream",
          "name": "stdout",
          "text": [
            "Collecting cplex\n",
            "  Downloading cplex-20.1.0.1-cp37-cp37m-manylinux1_x86_64.whl (30.9 MB)\n",
            "\u001b[K     |████████████████████████████████| 30.9 MB 5.1 MB/s \n",
            "\u001b[?25hInstalling collected packages: cplex\n",
            "Successfully installed cplex-20.1.0.1\n",
            "\u001b[33mWARNING: You are using pip version 21.2.3; however, version 21.2.4 is available.\n",
            "You should consider upgrading via the '/usr/local/bin/python -m pip install --upgrade pip' command.\u001b[0m\n",
            "Collecting docplex\n",
            "  Downloading docplex-2.21.207.tar.gz (635 kB)\n",
            "\u001b[K     |████████████████████████████████| 635 kB 8.6 MB/s \n",
            "\u001b[?25hRequirement already satisfied: requests in /usr/local/lib/python3.7/site-packages (from docplex) (2.26.0)\n",
            "Requirement already satisfied: six in /usr/local/lib/python3.7/site-packages (from docplex) (1.16.0)\n",
            "Requirement already satisfied: charset-normalizer~=2.0.0 in /usr/local/lib/python3.7/site-packages (from requests->docplex) (2.0.4)\n",
            "Requirement already satisfied: urllib3<1.27,>=1.21.1 in /usr/local/lib/python3.7/site-packages (from requests->docplex) (1.26.6)\n",
            "Requirement already satisfied: certifi>=2017.4.17 in /usr/local/lib/python3.7/site-packages (from requests->docplex) (2021.5.30)\n",
            "Requirement already satisfied: idna<4,>=2.5 in /usr/local/lib/python3.7/site-packages (from requests->docplex) (3.2)\n",
            "Building wheels for collected packages: docplex\n",
            "  Building wheel for docplex (setup.py) ... \u001b[?25ldone\n",
            "\u001b[?25h  Created wheel for docplex: filename=docplex-2.21.207-py3-none-any.whl size=700544 sha256=735a3d93d5a492d20f62abffde484dcea02cc582292db172e82597ae2b1c5a3d\n",
            "  Stored in directory: /home/gitpod/.cache/pip/wheels/d8/4e/62/e43a45757e70549e6aa4712ccfcf67440a203c278ecb68de49\n",
            "Successfully built docplex\n",
            "Installing collected packages: docplex\n",
            "Successfully installed docplex-2.21.207\n",
            "\u001b[33mWARNING: You are using pip version 21.2.3; however, version 21.2.4 is available.\n",
            "You should consider upgrading via the '/usr/local/bin/python -m pip install --upgrade pip' command.\u001b[0m\n",
            "\n",
            "Name: cplex\n",
            "Version: 20.1.0.1\n",
            "Summary: A Python interface to the CPLEX Callable Library, Community Edition.\n",
            "Home-page: https://www.ibm.com/analytics/data-science/prescriptive-analytics/cplex-optimizer/\n",
            "Author: IBM\n",
            "Author-email: UNKNOWN\n",
            "License: Proprietary\n",
            "Location: /workspace/.pip-modules/lib/python3.7/site-packages\n",
            "Requires: \n",
            "Required-by: \n",
            "\n",
            "Name: docplex\n",
            "Version: 2.21.207\n",
            "Summary: The IBM Decision Optimization CPLEX Modeling for Python\n",
            "Home-page: https://onboarding-oaas.docloud.ibmcloud.com/software/analytics/docloud/\n",
            "Author: The IBM Decision Optimization on Cloud team\n",
            "Author-email: dofeedback@wwpdl.vnet.ibm.com\n",
            "License: Apache 2.0\n",
            "Location: /workspace/.pip-modules/lib/python3.7/site-packages\n",
            "Requires: six, requests\n",
            "Required-by: \n"
          ]
        }
      ]
=======
      "execution_count": null,
      "outputs": []
>>>>>>> d606e2aeb59da93608c56f6a8c7a6bc533ce68cf
    },
    {
      "cell_type": "code",
      "metadata": {
        "id": "zeBTiUzOwgR_"
      },
      "source": [
        "!pip install qiskit\n",
        "!pip show qiskit\n",
        "\n",
        "# !pip install qiskit-optimization\n",
        "#!pip show qiskit-optimization\n",
        "\n",
        "#it my be useful to retstart you runtime"
      ],
<<<<<<< HEAD
      "execution_count": 3,
      "outputs": [
        {
          "output_type": "stream",
          "name": "stdout",
          "text": [
            "Collecting qiskit\n",
            "  Downloading qiskit-0.29.0.tar.gz (12 kB)\n",
            "Collecting qiskit-terra==0.18.1\n",
            "  Downloading qiskit_terra-0.18.1-cp37-cp37m-manylinux2010_x86_64.whl (6.1 MB)\n",
            "\u001b[K     |████████████████████████████████| 6.1 MB 6.8 MB/s \n",
            "\u001b[?25hCollecting qiskit-aer==0.8.2\n",
            "  Downloading qiskit_aer-0.8.2-cp37-cp37m-manylinux2010_x86_64.whl (18.0 MB)\n",
            "\u001b[K     |████████████████████████████████| 18.0 MB 19.0 MB/s \n",
            "\u001b[?25hCollecting qiskit-ibmq-provider==0.16.0\n",
            "  Downloading qiskit_ibmq_provider-0.16.0-py3-none-any.whl (235 kB)\n",
            "\u001b[K     |████████████████████████████████| 235 kB 36.8 MB/s \n",
            "\u001b[?25hCollecting qiskit-ignis==0.6.0\n",
            "  Downloading qiskit_ignis-0.6.0-py3-none-any.whl (207 kB)\n",
            "\u001b[K     |████████████████████████████████| 207 kB 34.1 MB/s \n",
            "\u001b[?25hCollecting qiskit-aqua==0.9.4\n",
            "  Downloading qiskit_aqua-0.9.4-py3-none-any.whl (2.1 MB)\n",
            "\u001b[K     |████████████████████████████████| 2.1 MB 18.2 MB/s \n",
            "\u001b[?25hCollecting pybind11>=2.6\n",
            "  Downloading pybind11-2.7.1-py2.py3-none-any.whl (200 kB)\n",
            "\u001b[K     |████████████████████████████████| 200 kB 45.7 MB/s \n",
            "\u001b[?25hRequirement already satisfied: scipy>=1.0 in /usr/local/lib/python3.7/site-packages (from qiskit-aer==0.8.2->qiskit) (1.7.1)\n",
            "Requirement already satisfied: numpy>=1.16.3 in /usr/local/lib/python3.7/site-packages (from qiskit-aer==0.8.2->qiskit) (1.21.1)\n",
            "Collecting h5py<3.3.0\n",
            "  Downloading h5py-3.2.1-cp37-cp37m-manylinux1_x86_64.whl (4.1 MB)\n",
            "\u001b[K     |████████████████████████████████| 4.1 MB 60.7 MB/s \n",
            "\u001b[?25hRequirement already satisfied: scikit-learn>=0.20.0 in /usr/local/lib/python3.7/site-packages (from qiskit-aqua==0.9.4->qiskit) (0.24.2)\n",
            "Requirement already satisfied: pandas in /usr/local/lib/python3.7/site-packages (from qiskit-aqua==0.9.4->qiskit) (1.3.1)\n",
            "Collecting yfinance<0.1.63\n",
            "  Downloading yfinance-0.1.62.tar.gz (26 kB)\n",
            "Collecting sympy>=1.3\n",
            "  Downloading sympy-1.8-py3-none-any.whl (6.1 MB)\n",
            "\u001b[K     |████████████████████████████████| 6.1 MB 26.3 MB/s \n",
            "\u001b[?25hCollecting fastdtw<=0.3.4\n",
            "  Downloading fastdtw-0.3.4.tar.gz (133 kB)\n",
            "\u001b[K     |████████████████████████████████| 133 kB 44.0 MB/s \n",
            "\u001b[?25hRequirement already satisfied: docplex>=2.21.207 in /workspace/.pip-modules/lib/python3.7/site-packages (from qiskit-aqua==0.9.4->qiskit) (2.21.207)\n",
            "Collecting dlx<=1.0.4\n",
            "  Downloading dlx-1.0.4.tar.gz (5.5 kB)\n",
            "Collecting psutil>=5\n",
            "  Downloading psutil-5.8.0-cp37-cp37m-manylinux2010_x86_64.whl (296 kB)\n",
            "\u001b[K     |████████████████████████████████| 296 kB 30.7 MB/s \n",
            "\u001b[?25hRequirement already satisfied: setuptools>=40.1.0 in /usr/local/lib/python3.7/site-packages (from qiskit-aqua==0.9.4->qiskit) (57.4.0)\n",
            "Collecting retworkx>=0.8.0\n",
            "  Downloading retworkx-0.9.0-cp37-cp37m-manylinux_2_5_x86_64.manylinux1_x86_64.manylinux_2_12_x86_64.manylinux2010_x86_64.whl (1.4 MB)\n",
            "\u001b[K     |████████████████████████████████| 1.4 MB 50.6 MB/s \n",
            "\u001b[?25hCollecting quandl\n",
            "  Downloading Quandl-3.6.1-py2.py3-none-any.whl (26 kB)\n",
            "Collecting requests-ntlm>=1.1.0\n",
            "  Downloading requests_ntlm-1.1.0-py2.py3-none-any.whl (5.7 kB)\n",
            "Requirement already satisfied: urllib3>=1.21.1 in /usr/local/lib/python3.7/site-packages (from qiskit-ibmq-provider==0.16.0->qiskit) (1.26.6)\n",
            "Requirement already satisfied: websocket-client>=1.0.1 in /usr/local/lib/python3.7/site-packages (from qiskit-ibmq-provider==0.16.0->qiskit) (1.2.0)\n",
            "Requirement already satisfied: python-dateutil>=2.8.0 in /usr/local/lib/python3.7/site-packages (from qiskit-ibmq-provider==0.16.0->qiskit) (2.8.2)\n",
            "Requirement already satisfied: requests>=2.19 in /usr/local/lib/python3.7/site-packages (from qiskit-ibmq-provider==0.16.0->qiskit) (2.26.0)\n",
            "Collecting ply>=3.10\n",
            "  Downloading ply-3.11-py2.py3-none-any.whl (49 kB)\n",
            "\u001b[K     |████████████████████████████████| 49 kB 7.4 MB/s \n",
            "\u001b[?25hCollecting dill>=0.3\n",
            "  Downloading dill-0.3.4-py2.py3-none-any.whl (86 kB)\n",
            "\u001b[K     |████████████████████████████████| 86 kB 6.2 MB/s \n",
            "\u001b[?25hCollecting symengine>0.7\n",
            "  Downloading symengine-0.7.2-cp37-cp37m-manylinux2010_x86_64.whl (33.9 MB)\n",
            "\u001b[K     |████████████████████████████████| 33.9 MB 31.5 MB/s \n",
            "\u001b[?25hRequirement already satisfied: jsonschema>=2.6 in /usr/local/lib/python3.7/site-packages (from qiskit-terra==0.18.1->qiskit) (3.2.0)\n",
            "Collecting fastjsonschema>=2.10\n",
            "  Downloading fastjsonschema-2.15.1-py3-none-any.whl (21 kB)\n",
            "Collecting python-constraint>=1.4\n",
            "  Downloading python-constraint-1.4.0.tar.bz2 (18 kB)\n",
            "Collecting tweedledum<2.0,>=1.1\n",
            "  Downloading tweedledum-1.1.0-cp37-cp37m-manylinux_2_12_x86_64.manylinux2010_x86_64.whl (943 kB)\n",
            "\u001b[K     |████████████████████████████████| 943 kB 26.1 MB/s \n",
            "\u001b[?25hRequirement already satisfied: six in /usr/local/lib/python3.7/site-packages (from docplex>=2.21.207->qiskit-aqua==0.9.4->qiskit) (1.16.0)\n",
            "Collecting cached-property\n",
            "  Downloading cached_property-1.5.2-py2.py3-none-any.whl (7.6 kB)\n",
            "Requirement already satisfied: importlib-metadata in /usr/local/lib/python3.7/site-packages (from jsonschema>=2.6->qiskit-terra==0.18.1->qiskit) (4.6.3)\n",
            "Requirement already satisfied: pyrsistent>=0.14.0 in /usr/local/lib/python3.7/site-packages (from jsonschema>=2.6->qiskit-terra==0.18.1->qiskit) (0.18.0)\n",
            "Requirement already satisfied: attrs>=17.4.0 in /usr/local/lib/python3.7/site-packages (from jsonschema>=2.6->qiskit-terra==0.18.1->qiskit) (21.2.0)\n",
            "Requirement already satisfied: certifi>=2017.4.17 in /usr/local/lib/python3.7/site-packages (from requests>=2.19->qiskit-ibmq-provider==0.16.0->qiskit) (2021.5.30)\n",
            "Requirement already satisfied: charset-normalizer~=2.0.0 in /usr/local/lib/python3.7/site-packages (from requests>=2.19->qiskit-ibmq-provider==0.16.0->qiskit) (2.0.4)\n",
            "Requirement already satisfied: idna<4,>=2.5 in /usr/local/lib/python3.7/site-packages (from requests>=2.19->qiskit-ibmq-provider==0.16.0->qiskit) (3.2)\n",
            "Collecting cryptography>=1.3\n",
            "  Downloading cryptography-3.4.7-cp36-abi3-manylinux2014_x86_64.whl (3.2 MB)\n",
            "\u001b[K     |████████████████████████████████| 3.2 MB 27.6 MB/s \n",
            "\u001b[?25hCollecting ntlm-auth>=1.0.2\n",
            "  Downloading ntlm_auth-1.5.0-py2.py3-none-any.whl (29 kB)\n",
            "Requirement already satisfied: cffi>=1.12 in /workspace/.pip-modules/lib/python3.7/site-packages (from cryptography>=1.3->requests-ntlm>=1.1.0->qiskit-ibmq-provider==0.16.0->qiskit) (1.14.6)\n",
            "Requirement already satisfied: pycparser in /workspace/.pip-modules/lib/python3.7/site-packages (from cffi>=1.12->cryptography>=1.3->requests-ntlm>=1.1.0->qiskit-ibmq-provider==0.16.0->qiskit) (2.20)\n",
            "Requirement already satisfied: threadpoolctl>=2.0.0 in /usr/local/lib/python3.7/site-packages (from scikit-learn>=0.20.0->qiskit-aqua==0.9.4->qiskit) (2.2.0)\n",
            "Requirement already satisfied: joblib>=0.11 in /usr/local/lib/python3.7/site-packages (from scikit-learn>=0.20.0->qiskit-aqua==0.9.4->qiskit) (1.0.1)\n",
            "Collecting mpmath>=0.19\n",
            "  Downloading mpmath-1.2.1-py3-none-any.whl (532 kB)\n",
            "\u001b[K     |████████████████████████████████| 532 kB 57.8 MB/s \n",
            "\u001b[?25hCollecting multitasking>=0.0.7\n",
            "  Downloading multitasking-0.0.9.tar.gz (8.1 kB)\n",
            "Collecting lxml>=4.5.1\n",
            "  Downloading lxml-4.6.3-cp37-cp37m-manylinux2014_x86_64.whl (6.3 MB)\n",
            "\u001b[K     |████████████████████████████████| 6.3 MB 34.6 MB/s \n",
            "\u001b[?25hRequirement already satisfied: pytz>=2017.3 in /usr/local/lib/python3.7/site-packages (from pandas->qiskit-aqua==0.9.4->qiskit) (2021.1)\n",
            "Requirement already satisfied: typing-extensions>=3.6.4 in /usr/local/lib/python3.7/site-packages (from importlib-metadata->jsonschema>=2.6->qiskit-terra==0.18.1->qiskit) (3.10.0.0)\n",
            "Requirement already satisfied: zipp>=0.5 in /usr/local/lib/python3.7/site-packages (from importlib-metadata->jsonschema>=2.6->qiskit-terra==0.18.1->qiskit) (3.5.0)\n",
            "Collecting inflection>=0.3.1\n",
            "  Downloading inflection-0.5.1-py2.py3-none-any.whl (9.5 kB)\n",
            "Collecting more-itertools\n",
            "  Downloading more_itertools-8.8.0-py3-none-any.whl (48 kB)\n",
            "\u001b[K     |████████████████████████████████| 48 kB 5.9 MB/s \n",
            "\u001b[?25hBuilding wheels for collected packages: qiskit, dlx, fastdtw, python-constraint, yfinance, multitasking\n",
            "  Building wheel for qiskit (setup.py) ... \u001b[?25ldone\n",
            "\u001b[?25h  Created wheel for qiskit: filename=qiskit-0.29.0-py3-none-any.whl size=11179 sha256=be10ba9aa67d00158b09dca86e00ed002f0f5ee591f8e7c8a6b0a42fa407d2bd\n",
            "  Stored in directory: /home/gitpod/.cache/pip/wheels/4b/d3/1f/f1bc9f8c3b170b19b9471e55fda4819e53476c21e5618ee86c\n",
            "  Building wheel for dlx (setup.py) ... \u001b[?25ldone\n",
            "\u001b[?25h  Created wheel for dlx: filename=dlx-1.0.4-py3-none-any.whl size=5719 sha256=452bb10991248bc2aabfae738178fce2809491849fe11f7f28b532876c649286\n",
            "  Stored in directory: /home/gitpod/.cache/pip/wheels/78/55/c8/dc61e772445a566b7608a476d151e9dcaf4e092b01b0c4bc3c\n",
            "  Building wheel for fastdtw (setup.py) ... \u001b[?25ldone\n",
            "\u001b[?25h  Created wheel for fastdtw: filename=fastdtw-0.3.4-cp37-cp37m-linux_x86_64.whl size=110377 sha256=53e9859f09c6f2983272e0038e88e8f7db8499bf58aae0bb53ff8d11865601e7\n",
            "  Stored in directory: /home/gitpod/.cache/pip/wheels/a2/da/8c/2d1b9b233595056f05e59156bb555f7277b88beb385605de16\n",
            "  Building wheel for python-constraint (setup.py) ... \u001b[?25ldone\n",
            "\u001b[?25h  Created wheel for python-constraint: filename=python_constraint-1.4.0-py2.py3-none-any.whl size=24081 sha256=0d80ffa35124890b369f1e64f21d6ae74b2f079103c0fa1c064960c2a2cc03b1\n",
            "  Stored in directory: /home/gitpod/.cache/pip/wheels/07/27/db/1222c80eb1e431f3d2199c12569cb1cac60f562a451fe30479\n",
            "  Building wheel for yfinance (setup.py) ... \u001b[?25ldone\n",
            "\u001b[?25h  Created wheel for yfinance: filename=yfinance-0.1.62-py2.py3-none-any.whl size=23867 sha256=b13a4fbddcece0edbb552517f093f282afb494849b9877153d66cc0b4da236f0\n",
            "  Stored in directory: /home/gitpod/.cache/pip/wheels/4c/3a/2e/53936bb0b112189d5532492b32dd8f3e442cba9d832ceef3b6\n",
            "  Building wheel for multitasking (setup.py) ... \u001b[?25ldone\n",
            "\u001b[?25h  Created wheel for multitasking: filename=multitasking-0.0.9-py3-none-any.whl size=8375 sha256=f3c871ae530267a0043eecc3a3d745e9be2f3f7ea9d5311901413f47df87af20\n",
            "  Stored in directory: /home/gitpod/.cache/pip/wheels/ae/25/47/4d68431a7ec1b6c4b5233365934b74c1d4e665bf5f968d363a\n",
            "Successfully built qiskit dlx fastdtw python-constraint yfinance multitasking\n",
            "Installing collected packages: mpmath, tweedledum, sympy, symengine, retworkx, python-constraint, psutil, ply, fastjsonschema, dill, qiskit-terra, ntlm-auth, multitasking, more-itertools, lxml, inflection, cryptography, cached-property, yfinance, requests-ntlm, quandl, qiskit-ignis, pybind11, h5py, fastdtw, dlx, qiskit-ibmq-provider, qiskit-aqua, qiskit-aer, qiskit\n",
            "Successfully installed cached-property-1.5.2 cryptography-3.4.7 dill-0.3.4 dlx-1.0.4 fastdtw-0.3.4 fastjsonschema-2.15.1 h5py-3.2.1 inflection-0.5.1 lxml-4.6.3 more-itertools-8.8.0 mpmath-1.2.1 multitasking-0.0.9 ntlm-auth-1.5.0 ply-3.11 psutil-5.8.0 pybind11-2.7.1 python-constraint-1.4.0 qiskit-0.29.0 qiskit-aer-0.8.2 qiskit-aqua-0.9.4 qiskit-ibmq-provider-0.16.0 qiskit-ignis-0.6.0 qiskit-terra-0.18.1 quandl-3.6.1 requests-ntlm-1.1.0 retworkx-0.9.0 symengine-0.7.2 sympy-1.8 tweedledum-1.1.0 yfinance-0.1.62\n",
            "\u001b[33mWARNING: You are using pip version 21.2.3; however, version 21.2.4 is available.\n",
            "You should consider upgrading via the '/usr/local/bin/python -m pip install --upgrade pip' command.\u001b[0m\n",
            "Name: qiskit\n",
            "Version: 0.29.0\n",
            "Summary: Software for developing quantum computing programs\n",
            "Home-page: https://github.com/Qiskit/qiskit\n",
            "Author: Qiskit Development Team\n",
            "Author-email: hello@qiskit.org\n",
            "License: Apache 2.0\n",
            "Location: /workspace/.pip-modules/lib/python3.7/site-packages\n",
            "Requires: qiskit-aqua, qiskit-terra, qiskit-aer, qiskit-ignis, qiskit-ibmq-provider\n",
            "Required-by: \n"
          ]
        }
      ]
=======
      "execution_count": null,
      "outputs": []
>>>>>>> d606e2aeb59da93608c56f6a8c7a6bc533ce68cf
    },
    {
      "cell_type": "code",
      "metadata": {
        "id": "RPk5nF4ZxtCJ"
      },
      "source": [
        "#it my be useful to retstart you runtime\n",
        "\n",
        "# clone repo\n",
        "!git clone https://github.com/VGGatGitHub/Summer2021.git"
      ],
      "execution_count": null,
      "outputs": []
    },
    {
      "cell_type": "markdown",
      "metadata": {
        "id": "DMGKfSM9YVuM"
      },
      "source": [
        "#**Possibly need to restart runtime here.**"
      ]
    },
    {
      "cell_type": "markdown",
      "metadata": {
        "id": "jFOO2BnFxtCM"
      },
      "source": [
        "# 1. Load Data"
      ]
    },
    {
      "cell_type": "code",
<<<<<<< HEAD
      "execution_count": 86,
      "metadata": {},
      "outputs": [
        {
          "output_type": "stream",
          "name": "stdout",
          "text": [
            "/workspace/Summer2021/introScenario\n"
          ]
        }
      ],
      "source": [
        "!pwd\n"
      ]
    },
    {
      "cell_type": "code",
=======
>>>>>>> d606e2aeb59da93608c56f6a8c7a6bc533ce68cf
      "metadata": {
        "id": "y8U39lpVaWLJ",
        "colab": {
          "base_uri": "https://localhost:8080/"
        },
        "outputId": "906f077c-bbdc-4bfe-f07a-439ddb78b8cb"
      },
      "source": [
        "#next run the model.py in the folder introScenario\n",
        "!pwd\n",
<<<<<<< HEAD
        "%cd ./intermediateScenario/\n",
=======
        "%cd ./Summer2021/introScenario/\n",
>>>>>>> d606e2aeb59da93608c56f6a8c7a6bc533ce68cf
        "#./Summer2021/intermediateScenario\n",
        "#./Summer2021/introScenario/\n",
        "#%ls\n"
      ],
<<<<<<< HEAD
      "execution_count": 87,
      "outputs": [
        {
          "output_type": "stream",
          "name": "stdout",
          "text": [
            "/workspace/Summer2021/introScenario\n",
            "/workspace/Summer2021/intermediateScenario\n"
          ]
=======
      "execution_count": 6,
      "outputs": [
        {
          "output_type": "stream",
          "text": [
            "/content\n",
            "/content/Summer2021/introScenario\n"
          ],
          "name": "stdout"
>>>>>>> d606e2aeb59da93608c56f6a8c7a6bc533ce68cf
        }
      ]
    },
    {
      "cell_type": "code",
      "metadata": {
        "id": "w5eQxjG1YVuP"
      },
      "source": [
        "import pandas as pd\n",
        "\n",
        "# supply + costs\n",
        "supply_file = './plants.csv'\n",
        "\n",
        "# demand\n",
        "demand_file = './customerDemand.csv'\n",
        "\n",
        "# for now load example data (plants.csv and customerDemand.csv under introScenario folder)\n",
        "s_df = pd.read_csv(supply_file)\n",
        "d_df = pd.read_csv(demand_file)"
      ],
<<<<<<< HEAD
      "execution_count": 88,
=======
      "execution_count": 7,
>>>>>>> d606e2aeb59da93608c56f6a8c7a6bc533ce68cf
      "outputs": []
    },
    {
      "cell_type": "code",
      "metadata": {
        "id": "jpII3ShlTtMI",
        "colab": {
          "base_uri": "https://localhost:8080/",
          "height": 0
        },
        "outputId": "10e61aa5-127a-4f83-c940-f9a685995e8f"
      },
      "source": [
        "d_df"
      ],
<<<<<<< HEAD
      "execution_count": 89,
=======
      "execution_count": 8,
>>>>>>> d606e2aeb59da93608c56f6a8c7a6bc533ce68cf
      "outputs": [
        {
          "output_type": "execute_result",
          "data": {
<<<<<<< HEAD
            "text/plain": [
              "          Product  Demand\n",
              "0     airFreshner      81\n",
              "1         avocado      75\n",
              "2       batteries      16\n",
              "3      cannedSoup      78\n",
              "4      cannedTuna      29\n",
              "5        chargers      50\n",
              "6          coffee      64\n",
              "7           flour      56\n",
              "8          gloves      41\n",
              "9             gum      64\n",
              "10  handSanitizer     223\n",
              "11       handSoap      93\n",
              "12        jackets      45\n",
              "13          jeans      34\n",
              "14           lamb      39\n",
              "15           mask     191\n",
              "16           pens      57\n",
              "17         salmon      44\n",
              "18          socks      49\n",
              "19    sportsDrink      14\n",
              "20   sprayCleaner     155\n",
              "21      sunscreen      88\n",
              "22    toiletPaper     121\n",
              "23       trailMix      35\n",
              "24      vegBurger      76\n",
              "25       vitaminC       9\n",
              "26          water      72\n",
              "27           wine      41\n",
              "28          wipes       4"
            ],
            "text/html": "<div>\n<style scoped>\n    .dataframe tbody tr th:only-of-type {\n        vertical-align: middle;\n    }\n\n    .dataframe tbody tr th {\n        vertical-align: top;\n    }\n\n    .dataframe thead th {\n        text-align: right;\n    }\n</style>\n<table border=\"1\" class=\"dataframe\">\n  <thead>\n    <tr style=\"text-align: right;\">\n      <th></th>\n      <th>Product</th>\n      <th>Demand</th>\n    </tr>\n  </thead>\n  <tbody>\n    <tr>\n      <th>0</th>\n      <td>airFreshner</td>\n      <td>81</td>\n    </tr>\n    <tr>\n      <th>1</th>\n      <td>avocado</td>\n      <td>75</td>\n    </tr>\n    <tr>\n      <th>2</th>\n      <td>batteries</td>\n      <td>16</td>\n    </tr>\n    <tr>\n      <th>3</th>\n      <td>cannedSoup</td>\n      <td>78</td>\n    </tr>\n    <tr>\n      <th>4</th>\n      <td>cannedTuna</td>\n      <td>29</td>\n    </tr>\n    <tr>\n      <th>5</th>\n      <td>chargers</td>\n      <td>50</td>\n    </tr>\n    <tr>\n      <th>6</th>\n      <td>coffee</td>\n      <td>64</td>\n    </tr>\n    <tr>\n      <th>7</th>\n      <td>flour</td>\n      <td>56</td>\n    </tr>\n    <tr>\n      <th>8</th>\n      <td>gloves</td>\n      <td>41</td>\n    </tr>\n    <tr>\n      <th>9</th>\n      <td>gum</td>\n      <td>64</td>\n    </tr>\n    <tr>\n      <th>10</th>\n      <td>handSanitizer</td>\n      <td>223</td>\n    </tr>\n    <tr>\n      <th>11</th>\n      <td>handSoap</td>\n      <td>93</td>\n    </tr>\n    <tr>\n      <th>12</th>\n      <td>jackets</td>\n      <td>45</td>\n    </tr>\n    <tr>\n      <th>13</th>\n      <td>jeans</td>\n      <td>34</td>\n    </tr>\n    <tr>\n      <th>14</th>\n      <td>lamb</td>\n      <td>39</td>\n    </tr>\n    <tr>\n      <th>15</th>\n      <td>mask</td>\n      <td>191</td>\n    </tr>\n    <tr>\n      <th>16</th>\n      <td>pens</td>\n      <td>57</td>\n    </tr>\n    <tr>\n      <th>17</th>\n      <td>salmon</td>\n      <td>44</td>\n    </tr>\n    <tr>\n      <th>18</th>\n      <td>socks</td>\n      <td>49</td>\n    </tr>\n    <tr>\n      <th>19</th>\n      <td>sportsDrink</td>\n      <td>14</td>\n    </tr>\n    <tr>\n      <th>20</th>\n      <td>sprayCleaner</td>\n      <td>155</td>\n    </tr>\n    <tr>\n      <th>21</th>\n      <td>sunscreen</td>\n      <td>88</td>\n    </tr>\n    <tr>\n      <th>22</th>\n      <td>toiletPaper</td>\n      <td>121</td>\n    </tr>\n    <tr>\n      <th>23</th>\n      <td>trailMix</td>\n      <td>35</td>\n    </tr>\n    <tr>\n      <th>24</th>\n      <td>vegBurger</td>\n      <td>76</td>\n    </tr>\n    <tr>\n      <th>25</th>\n      <td>vitaminC</td>\n      <td>9</td>\n    </tr>\n    <tr>\n      <th>26</th>\n      <td>water</td>\n      <td>72</td>\n    </tr>\n    <tr>\n      <th>27</th>\n      <td>wine</td>\n      <td>41</td>\n    </tr>\n    <tr>\n      <th>28</th>\n      <td>wipes</td>\n      <td>4</td>\n    </tr>\n  </tbody>\n</table>\n</div>"
          },
          "metadata": {},
          "execution_count": 89
=======
            "text/html": [
              "<div>\n",
              "<style scoped>\n",
              "    .dataframe tbody tr th:only-of-type {\n",
              "        vertical-align: middle;\n",
              "    }\n",
              "\n",
              "    .dataframe tbody tr th {\n",
              "        vertical-align: top;\n",
              "    }\n",
              "\n",
              "    .dataframe thead th {\n",
              "        text-align: right;\n",
              "    }\n",
              "</style>\n",
              "<table border=\"1\" class=\"dataframe\">\n",
              "  <thead>\n",
              "    <tr style=\"text-align: right;\">\n",
              "      <th></th>\n",
              "      <th>Product</th>\n",
              "      <th>Demand</th>\n",
              "    </tr>\n",
              "  </thead>\n",
              "  <tbody>\n",
              "    <tr>\n",
              "      <th>0</th>\n",
              "      <td>handSanitizer</td>\n",
              "      <td>100</td>\n",
              "    </tr>\n",
              "    <tr>\n",
              "      <th>1</th>\n",
              "      <td>mask</td>\n",
              "      <td>120</td>\n",
              "    </tr>\n",
              "  </tbody>\n",
              "</table>\n",
              "</div>"
            ],
            "text/plain": [
              "         Product  Demand\n",
              "0  handSanitizer     100\n",
              "1           mask     120"
            ]
          },
          "metadata": {
            "tags": []
          },
          "execution_count": 8
>>>>>>> d606e2aeb59da93608c56f6a8c7a6bc533ce68cf
        }
      ]
    },
    {
      "cell_type": "code",
      "metadata": {
        "id": "Urm0R_bETqO2",
        "colab": {
          "base_uri": "https://localhost:8080/",
          "height": 0
        },
        "outputId": "ae66f760-b855-4649-8692-b0657abb7cc3"
      },
      "source": [
        "s_df"
      ],
<<<<<<< HEAD
      "execution_count": 90,
=======
      "execution_count": 9,
>>>>>>> d606e2aeb59da93608c56f6a8c7a6bc533ce68cf
      "outputs": [
        {
          "output_type": "execute_result",
          "data": {
<<<<<<< HEAD
            "text/plain": [
              "    Id         Plants  Cost  Capacity        Product  Profit\n",
              "0    1    Los Angeles     3        40    airFreshner       3\n",
              "1    2    Mexico City     2        30        avocado       4\n",
              "2    3        Toronto     1        30      batteries       2\n",
              "3    4        Chicago     3       100     cannedSoup       5\n",
              "4    5         London     2        60     cannedTuna       6\n",
              "..  ..            ...   ...       ...            ...     ...\n",
              "85  86    Mexico City     2        30           wine       2\n",
              "86  87        Toronto     1        30          wipes       3\n",
              "87  88        Chicago     3       100           mask       1\n",
              "88  89         London     2        60  handSanitizer       3\n",
              "89  90  Los Angeles 4     1        45       handSoap       4\n",
              "\n",
              "[90 rows x 6 columns]"
            ],
            "text/html": "<div>\n<style scoped>\n    .dataframe tbody tr th:only-of-type {\n        vertical-align: middle;\n    }\n\n    .dataframe tbody tr th {\n        vertical-align: top;\n    }\n\n    .dataframe thead th {\n        text-align: right;\n    }\n</style>\n<table border=\"1\" class=\"dataframe\">\n  <thead>\n    <tr style=\"text-align: right;\">\n      <th></th>\n      <th>Id</th>\n      <th>Plants</th>\n      <th>Cost</th>\n      <th>Capacity</th>\n      <th>Product</th>\n      <th>Profit</th>\n    </tr>\n  </thead>\n  <tbody>\n    <tr>\n      <th>0</th>\n      <td>1</td>\n      <td>Los Angeles</td>\n      <td>3</td>\n      <td>40</td>\n      <td>airFreshner</td>\n      <td>3</td>\n    </tr>\n    <tr>\n      <th>1</th>\n      <td>2</td>\n      <td>Mexico City</td>\n      <td>2</td>\n      <td>30</td>\n      <td>avocado</td>\n      <td>4</td>\n    </tr>\n    <tr>\n      <th>2</th>\n      <td>3</td>\n      <td>Toronto</td>\n      <td>1</td>\n      <td>30</td>\n      <td>batteries</td>\n      <td>2</td>\n    </tr>\n    <tr>\n      <th>3</th>\n      <td>4</td>\n      <td>Chicago</td>\n      <td>3</td>\n      <td>100</td>\n      <td>cannedSoup</td>\n      <td>5</td>\n    </tr>\n    <tr>\n      <th>4</th>\n      <td>5</td>\n      <td>London</td>\n      <td>2</td>\n      <td>60</td>\n      <td>cannedTuna</td>\n      <td>6</td>\n    </tr>\n    <tr>\n      <th>...</th>\n      <td>...</td>\n      <td>...</td>\n      <td>...</td>\n      <td>...</td>\n      <td>...</td>\n      <td>...</td>\n    </tr>\n    <tr>\n      <th>85</th>\n      <td>86</td>\n      <td>Mexico City</td>\n      <td>2</td>\n      <td>30</td>\n      <td>wine</td>\n      <td>2</td>\n    </tr>\n    <tr>\n      <th>86</th>\n      <td>87</td>\n      <td>Toronto</td>\n      <td>1</td>\n      <td>30</td>\n      <td>wipes</td>\n      <td>3</td>\n    </tr>\n    <tr>\n      <th>87</th>\n      <td>88</td>\n      <td>Chicago</td>\n      <td>3</td>\n      <td>100</td>\n      <td>mask</td>\n      <td>1</td>\n    </tr>\n    <tr>\n      <th>88</th>\n      <td>89</td>\n      <td>London</td>\n      <td>2</td>\n      <td>60</td>\n      <td>handSanitizer</td>\n      <td>3</td>\n    </tr>\n    <tr>\n      <th>89</th>\n      <td>90</td>\n      <td>Los Angeles 4</td>\n      <td>1</td>\n      <td>45</td>\n      <td>handSoap</td>\n      <td>4</td>\n    </tr>\n  </tbody>\n</table>\n<p>90 rows × 6 columns</p>\n</div>"
          },
          "metadata": {},
          "execution_count": 90
=======
            "text/html": [
              "<div>\n",
              "<style scoped>\n",
              "    .dataframe tbody tr th:only-of-type {\n",
              "        vertical-align: middle;\n",
              "    }\n",
              "\n",
              "    .dataframe tbody tr th {\n",
              "        vertical-align: top;\n",
              "    }\n",
              "\n",
              "    .dataframe thead th {\n",
              "        text-align: right;\n",
              "    }\n",
              "</style>\n",
              "<table border=\"1\" class=\"dataframe\">\n",
              "  <thead>\n",
              "    <tr style=\"text-align: right;\">\n",
              "      <th></th>\n",
              "      <th>Plants</th>\n",
              "      <th>Cost</th>\n",
              "      <th>Capacity</th>\n",
              "      <th>Product</th>\n",
              "    </tr>\n",
              "  </thead>\n",
              "  <tbody>\n",
              "    <tr>\n",
              "      <th>0</th>\n",
              "      <td>1</td>\n",
              "      <td>3</td>\n",
              "      <td>40</td>\n",
              "      <td>mask</td>\n",
              "    </tr>\n",
              "    <tr>\n",
              "      <th>1</th>\n",
              "      <td>2</td>\n",
              "      <td>2</td>\n",
              "      <td>30</td>\n",
              "      <td>mask</td>\n",
              "    </tr>\n",
              "    <tr>\n",
              "      <th>2</th>\n",
              "      <td>3</td>\n",
              "      <td>1</td>\n",
              "      <td>30</td>\n",
              "      <td>handSanitizer</td>\n",
              "    </tr>\n",
              "    <tr>\n",
              "      <th>3</th>\n",
              "      <td>4</td>\n",
              "      <td>3</td>\n",
              "      <td>100</td>\n",
              "      <td>handSanitizer</td>\n",
              "    </tr>\n",
              "    <tr>\n",
              "      <th>4</th>\n",
              "      <td>5</td>\n",
              "      <td>2</td>\n",
              "      <td>60</td>\n",
              "      <td>mask</td>\n",
              "    </tr>\n",
              "    <tr>\n",
              "      <th>5</th>\n",
              "      <td>6</td>\n",
              "      <td>1</td>\n",
              "      <td>45</td>\n",
              "      <td>mask</td>\n",
              "    </tr>\n",
              "  </tbody>\n",
              "</table>\n",
              "</div>"
            ],
            "text/plain": [
              "   Plants  Cost  Capacity        Product\n",
              "0       1     3        40           mask\n",
              "1       2     2        30           mask\n",
              "2       3     1        30  handSanitizer\n",
              "3       4     3       100  handSanitizer\n",
              "4       5     2        60           mask\n",
              "5       6     1        45           mask"
            ]
          },
          "metadata": {
            "tags": []
          },
          "execution_count": 9
>>>>>>> d606e2aeb59da93608c56f6a8c7a6bc533ce68cf
        }
      ]
    },
    {
      "cell_type": "code",
      "metadata": {
        "id": "m3VwLMJr1wBE"
      },
      "source": [
        "inputs={'customerDemand':d_df,'plants':s_df}"
      ],
<<<<<<< HEAD
      "execution_count": 91,
=======
      "execution_count": 10,
>>>>>>> d606e2aeb59da93608c56f6a8c7a6bc533ce68cf
      "outputs": []
    },
    {
      "cell_type": "markdown",
      "metadata": {
        "id": "89lxEMTBYVuQ"
      },
      "source": [
        "# 2. Solve the DO problem via DOcplex"
      ]
    },
    {
      "cell_type": "code",
      "metadata": {
        "id": "UIfEsCTjYVuQ"
      },
      "source": [
        "#If you get an error you may have to restart the runtime\n",
        "import cplex\n",
        "import docplex.mp\n",
        "from docplex.mp.model import Model"
      ],
<<<<<<< HEAD
      "execution_count": 92,
=======
      "execution_count": 11,
>>>>>>> d606e2aeb59da93608c56f6a8c7a6bc533ce68cf
      "outputs": []
    },
    {
      "cell_type": "code",
      "metadata": {
        "id": "QyDnKO0VRW2r"
      },
      "source": [
        "global output_lock\n",
        "#with output_lock:\n",
        "\n",
        "try:  \n",
        "  if output_lock:\n",
        "    print(output_lock)\n",
        "except:\n",
        "  output_lock=dict({'output_lock':{}})\n",
        "\n",
        "try: \n",
        "  if outputs:\n",
        "    print(outputs)\n",
        "except:\n",
        "  outputs=dict()\n"
      ],
<<<<<<< HEAD
      "execution_count": 93,
      "outputs": [
        {
          "output_type": "stream",
          "name": "stdout",
          "text": [
            "{'output_lock': {}}\n{'plantsAllocation':    plants  plants allocation decision  plants selection decision  \\\n0       1                         0.0                        1.0   \n1       2                        15.0                        1.0   \n2       3                        30.0                        1.0   \n3       4                        70.0                        1.0   \n4       5                        60.0                        1.0   \n5       6                        45.0                        1.0   \n\n   plants Capacity plants Product  plants Cost  \\\n0               40           mask            3   \n1               30           mask            2   \n2               30  handSanitizer            1   \n3              100  handSanitizer            3   \n4               60           mask            2   \n5               45           mask            1   \n\n   plants minValueAllocationForAssignment  \n0                                       0  \n1                                       0  \n2                                       0  \n3                                       0  \n4                                       0  \n5                                       0  }\n"
          ]
        }
      ]
=======
      "execution_count": 12,
      "outputs": []
>>>>>>> d606e2aeb59da93608c56f6a8c7a6bc533ce68cf
    },
    {
      "cell_type": "code",
      "metadata": {
        "id": "QR6mPc1i4fpz",
        "colab": {
          "base_uri": "https://localhost:8080/"
        },
        "outputId": "950ff48f-8a8f-4de4-9f92-621982921611"
      },
      "source": [
        "exec(open(\"./model.py\").read())"
      ],
<<<<<<< HEAD
      "execution_count": 94,
      "outputs": [
        {
          "output_type": "stream",
          "name": "stdout",
          "text": [
            "* building wado model\n",
            "model building done in 0.13576388359069824 secs\n",
=======
      "execution_count": 13,
      "outputs": [
        {
          "output_type": "stream",
          "text": [
            "* building wado model\n",
            "model building done in 0.15670061111450195 secs\n",
>>>>>>> d606e2aeb59da93608c56f6a8c7a6bc533ce68cf
            "* running wado model\n",
            "Version identifier: 20.1.0.0 | 2020-11-11 | 9bedb6d68\n",
            "CPXPARAM_Read_DataCheck                          1\n",
            "CPXPARAM_TimeLimit                               120\n",
<<<<<<< HEAD
            "Found incumbent of value 0.000000 after 0.00 sec. (0.01 ticks)\n",
            "Tried aggregator 2 times.\n",
            "MIP Presolve eliminated 297 rows and 178 columns.\n",
            "Aggregator did 2 substitutions.\n",
            "All rows and columns eliminated.\n",
            "Presolve time = 0.00 sec. (0.20 ticks)\n",
            "\n",
            "Root node processing (before b&c):\n",
            "  Real time             =    0.01 sec. (0.22 ticks)\n",
            "Parallel b&c, 16 threads:\n",
=======
            "Found incumbent of value 0.000000 after 0.00 sec. (0.00 ticks)\n",
            "Tried aggregator 1 time.\n",
            "MIP Presolve eliminated 20 rows and 12 columns.\n",
            "All rows and columns eliminated.\n",
            "Presolve time = 0.01 sec. (0.01 ticks)\n",
            "\n",
            "Root node processing (before b&c):\n",
            "  Real time             =    0.02 sec. (0.01 ticks)\n",
            "Parallel b&c, 2 threads:\n",
>>>>>>> d606e2aeb59da93608c56f6a8c7a6bc533ce68cf
            "  Real time             =    0.00 sec. (0.00 ticks)\n",
            "  Sync time (average)   =    0.00 sec.\n",
            "  Wait time (average)   =    0.00 sec.\n",
            "                          ------------\n",
<<<<<<< HEAD
            "Total (root+branch&cut) =    0.01 sec. (0.22 ticks)\n",
            "Solve status: JobSolveStatus.OPTIMAL_SOLUTION\n",
            "* model docplex_model2 solved with objective = -1403296.000\n",
            "*  KPI: total plants allocations                    = 967168.000\n",
            "*  KPI: total Cost of plants over all allocations   = 65248.000\n",
            "*  KPI: total Profit of plants over all allocations = 501376.000\n",
            "model solve done in 0.0292661190032959 secs\n",
            "solution export done in 0.012301445007324219 secs\n"
          ]
=======
            "Total (root+branch&cut) =    0.02 sec. (0.01 ticks)\n",
            "Solve status: JobSolveStatus.OPTIMAL_SOLUTION\n",
            "* model docplex_model1 solved with objective = -105680.000\n",
            "*  KPI: total plants allocations                  = 112640.000\n",
            "*  KPI: total Cost of plants over all allocations = 6960.000\n",
            "model solve done in 0.07978630065917969 secs\n",
            "solution export done in 0.015005826950073242 secs\n"
          ],
          "name": "stdout"
>>>>>>> d606e2aeb59da93608c56f6a8c7a6bc533ce68cf
        }
      ]
    },
    {
      "cell_type": "code",
      "metadata": {
        "id": "oT2QEZYAX97y",
        "colab": {
          "base_uri": "https://localhost:8080/"
        },
        "outputId": "1d4efb9d-e054-4efb-aa9a-0b245cfab587"
      },
      "source": [
        "outputs\n"
      ],
<<<<<<< HEAD
      "execution_count": 95,
=======
      "execution_count": 14,
>>>>>>> d606e2aeb59da93608c56f6a8c7a6bc533ce68cf
      "outputs": [
        {
          "output_type": "execute_result",
          "data": {
            "text/plain": [
<<<<<<< HEAD
              "{'plantsAllocation':     plants  plants allocation decision  plants selection decision  \\\n",
              " 0        1                         0.0                        1.0   \n",
              " 1        2                        30.0                        1.0   \n",
              " 2        3                         0.0                        1.0   \n",
              " 3        4                        78.0                        1.0   \n",
              " 4        5                        29.0                        1.0   \n",
              " ..     ...                         ...                        ...   \n",
              " 85      86                         0.0                        1.0   \n",
              " 86      87                         0.0                        1.0   \n",
              " 87      88                        31.0                        1.0   \n",
              " 88      89                        60.0                        1.0   \n",
              " 89      90                         0.0                        1.0   \n",
              " \n",
              "     plants Capacity  plants Profit plants Product  plants Plants  plants Cost  \\\n",
              " 0                40              3    airFreshner    Los Angeles            3   \n",
              " 1                30              4        avocado    Mexico City            2   \n",
              " 2                30              2      batteries        Toronto            1   \n",
              " 3               100              5     cannedSoup        Chicago            3   \n",
              " 4                60              6     cannedTuna         London            2   \n",
              " ..              ...            ...            ...            ...          ...   \n",
              " 85               30              2           wine    Mexico City            2   \n",
              " 86               30              3          wipes        Toronto            1   \n",
              " 87              100              1           mask        Chicago            3   \n",
              " 88               60              3  handSanitizer         London            2   \n",
              " 89               45              4       handSoap  Los Angeles 4            1   \n",
              " \n",
              "     plants minValueAllocationForAssignment  \n",
              " 0                                        0  \n",
              " 1                                        0  \n",
              " 2                                        0  \n",
              " 3                                        0  \n",
              " 4                                        0  \n",
              " ..                                     ...  \n",
              " 85                                       0  \n",
              " 86                                       0  \n",
              " 87                                       0  \n",
              " 88                                       0  \n",
              " 89                                       0  \n",
              " \n",
              " [90 rows x 9 columns]}"
            ]
          },
          "metadata": {},
          "execution_count": 95
=======
              "{'plantsAllocation':    plants  ...  plants minValueAllocationForAssignment\n",
              " 0       1  ...                                       0\n",
              " 1       2  ...                                       0\n",
              " 2       3  ...                                       0\n",
              " 3       4  ...                                       0\n",
              " 4       5  ...                                       0\n",
              " 5       6  ...                                       0\n",
              " \n",
              " [6 rows x 7 columns]}"
            ]
          },
          "metadata": {
            "tags": []
          },
          "execution_count": 14
>>>>>>> d606e2aeb59da93608c56f6a8c7a6bc533ce68cf
        }
      ]
    },
    {
      "cell_type": "code",
      "metadata": {
        "id": "TiWDpfHILzSo",
        "colab": {
          "base_uri": "https://localhost:8080/",
          "height": 0
        },
        "outputId": "50e2e1c6-a841-4a39-87c5-65d7d0f8068e"
      },
      "source": [
        "outputs['plantsAllocation']"
      ],
<<<<<<< HEAD
      "execution_count": 96,
=======
      "execution_count": 15,
>>>>>>> d606e2aeb59da93608c56f6a8c7a6bc533ce68cf
      "outputs": [
        {
          "output_type": "execute_result",
          "data": {
<<<<<<< HEAD
            "text/plain": [
              "    plants  plants allocation decision  plants selection decision  \\\n",
              "0        1                         0.0                        1.0   \n",
              "1        2                        30.0                        1.0   \n",
              "2        3                         0.0                        1.0   \n",
              "3        4                        78.0                        1.0   \n",
              "4        5                        29.0                        1.0   \n",
              "..     ...                         ...                        ...   \n",
              "85      86                         0.0                        1.0   \n",
              "86      87                         0.0                        1.0   \n",
              "87      88                        31.0                        1.0   \n",
              "88      89                        60.0                        1.0   \n",
              "89      90                         0.0                        1.0   \n",
              "\n",
              "    plants Capacity  plants Profit plants Product  plants Plants  plants Cost  \\\n",
              "0                40              3    airFreshner    Los Angeles            3   \n",
              "1                30              4        avocado    Mexico City            2   \n",
              "2                30              2      batteries        Toronto            1   \n",
              "3               100              5     cannedSoup        Chicago            3   \n",
              "4                60              6     cannedTuna         London            2   \n",
              "..              ...            ...            ...            ...          ...   \n",
              "85               30              2           wine    Mexico City            2   \n",
              "86               30              3          wipes        Toronto            1   \n",
              "87              100              1           mask        Chicago            3   \n",
              "88               60              3  handSanitizer         London            2   \n",
              "89               45              4       handSoap  Los Angeles 4            1   \n",
              "\n",
              "    plants minValueAllocationForAssignment  \n",
              "0                                        0  \n",
              "1                                        0  \n",
              "2                                        0  \n",
              "3                                        0  \n",
              "4                                        0  \n",
              "..                                     ...  \n",
              "85                                       0  \n",
              "86                                       0  \n",
              "87                                       0  \n",
              "88                                       0  \n",
              "89                                       0  \n",
              "\n",
              "[90 rows x 9 columns]"
            ],
            "text/html": "<div>\n<style scoped>\n    .dataframe tbody tr th:only-of-type {\n        vertical-align: middle;\n    }\n\n    .dataframe tbody tr th {\n        vertical-align: top;\n    }\n\n    .dataframe thead th {\n        text-align: right;\n    }\n</style>\n<table border=\"1\" class=\"dataframe\">\n  <thead>\n    <tr style=\"text-align: right;\">\n      <th></th>\n      <th>plants</th>\n      <th>plants allocation decision</th>\n      <th>plants selection decision</th>\n      <th>plants Capacity</th>\n      <th>plants Profit</th>\n      <th>plants Product</th>\n      <th>plants Plants</th>\n      <th>plants Cost</th>\n      <th>plants minValueAllocationForAssignment</th>\n    </tr>\n  </thead>\n  <tbody>\n    <tr>\n      <th>0</th>\n      <td>1</td>\n      <td>0.0</td>\n      <td>1.0</td>\n      <td>40</td>\n      <td>3</td>\n      <td>airFreshner</td>\n      <td>Los Angeles</td>\n      <td>3</td>\n      <td>0</td>\n    </tr>\n    <tr>\n      <th>1</th>\n      <td>2</td>\n      <td>30.0</td>\n      <td>1.0</td>\n      <td>30</td>\n      <td>4</td>\n      <td>avocado</td>\n      <td>Mexico City</td>\n      <td>2</td>\n      <td>0</td>\n    </tr>\n    <tr>\n      <th>2</th>\n      <td>3</td>\n      <td>0.0</td>\n      <td>1.0</td>\n      <td>30</td>\n      <td>2</td>\n      <td>batteries</td>\n      <td>Toronto</td>\n      <td>1</td>\n      <td>0</td>\n    </tr>\n    <tr>\n      <th>3</th>\n      <td>4</td>\n      <td>78.0</td>\n      <td>1.0</td>\n      <td>100</td>\n      <td>5</td>\n      <td>cannedSoup</td>\n      <td>Chicago</td>\n      <td>3</td>\n      <td>0</td>\n    </tr>\n    <tr>\n      <th>4</th>\n      <td>5</td>\n      <td>29.0</td>\n      <td>1.0</td>\n      <td>60</td>\n      <td>6</td>\n      <td>cannedTuna</td>\n      <td>London</td>\n      <td>2</td>\n      <td>0</td>\n    </tr>\n    <tr>\n      <th>...</th>\n      <td>...</td>\n      <td>...</td>\n      <td>...</td>\n      <td>...</td>\n      <td>...</td>\n      <td>...</td>\n      <td>...</td>\n      <td>...</td>\n      <td>...</td>\n    </tr>\n    <tr>\n      <th>85</th>\n      <td>86</td>\n      <td>0.0</td>\n      <td>1.0</td>\n      <td>30</td>\n      <td>2</td>\n      <td>wine</td>\n      <td>Mexico City</td>\n      <td>2</td>\n      <td>0</td>\n    </tr>\n    <tr>\n      <th>86</th>\n      <td>87</td>\n      <td>0.0</td>\n      <td>1.0</td>\n      <td>30</td>\n      <td>3</td>\n      <td>wipes</td>\n      <td>Toronto</td>\n      <td>1</td>\n      <td>0</td>\n    </tr>\n    <tr>\n      <th>87</th>\n      <td>88</td>\n      <td>31.0</td>\n      <td>1.0</td>\n      <td>100</td>\n      <td>1</td>\n      <td>mask</td>\n      <td>Chicago</td>\n      <td>3</td>\n      <td>0</td>\n    </tr>\n    <tr>\n      <th>88</th>\n      <td>89</td>\n      <td>60.0</td>\n      <td>1.0</td>\n      <td>60</td>\n      <td>3</td>\n      <td>handSanitizer</td>\n      <td>London</td>\n      <td>2</td>\n      <td>0</td>\n    </tr>\n    <tr>\n      <th>89</th>\n      <td>90</td>\n      <td>0.0</td>\n      <td>1.0</td>\n      <td>45</td>\n      <td>4</td>\n      <td>handSoap</td>\n      <td>Los Angeles 4</td>\n      <td>1</td>\n      <td>0</td>\n    </tr>\n  </tbody>\n</table>\n<p>90 rows × 9 columns</p>\n</div>"
          },
          "metadata": {},
          "execution_count": 96
=======
            "text/html": [
              "<div>\n",
              "<style scoped>\n",
              "    .dataframe tbody tr th:only-of-type {\n",
              "        vertical-align: middle;\n",
              "    }\n",
              "\n",
              "    .dataframe tbody tr th {\n",
              "        vertical-align: top;\n",
              "    }\n",
              "\n",
              "    .dataframe thead th {\n",
              "        text-align: right;\n",
              "    }\n",
              "</style>\n",
              "<table border=\"1\" class=\"dataframe\">\n",
              "  <thead>\n",
              "    <tr style=\"text-align: right;\">\n",
              "      <th></th>\n",
              "      <th>plants</th>\n",
              "      <th>plants allocation decision</th>\n",
              "      <th>plants selection decision</th>\n",
              "      <th>plants Capacity</th>\n",
              "      <th>plants Product</th>\n",
              "      <th>plants Cost</th>\n",
              "      <th>plants minValueAllocationForAssignment</th>\n",
              "    </tr>\n",
              "  </thead>\n",
              "  <tbody>\n",
              "    <tr>\n",
              "      <th>0</th>\n",
              "      <td>1</td>\n",
              "      <td>0.0</td>\n",
              "      <td>1.0</td>\n",
              "      <td>40</td>\n",
              "      <td>mask</td>\n",
              "      <td>3</td>\n",
              "      <td>0</td>\n",
              "    </tr>\n",
              "    <tr>\n",
              "      <th>1</th>\n",
              "      <td>2</td>\n",
              "      <td>15.0</td>\n",
              "      <td>1.0</td>\n",
              "      <td>30</td>\n",
              "      <td>mask</td>\n",
              "      <td>2</td>\n",
              "      <td>0</td>\n",
              "    </tr>\n",
              "    <tr>\n",
              "      <th>2</th>\n",
              "      <td>3</td>\n",
              "      <td>30.0</td>\n",
              "      <td>1.0</td>\n",
              "      <td>30</td>\n",
              "      <td>handSanitizer</td>\n",
              "      <td>1</td>\n",
              "      <td>0</td>\n",
              "    </tr>\n",
              "    <tr>\n",
              "      <th>3</th>\n",
              "      <td>4</td>\n",
              "      <td>70.0</td>\n",
              "      <td>1.0</td>\n",
              "      <td>100</td>\n",
              "      <td>handSanitizer</td>\n",
              "      <td>3</td>\n",
              "      <td>0</td>\n",
              "    </tr>\n",
              "    <tr>\n",
              "      <th>4</th>\n",
              "      <td>5</td>\n",
              "      <td>60.0</td>\n",
              "      <td>1.0</td>\n",
              "      <td>60</td>\n",
              "      <td>mask</td>\n",
              "      <td>2</td>\n",
              "      <td>0</td>\n",
              "    </tr>\n",
              "    <tr>\n",
              "      <th>5</th>\n",
              "      <td>6</td>\n",
              "      <td>45.0</td>\n",
              "      <td>1.0</td>\n",
              "      <td>45</td>\n",
              "      <td>mask</td>\n",
              "      <td>1</td>\n",
              "      <td>0</td>\n",
              "    </tr>\n",
              "  </tbody>\n",
              "</table>\n",
              "</div>"
            ],
            "text/plain": [
              "   plants  ...  plants minValueAllocationForAssignment\n",
              "0       1  ...                                       0\n",
              "1       2  ...                                       0\n",
              "2       3  ...                                       0\n",
              "3       4  ...                                       0\n",
              "4       5  ...                                       0\n",
              "5       6  ...                                       0\n",
              "\n",
              "[6 rows x 7 columns]"
            ]
          },
          "metadata": {
            "tags": []
          },
          "execution_count": 15
>>>>>>> d606e2aeb59da93608c56f6a8c7a6bc533ce68cf
        }
      ]
    },
    {
      "cell_type": "code",
      "metadata": {
        "id": "Z7pXtDgMxKiX",
        "colab": {
          "base_uri": "https://localhost:8080/"
        },
        "outputId": "67a37cd9-b38c-4091-f1c8-15ee20bf106f"
      },
      "source": [
        "model"
      ],
<<<<<<< HEAD
      "execution_count": 97,
=======
      "execution_count": 16,
>>>>>>> d606e2aeb59da93608c56f6a8c7a6bc533ce68cf
      "outputs": [
        {
          "output_type": "execute_result",
          "data": {
            "text/plain": [
<<<<<<< HEAD
              "docplex.mp.Model['docplex_model2']"
            ]
          },
          "metadata": {},
          "execution_count": 97
=======
              "docplex.mp.Model['docplex_model1']"
            ]
          },
          "metadata": {
            "tags": []
          },
          "execution_count": 16
>>>>>>> d606e2aeb59da93608c56f6a8c7a6bc533ce68cf
        }
      ]
    },
    {
      "cell_type": "code",
      "metadata": {
        "colab": {
          "base_uri": "https://localhost:8080/"
        },
        "id": "GJb3NIm38Iuz",
        "outputId": "7298e911-951b-4d7e-88bf-ba9a712ff0c1"
      },
      "source": [
        "solution=model.solve()\n",
        "print(solution)\n",
        "solution"
      ],
<<<<<<< HEAD
      "execution_count": 98,
      "outputs": [
        {
          "output_type": "stream",
          "name": "stdout",
          "text": [
            "solution for: docplex_model2\n",
            "objective: -1.4033e+06\n",
            "x2=30\n",
            "x4=78\n",
            "x5=29\n",
            "x6=45\n",
            "x7=4\n",
            "x10=4\n",
            "x11=60\n",
            "x13=40\n",
            "x15=9\n",
            "x16=100\n",
            "x17=57\n",
            "x18=44\n",
            "x21=30\n",
            "x22=28\n",
            "x26=9\n",
            "x27=30\n",
            "x28=11\n",
            "x30=45\n",
            "x31=40\n",
            "x32=16\n",
            "x37=11\n",
            "x38=30\n",
            "x39=30\n",
            "x40=73\n",
            "x43=34\n",
            "x44=30\n",
            "x45=30\n",
            "x50=30\n",
            "x51=30\n",
            "x52=100\n",
            "x54=16\n",
            "x56=30\n",
            "x57=30\n",
            "x58=4\n",
            "x59=36\n",
            "x60=5\n",
            "x64=5\n",
            "x65=60\n",
            "x66=45\n",
            "x67=11\n",
            "x68=30\n",
            "x69=30\n",
            "x70=93\n",
            "x71=5\n",
            "x74=30\n",
            "x77=49\n",
            "x78=14\n",
            "x79=40\n",
            "x80=30\n",
            "x81=21\n",
            "x82=35\n",
            "x83=60\n",
            "x85=12\n",
            "x88=31\n",
            "x89=60\n",
            "x91=1\n",
            "x92=1\n",
            "x93=1\n",
            "x94=1\n",
            "x95=1\n",
            "x96=1\n",
            "x97=1\n",
            "x98=1\n",
            "x99=1\n",
            "x100=1\n",
            "x101=1\n",
            "x102=1\n",
            "x103=1\n",
            "x104=1\n",
            "x105=1\n",
            "x106=1\n",
            "x107=1\n",
            "x108=1\n",
            "x109=1\n",
            "x110=1\n",
            "x111=1\n",
            "x112=1\n",
            "x113=1\n",
            "x114=1\n",
            "x115=1\n",
            "x116=1\n",
            "x117=1\n",
            "x118=1\n",
            "x119=1\n",
            "x120=1\n",
            "x121=1\n",
            "x122=1\n",
            "x123=1\n",
            "x124=1\n",
            "x125=1\n",
            "x126=1\n",
            "x127=1\n",
            "x128=1\n",
            "x129=1\n",
            "x130=1\n",
            "x131=1\n",
            "x132=1\n",
            "x133=1\n",
            "x134=1\n",
            "x135=1\n",
            "x136=1\n",
            "x137=1\n",
            "x138=1\n",
            "x139=1\n",
            "x140=1\n",
            "x141=1\n",
            "x142=1\n",
            "x143=1\n",
            "x144=1\n",
            "x145=1\n",
            "x146=1\n",
            "x147=1\n",
            "x148=1\n",
            "x149=1\n",
            "x150=1\n",
            "x151=1\n",
            "x152=1\n",
            "x153=1\n",
            "x154=1\n",
            "x155=1\n",
            "x156=1\n",
            "x157=1\n",
            "x158=1\n",
            "x159=1\n",
            "x160=1\n",
            "x161=1\n",
            "x162=1\n",
            "x163=1\n",
            "x164=1\n",
            "x165=1\n",
            "x166=1\n",
            "x167=1\n",
            "x168=1\n",
            "x169=1\n",
            "x170=1\n",
            "x171=1\n",
            "x172=1\n",
            "x173=1\n",
            "x174=1\n",
            "x175=1\n",
            "x176=1\n",
            "x177=1\n",
            "x178=1\n",
            "x179=1\n",
            "x180=1\n",
            "\n"
          ]
=======
      "execution_count": 17,
      "outputs": [
        {
          "output_type": "stream",
          "text": [
            "solution for: docplex_model1\n",
            "objective: -105680\n",
            "x2=15\n",
            "x3=30\n",
            "x4=70\n",
            "x5=60\n",
            "x6=45\n",
            "x7=1\n",
            "x8=1\n",
            "x9=1\n",
            "x10=1\n",
            "x11=1\n",
            "x12=1\n",
            "\n"
          ],
          "name": "stdout"
>>>>>>> d606e2aeb59da93608c56f6a8c7a6bc533ce68cf
        },
        {
          "output_type": "execute_result",
          "data": {
            "text/plain": [
<<<<<<< HEAD
              "docplex.mp.solution.SolveSolution(obj=-1.4033e+06,values={x2:30,x4:78,x5.."
            ]
          },
          "metadata": {},
          "execution_count": 98
=======
              "docplex.mp.solution.SolveSolution(obj=-105680,values={x2:15,x3:30,x4:70,.."
            ]
          },
          "metadata": {
            "tags": []
          },
          "execution_count": 17
>>>>>>> d606e2aeb59da93608c56f6a8c7a6bc533ce68cf
        }
      ]
    },
    {
      "cell_type": "code",
      "metadata": {
        "id": "zHUJX4zh7DtO",
        "colab": {
          "base_uri": "https://localhost:8080/"
        },
        "outputId": "52b0ee61-45ac-4843-ad60-ace6fc7ae884"
      },
      "source": [
        "cost = solution.get_objective_value()\n",
        "x = solution.get_all_values()\n",
        "x = np.array(x)\n",
        "print(cost,x)"
      ],
<<<<<<< HEAD
      "execution_count": 99,
      "outputs": [
        {
          "output_type": "stream",
          "name": "stdout",
          "text": [
            "-1403296.0 [  0.  30.   0.  78.  29.  45.   4.   0.   0.   4.  60.   0.  40.   0.\n   9. 100.  57.  44.   0.   0.  30.  28.   0.   0.   0.   9.  30.  11.\n   0.  45.  40.  16.   0.   0.   0.   0.  11.  30.  30.  73.   0.   0.\n  34.  30.  30.   0.   0.   0.   0.  30.  30. 100.   0.  16.   0.  30.\n  30.   4.  36.   5.   0.   0.   0.   5.  60.  45.  11.  30.  30.  93.\n   5.   0.   0.  30.   0.   0.  49.  14.  40.  30.  21.  35.  60.   0.\n  12.   0.   0.  31.  60.   0.   1.   1.   1.   1.   1.   1.   1.   1.\n   1.   1.   1.   1.   1.   1.   1.   1.   1.   1.   1.   1.   1.   1.\n   1.   1.   1.   1.   1.   1.   1.   1.   1.   1.   1.   1.   1.   1.\n   1.   1.   1.   1.   1.   1.   1.   1.   1.   1.   1.   1.   1.   1.\n   1.   1.   1.   1.   1.   1.   1.   1.   1.   1.   1.   1.   1.   1.\n   1.   1.   1.   1.   1.   1.   1.   1.   1.   1.   1.   1.   1.   1.\n   1.   1.   1.   1.   1.   1.   1.   1.   1.   1.   1.   1.]\n"
          ]
=======
      "execution_count": 18,
      "outputs": [
        {
          "output_type": "stream",
          "text": [
            "-105680.0 [ 0. 15. 30. 70. 60. 45.  1.  1.  1.  1.  1.  1.]\n"
          ],
          "name": "stdout"
>>>>>>> d606e2aeb59da93608c56f6a8c7a6bc533ce68cf
        }
      ]
    },
    {
      "cell_type": "markdown",
      "metadata": {
        "id": "pou-xP5MYVuR"
      },
      "source": [
        "# 3. Solve the problem using D-Wave"
      ]
    },
    {
      "cell_type": "code",
      "metadata": {
        "id": "wtwrodHZYVuR",
        "colab": {
          "base_uri": "https://localhost:8080/"
        },
        "outputId": "f3615737-d630-4f46-f10f-760c22171631"
      },
      "source": [
        "# take a look at https://quantum-computing.ibm.com/lab/docs/iql/optimization\n",
        "\n",
        "#from qiskit_optimization import QuadraticProgram\n",
        "#from qiskit_optimization.translators import from_docplex_mp\n",
        "\n",
        "from qiskit.optimization import QuadraticProgram\n",
        "\n",
        "# load from a Docplex model\n",
        "mod = QuadraticProgram()\n",
        "mod.from_docplex(model)\n",
        "print(mod.export_as_lp_string())"
      ],
<<<<<<< HEAD
      "execution_count": 100,
      "outputs": [
        {
          "output_type": "stream",
          "name": "stdout",
          "text": [
            "\\ This file has been generated by DOcplex\n\\ ENCODING=ISO-8859-1\n\\Problem name: docplex_model2\n\nMinimize\n obj: - 656 x0 - 736 x1 - 624 x2 - 784 x3 - 864 x4 - 752 x5 - 656 x6 - 608 x7\n      - 688 x8 - 528 x9 - 672 x10 - 752 x11 - 784 x12 - 672 x13 - 752 x14\n      - 592 x15 - 800 x16 - 880 x17 - 720 x18 - 672 x19 - 624 x20 - 656 x21\n      - 544 x22 - 688 x23 - 720 x24 - 800 x25 - 688 x26 - 720 x27 - 608 x28\n      - 816 x29 - 848 x30 - 736 x31 - 688 x32 - 592 x33 - 672 x34 - 560 x35\n      - 656 x36 - 736 x37 - 816 x38 - 656 x39 - 736 x40 - 624 x41 - 784 x42\n      - 864 x43 - 752 x44 - 656 x45 - 608 x46 - 688 x47 - 528 x48 - 672 x49\n      - 752 x50 - 784 x51 - 672 x52 - 752 x53 - 592 x54 - 800 x55 - 880 x56\n      - 720 x57 - 672 x58 - 624 x59 - 656 x60 - 544 x61 - 688 x62 - 720 x63\n      - 800 x64 - 688 x65 - 720 x66 - 608 x67 - 816 x68 - 848 x69 - 736 x70\n      - 688 x71 - 592 x72 - 672 x73 - 560 x74 - 656 x75 - 736 x76 - 816 x77\n      - 656 x78 - 736 x79 - 624 x80 - 784 x81 - 864 x82 - 752 x83 - 656 x84\n      - 608 x85 - 688 x86 - 528 x87 - 672 x88 - 752 x89\nSubject To\n _L_EXPR_1: x0 - 40 x90 <= 0\n _L_EXPR_2: x1 - 30 x91 <= 0\n _L_EXPR_3: x2 - 30 x92 <= 0\n _L_EXPR_4: x3 - 100 x93 <= 0\n _L_EXPR_5: x4 - 60 x94 <= 0\n _L_EXPR_6: x5 - 45 x95 <= 0\n _L_EXPR_7: x6 - 40 x96 <= 0\n _L_EXPR_8: x7 - 30 x97 <= 0\n _L_EXPR_9: x8 - 30 x98 <= 0\n _L_EXPR_10: x9 - 100 x99 <= 0\n _L_EXPR_11: x10 - 60 x100 <= 0\n _L_EXPR_12: x11 - 45 x101 <= 0\n _L_EXPR_13: x12 - 40 x102 <= 0\n _L_EXPR_14: x13 - 30 x103 <= 0\n _L_EXPR_15: x14 - 30 x104 <= 0\n _L_EXPR_16: x15 - 100 x105 <= 0\n _L_EXPR_17: x16 - 60 x106 <= 0\n _L_EXPR_18: x17 - 45 x107 <= 0\n _L_EXPR_19: x18 - 40 x108 <= 0\n _L_EXPR_20: x19 - 30 x109 <= 0\n _L_EXPR_21: x20 - 30 x110 <= 0\n _L_EXPR_22: x21 - 100 x111 <= 0\n _L_EXPR_23: x22 - 60 x112 <= 0\n _L_EXPR_24: x23 - 45 x113 <= 0\n _L_EXPR_25: x24 - 40 x114 <= 0\n _L_EXPR_26: x25 - 30 x115 <= 0\n _L_EXPR_27: x26 - 30 x116 <= 0\n _L_EXPR_28: x27 - 100 x117 <= 0\n _L_EXPR_29: x28 - 60 x118 <= 0\n _L_EXPR_30: x29 - 45 x119 <= 0\n _L_EXPR_31: x30 - 40 x120 <= 0\n _L_EXPR_32: x31 - 30 x121 <= 0\n _L_EXPR_33: x32 - 30 x122 <= 0\n _L_EXPR_34: x33 - 100 x123 <= 0\n _L_EXPR_35: x34 - 60 x124 <= 0\n _L_EXPR_36: x35 - 45 x125 <= 0\n _L_EXPR_37: x36 - 40 x126 <= 0\n _L_EXPR_38: x37 - 30 x127 <= 0\n _L_EXPR_39: x38 - 30 x128 <= 0\n _L_EXPR_40: x39 - 100 x129 <= 0\n _L_EXPR_41: x40 - 60 x130 <= 0\n _L_EXPR_42: x41 - 45 x131 <= 0\n _L_EXPR_43: x42 - 40 x132 <= 0\n _L_EXPR_44: x43 - 30 x133 <= 0\n _L_EXPR_45: x44 - 30 x134 <= 0\n _L_EXPR_46: x45 - 100 x135 <= 0\n _L_EXPR_47: x46 - 60 x136 <= 0\n _L_EXPR_48: x47 - 45 x137 <= 0\n _L_EXPR_49: x48 - 40 x138 <= 0\n _L_EXPR_50: x49 - 30 x139 <= 0\n _L_EXPR_51: x50 - 30 x140 <= 0\n _L_EXPR_52: x51 - 100 x141 <= 0\n _L_EXPR_53: x52 - 60 x142 <= 0\n _L_EXPR_54: x53 - 45 x143 <= 0\n _L_EXPR_55: x54 - 40 x144 <= 0\n _L_EXPR_56: x55 - 30 x145 <= 0\n _L_EXPR_57: x56 - 30 x146 <= 0\n _L_EXPR_58: x57 - 100 x147 <= 0\n _L_EXPR_59: x58 - 60 x148 <= 0\n _L_EXPR_60: x59 - 45 x149 <= 0\n _L_EXPR_61: x60 - 40 x150 <= 0\n _L_EXPR_62: x61 - 30 x151 <= 0\n _L_EXPR_63: x62 - 30 x152 <= 0\n _L_EXPR_64: x63 - 100 x153 <= 0\n _L_EXPR_65: x64 - 60 x154 <= 0\n _L_EXPR_66: x65 - 45 x155 <= 0\n _L_EXPR_67: x66 - 40 x156 <= 0\n _L_EXPR_68: x67 - 30 x157 <= 0\n _L_EXPR_69: x68 - 30 x158 <= 0\n _L_EXPR_70: x69 - 100 x159 <= 0\n _L_EXPR_71: x70 - 60 x160 <= 0\n _L_EXPR_72: x71 - 45 x161 <= 0\n _L_EXPR_73: x72 - 40 x162 <= 0\n _L_EXPR_74: x73 - 30 x163 <= 0\n _L_EXPR_75: x74 - 30 x164 <= 0\n _L_EXPR_76: x75 - 100 x165 <= 0\n _L_EXPR_77: x76 - 60 x166 <= 0\n _L_EXPR_78: x77 - 45 x167 <= 0\n _L_EXPR_79: x78 - 40 x168 <= 0\n _L_EXPR_80: x79 - 30 x169 <= 0\n _L_EXPR_81: x80 - 30 x170 <= 0\n _L_EXPR_82: x81 - 100 x171 <= 0\n _L_EXPR_83: x82 - 60 x172 <= 0\n _L_EXPR_84: x83 - 45 x173 <= 0\n _L_EXPR_85: x84 - 40 x174 <= 0\n _L_EXPR_86: x85 - 30 x175 <= 0\n _L_EXPR_87: x86 - 30 x176 <= 0\n _L_EXPR_88: x87 - 100 x177 <= 0\n _L_EXPR_89: x88 - 60 x178 <= 0\n _L_EXPR_90: x89 - 45 x179 <= 0\n _L_EXPR_91: x0 >= 0\n _L_EXPR_92: x1 >= 0\n _L_EXPR_93: x2 >= 0\n _L_EXPR_94: x3 >= 0\n _L_EXPR_95: x4 >= 0\n _L_EXPR_96: x5 >= 0\n _L_EXPR_97: x6 >= 0\n _L_EXPR_98: x7 >= 0\n _L_EXPR_99: x8 >= 0\n _L_EXPR_100: x9 >= 0\n _L_EXPR_101: x10 >= 0\n _L_EXPR_102: x11 >= 0\n _L_EXPR_103: x12 >= 0\n _L_EXPR_104: x13 >= 0\n _L_EXPR_105: x14 >= 0\n _L_EXPR_106: x15 >= 0\n _L_EXPR_107: x16 >= 0\n _L_EXPR_108: x17 >= 0\n _L_EXPR_109: x18 >= 0\n _L_EXPR_110: x19 >= 0\n _L_EXPR_111: x20 >= 0\n _L_EXPR_112: x21 >= 0\n _L_EXPR_113: x22 >= 0\n _L_EXPR_114: x23 >= 0\n _L_EXPR_115: x24 >= 0\n _L_EXPR_116: x25 >= 0\n _L_EXPR_117: x26 >= 0\n _L_EXPR_118: x27 >= 0\n _L_EXPR_119: x28 >= 0\n _L_EXPR_120: x29 >= 0\n _L_EXPR_121: x30 >= 0\n _L_EXPR_122: x31 >= 0\n _L_EXPR_123: x32 >= 0\n _L_EXPR_124: x33 >= 0\n _L_EXPR_125: x34 >= 0\n _L_EXPR_126: x35 >= 0\n _L_EXPR_127: x36 >= 0\n _L_EXPR_128: x37 >= 0\n _L_EXPR_129: x38 >= 0\n _L_EXPR_130: x39 >= 0\n _L_EXPR_131: x40 >= 0\n _L_EXPR_132: x41 >= 0\n _L_EXPR_133: x42 >= 0\n _L_EXPR_134: x43 >= 0\n _L_EXPR_135: x44 >= 0\n _L_EXPR_136: x45 >= 0\n _L_EXPR_137: x46 >= 0\n _L_EXPR_138: x47 >= 0\n _L_EXPR_139: x48 >= 0\n _L_EXPR_140: x49 >= 0\n _L_EXPR_141: x50 >= 0\n _L_EXPR_142: x51 >= 0\n _L_EXPR_143: x52 >= 0\n _L_EXPR_144: x53 >= 0\n _L_EXPR_145: x54 >= 0\n _L_EXPR_146: x55 >= 0\n _L_EXPR_147: x56 >= 0\n _L_EXPR_148: x57 >= 0\n _L_EXPR_149: x58 >= 0\n _L_EXPR_150: x59 >= 0\n _L_EXPR_151: x60 >= 0\n _L_EXPR_152: x61 >= 0\n _L_EXPR_153: x62 >= 0\n _L_EXPR_154: x63 >= 0\n _L_EXPR_155: x64 >= 0\n _L_EXPR_156: x65 >= 0\n _L_EXPR_157: x66 >= 0\n _L_EXPR_158: x67 >= 0\n _L_EXPR_159: x68 >= 0\n _L_EXPR_160: x69 >= 0\n _L_EXPR_161: x70 >= 0\n _L_EXPR_162: x71 >= 0\n _L_EXPR_163: x72 >= 0\n _L_EXPR_164: x73 >= 0\n _L_EXPR_165: x74 >= 0\n _L_EXPR_166: x75 >= 0\n _L_EXPR_167: x76 >= 0\n _L_EXPR_168: x77 >= 0\n _L_EXPR_169: x78 >= 0\n _L_EXPR_170: x79 >= 0\n _L_EXPR_171: x80 >= 0\n _L_EXPR_172: x81 >= 0\n _L_EXPR_173: x82 >= 0\n _L_EXPR_174: x83 >= 0\n _L_EXPR_175: x84 >= 0\n _L_EXPR_176: x85 >= 0\n _L_EXPR_177: x86 >= 0\n _L_EXPR_178: x87 >= 0\n _L_EXPR_179: x88 >= 0\n _L_EXPR_180: x89 >= 0\n _L_EXPR_181: x0 <= 40\n _L_EXPR_182: x1 <= 30\n _L_EXPR_183: x2 <= 30\n _L_EXPR_184: x3 <= 100\n _L_EXPR_185: x4 <= 60\n _L_EXPR_186: x5 <= 45\n _L_EXPR_187: x6 <= 40\n _L_EXPR_188: x7 <= 30\n _L_EXPR_189: x8 <= 30\n _L_EXPR_190: x9 <= 100\n _L_EXPR_191: x10 <= 60\n _L_EXPR_192: x11 <= 45\n _L_EXPR_193: x12 <= 40\n _L_EXPR_194: x13 <= 30\n _L_EXPR_195: x14 <= 30\n _L_EXPR_196: x15 <= 100\n _L_EXPR_197: x16 <= 60\n _L_EXPR_198: x17 <= 45\n _L_EXPR_199: x18 <= 40\n _L_EXPR_200: x19 <= 30\n _L_EXPR_201: x20 <= 30\n _L_EXPR_202: x21 <= 100\n _L_EXPR_203: x22 <= 60\n _L_EXPR_204: x23 <= 45\n _L_EXPR_205: x24 <= 40\n _L_EXPR_206: x25 <= 30\n _L_EXPR_207: x26 <= 30\n _L_EXPR_208: x27 <= 100\n _L_EXPR_209: x28 <= 60\n _L_EXPR_210: x29 <= 45\n _L_EXPR_211: x30 <= 40\n _L_EXPR_212: x31 <= 30\n _L_EXPR_213: x32 <= 30\n _L_EXPR_214: x33 <= 100\n _L_EXPR_215: x34 <= 60\n _L_EXPR_216: x35 <= 45\n _L_EXPR_217: x36 <= 40\n _L_EXPR_218: x37 <= 30\n _L_EXPR_219: x38 <= 30\n _L_EXPR_220: x39 <= 100\n _L_EXPR_221: x40 <= 60\n _L_EXPR_222: x41 <= 45\n _L_EXPR_223: x42 <= 40\n _L_EXPR_224: x43 <= 30\n _L_EXPR_225: x44 <= 30\n _L_EXPR_226: x45 <= 100\n _L_EXPR_227: x46 <= 60\n _L_EXPR_228: x47 <= 45\n _L_EXPR_229: x48 <= 40\n _L_EXPR_230: x49 <= 30\n _L_EXPR_231: x50 <= 30\n _L_EXPR_232: x51 <= 100\n _L_EXPR_233: x52 <= 60\n _L_EXPR_234: x53 <= 45\n _L_EXPR_235: x54 <= 40\n _L_EXPR_236: x55 <= 30\n _L_EXPR_237: x56 <= 30\n _L_EXPR_238: x57 <= 100\n _L_EXPR_239: x58 <= 60\n _L_EXPR_240: x59 <= 45\n _L_EXPR_241: x60 <= 40\n _L_EXPR_242: x61 <= 30\n _L_EXPR_243: x62 <= 30\n _L_EXPR_244: x63 <= 100\n _L_EXPR_245: x64 <= 60\n _L_EXPR_246: x65 <= 45\n _L_EXPR_247: x66 <= 40\n _L_EXPR_248: x67 <= 30\n _L_EXPR_249: x68 <= 30\n _L_EXPR_250: x69 <= 100\n _L_EXPR_251: x70 <= 60\n _L_EXPR_252: x71 <= 45\n _L_EXPR_253: x72 <= 40\n _L_EXPR_254: x73 <= 30\n _L_EXPR_255: x74 <= 30\n _L_EXPR_256: x75 <= 100\n _L_EXPR_257: x76 <= 60\n _L_EXPR_258: x77 <= 45\n _L_EXPR_259: x78 <= 40\n _L_EXPR_260: x79 <= 30\n _L_EXPR_261: x80 <= 30\n _L_EXPR_262: x81 <= 100\n _L_EXPR_263: x82 <= 60\n _L_EXPR_264: x83 <= 45\n _L_EXPR_265: x84 <= 40\n _L_EXPR_266: x85 <= 30\n _L_EXPR_267: x86 <= 30\n _L_EXPR_268: x87 <= 100\n _L_EXPR_269: x88 <= 60\n _L_EXPR_270: x89 <= 45\n _L_EXPR_271: x0 + x29 + x58 <= 81\n _L_EXPR_272: x1 + x30 + x59 <= 75\n _L_EXPR_273: x2 + x31 + x60 <= 16\n _L_EXPR_274: x3 + x32 + x61 <= 78\n _L_EXPR_275: x4 + x33 + x62 <= 29\n _L_EXPR_276: x5 + x34 + x63 <= 50\n _L_EXPR_277: x6 + x35 + x64 <= 64\n _L_EXPR_278: x7 + x36 + x65 <= 56\n _L_EXPR_279: x8 + x37 + x66 <= 41\n _L_EXPR_280: x9 + x38 + x67 <= 64\n _L_EXPR_281: x10 + x39 + x68 + x88 <= 223\n _L_EXPR_282: x11 + x40 + x69 + x89 <= 93\n _L_EXPR_283: x12 + x41 + x70 <= 45\n _L_EXPR_284: x13 + x42 + x71 <= 34\n _L_EXPR_285: x14 + x43 + x72 <= 39\n _L_EXPR_286: x15 + x44 + x73 + x87 <= 191\n _L_EXPR_287: x16 + x45 + x74 <= 57\n _L_EXPR_288: x17 + x46 + x75 <= 44\n _L_EXPR_289: x18 + x47 + x76 <= 49\n _L_EXPR_290: x19 + x48 + x77 <= 14\n _L_EXPR_291: x20 + x49 + x78 <= 155\n _L_EXPR_292: x21 + x50 + x79 <= 88\n _L_EXPR_293: x22 + x51 + x80 <= 121\n _L_EXPR_294: x23 + x52 + x81 <= 35\n _L_EXPR_295: x24 + x53 + x82 <= 76\n _L_EXPR_296: x25 + x54 + x83 <= 9\n _L_EXPR_297: x26 + x55 + x84 <= 72\n _L_EXPR_298: x27 + x56 + x85 <= 41\n _L_EXPR_299: x28 + x57 + x86 <= 4\n\nBounds\n 0 <= x90 <= 1\n 0 <= x91 <= 1\n 0 <= x92 <= 1\n 0 <= x93 <= 1\n 0 <= x94 <= 1\n 0 <= x95 <= 1\n 0 <= x96 <= 1\n 0 <= x97 <= 1\n 0 <= x98 <= 1\n 0 <= x99 <= 1\n 0 <= x100 <= 1\n 0 <= x101 <= 1\n 0 <= x102 <= 1\n 0 <= x103 <= 1\n 0 <= x104 <= 1\n 0 <= x105 <= 1\n 0 <= x106 <= 1\n 0 <= x107 <= 1\n 0 <= x108 <= 1\n 0 <= x109 <= 1\n 0 <= x110 <= 1\n 0 <= x111 <= 1\n 0 <= x112 <= 1\n 0 <= x113 <= 1\n 0 <= x114 <= 1\n 0 <= x115 <= 1\n 0 <= x116 <= 1\n 0 <= x117 <= 1\n 0 <= x118 <= 1\n 0 <= x119 <= 1\n 0 <= x120 <= 1\n 0 <= x121 <= 1\n 0 <= x122 <= 1\n 0 <= x123 <= 1\n 0 <= x124 <= 1\n 0 <= x125 <= 1\n 0 <= x126 <= 1\n 0 <= x127 <= 1\n 0 <= x128 <= 1\n 0 <= x129 <= 1\n 0 <= x130 <= 1\n 0 <= x131 <= 1\n 0 <= x132 <= 1\n 0 <= x133 <= 1\n 0 <= x134 <= 1\n 0 <= x135 <= 1\n 0 <= x136 <= 1\n 0 <= x137 <= 1\n 0 <= x138 <= 1\n 0 <= x139 <= 1\n 0 <= x140 <= 1\n 0 <= x141 <= 1\n 0 <= x142 <= 1\n 0 <= x143 <= 1\n 0 <= x144 <= 1\n 0 <= x145 <= 1\n 0 <= x146 <= 1\n 0 <= x147 <= 1\n 0 <= x148 <= 1\n 0 <= x149 <= 1\n 0 <= x150 <= 1\n 0 <= x151 <= 1\n 0 <= x152 <= 1\n 0 <= x153 <= 1\n 0 <= x154 <= 1\n 0 <= x155 <= 1\n 0 <= x156 <= 1\n 0 <= x157 <= 1\n 0 <= x158 <= 1\n 0 <= x159 <= 1\n 0 <= x160 <= 1\n 0 <= x161 <= 1\n 0 <= x162 <= 1\n 0 <= x163 <= 1\n 0 <= x164 <= 1\n 0 <= x165 <= 1\n 0 <= x166 <= 1\n 0 <= x167 <= 1\n 0 <= x168 <= 1\n 0 <= x169 <= 1\n 0 <= x170 <= 1\n 0 <= x171 <= 1\n 0 <= x172 <= 1\n 0 <= x173 <= 1\n 0 <= x174 <= 1\n 0 <= x175 <= 1\n 0 <= x176 <= 1\n 0 <= x177 <= 1\n 0 <= x178 <= 1\n 0 <= x179 <= 1\n\nBinaries\n x90 x91 x92 x93 x94 x95 x96 x97 x98 x99 x100 x101 x102 x103 x104 x105 x106 x107\n x108 x109 x110 x111 x112 x113 x114 x115 x116 x117 x118 x119 x120 x121 x122 x123\n x124 x125 x126 x127 x128 x129 x130 x131 x132 x133 x134 x135 x136 x137 x138 x139\n x140 x141 x142 x143 x144 x145 x146 x147 x148 x149 x150 x151 x152 x153 x154 x155\n x156 x157 x158 x159 x160 x161 x162 x163 x164 x165 x166 x167 x168 x169 x170 x171\n x172 x173 x174 x175 x176 x177 x178 x179\n\nGenerals\n x0 x1 x2 x3 x4 x5 x6 x7 x8 x9 x10 x11 x12 x13 x14 x15 x16 x17 x18 x19 x20 x21\n x22 x23 x24 x25 x26 x27 x28 x29 x30 x31 x32 x33 x34 x35 x36 x37 x38 x39 x40 x41\n x42 x43 x44 x45 x46 x47 x48 x49 x50 x51 x52 x53 x54 x55 x56 x57 x58 x59 x60 x61\n x62 x63 x64 x65 x66 x67 x68 x69 x70 x71 x72 x73 x74 x75 x76 x77 x78 x79 x80 x81\n x82 x83 x84 x85 x86 x87 x88 x89\nEnd\n\n"
          ]
=======
      "execution_count": 19,
      "outputs": [
        {
          "output_type": "stream",
          "text": [
            "/usr/local/lib/python3.7/dist-packages/qiskit/aqua/__init__.py:86: DeprecationWarning: The package qiskit.aqua is deprecated. It was moved/refactored to qiskit-terra For more information see <https://github.com/Qiskit/qiskit-aqua/blob/main/README.md#migration-guide>\n",
            "  warn_package('aqua', 'qiskit-terra')\n",
            "/usr/local/lib/python3.7/dist-packages/qiskit/optimization/__init__.py:92: DeprecationWarning: The package qiskit.optimization is deprecated. It was moved/refactored to qiskit_optimization (pip install qiskit-optimization). For more information see <https://github.com/Qiskit/qiskit-aqua/blob/main/README.md#migration-guide>\n",
            "  warn_package('optimization', 'qiskit_optimization', 'qiskit-optimization')\n"
          ],
          "name": "stderr"
        },
        {
          "output_type": "stream",
          "text": [
            "\\ This file has been generated by DOcplex\n",
            "\\ ENCODING=ISO-8859-1\n",
            "\\Problem name: docplex_model1\n",
            "\n",
            "Minimize\n",
            " obj: - 464 x0 - 480 x1 - 496 x2 - 464 x3 - 480 x4 - 496 x5\n",
            "Subject To\n",
            " _L_EXPR_1: x0 - 40 x6 <= 0\n",
            " _L_EXPR_2: x1 - 30 x7 <= 0\n",
            " _L_EXPR_3: x2 - 30 x8 <= 0\n",
            " _L_EXPR_4: x3 - 100 x9 <= 0\n",
            " _L_EXPR_5: x4 - 60 x10 <= 0\n",
            " _L_EXPR_6: x5 - 45 x11 <= 0\n",
            " _L_EXPR_7: x0 >= 0\n",
            " _L_EXPR_8: x1 >= 0\n",
            " _L_EXPR_9: x2 >= 0\n",
            " _L_EXPR_10: x3 >= 0\n",
            " _L_EXPR_11: x4 >= 0\n",
            " _L_EXPR_12: x5 >= 0\n",
            " _L_EXPR_13: x0 <= 40\n",
            " _L_EXPR_14: x1 <= 30\n",
            " _L_EXPR_15: x2 <= 30\n",
            " _L_EXPR_16: x3 <= 100\n",
            " _L_EXPR_17: x4 <= 60\n",
            " _L_EXPR_18: x5 <= 45\n",
            " _L_EXPR_19: x2 + x3 <= 100\n",
            " _L_EXPR_20: x0 + x1 + x4 + x5 <= 120\n",
            "\n",
            "Bounds\n",
            " 0 <= x6 <= 1\n",
            " 0 <= x7 <= 1\n",
            " 0 <= x8 <= 1\n",
            " 0 <= x9 <= 1\n",
            " 0 <= x10 <= 1\n",
            " 0 <= x11 <= 1\n",
            "\n",
            "Binaries\n",
            " x6 x7 x8 x9 x10 x11\n",
            "\n",
            "Generals\n",
            " x0 x1 x2 x3 x4 x5\n",
            "End\n",
            "\n"
          ],
          "name": "stdout"
>>>>>>> d606e2aeb59da93608c56f6a8c7a6bc533ce68cf
        }
      ]
    },
    {
      "cell_type": "code",
      "metadata": {
        "colab": {
          "base_uri": "https://localhost:8080/"
        },
        "id": "7QsOma-VFkAk",
        "outputId": "aea904e4-b0bd-4b42-adf2-ed793700de88"
      },
      "source": [
        "print('constant:\\t\\t\\t', mod.objective.constant)\n",
        "\n",
        "print('linear dict:\\t\\t\\t', mod.objective.linear.to_dict())\n",
        "print('linear array:\\t\\t\\t', mod.objective.linear.to_array())\n",
        "print('linear array as sparse matrix:\\n', mod.objective.linear.coefficients, '\\n')\n",
        "\n",
        "print('quadratic dict w/ index:\\t', mod.objective.quadratic.to_dict())\n",
        "print('quadratic dict w/ name:\\t\\t', mod.objective.quadratic.to_dict(use_name=True))\n",
        "print('symmetric quadratic dict w/ name:\\t', mod.objective.quadratic.to_dict(use_name=True, symmetric=True))\n",
        "print('quadratic matrix:\\n', mod.objective.quadratic.to_array(),'\\n')\n",
        "print('symmetric quadratic matrix:\\n', mod.objective.quadratic.to_array(symmetric=True),'\\n')\n",
        "print('quadratic matrix as sparse matrix:\\n', mod.objective.quadratic.coefficients)\n"
      ],
<<<<<<< HEAD
      "execution_count": 101,
      "outputs": [
        {
          "output_type": "stream",
          "name": "stdout",
          "text": [
            "constant:\t\t\t 0.0\nlinear dict:\t\t\t {0: -656.0, 1: -736.0, 2: -624.0, 3: -784.0, 4: -864.0, 5: -752.0, 6: -656.0, 7: -608.0, 8: -688.0, 9: -528.0, 10: -672.0, 11: -752.0, 12: -784.0, 13: -672.0, 14: -752.0, 15: -592.0, 16: -800.0, 17: -880.0, 18: -720.0, 19: -672.0, 20: -624.0, 21: -656.0, 22: -544.0, 23: -688.0, 24: -720.0, 25: -800.0, 26: -688.0, 27: -720.0, 28: -608.0, 29: -816.0, 30: -848.0, 31: -736.0, 32: -688.0, 33: -592.0, 34: -672.0, 35: -560.0, 36: -656.0, 37: -736.0, 38: -816.0, 39: -656.0, 40: -736.0, 41: -624.0, 42: -784.0, 43: -864.0, 44: -752.0, 45: -656.0, 46: -608.0, 47: -688.0, 48: -528.0, 49: -672.0, 50: -752.0, 51: -784.0, 52: -672.0, 53: -752.0, 54: -592.0, 55: -800.0, 56: -880.0, 57: -720.0, 58: -672.0, 59: -624.0, 60: -656.0, 61: -544.0, 62: -688.0, 63: -720.0, 64: -800.0, 65: -688.0, 66: -720.0, 67: -608.0, 68: -816.0, 69: -848.0, 70: -736.0, 71: -688.0, 72: -592.0, 73: -672.0, 74: -560.0, 75: -656.0, 76: -736.0, 77: -816.0, 78: -656.0, 79: -736.0, 80: -624.0, 81: -784.0, 82: -864.0, 83: -752.0, 84: -656.0, 85: -608.0, 86: -688.0, 87: -528.0, 88: -672.0, 89: -752.0}\nlinear array:\t\t\t [-656. -736. -624. -784. -864. -752. -656. -608. -688. -528. -672. -752.\n -784. -672. -752. -592. -800. -880. -720. -672. -624. -656. -544. -688.\n -720. -800. -688. -720. -608. -816. -848. -736. -688. -592. -672. -560.\n -656. -736. -816. -656. -736. -624. -784. -864. -752. -656. -608. -688.\n -528. -672. -752. -784. -672. -752. -592. -800. -880. -720. -672. -624.\n -656. -544. -688. -720. -800. -688. -720. -608. -816. -848. -736. -688.\n -592. -672. -560. -656. -736. -816. -656. -736. -624. -784. -864. -752.\n -656. -608. -688. -528. -672. -752.    0.    0.    0.    0.    0.    0.\n    0.    0.    0.    0.    0.    0.    0.    0.    0.    0.    0.    0.\n    0.    0.    0.    0.    0.    0.    0.    0.    0.    0.    0.    0.\n    0.    0.    0.    0.    0.    0.    0.    0.    0.    0.    0.    0.\n    0.    0.    0.    0.    0.    0.    0.    0.    0.    0.    0.    0.\n    0.    0.    0.    0.    0.    0.    0.    0.    0.    0.    0.    0.\n    0.    0.    0.    0.    0.    0.    0.    0.    0.    0.    0.    0.\n    0.    0.    0.    0.    0.    0.    0.    0.    0.    0.    0.    0.]\nlinear array as sparse matrix:\n   (0, 0)\t-656.0\n  (0, 1)\t-736.0\n  (0, 2)\t-624.0\n  (0, 3)\t-784.0\n  (0, 4)\t-864.0\n  (0, 5)\t-752.0\n  (0, 6)\t-656.0\n  (0, 7)\t-608.0\n  (0, 8)\t-688.0\n  (0, 9)\t-528.0\n  (0, 10)\t-672.0\n  (0, 11)\t-752.0\n  (0, 12)\t-784.0\n  (0, 13)\t-672.0\n  (0, 14)\t-752.0\n  (0, 15)\t-592.0\n  (0, 16)\t-800.0\n  (0, 17)\t-880.0\n  (0, 18)\t-720.0\n  (0, 19)\t-672.0\n  (0, 20)\t-624.0\n  (0, 21)\t-656.0\n  (0, 22)\t-544.0\n  (0, 23)\t-688.0\n  (0, 24)\t-720.0\n  :\t:\n  (0, 65)\t-688.0\n  (0, 66)\t-720.0\n  (0, 67)\t-608.0\n  (0, 68)\t-816.0\n  (0, 69)\t-848.0\n  (0, 70)\t-736.0\n  (0, 71)\t-688.0\n  (0, 72)\t-592.0\n  (0, 73)\t-672.0\n  (0, 74)\t-560.0\n  (0, 75)\t-656.0\n  (0, 76)\t-736.0\n  (0, 77)\t-816.0\n  (0, 78)\t-656.0\n  (0, 79)\t-736.0\n  (0, 80)\t-624.0\n  (0, 81)\t-784.0\n  (0, 82)\t-864.0\n  (0, 83)\t-752.0\n  (0, 84)\t-656.0\n  (0, 85)\t-608.0\n  (0, 86)\t-688.0\n  (0, 87)\t-528.0\n  (0, 88)\t-672.0\n  (0, 89)\t-752.0 \n\nquadratic dict w/ index:\t {}\nquadratic dict w/ name:\t\t {}\nsymmetric quadratic dict w/ name:\t {}\nquadratic matrix:\n [[0. 0. 0. ... 0. 0. 0.]\n [0. 0. 0. ... 0. 0. 0.]\n [0. 0. 0. ... 0. 0. 0.]\n ...\n [0. 0. 0. ... 0. 0. 0.]\n [0. 0. 0. ... 0. 0. 0.]\n [0. 0. 0. ... 0. 0. 0.]] \n\nsymmetric quadratic matrix:\n [[0. 0. 0. ... 0. 0. 0.]\n [0. 0. 0. ... 0. 0. 0.]\n [0. 0. 0. ... 0. 0. 0.]\n ...\n [0. 0. 0. ... 0. 0. 0.]\n [0. 0. 0. ... 0. 0. 0.]\n [0. 0. 0. ... 0. 0. 0.]] \n\nquadratic matrix as sparse matrix:\n \n"
          ]
        }
      ]
    },
    {
      "cell_type": "code",
      "execution_count": 102,
      "metadata": {},
      "outputs": [
        {
          "output_type": "stream",
          "name": "stdout",
          "text": [
            "\\ This file has been generated by DOcplex\n\\ ENCODING=ISO-8859-1\n\\Problem name: docplex_model2\n\nMinimize\n obj: - 656 x0 - 736 x1 - 624 x2 - 784 x3 - 864 x4 - 752 x5 - 656 x6 - 608 x7\n      - 688 x8 - 528 x9 - 672 x10 - 752 x11 - 784 x12 - 672 x13 - 752 x14\n      - 592 x15 - 800 x16 - 880 x17 - 720 x18 - 672 x19 - 624 x20 - 656 x21\n      - 544 x22 - 688 x23 - 720 x24 - 800 x25 - 688 x26 - 720 x27 - 608 x28\n      - 816 x29 - 848 x30 - 736 x31 - 688 x32 - 592 x33 - 672 x34 - 560 x35\n      - 656 x36 - 736 x37 - 816 x38 - 656 x39 - 736 x40 - 624 x41 - 784 x42\n      - 864 x43 - 752 x44 - 656 x45 - 608 x46 - 688 x47 - 528 x48 - 672 x49\n      - 752 x50 - 784 x51 - 672 x52 - 752 x53 - 592 x54 - 800 x55 - 880 x56\n      - 720 x57 - 672 x58 - 624 x59 - 656 x60 - 544 x61 - 688 x62 - 720 x63\n      - 800 x64 - 688 x65 - 720 x66 - 608 x67 - 816 x68 - 848 x69 - 736 x70\n      - 688 x71 - 592 x72 - 672 x73 - 560 x74 - 656 x75 - 736 x76 - 816 x77\n      - 656 x78 - 736 x79 - 624 x80 - 784 x81 - 864 x82 - 752 x83 - 656 x84\n      - 608 x85 - 688 x86 - 528 x87 - 672 x88 - 752 x89\nSubject To\n _L_EXPR_1: x0 - 40 x90 <= 0\n _L_EXPR_2: x1 - 30 x91 <= 0\n _L_EXPR_3: x2 - 30 x92 <= 0\n _L_EXPR_4: x3 - 100 x93 <= 0\n _L_EXPR_5: x4 - 60 x94 <= 0\n _L_EXPR_6: x5 - 45 x95 <= 0\n _L_EXPR_7: x6 - 40 x96 <= 0\n _L_EXPR_8: x7 - 30 x97 <= 0\n _L_EXPR_9: x8 - 30 x98 <= 0\n _L_EXPR_10: x9 - 100 x99 <= 0\n _L_EXPR_11: x10 - 60 x100 <= 0\n _L_EXPR_12: x11 - 45 x101 <= 0\n _L_EXPR_13: x12 - 40 x102 <= 0\n _L_EXPR_14: x13 - 30 x103 <= 0\n _L_EXPR_15: x14 - 30 x104 <= 0\n _L_EXPR_16: x15 - 100 x105 <= 0\n _L_EXPR_17: x16 - 60 x106 <= 0\n _L_EXPR_18: x17 - 45 x107 <= 0\n _L_EXPR_19: x18 - 40 x108 <= 0\n _L_EXPR_20: x19 - 30 x109 <= 0\n _L_EXPR_21: x20 - 30 x110 <= 0\n _L_EXPR_22: x21 - 100 x111 <= 0\n _L_EXPR_23: x22 - 60 x112 <= 0\n _L_EXPR_24: x23 - 45 x113 <= 0\n _L_EXPR_25: x24 - 40 x114 <= 0\n _L_EXPR_26: x25 - 30 x115 <= 0\n _L_EXPR_27: x26 - 30 x116 <= 0\n _L_EXPR_28: x27 - 100 x117 <= 0\n _L_EXPR_29: x28 - 60 x118 <= 0\n _L_EXPR_30: x29 - 45 x119 <= 0\n _L_EXPR_31: x30 - 40 x120 <= 0\n _L_EXPR_32: x31 - 30 x121 <= 0\n _L_EXPR_33: x32 - 30 x122 <= 0\n _L_EXPR_34: x33 - 100 x123 <= 0\n _L_EXPR_35: x34 - 60 x124 <= 0\n _L_EXPR_36: x35 - 45 x125 <= 0\n _L_EXPR_37: x36 - 40 x126 <= 0\n _L_EXPR_38: x37 - 30 x127 <= 0\n _L_EXPR_39: x38 - 30 x128 <= 0\n _L_EXPR_40: x39 - 100 x129 <= 0\n _L_EXPR_41: x40 - 60 x130 <= 0\n _L_EXPR_42: x41 - 45 x131 <= 0\n _L_EXPR_43: x42 - 40 x132 <= 0\n _L_EXPR_44: x43 - 30 x133 <= 0\n _L_EXPR_45: x44 - 30 x134 <= 0\n _L_EXPR_46: x45 - 100 x135 <= 0\n _L_EXPR_47: x46 - 60 x136 <= 0\n _L_EXPR_48: x47 - 45 x137 <= 0\n _L_EXPR_49: x48 - 40 x138 <= 0\n _L_EXPR_50: x49 - 30 x139 <= 0\n _L_EXPR_51: x50 - 30 x140 <= 0\n _L_EXPR_52: x51 - 100 x141 <= 0\n _L_EXPR_53: x52 - 60 x142 <= 0\n _L_EXPR_54: x53 - 45 x143 <= 0\n _L_EXPR_55: x54 - 40 x144 <= 0\n _L_EXPR_56: x55 - 30 x145 <= 0\n _L_EXPR_57: x56 - 30 x146 <= 0\n _L_EXPR_58: x57 - 100 x147 <= 0\n _L_EXPR_59: x58 - 60 x148 <= 0\n _L_EXPR_60: x59 - 45 x149 <= 0\n _L_EXPR_61: x60 - 40 x150 <= 0\n _L_EXPR_62: x61 - 30 x151 <= 0\n _L_EXPR_63: x62 - 30 x152 <= 0\n _L_EXPR_64: x63 - 100 x153 <= 0\n _L_EXPR_65: x64 - 60 x154 <= 0\n _L_EXPR_66: x65 - 45 x155 <= 0\n _L_EXPR_67: x66 - 40 x156 <= 0\n _L_EXPR_68: x67 - 30 x157 <= 0\n _L_EXPR_69: x68 - 30 x158 <= 0\n _L_EXPR_70: x69 - 100 x159 <= 0\n _L_EXPR_71: x70 - 60 x160 <= 0\n _L_EXPR_72: x71 - 45 x161 <= 0\n _L_EXPR_73: x72 - 40 x162 <= 0\n _L_EXPR_74: x73 - 30 x163 <= 0\n _L_EXPR_75: x74 - 30 x164 <= 0\n _L_EXPR_76: x75 - 100 x165 <= 0\n _L_EXPR_77: x76 - 60 x166 <= 0\n _L_EXPR_78: x77 - 45 x167 <= 0\n _L_EXPR_79: x78 - 40 x168 <= 0\n _L_EXPR_80: x79 - 30 x169 <= 0\n _L_EXPR_81: x80 - 30 x170 <= 0\n _L_EXPR_82: x81 - 100 x171 <= 0\n _L_EXPR_83: x82 - 60 x172 <= 0\n _L_EXPR_84: x83 - 45 x173 <= 0\n _L_EXPR_85: x84 - 40 x174 <= 0\n _L_EXPR_86: x85 - 30 x175 <= 0\n _L_EXPR_87: x86 - 30 x176 <= 0\n _L_EXPR_88: x87 - 100 x177 <= 0\n _L_EXPR_89: x88 - 60 x178 <= 0\n _L_EXPR_90: x89 - 45 x179 <= 0\n _L_EXPR_91: x0 >= 0\n _L_EXPR_92: x1 >= 0\n _L_EXPR_93: x2 >= 0\n _L_EXPR_94: x3 >= 0\n _L_EXPR_95: x4 >= 0\n _L_EXPR_96: x5 >= 0\n _L_EXPR_97: x6 >= 0\n _L_EXPR_98: x7 >= 0\n _L_EXPR_99: x8 >= 0\n _L_EXPR_100: x9 >= 0\n _L_EXPR_101: x10 >= 0\n _L_EXPR_102: x11 >= 0\n _L_EXPR_103: x12 >= 0\n _L_EXPR_104: x13 >= 0\n _L_EXPR_105: x14 >= 0\n _L_EXPR_106: x15 >= 0\n _L_EXPR_107: x16 >= 0\n _L_EXPR_108: x17 >= 0\n _L_EXPR_109: x18 >= 0\n _L_EXPR_110: x19 >= 0\n _L_EXPR_111: x20 >= 0\n _L_EXPR_112: x21 >= 0\n _L_EXPR_113: x22 >= 0\n _L_EXPR_114: x23 >= 0\n _L_EXPR_115: x24 >= 0\n _L_EXPR_116: x25 >= 0\n _L_EXPR_117: x26 >= 0\n _L_EXPR_118: x27 >= 0\n _L_EXPR_119: x28 >= 0\n _L_EXPR_120: x29 >= 0\n _L_EXPR_121: x30 >= 0\n _L_EXPR_122: x31 >= 0\n _L_EXPR_123: x32 >= 0\n _L_EXPR_124: x33 >= 0\n _L_EXPR_125: x34 >= 0\n _L_EXPR_126: x35 >= 0\n _L_EXPR_127: x36 >= 0\n _L_EXPR_128: x37 >= 0\n _L_EXPR_129: x38 >= 0\n _L_EXPR_130: x39 >= 0\n _L_EXPR_131: x40 >= 0\n _L_EXPR_132: x41 >= 0\n _L_EXPR_133: x42 >= 0\n _L_EXPR_134: x43 >= 0\n _L_EXPR_135: x44 >= 0\n _L_EXPR_136: x45 >= 0\n _L_EXPR_137: x46 >= 0\n _L_EXPR_138: x47 >= 0\n _L_EXPR_139: x48 >= 0\n _L_EXPR_140: x49 >= 0\n _L_EXPR_141: x50 >= 0\n _L_EXPR_142: x51 >= 0\n _L_EXPR_143: x52 >= 0\n _L_EXPR_144: x53 >= 0\n _L_EXPR_145: x54 >= 0\n _L_EXPR_146: x55 >= 0\n _L_EXPR_147: x56 >= 0\n _L_EXPR_148: x57 >= 0\n _L_EXPR_149: x58 >= 0\n _L_EXPR_150: x59 >= 0\n _L_EXPR_151: x60 >= 0\n _L_EXPR_152: x61 >= 0\n _L_EXPR_153: x62 >= 0\n _L_EXPR_154: x63 >= 0\n _L_EXPR_155: x64 >= 0\n _L_EXPR_156: x65 >= 0\n _L_EXPR_157: x66 >= 0\n _L_EXPR_158: x67 >= 0\n _L_EXPR_159: x68 >= 0\n _L_EXPR_160: x69 >= 0\n _L_EXPR_161: x70 >= 0\n _L_EXPR_162: x71 >= 0\n _L_EXPR_163: x72 >= 0\n _L_EXPR_164: x73 >= 0\n _L_EXPR_165: x74 >= 0\n _L_EXPR_166: x75 >= 0\n _L_EXPR_167: x76 >= 0\n _L_EXPR_168: x77 >= 0\n _L_EXPR_169: x78 >= 0\n _L_EXPR_170: x79 >= 0\n _L_EXPR_171: x80 >= 0\n _L_EXPR_172: x81 >= 0\n _L_EXPR_173: x82 >= 0\n _L_EXPR_174: x83 >= 0\n _L_EXPR_175: x84 >= 0\n _L_EXPR_176: x85 >= 0\n _L_EXPR_177: x86 >= 0\n _L_EXPR_178: x87 >= 0\n _L_EXPR_179: x88 >= 0\n _L_EXPR_180: x89 >= 0\n _L_EXPR_181: x0 <= 40\n _L_EXPR_182: x1 <= 30\n _L_EXPR_183: x2 <= 30\n _L_EXPR_184: x3 <= 100\n _L_EXPR_185: x4 <= 60\n _L_EXPR_186: x5 <= 45\n _L_EXPR_187: x6 <= 40\n _L_EXPR_188: x7 <= 30\n _L_EXPR_189: x8 <= 30\n _L_EXPR_190: x9 <= 100\n _L_EXPR_191: x10 <= 60\n _L_EXPR_192: x11 <= 45\n _L_EXPR_193: x12 <= 40\n _L_EXPR_194: x13 <= 30\n _L_EXPR_195: x14 <= 30\n _L_EXPR_196: x15 <= 100\n _L_EXPR_197: x16 <= 60\n _L_EXPR_198: x17 <= 45\n _L_EXPR_199: x18 <= 40\n _L_EXPR_200: x19 <= 30\n _L_EXPR_201: x20 <= 30\n _L_EXPR_202: x21 <= 100\n _L_EXPR_203: x22 <= 60\n _L_EXPR_204: x23 <= 45\n _L_EXPR_205: x24 <= 40\n _L_EXPR_206: x25 <= 30\n _L_EXPR_207: x26 <= 30\n _L_EXPR_208: x27 <= 100\n _L_EXPR_209: x28 <= 60\n _L_EXPR_210: x29 <= 45\n _L_EXPR_211: x30 <= 40\n _L_EXPR_212: x31 <= 30\n _L_EXPR_213: x32 <= 30\n _L_EXPR_214: x33 <= 100\n _L_EXPR_215: x34 <= 60\n _L_EXPR_216: x35 <= 45\n _L_EXPR_217: x36 <= 40\n _L_EXPR_218: x37 <= 30\n _L_EXPR_219: x38 <= 30\n _L_EXPR_220: x39 <= 100\n _L_EXPR_221: x40 <= 60\n _L_EXPR_222: x41 <= 45\n _L_EXPR_223: x42 <= 40\n _L_EXPR_224: x43 <= 30\n _L_EXPR_225: x44 <= 30\n _L_EXPR_226: x45 <= 100\n _L_EXPR_227: x46 <= 60\n _L_EXPR_228: x47 <= 45\n _L_EXPR_229: x48 <= 40\n _L_EXPR_230: x49 <= 30\n _L_EXPR_231: x50 <= 30\n _L_EXPR_232: x51 <= 100\n _L_EXPR_233: x52 <= 60\n _L_EXPR_234: x53 <= 45\n _L_EXPR_235: x54 <= 40\n _L_EXPR_236: x55 <= 30\n _L_EXPR_237: x56 <= 30\n _L_EXPR_238: x57 <= 100\n _L_EXPR_239: x58 <= 60\n _L_EXPR_240: x59 <= 45\n _L_EXPR_241: x60 <= 40\n _L_EXPR_242: x61 <= 30\n _L_EXPR_243: x62 <= 30\n _L_EXPR_244: x63 <= 100\n _L_EXPR_245: x64 <= 60\n _L_EXPR_246: x65 <= 45\n _L_EXPR_247: x66 <= 40\n _L_EXPR_248: x67 <= 30\n _L_EXPR_249: x68 <= 30\n _L_EXPR_250: x69 <= 100\n _L_EXPR_251: x70 <= 60\n _L_EXPR_252: x71 <= 45\n _L_EXPR_253: x72 <= 40\n _L_EXPR_254: x73 <= 30\n _L_EXPR_255: x74 <= 30\n _L_EXPR_256: x75 <= 100\n _L_EXPR_257: x76 <= 60\n _L_EXPR_258: x77 <= 45\n _L_EXPR_259: x78 <= 40\n _L_EXPR_260: x79 <= 30\n _L_EXPR_261: x80 <= 30\n _L_EXPR_262: x81 <= 100\n _L_EXPR_263: x82 <= 60\n _L_EXPR_264: x83 <= 45\n _L_EXPR_265: x84 <= 40\n _L_EXPR_266: x85 <= 30\n _L_EXPR_267: x86 <= 30\n _L_EXPR_268: x87 <= 100\n _L_EXPR_269: x88 <= 60\n _L_EXPR_270: x89 <= 45\n _L_EXPR_271: x0 + x29 + x58 <= 81\n _L_EXPR_272: x1 + x30 + x59 <= 75\n _L_EXPR_273: x2 + x31 + x60 <= 16\n _L_EXPR_274: x3 + x32 + x61 <= 78\n _L_EXPR_275: x4 + x33 + x62 <= 29\n _L_EXPR_276: x5 + x34 + x63 <= 50\n _L_EXPR_277: x6 + x35 + x64 <= 64\n _L_EXPR_278: x7 + x36 + x65 <= 56\n _L_EXPR_279: x8 + x37 + x66 <= 41\n _L_EXPR_280: x9 + x38 + x67 <= 64\n _L_EXPR_281: x10 + x39 + x68 + x88 <= 223\n _L_EXPR_282: x11 + x40 + x69 + x89 <= 93\n _L_EXPR_283: x12 + x41 + x70 <= 45\n _L_EXPR_284: x13 + x42 + x71 <= 34\n _L_EXPR_285: x14 + x43 + x72 <= 39\n _L_EXPR_286: x15 + x44 + x73 + x87 <= 191\n _L_EXPR_287: x16 + x45 + x74 <= 57\n _L_EXPR_288: x17 + x46 + x75 <= 44\n _L_EXPR_289: x18 + x47 + x76 <= 49\n _L_EXPR_290: x19 + x48 + x77 <= 14\n _L_EXPR_291: x20 + x49 + x78 <= 155\n _L_EXPR_292: x21 + x50 + x79 <= 88\n _L_EXPR_293: x22 + x51 + x80 <= 121\n _L_EXPR_294: x23 + x52 + x81 <= 35\n _L_EXPR_295: x24 + x53 + x82 <= 76\n _L_EXPR_296: x25 + x54 + x83 <= 9\n _L_EXPR_297: x26 + x55 + x84 <= 72\n _L_EXPR_298: x27 + x56 + x85 <= 41\n _L_EXPR_299: x28 + x57 + x86 <= 4\n\nBounds\n 0 <= x90 <= 1\n 0 <= x91 <= 1\n 0 <= x92 <= 1\n 0 <= x93 <= 1\n 0 <= x94 <= 1\n 0 <= x95 <= 1\n 0 <= x96 <= 1\n 0 <= x97 <= 1\n 0 <= x98 <= 1\n 0 <= x99 <= 1\n 0 <= x100 <= 1\n 0 <= x101 <= 1\n 0 <= x102 <= 1\n 0 <= x103 <= 1\n 0 <= x104 <= 1\n 0 <= x105 <= 1\n 0 <= x106 <= 1\n 0 <= x107 <= 1\n 0 <= x108 <= 1\n 0 <= x109 <= 1\n 0 <= x110 <= 1\n 0 <= x111 <= 1\n 0 <= x112 <= 1\n 0 <= x113 <= 1\n 0 <= x114 <= 1\n 0 <= x115 <= 1\n 0 <= x116 <= 1\n 0 <= x117 <= 1\n 0 <= x118 <= 1\n 0 <= x119 <= 1\n 0 <= x120 <= 1\n 0 <= x121 <= 1\n 0 <= x122 <= 1\n 0 <= x123 <= 1\n 0 <= x124 <= 1\n 0 <= x125 <= 1\n 0 <= x126 <= 1\n 0 <= x127 <= 1\n 0 <= x128 <= 1\n 0 <= x129 <= 1\n 0 <= x130 <= 1\n 0 <= x131 <= 1\n 0 <= x132 <= 1\n 0 <= x133 <= 1\n 0 <= x134 <= 1\n 0 <= x135 <= 1\n 0 <= x136 <= 1\n 0 <= x137 <= 1\n 0 <= x138 <= 1\n 0 <= x139 <= 1\n 0 <= x140 <= 1\n 0 <= x141 <= 1\n 0 <= x142 <= 1\n 0 <= x143 <= 1\n 0 <= x144 <= 1\n 0 <= x145 <= 1\n 0 <= x146 <= 1\n 0 <= x147 <= 1\n 0 <= x148 <= 1\n 0 <= x149 <= 1\n 0 <= x150 <= 1\n 0 <= x151 <= 1\n 0 <= x152 <= 1\n 0 <= x153 <= 1\n 0 <= x154 <= 1\n 0 <= x155 <= 1\n 0 <= x156 <= 1\n 0 <= x157 <= 1\n 0 <= x158 <= 1\n 0 <= x159 <= 1\n 0 <= x160 <= 1\n 0 <= x161 <= 1\n 0 <= x162 <= 1\n 0 <= x163 <= 1\n 0 <= x164 <= 1\n 0 <= x165 <= 1\n 0 <= x166 <= 1\n 0 <= x167 <= 1\n 0 <= x168 <= 1\n 0 <= x169 <= 1\n 0 <= x170 <= 1\n 0 <= x171 <= 1\n 0 <= x172 <= 1\n 0 <= x173 <= 1\n 0 <= x174 <= 1\n 0 <= x175 <= 1\n 0 <= x176 <= 1\n 0 <= x177 <= 1\n 0 <= x178 <= 1\n 0 <= x179 <= 1\n\nBinaries\n x90 x91 x92 x93 x94 x95 x96 x97 x98 x99 x100 x101 x102 x103 x104 x105 x106 x107\n x108 x109 x110 x111 x112 x113 x114 x115 x116 x117 x118 x119 x120 x121 x122 x123\n x124 x125 x126 x127 x128 x129 x130 x131 x132 x133 x134 x135 x136 x137 x138 x139\n x140 x141 x142 x143 x144 x145 x146 x147 x148 x149 x150 x151 x152 x153 x154 x155\n x156 x157 x158 x159 x160 x161 x162 x163 x164 x165 x166 x167 x168 x169 x170 x171\n x172 x173 x174 x175 x176 x177 x178 x179\n\nGenerals\n x0 x1 x2 x3 x4 x5 x6 x7 x8 x9 x10 x11 x12 x13 x14 x15 x16 x17 x18 x19 x20 x21\n x22 x23 x24 x25 x26 x27 x28 x29 x30 x31 x32 x33 x34 x35 x36 x37 x38 x39 x40 x41\n x42 x43 x44 x45 x46 x47 x48 x49 x50 x51 x52 x53 x54 x55 x56 x57 x58 x59 x60 x61\n x62 x63 x64 x65 x66 x67 x68 x69 x70 x71 x72 x73 x74 x75 x76 x77 x78 x79 x80 x81\n x82 x83 x84 x85 x86 x87 x88 x89\nEnd\n\n"
          ]
        }
      ],
      "source": [
        "print(mod)"
=======
      "execution_count": 20,
      "outputs": [
        {
          "output_type": "stream",
          "text": [
            "constant:\t\t\t 0.0\n",
            "linear dict:\t\t\t {0: -464.0, 1: -480.0, 2: -496.0, 3: -464.0, 4: -480.0, 5: -496.0}\n",
            "linear array:\t\t\t [-464. -480. -496. -464. -480. -496.    0.    0.    0.    0.    0.    0.]\n",
            "linear array as sparse matrix:\n",
            "   (0, 0)\t-464.0\n",
            "  (0, 1)\t-480.0\n",
            "  (0, 2)\t-496.0\n",
            "  (0, 3)\t-464.0\n",
            "  (0, 4)\t-480.0\n",
            "  (0, 5)\t-496.0 \n",
            "\n",
            "quadratic dict w/ index:\t {}\n",
            "quadratic dict w/ name:\t\t {}\n",
            "symmetric quadratic dict w/ name:\t {}\n",
            "quadratic matrix:\n",
            " [[0. 0. 0. 0. 0. 0. 0. 0. 0. 0. 0. 0.]\n",
            " [0. 0. 0. 0. 0. 0. 0. 0. 0. 0. 0. 0.]\n",
            " [0. 0. 0. 0. 0. 0. 0. 0. 0. 0. 0. 0.]\n",
            " [0. 0. 0. 0. 0. 0. 0. 0. 0. 0. 0. 0.]\n",
            " [0. 0. 0. 0. 0. 0. 0. 0. 0. 0. 0. 0.]\n",
            " [0. 0. 0. 0. 0. 0. 0. 0. 0. 0. 0. 0.]\n",
            " [0. 0. 0. 0. 0. 0. 0. 0. 0. 0. 0. 0.]\n",
            " [0. 0. 0. 0. 0. 0. 0. 0. 0. 0. 0. 0.]\n",
            " [0. 0. 0. 0. 0. 0. 0. 0. 0. 0. 0. 0.]\n",
            " [0. 0. 0. 0. 0. 0. 0. 0. 0. 0. 0. 0.]\n",
            " [0. 0. 0. 0. 0. 0. 0. 0. 0. 0. 0. 0.]\n",
            " [0. 0. 0. 0. 0. 0. 0. 0. 0. 0. 0. 0.]] \n",
            "\n",
            "symmetric quadratic matrix:\n",
            " [[0. 0. 0. 0. 0. 0. 0. 0. 0. 0. 0. 0.]\n",
            " [0. 0. 0. 0. 0. 0. 0. 0. 0. 0. 0. 0.]\n",
            " [0. 0. 0. 0. 0. 0. 0. 0. 0. 0. 0. 0.]\n",
            " [0. 0. 0. 0. 0. 0. 0. 0. 0. 0. 0. 0.]\n",
            " [0. 0. 0. 0. 0. 0. 0. 0. 0. 0. 0. 0.]\n",
            " [0. 0. 0. 0. 0. 0. 0. 0. 0. 0. 0. 0.]\n",
            " [0. 0. 0. 0. 0. 0. 0. 0. 0. 0. 0. 0.]\n",
            " [0. 0. 0. 0. 0. 0. 0. 0. 0. 0. 0. 0.]\n",
            " [0. 0. 0. 0. 0. 0. 0. 0. 0. 0. 0. 0.]\n",
            " [0. 0. 0. 0. 0. 0. 0. 0. 0. 0. 0. 0.]\n",
            " [0. 0. 0. 0. 0. 0. 0. 0. 0. 0. 0. 0.]\n",
            " [0. 0. 0. 0. 0. 0. 0. 0. 0. 0. 0. 0.]] \n",
            "\n",
            "quadratic matrix as sparse matrix:\n",
            " \n"
          ],
          "name": "stdout"
        }
>>>>>>> d606e2aeb59da93608c56f6a8c7a6bc533ce68cf
      ]
    },
    {
      "cell_type": "code",
      "metadata": {
        "id": "Muc2yzYR2K-p"
      },
      "source": [
        "import dimod\n",
        "\n",
        "\n",
        "# Extract qubo data\n",
        "Q = mod.objective.quadratic.to_dict(use_name=True)\n",
        "g = mod.objective.linear.to_dict(use_name=True)\n",
        "c = mod.objective.constant\n",
        "\n",
        "# Build BQM\n",
        "bqm=dimod.BQM(g, Q, c, dimod.BINARY)"
      ],
<<<<<<< HEAD
      "execution_count": 103,
=======
      "execution_count": 24,
>>>>>>> d606e2aeb59da93608c56f6a8c7a6bc533ce68cf
      "outputs": []
    },
    {
      "cell_type": "code",
      "metadata": {
        "id": "VZdp1qXk9E9s"
      },
      "source": [
        "from dwave.system import LeapHybridSampler\n",
        "from dwave.system import DWaveSampler, EmbeddingComposite\n",
        "\n",
        "# Solve using LeapHybridSampler\n",
        "sampler = LeapHybridSampler()\n",
        "bqm.result = sampler.sample(bqm)\n",
<<<<<<< HEAD
        "print(bqm.result)\n"
      ],
      "execution_count": 104,
      "outputs": [
        {
          "output_type": "stream",
          "name": "stdout",
          "text": [
            "  x0 x1 x10 x11 x12 x13 x14 x15 x16 x17 x18 x19 x2 x20 ... x9   energy num_oc.\n0  1  1   1   1   1   1   1   1   1   1   1   1  1   1 ...  1 -63040.0       1\n['BINARY', 1 rows, 1 samples, 90 variables]\n"
          ]
        }
      ]
    },
    {
      "source": [
        "from qiskit.optimization.converters import QuadraticProgramToQubo\n",
        "conv = QuadraticProgramToQubo()\n",
        "mod_Qubo = conv.convert(mod)"
      ],
      "cell_type": "code",
      "metadata": {},
      "execution_count": 106,
      "outputs": []
    },
    {
      "cell_type": "code",
      "execution_count": 108,
      "metadata": {},
      "outputs": [],
      "source": [
        "#https://qiskit.org/documentation/tutorials/optimization/2_converters_for_quadratic_programs.html\n",
        "from qiskit.optimization.converters import InequalityToEquality\n",
        "from qiskit.optimization.converters import IntegerToBinary\n",
        "from qiskit.optimization.converters import LinearEqualityToPenalty\n",
        "\n",
        "ineq2eq = InequalityToEquality()\n",
        "qp_eq = ineq2eq.convert(mod)\n",
        "#print(qp_eq.export_as_lp_string())\n",
        "\n",
        "int2bin = IntegerToBinary()\n",
        "qp_eq_bin = int2bin.convert(qp_eq)\n",
        "#print(qp_eq_bin.export_as_lp_string())\n",
        "\n",
        "lineq2penalty = LinearEqualityToPenalty(penalty=10**5)\n",
        "mod_Qubo = lineq2penalty.convert(qp_eq_bin)\n",
        "#print(qubo.export_as_lp_string())"
      ]
    },
    {
      "cell_type": "code",
      "execution_count": 109,
      "metadata": {},
      "outputs": [
        {
          "output_type": "stream",
          "name": "stdout",
          "text": [
            "  x0@0 x0@1 x0@2 x0@3 x0@4 x0@5 ... _L_EXPR_180@int_slack@66 energy num_oc.\n0    0    0    0    0    0    0 ...                        1    nan       1\n['BINARY', 1 rows, 1 samples, 13381 variables]\n"
          ]
        }
      ],
      "source": [
        "# Extract qubo data\n",
        "Q = mod_Qubo.objective.quadratic.to_dict(use_name=True)\n",
        "g = mod_Qubo.objective.linear.to_dict(use_name=True)\n",
        "c = mod_Qubo.objective.constant\n",
        "\n",
        "# Build BQM\n",
        "bqm2=dimod.BQM(g, Q, c, dimod.BINARY)\n",
        "bqm2.result = sampler.sample(bqm2)\n",
        "print(bqm2.result)"
      ]
    },
    {
      "cell_type": "code",
      "execution_count": 64,
      "metadata": {},
      "outputs": [
        {
          "output_type": "stream",
          "name": "stdout",
          "text": [
            "\\ This file has been generated by DOcplex\n\\ ENCODING=ISO-8859-1\n\\Problem name: CPLEX\n\nMinimize\n obj: x - 2 y + 3 z + [ 2 x*y - 2 x*z + 4 y*z ]/2\nSubject To\n\nBounds\n 0 <= x <= 1\n 0 <= y <= 1\n 0 <= z <= 1\n\nBinaries\n x y z\nEnd\n\n"
          ]
        }
      ],
      "source": [
        "qubo = QuadraticProgram()\n",
        "qubo.binary_var('x')\n",
        "qubo.binary_var('y')\n",
        "qubo.binary_var('z')\n",
        "qubo.minimize(linear=[1,-2,3], quadratic={('x', 'y'): 1, ('x', 'z'): -1, ('y', 'z'): 2})\n",
        "print(qubo.export_as_lp_string())"
      ]
    },
    {
      "cell_type": "code",
      "execution_count": 65,
      "metadata": {},
      "outputs": [
        {
          "output_type": "stream",
          "name": "stdout",
          "text": [
            "   x  y  z energy num_oc.\n0  0  1  0   -2.0       1\n['BINARY', 1 rows, 1 samples, 3 variables]\n"
          ]
        }
      ],
      "source": [
        "# Extract qubo data\n",
        "Q = qubo.objective.quadratic.to_dict(use_name=True)\n",
        "g = qubo.objective.linear.to_dict(use_name=True)\n",
        "c = qubo.objective.constant\n",
        "\n",
        "# Build BQM\n",
        "bqm2=dimod.BQM(g, Q, c, dimod.BINARY)\n",
        "bqm2.result = sampler.sample(bqm2)\n",
        "print(bqm2.result)"
      ]
    },
    {
      "cell_type": "code",
      "execution_count": null,
      "metadata": {},
      "outputs": [],
      "source": []
=======
        "\n",
        "# Extract solution\n",
        "result_dict = bqm.result.first.sample\n",
        "extract_solution(result_dict)"
      ],
      "execution_count": null,
      "outputs": []
>>>>>>> d606e2aeb59da93608c56f6a8c7a6bc533ce68cf
    }
  ]
}