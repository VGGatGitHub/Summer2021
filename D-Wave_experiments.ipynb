{
  "nbformat": 4,
  "nbformat_minor": 0,
  "metadata": {
    "colab": {
      "name": "D-Wave_experiments.ipynb",
      "provenance": [],
      "toc_visible": true,
      "include_colab_link": true
    },
    "kernelspec": {
      "display_name": "Python 3.7.11 64-bit",
      "language": "python",
      "name": "python371164biteaadfa2921794657936ac15851c51ff8"
    },
    "language_info": {
      "codemirror_mode": {
        "name": "ipython",
        "version": 3
      },
      "file_extension": ".py",
      "mimetype": "text/x-python",
      "name": "python",
      "nbconvert_exporter": "python",
      "pygments_lexer": "ipython3",
      "version": "3.7.11-final"
    },
    "accelerator": "TPU"
  },
  "cells": [
    {
      "cell_type": "markdown",
      "metadata": {
        "id": "view-in-github",
        "colab_type": "text"
      },
      "source": [
        "<a href=\"https://colab.research.google.com/github/VGGatGitHub/Summer2021/blob/main/D-Wave_experiments.ipynb\" target=\"_parent\"><img src=\"https://colab.research.google.com/assets/colab-badge.svg\" alt=\"Open In Colab\"/></a>"
      ]
    },
    {
      "cell_type": "markdown",
      "metadata": {
        "id": "rm4Kd0IfYVuK"
      },
      "source": [
        "Experimenting how to use IBM DOcplex and D-Wave"
      ]
    },
    {
      "cell_type": "markdown",
      "metadata": {
        "id": "TWpZnxqoxtCH"
      },
      "source": [
        "# 0. Install libraries & clone repo\n",
        "**You may need to restart the runtime after this cell**"
      ]
    },
    {
      "cell_type": "code",
      "metadata": {
        "id": "jjhGsa9LxtCJ"
      },
      "source": [
        "import sys\n",
        "\n",
        "if hasattr(sys, 'real_prefix'):\n",
        "    #we are in a virtual env.\n",
        "    !pip install cplex && pip install docplex\n",
        "else:\n",
        "    !pip install --user cplex && pip install --user docplex\n",
        "\n",
        "print()\n",
        "!pip show cplex\n",
        "print()\n",
        "!pip show docplex\n",
        "\n",
        "#it my be useful to retstart you runtime"
      ],
      "execution_count": null,
      "outputs": []
    },
    {
      "cell_type": "code",
      "metadata": {
        "id": "zeBTiUzOwgR_"
      },
      "source": [
        "!pip install qiskit\n",
        "!pip show qiskit\n",
        "\n",
        "# !pip install qiskit-optimization\n",
        "#!pip show qiskit-optimization\n",
        "\n",
        "#it my be useful to retstart you runtime"
      ],
      "execution_count": null,
      "outputs": []
    },
    {
      "cell_type": "code",
      "metadata": {
        "id": "RPk5nF4ZxtCJ"
      },
      "source": [
        "#it my be useful to retstart you runtime\n",
        "\n",
        "# clone repo\n",
        "!git clone https://github.com/VGGatGitHub/Summer2021.git"
      ],
      "execution_count": null,
      "outputs": []
    },
    {
      "cell_type": "code",
      "metadata": {
        "id": "WZZGbQHGHfQj"
      },
      "source": [
        "#!curl  -H \"X-Auth-Token: YourAPIkey\" -X DELETE https://cloud.dwavesys.com/sapi/problems/7211d196-cfc6-4630-84d0-f42ae5d55f0f"
      ],
      "execution_count": 4,
      "outputs": []
    },
    {
      "cell_type": "code",
      "metadata": {
        "id": "0kLLmhcEHmUX"
      },
      "source": [
        "#https://www.youtube.com/watch?v=bErs0dxC1aY&list=PLPvKnT7dgEsuhec_yW9oxcZ6gg9SfRFFV\n",
        "#https://docs.ocean.dwavesys.com/en/latest/overview/install.html#installoceansoftware\n",
        "#!python -m venv ocean\n",
        "#!\\Scripts\\activate\n",
        "\n",
        "!pip install dwave-ocean-sdk\n",
        "!pip install dwave-qiskit-plugin"
      ],
      "execution_count": null,
      "outputs": []
    },
    {
      "cell_type": "code",
      "metadata": {
        "id": "5axT-WwJIKcp"
      },
      "source": [
        "!pip install requests --upgrade"
      ],
      "execution_count": null,
      "outputs": []
    },
    {
      "cell_type": "code",
      "metadata": {
        "id": "yOOMcKtOH3YV"
      },
      "source": [
        "!dwave setup #API endpoint URL: https://cloud.dwavesys.com/sapi/"
      ],
      "execution_count": null,
      "outputs": []
    },
    {
      "cell_type": "markdown",
      "metadata": {
        "id": "jFOO2BnFxtCM"
      },
      "source": [
        "# 1. Restart your Runtime and then the Load Data"
      ]
    },
    {
      "cell_type": "code",
      "metadata": {
        "id": "iH4yv4pIRZzd",
        "colab": {
          "base_uri": "https://localhost:8080/"
        },
        "outputId": "034690ea-f4b4-476d-afa8-af863bfdc44c"
      },
      "source": [
        "!pwd"
      ],
      "execution_count": 1,
      "outputs": [
        {
          "output_type": "stream",
          "text": [
            "/content\n"
          ],
          "name": "stdout"
        }
      ]
    },
    {
      "cell_type": "code",
      "metadata": {
        "id": "y8U39lpVaWLJ",
        "colab": {
          "base_uri": "https://localhost:8080/"
        },
        "outputId": "be0ffe72-54b3-427e-bdbd-c7f0b22bd164"
      },
      "source": [
        "#next run the model.py in the folder introScenario\n",
        "!pwd\n",
        "#%cd ../intermediateScenario/\n",
        "#%cd ./Summer2021/intermediateScenario\n",
        "%cd ./Summer2021/introScenario/\n",
        "#%ls\n"
      ],
      "execution_count": 2,
      "outputs": [
        {
          "output_type": "stream",
          "text": [
            "/content\n",
            "/content/Summer2021/introScenario\n"
          ],
          "name": "stdout"
        }
      ]
    },
    {
      "cell_type": "code",
      "metadata": {
        "id": "w5eQxjG1YVuP"
      },
      "source": [
        "import pandas as pd\n",
        "\n",
        "# supply + costs\n",
        "supply_file = './plants.csv'\n",
        "\n",
        "# demand\n",
        "demand_file = './customerDemand.csv'\n",
        "\n",
        "# for now load example data (plants.csv and customerDemand.csv under introScenario folder)\n",
        "s_df = pd.read_csv(supply_file)\n",
        "d_df = pd.read_csv(demand_file)"
      ],
      "execution_count": 3,
      "outputs": []
    },
    {
      "cell_type": "code",
      "metadata": {
        "id": "jpII3ShlTtMI",
        "colab": {
          "base_uri": "https://localhost:8080/",
          "height": 111
        },
        "outputId": "7a63f49f-db41-429f-9bd4-2896442938a5"
      },
      "source": [
        "d_df"
      ],
      "execution_count": 4,
      "outputs": [
        {
          "output_type": "execute_result",
          "data": {
            "text/html": [
              "<div>\n",
              "<style scoped>\n",
              "    .dataframe tbody tr th:only-of-type {\n",
              "        vertical-align: middle;\n",
              "    }\n",
              "\n",
              "    .dataframe tbody tr th {\n",
              "        vertical-align: top;\n",
              "    }\n",
              "\n",
              "    .dataframe thead th {\n",
              "        text-align: right;\n",
              "    }\n",
              "</style>\n",
              "<table border=\"1\" class=\"dataframe\">\n",
              "  <thead>\n",
              "    <tr style=\"text-align: right;\">\n",
              "      <th></th>\n",
              "      <th>Product</th>\n",
              "      <th>Demand</th>\n",
              "    </tr>\n",
              "  </thead>\n",
              "  <tbody>\n",
              "    <tr>\n",
              "      <th>0</th>\n",
              "      <td>handSanitizer</td>\n",
              "      <td>100</td>\n",
              "    </tr>\n",
              "    <tr>\n",
              "      <th>1</th>\n",
              "      <td>mask</td>\n",
              "      <td>120</td>\n",
              "    </tr>\n",
              "  </tbody>\n",
              "</table>\n",
              "</div>"
            ],
            "text/plain": [
              "         Product  Demand\n",
              "0  handSanitizer     100\n",
              "1           mask     120"
            ]
          },
          "metadata": {
            "tags": []
          },
          "execution_count": 4
        }
      ]
    },
    {
      "cell_type": "code",
      "metadata": {
        "id": "Urm0R_bETqO2",
        "colab": {
          "base_uri": "https://localhost:8080/",
          "height": 235
        },
        "outputId": "3fbd84a9-3864-4404-c60c-089387891189"
      },
      "source": [
        "s_df"
      ],
      "execution_count": 5,
      "outputs": [
        {
          "output_type": "execute_result",
          "data": {
            "text/html": [
              "<div>\n",
              "<style scoped>\n",
              "    .dataframe tbody tr th:only-of-type {\n",
              "        vertical-align: middle;\n",
              "    }\n",
              "\n",
              "    .dataframe tbody tr th {\n",
              "        vertical-align: top;\n",
              "    }\n",
              "\n",
              "    .dataframe thead th {\n",
              "        text-align: right;\n",
              "    }\n",
              "</style>\n",
              "<table border=\"1\" class=\"dataframe\">\n",
              "  <thead>\n",
              "    <tr style=\"text-align: right;\">\n",
              "      <th></th>\n",
              "      <th>Plants</th>\n",
              "      <th>Cost</th>\n",
              "      <th>Capacity</th>\n",
              "      <th>Product</th>\n",
              "    </tr>\n",
              "  </thead>\n",
              "  <tbody>\n",
              "    <tr>\n",
              "      <th>0</th>\n",
              "      <td>1</td>\n",
              "      <td>3</td>\n",
              "      <td>40</td>\n",
              "      <td>mask</td>\n",
              "    </tr>\n",
              "    <tr>\n",
              "      <th>1</th>\n",
              "      <td>2</td>\n",
              "      <td>2</td>\n",
              "      <td>30</td>\n",
              "      <td>mask</td>\n",
              "    </tr>\n",
              "    <tr>\n",
              "      <th>2</th>\n",
              "      <td>3</td>\n",
              "      <td>1</td>\n",
              "      <td>30</td>\n",
              "      <td>handSanitizer</td>\n",
              "    </tr>\n",
              "    <tr>\n",
              "      <th>3</th>\n",
              "      <td>4</td>\n",
              "      <td>3</td>\n",
              "      <td>100</td>\n",
              "      <td>handSanitizer</td>\n",
              "    </tr>\n",
              "    <tr>\n",
              "      <th>4</th>\n",
              "      <td>5</td>\n",
              "      <td>2</td>\n",
              "      <td>60</td>\n",
              "      <td>mask</td>\n",
              "    </tr>\n",
              "    <tr>\n",
              "      <th>5</th>\n",
              "      <td>6</td>\n",
              "      <td>1</td>\n",
              "      <td>45</td>\n",
              "      <td>mask</td>\n",
              "    </tr>\n",
              "  </tbody>\n",
              "</table>\n",
              "</div>"
            ],
            "text/plain": [
              "   Plants  Cost  Capacity        Product\n",
              "0       1     3        40           mask\n",
              "1       2     2        30           mask\n",
              "2       3     1        30  handSanitizer\n",
              "3       4     3       100  handSanitizer\n",
              "4       5     2        60           mask\n",
              "5       6     1        45           mask"
            ]
          },
          "metadata": {
            "tags": []
          },
          "execution_count": 5
        }
      ]
    },
    {
      "cell_type": "code",
      "metadata": {
        "id": "m3VwLMJr1wBE"
      },
      "source": [
        "inputs={'customerDemand':d_df,'plants':s_df}"
      ],
      "execution_count": 6,
      "outputs": []
    },
    {
      "cell_type": "markdown",
      "metadata": {
        "id": "89lxEMTBYVuQ"
      },
      "source": [
        "# 2. Solve the DO problem via DOcplex"
      ]
    },
    {
      "cell_type": "code",
      "metadata": {
        "id": "UIfEsCTjYVuQ"
      },
      "source": [
        "#If you get an error you may have to restart the runtime\n",
        "import cplex\n",
        "import docplex.mp\n",
        "from docplex.mp.model import Model\n"
      ],
      "execution_count": 7,
      "outputs": []
    },
    {
      "cell_type": "code",
      "metadata": {
        "id": "QyDnKO0VRW2r"
      },
      "source": [
        "global output_lock\n",
        "#with output_lock:\n",
        "\n",
        "try:  \n",
        "  if output_lock:\n",
        "    print(output_lock)\n",
        "except:\n",
        "  output_lock=dict({'output_lock':{}})\n",
        "\n",
        "try: \n",
        "  if outputs:\n",
        "    print(outputs)\n",
        "except:\n",
        "  outputs=dict()\n"
      ],
      "execution_count": 8,
      "outputs": []
    },
    {
      "cell_type": "code",
      "metadata": {
        "id": "QR6mPc1i4fpz",
        "colab": {
          "base_uri": "https://localhost:8080/"
        },
        "outputId": "82b409a5-2d57-4231-c29c-e0df97cb3f13"
      },
      "source": [
        "exec(open(\"./model.py\").read())"
      ],
      "execution_count": 9,
      "outputs": [
        {
          "output_type": "stream",
          "text": [
            "* building wado model\n",
            "model building done in 0.08389663696289062 secs\n",
            "* running wado model\n",
            "Version identifier: 20.1.0.0 | 2020-11-11 | 9bedb6d68\n",
            "CPXPARAM_Read_DataCheck                          1\n",
            "CPXPARAM_TimeLimit                               120\n",
            "Found incumbent of value 0.000000 after 0.00 sec. (0.00 ticks)\n",
            "Tried aggregator 1 time.\n",
            "MIP Presolve eliminated 20 rows and 12 columns.\n",
            "All rows and columns eliminated.\n",
            "Presolve time = 0.01 sec. (0.01 ticks)\n",
            "\n",
            "Root node processing (before b&c):\n",
            "  Real time             =    0.01 sec. (0.01 ticks)\n",
            "Parallel b&c, 2 threads:\n",
            "  Real time             =    0.00 sec. (0.00 ticks)\n",
            "  Sync time (average)   =    0.00 sec.\n",
            "  Wait time (average)   =    0.00 sec.\n",
            "                          ------------\n",
            "Total (root+branch&cut) =    0.01 sec. (0.01 ticks)\n",
            "Solve status: JobSolveStatus.OPTIMAL_SOLUTION\n",
            "* model docplex_model1 solved with objective = -105680.000\n",
            "*  KPI: total plants allocations                  = 112640.000\n",
            "*  KPI: total Cost of plants over all allocations = 6960.000\n",
            "model solve done in 0.04145669937133789 secs\n",
            "solution export done in 0.04191160202026367 secs\n"
          ],
          "name": "stdout"
        }
      ]
    },
    {
      "cell_type": "code",
      "metadata": {
        "id": "oT2QEZYAX97y",
        "colab": {
          "base_uri": "https://localhost:8080/"
        },
        "outputId": "fd3b7b04-43e8-47c9-8335-748027f13a7c"
      },
      "source": [
        "outputs\n"
      ],
      "execution_count": 10,
      "outputs": [
        {
          "output_type": "execute_result",
          "data": {
            "text/plain": [
              "{'plantsAllocation':    plants  ...  plants minValueAllocationForAssignment\n",
              " 0       1  ...                                       0\n",
              " 1       2  ...                                       0\n",
              " 2       3  ...                                       0\n",
              " 3       4  ...                                       0\n",
              " 4       5  ...                                       0\n",
              " 5       6  ...                                       0\n",
              " \n",
              " [6 rows x 7 columns]}"
            ]
          },
          "metadata": {
            "tags": []
          },
          "execution_count": 10
        }
      ]
    },
    {
      "cell_type": "code",
      "metadata": {
        "id": "TiWDpfHILzSo",
        "colab": {
          "base_uri": "https://localhost:8080/",
          "height": 269
        },
        "outputId": "90de7021-e5ad-4c65-e4ac-34cc9fdcb630"
      },
      "source": [
        "outputs['plantsAllocation']"
      ],
      "execution_count": 11,
      "outputs": [
        {
          "output_type": "execute_result",
          "data": {
            "text/html": [
              "<div>\n",
              "<style scoped>\n",
              "    .dataframe tbody tr th:only-of-type {\n",
              "        vertical-align: middle;\n",
              "    }\n",
              "\n",
              "    .dataframe tbody tr th {\n",
              "        vertical-align: top;\n",
              "    }\n",
              "\n",
              "    .dataframe thead th {\n",
              "        text-align: right;\n",
              "    }\n",
              "</style>\n",
              "<table border=\"1\" class=\"dataframe\">\n",
              "  <thead>\n",
              "    <tr style=\"text-align: right;\">\n",
              "      <th></th>\n",
              "      <th>plants</th>\n",
              "      <th>plants allocation decision</th>\n",
              "      <th>plants selection decision</th>\n",
              "      <th>plants Capacity</th>\n",
              "      <th>plants Product</th>\n",
              "      <th>plants Cost</th>\n",
              "      <th>plants minValueAllocationForAssignment</th>\n",
              "    </tr>\n",
              "  </thead>\n",
              "  <tbody>\n",
              "    <tr>\n",
              "      <th>0</th>\n",
              "      <td>1</td>\n",
              "      <td>0.0</td>\n",
              "      <td>1.0</td>\n",
              "      <td>40</td>\n",
              "      <td>mask</td>\n",
              "      <td>3</td>\n",
              "      <td>0</td>\n",
              "    </tr>\n",
              "    <tr>\n",
              "      <th>1</th>\n",
              "      <td>2</td>\n",
              "      <td>15.0</td>\n",
              "      <td>1.0</td>\n",
              "      <td>30</td>\n",
              "      <td>mask</td>\n",
              "      <td>2</td>\n",
              "      <td>0</td>\n",
              "    </tr>\n",
              "    <tr>\n",
              "      <th>2</th>\n",
              "      <td>3</td>\n",
              "      <td>30.0</td>\n",
              "      <td>1.0</td>\n",
              "      <td>30</td>\n",
              "      <td>handSanitizer</td>\n",
              "      <td>1</td>\n",
              "      <td>0</td>\n",
              "    </tr>\n",
              "    <tr>\n",
              "      <th>3</th>\n",
              "      <td>4</td>\n",
              "      <td>70.0</td>\n",
              "      <td>1.0</td>\n",
              "      <td>100</td>\n",
              "      <td>handSanitizer</td>\n",
              "      <td>3</td>\n",
              "      <td>0</td>\n",
              "    </tr>\n",
              "    <tr>\n",
              "      <th>4</th>\n",
              "      <td>5</td>\n",
              "      <td>60.0</td>\n",
              "      <td>1.0</td>\n",
              "      <td>60</td>\n",
              "      <td>mask</td>\n",
              "      <td>2</td>\n",
              "      <td>0</td>\n",
              "    </tr>\n",
              "    <tr>\n",
              "      <th>5</th>\n",
              "      <td>6</td>\n",
              "      <td>45.0</td>\n",
              "      <td>1.0</td>\n",
              "      <td>45</td>\n",
              "      <td>mask</td>\n",
              "      <td>1</td>\n",
              "      <td>0</td>\n",
              "    </tr>\n",
              "  </tbody>\n",
              "</table>\n",
              "</div>"
            ],
            "text/plain": [
              "   plants  ...  plants minValueAllocationForAssignment\n",
              "0       1  ...                                       0\n",
              "1       2  ...                                       0\n",
              "2       3  ...                                       0\n",
              "3       4  ...                                       0\n",
              "4       5  ...                                       0\n",
              "5       6  ...                                       0\n",
              "\n",
              "[6 rows x 7 columns]"
            ]
          },
          "metadata": {
            "tags": []
          },
          "execution_count": 11
        }
      ]
    },
    {
      "cell_type": "code",
      "metadata": {
        "id": "Z7pXtDgMxKiX",
        "colab": {
          "base_uri": "https://localhost:8080/"
        },
        "outputId": "6454e7c4-bb74-43a2-b8c2-e71bc757e2d0"
      },
      "source": [
        "model"
      ],
      "execution_count": 12,
      "outputs": [
        {
          "output_type": "execute_result",
          "data": {
            "text/plain": [
              "docplex.mp.Model['docplex_model1']"
            ]
          },
          "metadata": {
            "tags": []
          },
          "execution_count": 12
        }
      ]
    },
    {
      "cell_type": "code",
      "metadata": {
        "colab": {
          "base_uri": "https://localhost:8080/"
        },
        "id": "GJb3NIm38Iuz",
        "outputId": "fc1eadd3-18a6-487c-97ea-d7798085cdc8"
      },
      "source": [
        "solution=model.solve()\n",
        "print(solution)\n",
        "solution"
      ],
      "execution_count": 13,
      "outputs": [
        {
          "output_type": "stream",
          "text": [
            "solution for: docplex_model1\n",
            "objective: -105680\n",
            "x2=15\n",
            "x3=30\n",
            "x4=70\n",
            "x5=60\n",
            "x6=45\n",
            "x7=1\n",
            "x8=1\n",
            "x9=1\n",
            "x10=1\n",
            "x11=1\n",
            "x12=1\n",
            "\n"
          ],
          "name": "stdout"
        },
        {
          "output_type": "execute_result",
          "data": {
            "text/plain": [
              "docplex.mp.solution.SolveSolution(obj=-105680,values={x2:15,x3:30,x4:70,.."
            ]
          },
          "metadata": {
            "tags": []
          },
          "execution_count": 13
        }
      ]
    },
    {
      "cell_type": "code",
      "metadata": {
        "id": "zHUJX4zh7DtO",
        "colab": {
          "base_uri": "https://localhost:8080/"
        },
        "outputId": "0b1cd51f-6ea2-466b-ea66-f2e22b30b0d8"
      },
      "source": [
        "cost = solution.get_objective_value()\n",
        "x = solution.get_all_values()\n",
        "x = np.array(x)\n",
        "print(cost,x)"
      ],
      "execution_count": 14,
      "outputs": [
        {
          "output_type": "stream",
          "text": [
            "-105680.0 [ 0. 15. 30. 70. 60. 45.  1.  1.  1.  1.  1.  1.]\n"
          ],
          "name": "stdout"
        }
      ]
    },
    {
      "cell_type": "code",
      "metadata": {
        "id": "gSUM4jxirRKY"
      },
      "source": [
        ""
      ],
      "execution_count": null,
      "outputs": []
    },
    {
      "cell_type": "markdown",
      "metadata": {
        "id": "830vb-krq0ll"
      },
      "source": [
        "#Simple qubo example for testing"
      ]
    },
    {
      "cell_type": "code",
      "metadata": {
        "id": "WllwSko-HIxj",
        "colab": {
          "base_uri": "https://localhost:8080/"
        },
        "outputId": "05067d4f-e282-4720-e2e9-cf0f58306f24"
      },
      "source": [
        "#a simple example to test the code\n",
        "qubo = QuadraticProgram()\n",
        "qubo.binary_var('x')\n",
        "qubo.binary_var('y')\n",
        "qubo.binary_var('z')\n",
        "qubo.minimize(linear=[1,-2,3], quadratic={('x', 'y'): 1, ('x', 'z'): -1, ('y', 'z'): 2})\n",
        "print(qubo.export_as_lp_string())\n",
        "\n",
        "solution=cplex.solve(qubo)\n",
        "print(solution)"
      ],
      "execution_count": 25,
      "outputs": [
        {
          "output_type": "stream",
          "text": [
            "\\ This file has been generated by DOcplex\n",
            "\\ ENCODING=ISO-8859-1\n",
            "\\Problem name: CPLEX\n",
            "\n",
            "Minimize\n",
            " obj: x - 2 y + 3 z + [ 2 x*y - 2 x*z + 4 y*z ]/2\n",
            "Subject To\n",
            "\n",
            "Bounds\n",
            " 0 <= x <= 1\n",
            " 0 <= y <= 1\n",
            " 0 <= z <= 1\n",
            "\n",
            "Binaries\n",
            " x y z\n",
            "End\n",
            "\n",
            "optimal function value: -2.0\n",
            "optimal value: [0. 1. 0.]\n",
            "status: SUCCESS\n"
          ],
          "name": "stdout"
        }
      ]
    },
    {
      "cell_type": "markdown",
      "metadata": {
        "id": "pou-xP5MYVuR"
      },
      "source": [
        "# 3. Try to Solve the DO problem using D-wave plugin"
      ]
    },
    {
      "cell_type": "code",
      "metadata": {
        "id": "wtwrodHZYVuR"
      },
      "source": [
        "# take a look at https://quantum-computing.ibm.com/lab/docs/iql/optimization\n",
        "\n",
        "#from qiskit_optimization.translators import from_docplex_mp\n",
        "\n",
        "from qiskit.aqua.algorithms import QAOA, NumPyMinimumEigensolver\n",
        "from qiskit.optimization.algorithms import CobylaOptimizer, MinimumEigenOptimizer\n",
        "from qiskit.optimization.algorithms import CplexOptimizer\n",
        "exact = MinimumEigenOptimizer(NumPyMinimumEigensolver()) # to solve QUBOs\n",
        "cplex = CplexOptimizer()#for binary and integer variables\n",
        "cobyla = CobylaOptimizer()#for continues variables\n",
        "\n",
        "\n",
        "from qiskit.optimization import QuadraticProgram\n",
        "\n",
        "# load from a Docplex model\n",
        "mod = QuadraticProgram()\n",
        "mod.from_docplex(model)\n"
      ],
      "execution_count": null,
      "outputs": []
    },
    {
      "cell_type": "code",
      "metadata": {
        "colab": {
          "base_uri": "https://localhost:8080/"
        },
        "id": "2ma1iWFMGKUJ",
        "outputId": "5e21f0bf-960a-40bb-a8b2-1a2ca2afda4d"
      },
      "source": [
        "print(mod.export_as_lp_string())"
      ],
      "execution_count": 16,
      "outputs": [
        {
          "output_type": "stream",
          "text": [
            "\\ This file has been generated by DOcplex\n",
            "\\ ENCODING=ISO-8859-1\n",
            "\\Problem name: docplex_model1\n",
            "\n",
            "Minimize\n",
            " obj: - 464 x0 - 480 x1 - 496 x2 - 464 x3 - 480 x4 - 496 x5\n",
            "Subject To\n",
            " _L_EXPR_1: x0 - 40 x6 <= 0\n",
            " _L_EXPR_2: x1 - 30 x7 <= 0\n",
            " _L_EXPR_3: x2 - 30 x8 <= 0\n",
            " _L_EXPR_4: x3 - 100 x9 <= 0\n",
            " _L_EXPR_5: x4 - 60 x10 <= 0\n",
            " _L_EXPR_6: x5 - 45 x11 <= 0\n",
            " _L_EXPR_7: x0 >= 0\n",
            " _L_EXPR_8: x1 >= 0\n",
            " _L_EXPR_9: x2 >= 0\n",
            " _L_EXPR_10: x3 >= 0\n",
            " _L_EXPR_11: x4 >= 0\n",
            " _L_EXPR_12: x5 >= 0\n",
            " _L_EXPR_13: x0 <= 40\n",
            " _L_EXPR_14: x1 <= 30\n",
            " _L_EXPR_15: x2 <= 30\n",
            " _L_EXPR_16: x3 <= 100\n",
            " _L_EXPR_17: x4 <= 60\n",
            " _L_EXPR_18: x5 <= 45\n",
            " _L_EXPR_19: x2 + x3 <= 100\n",
            " _L_EXPR_20: x0 + x1 + x4 + x5 <= 120\n",
            "\n",
            "Bounds\n",
            " 0 <= x6 <= 1\n",
            " 0 <= x7 <= 1\n",
            " 0 <= x8 <= 1\n",
            " 0 <= x9 <= 1\n",
            " 0 <= x10 <= 1\n",
            " 0 <= x11 <= 1\n",
            "\n",
            "Binaries\n",
            " x6 x7 x8 x9 x10 x11\n",
            "\n",
            "Generals\n",
            " x0 x1 x2 x3 x4 x5\n",
            "End\n",
            "\n"
          ],
          "name": "stdout"
        }
      ]
    },
    {
      "cell_type": "code",
      "metadata": {
        "id": "7QsOma-VFkAk"
      },
      "source": [
        "#take a look at the QUBO parameters \n",
        "print('constant:\\t\\t\\t', mod.objective.constant)\n",
        "\n",
        "print('linear dict:\\t\\t\\t', mod.objective.linear.to_dict())\n",
        "print('linear array:\\t\\t\\t', mod.objective.linear.to_array())\n",
        "print('linear array as sparse matrix:\\n', mod.objective.linear.coefficients, '\\n')\n",
        "\n",
        "print('quadratic dict w/ index:\\t', mod.objective.quadratic.to_dict())\n",
        "print('quadratic dict w/ name:\\t\\t', mod.objective.quadratic.to_dict(use_name=True))\n",
        "print('symmetric quadratic dict w/ name:\\t', mod.objective.quadratic.to_dict(use_name=True, symmetric=True))\n",
        "print('quadratic matrix:\\n', mod.objective.quadratic.to_array(),'\\n')\n",
        "print('symmetric quadratic matrix:\\n', mod.objective.quadratic.to_array(symmetric=True),'\\n')\n",
        "print('quadratic matrix as sparse matrix:\\n', mod.objective.quadratic.coefficients)\n"
      ],
      "execution_count": null,
      "outputs": []
    },
    {
      "cell_type": "code",
      "metadata": {
        "colab": {
          "base_uri": "https://localhost:8080/"
        },
        "id": "f1xI7F9CQ7GM",
        "outputId": "e8876631-97c1-4b1e-d1a2-07b5d8a22da7"
      },
      "source": [
        "#compare the model and mod solutions \n",
        "print('\\n',model.solve())\n",
        "\n",
        "solution=cplex.solve(mod)\n",
        "print(solution)\n"
      ],
      "execution_count": 23,
      "outputs": [
        {
          "output_type": "stream",
          "text": [
            "\n",
            " solution for: docplex_model1\n",
            "objective: -105680\n",
            "x2=15\n",
            "x3=30\n",
            "x4=70\n",
            "x5=60\n",
            "x6=45\n",
            "x7=1\n",
            "x8=1\n",
            "x9=1\n",
            "x10=1\n",
            "x11=1\n",
            "x12=1\n",
            "\n",
            "optimal function value: 189225.0\n",
            "optimal value: [-0. 30. 30. 70. 45. 45.  1.  1.  1.  1.  1.  1.]\n",
            "status: INFEASIBLE\n"
          ],
          "name": "stdout"
        }
      ]
    },
    {
      "cell_type": "code",
      "metadata": {
        "id": "8yw7dotOqHDk"
      },
      "source": [
        "#convert the QP to all-binary QUBO \n",
        "from qiskit.optimization.converters import QuadraticProgramToQubo\n",
        "conv = QuadraticProgramToQubo()\n",
        "mod_Qubo = conv.convert(mod)"
      ],
      "execution_count": 22,
      "outputs": []
    },
    {
      "cell_type": "code",
      "metadata": {
        "id": "ZDyMEpf0rrHf"
      },
      "source": [
        "import dimod\n",
        "import hybrid\n",
        "\n",
        "import neal #sampler = neal.SimulatedAnnealingSampler()\n",
        "\n",
        "from dwave.system import LeapHybridSampler\n",
        "from dwave.system import DWaveSampler, EmbeddingComposite\n",
        "\n",
        "# Extract qubo data\n",
        "\n",
        "#comment the line below for testing with the simple qubo\n",
        "qubo=mod_Qubo #qp_eq_bin #mod_Qubo .to_array() \n",
        "\n",
        "Q = qubo.objective.quadratic.to_array()#.to_dict(use_name=True)\n",
        "g = qubo.objective.linear.to_array()#.to_dict(use_name=True)\n",
        "c = qubo.objective.constant\n",
        "\n",
        "# Build BQM\n",
        "bqm = dimod.BQM(g, Q, c, dimod.BINARY)\n",
        "\n",
        "# Solve\n",
        "#sampler = LeapHybridSampler()\n",
        "sampler = neal.SimulatedAnnealingSampler()\n"
      ],
      "execution_count": 30,
      "outputs": []
    },
    {
      "cell_type": "code",
      "metadata": {
        "id": "N95owg08qeg7"
      },
      "source": [
        "from dwave.plugins.qiskit import DWaveMinimumEigensolver\n",
        "\n",
        "# Solve using Qiskit's MinimumEigenOptimizer on D-Wave QPU as a minimum eigen solver\n",
        "dwave_mes = DWaveMinimumEigensolver(sampler=sampler)\n",
        "optimizer = MinimumEigenOptimizer(dwave_mes)\n",
        "\n",
        "%time result = optimizer.solve(mod_Qubo) #use qubo for testing instead of mod_Qubo\n",
        "print(result)\n",
        "result.samples"
      ],
      "execution_count": null,
      "outputs": []
    },
    {
      "cell_type": "markdown",
      "metadata": {
        "id": "2qlYKToAp4hI"
      },
      "source": [
        "#try to modify the problem formulation "
      ]
    },
    {
      "cell_type": "code",
      "metadata": {
        "colab": {
          "base_uri": "https://localhost:8080/"
        },
        "id": "lftdNVIBViTl",
        "outputId": "009e333a-01ee-48e6-a460-08b4bab7249f"
      },
      "source": [
        "#use the cost value as a quadratic part of the qubo\n",
        "\n",
        "#quadratic=mod.objective.quadratic.to_array()\n",
        "linear=s_df['Cost'].values\n",
        "quadratic=np.kron(linear.reshape(1,-1),linear.reshape(-1,1))\n",
        "\n",
        "#adding constrains\n",
        "lagrange=10**5 #lagrange multiplier\n",
        "linear1=np.array([1,1,0,0,1,1]) #120 masks demand constrain\n",
        "linear2=np.array([0,0,1,1,0,0]) #100 sanitizers demand constrain\n",
        "quadratic+=lagrange*np.kron(linear1.reshape(1,-1),linear1.reshape(-1,1))\n",
        "quadratic+=lagrange*np.kron(linear2.reshape(1,-1),linear2.reshape(-1,1))\n",
        "\n",
        "#linear=mod.objective.linear.to_array()\n",
        "linear=2*120*linear1*lagrange+2*100*linear2*lagrange\n",
        "\n",
        "#constant =mod.objective.constant\n",
        "constant = lagrange*(120+100)**2\n",
        "\n",
        "mod.minimize(constant=constant,  quadratic=quadratic)#,linear=-linear)\n",
        "print(mod.export_as_lp_string())"
      ],
      "execution_count": 32,
      "outputs": [
        {
          "output_type": "stream",
          "text": [
            "\\ This file has been generated by DOcplex\n",
            "\\ ENCODING=ISO-8859-1\n",
            "\\Problem name: docplex_model1\n",
            "\n",
            "Minimize\n",
            " obj: [ 200018 x0^2 + 400024 x0*x1 + 12 x0*x2 + 36 x0*x3 + 400024 x0*x4\n",
            "      + 400012 x0*x5 + 200008 x1^2 + 8 x1*x2 + 24 x1*x3 + 400016 x1*x4\n",
            "      + 400008 x1*x5 + 200002 x2^2 + 400012 x2*x3 + 8 x2*x4 + 4 x2*x5\n",
            "      + 200018 x3^2 + 24 x3*x4 + 12 x3*x5 + 200008 x4^2 + 400008 x4*x5\n",
            "      + 200002 x5^2 ]/2 + 4840000000\n",
            "Subject To\n",
            " _L_EXPR_1: x0 - 40 x6 <= 0\n",
            " _L_EXPR_2: x1 - 30 x7 <= 0\n",
            " _L_EXPR_3: x2 - 30 x8 <= 0\n",
            " _L_EXPR_4: x3 - 100 x9 <= 0\n",
            " _L_EXPR_5: x4 - 60 x10 <= 0\n",
            " _L_EXPR_6: x5 - 45 x11 <= 0\n",
            " _L_EXPR_7: x0 >= 0\n",
            " _L_EXPR_8: x1 >= 0\n",
            " _L_EXPR_9: x2 >= 0\n",
            " _L_EXPR_10: x3 >= 0\n",
            " _L_EXPR_11: x4 >= 0\n",
            " _L_EXPR_12: x5 >= 0\n",
            " _L_EXPR_13: x0 <= 40\n",
            " _L_EXPR_14: x1 <= 30\n",
            " _L_EXPR_15: x2 <= 30\n",
            " _L_EXPR_16: x3 <= 100\n",
            " _L_EXPR_17: x4 <= 60\n",
            " _L_EXPR_18: x5 <= 45\n",
            " _L_EXPR_19: x2 + x3 = 100\n",
            " _L_EXPR_20: x0 + x1 + x4 + x5 = 120\n",
            "\n",
            "Bounds\n",
            " 0 <= x6 <= 1\n",
            " 0 <= x7 <= 1\n",
            " 0 <= x8 <= 1\n",
            " 0 <= x9 <= 1\n",
            " 0 <= x10 <= 1\n",
            " 0 <= x11 <= 1\n",
            "\n",
            "Binaries\n",
            " x6 x7 x8 x9 x10 x11\n",
            "\n",
            "Generals\n",
            " x0 x1 x2 x3 x4 x5\n",
            "End\n",
            "\n"
          ],
          "name": "stdout"
        }
      ]
    },
    {
      "cell_type": "code",
      "metadata": {
        "colab": {
          "base_uri": "https://localhost:8080/"
        },
        "id": "e_N_IlzgKuWl",
        "outputId": "6ba5fec7-602b-4aa8-8e66-394c93f206e4"
      },
      "source": [
        "cplex.solve(mod)"
      ],
      "execution_count": 33,
      "outputs": [
        {
          "output_type": "execute_result",
          "data": {
            "text/plain": [
              "optimal function value: 7280189225.0\n",
              "optimal value: [-0. 15. 30. 70. 60. 45.  1.  1.  1.  1.  1.  1.]\n",
              "status: SUCCESS"
            ]
          },
          "metadata": {
            "tags": []
          },
          "execution_count": 33
        }
      ]
    },
    {
      "cell_type": "code",
      "metadata": {
        "colab": {
          "base_uri": "https://localhost:8080/"
        },
        "id": "BvXzzVlVNV9b",
        "outputId": "2cddae1e-9ed3-4e67-82ea-593c106edcd7"
      },
      "source": [
        "#turn the demand inequalities into equalities\n",
        "for eq_n in range(19,21):\n",
        "  lc_name='_L_EXPR_'+str(eq_n)\n",
        "  lin_c = mod.get_linear_constraint(lc_name)\n",
        "  print('lin_c:',lc_name,lin_c.linear.to_dict(use_name=True), lin_c.sense, lin_c.rhs)\n",
        "  mod.remove_linear_constraint(lc_name)\n",
        "  mod.linear_constraint(lin_c.linear.to_dict(use_name=True), sense='==', rhs=lin_c.rhs, name=lc_name)\n",
        "\n",
        "print(mod.export_as_lp_string())\n"
      ],
      "execution_count": 34,
      "outputs": [
        {
          "output_type": "stream",
          "text": [
            "lin_c: _L_EXPR_19 {'x2': 1.0, 'x3': 1.0} ConstraintSense.EQ 100\n",
            "lin_c: _L_EXPR_20 {'x0': 1.0, 'x1': 1.0, 'x4': 1.0, 'x5': 1.0} ConstraintSense.EQ 120\n",
            "\\ This file has been generated by DOcplex\n",
            "\\ ENCODING=ISO-8859-1\n",
            "\\Problem name: docplex_model1\n",
            "\n",
            "Minimize\n",
            " obj: [ 200018 x0^2 + 400024 x0*x1 + 12 x0*x2 + 36 x0*x3 + 400024 x0*x4\n",
            "      + 400012 x0*x5 + 200008 x1^2 + 8 x1*x2 + 24 x1*x3 + 400016 x1*x4\n",
            "      + 400008 x1*x5 + 200002 x2^2 + 400012 x2*x3 + 8 x2*x4 + 4 x2*x5\n",
            "      + 200018 x3^2 + 24 x3*x4 + 12 x3*x5 + 200008 x4^2 + 400008 x4*x5\n",
            "      + 200002 x5^2 ]/2 + 4840000000\n",
            "Subject To\n",
            " _L_EXPR_1: x0 - 40 x6 <= 0\n",
            " _L_EXPR_2: x1 - 30 x7 <= 0\n",
            " _L_EXPR_3: x2 - 30 x8 <= 0\n",
            " _L_EXPR_4: x3 - 100 x9 <= 0\n",
            " _L_EXPR_5: x4 - 60 x10 <= 0\n",
            " _L_EXPR_6: x5 - 45 x11 <= 0\n",
            " _L_EXPR_7: x0 >= 0\n",
            " _L_EXPR_8: x1 >= 0\n",
            " _L_EXPR_9: x2 >= 0\n",
            " _L_EXPR_10: x3 >= 0\n",
            " _L_EXPR_11: x4 >= 0\n",
            " _L_EXPR_12: x5 >= 0\n",
            " _L_EXPR_13: x0 <= 40\n",
            " _L_EXPR_14: x1 <= 30\n",
            " _L_EXPR_15: x2 <= 30\n",
            " _L_EXPR_16: x3 <= 100\n",
            " _L_EXPR_17: x4 <= 60\n",
            " _L_EXPR_18: x5 <= 45\n",
            " _L_EXPR_19: x2 + x3 = 100\n",
            " _L_EXPR_20: x0 + x1 + x4 + x5 = 120\n",
            "\n",
            "Bounds\n",
            " 0 <= x6 <= 1\n",
            " 0 <= x7 <= 1\n",
            " 0 <= x8 <= 1\n",
            " 0 <= x9 <= 1\n",
            " 0 <= x10 <= 1\n",
            " 0 <= x11 <= 1\n",
            "\n",
            "Binaries\n",
            " x6 x7 x8 x9 x10 x11\n",
            "\n",
            "Generals\n",
            " x0 x1 x2 x3 x4 x5\n",
            "End\n",
            "\n"
          ],
          "name": "stdout"
        }
      ]
    },
    {
      "cell_type": "code",
      "metadata": {
        "colab": {
          "base_uri": "https://localhost:8080/"
        },
        "id": "oJTSbvGiKy5Q",
        "outputId": "8beffda8-03c9-48e1-e280-11a2464b2d16"
      },
      "source": [
        "cplex.solve(mod)"
      ],
      "execution_count": 35,
      "outputs": [
        {
          "output_type": "execute_result",
          "data": {
            "text/plain": [
              "optimal function value: 7280189225.0\n",
              "optimal value: [-0. 15. 30. 70. 60. 45.  1.  1.  1.  1.  1.  1.]\n",
              "status: SUCCESS"
            ]
          },
          "metadata": {
            "tags": []
          },
          "execution_count": 35
        }
      ]
    },
    {
      "cell_type": "code",
      "metadata": {
        "id": "BN00HeH31vTf",
        "colab": {
          "base_uri": "https://localhost:8080/"
        },
        "outputId": "4db9e74e-3ef1-4189-c3d9-a95498088137"
      },
      "source": [
        "#remove the linear binary-integer relationship constrains  \n",
        "for eq_n in range(1,7):\n",
        "  lc_name='_L_EXPR_'+str(eq_n)\n",
        "  mod.remove_linear_constraint(lc_name)\n",
        "\n",
        "print(mod.export_as_lp_string())"
      ],
      "execution_count": 36,
      "outputs": [
        {
          "output_type": "stream",
          "text": [
            "\\ This file has been generated by DOcplex\n",
            "\\ ENCODING=ISO-8859-1\n",
            "\\Problem name: docplex_model1\n",
            "\n",
            "Minimize\n",
            " obj: [ 200018 x0^2 + 400024 x0*x1 + 12 x0*x2 + 36 x0*x3 + 400024 x0*x4\n",
            "      + 400012 x0*x5 + 200008 x1^2 + 8 x1*x2 + 24 x1*x3 + 400016 x1*x4\n",
            "      + 400008 x1*x5 + 200002 x2^2 + 400012 x2*x3 + 8 x2*x4 + 4 x2*x5\n",
            "      + 200018 x3^2 + 24 x3*x4 + 12 x3*x5 + 200008 x4^2 + 400008 x4*x5\n",
            "      + 200002 x5^2 ]/2 + 4840000000\n",
            "Subject To\n",
            " _L_EXPR_7: x0 >= 0\n",
            " _L_EXPR_8: x1 >= 0\n",
            " _L_EXPR_9: x2 >= 0\n",
            " _L_EXPR_10: x3 >= 0\n",
            " _L_EXPR_11: x4 >= 0\n",
            " _L_EXPR_12: x5 >= 0\n",
            " _L_EXPR_13: x0 <= 40\n",
            " _L_EXPR_14: x1 <= 30\n",
            " _L_EXPR_15: x2 <= 30\n",
            " _L_EXPR_16: x3 <= 100\n",
            " _L_EXPR_17: x4 <= 60\n",
            " _L_EXPR_18: x5 <= 45\n",
            " _L_EXPR_19: x2 + x3 = 100\n",
            " _L_EXPR_20: x0 + x1 + x4 + x5 = 120\n",
            "\n",
            "Bounds\n",
            " 0 <= x6 <= 1\n",
            " 0 <= x7 <= 1\n",
            " 0 <= x8 <= 1\n",
            " 0 <= x9 <= 1\n",
            " 0 <= x10 <= 1\n",
            " 0 <= x11 <= 1\n",
            "\n",
            "Binaries\n",
            " x6 x7 x8 x9 x10 x11\n",
            "\n",
            "Generals\n",
            " x0 x1 x2 x3 x4 x5\n",
            "End\n",
            "\n"
          ],
          "name": "stdout"
        }
      ]
    },
    {
      "cell_type": "code",
      "metadata": {
        "colab": {
          "base_uri": "https://localhost:8080/"
        },
        "id": "pCk9bjfRRJ-Q",
        "outputId": "8ab329fa-7ae9-4e94-da20-5406cf00a716"
      },
      "source": [
        "#remove the binary variables\n",
        "bb2zero=dict({'x'+str(i):0 for i in range(6,12)})\n",
        "sub = mod.substitute_variables(constants=bb2zero)\n",
        "print(sub.export_as_lp_string())"
      ],
      "execution_count": 37,
      "outputs": [
        {
          "output_type": "stream",
          "text": [
            "\\ This file has been generated by DOcplex\n",
            "\\ ENCODING=ISO-8859-1\n",
            "\\Problem name: docplex_model1\n",
            "\n",
            "Minimize\n",
            " obj: [ 200018 x0^2 + 400024 x0*x1 + 12 x0*x2 + 36 x0*x3 + 400024 x0*x4\n",
            "      + 400012 x0*x5 + 200008 x1^2 + 8 x1*x2 + 24 x1*x3 + 400016 x1*x4\n",
            "      + 400008 x1*x5 + 200002 x2^2 + 400012 x2*x3 + 8 x2*x4 + 4 x2*x5\n",
            "      + 200018 x3^2 + 24 x3*x4 + 12 x3*x5 + 200008 x4^2 + 400008 x4*x5\n",
            "      + 200002 x5^2 ]/2 + 4840000000\n",
            "Subject To\n",
            " _L_EXPR_7: x0 >= 0\n",
            " _L_EXPR_8: x1 >= 0\n",
            " _L_EXPR_9: x2 >= 0\n",
            " _L_EXPR_10: x3 >= 0\n",
            " _L_EXPR_11: x4 >= 0\n",
            " _L_EXPR_12: x5 >= 0\n",
            " _L_EXPR_13: x0 <= 40\n",
            " _L_EXPR_14: x1 <= 30\n",
            " _L_EXPR_15: x2 <= 30\n",
            " _L_EXPR_16: x3 <= 100\n",
            " _L_EXPR_17: x4 <= 60\n",
            " _L_EXPR_18: x5 <= 45\n",
            " _L_EXPR_19: x2 + x3 = 100\n",
            " _L_EXPR_20: x0 + x1 + x4 + x5 = 120\n",
            "\n",
            "Bounds\n",
            "\n",
            "Generals\n",
            " x0 x1 x2 x3 x4 x5\n",
            "End\n",
            "\n"
          ],
          "name": "stdout"
        }
      ]
    },
    {
      "cell_type": "code",
      "metadata": {
        "colab": {
          "base_uri": "https://localhost:8080/"
        },
        "id": "6J0foLrkfldo",
        "outputId": "e30d1cd3-0cb5-4428-85dd-b8d0fe9911ea"
      },
      "source": [
        "cplex.solve(sub)"
      ],
      "execution_count": 38,
      "outputs": [
        {
          "output_type": "execute_result",
          "data": {
            "text/plain": [
              "optimal function value: 7280189225.0\n",
              "optimal value: [-0. 15. 30. 70. 60. 45.]\n",
              "status: SUCCESS"
            ]
          },
          "metadata": {
            "tags": []
          },
          "execution_count": 38
        }
      ]
    },
    {
      "cell_type": "code",
      "metadata": {
        "id": "GnVKgsllsFAO"
      },
      "source": [
        "#convert the QP to all-binary QUBO \n",
        "from qiskit.optimization.converters import QuadraticProgramToQubo\n",
        "conv = QuadraticProgramToQubo()\n",
        "mod_Qubo = conv.convert(sub)"
      ],
      "execution_count": 41,
      "outputs": []
    },
    {
      "cell_type": "code",
      "metadata": {
        "id": "wBlT79HlaF9b"
      },
      "source": [
        "print('constant:\\t\\t\\t', mod_Qubo.objective.constant)\n",
        "print('linear array as sparse matrix:\\n', mod_Qubo.objective.linear.coefficients, '\\n')\n",
        "print('quadratic matrix as sparse matrix:\\n', mod_Qubo.objective.quadratic.coefficients)"
      ],
      "execution_count": null,
      "outputs": []
    },
    {
      "cell_type": "markdown",
      "metadata": {
        "id": "q2wPi50Mvx_A"
      },
      "source": [
        "## Explore the QP to QUBO converter "
      ]
    },
    {
      "cell_type": "code",
      "metadata": {
        "id": "bf_5xmKTNjOL",
        "colab": {
          "base_uri": "https://localhost:8080/"
        },
        "outputId": "94458734-a27f-4243-9293-8733a93f8b36"
      },
      "source": [
        "from qiskit.optimization.converters import InequalityToEquality\n",
        "from qiskit.optimization.converters import IntegerToBinary\n",
        "from qiskit.optimization.converters import LinearEqualityToPenalty\n",
        "\n",
        "ineq2eq = InequalityToEquality()\n",
        "qp_eq = ineq2eq.convert(mod)\n",
        "#print(qp_eq.export_as_lp_string())\n",
        "\n",
        "int2bin = IntegerToBinary()\n",
        "qp_eq_bin = int2bin.convert(qp_eq)\n",
        "#print(qp_eq_bin.export_as_lp_string())\n",
        "\n",
        "lineq2penalty = LinearEqualityToPenalty()\n",
        "mod_Qubo2 = lineq2penalty.convert(qp_eq_bin)\n",
        "#print(qubo.export_as_lp_string())\n",
        "\n",
        "len(mod_Qubo2._variables_index)"
      ],
      "execution_count": null,
      "outputs": [
        {
          "output_type": "execute_result",
          "data": {
            "text/plain": [
              "880"
            ]
          },
          "metadata": {
            "tags": []
          },
          "execution_count": 54
        }
      ]
    },
    {
      "cell_type": "markdown",
      "metadata": {
        "id": "hpaV5g7fqtWh"
      },
      "source": [
        "#try the D-wave again"
      ]
    },
    {
      "cell_type": "code",
      "metadata": {
        "id": "ZWzO5oxgNyyq"
      },
      "source": [
        "import dimod\n",
        "import hybrid\n",
        "\n",
        "import neal #sampler = neal.SimulatedAnnealingSampler()\n",
        "\n",
        "from dwave.system import LeapHybridSampler\n",
        "from dwave.system import DWaveSampler, EmbeddingComposite\n",
        "\n",
        "import neal\n",
        "\n",
        "\n",
        "# Extract qubo data\n",
        "\n",
        "qubo=mod_Qubo #qp_eq_bin #mod_Qubo .to_array() \n",
        "\n",
        "Q = qubo.objective.quadratic.to_array()#.to_dict(use_name=True)\n",
        "g = qubo.objective.linear.to_array()#.to_dict(use_name=True)\n",
        "c = qubo.objective.constant\n",
        "\n",
        "# Build BQM\n",
        "bqm = dimod.BQM(g, Q, c, dimod.BINARY)\n",
        "\n",
        "# Solve\n",
        "#sampler = LeapHybridSampler()\n",
        "sampler = neal.SimulatedAnnealingSampler()\n"
      ],
      "execution_count": 43,
      "outputs": []
    },
    {
      "cell_type": "code",
      "metadata": {
        "colab": {
          "base_uri": "https://localhost:8080/"
        },
        "id": "cuTtHSyZNlPw",
        "outputId": "c52c2d8a-3ea4-4802-ff67-c3e0c3825560"
      },
      "source": [
        "qubo=sub\n",
        "cplex.solve(qubo)"
      ],
      "execution_count": 44,
      "outputs": [
        {
          "output_type": "execute_result",
          "data": {
            "text/plain": [
              "optimal function value: 7280189225.0\n",
              "optimal value: [-0. 15. 30. 70. 60. 45.]\n",
              "status: SUCCESS"
            ]
          },
          "metadata": {
            "tags": []
          },
          "execution_count": 44
        }
      ]
    },
    {
      "cell_type": "code",
      "metadata": {
        "colab": {
          "base_uri": "https://localhost:8080/"
        },
        "id": "1esF6lp-NGnm",
        "outputId": "170ca633-08ae-4872-d6bb-6cdb8a870d17"
      },
      "source": [
        "#solve it using D-wave\n",
        "bqm.result = sampler.sample(bqm)\n",
        "\n",
        "# Extract solution\n",
        "result_dict = bqm.result.first.sample\n",
        "\n",
        "print(bqm.result)"
      ],
      "execution_count": 45,
      "outputs": [
        {
          "output_type": "stream",
          "text": [
            "... 838\n",
            "...   0\n",
            "['BINARY', 1 rows, 1 samples, 839 variables]\n"
          ],
          "name": "stdout"
        }
      ]
    },
    {
      "cell_type": "markdown",
      "metadata": {
        "id": "ikX0m0zBwK9c"
      },
      "source": [
        "#More things to try"
      ]
    },
    {
      "cell_type": "code",
      "metadata": {
        "id": "73gX3fEzgami"
      },
      "source": [
        "from dwave_qbsolv import QBSolv\n",
        "response = QBSolv().sample_qubo(Q)\n",
        "print(\"samples=\" + str(list(response.samples())))\n",
        "print(\"energies=\" + str(list(response.data_vectors['energy'])))"
      ],
      "execution_count": null,
      "outputs": []
    },
    {
      "cell_type": "code",
      "metadata": {
        "colab": {
          "base_uri": "https://localhost:8080/"
        },
        "id": "CJcpONu7Yog4",
        "outputId": "b8429fad-0f08-447c-cf4e-28ef20b029a3"
      },
      "source": [
        "bqm.result.data_vectors['energy']"
      ],
      "execution_count": 47,
      "outputs": [
        {
          "output_type": "execute_result",
          "data": {
            "text/plain": [
              "array([-9.23177591e+73])"
            ]
          },
          "metadata": {
            "tags": []
          },
          "execution_count": 47
        }
      ]
    },
    {
      "cell_type": "code",
      "metadata": {
        "id": "Kno5KyIWBQ6a"
      },
      "source": [
        "op, offset = qubo.to_ising()\n",
        "qp=QuadraticProgram()\n",
        "qp.from_ising(op, offset, linear=True)\n",
        "print(qp.export_as_lp_string())"
      ],
      "execution_count": null,
      "outputs": []
    },
    {
      "cell_type": "code",
      "metadata": {
        "colab": {
          "base_uri": "https://localhost:8080/"
        },
        "id": "OGI-Z0PtbsoQ",
        "outputId": "df28dc86-f285-4260-ea53-fb589854d28f"
      },
      "source": [
        "bqm1 = dimod.BinaryQuadraticModel.from_ising({}, {('a', 'b'): -1})\n",
        "sampleset = dimod.SampleSet.from_samples_bqm({'a': -1, 'b': 1},bqm1)\n",
        "print(bqm1)\n",
        "print(sampleset)"
      ],
      "execution_count": 65,
      "outputs": [
        {
          "output_type": "stream",
          "text": [
            "BinaryQuadraticModel({a: 0.0, b: 0.0}, {('a', 'b'): -1}, 0, 'SPIN')\n",
            "   a  b energy num_oc.\n",
            "0 -1 +1    1.0       1\n",
            "['SPIN', 1 rows, 1 samples, 2 variables]\n"
          ],
          "name": "stdout"
        }
      ]
    },
    {
      "cell_type": "code",
      "metadata": {
        "id": "4antW7Vf-V_0",
        "colab": {
          "base_uri": "https://localhost:8080/"
        },
        "outputId": "0f6dde0c-5b39-47a6-f825-ce341c2f3154"
      },
      "source": [
        "len(bqm.result.to_serializable()['variable_labels'])#['sample_data']['data']"
      ],
      "execution_count": null,
      "outputs": [
        {
          "output_type": "execute_result",
          "data": {
            "text/plain": [
              "845"
            ]
          },
          "metadata": {
            "tags": []
          },
          "execution_count": 79
        }
      ]
    },
    {
      "cell_type": "code",
      "metadata": {
        "id": "J-wobKx59E5h"
      },
      "source": [
        "#sub.substitute_variables(bqm.result)"
      ],
      "execution_count": null,
      "outputs": []
    }
  ]
}