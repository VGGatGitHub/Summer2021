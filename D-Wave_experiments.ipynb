{
  "nbformat": 4,
  "nbformat_minor": 0,
  "metadata": {
    "colab": {
      "name": "D-Wave_experiments.ipynb",
      "provenance": [],
      "include_colab_link": true
    },
    "kernelspec": {
      "display_name": "Python 3.7.11 64-bit",
      "language": "python",
      "name": "python371164biteaadfa2921794657936ac15851c51ff8"
    },
    "language_info": {
      "codemirror_mode": {
        "name": "ipython",
        "version": 3
      },
      "file_extension": ".py",
      "mimetype": "text/x-python",
      "name": "python",
      "nbconvert_exporter": "python",
      "pygments_lexer": "ipython3",
      "version": "3.7.11-final"
    }
  },
  "cells": [
    {
      "cell_type": "markdown",
      "metadata": {
        "id": "view-in-github",
        "colab_type": "text"
      },
      "source": [
        "<a href=\"https://colab.research.google.com/github/VGGatGitHub/Summer2021/blob/main/D-Wave_experiments.ipynb\" target=\"_parent\"><img src=\"https://colab.research.google.com/assets/colab-badge.svg\" alt=\"Open In Colab\"/></a>"
      ]
    },
    {
      "cell_type": "markdown",
      "metadata": {
        "id": "rm4Kd0IfYVuK"
      },
      "source": [
        "Notebook experimenting how to use DOcplex and IBM Quantum."
      ]
    },
    {
      "cell_type": "markdown",
      "metadata": {
        "id": "TWpZnxqoxtCH"
      },
      "source": [
        "# 0. Install libraries & clone repo"
      ]
    },
    {
      "cell_type": "code",
      "metadata": {
        "id": "jjhGsa9LxtCJ"
      },
      "source": [
        "import sys\n",
        "\n",
        "if hasattr(sys, 'real_prefix'):\n",
        "    #we are in a virtual env.\n",
        "    !pip install cplex && pip install docplex\n",
        "else:\n",
        "    !pip install --user cplex && pip install --user docplex\n",
        "\n",
        "print()\n",
        "!pip show cplex\n",
        "print()\n",
        "!pip show docplex\n",
        "\n",
        "#it my be useful to retstart you runtime"
      ],
      "execution_count": null,
      "outputs": []
    },
    {
      "cell_type": "code",
      "metadata": {
        "id": "zeBTiUzOwgR_"
      },
      "source": [
        "!pip install qiskit\n",
        "!pip show qiskit\n",
        "\n",
        "# !pip install qiskit-optimization\n",
        "#!pip show qiskit-optimization\n",
        "\n",
        "#it my be useful to retstart you runtime"
      ],
      "execution_count": null,
      "outputs": []
    },
    {
      "cell_type": "markdown",
      "metadata": {
        "id": "DMGKfSM9YVuM"
      },
      "source": [
        "**Possibly need to restart runtime here.**"
      ]
    },
    {
      "cell_type": "code",
      "metadata": {
        "id": "RPk5nF4ZxtCJ"
      },
      "source": [
        "#it my be useful to retstart you runtime\n",
        "\n",
        "# clone repo\n",
        "!git clone https://github.com/VGGatGitHub/Summer2021.git"
      ],
      "execution_count": null,
      "outputs": []
    },
    {
      "cell_type": "code",
      "metadata": {
        "id": "WZZGbQHGHfQj"
      },
      "source": [
        "#!curl  -H \"X-Auth-Token: YourAPIkey\" -X DELETE https://cloud.dwavesys.com/sapi/problems/7211d196-cfc6-4630-84d0-f42ae5d55f0f"
      ],
      "execution_count": 4,
      "outputs": []
    },
    {
      "cell_type": "code",
      "metadata": {
        "id": "0kLLmhcEHmUX"
      },
      "source": [
        "#https://www.youtube.com/watch?v=bErs0dxC1aY&list=PLPvKnT7dgEsuhec_yW9oxcZ6gg9SfRFFV\n",
        "#https://docs.ocean.dwavesys.com/en/latest/overview/install.html#installoceansoftware\n",
        "#!python -m venv ocean\n",
        "#!\\Scripts\\activate\n",
        "\n",
        "!pip install dwave-ocean-sdk\n",
        "!pip install dwave-qiskit-plugin"
      ],
      "execution_count": null,
      "outputs": []
    },
    {
      "cell_type": "code",
      "metadata": {
        "id": "5axT-WwJIKcp"
      },
      "source": [
        "!pip install requests --upgrade"
      ],
      "execution_count": null,
      "outputs": []
    },
    {
      "cell_type": "code",
      "metadata": {
        "id": "yOOMcKtOH3YV"
      },
      "source": [
        "!dwave setup #API endpoint URL: https://cloud.dwavesys.com/sapi/"
      ],
      "execution_count": null,
      "outputs": []
    },
    {
      "cell_type": "markdown",
      "metadata": {
        "id": "jFOO2BnFxtCM"
      },
      "source": [
        "# 1. Load Data"
      ]
    },
    {
      "cell_type": "code",
      "metadata": {
        "id": "iH4yv4pIRZzd",
        "colab": {
          "base_uri": "https://localhost:8080/"
        },
        "outputId": "d432e5a1-2d9a-4f46-fbf5-68ad9691c81b"
      },
      "source": [
        "!pwd"
      ],
      "execution_count": 1,
      "outputs": [
        {
          "output_type": "stream",
          "text": [
            "/content\n"
          ],
          "name": "stdout"
        }
      ]
    },
    {
      "cell_type": "code",
      "metadata": {
        "id": "y8U39lpVaWLJ",
        "colab": {
          "base_uri": "https://localhost:8080/"
        },
        "outputId": "a2fb7654-724a-4849-cbcd-d48bf8bd9550"
      },
      "source": [
        "#next run the model.py in the folder introScenario\n",
        "!pwd\n",
        "#%cd ../intermediateScenario/\n",
        "#%cd ./Summer2021/intermediateScenario\n",
        "%cd ./Summer2021/introScenario/\n",
        "#%ls\n"
      ],
      "execution_count": 2,
      "outputs": [
        {
          "output_type": "stream",
          "text": [
            "/content\n",
            "/content/Summer2021/introScenario\n"
          ],
          "name": "stdout"
        }
      ]
    },
    {
      "cell_type": "code",
      "metadata": {
        "id": "w5eQxjG1YVuP"
      },
      "source": [
        "import pandas as pd\n",
        "\n",
        "# supply + costs\n",
        "supply_file = './plants.csv'\n",
        "\n",
        "# demand\n",
        "demand_file = './customerDemand.csv'\n",
        "\n",
        "# for now load example data (plants.csv and customerDemand.csv under introScenario folder)\n",
        "s_df = pd.read_csv(supply_file)\n",
        "d_df = pd.read_csv(demand_file)"
      ],
      "execution_count": 3,
      "outputs": []
    },
    {
      "cell_type": "code",
      "metadata": {
        "id": "jpII3ShlTtMI",
        "colab": {
          "base_uri": "https://localhost:8080/",
          "height": 0
        },
        "outputId": "a0b4a814-a25b-4c0c-809e-9e7160c1be94"
      },
      "source": [
        "d_df"
      ],
      "execution_count": 4,
      "outputs": [
        {
          "output_type": "execute_result",
          "data": {
            "text/html": [
              "<div>\n",
              "<style scoped>\n",
              "    .dataframe tbody tr th:only-of-type {\n",
              "        vertical-align: middle;\n",
              "    }\n",
              "\n",
              "    .dataframe tbody tr th {\n",
              "        vertical-align: top;\n",
              "    }\n",
              "\n",
              "    .dataframe thead th {\n",
              "        text-align: right;\n",
              "    }\n",
              "</style>\n",
              "<table border=\"1\" class=\"dataframe\">\n",
              "  <thead>\n",
              "    <tr style=\"text-align: right;\">\n",
              "      <th></th>\n",
              "      <th>Product</th>\n",
              "      <th>Demand</th>\n",
              "    </tr>\n",
              "  </thead>\n",
              "  <tbody>\n",
              "    <tr>\n",
              "      <th>0</th>\n",
              "      <td>handSanitizer</td>\n",
              "      <td>100</td>\n",
              "    </tr>\n",
              "    <tr>\n",
              "      <th>1</th>\n",
              "      <td>mask</td>\n",
              "      <td>120</td>\n",
              "    </tr>\n",
              "  </tbody>\n",
              "</table>\n",
              "</div>"
            ],
            "text/plain": [
              "         Product  Demand\n",
              "0  handSanitizer     100\n",
              "1           mask     120"
            ]
          },
          "metadata": {
            "tags": []
          },
          "execution_count": 4
        }
      ]
    },
    {
      "cell_type": "code",
      "metadata": {
        "id": "Urm0R_bETqO2",
        "colab": {
          "base_uri": "https://localhost:8080/",
          "height": 0
        },
        "outputId": "ddaabd3a-dffe-45b2-8c00-d4269c49a28b"
      },
      "source": [
        "s_df"
      ],
      "execution_count": 5,
      "outputs": [
        {
          "output_type": "execute_result",
          "data": {
            "text/html": [
              "<div>\n",
              "<style scoped>\n",
              "    .dataframe tbody tr th:only-of-type {\n",
              "        vertical-align: middle;\n",
              "    }\n",
              "\n",
              "    .dataframe tbody tr th {\n",
              "        vertical-align: top;\n",
              "    }\n",
              "\n",
              "    .dataframe thead th {\n",
              "        text-align: right;\n",
              "    }\n",
              "</style>\n",
              "<table border=\"1\" class=\"dataframe\">\n",
              "  <thead>\n",
              "    <tr style=\"text-align: right;\">\n",
              "      <th></th>\n",
              "      <th>Plants</th>\n",
              "      <th>Cost</th>\n",
              "      <th>Capacity</th>\n",
              "      <th>Product</th>\n",
              "    </tr>\n",
              "  </thead>\n",
              "  <tbody>\n",
              "    <tr>\n",
              "      <th>0</th>\n",
              "      <td>1</td>\n",
              "      <td>3</td>\n",
              "      <td>40</td>\n",
              "      <td>mask</td>\n",
              "    </tr>\n",
              "    <tr>\n",
              "      <th>1</th>\n",
              "      <td>2</td>\n",
              "      <td>2</td>\n",
              "      <td>30</td>\n",
              "      <td>mask</td>\n",
              "    </tr>\n",
              "    <tr>\n",
              "      <th>2</th>\n",
              "      <td>3</td>\n",
              "      <td>1</td>\n",
              "      <td>30</td>\n",
              "      <td>handSanitizer</td>\n",
              "    </tr>\n",
              "    <tr>\n",
              "      <th>3</th>\n",
              "      <td>4</td>\n",
              "      <td>3</td>\n",
              "      <td>100</td>\n",
              "      <td>handSanitizer</td>\n",
              "    </tr>\n",
              "    <tr>\n",
              "      <th>4</th>\n",
              "      <td>5</td>\n",
              "      <td>2</td>\n",
              "      <td>60</td>\n",
              "      <td>mask</td>\n",
              "    </tr>\n",
              "    <tr>\n",
              "      <th>5</th>\n",
              "      <td>6</td>\n",
              "      <td>1</td>\n",
              "      <td>45</td>\n",
              "      <td>mask</td>\n",
              "    </tr>\n",
              "  </tbody>\n",
              "</table>\n",
              "</div>"
            ],
            "text/plain": [
              "   Plants  Cost  Capacity        Product\n",
              "0       1     3        40           mask\n",
              "1       2     2        30           mask\n",
              "2       3     1        30  handSanitizer\n",
              "3       4     3       100  handSanitizer\n",
              "4       5     2        60           mask\n",
              "5       6     1        45           mask"
            ]
          },
          "metadata": {
            "tags": []
          },
          "execution_count": 5
        }
      ]
    },
    {
      "cell_type": "code",
      "metadata": {
        "id": "m3VwLMJr1wBE"
      },
      "source": [
        "inputs={'customerDemand':d_df,'plants':s_df}"
      ],
      "execution_count": 6,
      "outputs": []
    },
    {
      "cell_type": "markdown",
      "metadata": {
        "id": "89lxEMTBYVuQ"
      },
      "source": [
        "# 2. Solve the DO problem via DOcplex"
      ]
    },
    {
      "cell_type": "code",
      "metadata": {
        "id": "UIfEsCTjYVuQ"
      },
      "source": [
        "#If you get an error you may have to restart the runtime\n",
        "import cplex\n",
        "import docplex.mp\n",
        "from docplex.mp.model import Model\n"
      ],
      "execution_count": 7,
      "outputs": []
    },
    {
      "cell_type": "code",
      "metadata": {
        "id": "QyDnKO0VRW2r"
      },
      "source": [
        "global output_lock\n",
        "#with output_lock:\n",
        "\n",
        "try:  \n",
        "  if output_lock:\n",
        "    print(output_lock)\n",
        "except:\n",
        "  output_lock=dict({'output_lock':{}})\n",
        "\n",
        "try: \n",
        "  if outputs:\n",
        "    print(outputs)\n",
        "except:\n",
        "  outputs=dict()\n"
      ],
      "execution_count": 8,
      "outputs": []
    },
    {
      "cell_type": "code",
      "metadata": {
        "id": "QR6mPc1i4fpz",
        "colab": {
          "base_uri": "https://localhost:8080/"
        },
        "outputId": "397f0141-9cb9-4fdc-9ca7-a2d59885ab81"
      },
      "source": [
        "exec(open(\"./model.py\").read())"
      ],
      "execution_count": 9,
      "outputs": [
        {
          "output_type": "stream",
          "text": [
            "* building wado model\n",
            "model building done in 0.07050299644470215 secs\n",
            "* running wado model\n",
            "Version identifier: 20.1.0.0 | 2020-11-11 | 9bedb6d68\n",
            "CPXPARAM_Read_DataCheck                          1\n",
            "CPXPARAM_TimeLimit                               120\n",
            "Found incumbent of value 0.000000 after 0.00 sec. (0.00 ticks)\n",
            "Tried aggregator 1 time.\n",
            "MIP Presolve eliminated 20 rows and 12 columns.\n",
            "All rows and columns eliminated.\n",
            "Presolve time = 0.02 sec. (0.01 ticks)\n",
            "\n",
            "Root node processing (before b&c):\n",
            "  Real time             =    0.02 sec. (0.01 ticks)\n",
            "Parallel b&c, 2 threads:\n",
            "  Real time             =    0.00 sec. (0.00 ticks)\n",
            "  Sync time (average)   =    0.00 sec.\n",
            "  Wait time (average)   =    0.00 sec.\n",
            "                          ------------\n",
            "Total (root+branch&cut) =    0.02 sec. (0.01 ticks)\n",
            "Solve status: JobSolveStatus.OPTIMAL_SOLUTION\n",
            "* model docplex_model1 solved with objective = -105680.000\n",
            "*  KPI: total plants allocations                  = 112640.000\n",
            "*  KPI: total Cost of plants over all allocations = 6960.000\n",
            "model solve done in 0.07526326179504395 secs\n",
            "solution export done in 0.01778125762939453 secs\n"
          ],
          "name": "stdout"
        }
      ]
    },
    {
      "cell_type": "code",
      "metadata": {
        "id": "oT2QEZYAX97y",
        "colab": {
          "base_uri": "https://localhost:8080/"
        },
        "outputId": "9f074d79-a95c-4d0f-971a-f4e518c70e53"
      },
      "source": [
        "outputs\n"
      ],
      "execution_count": 10,
      "outputs": [
        {
          "output_type": "execute_result",
          "data": {
            "text/plain": [
              "{'plantsAllocation':    plants  ...  plants minValueAllocationForAssignment\n",
              " 0       1  ...                                       0\n",
              " 1       2  ...                                       0\n",
              " 2       3  ...                                       0\n",
              " 3       4  ...                                       0\n",
              " 4       5  ...                                       0\n",
              " 5       6  ...                                       0\n",
              " \n",
              " [6 rows x 7 columns]}"
            ]
          },
          "metadata": {
            "tags": []
          },
          "execution_count": 10
        }
      ]
    },
    {
      "cell_type": "code",
      "metadata": {
        "id": "TiWDpfHILzSo",
        "colab": {
          "base_uri": "https://localhost:8080/",
          "height": 0
        },
        "outputId": "42b118a1-a7b8-44f3-82ef-4b90991e1402"
      },
      "source": [
        "outputs['plantsAllocation']"
      ],
      "execution_count": 11,
      "outputs": [
        {
          "output_type": "execute_result",
          "data": {
            "text/html": [
              "<div>\n",
              "<style scoped>\n",
              "    .dataframe tbody tr th:only-of-type {\n",
              "        vertical-align: middle;\n",
              "    }\n",
              "\n",
              "    .dataframe tbody tr th {\n",
              "        vertical-align: top;\n",
              "    }\n",
              "\n",
              "    .dataframe thead th {\n",
              "        text-align: right;\n",
              "    }\n",
              "</style>\n",
              "<table border=\"1\" class=\"dataframe\">\n",
              "  <thead>\n",
              "    <tr style=\"text-align: right;\">\n",
              "      <th></th>\n",
              "      <th>plants</th>\n",
              "      <th>plants allocation decision</th>\n",
              "      <th>plants selection decision</th>\n",
              "      <th>plants Capacity</th>\n",
              "      <th>plants Product</th>\n",
              "      <th>plants Cost</th>\n",
              "      <th>plants minValueAllocationForAssignment</th>\n",
              "    </tr>\n",
              "  </thead>\n",
              "  <tbody>\n",
              "    <tr>\n",
              "      <th>0</th>\n",
              "      <td>1</td>\n",
              "      <td>0.0</td>\n",
              "      <td>1.0</td>\n",
              "      <td>40</td>\n",
              "      <td>mask</td>\n",
              "      <td>3</td>\n",
              "      <td>0</td>\n",
              "    </tr>\n",
              "    <tr>\n",
              "      <th>1</th>\n",
              "      <td>2</td>\n",
              "      <td>15.0</td>\n",
              "      <td>1.0</td>\n",
              "      <td>30</td>\n",
              "      <td>mask</td>\n",
              "      <td>2</td>\n",
              "      <td>0</td>\n",
              "    </tr>\n",
              "    <tr>\n",
              "      <th>2</th>\n",
              "      <td>3</td>\n",
              "      <td>30.0</td>\n",
              "      <td>1.0</td>\n",
              "      <td>30</td>\n",
              "      <td>handSanitizer</td>\n",
              "      <td>1</td>\n",
              "      <td>0</td>\n",
              "    </tr>\n",
              "    <tr>\n",
              "      <th>3</th>\n",
              "      <td>4</td>\n",
              "      <td>70.0</td>\n",
              "      <td>1.0</td>\n",
              "      <td>100</td>\n",
              "      <td>handSanitizer</td>\n",
              "      <td>3</td>\n",
              "      <td>0</td>\n",
              "    </tr>\n",
              "    <tr>\n",
              "      <th>4</th>\n",
              "      <td>5</td>\n",
              "      <td>60.0</td>\n",
              "      <td>1.0</td>\n",
              "      <td>60</td>\n",
              "      <td>mask</td>\n",
              "      <td>2</td>\n",
              "      <td>0</td>\n",
              "    </tr>\n",
              "    <tr>\n",
              "      <th>5</th>\n",
              "      <td>6</td>\n",
              "      <td>45.0</td>\n",
              "      <td>1.0</td>\n",
              "      <td>45</td>\n",
              "      <td>mask</td>\n",
              "      <td>1</td>\n",
              "      <td>0</td>\n",
              "    </tr>\n",
              "  </tbody>\n",
              "</table>\n",
              "</div>"
            ],
            "text/plain": [
              "   plants  ...  plants minValueAllocationForAssignment\n",
              "0       1  ...                                       0\n",
              "1       2  ...                                       0\n",
              "2       3  ...                                       0\n",
              "3       4  ...                                       0\n",
              "4       5  ...                                       0\n",
              "5       6  ...                                       0\n",
              "\n",
              "[6 rows x 7 columns]"
            ]
          },
          "metadata": {
            "tags": []
          },
          "execution_count": 11
        }
      ]
    },
    {
      "cell_type": "code",
      "metadata": {
        "id": "Z7pXtDgMxKiX",
        "colab": {
          "base_uri": "https://localhost:8080/"
        },
        "outputId": "115b9192-652e-4480-ca6f-140eafa06f0f"
      },
      "source": [
        "model"
      ],
      "execution_count": 12,
      "outputs": [
        {
          "output_type": "execute_result",
          "data": {
            "text/plain": [
              "docplex.mp.Model['docplex_model1']"
            ]
          },
          "metadata": {
            "tags": []
          },
          "execution_count": 12
        }
      ]
    },
    {
      "cell_type": "code",
      "metadata": {
        "colab": {
          "base_uri": "https://localhost:8080/"
        },
        "id": "GJb3NIm38Iuz",
        "outputId": "37850904-1e49-45d3-e9e5-f431ebd28a0d"
      },
      "source": [
        "solution=model.solve()\n",
        "print(solution)\n",
        "solution"
      ],
      "execution_count": 13,
      "outputs": [
        {
          "output_type": "stream",
          "text": [
            "solution for: docplex_model1\n",
            "objective: -105680\n",
            "x2=15\n",
            "x3=30\n",
            "x4=70\n",
            "x5=60\n",
            "x6=45\n",
            "x7=1\n",
            "x8=1\n",
            "x9=1\n",
            "x10=1\n",
            "x11=1\n",
            "x12=1\n",
            "\n"
          ],
          "name": "stdout"
        },
        {
          "output_type": "execute_result",
          "data": {
            "text/plain": [
              "docplex.mp.solution.SolveSolution(obj=-105680,values={x2:15,x3:30,x4:70,.."
            ]
          },
          "metadata": {
            "tags": []
          },
          "execution_count": 13
        }
      ]
    },
    {
      "cell_type": "code",
      "metadata": {
        "id": "zHUJX4zh7DtO",
        "colab": {
          "base_uri": "https://localhost:8080/"
        },
        "outputId": "8a1ce193-d943-4c25-ef10-b470011fb9de"
      },
      "source": [
        "cost = solution.get_objective_value()\n",
        "x = solution.get_all_values()\n",
        "x = np.array(x)\n",
        "print(cost,x)"
      ],
      "execution_count": 14,
      "outputs": [
        {
          "output_type": "stream",
          "text": [
            "-105680.0 [ 0. 15. 30. 70. 60. 45.  1.  1.  1.  1.  1.  1.]\n"
          ],
          "name": "stdout"
        }
      ]
    },
    {
      "cell_type": "markdown",
      "metadata": {
        "id": "pou-xP5MYVuR"
      },
      "source": [
        "# 3. Solve the problem using D-wave"
      ]
    },
    {
      "cell_type": "code",
      "metadata": {
        "id": "wtwrodHZYVuR"
      },
      "source": [
        "# take a look at https://quantum-computing.ibm.com/lab/docs/iql/optimization\n",
        "\n",
        "#from qiskit_optimization.translators import from_docplex_mp\n",
        "\n",
        "from qiskit.aqua.algorithms import QAOA, NumPyMinimumEigensolver\n",
        "from qiskit.optimization.algorithms import CobylaOptimizer, MinimumEigenOptimizer\n",
        "from qiskit.optimization.algorithms import CplexOptimizer\n",
        "exact = MinimumEigenOptimizer(NumPyMinimumEigensolver()) # to solve QUBOs\n",
        "cplex = CplexOptimizer()#for binary and integer variables\n",
        "cobyla = CobylaOptimizer()#for continues variables\n",
        "\n",
        "\n",
        "from qiskit.optimization import QuadraticProgram\n",
        "\n",
        "# load from a Docplex model\n",
        "mod = QuadraticProgram()\n",
        "mod.from_docplex(model)\n"
      ],
      "execution_count": null,
      "outputs": []
    },
    {
      "cell_type": "code",
      "metadata": {
        "id": "2ma1iWFMGKUJ",
        "outputId": "074a7b17-a775-4624-c76b-0e42fd55b7ae",
        "colab": {
          "base_uri": "https://localhost:8080/"
        }
      },
      "source": [
        "print(mod.export_as_lp_string())"
      ],
      "execution_count": 16,
      "outputs": [
        {
          "output_type": "stream",
          "text": [
            "\\ This file has been generated by DOcplex\n",
            "\\ ENCODING=ISO-8859-1\n",
            "\\Problem name: docplex_model1\n",
            "\n",
            "Minimize\n",
            " obj: - 464 x0 - 480 x1 - 496 x2 - 464 x3 - 480 x4 - 496 x5\n",
            "Subject To\n",
            " _L_EXPR_1: x0 - 40 x6 <= 0\n",
            " _L_EXPR_2: x1 - 30 x7 <= 0\n",
            " _L_EXPR_3: x2 - 30 x8 <= 0\n",
            " _L_EXPR_4: x3 - 100 x9 <= 0\n",
            " _L_EXPR_5: x4 - 60 x10 <= 0\n",
            " _L_EXPR_6: x5 - 45 x11 <= 0\n",
            " _L_EXPR_7: x0 >= 0\n",
            " _L_EXPR_8: x1 >= 0\n",
            " _L_EXPR_9: x2 >= 0\n",
            " _L_EXPR_10: x3 >= 0\n",
            " _L_EXPR_11: x4 >= 0\n",
            " _L_EXPR_12: x5 >= 0\n",
            " _L_EXPR_13: x0 <= 40\n",
            " _L_EXPR_14: x1 <= 30\n",
            " _L_EXPR_15: x2 <= 30\n",
            " _L_EXPR_16: x3 <= 100\n",
            " _L_EXPR_17: x4 <= 60\n",
            " _L_EXPR_18: x5 <= 45\n",
            " _L_EXPR_19: x2 + x3 <= 100\n",
            " _L_EXPR_20: x0 + x1 + x4 + x5 <= 120\n",
            "\n",
            "Bounds\n",
            " 0 <= x6 <= 1\n",
            " 0 <= x7 <= 1\n",
            " 0 <= x8 <= 1\n",
            " 0 <= x9 <= 1\n",
            " 0 <= x10 <= 1\n",
            " 0 <= x11 <= 1\n",
            "\n",
            "Binaries\n",
            " x6 x7 x8 x9 x10 x11\n",
            "\n",
            "Generals\n",
            " x0 x1 x2 x3 x4 x5\n",
            "End\n",
            "\n"
          ],
          "name": "stdout"
        }
      ]
    },
    {
      "cell_type": "code",
      "metadata": {
        "colab": {
          "base_uri": "https://localhost:8080/"
        },
        "id": "f1xI7F9CQ7GM",
        "outputId": "2c6f8757-3bdc-40de-f82d-75525fdf8fb5"
      },
      "source": [
        "#compare the model and mod solutions \n",
        "print('\\n',model.solve())\n",
        "\n",
        "solution=cplex.solve(mod)\n",
        "print(solution)\n"
      ],
      "execution_count": 17,
      "outputs": [
        {
          "output_type": "stream",
          "text": [
            "\n",
            " solution for: docplex_model1\n",
            "objective: -105680\n",
            "x2=15\n",
            "x3=30\n",
            "x4=70\n",
            "x5=60\n",
            "x6=45\n",
            "x7=1\n",
            "x8=1\n",
            "x9=1\n",
            "x10=1\n",
            "x11=1\n",
            "x12=1\n",
            "\n",
            "optimal function value: -105680.0\n",
            "optimal value: [ 0. 15. 30. 70. 60. 45.  1.  1.  1.  1.  1.  1.]\n",
            "status: SUCCESS\n"
          ],
          "name": "stdout"
        }
      ]
    },
    {
      "cell_type": "code",
      "metadata": {
        "colab": {
          "base_uri": "https://localhost:8080/"
        },
        "id": "lftdNVIBViTl",
        "outputId": "f0d6b392-17a6-4d8d-ccf4-cd763de678f3"
      },
      "source": [
        "#use the cost value as a quadratic part of the qubo\n",
        "constant =mod.objective.constant+0\n",
        "linear=s_df['Cost'].values\n",
        "quadratic=np.kron(linear.reshape(1,-1),linear.reshape(-1,1))\n",
        "#linear=mod.objective.linear.to_array()\n",
        "mod.minimize(constant=constant,  quadratic=quadratic,linear=linear)\n",
        "print(mod.export_as_lp_string())"
      ],
      "execution_count": 18,
      "outputs": [
        {
          "output_type": "stream",
          "text": [
            "\\ This file has been generated by DOcplex\n",
            "\\ ENCODING=ISO-8859-1\n",
            "\\Problem name: docplex_model1\n",
            "\n",
            "Minimize\n",
            " obj: 3 x0 + 2 x1 + x2 + 3 x3 + 2 x4 + x5 + [ 18 x0^2 + 24 x0*x1 + 12 x0*x2\n",
            "      + 36 x0*x3 + 24 x0*x4 + 12 x0*x5 + 8 x1^2 + 8 x1*x2 + 24 x1*x3 + 16 x1*x4\n",
            "      + 8 x1*x5 + 2 x2^2 + 12 x2*x3 + 8 x2*x4 + 4 x2*x5 + 18 x3^2 + 24 x3*x4\n",
            "      + 12 x3*x5 + 8 x4^2 + 8 x4*x5 + 2 x5^2 ]/2\n",
            "Subject To\n",
            " _L_EXPR_1: x0 - 40 x6 <= 0\n",
            " _L_EXPR_2: x1 - 30 x7 <= 0\n",
            " _L_EXPR_3: x2 - 30 x8 <= 0\n",
            " _L_EXPR_4: x3 - 100 x9 <= 0\n",
            " _L_EXPR_5: x4 - 60 x10 <= 0\n",
            " _L_EXPR_6: x5 - 45 x11 <= 0\n",
            " _L_EXPR_7: x0 >= 0\n",
            " _L_EXPR_8: x1 >= 0\n",
            " _L_EXPR_9: x2 >= 0\n",
            " _L_EXPR_10: x3 >= 0\n",
            " _L_EXPR_11: x4 >= 0\n",
            " _L_EXPR_12: x5 >= 0\n",
            " _L_EXPR_13: x0 <= 40\n",
            " _L_EXPR_14: x1 <= 30\n",
            " _L_EXPR_15: x2 <= 30\n",
            " _L_EXPR_16: x3 <= 100\n",
            " _L_EXPR_17: x4 <= 60\n",
            " _L_EXPR_18: x5 <= 45\n",
            " _L_EXPR_19: x2 + x3 <= 100\n",
            " _L_EXPR_20: x0 + x1 + x4 + x5 <= 120\n",
            "\n",
            "Bounds\n",
            " 0 <= x6 <= 1\n",
            " 0 <= x7 <= 1\n",
            " 0 <= x8 <= 1\n",
            " 0 <= x9 <= 1\n",
            " 0 <= x10 <= 1\n",
            " 0 <= x11 <= 1\n",
            "\n",
            "Binaries\n",
            " x6 x7 x8 x9 x10 x11\n",
            "\n",
            "Generals\n",
            " x0 x1 x2 x3 x4 x5\n",
            "End\n",
            "\n"
          ],
          "name": "stdout"
        }
      ]
    },
    {
      "cell_type": "code",
      "metadata": {
        "id": "e_N_IlzgKuWl",
        "outputId": "fb7a844d-a512-4cd2-aeef-fb6f0887d710",
        "colab": {
          "base_uri": "https://localhost:8080/"
        }
      },
      "source": [
        "cplex.solve(mod)"
      ],
      "execution_count": 19,
      "outputs": [
        {
          "output_type": "execute_result",
          "data": {
            "text/plain": [
              "optimal function value: 0.0\n",
              "optimal value: [0. 0. 0. 0. 0. 0. 0. 0. 0. 0. 0. 0.]\n",
              "status: SUCCESS"
            ]
          },
          "metadata": {
            "tags": []
          },
          "execution_count": 19
        }
      ]
    },
    {
      "cell_type": "code",
      "metadata": {
        "colab": {
          "base_uri": "https://localhost:8080/"
        },
        "id": "BvXzzVlVNV9b",
        "outputId": "981f6591-80d0-468b-d065-1ab362b7194b"
      },
      "source": [
        "#turn the demand inequalities into equalities\n",
        "for eq_n in range(19,21):\n",
        "  lc_name='_L_EXPR_'+str(eq_n)\n",
        "  lin_c = mod.get_linear_constraint(lc_name)\n",
        "  print('lin_c:',lc_name,lin_c.linear.to_dict(use_name=True), lin_c.sense, lin_c.rhs)\n",
        "  mod.remove_linear_constraint(lc_name)\n",
        "  mod.linear_constraint(lin_c.linear.to_dict(use_name=True), sense='==', rhs=lin_c.rhs, name=lc_name)\n",
        "\n",
        "print(mod.export_as_lp_string())\n"
      ],
      "execution_count": 20,
      "outputs": [
        {
          "output_type": "stream",
          "text": [
            "lin_c: _L_EXPR_19 {'x2': 1.0, 'x3': 1.0} ConstraintSense.LE 100\n",
            "lin_c: _L_EXPR_20 {'x0': 1.0, 'x1': 1.0, 'x4': 1.0, 'x5': 1.0} ConstraintSense.LE 120\n",
            "\\ This file has been generated by DOcplex\n",
            "\\ ENCODING=ISO-8859-1\n",
            "\\Problem name: docplex_model1\n",
            "\n",
            "Minimize\n",
            " obj: 3 x0 + 2 x1 + x2 + 3 x3 + 2 x4 + x5 + [ 18 x0^2 + 24 x0*x1 + 12 x0*x2\n",
            "      + 36 x0*x3 + 24 x0*x4 + 12 x0*x5 + 8 x1^2 + 8 x1*x2 + 24 x1*x3 + 16 x1*x4\n",
            "      + 8 x1*x5 + 2 x2^2 + 12 x2*x3 + 8 x2*x4 + 4 x2*x5 + 18 x3^2 + 24 x3*x4\n",
            "      + 12 x3*x5 + 8 x4^2 + 8 x4*x5 + 2 x5^2 ]/2\n",
            "Subject To\n",
            " _L_EXPR_1: x0 - 40 x6 <= 0\n",
            " _L_EXPR_2: x1 - 30 x7 <= 0\n",
            " _L_EXPR_3: x2 - 30 x8 <= 0\n",
            " _L_EXPR_4: x3 - 100 x9 <= 0\n",
            " _L_EXPR_5: x4 - 60 x10 <= 0\n",
            " _L_EXPR_6: x5 - 45 x11 <= 0\n",
            " _L_EXPR_7: x0 >= 0\n",
            " _L_EXPR_8: x1 >= 0\n",
            " _L_EXPR_9: x2 >= 0\n",
            " _L_EXPR_10: x3 >= 0\n",
            " _L_EXPR_11: x4 >= 0\n",
            " _L_EXPR_12: x5 >= 0\n",
            " _L_EXPR_13: x0 <= 40\n",
            " _L_EXPR_14: x1 <= 30\n",
            " _L_EXPR_15: x2 <= 30\n",
            " _L_EXPR_16: x3 <= 100\n",
            " _L_EXPR_17: x4 <= 60\n",
            " _L_EXPR_18: x5 <= 45\n",
            " _L_EXPR_19: x2 + x3 = 100\n",
            " _L_EXPR_20: x0 + x1 + x4 + x5 = 120\n",
            "\n",
            "Bounds\n",
            " 0 <= x6 <= 1\n",
            " 0 <= x7 <= 1\n",
            " 0 <= x8 <= 1\n",
            " 0 <= x9 <= 1\n",
            " 0 <= x10 <= 1\n",
            " 0 <= x11 <= 1\n",
            "\n",
            "Binaries\n",
            " x6 x7 x8 x9 x10 x11\n",
            "\n",
            "Generals\n",
            " x0 x1 x2 x3 x4 x5\n",
            "End\n",
            "\n"
          ],
          "name": "stdout"
        }
      ]
    },
    {
      "cell_type": "code",
      "metadata": {
        "id": "oJTSbvGiKy5Q",
        "outputId": "77c36229-7abf-4258-c6a4-63ca98d5d175",
        "colab": {
          "base_uri": "https://localhost:8080/"
        }
      },
      "source": [
        "cplex.solve(mod)"
      ],
      "execution_count": 21,
      "outputs": [
        {
          "output_type": "execute_result",
          "data": {
            "text/plain": [
              "optimal function value: 189660.0\n",
              "optimal value: [-0. 30. 30. 70. 45. 45.  1.  1.  1.  1.  1.  1.]\n",
              "status: INFEASIBLE"
            ]
          },
          "metadata": {
            "tags": []
          },
          "execution_count": 21
        }
      ]
    },
    {
      "cell_type": "code",
      "metadata": {
        "id": "7QsOma-VFkAk"
      },
      "source": [
        "#take a look at the QUBO parameters \n",
        "print('constant:\\t\\t\\t', mod.objective.constant)\n",
        "\n",
        "print('linear dict:\\t\\t\\t', mod.objective.linear.to_dict())\n",
        "print('linear array:\\t\\t\\t', mod.objective.linear.to_array())\n",
        "print('linear array as sparse matrix:\\n', mod.objective.linear.coefficients, '\\n')\n",
        "\n",
        "print('quadratic dict w/ index:\\t', mod.objective.quadratic.to_dict())\n",
        "print('quadratic dict w/ name:\\t\\t', mod.objective.quadratic.to_dict(use_name=True))\n",
        "print('symmetric quadratic dict w/ name:\\t', mod.objective.quadratic.to_dict(use_name=True, symmetric=True))\n",
        "print('quadratic matrix:\\n', mod.objective.quadratic.to_array(),'\\n')\n",
        "print('symmetric quadratic matrix:\\n', mod.objective.quadratic.to_array(symmetric=True),'\\n')\n",
        "print('quadratic matrix as sparse matrix:\\n', mod.objective.quadratic.coefficients)\n"
      ],
      "execution_count": null,
      "outputs": []
    },
    {
      "cell_type": "code",
      "metadata": {
        "id": "BN00HeH31vTf",
        "colab": {
          "base_uri": "https://localhost:8080/"
        },
        "outputId": "ff59a7a9-364c-4b35-c3df-45bfe1c16969"
      },
      "source": [
        "#remove the linear binary-integer relationship constrains  \n",
        "for eq_n in range(1,19):\n",
        "  lc_name='_L_EXPR_'+str(eq_n)\n",
        "  mod.remove_linear_constraint(lc_name)\n",
        "\n",
        "print(mod.export_as_lp_string())"
      ],
      "execution_count": 22,
      "outputs": [
        {
          "output_type": "stream",
          "text": [
            "\\ This file has been generated by DOcplex\n",
            "\\ ENCODING=ISO-8859-1\n",
            "\\Problem name: docplex_model1\n",
            "\n",
            "Minimize\n",
            " obj: 3 x0 + 2 x1 + x2 + 3 x3 + 2 x4 + x5 + [ 18 x0^2 + 24 x0*x1 + 12 x0*x2\n",
            "      + 36 x0*x3 + 24 x0*x4 + 12 x0*x5 + 8 x1^2 + 8 x1*x2 + 24 x1*x3 + 16 x1*x4\n",
            "      + 8 x1*x5 + 2 x2^2 + 12 x2*x3 + 8 x2*x4 + 4 x2*x5 + 18 x3^2 + 24 x3*x4\n",
            "      + 12 x3*x5 + 8 x4^2 + 8 x4*x5 + 2 x5^2 ]/2\n",
            "Subject To\n",
            " _L_EXPR_19: x2 + x3 = 100\n",
            " _L_EXPR_20: x0 + x1 + x4 + x5 = 120\n",
            "\n",
            "Bounds\n",
            " 0 <= x6 <= 1\n",
            " 0 <= x7 <= 1\n",
            " 0 <= x8 <= 1\n",
            " 0 <= x9 <= 1\n",
            " 0 <= x10 <= 1\n",
            " 0 <= x11 <= 1\n",
            "\n",
            "Binaries\n",
            " x6 x7 x8 x9 x10 x11\n",
            "\n",
            "Generals\n",
            " x0 x1 x2 x3 x4 x5\n",
            "End\n",
            "\n"
          ],
          "name": "stdout"
        }
      ]
    },
    {
      "cell_type": "code",
      "metadata": {
        "id": "pCk9bjfRRJ-Q",
        "outputId": "e41473bd-38bb-47fb-b544-ff90471c348f",
        "colab": {
          "base_uri": "https://localhost:8080/"
        }
      },
      "source": [
        "#remove the binary variables\n",
        "bb2zero=dict({'x'+str(i):0 for i in range(6,12)})\n",
        "sub = mod.substitute_variables(constants=bb2zero)\n",
        "print(sub.export_as_lp_string())"
      ],
      "execution_count": 46,
      "outputs": [
        {
          "output_type": "stream",
          "text": [
            "\\ This file has been generated by DOcplex\n",
            "\\ ENCODING=ISO-8859-1\n",
            "\\Problem name: docplex_model1\n",
            "\n",
            "Minimize\n",
            " obj: 3 x0 + 2 x1 + x2 + 3 x3 + 2 x4 + x5 + [ 18 x0^2 + 24 x0*x1 + 12 x0*x2\n",
            "      + 36 x0*x3 + 24 x0*x4 + 12 x0*x5 + 8 x1^2 + 8 x1*x2 + 24 x1*x3 + 16 x1*x4\n",
            "      + 8 x1*x5 + 2 x2^2 + 12 x2*x3 + 8 x2*x4 + 4 x2*x5 + 18 x3^2 + 24 x3*x4\n",
            "      + 12 x3*x5 + 8 x4^2 + 8 x4*x5 + 2 x5^2 ]/2\n",
            "Subject To\n",
            " _L_EXPR_19: x2 + x3 = 100\n",
            " _L_EXPR_20: x0 + x1 + x4 + x5 = 120\n",
            "\n",
            "Bounds\n",
            "\n",
            "Generals\n",
            " x0 x1 x2 x3 x4 x5\n",
            "End\n",
            "\n"
          ],
          "name": "stdout"
        }
      ]
    },
    {
      "cell_type": "code",
      "metadata": {
        "id": "6J0foLrkfldo",
        "outputId": "131423ab-866a-4f29-bb2a-f755cf765ebc",
        "colab": {
          "base_uri": "https://localhost:8080/"
        }
      },
      "source": [
        "cplex.solve(sub)"
      ],
      "execution_count": 47,
      "outputs": [
        {
          "output_type": "execute_result",
          "data": {
            "text/plain": [
              "optimal function value: 48620.0\n",
              "optimal value: [ -0.  -0. 100.  -0.  -0. 120.]\n",
              "status: SUCCESS"
            ]
          },
          "metadata": {
            "tags": []
          },
          "execution_count": 47
        }
      ]
    },
    {
      "cell_type": "code",
      "metadata": {
        "id": "b7PyGy-kJXnM",
        "outputId": "9b0f56a0-aacd-4b57-deeb-5f01ad4c6b8d",
        "colab": {
          "base_uri": "https://localhost:8080/"
        }
      },
      "source": [
        "nn=np.floor((189660)**(0.5))\n",
        "print([nn, nn*(nn+1)])"
      ],
      "execution_count": 144,
      "outputs": [
        {
          "output_type": "stream",
          "text": [
            "[435.0, 189660.0]\n"
          ],
          "name": "stdout"
        }
      ]
    },
    {
      "cell_type": "code",
      "metadata": {
        "id": "GnVKgsllsFAO"
      },
      "source": [
        "#convert the qubo to all-binary QUBO \n",
        "from qiskit.optimization.converters import QuadraticProgramToQubo\n",
        "conv = QuadraticProgramToQubo()\n",
        "mod_Qubo = conv.convert(sub)"
      ],
      "execution_count": 48,
      "outputs": []
    },
    {
      "cell_type": "code",
      "metadata": {
        "id": "wBlT79HlaF9b"
      },
      "source": [
        "print('constant:\\t\\t\\t', mod_Qubo.objective.constant)\n",
        "print('linear array as sparse matrix:\\n', mod_Qubo.objective.linear.coefficients, '\\n')\n",
        "print('quadratic matrix as sparse matrix:\\n', mod_Qubo.objective.quadratic.coefficients)"
      ],
      "execution_count": null,
      "outputs": []
    },
    {
      "cell_type": "code",
      "metadata": {
        "id": "bf_5xmKTNjOL",
        "colab": {
          "base_uri": "https://localhost:8080/"
        },
        "outputId": "94458734-a27f-4243-9293-8733a93f8b36"
      },
      "source": [
        "from qiskit.optimization.converters import InequalityToEquality\n",
        "from qiskit.optimization.converters import IntegerToBinary\n",
        "from qiskit.optimization.converters import LinearEqualityToPenalty\n",
        "\n",
        "ineq2eq = InequalityToEquality()\n",
        "qp_eq = ineq2eq.convert(mod)\n",
        "#print(qp_eq.export_as_lp_string())\n",
        "\n",
        "int2bin = IntegerToBinary()\n",
        "qp_eq_bin = int2bin.convert(qp_eq)\n",
        "#print(qp_eq_bin.export_as_lp_string())\n",
        "\n",
        "lineq2penalty = LinearEqualityToPenalty()\n",
        "mod_Qubo2 = lineq2penalty.convert(qp_eq_bin)\n",
        "#print(qubo.export_as_lp_string())\n",
        "\n",
        "len(mod_Qubo2._variables_index)"
      ],
      "execution_count": null,
      "outputs": [
        {
          "output_type": "execute_result",
          "data": {
            "text/plain": [
              "880"
            ]
          },
          "metadata": {
            "tags": []
          },
          "execution_count": 54
        }
      ]
    },
    {
      "cell_type": "code",
      "metadata": {
        "id": "WllwSko-HIxj"
      },
      "source": [
        "#a simple example to test the code\n",
        "qubo = QuadraticProgram()\n",
        "qubo.binary_var('x')\n",
        "qubo.binary_var('y')\n",
        "qubo.binary_var('z')\n",
        "qubo.minimize(linear=[1,-2,3], quadratic={('x', 'y'): 1, ('x', 'z'): -1, ('y', 'z'): 2})\n",
        "print(qubo.export_as_lp_string())\n",
        "\n",
        "solution=cplex.solve(qubo)\n",
        "print(solution)"
      ],
      "execution_count": null,
      "outputs": []
    },
    {
      "cell_type": "code",
      "metadata": {
        "id": "ZWzO5oxgNyyq"
      },
      "source": [
        "import dimod\n",
        "import hybrid\n",
        "\n",
        "import neal #sampler = neal.SimulatedAnnealingSampler()\n",
        "\n",
        "from dwave.system import LeapHybridSampler\n",
        "from dwave.system import DWaveSampler, EmbeddingComposite\n",
        "\n",
        "import neal\n",
        "\n",
        "\n",
        "# Extract qubo data\n",
        "\n",
        "qubo=mod_Qubo #qp_eq_bin #mod_Qubo\n",
        "\n",
        "Q = qubo.objective.quadratic.to_dict(use_name=True)\n",
        "g = qubo.objective.linear.to_dict(use_name=True)\n",
        "c = qubo.objective.constant\n",
        "\n",
        "# Build BQM\n",
        "bqm = dimod.BQM(g, Q, c, dimod.BINARY)\n",
        "\n",
        "# Solve\n",
        "#sampler = LeapHybridSampler()\n",
        "sampler = neal.SimulatedAnnealingSampler()\n"
      ],
      "execution_count": 34,
      "outputs": []
    },
    {
      "cell_type": "code",
      "metadata": {
        "id": "cuTtHSyZNlPw",
        "outputId": "7074ddb9-9299-49df-9743-df05374853e2",
        "colab": {
          "base_uri": "https://localhost:8080/"
        }
      },
      "source": [
        "qubo=sub\n",
        "cplex.solve(qubo)"
      ],
      "execution_count": 49,
      "outputs": [
        {
          "output_type": "execute_result",
          "data": {
            "text/plain": [
              "optimal function value: 48620.0\n",
              "optimal value: [ -0.  -0. 100.  -0.  -0. 120.]\n",
              "status: SUCCESS"
            ]
          },
          "metadata": {
            "tags": []
          },
          "execution_count": 49
        }
      ]
    },
    {
      "cell_type": "code",
      "metadata": {
        "id": "DnlSzqYMii1J"
      },
      "source": [
        "from dwave.plugins.qiskit import DWaveMinimumEigensolver\n",
        "\n",
        "# Solve using Qiskit's MinimumEigenOptimizer on D-Wave QPU as a minimum eigen solver\n",
        "dwave_mes = DWaveMinimumEigensolver(sampler=sampler)\n",
        "optimizer = MinimumEigenOptimizer(dwave_mes)\n",
        "result = optimizer.solve(qubo)\n",
        "\n",
        "print(result)\n",
        "result.samples"
      ],
      "execution_count": null,
      "outputs": []
    },
    {
      "cell_type": "code",
      "metadata": {
        "id": "1esF6lp-NGnm",
        "outputId": "48ace11c-6359-48aa-e753-0d0a231ae30f",
        "colab": {
          "base_uri": "https://localhost:8080/"
        }
      },
      "source": [
        "#solve it using D-wave\n",
        "bqm.result = sampler.sample(bqm)\n",
        "\n",
        "# Extract solution\n",
        "result_dict = bqm.result.first.sample\n",
        "\n",
        "print(bqm.result)"
      ],
      "execution_count": 166,
      "outputs": [
        {
          "output_type": "stream",
          "text": [
            "... x5@9\n",
            "...    0\n",
            "['BINARY', 1 rows, 1 samples, 402 variables]\n"
          ],
          "name": "stdout"
        }
      ]
    },
    {
      "cell_type": "code",
      "metadata": {
        "id": "73gX3fEzgami",
        "outputId": "e37e5aa2-84eb-4c70-924b-896164d07b44",
        "colab": {
          "base_uri": "https://localhost:8080/"
        }
      },
      "source": [
        "from dwave_qbsolv import QBSolv\n",
        "response = QBSolv().sample_qubo(Q)\n",
        "print(\"samples=\" + str(list(response.samples())))\n",
        "print(\"energies=\" + str(list(response.data_vectors['energy'])))"
      ],
      "execution_count": 35,
      "outputs": [
        {
          "output_type": "stream",
          "text": [
            "samples=[{'x0@0': 0, 'x0@1': 0, 'x0@10': 0, 'x0@11': 0, 'x0@12': 0, 'x0@13': 0, 'x0@14': 0, 'x0@15': 0, 'x0@16': 0, 'x0@17': 0, 'x0@18': 0, 'x0@19': 0, 'x0@2': 0, 'x0@20': 0, 'x0@21': 0, 'x0@22': 0, 'x0@23': 0, 'x0@24': 0, 'x0@25': 0, 'x0@26': 0, 'x0@27': 0, 'x0@28': 0, 'x0@29': 0, 'x0@3': 0, 'x0@30': 0, 'x0@31': 0, 'x0@32': 0, 'x0@33': 0, 'x0@34': 0, 'x0@35': 0, 'x0@36': 0, 'x0@37': 0, 'x0@38': 0, 'x0@39': 0, 'x0@4': 0, 'x0@40': 0, 'x0@41': 0, 'x0@42': 0, 'x0@43': 0, 'x0@44': 0, 'x0@45': 0, 'x0@46': 0, 'x0@47': 0, 'x0@48': 0, 'x0@49': 0, 'x0@5': 0, 'x0@50': 0, 'x0@51': 0, 'x0@52': 0, 'x0@53': 0, 'x0@54': 0, 'x0@55': 0, 'x0@56': 0, 'x0@57': 0, 'x0@58': 0, 'x0@59': 0, 'x0@6': 0, 'x0@60': 0, 'x0@61': 0, 'x0@62': 0, 'x0@63': 0, 'x0@64': 0, 'x0@65': 0, 'x0@66': 0, 'x0@7': 0, 'x0@8': 0, 'x0@9': 0, 'x1@0': 0, 'x1@1': 0, 'x1@10': 0, 'x1@11': 0, 'x1@12': 0, 'x1@13': 0, 'x1@14': 0, 'x1@15': 0, 'x1@16': 0, 'x1@17': 0, 'x1@18': 0, 'x1@19': 0, 'x1@2': 0, 'x1@20': 0, 'x1@21': 0, 'x1@22': 0, 'x1@23': 0, 'x1@24': 0, 'x1@25': 0, 'x1@26': 0, 'x1@27': 0, 'x1@28': 0, 'x1@29': 0, 'x1@3': 0, 'x1@30': 0, 'x1@31': 0, 'x1@32': 0, 'x1@33': 0, 'x1@34': 0, 'x1@35': 0, 'x1@36': 0, 'x1@37': 0, 'x1@38': 0, 'x1@39': 0, 'x1@4': 0, 'x1@40': 0, 'x1@41': 0, 'x1@42': 0, 'x1@43': 0, 'x1@44': 0, 'x1@45': 0, 'x1@46': 0, 'x1@47': 0, 'x1@48': 0, 'x1@49': 0, 'x1@5': 0, 'x1@50': 0, 'x1@51': 0, 'x1@52': 0, 'x1@53': 0, 'x1@54': 0, 'x1@55': 0, 'x1@56': 0, 'x1@57': 0, 'x1@58': 0, 'x1@59': 0, 'x1@6': 0, 'x1@60': 0, 'x1@61': 0, 'x1@62': 0, 'x1@63': 0, 'x1@64': 0, 'x1@65': 0, 'x1@66': 0, 'x1@7': 0, 'x1@8': 0, 'x1@9': 0, 'x2@0': 0, 'x2@1': 0, 'x2@10': 0, 'x2@11': 0, 'x2@12': 0, 'x2@13': 0, 'x2@14': 0, 'x2@15': 0, 'x2@16': 0, 'x2@17': 0, 'x2@18': 0, 'x2@19': 0, 'x2@2': 0, 'x2@20': 0, 'x2@21': 0, 'x2@22': 0, 'x2@23': 0, 'x2@24': 0, 'x2@25': 0, 'x2@26': 0, 'x2@27': 0, 'x2@28': 0, 'x2@29': 0, 'x2@3': 0, 'x2@30': 0, 'x2@31': 0, 'x2@32': 0, 'x2@33': 0, 'x2@34': 0, 'x2@35': 0, 'x2@36': 0, 'x2@37': 0, 'x2@38': 0, 'x2@39': 0, 'x2@4': 0, 'x2@40': 0, 'x2@41': 0, 'x2@42': 0, 'x2@43': 0, 'x2@44': 0, 'x2@45': 0, 'x2@46': 0, 'x2@47': 0, 'x2@48': 0, 'x2@49': 0, 'x2@5': 0, 'x2@50': 0, 'x2@51': 0, 'x2@52': 0, 'x2@53': 0, 'x2@54': 0, 'x2@55': 0, 'x2@56': 0, 'x2@57': 0, 'x2@58': 0, 'x2@59': 0, 'x2@6': 0, 'x2@60': 0, 'x2@61': 0, 'x2@62': 0, 'x2@63': 0, 'x2@64': 0, 'x2@65': 0, 'x2@66': 0, 'x2@7': 0, 'x2@8': 0, 'x2@9': 0, 'x3@0': 0, 'x3@1': 0, 'x3@10': 0, 'x3@11': 0, 'x3@12': 0, 'x3@13': 0, 'x3@14': 0, 'x3@15': 0, 'x3@16': 0, 'x3@17': 0, 'x3@18': 0, 'x3@19': 0, 'x3@2': 0, 'x3@20': 0, 'x3@21': 0, 'x3@22': 0, 'x3@23': 0, 'x3@24': 0, 'x3@25': 0, 'x3@26': 0, 'x3@27': 0, 'x3@28': 0, 'x3@29': 0, 'x3@3': 0, 'x3@30': 0, 'x3@31': 0, 'x3@32': 0, 'x3@33': 0, 'x3@34': 0, 'x3@35': 0, 'x3@36': 0, 'x3@37': 0, 'x3@38': 0, 'x3@39': 0, 'x3@4': 0, 'x3@40': 0, 'x3@41': 0, 'x3@42': 0, 'x3@43': 0, 'x3@44': 0, 'x3@45': 0, 'x3@46': 0, 'x3@47': 0, 'x3@48': 0, 'x3@49': 0, 'x3@5': 0, 'x3@50': 0, 'x3@51': 0, 'x3@52': 0, 'x3@53': 0, 'x3@54': 0, 'x3@55': 0, 'x3@56': 0, 'x3@57': 0, 'x3@58': 0, 'x3@59': 0, 'x3@6': 0, 'x3@60': 0, 'x3@61': 0, 'x3@62': 0, 'x3@63': 0, 'x3@64': 0, 'x3@65': 0, 'x3@66': 0, 'x3@7': 0, 'x3@8': 0, 'x3@9': 0, 'x4@0': 0, 'x4@1': 0, 'x4@10': 0, 'x4@11': 0, 'x4@12': 0, 'x4@13': 0, 'x4@14': 0, 'x4@15': 0, 'x4@16': 0, 'x4@17': 0, 'x4@18': 0, 'x4@19': 0, 'x4@2': 0, 'x4@20': 0, 'x4@21': 0, 'x4@22': 0, 'x4@23': 0, 'x4@24': 0, 'x4@25': 0, 'x4@26': 0, 'x4@27': 0, 'x4@28': 0, 'x4@29': 0, 'x4@3': 0, 'x4@30': 0, 'x4@31': 0, 'x4@32': 0, 'x4@33': 0, 'x4@34': 0, 'x4@35': 0, 'x4@36': 0, 'x4@37': 0, 'x4@38': 0, 'x4@39': 0, 'x4@4': 0, 'x4@40': 0, 'x4@41': 0, 'x4@42': 0, 'x4@43': 0, 'x4@44': 0, 'x4@45': 0, 'x4@46': 0, 'x4@47': 0, 'x4@48': 0, 'x4@49': 0, 'x4@5': 0, 'x4@50': 0, 'x4@51': 0, 'x4@52': 0, 'x4@53': 0, 'x4@54': 0, 'x4@55': 0, 'x4@56': 0, 'x4@57': 0, 'x4@58': 0, 'x4@59': 0, 'x4@6': 0, 'x4@60': 0, 'x4@61': 0, 'x4@62': 0, 'x4@63': 0, 'x4@64': 0, 'x4@65': 0, 'x4@66': 0, 'x4@7': 0, 'x4@8': 0, 'x4@9': 0, 'x5@0': 0, 'x5@1': 0, 'x5@10': 0, 'x5@11': 0, 'x5@12': 0, 'x5@13': 0, 'x5@14': 0, 'x5@15': 0, 'x5@16': 0, 'x5@17': 0, 'x5@18': 0, 'x5@19': 0, 'x5@2': 0, 'x5@20': 0, 'x5@21': 0, 'x5@22': 0, 'x5@23': 0, 'x5@24': 0, 'x5@25': 0, 'x5@26': 0, 'x5@27': 0, 'x5@28': 0, 'x5@29': 0, 'x5@3': 0, 'x5@30': 0, 'x5@31': 0, 'x5@32': 0, 'x5@33': 0, 'x5@34': 0, 'x5@35': 0, 'x5@36': 0, 'x5@37': 0, 'x5@38': 0, 'x5@39': 0, 'x5@4': 0, 'x5@40': 0, 'x5@41': 0, 'x5@42': 0, 'x5@43': 0, 'x5@44': 0, 'x5@45': 0, 'x5@46': 0, 'x5@47': 0, 'x5@48': 0, 'x5@49': 0, 'x5@5': 0, 'x5@50': 0, 'x5@51': 0, 'x5@52': 0, 'x5@53': 0, 'x5@54': 0, 'x5@55': 0, 'x5@56': 0, 'x5@57': 0, 'x5@58': 0, 'x5@59': 0, 'x5@6': 0, 'x5@60': 0, 'x5@61': 0, 'x5@62': 0, 'x5@63': 0, 'x5@64': 0, 'x5@65': 0, 'x5@66': 0, 'x5@7': 0, 'x5@8': 0, 'x5@9': 0}, {'x0@0': 0, 'x0@1': 0, 'x0@10': 0, 'x0@11': 0, 'x0@12': 0, 'x0@13': 0, 'x0@14': 0, 'x0@15': 0, 'x0@16': 0, 'x0@17': 0, 'x0@18': 0, 'x0@19': 0, 'x0@2': 0, 'x0@20': 0, 'x0@21': 0, 'x0@22': 0, 'x0@23': 0, 'x0@24': 0, 'x0@25': 0, 'x0@26': 0, 'x0@27': 0, 'x0@28': 0, 'x0@29': 0, 'x0@3': 0, 'x0@30': 0, 'x0@31': 0, 'x0@32': 0, 'x0@33': 0, 'x0@34': 0, 'x0@35': 0, 'x0@36': 0, 'x0@37': 0, 'x0@38': 0, 'x0@39': 0, 'x0@4': 0, 'x0@40': 0, 'x0@41': 0, 'x0@42': 0, 'x0@43': 0, 'x0@44': 0, 'x0@45': 0, 'x0@46': 0, 'x0@47': 0, 'x0@48': 0, 'x0@49': 0, 'x0@5': 0, 'x0@50': 0, 'x0@51': 0, 'x0@52': 0, 'x0@53': 0, 'x0@54': 0, 'x0@55': 0, 'x0@56': 0, 'x0@57': 0, 'x0@58': 0, 'x0@59': 0, 'x0@6': 0, 'x0@60': 0, 'x0@61': 0, 'x0@62': 0, 'x0@63': 0, 'x0@64': 0, 'x0@65': 0, 'x0@66': 0, 'x0@7': 0, 'x0@8': 0, 'x0@9': 0, 'x1@0': 0, 'x1@1': 0, 'x1@10': 0, 'x1@11': 0, 'x1@12': 0, 'x1@13': 0, 'x1@14': 0, 'x1@15': 0, 'x1@16': 0, 'x1@17': 0, 'x1@18': 0, 'x1@19': 0, 'x1@2': 0, 'x1@20': 0, 'x1@21': 0, 'x1@22': 0, 'x1@23': 0, 'x1@24': 0, 'x1@25': 0, 'x1@26': 0, 'x1@27': 0, 'x1@28': 0, 'x1@29': 0, 'x1@3': 0, 'x1@30': 0, 'x1@31': 0, 'x1@32': 0, 'x1@33': 0, 'x1@34': 0, 'x1@35': 0, 'x1@36': 0, 'x1@37': 0, 'x1@38': 0, 'x1@39': 0, 'x1@4': 0, 'x1@40': 0, 'x1@41': 0, 'x1@42': 0, 'x1@43': 0, 'x1@44': 0, 'x1@45': 0, 'x1@46': 0, 'x1@47': 0, 'x1@48': 0, 'x1@49': 0, 'x1@5': 1, 'x1@50': 0, 'x1@51': 0, 'x1@52': 0, 'x1@53': 0, 'x1@54': 0, 'x1@55': 0, 'x1@56': 0, 'x1@57': 0, 'x1@58': 0, 'x1@59': 0, 'x1@6': 0, 'x1@60': 0, 'x1@61': 0, 'x1@62': 0, 'x1@63': 0, 'x1@64': 0, 'x1@65': 0, 'x1@66': 0, 'x1@7': 0, 'x1@8': 0, 'x1@9': 0, 'x2@0': 0, 'x2@1': 0, 'x2@10': 0, 'x2@11': 0, 'x2@12': 0, 'x2@13': 0, 'x2@14': 0, 'x2@15': 0, 'x2@16': 0, 'x2@17': 0, 'x2@18': 0, 'x2@19': 0, 'x2@2': 0, 'x2@20': 0, 'x2@21': 0, 'x2@22': 0, 'x2@23': 0, 'x2@24': 0, 'x2@25': 0, 'x2@26': 0, 'x2@27': 0, 'x2@28': 0, 'x2@29': 0, 'x2@3': 0, 'x2@30': 0, 'x2@31': 0, 'x2@32': 0, 'x2@33': 0, 'x2@34': 0, 'x2@35': 0, 'x2@36': 0, 'x2@37': 0, 'x2@38': 0, 'x2@39': 0, 'x2@4': 0, 'x2@40': 0, 'x2@41': 0, 'x2@42': 0, 'x2@43': 0, 'x2@44': 0, 'x2@45': 0, 'x2@46': 0, 'x2@47': 0, 'x2@48': 0, 'x2@49': 0, 'x2@5': 0, 'x2@50': 0, 'x2@51': 0, 'x2@52': 0, 'x2@53': 0, 'x2@54': 0, 'x2@55': 0, 'x2@56': 0, 'x2@57': 0, 'x2@58': 0, 'x2@59': 0, 'x2@6': 0, 'x2@60': 0, 'x2@61': 0, 'x2@62': 0, 'x2@63': 0, 'x2@64': 0, 'x2@65': 0, 'x2@66': 0, 'x2@7': 0, 'x2@8': 0, 'x2@9': 0, 'x3@0': 0, 'x3@1': 0, 'x3@10': 0, 'x3@11': 0, 'x3@12': 0, 'x3@13': 0, 'x3@14': 0, 'x3@15': 0, 'x3@16': 0, 'x3@17': 0, 'x3@18': 0, 'x3@19': 0, 'x3@2': 0, 'x3@20': 0, 'x3@21': 0, 'x3@22': 0, 'x3@23': 0, 'x3@24': 0, 'x3@25': 0, 'x3@26': 0, 'x3@27': 0, 'x3@28': 0, 'x3@29': 0, 'x3@3': 0, 'x3@30': 0, 'x3@31': 0, 'x3@32': 0, 'x3@33': 0, 'x3@34': 0, 'x3@35': 0, 'x3@36': 0, 'x3@37': 0, 'x3@38': 0, 'x3@39': 0, 'x3@4': 0, 'x3@40': 0, 'x3@41': 0, 'x3@42': 0, 'x3@43': 0, 'x3@44': 0, 'x3@45': 0, 'x3@46': 0, 'x3@47': 0, 'x3@48': 0, 'x3@49': 0, 'x3@5': 0, 'x3@50': 0, 'x3@51': 0, 'x3@52': 0, 'x3@53': 0, 'x3@54': 0, 'x3@55': 0, 'x3@56': 0, 'x3@57': 0, 'x3@58': 0, 'x3@59': 0, 'x3@6': 0, 'x3@60': 0, 'x3@61': 0, 'x3@62': 0, 'x3@63': 0, 'x3@64': 0, 'x3@65': 0, 'x3@66': 0, 'x3@7': 0, 'x3@8': 0, 'x3@9': 0, 'x4@0': 0, 'x4@1': 0, 'x4@10': 0, 'x4@11': 0, 'x4@12': 0, 'x4@13': 0, 'x4@14': 0, 'x4@15': 0, 'x4@16': 0, 'x4@17': 0, 'x4@18': 0, 'x4@19': 0, 'x4@2': 0, 'x4@20': 0, 'x4@21': 0, 'x4@22': 0, 'x4@23': 0, 'x4@24': 0, 'x4@25': 0, 'x4@26': 0, 'x4@27': 0, 'x4@28': 0, 'x4@29': 0, 'x4@3': 0, 'x4@30': 0, 'x4@31': 0, 'x4@32': 0, 'x4@33': 0, 'x4@34': 0, 'x4@35': 0, 'x4@36': 0, 'x4@37': 0, 'x4@38': 0, 'x4@39': 0, 'x4@4': 0, 'x4@40': 0, 'x4@41': 0, 'x4@42': 0, 'x4@43': 0, 'x4@44': 0, 'x4@45': 0, 'x4@46': 0, 'x4@47': 0, 'x4@48': 0, 'x4@49': 0, 'x4@5': 0, 'x4@50': 0, 'x4@51': 0, 'x4@52': 0, 'x4@53': 0, 'x4@54': 0, 'x4@55': 0, 'x4@56': 0, 'x4@57': 0, 'x4@58': 0, 'x4@59': 0, 'x4@6': 0, 'x4@60': 0, 'x4@61': 0, 'x4@62': 0, 'x4@63': 0, 'x4@64': 0, 'x4@65': 0, 'x4@66': 0, 'x4@7': 0, 'x4@8': 0, 'x4@9': 0, 'x5@0': 0, 'x5@1': 0, 'x5@10': 0, 'x5@11': 0, 'x5@12': 0, 'x5@13': 0, 'x5@14': 0, 'x5@15': 0, 'x5@16': 0, 'x5@17': 0, 'x5@18': 0, 'x5@19': 0, 'x5@2': 0, 'x5@20': 0, 'x5@21': 0, 'x5@22': 0, 'x5@23': 0, 'x5@24': 0, 'x5@25': 0, 'x5@26': 0, 'x5@27': 0, 'x5@28': 0, 'x5@29': 0, 'x5@3': 0, 'x5@30': 0, 'x5@31': 0, 'x5@32': 0, 'x5@33': 0, 'x5@34': 0, 'x5@35': 0, 'x5@36': 0, 'x5@37': 0, 'x5@38': 0, 'x5@39': 0, 'x5@4': 0, 'x5@40': 0, 'x5@41': 0, 'x5@42': 0, 'x5@43': 0, 'x5@44': 0, 'x5@45': 0, 'x5@46': 0, 'x5@47': 0, 'x5@48': 0, 'x5@49': 0, 'x5@5': 0, 'x5@50': 0, 'x5@51': 0, 'x5@52': 0, 'x5@53': 0, 'x5@54': 0, 'x5@55': 0, 'x5@56': 0, 'x5@57': 0, 'x5@58': 0, 'x5@59': 0, 'x5@6': 0, 'x5@60': 0, 'x5@61': 0, 'x5@62': 0, 'x5@63': 0, 'x5@64': 0, 'x5@65': 0, 'x5@66': 0, 'x5@7': 0, 'x5@8': 0, 'x5@9': 0}, {'x0@0': 0, 'x0@1': 0, 'x0@10': 0, 'x0@11': 0, 'x0@12': 0, 'x0@13': 0, 'x0@14': 0, 'x0@15': 0, 'x0@16': 0, 'x0@17': 0, 'x0@18': 0, 'x0@19': 0, 'x0@2': 0, 'x0@20': 0, 'x0@21': 0, 'x0@22': 0, 'x0@23': 0, 'x0@24': 0, 'x0@25': 0, 'x0@26': 0, 'x0@27': 0, 'x0@28': 0, 'x0@29': 0, 'x0@3': 0, 'x0@30': 0, 'x0@31': 0, 'x0@32': 0, 'x0@33': 0, 'x0@34': 0, 'x0@35': 0, 'x0@36': 0, 'x0@37': 0, 'x0@38': 0, 'x0@39': 0, 'x0@4': 0, 'x0@40': 0, 'x0@41': 0, 'x0@42': 0, 'x0@43': 0, 'x0@44': 0, 'x0@45': 0, 'x0@46': 0, 'x0@47': 0, 'x0@48': 0, 'x0@49': 0, 'x0@5': 0, 'x0@50': 0, 'x0@51': 0, 'x0@52': 0, 'x0@53': 0, 'x0@54': 0, 'x0@55': 0, 'x0@56': 0, 'x0@57': 0, 'x0@58': 0, 'x0@59': 0, 'x0@6': 0, 'x0@60': 0, 'x0@61': 0, 'x0@62': 0, 'x0@63': 0, 'x0@64': 0, 'x0@65': 0, 'x0@66': 0, 'x0@7': 0, 'x0@8': 0, 'x0@9': 0, 'x1@0': 0, 'x1@1': 0, 'x1@10': 0, 'x1@11': 0, 'x1@12': 0, 'x1@13': 0, 'x1@14': 0, 'x1@15': 0, 'x1@16': 0, 'x1@17': 0, 'x1@18': 0, 'x1@19': 0, 'x1@2': 0, 'x1@20': 0, 'x1@21': 0, 'x1@22': 0, 'x1@23': 0, 'x1@24': 0, 'x1@25': 0, 'x1@26': 0, 'x1@27': 0, 'x1@28': 0, 'x1@29': 0, 'x1@3': 0, 'x1@30': 0, 'x1@31': 0, 'x1@32': 0, 'x1@33': 0, 'x1@34': 0, 'x1@35': 0, 'x1@36': 0, 'x1@37': 0, 'x1@38': 0, 'x1@39': 0, 'x1@4': 0, 'x1@40': 0, 'x1@41': 0, 'x1@42': 0, 'x1@43': 0, 'x1@44': 0, 'x1@45': 0, 'x1@46': 0, 'x1@47': 0, 'x1@48': 0, 'x1@49': 0, 'x1@5': 0, 'x1@50': 0, 'x1@51': 0, 'x1@52': 0, 'x1@53': 0, 'x1@54': 0, 'x1@55': 0, 'x1@56': 0, 'x1@57': 0, 'x1@58': 0, 'x1@59': 0, 'x1@6': 0, 'x1@60': 0, 'x1@61': 0, 'x1@62': 0, 'x1@63': 0, 'x1@64': 0, 'x1@65': 0, 'x1@66': 0, 'x1@7': 0, 'x1@8': 0, 'x1@9': 0, 'x2@0': 0, 'x2@1': 0, 'x2@10': 0, 'x2@11': 0, 'x2@12': 0, 'x2@13': 0, 'x2@14': 0, 'x2@15': 0, 'x2@16': 0, 'x2@17': 0, 'x2@18': 0, 'x2@19': 0, 'x2@2': 0, 'x2@20': 0, 'x2@21': 0, 'x2@22': 0, 'x2@23': 0, 'x2@24': 0, 'x2@25': 0, 'x2@26': 0, 'x2@27': 0, 'x2@28': 0, 'x2@29': 0, 'x2@3': 0, 'x2@30': 0, 'x2@31': 0, 'x2@32': 0, 'x2@33': 0, 'x2@34': 0, 'x2@35': 0, 'x2@36': 0, 'x2@37': 0, 'x2@38': 0, 'x2@39': 0, 'x2@4': 0, 'x2@40': 0, 'x2@41': 0, 'x2@42': 0, 'x2@43': 0, 'x2@44': 0, 'x2@45': 0, 'x2@46': 0, 'x2@47': 0, 'x2@48': 0, 'x2@49': 0, 'x2@5': 1, 'x2@50': 0, 'x2@51': 0, 'x2@52': 0, 'x2@53': 0, 'x2@54': 0, 'x2@55': 0, 'x2@56': 0, 'x2@57': 0, 'x2@58': 0, 'x2@59': 0, 'x2@6': 0, 'x2@60': 0, 'x2@61': 0, 'x2@62': 0, 'x2@63': 0, 'x2@64': 0, 'x2@65': 0, 'x2@66': 0, 'x2@7': 0, 'x2@8': 0, 'x2@9': 0, 'x3@0': 0, 'x3@1': 0, 'x3@10': 0, 'x3@11': 0, 'x3@12': 0, 'x3@13': 0, 'x3@14': 0, 'x3@15': 0, 'x3@16': 0, 'x3@17': 0, 'x3@18': 0, 'x3@19': 0, 'x3@2': 0, 'x3@20': 0, 'x3@21': 0, 'x3@22': 0, 'x3@23': 0, 'x3@24': 0, 'x3@25': 0, 'x3@26': 0, 'x3@27': 0, 'x3@28': 0, 'x3@29': 0, 'x3@3': 1, 'x3@30': 0, 'x3@31': 0, 'x3@32': 0, 'x3@33': 0, 'x3@34': 0, 'x3@35': 0, 'x3@36': 0, 'x3@37': 0, 'x3@38': 0, 'x3@39': 0, 'x3@4': 0, 'x3@40': 0, 'x3@41': 0, 'x3@42': 0, 'x3@43': 0, 'x3@44': 0, 'x3@45': 0, 'x3@46': 0, 'x3@47': 0, 'x3@48': 0, 'x3@49': 0, 'x3@5': 0, 'x3@50': 0, 'x3@51': 0, 'x3@52': 0, 'x3@53': 0, 'x3@54': 0, 'x3@55': 0, 'x3@56': 0, 'x3@57': 0, 'x3@58': 0, 'x3@59': 0, 'x3@6': 0, 'x3@60': 0, 'x3@61': 0, 'x3@62': 0, 'x3@63': 0, 'x3@64': 0, 'x3@65': 0, 'x3@66': 0, 'x3@7': 0, 'x3@8': 0, 'x3@9': 0, 'x4@0': 0, 'x4@1': 0, 'x4@10': 0, 'x4@11': 0, 'x4@12': 0, 'x4@13': 0, 'x4@14': 0, 'x4@15': 0, 'x4@16': 0, 'x4@17': 0, 'x4@18': 0, 'x4@19': 0, 'x4@2': 0, 'x4@20': 0, 'x4@21': 0, 'x4@22': 0, 'x4@23': 0, 'x4@24': 0, 'x4@25': 0, 'x4@26': 0, 'x4@27': 0, 'x4@28': 0, 'x4@29': 0, 'x4@3': 0, 'x4@30': 0, 'x4@31': 0, 'x4@32': 0, 'x4@33': 0, 'x4@34': 0, 'x4@35': 0, 'x4@36': 0, 'x4@37': 0, 'x4@38': 0, 'x4@39': 0, 'x4@4': 0, 'x4@40': 0, 'x4@41': 0, 'x4@42': 0, 'x4@43': 0, 'x4@44': 0, 'x4@45': 0, 'x4@46': 0, 'x4@47': 0, 'x4@48': 0, 'x4@49': 0, 'x4@5': 0, 'x4@50': 0, 'x4@51': 0, 'x4@52': 0, 'x4@53': 0, 'x4@54': 0, 'x4@55': 0, 'x4@56': 0, 'x4@57': 0, 'x4@58': 0, 'x4@59': 0, 'x4@6': 0, 'x4@60': 0, 'x4@61': 0, 'x4@62': 0, 'x4@63': 0, 'x4@64': 0, 'x4@65': 0, 'x4@66': 0, 'x4@7': 0, 'x4@8': 0, 'x4@9': 0, 'x5@0': 0, 'x5@1': 0, 'x5@10': 0, 'x5@11': 0, 'x5@12': 0, 'x5@13': 0, 'x5@14': 0, 'x5@15': 0, 'x5@16': 0, 'x5@17': 0, 'x5@18': 0, 'x5@19': 0, 'x5@2': 0, 'x5@20': 0, 'x5@21': 0, 'x5@22': 0, 'x5@23': 0, 'x5@24': 0, 'x5@25': 0, 'x5@26': 0, 'x5@27': 0, 'x5@28': 0, 'x5@29': 0, 'x5@3': 0, 'x5@30': 0, 'x5@31': 0, 'x5@32': 0, 'x5@33': 0, 'x5@34': 0, 'x5@35': 0, 'x5@36': 0, 'x5@37': 0, 'x5@38': 0, 'x5@39': 0, 'x5@4': 0, 'x5@40': 0, 'x5@41': 0, 'x5@42': 0, 'x5@43': 0, 'x5@44': 0, 'x5@45': 0, 'x5@46': 0, 'x5@47': 0, 'x5@48': 0, 'x5@49': 0, 'x5@5': 0, 'x5@50': 0, 'x5@51': 0, 'x5@52': 0, 'x5@53': 0, 'x5@54': 0, 'x5@55': 0, 'x5@56': 0, 'x5@57': 0, 'x5@58': 0, 'x5@59': 0, 'x5@6': 0, 'x5@60': 0, 'x5@61': 0, 'x5@62': 0, 'x5@63': 0, 'x5@64': 0, 'x5@65': 0, 'x5@66': 0, 'x5@7': 0, 'x5@8': 0, 'x5@9': 0}, {'x0@0': 0, 'x0@1': 0, 'x0@10': 0, 'x0@11': 0, 'x0@12': 0, 'x0@13': 0, 'x0@14': 0, 'x0@15': 0, 'x0@16': 0, 'x0@17': 0, 'x0@18': 0, 'x0@19': 0, 'x0@2': 0, 'x0@20': 0, 'x0@21': 0, 'x0@22': 0, 'x0@23': 0, 'x0@24': 0, 'x0@25': 0, 'x0@26': 0, 'x0@27': 0, 'x0@28': 0, 'x0@29': 0, 'x0@3': 1, 'x0@30': 0, 'x0@31': 0, 'x0@32': 0, 'x0@33': 0, 'x0@34': 0, 'x0@35': 0, 'x0@36': 0, 'x0@37': 0, 'x0@38': 0, 'x0@39': 0, 'x0@4': 1, 'x0@40': 0, 'x0@41': 0, 'x0@42': 0, 'x0@43': 0, 'x0@44': 0, 'x0@45': 0, 'x0@46': 0, 'x0@47': 0, 'x0@48': 0, 'x0@49': 0, 'x0@5': 1, 'x0@50': 0, 'x0@51': 0, 'x0@52': 0, 'x0@53': 0, 'x0@54': 0, 'x0@55': 0, 'x0@56': 0, 'x0@57': 0, 'x0@58': 0, 'x0@59': 0, 'x0@6': 0, 'x0@60': 0, 'x0@61': 0, 'x0@62': 0, 'x0@63': 0, 'x0@64': 0, 'x0@65': 0, 'x0@66': 0, 'x0@7': 0, 'x0@8': 0, 'x0@9': 0, 'x1@0': 0, 'x1@1': 0, 'x1@10': 0, 'x1@11': 0, 'x1@12': 0, 'x1@13': 0, 'x1@14': 0, 'x1@15': 0, 'x1@16': 0, 'x1@17': 0, 'x1@18': 0, 'x1@19': 0, 'x1@2': 0, 'x1@20': 0, 'x1@21': 0, 'x1@22': 0, 'x1@23': 0, 'x1@24': 0, 'x1@25': 0, 'x1@26': 0, 'x1@27': 0, 'x1@28': 0, 'x1@29': 0, 'x1@3': 0, 'x1@30': 0, 'x1@31': 0, 'x1@32': 0, 'x1@33': 0, 'x1@34': 0, 'x1@35': 0, 'x1@36': 0, 'x1@37': 0, 'x1@38': 0, 'x1@39': 0, 'x1@4': 0, 'x1@40': 0, 'x1@41': 0, 'x1@42': 0, 'x1@43': 0, 'x1@44': 0, 'x1@45': 0, 'x1@46': 0, 'x1@47': 0, 'x1@48': 0, 'x1@49': 0, 'x1@5': 0, 'x1@50': 0, 'x1@51': 0, 'x1@52': 0, 'x1@53': 0, 'x1@54': 0, 'x1@55': 0, 'x1@56': 0, 'x1@57': 0, 'x1@58': 0, 'x1@59': 0, 'x1@6': 0, 'x1@60': 0, 'x1@61': 0, 'x1@62': 0, 'x1@63': 0, 'x1@64': 0, 'x1@65': 0, 'x1@66': 0, 'x1@7': 0, 'x1@8': 0, 'x1@9': 0, 'x2@0': 0, 'x2@1': 0, 'x2@10': 0, 'x2@11': 0, 'x2@12': 0, 'x2@13': 0, 'x2@14': 0, 'x2@15': 0, 'x2@16': 0, 'x2@17': 0, 'x2@18': 0, 'x2@19': 0, 'x2@2': 0, 'x2@20': 0, 'x2@21': 0, 'x2@22': 0, 'x2@23': 0, 'x2@24': 0, 'x2@25': 0, 'x2@26': 0, 'x2@27': 0, 'x2@28': 0, 'x2@29': 0, 'x2@3': 0, 'x2@30': 0, 'x2@31': 0, 'x2@32': 0, 'x2@33': 0, 'x2@34': 0, 'x2@35': 0, 'x2@36': 0, 'x2@37': 0, 'x2@38': 0, 'x2@39': 0, 'x2@4': 0, 'x2@40': 0, 'x2@41': 0, 'x2@42': 0, 'x2@43': 0, 'x2@44': 0, 'x2@45': 0, 'x2@46': 0, 'x2@47': 0, 'x2@48': 0, 'x2@49': 0, 'x2@5': 0, 'x2@50': 0, 'x2@51': 0, 'x2@52': 0, 'x2@53': 0, 'x2@54': 0, 'x2@55': 0, 'x2@56': 0, 'x2@57': 0, 'x2@58': 0, 'x2@59': 0, 'x2@6': 0, 'x2@60': 0, 'x2@61': 0, 'x2@62': 0, 'x2@63': 0, 'x2@64': 0, 'x2@65': 0, 'x2@66': 0, 'x2@7': 0, 'x2@8': 0, 'x2@9': 0, 'x3@0': 0, 'x3@1': 0, 'x3@10': 0, 'x3@11': 0, 'x3@12': 0, 'x3@13': 0, 'x3@14': 0, 'x3@15': 0, 'x3@16': 0, 'x3@17': 0, 'x3@18': 0, 'x3@19': 0, 'x3@2': 0, 'x3@20': 0, 'x3@21': 0, 'x3@22': 0, 'x3@23': 0, 'x3@24': 0, 'x3@25': 0, 'x3@26': 0, 'x3@27': 0, 'x3@28': 0, 'x3@29': 0, 'x3@3': 0, 'x3@30': 0, 'x3@31': 0, 'x3@32': 0, 'x3@33': 0, 'x3@34': 0, 'x3@35': 0, 'x3@36': 0, 'x3@37': 0, 'x3@38': 0, 'x3@39': 0, 'x3@4': 0, 'x3@40': 0, 'x3@41': 0, 'x3@42': 0, 'x3@43': 0, 'x3@44': 0, 'x3@45': 0, 'x3@46': 0, 'x3@47': 0, 'x3@48': 0, 'x3@49': 0, 'x3@5': 0, 'x3@50': 0, 'x3@51': 0, 'x3@52': 0, 'x3@53': 0, 'x3@54': 0, 'x3@55': 0, 'x3@56': 0, 'x3@57': 0, 'x3@58': 0, 'x3@59': 0, 'x3@6': 0, 'x3@60': 0, 'x3@61': 0, 'x3@62': 0, 'x3@63': 0, 'x3@64': 0, 'x3@65': 0, 'x3@66': 0, 'x3@7': 0, 'x3@8': 0, 'x3@9': 0, 'x4@0': 0, 'x4@1': 0, 'x4@10': 0, 'x4@11': 0, 'x4@12': 0, 'x4@13': 0, 'x4@14': 0, 'x4@15': 0, 'x4@16': 0, 'x4@17': 0, 'x4@18': 0, 'x4@19': 0, 'x4@2': 0, 'x4@20': 0, 'x4@21': 0, 'x4@22': 0, 'x4@23': 0, 'x4@24': 0, 'x4@25': 0, 'x4@26': 0, 'x4@27': 0, 'x4@28': 0, 'x4@29': 0, 'x4@3': 0, 'x4@30': 0, 'x4@31': 0, 'x4@32': 0, 'x4@33': 0, 'x4@34': 0, 'x4@35': 0, 'x4@36': 0, 'x4@37': 0, 'x4@38': 0, 'x4@39': 0, 'x4@4': 0, 'x4@40': 0, 'x4@41': 0, 'x4@42': 0, 'x4@43': 0, 'x4@44': 0, 'x4@45': 0, 'x4@46': 0, 'x4@47': 0, 'x4@48': 0, 'x4@49': 0, 'x4@5': 0, 'x4@50': 0, 'x4@51': 0, 'x4@52': 0, 'x4@53': 0, 'x4@54': 0, 'x4@55': 0, 'x4@56': 0, 'x4@57': 0, 'x4@58': 0, 'x4@59': 0, 'x4@6': 0, 'x4@60': 0, 'x4@61': 0, 'x4@62': 0, 'x4@63': 0, 'x4@64': 0, 'x4@65': 0, 'x4@66': 0, 'x4@7': 0, 'x4@8': 0, 'x4@9': 0, 'x5@0': 0, 'x5@1': 0, 'x5@10': 0, 'x5@11': 0, 'x5@12': 0, 'x5@13': 0, 'x5@14': 0, 'x5@15': 0, 'x5@16': 0, 'x5@17': 0, 'x5@18': 0, 'x5@19': 0, 'x5@2': 0, 'x5@20': 0, 'x5@21': 0, 'x5@22': 0, 'x5@23': 0, 'x5@24': 0, 'x5@25': 0, 'x5@26': 0, 'x5@27': 0, 'x5@28': 0, 'x5@29': 0, 'x5@3': 0, 'x5@30': 0, 'x5@31': 0, 'x5@32': 0, 'x5@33': 0, 'x5@34': 0, 'x5@35': 0, 'x5@36': 0, 'x5@37': 0, 'x5@38': 0, 'x5@39': 0, 'x5@4': 0, 'x5@40': 0, 'x5@41': 0, 'x5@42': 0, 'x5@43': 0, 'x5@44': 0, 'x5@45': 0, 'x5@46': 0, 'x5@47': 0, 'x5@48': 0, 'x5@49': 0, 'x5@5': 0, 'x5@50': 0, 'x5@51': 0, 'x5@52': 0, 'x5@53': 0, 'x5@54': 0, 'x5@55': 0, 'x5@56': 0, 'x5@57': 0, 'x5@58': 0, 'x5@59': 0, 'x5@6': 0, 'x5@60': 0, 'x5@61': 0, 'x5@62': 0, 'x5@63': 0, 'x5@64': 0, 'x5@65': 0, 'x5@66': 0, 'x5@7': 0, 'x5@8': 0, 'x5@9': 0}, {'x0@0': 0, 'x0@1': 0, 'x0@10': 0, 'x0@11': 0, 'x0@12': 0, 'x0@13': 0, 'x0@14': 0, 'x0@15': 0, 'x0@16': 0, 'x0@17': 0, 'x0@18': 0, 'x0@19': 0, 'x0@2': 0, 'x0@20': 0, 'x0@21': 0, 'x0@22': 0, 'x0@23': 0, 'x0@24': 0, 'x0@25': 0, 'x0@26': 0, 'x0@27': 0, 'x0@28': 0, 'x0@29': 0, 'x0@3': 0, 'x0@30': 0, 'x0@31': 0, 'x0@32': 0, 'x0@33': 0, 'x0@34': 0, 'x0@35': 0, 'x0@36': 0, 'x0@37': 0, 'x0@38': 0, 'x0@39': 0, 'x0@4': 0, 'x0@40': 0, 'x0@41': 0, 'x0@42': 0, 'x0@43': 0, 'x0@44': 0, 'x0@45': 0, 'x0@46': 0, 'x0@47': 0, 'x0@48': 0, 'x0@49': 0, 'x0@5': 0, 'x0@50': 0, 'x0@51': 0, 'x0@52': 0, 'x0@53': 0, 'x0@54': 0, 'x0@55': 0, 'x0@56': 0, 'x0@57': 0, 'x0@58': 0, 'x0@59': 0, 'x0@6': 1, 'x0@60': 0, 'x0@61': 0, 'x0@62': 0, 'x0@63': 0, 'x0@64': 0, 'x0@65': 0, 'x0@66': 0, 'x0@7': 0, 'x0@8': 0, 'x0@9': 0, 'x1@0': 0, 'x1@1': 0, 'x1@10': 0, 'x1@11': 0, 'x1@12': 0, 'x1@13': 0, 'x1@14': 0, 'x1@15': 0, 'x1@16': 0, 'x1@17': 0, 'x1@18': 0, 'x1@19': 0, 'x1@2': 0, 'x1@20': 0, 'x1@21': 0, 'x1@22': 0, 'x1@23': 0, 'x1@24': 0, 'x1@25': 0, 'x1@26': 0, 'x1@27': 0, 'x1@28': 0, 'x1@29': 0, 'x1@3': 0, 'x1@30': 0, 'x1@31': 0, 'x1@32': 0, 'x1@33': 0, 'x1@34': 0, 'x1@35': 0, 'x1@36': 0, 'x1@37': 0, 'x1@38': 0, 'x1@39': 0, 'x1@4': 0, 'x1@40': 0, 'x1@41': 0, 'x1@42': 0, 'x1@43': 0, 'x1@44': 0, 'x1@45': 0, 'x1@46': 0, 'x1@47': 0, 'x1@48': 0, 'x1@49': 0, 'x1@5': 0, 'x1@50': 0, 'x1@51': 0, 'x1@52': 0, 'x1@53': 0, 'x1@54': 0, 'x1@55': 0, 'x1@56': 0, 'x1@57': 0, 'x1@58': 0, 'x1@59': 0, 'x1@6': 0, 'x1@60': 0, 'x1@61': 0, 'x1@62': 0, 'x1@63': 0, 'x1@64': 0, 'x1@65': 0, 'x1@66': 0, 'x1@7': 0, 'x1@8': 0, 'x1@9': 0, 'x2@0': 0, 'x2@1': 0, 'x2@10': 0, 'x2@11': 0, 'x2@12': 0, 'x2@13': 0, 'x2@14': 0, 'x2@15': 0, 'x2@16': 0, 'x2@17': 0, 'x2@18': 0, 'x2@19': 0, 'x2@2': 0, 'x2@20': 0, 'x2@21': 0, 'x2@22': 0, 'x2@23': 0, 'x2@24': 0, 'x2@25': 0, 'x2@26': 0, 'x2@27': 0, 'x2@28': 0, 'x2@29': 0, 'x2@3': 0, 'x2@30': 0, 'x2@31': 0, 'x2@32': 0, 'x2@33': 0, 'x2@34': 0, 'x2@35': 0, 'x2@36': 0, 'x2@37': 0, 'x2@38': 0, 'x2@39': 0, 'x2@4': 0, 'x2@40': 0, 'x2@41': 0, 'x2@42': 0, 'x2@43': 0, 'x2@44': 0, 'x2@45': 0, 'x2@46': 0, 'x2@47': 0, 'x2@48': 0, 'x2@49': 0, 'x2@5': 0, 'x2@50': 0, 'x2@51': 0, 'x2@52': 0, 'x2@53': 0, 'x2@54': 0, 'x2@55': 0, 'x2@56': 0, 'x2@57': 0, 'x2@58': 0, 'x2@59': 0, 'x2@6': 0, 'x2@60': 0, 'x2@61': 0, 'x2@62': 0, 'x2@63': 0, 'x2@64': 0, 'x2@65': 0, 'x2@66': 0, 'x2@7': 0, 'x2@8': 0, 'x2@9': 0, 'x3@0': 0, 'x3@1': 0, 'x3@10': 0, 'x3@11': 0, 'x3@12': 0, 'x3@13': 0, 'x3@14': 0, 'x3@15': 0, 'x3@16': 0, 'x3@17': 0, 'x3@18': 0, 'x3@19': 0, 'x3@2': 0, 'x3@20': 0, 'x3@21': 0, 'x3@22': 0, 'x3@23': 0, 'x3@24': 0, 'x3@25': 0, 'x3@26': 0, 'x3@27': 0, 'x3@28': 0, 'x3@29': 0, 'x3@3': 0, 'x3@30': 0, 'x3@31': 0, 'x3@32': 0, 'x3@33': 0, 'x3@34': 0, 'x3@35': 0, 'x3@36': 0, 'x3@37': 0, 'x3@38': 0, 'x3@39': 0, 'x3@4': 0, 'x3@40': 0, 'x3@41': 0, 'x3@42': 0, 'x3@43': 0, 'x3@44': 0, 'x3@45': 0, 'x3@46': 0, 'x3@47': 0, 'x3@48': 0, 'x3@49': 0, 'x3@5': 0, 'x3@50': 0, 'x3@51': 0, 'x3@52': 0, 'x3@53': 0, 'x3@54': 0, 'x3@55': 0, 'x3@56': 0, 'x3@57': 0, 'x3@58': 0, 'x3@59': 0, 'x3@6': 0, 'x3@60': 0, 'x3@61': 0, 'x3@62': 0, 'x3@63': 0, 'x3@64': 0, 'x3@65': 0, 'x3@66': 0, 'x3@7': 0, 'x3@8': 0, 'x3@9': 0, 'x4@0': 0, 'x4@1': 0, 'x4@10': 0, 'x4@11': 0, 'x4@12': 0, 'x4@13': 0, 'x4@14': 0, 'x4@15': 0, 'x4@16': 0, 'x4@17': 0, 'x4@18': 0, 'x4@19': 0, 'x4@2': 0, 'x4@20': 0, 'x4@21': 0, 'x4@22': 0, 'x4@23': 0, 'x4@24': 0, 'x4@25': 0, 'x4@26': 0, 'x4@27': 0, 'x4@28': 0, 'x4@29': 0, 'x4@3': 0, 'x4@30': 0, 'x4@31': 0, 'x4@32': 0, 'x4@33': 0, 'x4@34': 0, 'x4@35': 0, 'x4@36': 0, 'x4@37': 0, 'x4@38': 0, 'x4@39': 0, 'x4@4': 0, 'x4@40': 0, 'x4@41': 0, 'x4@42': 0, 'x4@43': 0, 'x4@44': 0, 'x4@45': 0, 'x4@46': 0, 'x4@47': 0, 'x4@48': 0, 'x4@49': 0, 'x4@5': 0, 'x4@50': 0, 'x4@51': 0, 'x4@52': 0, 'x4@53': 0, 'x4@54': 0, 'x4@55': 0, 'x4@56': 0, 'x4@57': 0, 'x4@58': 0, 'x4@59': 0, 'x4@6': 0, 'x4@60': 0, 'x4@61': 0, 'x4@62': 0, 'x4@63': 0, 'x4@64': 0, 'x4@65': 0, 'x4@66': 0, 'x4@7': 0, 'x4@8': 0, 'x4@9': 0, 'x5@0': 0, 'x5@1': 0, 'x5@10': 0, 'x5@11': 0, 'x5@12': 0, 'x5@13': 0, 'x5@14': 0, 'x5@15': 0, 'x5@16': 0, 'x5@17': 0, 'x5@18': 0, 'x5@19': 0, 'x5@2': 0, 'x5@20': 0, 'x5@21': 0, 'x5@22': 0, 'x5@23': 0, 'x5@24': 0, 'x5@25': 0, 'x5@26': 0, 'x5@27': 0, 'x5@28': 0, 'x5@29': 0, 'x5@3': 0, 'x5@30': 0, 'x5@31': 0, 'x5@32': 0, 'x5@33': 0, 'x5@34': 0, 'x5@35': 0, 'x5@36': 0, 'x5@37': 0, 'x5@38': 0, 'x5@39': 0, 'x5@4': 0, 'x5@40': 0, 'x5@41': 0, 'x5@42': 0, 'x5@43': 0, 'x5@44': 0, 'x5@45': 0, 'x5@46': 0, 'x5@47': 0, 'x5@48': 0, 'x5@49': 0, 'x5@5': 0, 'x5@50': 0, 'x5@51': 0, 'x5@52': 0, 'x5@53': 0, 'x5@54': 0, 'x5@55': 0, 'x5@56': 0, 'x5@57': 0, 'x5@58': 0, 'x5@59': 0, 'x5@6': 0, 'x5@60': 0, 'x5@61': 0, 'x5@62': 0, 'x5@63': 0, 'x5@64': 0, 'x5@65': 0, 'x5@66': 0, 'x5@7': 0, 'x5@8': 0, 'x5@9': 0}, {'x0@0': 0, 'x0@1': 0, 'x0@10': 0, 'x0@11': 0, 'x0@12': 0, 'x0@13': 0, 'x0@14': 0, 'x0@15': 0, 'x0@16': 0, 'x0@17': 0, 'x0@18': 0, 'x0@19': 0, 'x0@2': 0, 'x0@20': 0, 'x0@21': 0, 'x0@22': 0, 'x0@23': 0, 'x0@24': 0, 'x0@25': 0, 'x0@26': 0, 'x0@27': 0, 'x0@28': 0, 'x0@29': 0, 'x0@3': 0, 'x0@30': 0, 'x0@31': 0, 'x0@32': 0, 'x0@33': 0, 'x0@34': 0, 'x0@35': 0, 'x0@36': 0, 'x0@37': 0, 'x0@38': 0, 'x0@39': 0, 'x0@4': 0, 'x0@40': 0, 'x0@41': 0, 'x0@42': 0, 'x0@43': 0, 'x0@44': 0, 'x0@45': 0, 'x0@46': 0, 'x0@47': 0, 'x0@48': 0, 'x0@49': 0, 'x0@5': 0, 'x0@50': 0, 'x0@51': 0, 'x0@52': 0, 'x0@53': 0, 'x0@54': 0, 'x0@55': 0, 'x0@56': 0, 'x0@57': 0, 'x0@58': 0, 'x0@59': 0, 'x0@6': 0, 'x0@60': 0, 'x0@61': 0, 'x0@62': 0, 'x0@63': 0, 'x0@64': 0, 'x0@65': 0, 'x0@66': 0, 'x0@7': 0, 'x0@8': 0, 'x0@9': 0, 'x1@0': 0, 'x1@1': 0, 'x1@10': 0, 'x1@11': 0, 'x1@12': 0, 'x1@13': 0, 'x1@14': 0, 'x1@15': 0, 'x1@16': 0, 'x1@17': 0, 'x1@18': 0, 'x1@19': 0, 'x1@2': 0, 'x1@20': 0, 'x1@21': 0, 'x1@22': 0, 'x1@23': 0, 'x1@24': 0, 'x1@25': 0, 'x1@26': 0, 'x1@27': 0, 'x1@28': 0, 'x1@29': 0, 'x1@3': 0, 'x1@30': 0, 'x1@31': 0, 'x1@32': 0, 'x1@33': 0, 'x1@34': 0, 'x1@35': 0, 'x1@36': 0, 'x1@37': 0, 'x1@38': 0, 'x1@39': 0, 'x1@4': 0, 'x1@40': 0, 'x1@41': 0, 'x1@42': 0, 'x1@43': 0, 'x1@44': 0, 'x1@45': 0, 'x1@46': 0, 'x1@47': 0, 'x1@48': 0, 'x1@49': 0, 'x1@5': 0, 'x1@50': 0, 'x1@51': 0, 'x1@52': 0, 'x1@53': 0, 'x1@54': 0, 'x1@55': 0, 'x1@56': 0, 'x1@57': 0, 'x1@58': 0, 'x1@59': 0, 'x1@6': 0, 'x1@60': 0, 'x1@61': 0, 'x1@62': 0, 'x1@63': 0, 'x1@64': 0, 'x1@65': 0, 'x1@66': 0, 'x1@7': 0, 'x1@8': 0, 'x1@9': 0, 'x2@0': 0, 'x2@1': 0, 'x2@10': 0, 'x2@11': 0, 'x2@12': 0, 'x2@13': 0, 'x2@14': 0, 'x2@15': 0, 'x2@16': 0, 'x2@17': 0, 'x2@18': 0, 'x2@19': 0, 'x2@2': 0, 'x2@20': 0, 'x2@21': 0, 'x2@22': 0, 'x2@23': 0, 'x2@24': 0, 'x2@25': 0, 'x2@26': 0, 'x2@27': 0, 'x2@28': 0, 'x2@29': 0, 'x2@3': 0, 'x2@30': 0, 'x2@31': 0, 'x2@32': 0, 'x2@33': 0, 'x2@34': 0, 'x2@35': 0, 'x2@36': 0, 'x2@37': 0, 'x2@38': 0, 'x2@39': 0, 'x2@4': 0, 'x2@40': 0, 'x2@41': 0, 'x2@42': 0, 'x2@43': 0, 'x2@44': 0, 'x2@45': 0, 'x2@46': 0, 'x2@47': 0, 'x2@48': 0, 'x2@49': 0, 'x2@5': 0, 'x2@50': 0, 'x2@51': 0, 'x2@52': 0, 'x2@53': 0, 'x2@54': 0, 'x2@55': 0, 'x2@56': 0, 'x2@57': 0, 'x2@58': 0, 'x2@59': 0, 'x2@6': 1, 'x2@60': 0, 'x2@61': 0, 'x2@62': 0, 'x2@63': 0, 'x2@64': 0, 'x2@65': 0, 'x2@66': 0, 'x2@7': 0, 'x2@8': 0, 'x2@9': 0, 'x3@0': 0, 'x3@1': 0, 'x3@10': 0, 'x3@11': 0, 'x3@12': 0, 'x3@13': 0, 'x3@14': 0, 'x3@15': 0, 'x3@16': 0, 'x3@17': 0, 'x3@18': 0, 'x3@19': 0, 'x3@2': 0, 'x3@20': 0, 'x3@21': 0, 'x3@22': 0, 'x3@23': 0, 'x3@24': 0, 'x3@25': 0, 'x3@26': 0, 'x3@27': 0, 'x3@28': 0, 'x3@29': 0, 'x3@3': 0, 'x3@30': 0, 'x3@31': 0, 'x3@32': 0, 'x3@33': 0, 'x3@34': 0, 'x3@35': 0, 'x3@36': 0, 'x3@37': 0, 'x3@38': 0, 'x3@39': 0, 'x3@4': 1, 'x3@40': 0, 'x3@41': 0, 'x3@42': 0, 'x3@43': 0, 'x3@44': 0, 'x3@45': 0, 'x3@46': 0, 'x3@47': 0, 'x3@48': 0, 'x3@49': 0, 'x3@5': 0, 'x3@50': 0, 'x3@51': 0, 'x3@52': 0, 'x3@53': 0, 'x3@54': 0, 'x3@55': 0, 'x3@56': 0, 'x3@57': 0, 'x3@58': 0, 'x3@59': 0, 'x3@6': 0, 'x3@60': 0, 'x3@61': 0, 'x3@62': 0, 'x3@63': 0, 'x3@64': 0, 'x3@65': 0, 'x3@66': 0, 'x3@7': 0, 'x3@8': 0, 'x3@9': 0, 'x4@0': 0, 'x4@1': 0, 'x4@10': 0, 'x4@11': 0, 'x4@12': 0, 'x4@13': 0, 'x4@14': 0, 'x4@15': 0, 'x4@16': 0, 'x4@17': 0, 'x4@18': 0, 'x4@19': 0, 'x4@2': 0, 'x4@20': 0, 'x4@21': 0, 'x4@22': 0, 'x4@23': 0, 'x4@24': 0, 'x4@25': 0, 'x4@26': 0, 'x4@27': 0, 'x4@28': 0, 'x4@29': 0, 'x4@3': 0, 'x4@30': 0, 'x4@31': 0, 'x4@32': 0, 'x4@33': 0, 'x4@34': 0, 'x4@35': 0, 'x4@36': 0, 'x4@37': 0, 'x4@38': 0, 'x4@39': 0, 'x4@4': 0, 'x4@40': 0, 'x4@41': 0, 'x4@42': 0, 'x4@43': 0, 'x4@44': 0, 'x4@45': 0, 'x4@46': 0, 'x4@47': 0, 'x4@48': 0, 'x4@49': 0, 'x4@5': 0, 'x4@50': 0, 'x4@51': 0, 'x4@52': 0, 'x4@53': 0, 'x4@54': 0, 'x4@55': 0, 'x4@56': 0, 'x4@57': 0, 'x4@58': 0, 'x4@59': 0, 'x4@6': 0, 'x4@60': 0, 'x4@61': 0, 'x4@62': 0, 'x4@63': 0, 'x4@64': 0, 'x4@65': 0, 'x4@66': 0, 'x4@7': 0, 'x4@8': 0, 'x4@9': 0, 'x5@0': 0, 'x5@1': 0, 'x5@10': 0, 'x5@11': 0, 'x5@12': 0, 'x5@13': 0, 'x5@14': 0, 'x5@15': 0, 'x5@16': 0, 'x5@17': 0, 'x5@18': 0, 'x5@19': 0, 'x5@2': 0, 'x5@20': 0, 'x5@21': 0, 'x5@22': 0, 'x5@23': 0, 'x5@24': 0, 'x5@25': 0, 'x5@26': 0, 'x5@27': 0, 'x5@28': 0, 'x5@29': 0, 'x5@3': 0, 'x5@30': 0, 'x5@31': 0, 'x5@32': 0, 'x5@33': 0, 'x5@34': 0, 'x5@35': 0, 'x5@36': 0, 'x5@37': 0, 'x5@38': 0, 'x5@39': 0, 'x5@4': 0, 'x5@40': 0, 'x5@41': 0, 'x5@42': 0, 'x5@43': 0, 'x5@44': 0, 'x5@45': 0, 'x5@46': 0, 'x5@47': 0, 'x5@48': 0, 'x5@49': 0, 'x5@5': 0, 'x5@50': 0, 'x5@51': 0, 'x5@52': 0, 'x5@53': 0, 'x5@54': 0, 'x5@55': 0, 'x5@56': 0, 'x5@57': 0, 'x5@58': 0, 'x5@59': 0, 'x5@6': 0, 'x5@60': 0, 'x5@61': 0, 'x5@62': 0, 'x5@63': 0, 'x5@64': 0, 'x5@65': 0, 'x5@66': 0, 'x5@7': 0, 'x5@8': 0, 'x5@9': 0}, {'x0@0': 0, 'x0@1': 0, 'x0@10': 0, 'x0@11': 0, 'x0@12': 0, 'x0@13': 0, 'x0@14': 0, 'x0@15': 0, 'x0@16': 0, 'x0@17': 0, 'x0@18': 0, 'x0@19': 0, 'x0@2': 0, 'x0@20': 0, 'x0@21': 0, 'x0@22': 0, 'x0@23': 0, 'x0@24': 0, 'x0@25': 0, 'x0@26': 0, 'x0@27': 0, 'x0@28': 0, 'x0@29': 0, 'x0@3': 0, 'x0@30': 0, 'x0@31': 0, 'x0@32': 0, 'x0@33': 0, 'x0@34': 0, 'x0@35': 0, 'x0@36': 0, 'x0@37': 0, 'x0@38': 0, 'x0@39': 0, 'x0@4': 0, 'x0@40': 0, 'x0@41': 0, 'x0@42': 0, 'x0@43': 0, 'x0@44': 0, 'x0@45': 0, 'x0@46': 0, 'x0@47': 0, 'x0@48': 0, 'x0@49': 0, 'x0@5': 0, 'x0@50': 0, 'x0@51': 0, 'x0@52': 0, 'x0@53': 0, 'x0@54': 0, 'x0@55': 0, 'x0@56': 0, 'x0@57': 0, 'x0@58': 0, 'x0@59': 0, 'x0@6': 0, 'x0@60': 0, 'x0@61': 0, 'x0@62': 0, 'x0@63': 0, 'x0@64': 0, 'x0@65': 0, 'x0@66': 0, 'x0@7': 0, 'x0@8': 0, 'x0@9': 0, 'x1@0': 0, 'x1@1': 0, 'x1@10': 0, 'x1@11': 0, 'x1@12': 0, 'x1@13': 0, 'x1@14': 0, 'x1@15': 0, 'x1@16': 0, 'x1@17': 0, 'x1@18': 0, 'x1@19': 0, 'x1@2': 0, 'x1@20': 0, 'x1@21': 0, 'x1@22': 0, 'x1@23': 0, 'x1@24': 0, 'x1@25': 0, 'x1@26': 0, 'x1@27': 0, 'x1@28': 0, 'x1@29': 0, 'x1@3': 0, 'x1@30': 0, 'x1@31': 0, 'x1@32': 0, 'x1@33': 0, 'x1@34': 0, 'x1@35': 0, 'x1@36': 0, 'x1@37': 0, 'x1@38': 0, 'x1@39': 0, 'x1@4': 0, 'x1@40': 0, 'x1@41': 0, 'x1@42': 0, 'x1@43': 0, 'x1@44': 0, 'x1@45': 0, 'x1@46': 0, 'x1@47': 0, 'x1@48': 0, 'x1@49': 0, 'x1@5': 0, 'x1@50': 0, 'x1@51': 0, 'x1@52': 0, 'x1@53': 0, 'x1@54': 0, 'x1@55': 0, 'x1@56': 0, 'x1@57': 0, 'x1@58': 0, 'x1@59': 0, 'x1@6': 0, 'x1@60': 0, 'x1@61': 0, 'x1@62': 0, 'x1@63': 0, 'x1@64': 0, 'x1@65': 0, 'x1@66': 0, 'x1@7': 0, 'x1@8': 0, 'x1@9': 0, 'x2@0': 0, 'x2@1': 0, 'x2@10': 0, 'x2@11': 0, 'x2@12': 0, 'x2@13': 0, 'x2@14': 0, 'x2@15': 0, 'x2@16': 0, 'x2@17': 0, 'x2@18': 0, 'x2@19': 0, 'x2@2': 0, 'x2@20': 0, 'x2@21': 0, 'x2@22': 0, 'x2@23': 0, 'x2@24': 0, 'x2@25': 0, 'x2@26': 0, 'x2@27': 0, 'x2@28': 0, 'x2@29': 0, 'x2@3': 0, 'x2@30': 0, 'x2@31': 0, 'x2@32': 0, 'x2@33': 0, 'x2@34': 0, 'x2@35': 0, 'x2@36': 0, 'x2@37': 0, 'x2@38': 0, 'x2@39': 0, 'x2@4': 0, 'x2@40': 0, 'x2@41': 0, 'x2@42': 0, 'x2@43': 0, 'x2@44': 0, 'x2@45': 0, 'x2@46': 0, 'x2@47': 0, 'x2@48': 0, 'x2@49': 0, 'x2@5': 0, 'x2@50': 0, 'x2@51': 0, 'x2@52': 0, 'x2@53': 0, 'x2@54': 0, 'x2@55': 0, 'x2@56': 0, 'x2@57': 0, 'x2@58': 0, 'x2@59': 0, 'x2@6': 0, 'x2@60': 0, 'x2@61': 0, 'x2@62': 0, 'x2@63': 0, 'x2@64': 0, 'x2@65': 0, 'x2@66': 0, 'x2@7': 0, 'x2@8': 1, 'x2@9': 1, 'x3@0': 0, 'x3@1': 0, 'x3@10': 0, 'x3@11': 0, 'x3@12': 0, 'x3@13': 0, 'x3@14': 0, 'x3@15': 0, 'x3@16': 0, 'x3@17': 0, 'x3@18': 0, 'x3@19': 0, 'x3@2': 0, 'x3@20': 0, 'x3@21': 0, 'x3@22': 0, 'x3@23': 0, 'x3@24': 0, 'x3@25': 0, 'x3@26': 0, 'x3@27': 0, 'x3@28': 0, 'x3@29': 0, 'x3@3': 0, 'x3@30': 0, 'x3@31': 0, 'x3@32': 0, 'x3@33': 0, 'x3@34': 0, 'x3@35': 0, 'x3@36': 0, 'x3@37': 0, 'x3@38': 0, 'x3@39': 0, 'x3@4': 0, 'x3@40': 0, 'x3@41': 0, 'x3@42': 0, 'x3@43': 0, 'x3@44': 0, 'x3@45': 0, 'x3@46': 0, 'x3@47': 0, 'x3@48': 0, 'x3@49': 0, 'x3@5': 0, 'x3@50': 0, 'x3@51': 0, 'x3@52': 0, 'x3@53': 0, 'x3@54': 0, 'x3@55': 0, 'x3@56': 0, 'x3@57': 0, 'x3@58': 0, 'x3@59': 0, 'x3@6': 0, 'x3@60': 0, 'x3@61': 0, 'x3@62': 0, 'x3@63': 0, 'x3@64': 0, 'x3@65': 0, 'x3@66': 0, 'x3@7': 0, 'x3@8': 1, 'x3@9': 1, 'x4@0': 0, 'x4@1': 0, 'x4@10': 0, 'x4@11': 0, 'x4@12': 0, 'x4@13': 0, 'x4@14': 0, 'x4@15': 0, 'x4@16': 0, 'x4@17': 0, 'x4@18': 0, 'x4@19': 0, 'x4@2': 0, 'x4@20': 0, 'x4@21': 0, 'x4@22': 0, 'x4@23': 0, 'x4@24': 0, 'x4@25': 0, 'x4@26': 0, 'x4@27': 0, 'x4@28': 0, 'x4@29': 0, 'x4@3': 0, 'x4@30': 0, 'x4@31': 0, 'x4@32': 0, 'x4@33': 0, 'x4@34': 0, 'x4@35': 0, 'x4@36': 0, 'x4@37': 0, 'x4@38': 0, 'x4@39': 0, 'x4@4': 1, 'x4@40': 0, 'x4@41': 0, 'x4@42': 0, 'x4@43': 0, 'x4@44': 0, 'x4@45': 0, 'x4@46': 0, 'x4@47': 0, 'x4@48': 0, 'x4@49': 0, 'x4@5': 1, 'x4@50': 0, 'x4@51': 0, 'x4@52': 0, 'x4@53': 0, 'x4@54': 0, 'x4@55': 0, 'x4@56': 0, 'x4@57': 0, 'x4@58': 0, 'x4@59': 0, 'x4@6': 0, 'x4@60': 0, 'x4@61': 0, 'x4@62': 0, 'x4@63': 0, 'x4@64': 0, 'x4@65': 0, 'x4@66': 0, 'x4@7': 0, 'x4@8': 0, 'x4@9': 0, 'x5@0': 0, 'x5@1': 0, 'x5@10': 0, 'x5@11': 0, 'x5@12': 0, 'x5@13': 0, 'x5@14': 0, 'x5@15': 0, 'x5@16': 0, 'x5@17': 0, 'x5@18': 0, 'x5@19': 0, 'x5@2': 0, 'x5@20': 0, 'x5@21': 0, 'x5@22': 0, 'x5@23': 0, 'x5@24': 0, 'x5@25': 0, 'x5@26': 0, 'x5@27': 0, 'x5@28': 0, 'x5@29': 0, 'x5@3': 0, 'x5@30': 0, 'x5@31': 0, 'x5@32': 0, 'x5@33': 0, 'x5@34': 0, 'x5@35': 0, 'x5@36': 0, 'x5@37': 0, 'x5@38': 0, 'x5@39': 0, 'x5@4': 0, 'x5@40': 0, 'x5@41': 0, 'x5@42': 0, 'x5@43': 0, 'x5@44': 0, 'x5@45': 0, 'x5@46': 0, 'x5@47': 0, 'x5@48': 0, 'x5@49': 0, 'x5@5': 0, 'x5@50': 0, 'x5@51': 0, 'x5@52': 0, 'x5@53': 0, 'x5@54': 0, 'x5@55': 0, 'x5@56': 0, 'x5@57': 0, 'x5@58': 0, 'x5@59': 0, 'x5@6': 0, 'x5@60': 0, 'x5@61': 0, 'x5@62': 0, 'x5@63': 0, 'x5@64': 0, 'x5@65': 0, 'x5@66': 0, 'x5@7': 0, 'x5@8': 0, 'x5@9': 0}, {'x0@0': 0, 'x0@1': 0, 'x0@10': 0, 'x0@11': 0, 'x0@12': 0, 'x0@13': 0, 'x0@14': 0, 'x0@15': 0, 'x0@16': 0, 'x0@17': 0, 'x0@18': 0, 'x0@19': 0, 'x0@2': 0, 'x0@20': 0, 'x0@21': 0, 'x0@22': 0, 'x0@23': 0, 'x0@24': 0, 'x0@25': 0, 'x0@26': 0, 'x0@27': 0, 'x0@28': 0, 'x0@29': 0, 'x0@3': 0, 'x0@30': 0, 'x0@31': 0, 'x0@32': 0, 'x0@33': 0, 'x0@34': 0, 'x0@35': 0, 'x0@36': 0, 'x0@37': 0, 'x0@38': 0, 'x0@39': 0, 'x0@4': 0, 'x0@40': 0, 'x0@41': 0, 'x0@42': 0, 'x0@43': 0, 'x0@44': 0, 'x0@45': 0, 'x0@46': 0, 'x0@47': 0, 'x0@48': 0, 'x0@49': 0, 'x0@5': 0, 'x0@50': 0, 'x0@51': 0, 'x0@52': 0, 'x0@53': 0, 'x0@54': 0, 'x0@55': 0, 'x0@56': 0, 'x0@57': 0, 'x0@58': 0, 'x0@59': 0, 'x0@6': 0, 'x0@60': 0, 'x0@61': 0, 'x0@62': 0, 'x0@63': 0, 'x0@64': 0, 'x0@65': 0, 'x0@66': 0, 'x0@7': 0, 'x0@8': 0, 'x0@9': 0, 'x1@0': 0, 'x1@1': 0, 'x1@10': 0, 'x1@11': 0, 'x1@12': 0, 'x1@13': 0, 'x1@14': 0, 'x1@15': 0, 'x1@16': 0, 'x1@17': 0, 'x1@18': 0, 'x1@19': 0, 'x1@2': 0, 'x1@20': 0, 'x1@21': 0, 'x1@22': 0, 'x1@23': 0, 'x1@24': 0, 'x1@25': 0, 'x1@26': 0, 'x1@27': 0, 'x1@28': 0, 'x1@29': 0, 'x1@3': 0, 'x1@30': 0, 'x1@31': 0, 'x1@32': 0, 'x1@33': 0, 'x1@34': 0, 'x1@35': 0, 'x1@36': 0, 'x1@37': 0, 'x1@38': 0, 'x1@39': 0, 'x1@4': 0, 'x1@40': 0, 'x1@41': 0, 'x1@42': 0, 'x1@43': 0, 'x1@44': 0, 'x1@45': 0, 'x1@46': 0, 'x1@47': 0, 'x1@48': 0, 'x1@49': 0, 'x1@5': 0, 'x1@50': 0, 'x1@51': 0, 'x1@52': 0, 'x1@53': 0, 'x1@54': 0, 'x1@55': 0, 'x1@56': 0, 'x1@57': 0, 'x1@58': 0, 'x1@59': 0, 'x1@6': 0, 'x1@60': 0, 'x1@61': 0, 'x1@62': 0, 'x1@63': 0, 'x1@64': 0, 'x1@65': 0, 'x1@66': 0, 'x1@7': 0, 'x1@8': 0, 'x1@9': 0, 'x2@0': 0, 'x2@1': 0, 'x2@10': 0, 'x2@11': 0, 'x2@12': 1, 'x2@13': 0, 'x2@14': 0, 'x2@15': 0, 'x2@16': 0, 'x2@17': 0, 'x2@18': 0, 'x2@19': 0, 'x2@2': 0, 'x2@20': 0, 'x2@21': 0, 'x2@22': 0, 'x2@23': 0, 'x2@24': 0, 'x2@25': 0, 'x2@26': 0, 'x2@27': 0, 'x2@28': 0, 'x2@29': 0, 'x2@3': 0, 'x2@30': 0, 'x2@31': 0, 'x2@32': 0, 'x2@33': 0, 'x2@34': 0, 'x2@35': 0, 'x2@36': 0, 'x2@37': 0, 'x2@38': 0, 'x2@39': 0, 'x2@4': 0, 'x2@40': 0, 'x2@41': 0, 'x2@42': 0, 'x2@43': 0, 'x2@44': 0, 'x2@45': 0, 'x2@46': 0, 'x2@47': 0, 'x2@48': 0, 'x2@49': 0, 'x2@5': 0, 'x2@50': 0, 'x2@51': 0, 'x2@52': 0, 'x2@53': 0, 'x2@54': 0, 'x2@55': 0, 'x2@56': 0, 'x2@57': 0, 'x2@58': 0, 'x2@59': 0, 'x2@6': 0, 'x2@60': 0, 'x2@61': 0, 'x2@62': 0, 'x2@63': 0, 'x2@64': 0, 'x2@65': 0, 'x2@66': 0, 'x2@7': 0, 'x2@8': 0, 'x2@9': 0, 'x3@0': 0, 'x3@1': 0, 'x3@10': 0, 'x3@11': 0, 'x3@12': 0, 'x3@13': 0, 'x3@14': 0, 'x3@15': 0, 'x3@16': 0, 'x3@17': 0, 'x3@18': 0, 'x3@19': 0, 'x3@2': 0, 'x3@20': 0, 'x3@21': 0, 'x3@22': 0, 'x3@23': 0, 'x3@24': 0, 'x3@25': 0, 'x3@26': 0, 'x3@27': 0, 'x3@28': 0, 'x3@29': 0, 'x3@3': 0, 'x3@30': 0, 'x3@31': 0, 'x3@32': 0, 'x3@33': 0, 'x3@34': 0, 'x3@35': 0, 'x3@36': 0, 'x3@37': 0, 'x3@38': 0, 'x3@39': 0, 'x3@4': 0, 'x3@40': 0, 'x3@41': 0, 'x3@42': 0, 'x3@43': 0, 'x3@44': 0, 'x3@45': 0, 'x3@46': 0, 'x3@47': 0, 'x3@48': 0, 'x3@49': 0, 'x3@5': 0, 'x3@50': 0, 'x3@51': 0, 'x3@52': 0, 'x3@53': 0, 'x3@54': 0, 'x3@55': 0, 'x3@56': 0, 'x3@57': 0, 'x3@58': 0, 'x3@59': 0, 'x3@6': 0, 'x3@60': 0, 'x3@61': 0, 'x3@62': 0, 'x3@63': 0, 'x3@64': 0, 'x3@65': 0, 'x3@66': 0, 'x3@7': 0, 'x3@8': 0, 'x3@9': 0, 'x4@0': 0, 'x4@1': 0, 'x4@10': 0, 'x4@11': 0, 'x4@12': 0, 'x4@13': 0, 'x4@14': 0, 'x4@15': 0, 'x4@16': 0, 'x4@17': 0, 'x4@18': 0, 'x4@19': 0, 'x4@2': 0, 'x4@20': 0, 'x4@21': 0, 'x4@22': 0, 'x4@23': 0, 'x4@24': 0, 'x4@25': 0, 'x4@26': 0, 'x4@27': 0, 'x4@28': 0, 'x4@29': 0, 'x4@3': 0, 'x4@30': 0, 'x4@31': 0, 'x4@32': 0, 'x4@33': 0, 'x4@34': 0, 'x4@35': 0, 'x4@36': 0, 'x4@37': 0, 'x4@38': 0, 'x4@39': 0, 'x4@4': 0, 'x4@40': 0, 'x4@41': 0, 'x4@42': 0, 'x4@43': 0, 'x4@44': 0, 'x4@45': 0, 'x4@46': 0, 'x4@47': 0, 'x4@48': 0, 'x4@49': 0, 'x4@5': 0, 'x4@50': 0, 'x4@51': 0, 'x4@52': 0, 'x4@53': 0, 'x4@54': 0, 'x4@55': 0, 'x4@56': 0, 'x4@57': 0, 'x4@58': 0, 'x4@59': 0, 'x4@6': 0, 'x4@60': 0, 'x4@61': 0, 'x4@62': 0, 'x4@63': 0, 'x4@64': 0, 'x4@65': 0, 'x4@66': 0, 'x4@7': 0, 'x4@8': 0, 'x4@9': 0, 'x5@0': 0, 'x5@1': 0, 'x5@10': 0, 'x5@11': 0, 'x5@12': 0, 'x5@13': 0, 'x5@14': 0, 'x5@15': 0, 'x5@16': 0, 'x5@17': 0, 'x5@18': 0, 'x5@19': 0, 'x5@2': 0, 'x5@20': 0, 'x5@21': 0, 'x5@22': 0, 'x5@23': 0, 'x5@24': 0, 'x5@25': 0, 'x5@26': 0, 'x5@27': 0, 'x5@28': 0, 'x5@29': 0, 'x5@3': 0, 'x5@30': 0, 'x5@31': 0, 'x5@32': 0, 'x5@33': 0, 'x5@34': 0, 'x5@35': 0, 'x5@36': 0, 'x5@37': 0, 'x5@38': 0, 'x5@39': 0, 'x5@4': 0, 'x5@40': 0, 'x5@41': 0, 'x5@42': 0, 'x5@43': 0, 'x5@44': 0, 'x5@45': 0, 'x5@46': 0, 'x5@47': 0, 'x5@48': 0, 'x5@49': 0, 'x5@5': 0, 'x5@50': 0, 'x5@51': 0, 'x5@52': 0, 'x5@53': 0, 'x5@54': 0, 'x5@55': 0, 'x5@56': 0, 'x5@57': 0, 'x5@58': 0, 'x5@59': 0, 'x5@6': 0, 'x5@60': 0, 'x5@61': 0, 'x5@62': 0, 'x5@63': 0, 'x5@64': 0, 'x5@65': 0, 'x5@66': 0, 'x5@7': 0, 'x5@8': 0, 'x5@9': 0}, {'x0@0': 0, 'x0@1': 0, 'x0@10': 0, 'x0@11': 0, 'x0@12': 0, 'x0@13': 0, 'x0@14': 0, 'x0@15': 0, 'x0@16': 0, 'x0@17': 0, 'x0@18': 0, 'x0@19': 0, 'x0@2': 0, 'x0@20': 0, 'x0@21': 0, 'x0@22': 0, 'x0@23': 0, 'x0@24': 0, 'x0@25': 0, 'x0@26': 0, 'x0@27': 0, 'x0@28': 0, 'x0@29': 0, 'x0@3': 0, 'x0@30': 0, 'x0@31': 0, 'x0@32': 0, 'x0@33': 0, 'x0@34': 0, 'x0@35': 0, 'x0@36': 0, 'x0@37': 0, 'x0@38': 0, 'x0@39': 0, 'x0@4': 0, 'x0@40': 0, 'x0@41': 0, 'x0@42': 0, 'x0@43': 0, 'x0@44': 0, 'x0@45': 0, 'x0@46': 0, 'x0@47': 0, 'x0@48': 0, 'x0@49': 0, 'x0@5': 0, 'x0@50': 0, 'x0@51': 0, 'x0@52': 0, 'x0@53': 0, 'x0@54': 0, 'x0@55': 0, 'x0@56': 0, 'x0@57': 0, 'x0@58': 0, 'x0@59': 0, 'x0@6': 0, 'x0@60': 0, 'x0@61': 0, 'x0@62': 0, 'x0@63': 0, 'x0@64': 0, 'x0@65': 0, 'x0@66': 0, 'x0@7': 0, 'x0@8': 0, 'x0@9': 0, 'x1@0': 0, 'x1@1': 0, 'x1@10': 0, 'x1@11': 0, 'x1@12': 0, 'x1@13': 0, 'x1@14': 0, 'x1@15': 0, 'x1@16': 0, 'x1@17': 0, 'x1@18': 0, 'x1@19': 0, 'x1@2': 0, 'x1@20': 0, 'x1@21': 0, 'x1@22': 0, 'x1@23': 0, 'x1@24': 0, 'x1@25': 0, 'x1@26': 0, 'x1@27': 0, 'x1@28': 0, 'x1@29': 0, 'x1@3': 0, 'x1@30': 0, 'x1@31': 0, 'x1@32': 0, 'x1@33': 0, 'x1@34': 0, 'x1@35': 0, 'x1@36': 0, 'x1@37': 0, 'x1@38': 0, 'x1@39': 0, 'x1@4': 0, 'x1@40': 0, 'x1@41': 0, 'x1@42': 0, 'x1@43': 0, 'x1@44': 0, 'x1@45': 0, 'x1@46': 0, 'x1@47': 0, 'x1@48': 0, 'x1@49': 0, 'x1@5': 0, 'x1@50': 0, 'x1@51': 0, 'x1@52': 0, 'x1@53': 0, 'x1@54': 0, 'x1@55': 0, 'x1@56': 0, 'x1@57': 0, 'x1@58': 0, 'x1@59': 0, 'x1@6': 1, 'x1@60': 0, 'x1@61': 0, 'x1@62': 0, 'x1@63': 0, 'x1@64': 0, 'x1@65': 0, 'x1@66': 0, 'x1@7': 0, 'x1@8': 0, 'x1@9': 0, 'x2@0': 0, 'x2@1': 0, 'x2@10': 0, 'x2@11': 1, 'x2@12': 0, 'x2@13': 0, 'x2@14': 0, 'x2@15': 0, 'x2@16': 0, 'x2@17': 0, 'x2@18': 0, 'x2@19': 0, 'x2@2': 0, 'x2@20': 0, 'x2@21': 0, 'x2@22': 0, 'x2@23': 0, 'x2@24': 0, 'x2@25': 0, 'x2@26': 0, 'x2@27': 0, 'x2@28': 0, 'x2@29': 0, 'x2@3': 0, 'x2@30': 0, 'x2@31': 0, 'x2@32': 0, 'x2@33': 0, 'x2@34': 0, 'x2@35': 0, 'x2@36': 0, 'x2@37': 0, 'x2@38': 0, 'x2@39': 0, 'x2@4': 0, 'x2@40': 0, 'x2@41': 0, 'x2@42': 0, 'x2@43': 0, 'x2@44': 0, 'x2@45': 0, 'x2@46': 0, 'x2@47': 0, 'x2@48': 0, 'x2@49': 0, 'x2@5': 0, 'x2@50': 0, 'x2@51': 0, 'x2@52': 0, 'x2@53': 0, 'x2@54': 0, 'x2@55': 0, 'x2@56': 0, 'x2@57': 0, 'x2@58': 0, 'x2@59': 0, 'x2@6': 0, 'x2@60': 0, 'x2@61': 0, 'x2@62': 0, 'x2@63': 0, 'x2@64': 0, 'x2@65': 0, 'x2@66': 0, 'x2@7': 0, 'x2@8': 0, 'x2@9': 0, 'x3@0': 0, 'x3@1': 0, 'x3@10': 0, 'x3@11': 1, 'x3@12': 0, 'x3@13': 0, 'x3@14': 0, 'x3@15': 0, 'x3@16': 0, 'x3@17': 0, 'x3@18': 0, 'x3@19': 0, 'x3@2': 0, 'x3@20': 0, 'x3@21': 0, 'x3@22': 0, 'x3@23': 0, 'x3@24': 0, 'x3@25': 0, 'x3@26': 0, 'x3@27': 0, 'x3@28': 0, 'x3@29': 0, 'x3@3': 0, 'x3@30': 0, 'x3@31': 0, 'x3@32': 0, 'x3@33': 0, 'x3@34': 0, 'x3@35': 0, 'x3@36': 0, 'x3@37': 0, 'x3@38': 0, 'x3@39': 0, 'x3@4': 0, 'x3@40': 0, 'x3@41': 0, 'x3@42': 0, 'x3@43': 0, 'x3@44': 0, 'x3@45': 0, 'x3@46': 0, 'x3@47': 0, 'x3@48': 0, 'x3@49': 0, 'x3@5': 0, 'x3@50': 0, 'x3@51': 0, 'x3@52': 0, 'x3@53': 0, 'x3@54': 0, 'x3@55': 0, 'x3@56': 0, 'x3@57': 0, 'x3@58': 0, 'x3@59': 0, 'x3@6': 0, 'x3@60': 0, 'x3@61': 0, 'x3@62': 0, 'x3@63': 0, 'x3@64': 0, 'x3@65': 0, 'x3@66': 0, 'x3@7': 0, 'x3@8': 0, 'x3@9': 0, 'x4@0': 0, 'x4@1': 0, 'x4@10': 0, 'x4@11': 0, 'x4@12': 0, 'x4@13': 0, 'x4@14': 0, 'x4@15': 0, 'x4@16': 0, 'x4@17': 0, 'x4@18': 0, 'x4@19': 0, 'x4@2': 1, 'x4@20': 0, 'x4@21': 0, 'x4@22': 0, 'x4@23': 0, 'x4@24': 0, 'x4@25': 0, 'x4@26': 0, 'x4@27': 0, 'x4@28': 0, 'x4@29': 0, 'x4@3': 0, 'x4@30': 0, 'x4@31': 0, 'x4@32': 0, 'x4@33': 0, 'x4@34': 0, 'x4@35': 0, 'x4@36': 0, 'x4@37': 0, 'x4@38': 0, 'x4@39': 0, 'x4@4': 0, 'x4@40': 0, 'x4@41': 0, 'x4@42': 0, 'x4@43': 0, 'x4@44': 0, 'x4@45': 0, 'x4@46': 0, 'x4@47': 0, 'x4@48': 0, 'x4@49': 0, 'x4@5': 0, 'x4@50': 0, 'x4@51': 0, 'x4@52': 0, 'x4@53': 0, 'x4@54': 0, 'x4@55': 0, 'x4@56': 0, 'x4@57': 0, 'x4@58': 0, 'x4@59': 0, 'x4@6': 0, 'x4@60': 0, 'x4@61': 0, 'x4@62': 0, 'x4@63': 0, 'x4@64': 0, 'x4@65': 0, 'x4@66': 0, 'x4@7': 0, 'x4@8': 0, 'x4@9': 0, 'x5@0': 0, 'x5@1': 0, 'x5@10': 0, 'x5@11': 0, 'x5@12': 0, 'x5@13': 0, 'x5@14': 0, 'x5@15': 0, 'x5@16': 0, 'x5@17': 0, 'x5@18': 0, 'x5@19': 0, 'x5@2': 0, 'x5@20': 0, 'x5@21': 0, 'x5@22': 0, 'x5@23': 0, 'x5@24': 0, 'x5@25': 0, 'x5@26': 0, 'x5@27': 0, 'x5@28': 0, 'x5@29': 0, 'x5@3': 0, 'x5@30': 0, 'x5@31': 0, 'x5@32': 0, 'x5@33': 0, 'x5@34': 0, 'x5@35': 0, 'x5@36': 0, 'x5@37': 0, 'x5@38': 0, 'x5@39': 0, 'x5@4': 0, 'x5@40': 0, 'x5@41': 0, 'x5@42': 0, 'x5@43': 0, 'x5@44': 0, 'x5@45': 0, 'x5@46': 0, 'x5@47': 0, 'x5@48': 0, 'x5@49': 0, 'x5@5': 0, 'x5@50': 0, 'x5@51': 0, 'x5@52': 0, 'x5@53': 0, 'x5@54': 0, 'x5@55': 0, 'x5@56': 0, 'x5@57': 0, 'x5@58': 0, 'x5@59': 0, 'x5@6': 0, 'x5@60': 0, 'x5@61': 0, 'x5@62': 0, 'x5@63': 0, 'x5@64': 0, 'x5@65': 0, 'x5@66': 0, 'x5@7': 0, 'x5@8': 0, 'x5@9': 0}, {'x0@0': 0, 'x0@1': 0, 'x0@10': 0, 'x0@11': 0, 'x0@12': 0, 'x0@13': 0, 'x0@14': 0, 'x0@15': 0, 'x0@16': 0, 'x0@17': 0, 'x0@18': 0, 'x0@19': 0, 'x0@2': 0, 'x0@20': 0, 'x0@21': 0, 'x0@22': 0, 'x0@23': 0, 'x0@24': 0, 'x0@25': 0, 'x0@26': 0, 'x0@27': 0, 'x0@28': 0, 'x0@29': 0, 'x0@3': 0, 'x0@30': 0, 'x0@31': 0, 'x0@32': 0, 'x0@33': 0, 'x0@34': 0, 'x0@35': 0, 'x0@36': 0, 'x0@37': 0, 'x0@38': 0, 'x0@39': 0, 'x0@4': 0, 'x0@40': 0, 'x0@41': 0, 'x0@42': 0, 'x0@43': 0, 'x0@44': 0, 'x0@45': 0, 'x0@46': 0, 'x0@47': 0, 'x0@48': 0, 'x0@49': 0, 'x0@5': 0, 'x0@50': 0, 'x0@51': 0, 'x0@52': 0, 'x0@53': 0, 'x0@54': 0, 'x0@55': 0, 'x0@56': 0, 'x0@57': 0, 'x0@58': 0, 'x0@59': 0, 'x0@6': 0, 'x0@60': 0, 'x0@61': 0, 'x0@62': 0, 'x0@63': 0, 'x0@64': 0, 'x0@65': 0, 'x0@66': 0, 'x0@7': 0, 'x0@8': 0, 'x0@9': 0, 'x1@0': 0, 'x1@1': 0, 'x1@10': 0, 'x1@11': 0, 'x1@12': 0, 'x1@13': 0, 'x1@14': 0, 'x1@15': 0, 'x1@16': 0, 'x1@17': 0, 'x1@18': 0, 'x1@19': 0, 'x1@2': 0, 'x1@20': 0, 'x1@21': 0, 'x1@22': 0, 'x1@23': 0, 'x1@24': 0, 'x1@25': 0, 'x1@26': 0, 'x1@27': 0, 'x1@28': 0, 'x1@29': 0, 'x1@3': 0, 'x1@30': 0, 'x1@31': 0, 'x1@32': 0, 'x1@33': 0, 'x1@34': 0, 'x1@35': 0, 'x1@36': 0, 'x1@37': 0, 'x1@38': 0, 'x1@39': 0, 'x1@4': 0, 'x1@40': 0, 'x1@41': 0, 'x1@42': 0, 'x1@43': 0, 'x1@44': 0, 'x1@45': 0, 'x1@46': 0, 'x1@47': 0, 'x1@48': 0, 'x1@49': 0, 'x1@5': 0, 'x1@50': 0, 'x1@51': 0, 'x1@52': 0, 'x1@53': 0, 'x1@54': 0, 'x1@55': 0, 'x1@56': 0, 'x1@57': 0, 'x1@58': 0, 'x1@59': 0, 'x1@6': 0, 'x1@60': 0, 'x1@61': 0, 'x1@62': 0, 'x1@63': 0, 'x1@64': 0, 'x1@65': 0, 'x1@66': 0, 'x1@7': 0, 'x1@8': 0, 'x1@9': 0, 'x2@0': 0, 'x2@1': 0, 'x2@10': 0, 'x2@11': 0, 'x2@12': 1, 'x2@13': 0, 'x2@14': 0, 'x2@15': 0, 'x2@16': 0, 'x2@17': 0, 'x2@18': 0, 'x2@19': 0, 'x2@2': 0, 'x2@20': 0, 'x2@21': 0, 'x2@22': 0, 'x2@23': 0, 'x2@24': 0, 'x2@25': 0, 'x2@26': 0, 'x2@27': 0, 'x2@28': 0, 'x2@29': 0, 'x2@3': 0, 'x2@30': 0, 'x2@31': 0, 'x2@32': 0, 'x2@33': 0, 'x2@34': 0, 'x2@35': 0, 'x2@36': 0, 'x2@37': 0, 'x2@38': 0, 'x2@39': 0, 'x2@4': 1, 'x2@40': 0, 'x2@41': 0, 'x2@42': 0, 'x2@43': 0, 'x2@44': 0, 'x2@45': 0, 'x2@46': 0, 'x2@47': 0, 'x2@48': 0, 'x2@49': 0, 'x2@5': 0, 'x2@50': 0, 'x2@51': 0, 'x2@52': 0, 'x2@53': 0, 'x2@54': 0, 'x2@55': 0, 'x2@56': 0, 'x2@57': 0, 'x2@58': 0, 'x2@59': 0, 'x2@6': 0, 'x2@60': 0, 'x2@61': 0, 'x2@62': 0, 'x2@63': 0, 'x2@64': 0, 'x2@65': 0, 'x2@66': 0, 'x2@7': 0, 'x2@8': 0, 'x2@9': 0, 'x3@0': 0, 'x3@1': 0, 'x3@10': 0, 'x3@11': 0, 'x3@12': 1, 'x3@13': 0, 'x3@14': 0, 'x3@15': 0, 'x3@16': 0, 'x3@17': 0, 'x3@18': 0, 'x3@19': 0, 'x3@2': 0, 'x3@20': 0, 'x3@21': 0, 'x3@22': 0, 'x3@23': 0, 'x3@24': 0, 'x3@25': 0, 'x3@26': 0, 'x3@27': 0, 'x3@28': 0, 'x3@29': 0, 'x3@3': 0, 'x3@30': 0, 'x3@31': 0, 'x3@32': 0, 'x3@33': 0, 'x3@34': 0, 'x3@35': 0, 'x3@36': 0, 'x3@37': 0, 'x3@38': 0, 'x3@39': 0, 'x3@4': 0, 'x3@40': 0, 'x3@41': 0, 'x3@42': 0, 'x3@43': 0, 'x3@44': 0, 'x3@45': 0, 'x3@46': 0, 'x3@47': 0, 'x3@48': 0, 'x3@49': 0, 'x3@5': 0, 'x3@50': 0, 'x3@51': 0, 'x3@52': 0, 'x3@53': 0, 'x3@54': 0, 'x3@55': 0, 'x3@56': 0, 'x3@57': 0, 'x3@58': 0, 'x3@59': 0, 'x3@6': 0, 'x3@60': 0, 'x3@61': 0, 'x3@62': 0, 'x3@63': 0, 'x3@64': 0, 'x3@65': 0, 'x3@66': 0, 'x3@7': 0, 'x3@8': 0, 'x3@9': 0, 'x4@0': 0, 'x4@1': 0, 'x4@10': 0, 'x4@11': 0, 'x4@12': 0, 'x4@13': 0, 'x4@14': 0, 'x4@15': 0, 'x4@16': 0, 'x4@17': 0, 'x4@18': 0, 'x4@19': 0, 'x4@2': 0, 'x4@20': 0, 'x4@21': 0, 'x4@22': 0, 'x4@23': 0, 'x4@24': 0, 'x4@25': 0, 'x4@26': 0, 'x4@27': 0, 'x4@28': 0, 'x4@29': 0, 'x4@3': 0, 'x4@30': 0, 'x4@31': 0, 'x4@32': 0, 'x4@33': 0, 'x4@34': 0, 'x4@35': 0, 'x4@36': 0, 'x4@37': 0, 'x4@38': 0, 'x4@39': 0, 'x4@4': 0, 'x4@40': 0, 'x4@41': 0, 'x4@42': 0, 'x4@43': 0, 'x4@44': 0, 'x4@45': 0, 'x4@46': 0, 'x4@47': 0, 'x4@48': 0, 'x4@49': 0, 'x4@5': 0, 'x4@50': 0, 'x4@51': 0, 'x4@52': 0, 'x4@53': 0, 'x4@54': 0, 'x4@55': 0, 'x4@56': 0, 'x4@57': 0, 'x4@58': 0, 'x4@59': 0, 'x4@6': 0, 'x4@60': 0, 'x4@61': 0, 'x4@62': 0, 'x4@63': 0, 'x4@64': 0, 'x4@65': 0, 'x4@66': 0, 'x4@7': 0, 'x4@8': 0, 'x4@9': 0, 'x5@0': 0, 'x5@1': 0, 'x5@10': 0, 'x5@11': 0, 'x5@12': 0, 'x5@13': 0, 'x5@14': 0, 'x5@15': 0, 'x5@16': 0, 'x5@17': 0, 'x5@18': 0, 'x5@19': 0, 'x5@2': 0, 'x5@20': 0, 'x5@21': 0, 'x5@22': 0, 'x5@23': 0, 'x5@24': 0, 'x5@25': 0, 'x5@26': 0, 'x5@27': 0, 'x5@28': 0, 'x5@29': 0, 'x5@3': 0, 'x5@30': 0, 'x5@31': 0, 'x5@32': 0, 'x5@33': 0, 'x5@34': 0, 'x5@35': 0, 'x5@36': 0, 'x5@37': 0, 'x5@38': 0, 'x5@39': 0, 'x5@4': 0, 'x5@40': 0, 'x5@41': 0, 'x5@42': 0, 'x5@43': 0, 'x5@44': 0, 'x5@45': 0, 'x5@46': 0, 'x5@47': 0, 'x5@48': 0, 'x5@49': 0, 'x5@5': 0, 'x5@50': 0, 'x5@51': 0, 'x5@52': 0, 'x5@53': 0, 'x5@54': 0, 'x5@55': 0, 'x5@56': 0, 'x5@57': 0, 'x5@58': 0, 'x5@59': 0, 'x5@6': 0, 'x5@60': 0, 'x5@61': 0, 'x5@62': 0, 'x5@63': 0, 'x5@64': 0, 'x5@65': 0, 'x5@66': 0, 'x5@7': 0, 'x5@8': 0, 'x5@9': 0}, {'x0@0': 0, 'x0@1': 0, 'x0@10': 0, 'x0@11': 0, 'x0@12': 0, 'x0@13': 1, 'x0@14': 0, 'x0@15': 0, 'x0@16': 0, 'x0@17': 0, 'x0@18': 0, 'x0@19': 0, 'x0@2': 0, 'x0@20': 0, 'x0@21': 0, 'x0@22': 0, 'x0@23': 0, 'x0@24': 0, 'x0@25': 0, 'x0@26': 0, 'x0@27': 0, 'x0@28': 0, 'x0@29': 0, 'x0@3': 0, 'x0@30': 0, 'x0@31': 0, 'x0@32': 0, 'x0@33': 0, 'x0@34': 0, 'x0@35': 0, 'x0@36': 0, 'x0@37': 0, 'x0@38': 0, 'x0@39': 0, 'x0@4': 0, 'x0@40': 0, 'x0@41': 0, 'x0@42': 0, 'x0@43': 0, 'x0@44': 0, 'x0@45': 0, 'x0@46': 0, 'x0@47': 0, 'x0@48': 0, 'x0@49': 0, 'x0@5': 0, 'x0@50': 0, 'x0@51': 0, 'x0@52': 0, 'x0@53': 0, 'x0@54': 0, 'x0@55': 0, 'x0@56': 0, 'x0@57': 0, 'x0@58': 0, 'x0@59': 0, 'x0@6': 0, 'x0@60': 0, 'x0@61': 0, 'x0@62': 0, 'x0@63': 0, 'x0@64': 0, 'x0@65': 0, 'x0@66': 0, 'x0@7': 0, 'x0@8': 0, 'x0@9': 0, 'x1@0': 0, 'x1@1': 0, 'x1@10': 0, 'x1@11': 0, 'x1@12': 0, 'x1@13': 0, 'x1@14': 0, 'x1@15': 0, 'x1@16': 0, 'x1@17': 0, 'x1@18': 0, 'x1@19': 0, 'x1@2': 0, 'x1@20': 0, 'x1@21': 0, 'x1@22': 0, 'x1@23': 0, 'x1@24': 0, 'x1@25': 0, 'x1@26': 0, 'x1@27': 0, 'x1@28': 0, 'x1@29': 0, 'x1@3': 0, 'x1@30': 0, 'x1@31': 0, 'x1@32': 0, 'x1@33': 0, 'x1@34': 0, 'x1@35': 0, 'x1@36': 0, 'x1@37': 0, 'x1@38': 0, 'x1@39': 0, 'x1@4': 0, 'x1@40': 0, 'x1@41': 0, 'x1@42': 0, 'x1@43': 0, 'x1@44': 0, 'x1@45': 0, 'x1@46': 0, 'x1@47': 0, 'x1@48': 0, 'x1@49': 0, 'x1@5': 0, 'x1@50': 0, 'x1@51': 0, 'x1@52': 0, 'x1@53': 0, 'x1@54': 0, 'x1@55': 0, 'x1@56': 0, 'x1@57': 0, 'x1@58': 0, 'x1@59': 0, 'x1@6': 0, 'x1@60': 0, 'x1@61': 0, 'x1@62': 0, 'x1@63': 0, 'x1@64': 0, 'x1@65': 0, 'x1@66': 0, 'x1@7': 0, 'x1@8': 0, 'x1@9': 0, 'x2@0': 0, 'x2@1': 0, 'x2@10': 0, 'x2@11': 0, 'x2@12': 0, 'x2@13': 0, 'x2@14': 0, 'x2@15': 0, 'x2@16': 0, 'x2@17': 0, 'x2@18': 0, 'x2@19': 0, 'x2@2': 0, 'x2@20': 0, 'x2@21': 0, 'x2@22': 0, 'x2@23': 0, 'x2@24': 0, 'x2@25': 0, 'x2@26': 0, 'x2@27': 0, 'x2@28': 0, 'x2@29': 0, 'x2@3': 0, 'x2@30': 0, 'x2@31': 0, 'x2@32': 0, 'x2@33': 0, 'x2@34': 0, 'x2@35': 0, 'x2@36': 0, 'x2@37': 0, 'x2@38': 0, 'x2@39': 0, 'x2@4': 0, 'x2@40': 0, 'x2@41': 0, 'x2@42': 0, 'x2@43': 0, 'x2@44': 0, 'x2@45': 0, 'x2@46': 0, 'x2@47': 0, 'x2@48': 0, 'x2@49': 0, 'x2@5': 0, 'x2@50': 0, 'x2@51': 0, 'x2@52': 0, 'x2@53': 0, 'x2@54': 0, 'x2@55': 0, 'x2@56': 0, 'x2@57': 0, 'x2@58': 0, 'x2@59': 0, 'x2@6': 1, 'x2@60': 0, 'x2@61': 0, 'x2@62': 0, 'x2@63': 0, 'x2@64': 0, 'x2@65': 0, 'x2@66': 0, 'x2@7': 0, 'x2@8': 0, 'x2@9': 0, 'x3@0': 0, 'x3@1': 0, 'x3@10': 0, 'x3@11': 0, 'x3@12': 1, 'x3@13': 0, 'x3@14': 0, 'x3@15': 0, 'x3@16': 0, 'x3@17': 0, 'x3@18': 0, 'x3@19': 0, 'x3@2': 0, 'x3@20': 0, 'x3@21': 0, 'x3@22': 0, 'x3@23': 0, 'x3@24': 0, 'x3@25': 0, 'x3@26': 0, 'x3@27': 0, 'x3@28': 0, 'x3@29': 0, 'x3@3': 0, 'x3@30': 0, 'x3@31': 0, 'x3@32': 0, 'x3@33': 0, 'x3@34': 0, 'x3@35': 0, 'x3@36': 0, 'x3@37': 0, 'x3@38': 0, 'x3@39': 0, 'x3@4': 1, 'x3@40': 0, 'x3@41': 0, 'x3@42': 0, 'x3@43': 0, 'x3@44': 0, 'x3@45': 0, 'x3@46': 0, 'x3@47': 0, 'x3@48': 0, 'x3@49': 0, 'x3@5': 1, 'x3@50': 0, 'x3@51': 0, 'x3@52': 0, 'x3@53': 0, 'x3@54': 0, 'x3@55': 0, 'x3@56': 0, 'x3@57': 0, 'x3@58': 0, 'x3@59': 0, 'x3@6': 0, 'x3@60': 0, 'x3@61': 0, 'x3@62': 0, 'x3@63': 0, 'x3@64': 0, 'x3@65': 0, 'x3@66': 0, 'x3@7': 0, 'x3@8': 0, 'x3@9': 0, 'x4@0': 0, 'x4@1': 0, 'x4@10': 0, 'x4@11': 0, 'x4@12': 0, 'x4@13': 0, 'x4@14': 0, 'x4@15': 0, 'x4@16': 0, 'x4@17': 0, 'x4@18': 0, 'x4@19': 0, 'x4@2': 0, 'x4@20': 0, 'x4@21': 0, 'x4@22': 0, 'x4@23': 0, 'x4@24': 0, 'x4@25': 0, 'x4@26': 0, 'x4@27': 0, 'x4@28': 0, 'x4@29': 0, 'x4@3': 0, 'x4@30': 0, 'x4@31': 0, 'x4@32': 0, 'x4@33': 0, 'x4@34': 0, 'x4@35': 0, 'x4@36': 0, 'x4@37': 0, 'x4@38': 0, 'x4@39': 0, 'x4@4': 0, 'x4@40': 0, 'x4@41': 0, 'x4@42': 0, 'x4@43': 0, 'x4@44': 0, 'x4@45': 0, 'x4@46': 0, 'x4@47': 0, 'x4@48': 0, 'x4@49': 0, 'x4@5': 0, 'x4@50': 0, 'x4@51': 0, 'x4@52': 0, 'x4@53': 0, 'x4@54': 0, 'x4@55': 0, 'x4@56': 0, 'x4@57': 0, 'x4@58': 0, 'x4@59': 0, 'x4@6': 0, 'x4@60': 0, 'x4@61': 0, 'x4@62': 0, 'x4@63': 0, 'x4@64': 0, 'x4@65': 0, 'x4@66': 0, 'x4@7': 0, 'x4@8': 0, 'x4@9': 0, 'x5@0': 0, 'x5@1': 0, 'x5@10': 0, 'x5@11': 0, 'x5@12': 0, 'x5@13': 0, 'x5@14': 0, 'x5@15': 0, 'x5@16': 0, 'x5@17': 0, 'x5@18': 0, 'x5@19': 0, 'x5@2': 0, 'x5@20': 0, 'x5@21': 0, 'x5@22': 0, 'x5@23': 0, 'x5@24': 0, 'x5@25': 0, 'x5@26': 0, 'x5@27': 0, 'x5@28': 0, 'x5@29': 0, 'x5@3': 0, 'x5@30': 0, 'x5@31': 0, 'x5@32': 0, 'x5@33': 0, 'x5@34': 0, 'x5@35': 0, 'x5@36': 0, 'x5@37': 0, 'x5@38': 0, 'x5@39': 0, 'x5@4': 0, 'x5@40': 0, 'x5@41': 0, 'x5@42': 0, 'x5@43': 0, 'x5@44': 0, 'x5@45': 0, 'x5@46': 0, 'x5@47': 0, 'x5@48': 0, 'x5@49': 0, 'x5@5': 0, 'x5@50': 0, 'x5@51': 0, 'x5@52': 0, 'x5@53': 0, 'x5@54': 0, 'x5@55': 0, 'x5@56': 0, 'x5@57': 0, 'x5@58': 0, 'x5@59': 0, 'x5@6': 0, 'x5@60': 0, 'x5@61': 0, 'x5@62': 0, 'x5@63': 0, 'x5@64': 0, 'x5@65': 0, 'x5@66': 0, 'x5@7': 0, 'x5@8': 0, 'x5@9': 0}, {'x0@0': 0, 'x0@1': 0, 'x0@10': 0, 'x0@11': 0, 'x0@12': 0, 'x0@13': 0, 'x0@14': 0, 'x0@15': 0, 'x0@16': 0, 'x0@17': 0, 'x0@18': 0, 'x0@19': 0, 'x0@2': 1, 'x0@20': 0, 'x0@21': 0, 'x0@22': 0, 'x0@23': 0, 'x0@24': 0, 'x0@25': 0, 'x0@26': 0, 'x0@27': 0, 'x0@28': 0, 'x0@29': 0, 'x0@3': 1, 'x0@30': 0, 'x0@31': 0, 'x0@32': 0, 'x0@33': 0, 'x0@34': 0, 'x0@35': 0, 'x0@36': 0, 'x0@37': 0, 'x0@38': 0, 'x0@39': 0, 'x0@4': 0, 'x0@40': 0, 'x0@41': 0, 'x0@42': 0, 'x0@43': 0, 'x0@44': 0, 'x0@45': 0, 'x0@46': 0, 'x0@47': 0, 'x0@48': 0, 'x0@49': 0, 'x0@5': 0, 'x0@50': 0, 'x0@51': 0, 'x0@52': 0, 'x0@53': 0, 'x0@54': 0, 'x0@55': 0, 'x0@56': 0, 'x0@57': 0, 'x0@58': 0, 'x0@59': 0, 'x0@6': 1, 'x0@60': 0, 'x0@61': 0, 'x0@62': 0, 'x0@63': 0, 'x0@64': 0, 'x0@65': 0, 'x0@66': 0, 'x0@7': 0, 'x0@8': 0, 'x0@9': 0, 'x1@0': 0, 'x1@1': 0, 'x1@10': 0, 'x1@11': 0, 'x1@12': 0, 'x1@13': 0, 'x1@14': 0, 'x1@15': 0, 'x1@16': 0, 'x1@17': 0, 'x1@18': 0, 'x1@19': 0, 'x1@2': 0, 'x1@20': 0, 'x1@21': 0, 'x1@22': 0, 'x1@23': 0, 'x1@24': 0, 'x1@25': 0, 'x1@26': 0, 'x1@27': 0, 'x1@28': 0, 'x1@29': 0, 'x1@3': 0, 'x1@30': 0, 'x1@31': 0, 'x1@32': 0, 'x1@33': 0, 'x1@34': 0, 'x1@35': 0, 'x1@36': 0, 'x1@37': 0, 'x1@38': 0, 'x1@39': 0, 'x1@4': 0, 'x1@40': 0, 'x1@41': 0, 'x1@42': 0, 'x1@43': 0, 'x1@44': 0, 'x1@45': 0, 'x1@46': 0, 'x1@47': 0, 'x1@48': 0, 'x1@49': 0, 'x1@5': 0, 'x1@50': 0, 'x1@51': 0, 'x1@52': 0, 'x1@53': 0, 'x1@54': 0, 'x1@55': 0, 'x1@56': 0, 'x1@57': 0, 'x1@58': 0, 'x1@59': 0, 'x1@6': 0, 'x1@60': 0, 'x1@61': 0, 'x1@62': 0, 'x1@63': 0, 'x1@64': 0, 'x1@65': 0, 'x1@66': 0, 'x1@7': 1, 'x1@8': 1, 'x1@9': 1, 'x2@0': 0, 'x2@1': 0, 'x2@10': 0, 'x2@11': 0, 'x2@12': 0, 'x2@13': 0, 'x2@14': 0, 'x2@15': 0, 'x2@16': 0, 'x2@17': 0, 'x2@18': 0, 'x2@19': 0, 'x2@2': 0, 'x2@20': 0, 'x2@21': 0, 'x2@22': 0, 'x2@23': 0, 'x2@24': 0, 'x2@25': 0, 'x2@26': 0, 'x2@27': 0, 'x2@28': 0, 'x2@29': 0, 'x2@3': 0, 'x2@30': 0, 'x2@31': 0, 'x2@32': 0, 'x2@33': 0, 'x2@34': 0, 'x2@35': 0, 'x2@36': 0, 'x2@37': 0, 'x2@38': 0, 'x2@39': 0, 'x2@4': 0, 'x2@40': 0, 'x2@41': 0, 'x2@42': 0, 'x2@43': 0, 'x2@44': 0, 'x2@45': 0, 'x2@46': 0, 'x2@47': 0, 'x2@48': 0, 'x2@49': 0, 'x2@5': 0, 'x2@50': 0, 'x2@51': 0, 'x2@52': 0, 'x2@53': 0, 'x2@54': 0, 'x2@55': 0, 'x2@56': 0, 'x2@57': 0, 'x2@58': 0, 'x2@59': 0, 'x2@6': 0, 'x2@60': 0, 'x2@61': 0, 'x2@62': 0, 'x2@63': 0, 'x2@64': 0, 'x2@65': 0, 'x2@66': 0, 'x2@7': 0, 'x2@8': 0, 'x2@9': 0, 'x3@0': 0, 'x3@1': 0, 'x3@10': 0, 'x3@11': 0, 'x3@12': 0, 'x3@13': 0, 'x3@14': 0, 'x3@15': 0, 'x3@16': 0, 'x3@17': 0, 'x3@18': 0, 'x3@19': 0, 'x3@2': 0, 'x3@20': 0, 'x3@21': 0, 'x3@22': 0, 'x3@23': 0, 'x3@24': 0, 'x3@25': 0, 'x3@26': 0, 'x3@27': 0, 'x3@28': 0, 'x3@29': 0, 'x3@3': 0, 'x3@30': 0, 'x3@31': 0, 'x3@32': 0, 'x3@33': 0, 'x3@34': 0, 'x3@35': 0, 'x3@36': 0, 'x3@37': 0, 'x3@38': 0, 'x3@39': 0, 'x3@4': 0, 'x3@40': 0, 'x3@41': 0, 'x3@42': 0, 'x3@43': 0, 'x3@44': 0, 'x3@45': 0, 'x3@46': 0, 'x3@47': 0, 'x3@48': 0, 'x3@49': 0, 'x3@5': 0, 'x3@50': 0, 'x3@51': 0, 'x3@52': 0, 'x3@53': 0, 'x3@54': 0, 'x3@55': 0, 'x3@56': 0, 'x3@57': 0, 'x3@58': 0, 'x3@59': 0, 'x3@6': 0, 'x3@60': 0, 'x3@61': 0, 'x3@62': 0, 'x3@63': 0, 'x3@64': 0, 'x3@65': 0, 'x3@66': 0, 'x3@7': 0, 'x3@8': 0, 'x3@9': 0, 'x4@0': 1, 'x4@1': 1, 'x4@10': 1, 'x4@11': 1, 'x4@12': 1, 'x4@13': 1, 'x4@14': 0, 'x4@15': 0, 'x4@16': 0, 'x4@17': 0, 'x4@18': 0, 'x4@19': 0, 'x4@2': 1, 'x4@20': 0, 'x4@21': 0, 'x4@22': 0, 'x4@23': 0, 'x4@24': 0, 'x4@25': 0, 'x4@26': 0, 'x4@27': 0, 'x4@28': 0, 'x4@29': 0, 'x4@3': 0, 'x4@30': 0, 'x4@31': 0, 'x4@32': 0, 'x4@33': 0, 'x4@34': 0, 'x4@35': 0, 'x4@36': 0, 'x4@37': 0, 'x4@38': 0, 'x4@39': 0, 'x4@4': 0, 'x4@40': 0, 'x4@41': 0, 'x4@42': 0, 'x4@43': 0, 'x4@44': 0, 'x4@45': 0, 'x4@46': 0, 'x4@47': 0, 'x4@48': 0, 'x4@49': 0, 'x4@5': 0, 'x4@50': 0, 'x4@51': 0, 'x4@52': 0, 'x4@53': 0, 'x4@54': 0, 'x4@55': 0, 'x4@56': 0, 'x4@57': 0, 'x4@58': 0, 'x4@59': 0, 'x4@6': 0, 'x4@60': 0, 'x4@61': 0, 'x4@62': 0, 'x4@63': 0, 'x4@64': 0, 'x4@65': 0, 'x4@66': 0, 'x4@7': 0, 'x4@8': 0, 'x4@9': 0, 'x5@0': 0, 'x5@1': 0, 'x5@10': 0, 'x5@11': 0, 'x5@12': 0, 'x5@13': 0, 'x5@14': 0, 'x5@15': 0, 'x5@16': 0, 'x5@17': 0, 'x5@18': 0, 'x5@19': 0, 'x5@2': 0, 'x5@20': 0, 'x5@21': 0, 'x5@22': 0, 'x5@23': 0, 'x5@24': 0, 'x5@25': 0, 'x5@26': 0, 'x5@27': 0, 'x5@28': 0, 'x5@29': 0, 'x5@3': 0, 'x5@30': 0, 'x5@31': 0, 'x5@32': 0, 'x5@33': 0, 'x5@34': 0, 'x5@35': 0, 'x5@36': 0, 'x5@37': 0, 'x5@38': 0, 'x5@39': 0, 'x5@4': 0, 'x5@40': 0, 'x5@41': 0, 'x5@42': 0, 'x5@43': 0, 'x5@44': 0, 'x5@45': 0, 'x5@46': 0, 'x5@47': 0, 'x5@48': 0, 'x5@49': 0, 'x5@5': 0, 'x5@50': 0, 'x5@51': 0, 'x5@52': 0, 'x5@53': 0, 'x5@54': 0, 'x5@55': 0, 'x5@56': 0, 'x5@57': 0, 'x5@58': 0, 'x5@59': 0, 'x5@6': 0, 'x5@60': 0, 'x5@61': 0, 'x5@62': 0, 'x5@63': 0, 'x5@64': 0, 'x5@65': 0, 'x5@66': 0, 'x5@7': 0, 'x5@8': 0, 'x5@9': 0}, {'x0@0': 0, 'x0@1': 0, 'x0@10': 0, 'x0@11': 0, 'x0@12': 0, 'x0@13': 0, 'x0@14': 0, 'x0@15': 0, 'x0@16': 0, 'x0@17': 0, 'x0@18': 0, 'x0@19': 0, 'x0@2': 0, 'x0@20': 0, 'x0@21': 0, 'x0@22': 0, 'x0@23': 0, 'x0@24': 0, 'x0@25': 0, 'x0@26': 0, 'x0@27': 0, 'x0@28': 0, 'x0@29': 0, 'x0@3': 0, 'x0@30': 0, 'x0@31': 0, 'x0@32': 0, 'x0@33': 0, 'x0@34': 0, 'x0@35': 0, 'x0@36': 0, 'x0@37': 0, 'x0@38': 0, 'x0@39': 0, 'x0@4': 0, 'x0@40': 0, 'x0@41': 0, 'x0@42': 0, 'x0@43': 0, 'x0@44': 0, 'x0@45': 0, 'x0@46': 0, 'x0@47': 0, 'x0@48': 0, 'x0@49': 0, 'x0@5': 0, 'x0@50': 0, 'x0@51': 0, 'x0@52': 0, 'x0@53': 0, 'x0@54': 0, 'x0@55': 0, 'x0@56': 0, 'x0@57': 0, 'x0@58': 0, 'x0@59': 0, 'x0@6': 0, 'x0@60': 0, 'x0@61': 0, 'x0@62': 0, 'x0@63': 0, 'x0@64': 0, 'x0@65': 0, 'x0@66': 0, 'x0@7': 0, 'x0@8': 0, 'x0@9': 0, 'x1@0': 0, 'x1@1': 0, 'x1@10': 0, 'x1@11': 0, 'x1@12': 0, 'x1@13': 0, 'x1@14': 0, 'x1@15': 0, 'x1@16': 0, 'x1@17': 0, 'x1@18': 0, 'x1@19': 0, 'x1@2': 0, 'x1@20': 0, 'x1@21': 0, 'x1@22': 0, 'x1@23': 0, 'x1@24': 0, 'x1@25': 0, 'x1@26': 0, 'x1@27': 0, 'x1@28': 0, 'x1@29': 0, 'x1@3': 0, 'x1@30': 0, 'x1@31': 0, 'x1@32': 0, 'x1@33': 0, 'x1@34': 0, 'x1@35': 0, 'x1@36': 0, 'x1@37': 0, 'x1@38': 0, 'x1@39': 0, 'x1@4': 0, 'x1@40': 0, 'x1@41': 0, 'x1@42': 0, 'x1@43': 0, 'x1@44': 0, 'x1@45': 0, 'x1@46': 0, 'x1@47': 0, 'x1@48': 0, 'x1@49': 0, 'x1@5': 0, 'x1@50': 0, 'x1@51': 0, 'x1@52': 0, 'x1@53': 0, 'x1@54': 0, 'x1@55': 0, 'x1@56': 0, 'x1@57': 0, 'x1@58': 0, 'x1@59': 0, 'x1@6': 0, 'x1@60': 0, 'x1@61': 0, 'x1@62': 0, 'x1@63': 0, 'x1@64': 0, 'x1@65': 0, 'x1@66': 0, 'x1@7': 0, 'x1@8': 0, 'x1@9': 0, 'x2@0': 0, 'x2@1': 0, 'x2@10': 0, 'x2@11': 0, 'x2@12': 0, 'x2@13': 0, 'x2@14': 0, 'x2@15': 0, 'x2@16': 0, 'x2@17': 0, 'x2@18': 0, 'x2@19': 0, 'x2@2': 0, 'x2@20': 0, 'x2@21': 0, 'x2@22': 0, 'x2@23': 0, 'x2@24': 0, 'x2@25': 0, 'x2@26': 0, 'x2@27': 0, 'x2@28': 0, 'x2@29': 0, 'x2@3': 0, 'x2@30': 0, 'x2@31': 0, 'x2@32': 0, 'x2@33': 0, 'x2@34': 0, 'x2@35': 0, 'x2@36': 0, 'x2@37': 0, 'x2@38': 0, 'x2@39': 0, 'x2@4': 0, 'x2@40': 0, 'x2@41': 0, 'x2@42': 0, 'x2@43': 0, 'x2@44': 0, 'x2@45': 0, 'x2@46': 0, 'x2@47': 0, 'x2@48': 0, 'x2@49': 0, 'x2@5': 0, 'x2@50': 0, 'x2@51': 0, 'x2@52': 0, 'x2@53': 0, 'x2@54': 0, 'x2@55': 0, 'x2@56': 0, 'x2@57': 0, 'x2@58': 0, 'x2@59': 0, 'x2@6': 0, 'x2@60': 0, 'x2@61': 0, 'x2@62': 0, 'x2@63': 0, 'x2@64': 0, 'x2@65': 0, 'x2@66': 0, 'x2@7': 0, 'x2@8': 0, 'x2@9': 0, 'x3@0': 0, 'x3@1': 0, 'x3@10': 0, 'x3@11': 0, 'x3@12': 0, 'x3@13': 0, 'x3@14': 1, 'x3@15': 0, 'x3@16': 0, 'x3@17': 0, 'x3@18': 0, 'x3@19': 0, 'x3@2': 0, 'x3@20': 0, 'x3@21': 0, 'x3@22': 0, 'x3@23': 0, 'x3@24': 0, 'x3@25': 0, 'x3@26': 0, 'x3@27': 0, 'x3@28': 0, 'x3@29': 0, 'x3@3': 0, 'x3@30': 0, 'x3@31': 0, 'x3@32': 0, 'x3@33': 0, 'x3@34': 0, 'x3@35': 0, 'x3@36': 0, 'x3@37': 0, 'x3@38': 0, 'x3@39': 0, 'x3@4': 0, 'x3@40': 0, 'x3@41': 0, 'x3@42': 0, 'x3@43': 0, 'x3@44': 0, 'x3@45': 0, 'x3@46': 0, 'x3@47': 0, 'x3@48': 0, 'x3@49': 0, 'x3@5': 0, 'x3@50': 0, 'x3@51': 0, 'x3@52': 0, 'x3@53': 0, 'x3@54': 0, 'x3@55': 0, 'x3@56': 0, 'x3@57': 0, 'x3@58': 0, 'x3@59': 0, 'x3@6': 0, 'x3@60': 0, 'x3@61': 0, 'x3@62': 0, 'x3@63': 0, 'x3@64': 0, 'x3@65': 0, 'x3@66': 0, 'x3@7': 0, 'x3@8': 0, 'x3@9': 0, 'x4@0': 0, 'x4@1': 0, 'x4@10': 0, 'x4@11': 0, 'x4@12': 0, 'x4@13': 0, 'x4@14': 0, 'x4@15': 0, 'x4@16': 0, 'x4@17': 0, 'x4@18': 0, 'x4@19': 0, 'x4@2': 0, 'x4@20': 0, 'x4@21': 0, 'x4@22': 0, 'x4@23': 0, 'x4@24': 0, 'x4@25': 0, 'x4@26': 0, 'x4@27': 0, 'x4@28': 0, 'x4@29': 0, 'x4@3': 0, 'x4@30': 0, 'x4@31': 0, 'x4@32': 0, 'x4@33': 0, 'x4@34': 0, 'x4@35': 0, 'x4@36': 0, 'x4@37': 0, 'x4@38': 0, 'x4@39': 0, 'x4@4': 0, 'x4@40': 0, 'x4@41': 0, 'x4@42': 0, 'x4@43': 0, 'x4@44': 0, 'x4@45': 0, 'x4@46': 0, 'x4@47': 0, 'x4@48': 0, 'x4@49': 0, 'x4@5': 0, 'x4@50': 0, 'x4@51': 0, 'x4@52': 0, 'x4@53': 0, 'x4@54': 0, 'x4@55': 0, 'x4@56': 0, 'x4@57': 0, 'x4@58': 0, 'x4@59': 0, 'x4@6': 0, 'x4@60': 0, 'x4@61': 0, 'x4@62': 0, 'x4@63': 0, 'x4@64': 0, 'x4@65': 0, 'x4@66': 0, 'x4@7': 0, 'x4@8': 0, 'x4@9': 0, 'x5@0': 0, 'x5@1': 0, 'x5@10': 0, 'x5@11': 0, 'x5@12': 0, 'x5@13': 0, 'x5@14': 0, 'x5@15': 0, 'x5@16': 0, 'x5@17': 0, 'x5@18': 0, 'x5@19': 0, 'x5@2': 0, 'x5@20': 0, 'x5@21': 0, 'x5@22': 0, 'x5@23': 0, 'x5@24': 0, 'x5@25': 0, 'x5@26': 0, 'x5@27': 0, 'x5@28': 0, 'x5@29': 0, 'x5@3': 0, 'x5@30': 0, 'x5@31': 0, 'x5@32': 0, 'x5@33': 0, 'x5@34': 0, 'x5@35': 0, 'x5@36': 0, 'x5@37': 0, 'x5@38': 0, 'x5@39': 0, 'x5@4': 0, 'x5@40': 0, 'x5@41': 0, 'x5@42': 0, 'x5@43': 0, 'x5@44': 0, 'x5@45': 0, 'x5@46': 0, 'x5@47': 0, 'x5@48': 0, 'x5@49': 0, 'x5@5': 0, 'x5@50': 0, 'x5@51': 0, 'x5@52': 0, 'x5@53': 0, 'x5@54': 0, 'x5@55': 0, 'x5@56': 0, 'x5@57': 0, 'x5@58': 0, 'x5@59': 0, 'x5@6': 0, 'x5@60': 0, 'x5@61': 0, 'x5@62': 0, 'x5@63': 0, 'x5@64': 0, 'x5@65': 0, 'x5@66': 0, 'x5@7': 0, 'x5@8': 0, 'x5@9': 0}, {'x0@0': 0, 'x0@1': 0, 'x0@10': 0, 'x0@11': 0, 'x0@12': 0, 'x0@13': 0, 'x0@14': 0, 'x0@15': 0, 'x0@16': 0, 'x0@17': 0, 'x0@18': 0, 'x0@19': 0, 'x0@2': 0, 'x0@20': 0, 'x0@21': 0, 'x0@22': 0, 'x0@23': 0, 'x0@24': 0, 'x0@25': 0, 'x0@26': 0, 'x0@27': 0, 'x0@28': 0, 'x0@29': 0, 'x0@3': 0, 'x0@30': 0, 'x0@31': 0, 'x0@32': 0, 'x0@33': 0, 'x0@34': 0, 'x0@35': 0, 'x0@36': 0, 'x0@37': 0, 'x0@38': 0, 'x0@39': 0, 'x0@4': 0, 'x0@40': 0, 'x0@41': 0, 'x0@42': 0, 'x0@43': 0, 'x0@44': 0, 'x0@45': 0, 'x0@46': 0, 'x0@47': 0, 'x0@48': 0, 'x0@49': 0, 'x0@5': 0, 'x0@50': 0, 'x0@51': 0, 'x0@52': 0, 'x0@53': 0, 'x0@54': 0, 'x0@55': 0, 'x0@56': 0, 'x0@57': 0, 'x0@58': 0, 'x0@59': 0, 'x0@6': 0, 'x0@60': 0, 'x0@61': 0, 'x0@62': 0, 'x0@63': 0, 'x0@64': 0, 'x0@65': 0, 'x0@66': 0, 'x0@7': 0, 'x0@8': 0, 'x0@9': 0, 'x1@0': 0, 'x1@1': 0, 'x1@10': 0, 'x1@11': 0, 'x1@12': 0, 'x1@13': 0, 'x1@14': 0, 'x1@15': 0, 'x1@16': 0, 'x1@17': 0, 'x1@18': 0, 'x1@19': 0, 'x1@2': 0, 'x1@20': 0, 'x1@21': 0, 'x1@22': 0, 'x1@23': 0, 'x1@24': 0, 'x1@25': 0, 'x1@26': 0, 'x1@27': 0, 'x1@28': 0, 'x1@29': 0, 'x1@3': 0, 'x1@30': 0, 'x1@31': 0, 'x1@32': 0, 'x1@33': 0, 'x1@34': 0, 'x1@35': 0, 'x1@36': 0, 'x1@37': 0, 'x1@38': 0, 'x1@39': 0, 'x1@4': 0, 'x1@40': 0, 'x1@41': 0, 'x1@42': 0, 'x1@43': 0, 'x1@44': 0, 'x1@45': 0, 'x1@46': 0, 'x1@47': 0, 'x1@48': 0, 'x1@49': 0, 'x1@5': 0, 'x1@50': 0, 'x1@51': 0, 'x1@52': 0, 'x1@53': 0, 'x1@54': 0, 'x1@55': 0, 'x1@56': 0, 'x1@57': 0, 'x1@58': 0, 'x1@59': 0, 'x1@6': 0, 'x1@60': 0, 'x1@61': 0, 'x1@62': 0, 'x1@63': 0, 'x1@64': 0, 'x1@65': 0, 'x1@66': 0, 'x1@7': 0, 'x1@8': 0, 'x1@9': 0, 'x2@0': 0, 'x2@1': 0, 'x2@10': 0, 'x2@11': 0, 'x2@12': 1, 'x2@13': 1, 'x2@14': 0, 'x2@15': 0, 'x2@16': 0, 'x2@17': 0, 'x2@18': 0, 'x2@19': 0, 'x2@2': 0, 'x2@20': 0, 'x2@21': 0, 'x2@22': 0, 'x2@23': 0, 'x2@24': 0, 'x2@25': 0, 'x2@26': 0, 'x2@27': 0, 'x2@28': 0, 'x2@29': 0, 'x2@3': 0, 'x2@30': 0, 'x2@31': 0, 'x2@32': 0, 'x2@33': 0, 'x2@34': 0, 'x2@35': 0, 'x2@36': 0, 'x2@37': 0, 'x2@38': 0, 'x2@39': 0, 'x2@4': 0, 'x2@40': 0, 'x2@41': 0, 'x2@42': 0, 'x2@43': 0, 'x2@44': 0, 'x2@45': 0, 'x2@46': 0, 'x2@47': 0, 'x2@48': 0, 'x2@49': 0, 'x2@5': 0, 'x2@50': 0, 'x2@51': 0, 'x2@52': 0, 'x2@53': 0, 'x2@54': 0, 'x2@55': 0, 'x2@56': 0, 'x2@57': 0, 'x2@58': 0, 'x2@59': 0, 'x2@6': 0, 'x2@60': 0, 'x2@61': 0, 'x2@62': 0, 'x2@63': 0, 'x2@64': 0, 'x2@65': 0, 'x2@66': 0, 'x2@7': 0, 'x2@8': 0, 'x2@9': 0, 'x3@0': 0, 'x3@1': 0, 'x3@10': 0, 'x3@11': 0, 'x3@12': 1, 'x3@13': 0, 'x3@14': 0, 'x3@15': 0, 'x3@16': 0, 'x3@17': 0, 'x3@18': 0, 'x3@19': 0, 'x3@2': 0, 'x3@20': 0, 'x3@21': 0, 'x3@22': 0, 'x3@23': 0, 'x3@24': 0, 'x3@25': 0, 'x3@26': 0, 'x3@27': 0, 'x3@28': 0, 'x3@29': 0, 'x3@3': 0, 'x3@30': 0, 'x3@31': 0, 'x3@32': 0, 'x3@33': 0, 'x3@34': 0, 'x3@35': 0, 'x3@36': 0, 'x3@37': 0, 'x3@38': 0, 'x3@39': 0, 'x3@4': 0, 'x3@40': 0, 'x3@41': 0, 'x3@42': 0, 'x3@43': 0, 'x3@44': 0, 'x3@45': 0, 'x3@46': 0, 'x3@47': 0, 'x3@48': 0, 'x3@49': 0, 'x3@5': 0, 'x3@50': 0, 'x3@51': 0, 'x3@52': 0, 'x3@53': 0, 'x3@54': 0, 'x3@55': 0, 'x3@56': 0, 'x3@57': 0, 'x3@58': 0, 'x3@59': 0, 'x3@6': 0, 'x3@60': 0, 'x3@61': 0, 'x3@62': 0, 'x3@63': 0, 'x3@64': 0, 'x3@65': 0, 'x3@66': 0, 'x3@7': 0, 'x3@8': 0, 'x3@9': 0, 'x4@0': 0, 'x4@1': 0, 'x4@10': 0, 'x4@11': 0, 'x4@12': 0, 'x4@13': 0, 'x4@14': 0, 'x4@15': 0, 'x4@16': 0, 'x4@17': 0, 'x4@18': 0, 'x4@19': 0, 'x4@2': 0, 'x4@20': 0, 'x4@21': 0, 'x4@22': 0, 'x4@23': 0, 'x4@24': 0, 'x4@25': 0, 'x4@26': 0, 'x4@27': 0, 'x4@28': 0, 'x4@29': 0, 'x4@3': 0, 'x4@30': 0, 'x4@31': 0, 'x4@32': 0, 'x4@33': 0, 'x4@34': 0, 'x4@35': 0, 'x4@36': 0, 'x4@37': 0, 'x4@38': 0, 'x4@39': 0, 'x4@4': 0, 'x4@40': 0, 'x4@41': 0, 'x4@42': 0, 'x4@43': 0, 'x4@44': 0, 'x4@45': 0, 'x4@46': 0, 'x4@47': 0, 'x4@48': 0, 'x4@49': 0, 'x4@5': 0, 'x4@50': 0, 'x4@51': 0, 'x4@52': 0, 'x4@53': 0, 'x4@54': 0, 'x4@55': 0, 'x4@56': 0, 'x4@57': 0, 'x4@58': 0, 'x4@59': 0, 'x4@6': 0, 'x4@60': 0, 'x4@61': 0, 'x4@62': 0, 'x4@63': 0, 'x4@64': 0, 'x4@65': 0, 'x4@66': 0, 'x4@7': 0, 'x4@8': 0, 'x4@9': 0, 'x5@0': 0, 'x5@1': 0, 'x5@10': 0, 'x5@11': 0, 'x5@12': 0, 'x5@13': 0, 'x5@14': 0, 'x5@15': 0, 'x5@16': 0, 'x5@17': 0, 'x5@18': 0, 'x5@19': 0, 'x5@2': 0, 'x5@20': 0, 'x5@21': 0, 'x5@22': 0, 'x5@23': 0, 'x5@24': 0, 'x5@25': 0, 'x5@26': 0, 'x5@27': 0, 'x5@28': 0, 'x5@29': 0, 'x5@3': 0, 'x5@30': 0, 'x5@31': 0, 'x5@32': 0, 'x5@33': 0, 'x5@34': 0, 'x5@35': 0, 'x5@36': 0, 'x5@37': 0, 'x5@38': 0, 'x5@39': 0, 'x5@4': 1, 'x5@40': 0, 'x5@41': 0, 'x5@42': 0, 'x5@43': 0, 'x5@44': 0, 'x5@45': 0, 'x5@46': 0, 'x5@47': 0, 'x5@48': 0, 'x5@49': 0, 'x5@5': 1, 'x5@50': 0, 'x5@51': 0, 'x5@52': 0, 'x5@53': 0, 'x5@54': 0, 'x5@55': 0, 'x5@56': 0, 'x5@57': 0, 'x5@58': 0, 'x5@59': 0, 'x5@6': 1, 'x5@60': 0, 'x5@61': 0, 'x5@62': 0, 'x5@63': 0, 'x5@64': 0, 'x5@65': 0, 'x5@66': 0, 'x5@7': 0, 'x5@8': 0, 'x5@9': 0}, {'x0@0': 0, 'x0@1': 0, 'x0@10': 0, 'x0@11': 0, 'x0@12': 0, 'x0@13': 0, 'x0@14': 0, 'x0@15': 0, 'x0@16': 0, 'x0@17': 0, 'x0@18': 0, 'x0@19': 0, 'x0@2': 0, 'x0@20': 0, 'x0@21': 0, 'x0@22': 0, 'x0@23': 0, 'x0@24': 0, 'x0@25': 0, 'x0@26': 0, 'x0@27': 0, 'x0@28': 0, 'x0@29': 0, 'x0@3': 0, 'x0@30': 0, 'x0@31': 0, 'x0@32': 0, 'x0@33': 0, 'x0@34': 0, 'x0@35': 0, 'x0@36': 0, 'x0@37': 0, 'x0@38': 0, 'x0@39': 0, 'x0@4': 0, 'x0@40': 0, 'x0@41': 0, 'x0@42': 0, 'x0@43': 0, 'x0@44': 0, 'x0@45': 0, 'x0@46': 0, 'x0@47': 0, 'x0@48': 0, 'x0@49': 0, 'x0@5': 0, 'x0@50': 0, 'x0@51': 0, 'x0@52': 0, 'x0@53': 0, 'x0@54': 0, 'x0@55': 0, 'x0@56': 0, 'x0@57': 0, 'x0@58': 0, 'x0@59': 0, 'x0@6': 0, 'x0@60': 0, 'x0@61': 0, 'x0@62': 0, 'x0@63': 0, 'x0@64': 0, 'x0@65': 0, 'x0@66': 0, 'x0@7': 0, 'x0@8': 0, 'x0@9': 0, 'x1@0': 0, 'x1@1': 0, 'x1@10': 0, 'x1@11': 0, 'x1@12': 0, 'x1@13': 0, 'x1@14': 0, 'x1@15': 0, 'x1@16': 0, 'x1@17': 0, 'x1@18': 0, 'x1@19': 0, 'x1@2': 0, 'x1@20': 0, 'x1@21': 0, 'x1@22': 0, 'x1@23': 0, 'x1@24': 0, 'x1@25': 0, 'x1@26': 0, 'x1@27': 0, 'x1@28': 0, 'x1@29': 0, 'x1@3': 0, 'x1@30': 0, 'x1@31': 0, 'x1@32': 0, 'x1@33': 0, 'x1@34': 0, 'x1@35': 0, 'x1@36': 0, 'x1@37': 0, 'x1@38': 0, 'x1@39': 0, 'x1@4': 0, 'x1@40': 0, 'x1@41': 0, 'x1@42': 0, 'x1@43': 0, 'x1@44': 0, 'x1@45': 0, 'x1@46': 0, 'x1@47': 0, 'x1@48': 0, 'x1@49': 0, 'x1@5': 0, 'x1@50': 0, 'x1@51': 0, 'x1@52': 0, 'x1@53': 0, 'x1@54': 0, 'x1@55': 0, 'x1@56': 0, 'x1@57': 0, 'x1@58': 0, 'x1@59': 0, 'x1@6': 0, 'x1@60': 0, 'x1@61': 0, 'x1@62': 0, 'x1@63': 0, 'x1@64': 0, 'x1@65': 0, 'x1@66': 0, 'x1@7': 0, 'x1@8': 0, 'x1@9': 0, 'x2@0': 0, 'x2@1': 0, 'x2@10': 0, 'x2@11': 0, 'x2@12': 0, 'x2@13': 0, 'x2@14': 0, 'x2@15': 0, 'x2@16': 0, 'x2@17': 0, 'x2@18': 0, 'x2@19': 0, 'x2@2': 0, 'x2@20': 0, 'x2@21': 0, 'x2@22': 0, 'x2@23': 0, 'x2@24': 0, 'x2@25': 0, 'x2@26': 0, 'x2@27': 0, 'x2@28': 0, 'x2@29': 0, 'x2@3': 0, 'x2@30': 0, 'x2@31': 0, 'x2@32': 0, 'x2@33': 0, 'x2@34': 0, 'x2@35': 0, 'x2@36': 0, 'x2@37': 0, 'x2@38': 0, 'x2@39': 0, 'x2@4': 0, 'x2@40': 0, 'x2@41': 0, 'x2@42': 0, 'x2@43': 0, 'x2@44': 0, 'x2@45': 0, 'x2@46': 0, 'x2@47': 0, 'x2@48': 0, 'x2@49': 0, 'x2@5': 0, 'x2@50': 0, 'x2@51': 0, 'x2@52': 0, 'x2@53': 0, 'x2@54': 0, 'x2@55': 0, 'x2@56': 0, 'x2@57': 0, 'x2@58': 0, 'x2@59': 0, 'x2@6': 0, 'x2@60': 0, 'x2@61': 0, 'x2@62': 0, 'x2@63': 0, 'x2@64': 0, 'x2@65': 0, 'x2@66': 0, 'x2@7': 0, 'x2@8': 0, 'x2@9': 0, 'x3@0': 0, 'x3@1': 0, 'x3@10': 0, 'x3@11': 0, 'x3@12': 0, 'x3@13': 0, 'x3@14': 0, 'x3@15': 0, 'x3@16': 0, 'x3@17': 0, 'x3@18': 0, 'x3@19': 0, 'x3@2': 0, 'x3@20': 0, 'x3@21': 0, 'x3@22': 0, 'x3@23': 0, 'x3@24': 0, 'x3@25': 0, 'x3@26': 0, 'x3@27': 0, 'x3@28': 0, 'x3@29': 0, 'x3@3': 0, 'x3@30': 0, 'x3@31': 0, 'x3@32': 0, 'x3@33': 0, 'x3@34': 0, 'x3@35': 0, 'x3@36': 0, 'x3@37': 0, 'x3@38': 0, 'x3@39': 0, 'x3@4': 0, 'x3@40': 0, 'x3@41': 0, 'x3@42': 0, 'x3@43': 0, 'x3@44': 0, 'x3@45': 0, 'x3@46': 0, 'x3@47': 0, 'x3@48': 0, 'x3@49': 0, 'x3@5': 0, 'x3@50': 0, 'x3@51': 0, 'x3@52': 0, 'x3@53': 0, 'x3@54': 0, 'x3@55': 0, 'x3@56': 0, 'x3@57': 0, 'x3@58': 0, 'x3@59': 0, 'x3@6': 0, 'x3@60': 0, 'x3@61': 0, 'x3@62': 0, 'x3@63': 0, 'x3@64': 0, 'x3@65': 0, 'x3@66': 0, 'x3@7': 0, 'x3@8': 0, 'x3@9': 0, 'x4@0': 0, 'x4@1': 0, 'x4@10': 0, 'x4@11': 0, 'x4@12': 0, 'x4@13': 0, 'x4@14': 1, 'x4@15': 0, 'x4@16': 0, 'x4@17': 0, 'x4@18': 0, 'x4@19': 0, 'x4@2': 0, 'x4@20': 0, 'x4@21': 0, 'x4@22': 0, 'x4@23': 0, 'x4@24': 0, 'x4@25': 0, 'x4@26': 0, 'x4@27': 0, 'x4@28': 0, 'x4@29': 0, 'x4@3': 1, 'x4@30': 0, 'x4@31': 0, 'x4@32': 0, 'x4@33': 0, 'x4@34': 0, 'x4@35': 0, 'x4@36': 0, 'x4@37': 0, 'x4@38': 0, 'x4@39': 0, 'x4@4': 0, 'x4@40': 0, 'x4@41': 0, 'x4@42': 0, 'x4@43': 0, 'x4@44': 0, 'x4@45': 0, 'x4@46': 0, 'x4@47': 0, 'x4@48': 0, 'x4@49': 0, 'x4@5': 0, 'x4@50': 0, 'x4@51': 0, 'x4@52': 0, 'x4@53': 0, 'x4@54': 0, 'x4@55': 0, 'x4@56': 0, 'x4@57': 0, 'x4@58': 0, 'x4@59': 0, 'x4@6': 0, 'x4@60': 0, 'x4@61': 0, 'x4@62': 0, 'x4@63': 0, 'x4@64': 0, 'x4@65': 0, 'x4@66': 0, 'x4@7': 0, 'x4@8': 0, 'x4@9': 0, 'x5@0': 0, 'x5@1': 0, 'x5@10': 0, 'x5@11': 0, 'x5@12': 0, 'x5@13': 0, 'x5@14': 0, 'x5@15': 0, 'x5@16': 0, 'x5@17': 0, 'x5@18': 0, 'x5@19': 0, 'x5@2': 0, 'x5@20': 0, 'x5@21': 0, 'x5@22': 0, 'x5@23': 0, 'x5@24': 0, 'x5@25': 0, 'x5@26': 0, 'x5@27': 0, 'x5@28': 0, 'x5@29': 0, 'x5@3': 0, 'x5@30': 0, 'x5@31': 0, 'x5@32': 0, 'x5@33': 0, 'x5@34': 0, 'x5@35': 0, 'x5@36': 0, 'x5@37': 0, 'x5@38': 0, 'x5@39': 0, 'x5@4': 0, 'x5@40': 0, 'x5@41': 0, 'x5@42': 0, 'x5@43': 0, 'x5@44': 0, 'x5@45': 0, 'x5@46': 0, 'x5@47': 0, 'x5@48': 0, 'x5@49': 0, 'x5@5': 0, 'x5@50': 0, 'x5@51': 0, 'x5@52': 0, 'x5@53': 0, 'x5@54': 0, 'x5@55': 0, 'x5@56': 0, 'x5@57': 0, 'x5@58': 0, 'x5@59': 0, 'x5@6': 0, 'x5@60': 0, 'x5@61': 0, 'x5@62': 0, 'x5@63': 0, 'x5@64': 0, 'x5@65': 0, 'x5@66': 0, 'x5@7': 0, 'x5@8': 0, 'x5@9': 0}, {'x0@0': 0, 'x0@1': 0, 'x0@10': 0, 'x0@11': 0, 'x0@12': 0, 'x0@13': 0, 'x0@14': 0, 'x0@15': 0, 'x0@16': 0, 'x0@17': 0, 'x0@18': 0, 'x0@19': 0, 'x0@2': 0, 'x0@20': 0, 'x0@21': 0, 'x0@22': 0, 'x0@23': 0, 'x0@24': 0, 'x0@25': 0, 'x0@26': 0, 'x0@27': 0, 'x0@28': 0, 'x0@29': 0, 'x0@3': 0, 'x0@30': 0, 'x0@31': 0, 'x0@32': 0, 'x0@33': 0, 'x0@34': 0, 'x0@35': 0, 'x0@36': 0, 'x0@37': 0, 'x0@38': 0, 'x0@39': 0, 'x0@4': 0, 'x0@40': 0, 'x0@41': 0, 'x0@42': 0, 'x0@43': 0, 'x0@44': 0, 'x0@45': 0, 'x0@46': 0, 'x0@47': 0, 'x0@48': 0, 'x0@49': 0, 'x0@5': 0, 'x0@50': 0, 'x0@51': 0, 'x0@52': 0, 'x0@53': 0, 'x0@54': 0, 'x0@55': 0, 'x0@56': 0, 'x0@57': 0, 'x0@58': 0, 'x0@59': 0, 'x0@6': 0, 'x0@60': 0, 'x0@61': 0, 'x0@62': 0, 'x0@63': 0, 'x0@64': 0, 'x0@65': 0, 'x0@66': 0, 'x0@7': 0, 'x0@8': 0, 'x0@9': 0, 'x1@0': 0, 'x1@1': 0, 'x1@10': 0, 'x1@11': 0, 'x1@12': 0, 'x1@13': 0, 'x1@14': 0, 'x1@15': 0, 'x1@16': 0, 'x1@17': 0, 'x1@18': 0, 'x1@19': 0, 'x1@2': 0, 'x1@20': 0, 'x1@21': 0, 'x1@22': 0, 'x1@23': 0, 'x1@24': 0, 'x1@25': 0, 'x1@26': 0, 'x1@27': 0, 'x1@28': 0, 'x1@29': 0, 'x1@3': 0, 'x1@30': 0, 'x1@31': 0, 'x1@32': 0, 'x1@33': 0, 'x1@34': 0, 'x1@35': 0, 'x1@36': 0, 'x1@37': 0, 'x1@38': 0, 'x1@39': 0, 'x1@4': 0, 'x1@40': 0, 'x1@41': 0, 'x1@42': 0, 'x1@43': 0, 'x1@44': 0, 'x1@45': 0, 'x1@46': 0, 'x1@47': 0, 'x1@48': 0, 'x1@49': 0, 'x1@5': 0, 'x1@50': 0, 'x1@51': 0, 'x1@52': 0, 'x1@53': 0, 'x1@54': 0, 'x1@55': 0, 'x1@56': 0, 'x1@57': 0, 'x1@58': 0, 'x1@59': 0, 'x1@6': 0, 'x1@60': 0, 'x1@61': 0, 'x1@62': 0, 'x1@63': 0, 'x1@64': 0, 'x1@65': 0, 'x1@66': 0, 'x1@7': 0, 'x1@8': 0, 'x1@9': 0, 'x2@0': 0, 'x2@1': 0, 'x2@10': 0, 'x2@11': 0, 'x2@12': 0, 'x2@13': 0, 'x2@14': 0, 'x2@15': 0, 'x2@16': 0, 'x2@17': 0, 'x2@18': 0, 'x2@19': 0, 'x2@2': 0, 'x2@20': 0, 'x2@21': 0, 'x2@22': 0, 'x2@23': 0, 'x2@24': 0, 'x2@25': 0, 'x2@26': 0, 'x2@27': 0, 'x2@28': 0, 'x2@29': 0, 'x2@3': 0, 'x2@30': 0, 'x2@31': 0, 'x2@32': 0, 'x2@33': 0, 'x2@34': 0, 'x2@35': 0, 'x2@36': 0, 'x2@37': 0, 'x2@38': 0, 'x2@39': 0, 'x2@4': 1, 'x2@40': 0, 'x2@41': 0, 'x2@42': 0, 'x2@43': 0, 'x2@44': 0, 'x2@45': 0, 'x2@46': 0, 'x2@47': 0, 'x2@48': 0, 'x2@49': 0, 'x2@5': 0, 'x2@50': 0, 'x2@51': 0, 'x2@52': 0, 'x2@53': 0, 'x2@54': 0, 'x2@55': 0, 'x2@56': 0, 'x2@57': 0, 'x2@58': 0, 'x2@59': 0, 'x2@6': 0, 'x2@60': 0, 'x2@61': 0, 'x2@62': 0, 'x2@63': 0, 'x2@64': 0, 'x2@65': 0, 'x2@66': 0, 'x2@7': 0, 'x2@8': 0, 'x2@9': 0, 'x3@0': 0, 'x3@1': 0, 'x3@10': 0, 'x3@11': 0, 'x3@12': 0, 'x3@13': 0, 'x3@14': 1, 'x3@15': 0, 'x3@16': 0, 'x3@17': 0, 'x3@18': 0, 'x3@19': 0, 'x3@2': 0, 'x3@20': 0, 'x3@21': 0, 'x3@22': 0, 'x3@23': 0, 'x3@24': 0, 'x3@25': 0, 'x3@26': 0, 'x3@27': 0, 'x3@28': 0, 'x3@29': 0, 'x3@3': 0, 'x3@30': 0, 'x3@31': 0, 'x3@32': 0, 'x3@33': 0, 'x3@34': 0, 'x3@35': 0, 'x3@36': 0, 'x3@37': 0, 'x3@38': 0, 'x3@39': 0, 'x3@4': 1, 'x3@40': 0, 'x3@41': 0, 'x3@42': 0, 'x3@43': 0, 'x3@44': 0, 'x3@45': 0, 'x3@46': 0, 'x3@47': 0, 'x3@48': 0, 'x3@49': 0, 'x3@5': 1, 'x3@50': 0, 'x3@51': 0, 'x3@52': 0, 'x3@53': 0, 'x3@54': 0, 'x3@55': 0, 'x3@56': 0, 'x3@57': 0, 'x3@58': 0, 'x3@59': 0, 'x3@6': 0, 'x3@60': 0, 'x3@61': 0, 'x3@62': 0, 'x3@63': 0, 'x3@64': 0, 'x3@65': 0, 'x3@66': 0, 'x3@7': 0, 'x3@8': 0, 'x3@9': 0, 'x4@0': 0, 'x4@1': 0, 'x4@10': 0, 'x4@11': 0, 'x4@12': 0, 'x4@13': 0, 'x4@14': 0, 'x4@15': 0, 'x4@16': 0, 'x4@17': 0, 'x4@18': 0, 'x4@19': 0, 'x4@2': 0, 'x4@20': 0, 'x4@21': 0, 'x4@22': 0, 'x4@23': 0, 'x4@24': 0, 'x4@25': 0, 'x4@26': 0, 'x4@27': 0, 'x4@28': 0, 'x4@29': 0, 'x4@3': 0, 'x4@30': 0, 'x4@31': 0, 'x4@32': 0, 'x4@33': 0, 'x4@34': 0, 'x4@35': 0, 'x4@36': 0, 'x4@37': 0, 'x4@38': 0, 'x4@39': 0, 'x4@4': 0, 'x4@40': 0, 'x4@41': 0, 'x4@42': 0, 'x4@43': 0, 'x4@44': 0, 'x4@45': 0, 'x4@46': 0, 'x4@47': 0, 'x4@48': 0, 'x4@49': 0, 'x4@5': 1, 'x4@50': 0, 'x4@51': 0, 'x4@52': 0, 'x4@53': 0, 'x4@54': 0, 'x4@55': 0, 'x4@56': 0, 'x4@57': 0, 'x4@58': 0, 'x4@59': 0, 'x4@6': 0, 'x4@60': 0, 'x4@61': 0, 'x4@62': 0, 'x4@63': 0, 'x4@64': 0, 'x4@65': 0, 'x4@66': 0, 'x4@7': 0, 'x4@8': 0, 'x4@9': 0, 'x5@0': 0, 'x5@1': 0, 'x5@10': 0, 'x5@11': 0, 'x5@12': 0, 'x5@13': 0, 'x5@14': 0, 'x5@15': 0, 'x5@16': 0, 'x5@17': 0, 'x5@18': 0, 'x5@19': 0, 'x5@2': 0, 'x5@20': 0, 'x5@21': 0, 'x5@22': 0, 'x5@23': 0, 'x5@24': 0, 'x5@25': 0, 'x5@26': 0, 'x5@27': 0, 'x5@28': 0, 'x5@29': 0, 'x5@3': 0, 'x5@30': 0, 'x5@31': 0, 'x5@32': 0, 'x5@33': 0, 'x5@34': 0, 'x5@35': 0, 'x5@36': 0, 'x5@37': 0, 'x5@38': 0, 'x5@39': 0, 'x5@4': 0, 'x5@40': 0, 'x5@41': 0, 'x5@42': 0, 'x5@43': 0, 'x5@44': 0, 'x5@45': 0, 'x5@46': 0, 'x5@47': 0, 'x5@48': 0, 'x5@49': 0, 'x5@5': 0, 'x5@50': 0, 'x5@51': 0, 'x5@52': 0, 'x5@53': 0, 'x5@54': 0, 'x5@55': 0, 'x5@56': 0, 'x5@57': 0, 'x5@58': 0, 'x5@59': 0, 'x5@6': 0, 'x5@60': 0, 'x5@61': 0, 'x5@62': 0, 'x5@63': 0, 'x5@64': 0, 'x5@65': 0, 'x5@66': 0, 'x5@7': 0, 'x5@8': 0, 'x5@9': 0}, {'x0@0': 0, 'x0@1': 0, 'x0@10': 0, 'x0@11': 0, 'x0@12': 0, 'x0@13': 0, 'x0@14': 0, 'x0@15': 0, 'x0@16': 0, 'x0@17': 0, 'x0@18': 0, 'x0@19': 0, 'x0@2': 0, 'x0@20': 0, 'x0@21': 0, 'x0@22': 0, 'x0@23': 0, 'x0@24': 0, 'x0@25': 0, 'x0@26': 0, 'x0@27': 0, 'x0@28': 0, 'x0@29': 0, 'x0@3': 0, 'x0@30': 0, 'x0@31': 0, 'x0@32': 0, 'x0@33': 0, 'x0@34': 0, 'x0@35': 0, 'x0@36': 0, 'x0@37': 0, 'x0@38': 0, 'x0@39': 0, 'x0@4': 0, 'x0@40': 0, 'x0@41': 0, 'x0@42': 0, 'x0@43': 0, 'x0@44': 0, 'x0@45': 0, 'x0@46': 0, 'x0@47': 0, 'x0@48': 0, 'x0@49': 0, 'x0@5': 0, 'x0@50': 0, 'x0@51': 0, 'x0@52': 0, 'x0@53': 0, 'x0@54': 0, 'x0@55': 0, 'x0@56': 0, 'x0@57': 0, 'x0@58': 0, 'x0@59': 0, 'x0@6': 0, 'x0@60': 0, 'x0@61': 0, 'x0@62': 0, 'x0@63': 0, 'x0@64': 0, 'x0@65': 0, 'x0@66': 0, 'x0@7': 0, 'x0@8': 0, 'x0@9': 0, 'x1@0': 0, 'x1@1': 0, 'x1@10': 0, 'x1@11': 0, 'x1@12': 0, 'x1@13': 0, 'x1@14': 0, 'x1@15': 0, 'x1@16': 0, 'x1@17': 0, 'x1@18': 0, 'x1@19': 0, 'x1@2': 0, 'x1@20': 0, 'x1@21': 0, 'x1@22': 0, 'x1@23': 0, 'x1@24': 0, 'x1@25': 0, 'x1@26': 0, 'x1@27': 0, 'x1@28': 0, 'x1@29': 0, 'x1@3': 0, 'x1@30': 0, 'x1@31': 0, 'x1@32': 0, 'x1@33': 0, 'x1@34': 0, 'x1@35': 0, 'x1@36': 0, 'x1@37': 0, 'x1@38': 0, 'x1@39': 0, 'x1@4': 0, 'x1@40': 0, 'x1@41': 0, 'x1@42': 0, 'x1@43': 0, 'x1@44': 0, 'x1@45': 0, 'x1@46': 0, 'x1@47': 0, 'x1@48': 0, 'x1@49': 0, 'x1@5': 0, 'x1@50': 0, 'x1@51': 0, 'x1@52': 0, 'x1@53': 0, 'x1@54': 0, 'x1@55': 0, 'x1@56': 0, 'x1@57': 0, 'x1@58': 0, 'x1@59': 0, 'x1@6': 0, 'x1@60': 0, 'x1@61': 0, 'x1@62': 0, 'x1@63': 0, 'x1@64': 0, 'x1@65': 0, 'x1@66': 0, 'x1@7': 0, 'x1@8': 0, 'x1@9': 0, 'x2@0': 0, 'x2@1': 0, 'x2@10': 1, 'x2@11': 0, 'x2@12': 1, 'x2@13': 1, 'x2@14': 0, 'x2@15': 0, 'x2@16': 0, 'x2@17': 0, 'x2@18': 0, 'x2@19': 0, 'x2@2': 0, 'x2@20': 0, 'x2@21': 0, 'x2@22': 0, 'x2@23': 0, 'x2@24': 0, 'x2@25': 0, 'x2@26': 0, 'x2@27': 0, 'x2@28': 0, 'x2@29': 0, 'x2@3': 0, 'x2@30': 0, 'x2@31': 0, 'x2@32': 0, 'x2@33': 0, 'x2@34': 0, 'x2@35': 0, 'x2@36': 0, 'x2@37': 0, 'x2@38': 0, 'x2@39': 0, 'x2@4': 1, 'x2@40': 0, 'x2@41': 0, 'x2@42': 0, 'x2@43': 0, 'x2@44': 0, 'x2@45': 0, 'x2@46': 0, 'x2@47': 0, 'x2@48': 0, 'x2@49': 0, 'x2@5': 1, 'x2@50': 0, 'x2@51': 0, 'x2@52': 0, 'x2@53': 0, 'x2@54': 0, 'x2@55': 0, 'x2@56': 0, 'x2@57': 0, 'x2@58': 0, 'x2@59': 0, 'x2@6': 0, 'x2@60': 0, 'x2@61': 0, 'x2@62': 0, 'x2@63': 0, 'x2@64': 0, 'x2@65': 0, 'x2@66': 0, 'x2@7': 0, 'x2@8': 1, 'x2@9': 1, 'x3@0': 0, 'x3@1': 0, 'x3@10': 0, 'x3@11': 1, 'x3@12': 0, 'x3@13': 0, 'x3@14': 0, 'x3@15': 0, 'x3@16': 0, 'x3@17': 0, 'x3@18': 0, 'x3@19': 0, 'x3@2': 0, 'x3@20': 0, 'x3@21': 0, 'x3@22': 0, 'x3@23': 0, 'x3@24': 0, 'x3@25': 0, 'x3@26': 0, 'x3@27': 0, 'x3@28': 0, 'x3@29': 0, 'x3@3': 0, 'x3@30': 0, 'x3@31': 0, 'x3@32': 0, 'x3@33': 0, 'x3@34': 0, 'x3@35': 0, 'x3@36': 0, 'x3@37': 0, 'x3@38': 0, 'x3@39': 0, 'x3@4': 1, 'x3@40': 0, 'x3@41': 0, 'x3@42': 0, 'x3@43': 0, 'x3@44': 0, 'x3@45': 0, 'x3@46': 0, 'x3@47': 0, 'x3@48': 0, 'x3@49': 0, 'x3@5': 0, 'x3@50': 0, 'x3@51': 0, 'x3@52': 0, 'x3@53': 0, 'x3@54': 0, 'x3@55': 0, 'x3@56': 0, 'x3@57': 0, 'x3@58': 0, 'x3@59': 0, 'x3@6': 0, 'x3@60': 0, 'x3@61': 0, 'x3@62': 0, 'x3@63': 0, 'x3@64': 0, 'x3@65': 0, 'x3@66': 0, 'x3@7': 1, 'x3@8': 1, 'x3@9': 1, 'x4@0': 0, 'x4@1': 0, 'x4@10': 0, 'x4@11': 0, 'x4@12': 0, 'x4@13': 0, 'x4@14': 0, 'x4@15': 0, 'x4@16': 0, 'x4@17': 0, 'x4@18': 0, 'x4@19': 0, 'x4@2': 0, 'x4@20': 0, 'x4@21': 0, 'x4@22': 0, 'x4@23': 0, 'x4@24': 0, 'x4@25': 0, 'x4@26': 0, 'x4@27': 0, 'x4@28': 0, 'x4@29': 0, 'x4@3': 0, 'x4@30': 0, 'x4@31': 0, 'x4@32': 0, 'x4@33': 0, 'x4@34': 0, 'x4@35': 0, 'x4@36': 0, 'x4@37': 0, 'x4@38': 0, 'x4@39': 0, 'x4@4': 0, 'x4@40': 0, 'x4@41': 0, 'x4@42': 0, 'x4@43': 0, 'x4@44': 0, 'x4@45': 0, 'x4@46': 0, 'x4@47': 0, 'x4@48': 0, 'x4@49': 0, 'x4@5': 0, 'x4@50': 0, 'x4@51': 0, 'x4@52': 0, 'x4@53': 0, 'x4@54': 0, 'x4@55': 0, 'x4@56': 0, 'x4@57': 0, 'x4@58': 0, 'x4@59': 0, 'x4@6': 0, 'x4@60': 0, 'x4@61': 0, 'x4@62': 0, 'x4@63': 0, 'x4@64': 0, 'x4@65': 0, 'x4@66': 0, 'x4@7': 0, 'x4@8': 0, 'x4@9': 0, 'x5@0': 0, 'x5@1': 0, 'x5@10': 0, 'x5@11': 0, 'x5@12': 0, 'x5@13': 0, 'x5@14': 0, 'x5@15': 0, 'x5@16': 0, 'x5@17': 0, 'x5@18': 0, 'x5@19': 0, 'x5@2': 0, 'x5@20': 0, 'x5@21': 0, 'x5@22': 0, 'x5@23': 0, 'x5@24': 0, 'x5@25': 0, 'x5@26': 0, 'x5@27': 0, 'x5@28': 0, 'x5@29': 0, 'x5@3': 0, 'x5@30': 0, 'x5@31': 0, 'x5@32': 0, 'x5@33': 0, 'x5@34': 0, 'x5@35': 0, 'x5@36': 0, 'x5@37': 0, 'x5@38': 0, 'x5@39': 0, 'x5@4': 0, 'x5@40': 0, 'x5@41': 0, 'x5@42': 0, 'x5@43': 0, 'x5@44': 0, 'x5@45': 0, 'x5@46': 0, 'x5@47': 0, 'x5@48': 0, 'x5@49': 0, 'x5@5': 0, 'x5@50': 0, 'x5@51': 0, 'x5@52': 0, 'x5@53': 0, 'x5@54': 0, 'x5@55': 0, 'x5@56': 0, 'x5@57': 0, 'x5@58': 0, 'x5@59': 0, 'x5@6': 0, 'x5@60': 0, 'x5@61': 0, 'x5@62': 0, 'x5@63': 0, 'x5@64': 0, 'x5@65': 0, 'x5@66': 0, 'x5@7': 0, 'x5@8': 0, 'x5@9': 0}, {'x0@0': 0, 'x0@1': 0, 'x0@10': 0, 'x0@11': 0, 'x0@12': 0, 'x0@13': 0, 'x0@14': 0, 'x0@15': 0, 'x0@16': 0, 'x0@17': 0, 'x0@18': 0, 'x0@19': 0, 'x0@2': 0, 'x0@20': 0, 'x0@21': 0, 'x0@22': 0, 'x0@23': 0, 'x0@24': 0, 'x0@25': 0, 'x0@26': 0, 'x0@27': 0, 'x0@28': 0, 'x0@29': 0, 'x0@3': 0, 'x0@30': 0, 'x0@31': 0, 'x0@32': 0, 'x0@33': 0, 'x0@34': 0, 'x0@35': 0, 'x0@36': 0, 'x0@37': 0, 'x0@38': 0, 'x0@39': 0, 'x0@4': 0, 'x0@40': 0, 'x0@41': 0, 'x0@42': 0, 'x0@43': 0, 'x0@44': 0, 'x0@45': 0, 'x0@46': 0, 'x0@47': 0, 'x0@48': 0, 'x0@49': 0, 'x0@5': 0, 'x0@50': 0, 'x0@51': 0, 'x0@52': 0, 'x0@53': 0, 'x0@54': 0, 'x0@55': 0, 'x0@56': 0, 'x0@57': 0, 'x0@58': 0, 'x0@59': 0, 'x0@6': 0, 'x0@60': 0, 'x0@61': 0, 'x0@62': 0, 'x0@63': 0, 'x0@64': 0, 'x0@65': 0, 'x0@66': 0, 'x0@7': 0, 'x0@8': 0, 'x0@9': 0, 'x1@0': 0, 'x1@1': 0, 'x1@10': 0, 'x1@11': 0, 'x1@12': 0, 'x1@13': 0, 'x1@14': 0, 'x1@15': 0, 'x1@16': 0, 'x1@17': 0, 'x1@18': 0, 'x1@19': 0, 'x1@2': 1, 'x1@20': 0, 'x1@21': 0, 'x1@22': 0, 'x1@23': 0, 'x1@24': 0, 'x1@25': 0, 'x1@26': 0, 'x1@27': 0, 'x1@28': 0, 'x1@29': 0, 'x1@3': 0, 'x1@30': 0, 'x1@31': 0, 'x1@32': 0, 'x1@33': 0, 'x1@34': 0, 'x1@35': 0, 'x1@36': 0, 'x1@37': 0, 'x1@38': 0, 'x1@39': 0, 'x1@4': 1, 'x1@40': 0, 'x1@41': 0, 'x1@42': 0, 'x1@43': 0, 'x1@44': 0, 'x1@45': 0, 'x1@46': 0, 'x1@47': 0, 'x1@48': 0, 'x1@49': 0, 'x1@5': 0, 'x1@50': 0, 'x1@51': 0, 'x1@52': 0, 'x1@53': 0, 'x1@54': 0, 'x1@55': 0, 'x1@56': 0, 'x1@57': 0, 'x1@58': 0, 'x1@59': 0, 'x1@6': 0, 'x1@60': 0, 'x1@61': 0, 'x1@62': 0, 'x1@63': 0, 'x1@64': 0, 'x1@65': 0, 'x1@66': 0, 'x1@7': 0, 'x1@8': 0, 'x1@9': 0, 'x2@0': 0, 'x2@1': 0, 'x2@10': 1, 'x2@11': 1, 'x2@12': 1, 'x2@13': 0, 'x2@14': 1, 'x2@15': 0, 'x2@16': 0, 'x2@17': 0, 'x2@18': 0, 'x2@19': 0, 'x2@2': 0, 'x2@20': 0, 'x2@21': 0, 'x2@22': 0, 'x2@23': 0, 'x2@24': 0, 'x2@25': 0, 'x2@26': 0, 'x2@27': 0, 'x2@28': 0, 'x2@29': 0, 'x2@3': 0, 'x2@30': 0, 'x2@31': 0, 'x2@32': 0, 'x2@33': 0, 'x2@34': 0, 'x2@35': 0, 'x2@36': 0, 'x2@37': 0, 'x2@38': 0, 'x2@39': 0, 'x2@4': 0, 'x2@40': 0, 'x2@41': 0, 'x2@42': 0, 'x2@43': 0, 'x2@44': 0, 'x2@45': 0, 'x2@46': 0, 'x2@47': 0, 'x2@48': 0, 'x2@49': 0, 'x2@5': 0, 'x2@50': 0, 'x2@51': 0, 'x2@52': 0, 'x2@53': 0, 'x2@54': 0, 'x2@55': 0, 'x2@56': 0, 'x2@57': 0, 'x2@58': 0, 'x2@59': 0, 'x2@6': 0, 'x2@60': 0, 'x2@61': 0, 'x2@62': 0, 'x2@63': 0, 'x2@64': 0, 'x2@65': 0, 'x2@66': 0, 'x2@7': 0, 'x2@8': 0, 'x2@9': 0, 'x3@0': 0, 'x3@1': 0, 'x3@10': 0, 'x3@11': 0, 'x3@12': 0, 'x3@13': 0, 'x3@14': 0, 'x3@15': 0, 'x3@16': 0, 'x3@17': 0, 'x3@18': 0, 'x3@19': 0, 'x3@2': 0, 'x3@20': 0, 'x3@21': 0, 'x3@22': 0, 'x3@23': 0, 'x3@24': 0, 'x3@25': 0, 'x3@26': 0, 'x3@27': 0, 'x3@28': 0, 'x3@29': 0, 'x3@3': 0, 'x3@30': 0, 'x3@31': 0, 'x3@32': 0, 'x3@33': 0, 'x3@34': 0, 'x3@35': 0, 'x3@36': 0, 'x3@37': 0, 'x3@38': 0, 'x3@39': 0, 'x3@4': 0, 'x3@40': 0, 'x3@41': 0, 'x3@42': 0, 'x3@43': 0, 'x3@44': 0, 'x3@45': 0, 'x3@46': 0, 'x3@47': 0, 'x3@48': 0, 'x3@49': 0, 'x3@5': 0, 'x3@50': 0, 'x3@51': 0, 'x3@52': 0, 'x3@53': 0, 'x3@54': 0, 'x3@55': 0, 'x3@56': 0, 'x3@57': 0, 'x3@58': 0, 'x3@59': 0, 'x3@6': 0, 'x3@60': 0, 'x3@61': 0, 'x3@62': 0, 'x3@63': 0, 'x3@64': 0, 'x3@65': 0, 'x3@66': 0, 'x3@7': 1, 'x3@8': 0, 'x3@9': 1, 'x4@0': 0, 'x4@1': 0, 'x4@10': 0, 'x4@11': 0, 'x4@12': 0, 'x4@13': 0, 'x4@14': 0, 'x4@15': 0, 'x4@16': 0, 'x4@17': 0, 'x4@18': 0, 'x4@19': 0, 'x4@2': 0, 'x4@20': 0, 'x4@21': 0, 'x4@22': 0, 'x4@23': 0, 'x4@24': 0, 'x4@25': 0, 'x4@26': 0, 'x4@27': 0, 'x4@28': 0, 'x4@29': 0, 'x4@3': 0, 'x4@30': 0, 'x4@31': 0, 'x4@32': 0, 'x4@33': 0, 'x4@34': 0, 'x4@35': 0, 'x4@36': 0, 'x4@37': 0, 'x4@38': 0, 'x4@39': 0, 'x4@4': 0, 'x4@40': 0, 'x4@41': 0, 'x4@42': 0, 'x4@43': 0, 'x4@44': 0, 'x4@45': 0, 'x4@46': 0, 'x4@47': 0, 'x4@48': 0, 'x4@49': 0, 'x4@5': 0, 'x4@50': 0, 'x4@51': 0, 'x4@52': 0, 'x4@53': 0, 'x4@54': 0, 'x4@55': 0, 'x4@56': 0, 'x4@57': 0, 'x4@58': 0, 'x4@59': 0, 'x4@6': 0, 'x4@60': 0, 'x4@61': 0, 'x4@62': 0, 'x4@63': 0, 'x4@64': 0, 'x4@65': 0, 'x4@66': 0, 'x4@7': 0, 'x4@8': 0, 'x4@9': 0, 'x5@0': 0, 'x5@1': 0, 'x5@10': 0, 'x5@11': 0, 'x5@12': 0, 'x5@13': 0, 'x5@14': 0, 'x5@15': 0, 'x5@16': 0, 'x5@17': 0, 'x5@18': 0, 'x5@19': 0, 'x5@2': 0, 'x5@20': 0, 'x5@21': 0, 'x5@22': 0, 'x5@23': 0, 'x5@24': 0, 'x5@25': 0, 'x5@26': 0, 'x5@27': 0, 'x5@28': 0, 'x5@29': 0, 'x5@3': 0, 'x5@30': 0, 'x5@31': 0, 'x5@32': 0, 'x5@33': 0, 'x5@34': 0, 'x5@35': 0, 'x5@36': 0, 'x5@37': 0, 'x5@38': 0, 'x5@39': 0, 'x5@4': 0, 'x5@40': 0, 'x5@41': 0, 'x5@42': 0, 'x5@43': 0, 'x5@44': 0, 'x5@45': 0, 'x5@46': 0, 'x5@47': 0, 'x5@48': 0, 'x5@49': 0, 'x5@5': 0, 'x5@50': 0, 'x5@51': 0, 'x5@52': 0, 'x5@53': 0, 'x5@54': 0, 'x5@55': 0, 'x5@56': 0, 'x5@57': 0, 'x5@58': 0, 'x5@59': 0, 'x5@6': 0, 'x5@60': 0, 'x5@61': 0, 'x5@62': 0, 'x5@63': 0, 'x5@64': 0, 'x5@65': 0, 'x5@66': 0, 'x5@7': 0, 'x5@8': 0, 'x5@9': 0}, {'x0@0': 0, 'x0@1': 0, 'x0@10': 0, 'x0@11': 0, 'x0@12': 0, 'x0@13': 0, 'x0@14': 1, 'x0@15': 0, 'x0@16': 0, 'x0@17': 0, 'x0@18': 0, 'x0@19': 0, 'x0@2': 0, 'x0@20': 0, 'x0@21': 0, 'x0@22': 0, 'x0@23': 0, 'x0@24': 0, 'x0@25': 0, 'x0@26': 0, 'x0@27': 0, 'x0@28': 0, 'x0@29': 0, 'x0@3': 0, 'x0@30': 0, 'x0@31': 0, 'x0@32': 0, 'x0@33': 0, 'x0@34': 0, 'x0@35': 0, 'x0@36': 0, 'x0@37': 0, 'x0@38': 0, 'x0@39': 0, 'x0@4': 0, 'x0@40': 0, 'x0@41': 0, 'x0@42': 0, 'x0@43': 0, 'x0@44': 0, 'x0@45': 0, 'x0@46': 0, 'x0@47': 0, 'x0@48': 0, 'x0@49': 0, 'x0@5': 0, 'x0@50': 0, 'x0@51': 0, 'x0@52': 0, 'x0@53': 0, 'x0@54': 0, 'x0@55': 0, 'x0@56': 0, 'x0@57': 0, 'x0@58': 0, 'x0@59': 0, 'x0@6': 0, 'x0@60': 0, 'x0@61': 0, 'x0@62': 0, 'x0@63': 0, 'x0@64': 0, 'x0@65': 0, 'x0@66': 0, 'x0@7': 0, 'x0@8': 1, 'x0@9': 0, 'x1@0': 0, 'x1@1': 0, 'x1@10': 0, 'x1@11': 1, 'x1@12': 1, 'x1@13': 0, 'x1@14': 0, 'x1@15': 0, 'x1@16': 0, 'x1@17': 0, 'x1@18': 0, 'x1@19': 0, 'x1@2': 0, 'x1@20': 0, 'x1@21': 0, 'x1@22': 0, 'x1@23': 0, 'x1@24': 0, 'x1@25': 0, 'x1@26': 0, 'x1@27': 0, 'x1@28': 0, 'x1@29': 0, 'x1@3': 0, 'x1@30': 0, 'x1@31': 0, 'x1@32': 0, 'x1@33': 0, 'x1@34': 0, 'x1@35': 0, 'x1@36': 0, 'x1@37': 0, 'x1@38': 0, 'x1@39': 0, 'x1@4': 0, 'x1@40': 0, 'x1@41': 0, 'x1@42': 0, 'x1@43': 0, 'x1@44': 0, 'x1@45': 0, 'x1@46': 0, 'x1@47': 0, 'x1@48': 0, 'x1@49': 0, 'x1@5': 0, 'x1@50': 0, 'x1@51': 0, 'x1@52': 0, 'x1@53': 0, 'x1@54': 0, 'x1@55': 0, 'x1@56': 0, 'x1@57': 0, 'x1@58': 0, 'x1@59': 0, 'x1@6': 0, 'x1@60': 0, 'x1@61': 0, 'x1@62': 0, 'x1@63': 0, 'x1@64': 0, 'x1@65': 0, 'x1@66': 0, 'x1@7': 0, 'x1@8': 0, 'x1@9': 1, 'x2@0': 0, 'x2@1': 0, 'x2@10': 0, 'x2@11': 0, 'x2@12': 1, 'x2@13': 0, 'x2@14': 0, 'x2@15': 0, 'x2@16': 0, 'x2@17': 0, 'x2@18': 0, 'x2@19': 0, 'x2@2': 0, 'x2@20': 0, 'x2@21': 0, 'x2@22': 0, 'x2@23': 0, 'x2@24': 0, 'x2@25': 0, 'x2@26': 0, 'x2@27': 0, 'x2@28': 0, 'x2@29': 0, 'x2@3': 0, 'x2@30': 0, 'x2@31': 0, 'x2@32': 0, 'x2@33': 0, 'x2@34': 0, 'x2@35': 0, 'x2@36': 0, 'x2@37': 0, 'x2@38': 0, 'x2@39': 0, 'x2@4': 0, 'x2@40': 0, 'x2@41': 0, 'x2@42': 0, 'x2@43': 0, 'x2@44': 0, 'x2@45': 0, 'x2@46': 0, 'x2@47': 0, 'x2@48': 0, 'x2@49': 0, 'x2@5': 0, 'x2@50': 0, 'x2@51': 0, 'x2@52': 0, 'x2@53': 0, 'x2@54': 0, 'x2@55': 0, 'x2@56': 0, 'x2@57': 0, 'x2@58': 0, 'x2@59': 0, 'x2@6': 0, 'x2@60': 0, 'x2@61': 0, 'x2@62': 0, 'x2@63': 0, 'x2@64': 0, 'x2@65': 0, 'x2@66': 0, 'x2@7': 1, 'x2@8': 0, 'x2@9': 1, 'x3@0': 0, 'x3@1': 0, 'x3@10': 1, 'x3@11': 1, 'x3@12': 1, 'x3@13': 0, 'x3@14': 0, 'x3@15': 0, 'x3@16': 0, 'x3@17': 0, 'x3@18': 0, 'x3@19': 0, 'x3@2': 0, 'x3@20': 0, 'x3@21': 0, 'x3@22': 0, 'x3@23': 0, 'x3@24': 0, 'x3@25': 0, 'x3@26': 0, 'x3@27': 0, 'x3@28': 0, 'x3@29': 0, 'x3@3': 0, 'x3@30': 0, 'x3@31': 0, 'x3@32': 0, 'x3@33': 0, 'x3@34': 0, 'x3@35': 0, 'x3@36': 0, 'x3@37': 0, 'x3@38': 0, 'x3@39': 0, 'x3@4': 0, 'x3@40': 0, 'x3@41': 0, 'x3@42': 0, 'x3@43': 0, 'x3@44': 0, 'x3@45': 0, 'x3@46': 0, 'x3@47': 0, 'x3@48': 0, 'x3@49': 0, 'x3@5': 0, 'x3@50': 0, 'x3@51': 0, 'x3@52': 0, 'x3@53': 0, 'x3@54': 0, 'x3@55': 0, 'x3@56': 0, 'x3@57': 0, 'x3@58': 0, 'x3@59': 0, 'x3@6': 0, 'x3@60': 0, 'x3@61': 0, 'x3@62': 0, 'x3@63': 0, 'x3@64': 0, 'x3@65': 0, 'x3@66': 0, 'x3@7': 0, 'x3@8': 0, 'x3@9': 0, 'x4@0': 0, 'x4@1': 0, 'x4@10': 0, 'x4@11': 1, 'x4@12': 0, 'x4@13': 0, 'x4@14': 0, 'x4@15': 0, 'x4@16': 0, 'x4@17': 0, 'x4@18': 0, 'x4@19': 0, 'x4@2': 0, 'x4@20': 0, 'x4@21': 0, 'x4@22': 0, 'x4@23': 0, 'x4@24': 0, 'x4@25': 0, 'x4@26': 0, 'x4@27': 0, 'x4@28': 0, 'x4@29': 0, 'x4@3': 0, 'x4@30': 0, 'x4@31': 0, 'x4@32': 0, 'x4@33': 0, 'x4@34': 0, 'x4@35': 0, 'x4@36': 0, 'x4@37': 0, 'x4@38': 0, 'x4@39': 0, 'x4@4': 0, 'x4@40': 0, 'x4@41': 0, 'x4@42': 0, 'x4@43': 0, 'x4@44': 0, 'x4@45': 0, 'x4@46': 0, 'x4@47': 0, 'x4@48': 0, 'x4@49': 0, 'x4@5': 0, 'x4@50': 0, 'x4@51': 0, 'x4@52': 0, 'x4@53': 0, 'x4@54': 0, 'x4@55': 0, 'x4@56': 0, 'x4@57': 0, 'x4@58': 0, 'x4@59': 0, 'x4@6': 0, 'x4@60': 0, 'x4@61': 0, 'x4@62': 0, 'x4@63': 0, 'x4@64': 0, 'x4@65': 0, 'x4@66': 0, 'x4@7': 0, 'x4@8': 0, 'x4@9': 0, 'x5@0': 0, 'x5@1': 0, 'x5@10': 0, 'x5@11': 0, 'x5@12': 0, 'x5@13': 0, 'x5@14': 0, 'x5@15': 0, 'x5@16': 0, 'x5@17': 0, 'x5@18': 0, 'x5@19': 0, 'x5@2': 0, 'x5@20': 0, 'x5@21': 0, 'x5@22': 0, 'x5@23': 0, 'x5@24': 0, 'x5@25': 0, 'x5@26': 0, 'x5@27': 0, 'x5@28': 0, 'x5@29': 0, 'x5@3': 0, 'x5@30': 0, 'x5@31': 0, 'x5@32': 0, 'x5@33': 0, 'x5@34': 0, 'x5@35': 0, 'x5@36': 0, 'x5@37': 0, 'x5@38': 0, 'x5@39': 0, 'x5@4': 0, 'x5@40': 0, 'x5@41': 0, 'x5@42': 0, 'x5@43': 0, 'x5@44': 0, 'x5@45': 0, 'x5@46': 0, 'x5@47': 0, 'x5@48': 0, 'x5@49': 0, 'x5@5': 0, 'x5@50': 0, 'x5@51': 0, 'x5@52': 0, 'x5@53': 0, 'x5@54': 0, 'x5@55': 0, 'x5@56': 0, 'x5@57': 0, 'x5@58': 0, 'x5@59': 0, 'x5@6': 0, 'x5@60': 0, 'x5@61': 0, 'x5@62': 0, 'x5@63': 0, 'x5@64': 0, 'x5@65': 0, 'x5@66': 0, 'x5@7': 0, 'x5@8': 0, 'x5@9': 0}, {'x0@0': 0, 'x0@1': 0, 'x0@10': 0, 'x0@11': 0, 'x0@12': 0, 'x0@13': 0, 'x0@14': 0, 'x0@15': 0, 'x0@16': 0, 'x0@17': 0, 'x0@18': 0, 'x0@19': 0, 'x0@2': 0, 'x0@20': 0, 'x0@21': 0, 'x0@22': 0, 'x0@23': 0, 'x0@24': 0, 'x0@25': 0, 'x0@26': 0, 'x0@27': 0, 'x0@28': 0, 'x0@29': 0, 'x0@3': 0, 'x0@30': 0, 'x0@31': 0, 'x0@32': 0, 'x0@33': 0, 'x0@34': 0, 'x0@35': 0, 'x0@36': 0, 'x0@37': 0, 'x0@38': 0, 'x0@39': 0, 'x0@4': 1, 'x0@40': 0, 'x0@41': 0, 'x0@42': 0, 'x0@43': 0, 'x0@44': 0, 'x0@45': 0, 'x0@46': 0, 'x0@47': 0, 'x0@48': 0, 'x0@49': 0, 'x0@5': 1, 'x0@50': 0, 'x0@51': 0, 'x0@52': 0, 'x0@53': 0, 'x0@54': 0, 'x0@55': 0, 'x0@56': 0, 'x0@57': 0, 'x0@58': 0, 'x0@59': 0, 'x0@6': 0, 'x0@60': 0, 'x0@61': 0, 'x0@62': 0, 'x0@63': 0, 'x0@64': 0, 'x0@65': 0, 'x0@66': 0, 'x0@7': 0, 'x0@8': 0, 'x0@9': 1, 'x1@0': 0, 'x1@1': 0, 'x1@10': 1, 'x1@11': 1, 'x1@12': 0, 'x1@13': 1, 'x1@14': 0, 'x1@15': 0, 'x1@16': 0, 'x1@17': 0, 'x1@18': 0, 'x1@19': 0, 'x1@2': 0, 'x1@20': 0, 'x1@21': 0, 'x1@22': 0, 'x1@23': 0, 'x1@24': 0, 'x1@25': 0, 'x1@26': 0, 'x1@27': 0, 'x1@28': 0, 'x1@29': 0, 'x1@3': 1, 'x1@30': 0, 'x1@31': 0, 'x1@32': 0, 'x1@33': 0, 'x1@34': 0, 'x1@35': 0, 'x1@36': 0, 'x1@37': 0, 'x1@38': 0, 'x1@39': 0, 'x1@4': 0, 'x1@40': 0, 'x1@41': 0, 'x1@42': 0, 'x1@43': 0, 'x1@44': 0, 'x1@45': 0, 'x1@46': 0, 'x1@47': 0, 'x1@48': 0, 'x1@49': 0, 'x1@5': 1, 'x1@50': 0, 'x1@51': 0, 'x1@52': 0, 'x1@53': 0, 'x1@54': 0, 'x1@55': 0, 'x1@56': 0, 'x1@57': 0, 'x1@58': 0, 'x1@59': 0, 'x1@6': 1, 'x1@60': 0, 'x1@61': 0, 'x1@62': 0, 'x1@63': 0, 'x1@64': 0, 'x1@65': 0, 'x1@66': 0, 'x1@7': 1, 'x1@8': 1, 'x1@9': 1, 'x2@0': 0, 'x2@1': 0, 'x2@10': 0, 'x2@11': 0, 'x2@12': 0, 'x2@13': 0, 'x2@14': 0, 'x2@15': 0, 'x2@16': 0, 'x2@17': 0, 'x2@18': 0, 'x2@19': 0, 'x2@2': 0, 'x2@20': 0, 'x2@21': 0, 'x2@22': 0, 'x2@23': 0, 'x2@24': 0, 'x2@25': 0, 'x2@26': 0, 'x2@27': 0, 'x2@28': 0, 'x2@29': 0, 'x2@3': 0, 'x2@30': 0, 'x2@31': 0, 'x2@32': 0, 'x2@33': 0, 'x2@34': 0, 'x2@35': 0, 'x2@36': 0, 'x2@37': 0, 'x2@38': 0, 'x2@39': 0, 'x2@4': 0, 'x2@40': 0, 'x2@41': 0, 'x2@42': 0, 'x2@43': 0, 'x2@44': 0, 'x2@45': 0, 'x2@46': 0, 'x2@47': 0, 'x2@48': 0, 'x2@49': 0, 'x2@5': 0, 'x2@50': 0, 'x2@51': 0, 'x2@52': 0, 'x2@53': 0, 'x2@54': 0, 'x2@55': 0, 'x2@56': 0, 'x2@57': 0, 'x2@58': 0, 'x2@59': 0, 'x2@6': 0, 'x2@60': 0, 'x2@61': 0, 'x2@62': 0, 'x2@63': 0, 'x2@64': 0, 'x2@65': 0, 'x2@66': 0, 'x2@7': 0, 'x2@8': 0, 'x2@9': 0, 'x3@0': 0, 'x3@1': 0, 'x3@10': 0, 'x3@11': 0, 'x3@12': 0, 'x3@13': 0, 'x3@14': 0, 'x3@15': 0, 'x3@16': 0, 'x3@17': 0, 'x3@18': 0, 'x3@19': 0, 'x3@2': 0, 'x3@20': 0, 'x3@21': 0, 'x3@22': 0, 'x3@23': 0, 'x3@24': 0, 'x3@25': 0, 'x3@26': 0, 'x3@27': 0, 'x3@28': 0, 'x3@29': 0, 'x3@3': 0, 'x3@30': 0, 'x3@31': 0, 'x3@32': 0, 'x3@33': 0, 'x3@34': 0, 'x3@35': 0, 'x3@36': 0, 'x3@37': 0, 'x3@38': 0, 'x3@39': 0, 'x3@4': 0, 'x3@40': 0, 'x3@41': 0, 'x3@42': 0, 'x3@43': 0, 'x3@44': 0, 'x3@45': 0, 'x3@46': 0, 'x3@47': 0, 'x3@48': 0, 'x3@49': 0, 'x3@5': 0, 'x3@50': 0, 'x3@51': 0, 'x3@52': 0, 'x3@53': 0, 'x3@54': 0, 'x3@55': 0, 'x3@56': 0, 'x3@57': 0, 'x3@58': 0, 'x3@59': 0, 'x3@6': 0, 'x3@60': 0, 'x3@61': 0, 'x3@62': 0, 'x3@63': 0, 'x3@64': 0, 'x3@65': 0, 'x3@66': 0, 'x3@7': 0, 'x3@8': 0, 'x3@9': 0, 'x4@0': 1, 'x4@1': 1, 'x4@10': 1, 'x4@11': 1, 'x4@12': 1, 'x4@13': 1, 'x4@14': 0, 'x4@15': 0, 'x4@16': 0, 'x4@17': 0, 'x4@18': 0, 'x4@19': 0, 'x4@2': 0, 'x4@20': 0, 'x4@21': 0, 'x4@22': 0, 'x4@23': 0, 'x4@24': 0, 'x4@25': 0, 'x4@26': 0, 'x4@27': 0, 'x4@28': 0, 'x4@29': 0, 'x4@3': 0, 'x4@30': 0, 'x4@31': 0, 'x4@32': 0, 'x4@33': 0, 'x4@34': 0, 'x4@35': 0, 'x4@36': 0, 'x4@37': 0, 'x4@38': 0, 'x4@39': 0, 'x4@4': 0, 'x4@40': 0, 'x4@41': 0, 'x4@42': 0, 'x4@43': 0, 'x4@44': 0, 'x4@45': 0, 'x4@46': 0, 'x4@47': 0, 'x4@48': 0, 'x4@49': 0, 'x4@5': 0, 'x4@50': 0, 'x4@51': 0, 'x4@52': 0, 'x4@53': 0, 'x4@54': 0, 'x4@55': 0, 'x4@56': 0, 'x4@57': 0, 'x4@58': 0, 'x4@59': 0, 'x4@6': 1, 'x4@60': 0, 'x4@61': 0, 'x4@62': 0, 'x4@63': 0, 'x4@64': 0, 'x4@65': 0, 'x4@66': 0, 'x4@7': 0, 'x4@8': 0, 'x4@9': 0, 'x5@0': 0, 'x5@1': 0, 'x5@10': 0, 'x5@11': 0, 'x5@12': 0, 'x5@13': 0, 'x5@14': 0, 'x5@15': 0, 'x5@16': 0, 'x5@17': 0, 'x5@18': 0, 'x5@19': 0, 'x5@2': 0, 'x5@20': 0, 'x5@21': 0, 'x5@22': 0, 'x5@23': 0, 'x5@24': 0, 'x5@25': 0, 'x5@26': 0, 'x5@27': 0, 'x5@28': 0, 'x5@29': 0, 'x5@3': 0, 'x5@30': 0, 'x5@31': 0, 'x5@32': 0, 'x5@33': 0, 'x5@34': 0, 'x5@35': 0, 'x5@36': 0, 'x5@37': 0, 'x5@38': 0, 'x5@39': 0, 'x5@4': 0, 'x5@40': 0, 'x5@41': 0, 'x5@42': 0, 'x5@43': 0, 'x5@44': 0, 'x5@45': 0, 'x5@46': 0, 'x5@47': 0, 'x5@48': 0, 'x5@49': 0, 'x5@5': 0, 'x5@50': 0, 'x5@51': 0, 'x5@52': 0, 'x5@53': 0, 'x5@54': 0, 'x5@55': 0, 'x5@56': 0, 'x5@57': 0, 'x5@58': 0, 'x5@59': 0, 'x5@6': 0, 'x5@60': 0, 'x5@61': 0, 'x5@62': 0, 'x5@63': 0, 'x5@64': 0, 'x5@65': 0, 'x5@66': 0, 'x5@7': 0, 'x5@8': 0, 'x5@9': 0}]\n",
            "energies=[-0.0, 1.47456e+45, 2.3040000000000004e+45, 4.51584e+45, 5.89824e+45, 9.216000000000002e+45, 3.400704000000001e+48, 2.415919104e+49, 2.41658496e+49, 9.701462016000002e+49, 1.2213522432000001e+50, 3.844266062400001e+50, 3.8654705664e+50, 3.8656512e+50, 3.8692463616e+50, 3.895743283199999e+50, 4.204796313599999e+50, 8.4276470016e+50, 1.1289939148800002e+51, 1.1492913614400003e+51]\n"
          ],
          "name": "stdout"
        }
      ]
    },
    {
      "cell_type": "code",
      "metadata": {
        "id": "CJcpONu7Yog4",
        "outputId": "d0654388-c922-43aa-e900-5eb102ed90a4",
        "colab": {
          "base_uri": "https://localhost:8080/"
        }
      },
      "source": [
        "bqm.result.data_vectors['energy']"
      ],
      "execution_count": 167,
      "outputs": [
        {
          "output_type": "execute_result",
          "data": {
            "text/plain": [
              "array([-6.72650669e+69])"
            ]
          },
          "metadata": {
            "tags": []
          },
          "execution_count": 167
        }
      ]
    },
    {
      "cell_type": "code",
      "metadata": {
        "id": "OGI-Z0PtbsoQ",
        "outputId": "df28dc86-f285-4260-ea53-fb589854d28f",
        "colab": {
          "base_uri": "https://localhost:8080/"
        }
      },
      "source": [
        "bqm1 = dimod.BinaryQuadraticModel.from_ising({}, {('a', 'b'): -1})\n",
        "sampleset = dimod.SampleSet.from_samples_bqm({'a': -1, 'b': 1},bqm1)\n",
        "print(bqm1)\n",
        "print(sampleset)"
      ],
      "execution_count": 65,
      "outputs": [
        {
          "output_type": "stream",
          "text": [
            "BinaryQuadraticModel({a: 0.0, b: 0.0}, {('a', 'b'): -1}, 0, 'SPIN')\n",
            "   a  b energy num_oc.\n",
            "0 -1 +1    1.0       1\n",
            "['SPIN', 1 rows, 1 samples, 2 variables]\n"
          ],
          "name": "stdout"
        }
      ]
    },
    {
      "cell_type": "code",
      "metadata": {
        "id": "4antW7Vf-V_0",
        "colab": {
          "base_uri": "https://localhost:8080/"
        },
        "outputId": "0f6dde0c-5b39-47a6-f825-ce341c2f3154"
      },
      "source": [
        "len(bqm.result.to_serializable()['variable_labels'])#['sample_data']['data']"
      ],
      "execution_count": null,
      "outputs": [
        {
          "output_type": "execute_result",
          "data": {
            "text/plain": [
              "845"
            ]
          },
          "metadata": {
            "tags": []
          },
          "execution_count": 79
        }
      ]
    },
    {
      "cell_type": "code",
      "metadata": {
        "id": "J-wobKx59E5h",
        "outputId": "0e33db3c-6622-4e7c-d257-4ee67b937239",
        "colab": {
          "base_uri": "https://localhost:8080/",
          "height": 307
        }
      },
      "source": [
        "mod.substitute_variables(bqm.result)"
      ],
      "execution_count": 66,
      "outputs": [
        {
          "output_type": "error",
          "ename": "AttributeError",
          "evalue": "ignored",
          "traceback": [
            "\u001b[0;31m---------------------------------------------------------------------------\u001b[0m",
            "\u001b[0;31mAttributeError\u001b[0m                            Traceback (most recent call last)",
            "\u001b[0;32m<ipython-input-66-1a4ac1c9de1d>\u001b[0m in \u001b[0;36m<module>\u001b[0;34m()\u001b[0m\n\u001b[0;32m----> 1\u001b[0;31m \u001b[0mmod\u001b[0m\u001b[0;34m.\u001b[0m\u001b[0msubstitute_variables\u001b[0m\u001b[0;34m(\u001b[0m\u001b[0mbqm\u001b[0m\u001b[0;34m.\u001b[0m\u001b[0mresult\u001b[0m\u001b[0;34m)\u001b[0m\u001b[0;34m\u001b[0m\u001b[0;34m\u001b[0m\u001b[0m\n\u001b[0m",
            "\u001b[0;32m/usr/local/lib/python3.7/dist-packages/qiskit/optimization/problems/quadratic_program.py\u001b[0m in \u001b[0;36msubstitute_variables\u001b[0;34m(self, constants, variables)\u001b[0m\n\u001b[1;32m   1161\u001b[0m                 \u001b[0;34m-\u001b[0m \u001b[0mCoefficient\u001b[0m \u001b[0mof\u001b[0m \u001b[0mvariable\u001b[0m \u001b[0msubstitution\u001b[0m \u001b[0;32mis\u001b[0m \u001b[0mzero\u001b[0m\u001b[0;34m.\u001b[0m\u001b[0;34m\u001b[0m\u001b[0;34m\u001b[0m\u001b[0m\n\u001b[1;32m   1162\u001b[0m         \"\"\"\n\u001b[0;32m-> 1163\u001b[0;31m         \u001b[0;32mreturn\u001b[0m \u001b[0mSubstituteVariables\u001b[0m\u001b[0;34m(\u001b[0m\u001b[0;34m)\u001b[0m\u001b[0;34m.\u001b[0m\u001b[0msubstitute_variables\u001b[0m\u001b[0;34m(\u001b[0m\u001b[0mself\u001b[0m\u001b[0;34m,\u001b[0m \u001b[0mconstants\u001b[0m\u001b[0;34m,\u001b[0m \u001b[0mvariables\u001b[0m\u001b[0;34m)\u001b[0m\u001b[0;34m\u001b[0m\u001b[0;34m\u001b[0m\u001b[0m\n\u001b[0m\u001b[1;32m   1164\u001b[0m \u001b[0;34m\u001b[0m\u001b[0m\n\u001b[1;32m   1165\u001b[0m     \u001b[0;32mdef\u001b[0m \u001b[0mto_ising\u001b[0m\u001b[0;34m(\u001b[0m\u001b[0mself\u001b[0m\u001b[0;34m)\u001b[0m \u001b[0;34m->\u001b[0m \u001b[0mTuple\u001b[0m\u001b[0;34m[\u001b[0m\u001b[0mOperatorBase\u001b[0m\u001b[0;34m,\u001b[0m \u001b[0mfloat\u001b[0m\u001b[0;34m]\u001b[0m\u001b[0;34m:\u001b[0m\u001b[0;34m\u001b[0m\u001b[0;34m\u001b[0m\u001b[0m\n",
            "\u001b[0;32m/usr/local/lib/python3.7/dist-packages/qiskit/optimization/problems/quadratic_program.py\u001b[0m in \u001b[0;36msubstitute_variables\u001b[0;34m(self, src, constants, variables)\u001b[0m\n\u001b[1;32m   1473\u001b[0m         \u001b[0mself\u001b[0m\u001b[0;34m.\u001b[0m\u001b[0m_src\u001b[0m \u001b[0;34m=\u001b[0m \u001b[0msrc\u001b[0m\u001b[0;34m\u001b[0m\u001b[0;34m\u001b[0m\u001b[0m\n\u001b[1;32m   1474\u001b[0m         \u001b[0mself\u001b[0m\u001b[0;34m.\u001b[0m\u001b[0m_dst\u001b[0m \u001b[0;34m=\u001b[0m \u001b[0mQuadraticProgram\u001b[0m\u001b[0;34m(\u001b[0m\u001b[0msrc\u001b[0m\u001b[0;34m.\u001b[0m\u001b[0mname\u001b[0m\u001b[0;34m)\u001b[0m\u001b[0;34m\u001b[0m\u001b[0;34m\u001b[0m\u001b[0m\n\u001b[0;32m-> 1475\u001b[0;31m         \u001b[0mself\u001b[0m\u001b[0;34m.\u001b[0m\u001b[0m_subs_dict\u001b[0m\u001b[0;34m(\u001b[0m\u001b[0mconstants\u001b[0m\u001b[0;34m,\u001b[0m \u001b[0mvariables\u001b[0m\u001b[0;34m)\u001b[0m\u001b[0;34m\u001b[0m\u001b[0;34m\u001b[0m\u001b[0m\n\u001b[0m\u001b[1;32m   1476\u001b[0m         results = [\n\u001b[1;32m   1477\u001b[0m             \u001b[0mself\u001b[0m\u001b[0;34m.\u001b[0m\u001b[0m_variables\u001b[0m\u001b[0;34m(\u001b[0m\u001b[0;34m)\u001b[0m\u001b[0;34m,\u001b[0m\u001b[0;34m\u001b[0m\u001b[0;34m\u001b[0m\u001b[0m\n",
            "\u001b[0;32m/usr/local/lib/python3.7/dist-packages/qiskit/optimization/problems/quadratic_program.py\u001b[0m in \u001b[0;36m_subs_dict\u001b[0;34m(self, constants, variables)\u001b[0m\n\u001b[1;32m   1515\u001b[0m         \u001b[0msubs\u001b[0m \u001b[0;34m=\u001b[0m \u001b[0;34m{\u001b[0m\u001b[0;34m}\u001b[0m  \u001b[0;31m# type: Dict[Union[int, str], Tuple[str, float]]\u001b[0m\u001b[0;34m\u001b[0m\u001b[0;34m\u001b[0m\u001b[0m\n\u001b[1;32m   1516\u001b[0m         \u001b[0;32mif\u001b[0m \u001b[0mconstants\u001b[0m \u001b[0;32mis\u001b[0m \u001b[0;32mnot\u001b[0m \u001b[0;32mNone\u001b[0m\u001b[0;34m:\u001b[0m\u001b[0;34m\u001b[0m\u001b[0;34m\u001b[0m\u001b[0m\n\u001b[0;32m-> 1517\u001b[0;31m             \u001b[0;32mfor\u001b[0m \u001b[0mi\u001b[0m\u001b[0;34m,\u001b[0m \u001b[0mv\u001b[0m \u001b[0;32min\u001b[0m \u001b[0mconstants\u001b[0m\u001b[0;34m.\u001b[0m\u001b[0mitems\u001b[0m\u001b[0;34m(\u001b[0m\u001b[0;34m)\u001b[0m\u001b[0;34m:\u001b[0m\u001b[0;34m\u001b[0m\u001b[0;34m\u001b[0m\u001b[0m\n\u001b[0m\u001b[1;32m   1518\u001b[0m                 \u001b[0;31m# substitute i <- v\u001b[0m\u001b[0;34m\u001b[0m\u001b[0;34m\u001b[0m\u001b[0;34m\u001b[0m\u001b[0m\n\u001b[1;32m   1519\u001b[0m                 \u001b[0mi_2\u001b[0m \u001b[0;34m=\u001b[0m \u001b[0mself\u001b[0m\u001b[0;34m.\u001b[0m\u001b[0m_src\u001b[0m\u001b[0;34m.\u001b[0m\u001b[0mget_variable\u001b[0m\u001b[0;34m(\u001b[0m\u001b[0mi\u001b[0m\u001b[0;34m)\u001b[0m\u001b[0;34m.\u001b[0m\u001b[0mname\u001b[0m\u001b[0;34m\u001b[0m\u001b[0;34m\u001b[0m\u001b[0m\n",
            "\u001b[0;31mAttributeError\u001b[0m: 'SampleSet' object has no attribute 'items'"
          ]
        }
      ]
    }
  ]
}