{
  "nbformat": 4,
  "nbformat_minor": 0,
  "metadata": {
    "colab": {
      "name": "solver_experiments.ipynb",
      "provenance": [],
      "include_colab_link": true
    },
    "kernelspec": {
      "display_name": "Python 3",
      "language": "python",
      "name": "python3"
    },
    "language_info": {
      "codemirror_mode": {
        "name": "ipython",
        "version": 3
      },
      "file_extension": ".py",
      "mimetype": "text/x-python",
      "name": "python",
      "nbconvert_exporter": "python",
      "pygments_lexer": "ipython3",
      "version": "3.7.6"
    }
  },
  "cells": [
    {
      "cell_type": "markdown",
      "metadata": {
        "id": "view-in-github",
        "colab_type": "text"
      },
      "source": [
        "<a href=\"https://colab.research.google.com/github/VGGatGitHub/Summer2021/blob/main/D-Wave_experiments.ipynb\" target=\"_parent\"><img src=\"https://colab.research.google.com/assets/colab-badge.svg\" alt=\"Open In Colab\"/></a>"
      ]
    },
    {
      "cell_type": "markdown",
      "metadata": {
        "id": "rm4Kd0IfYVuK"
      },
      "source": [
        "Notebook experimenting how to use DOcplex and IBM Quantum."
      ]
    },
    {
      "cell_type": "markdown",
      "metadata": {
        "id": "TWpZnxqoxtCH"
      },
      "source": [
        "# 0. Install libraries & clone repo"
      ]
    },
    {
      "cell_type": "code",
      "metadata": {
        "id": "iRRxprB83d-Q"
      },
      "source": [
        "#https://www.youtube.com/watch?v=bErs0dxC1aY&list=PLPvKnT7dgEsuhec_yW9oxcZ6gg9SfRFFV\n",
        "#https://docs.ocean.dwavesys.com/en/latest/overview/install.html#installoceansoftware\n",
        "\n",
        "#!pip install dwave-ocean-sdk\n",
        "!pip show dwave-ocean-sdk"
      ],
      "execution_count": null,
      "outputs": []
    },
    {
      "cell_type": "code",
      "metadata": {
        "id": "iQMyBCvk3jlh"
      },
      "source": [
        "#!dwave setup #API endpoint URL: https://cloud.dwavesys.com/sapi/"
      ],
      "execution_count": 2,
      "outputs": []
    },
    {
      "cell_type": "code",
      "metadata": {
        "id": "jjhGsa9LxtCJ"
      },
      "source": [
        "import sys\n",
        "\n",
        "if hasattr(sys, 'real_prefix'):\n",
        "    #we are in a virtual env.\n",
        "    !pip install cplex && pip install docplex\n",
        "else:\n",
        "    !pip install --user cplex && pip install --user docplex\n",
        "\n",
        "print()\n",
        "!pip show cplex\n",
        "print()\n",
        "!pip show docplex\n",
        "\n",
        "#it my be useful to retstart you runtime"
      ],
      "execution_count": null,
      "outputs": []
    },
    {
      "cell_type": "code",
      "metadata": {
        "id": "zeBTiUzOwgR_"
      },
      "source": [
        "!pip install qiskit\n",
        "!pip show qiskit\n",
        "\n",
        "# !pip install qiskit-optimization\n",
        "#!pip show qiskit-optimization\n",
        "\n",
        "#it my be useful to retstart you runtime"
      ],
      "execution_count": null,
      "outputs": []
    },
    {
      "cell_type": "code",
      "metadata": {
        "id": "RPk5nF4ZxtCJ"
      },
      "source": [
        "#it my be useful to retstart you runtime\n",
        "\n",
        "# clone repo\n",
        "!git clone https://github.com/VGGatGitHub/Summer2021.git"
      ],
      "execution_count": null,
      "outputs": []
    },
    {
      "cell_type": "markdown",
      "metadata": {
        "id": "DMGKfSM9YVuM"
      },
      "source": [
        "#**Possibly need to restart runtime here.**"
      ]
    },
    {
      "cell_type": "markdown",
      "metadata": {
        "id": "jFOO2BnFxtCM"
      },
      "source": [
        "# 1. Load Data"
      ]
    },
    {
      "cell_type": "code",
      "metadata": {
        "id": "y8U39lpVaWLJ",
        "colab": {
          "base_uri": "https://localhost:8080/"
        },
        "outputId": "906f077c-bbdc-4bfe-f07a-439ddb78b8cb"
      },
      "source": [
        "#next run the model.py in the folder introScenario\n",
        "!pwd\n",
        "%cd ./Summer2021/introScenario/\n",
        "#./Summer2021/intermediateScenario\n",
        "#./Summer2021/introScenario/\n",
        "#%ls\n"
      ],
      "execution_count": 6,
      "outputs": [
        {
          "output_type": "stream",
          "text": [
            "/content\n",
            "/content/Summer2021/introScenario\n"
          ],
          "name": "stdout"
        }
      ]
    },
    {
      "cell_type": "code",
      "metadata": {
        "id": "w5eQxjG1YVuP"
      },
      "source": [
        "import pandas as pd\n",
        "\n",
        "# supply + costs\n",
        "supply_file = './plants.csv'\n",
        "\n",
        "# demand\n",
        "demand_file = './customerDemand.csv'\n",
        "\n",
        "# for now load example data (plants.csv and customerDemand.csv under introScenario folder)\n",
        "s_df = pd.read_csv(supply_file)\n",
        "d_df = pd.read_csv(demand_file)"
      ],
      "execution_count": 7,
      "outputs": []
    },
    {
      "cell_type": "code",
      "metadata": {
        "id": "jpII3ShlTtMI",
        "colab": {
          "base_uri": "https://localhost:8080/",
          "height": 0
        },
        "outputId": "10e61aa5-127a-4f83-c940-f9a685995e8f"
      },
      "source": [
        "d_df"
      ],
      "execution_count": 8,
      "outputs": [
        {
          "output_type": "execute_result",
          "data": {
            "text/html": [
              "<div>\n",
              "<style scoped>\n",
              "    .dataframe tbody tr th:only-of-type {\n",
              "        vertical-align: middle;\n",
              "    }\n",
              "\n",
              "    .dataframe tbody tr th {\n",
              "        vertical-align: top;\n",
              "    }\n",
              "\n",
              "    .dataframe thead th {\n",
              "        text-align: right;\n",
              "    }\n",
              "</style>\n",
              "<table border=\"1\" class=\"dataframe\">\n",
              "  <thead>\n",
              "    <tr style=\"text-align: right;\">\n",
              "      <th></th>\n",
              "      <th>Product</th>\n",
              "      <th>Demand</th>\n",
              "    </tr>\n",
              "  </thead>\n",
              "  <tbody>\n",
              "    <tr>\n",
              "      <th>0</th>\n",
              "      <td>handSanitizer</td>\n",
              "      <td>100</td>\n",
              "    </tr>\n",
              "    <tr>\n",
              "      <th>1</th>\n",
              "      <td>mask</td>\n",
              "      <td>120</td>\n",
              "    </tr>\n",
              "  </tbody>\n",
              "</table>\n",
              "</div>"
            ],
            "text/plain": [
              "         Product  Demand\n",
              "0  handSanitizer     100\n",
              "1           mask     120"
            ]
          },
          "metadata": {
            "tags": []
          },
          "execution_count": 8
        }
      ]
    },
    {
      "cell_type": "code",
      "metadata": {
        "id": "Urm0R_bETqO2",
        "colab": {
          "base_uri": "https://localhost:8080/",
          "height": 0
        },
        "outputId": "ae66f760-b855-4649-8692-b0657abb7cc3"
      },
      "source": [
        "s_df"
      ],
      "execution_count": 9,
      "outputs": [
        {
          "output_type": "execute_result",
          "data": {
            "text/html": [
              "<div>\n",
              "<style scoped>\n",
              "    .dataframe tbody tr th:only-of-type {\n",
              "        vertical-align: middle;\n",
              "    }\n",
              "\n",
              "    .dataframe tbody tr th {\n",
              "        vertical-align: top;\n",
              "    }\n",
              "\n",
              "    .dataframe thead th {\n",
              "        text-align: right;\n",
              "    }\n",
              "</style>\n",
              "<table border=\"1\" class=\"dataframe\">\n",
              "  <thead>\n",
              "    <tr style=\"text-align: right;\">\n",
              "      <th></th>\n",
              "      <th>Plants</th>\n",
              "      <th>Cost</th>\n",
              "      <th>Capacity</th>\n",
              "      <th>Product</th>\n",
              "    </tr>\n",
              "  </thead>\n",
              "  <tbody>\n",
              "    <tr>\n",
              "      <th>0</th>\n",
              "      <td>1</td>\n",
              "      <td>3</td>\n",
              "      <td>40</td>\n",
              "      <td>mask</td>\n",
              "    </tr>\n",
              "    <tr>\n",
              "      <th>1</th>\n",
              "      <td>2</td>\n",
              "      <td>2</td>\n",
              "      <td>30</td>\n",
              "      <td>mask</td>\n",
              "    </tr>\n",
              "    <tr>\n",
              "      <th>2</th>\n",
              "      <td>3</td>\n",
              "      <td>1</td>\n",
              "      <td>30</td>\n",
              "      <td>handSanitizer</td>\n",
              "    </tr>\n",
              "    <tr>\n",
              "      <th>3</th>\n",
              "      <td>4</td>\n",
              "      <td>3</td>\n",
              "      <td>100</td>\n",
              "      <td>handSanitizer</td>\n",
              "    </tr>\n",
              "    <tr>\n",
              "      <th>4</th>\n",
              "      <td>5</td>\n",
              "      <td>2</td>\n",
              "      <td>60</td>\n",
              "      <td>mask</td>\n",
              "    </tr>\n",
              "    <tr>\n",
              "      <th>5</th>\n",
              "      <td>6</td>\n",
              "      <td>1</td>\n",
              "      <td>45</td>\n",
              "      <td>mask</td>\n",
              "    </tr>\n",
              "  </tbody>\n",
              "</table>\n",
              "</div>"
            ],
            "text/plain": [
              "   Plants  Cost  Capacity        Product\n",
              "0       1     3        40           mask\n",
              "1       2     2        30           mask\n",
              "2       3     1        30  handSanitizer\n",
              "3       4     3       100  handSanitizer\n",
              "4       5     2        60           mask\n",
              "5       6     1        45           mask"
            ]
          },
          "metadata": {
            "tags": []
          },
          "execution_count": 9
        }
      ]
    },
    {
      "cell_type": "code",
      "metadata": {
        "id": "m3VwLMJr1wBE"
      },
      "source": [
        "inputs={'customerDemand':d_df,'plants':s_df}"
      ],
      "execution_count": 10,
      "outputs": []
    },
    {
      "cell_type": "markdown",
      "metadata": {
        "id": "89lxEMTBYVuQ"
      },
      "source": [
        "# 2. Solve the DO problem via DOcplex"
      ]
    },
    {
      "cell_type": "code",
      "metadata": {
        "id": "UIfEsCTjYVuQ"
      },
      "source": [
        "#If you get an error you may have to restart the runtime\n",
        "import cplex\n",
        "import docplex.mp\n",
        "from docplex.mp.model import Model"
      ],
      "execution_count": 11,
      "outputs": []
    },
    {
      "cell_type": "code",
      "metadata": {
        "id": "QyDnKO0VRW2r"
      },
      "source": [
        "global output_lock\n",
        "#with output_lock:\n",
        "\n",
        "try:  \n",
        "  if output_lock:\n",
        "    print(output_lock)\n",
        "except:\n",
        "  output_lock=dict({'output_lock':{}})\n",
        "\n",
        "try: \n",
        "  if outputs:\n",
        "    print(outputs)\n",
        "except:\n",
        "  outputs=dict()\n"
      ],
      "execution_count": 12,
      "outputs": []
    },
    {
      "cell_type": "code",
      "metadata": {
        "id": "QR6mPc1i4fpz",
        "colab": {
          "base_uri": "https://localhost:8080/"
        },
        "outputId": "950ff48f-8a8f-4de4-9f92-621982921611"
      },
      "source": [
        "exec(open(\"./model.py\").read())"
      ],
      "execution_count": 13,
      "outputs": [
        {
          "output_type": "stream",
          "text": [
            "* building wado model\n",
            "model building done in 0.15670061111450195 secs\n",
            "* running wado model\n",
            "Version identifier: 20.1.0.0 | 2020-11-11 | 9bedb6d68\n",
            "CPXPARAM_Read_DataCheck                          1\n",
            "CPXPARAM_TimeLimit                               120\n",
            "Found incumbent of value 0.000000 after 0.00 sec. (0.00 ticks)\n",
            "Tried aggregator 1 time.\n",
            "MIP Presolve eliminated 20 rows and 12 columns.\n",
            "All rows and columns eliminated.\n",
            "Presolve time = 0.01 sec. (0.01 ticks)\n",
            "\n",
            "Root node processing (before b&c):\n",
            "  Real time             =    0.02 sec. (0.01 ticks)\n",
            "Parallel b&c, 2 threads:\n",
            "  Real time             =    0.00 sec. (0.00 ticks)\n",
            "  Sync time (average)   =    0.00 sec.\n",
            "  Wait time (average)   =    0.00 sec.\n",
            "                          ------------\n",
            "Total (root+branch&cut) =    0.02 sec. (0.01 ticks)\n",
            "Solve status: JobSolveStatus.OPTIMAL_SOLUTION\n",
            "* model docplex_model1 solved with objective = -105680.000\n",
            "*  KPI: total plants allocations                  = 112640.000\n",
            "*  KPI: total Cost of plants over all allocations = 6960.000\n",
            "model solve done in 0.07978630065917969 secs\n",
            "solution export done in 0.015005826950073242 secs\n"
          ],
          "name": "stdout"
        }
      ]
    },
    {
      "cell_type": "code",
      "metadata": {
        "id": "oT2QEZYAX97y",
        "colab": {
          "base_uri": "https://localhost:8080/"
        },
        "outputId": "1d4efb9d-e054-4efb-aa9a-0b245cfab587"
      },
      "source": [
        "outputs\n"
      ],
      "execution_count": 14,
      "outputs": [
        {
          "output_type": "execute_result",
          "data": {
            "text/plain": [
              "{'plantsAllocation':    plants  ...  plants minValueAllocationForAssignment\n",
              " 0       1  ...                                       0\n",
              " 1       2  ...                                       0\n",
              " 2       3  ...                                       0\n",
              " 3       4  ...                                       0\n",
              " 4       5  ...                                       0\n",
              " 5       6  ...                                       0\n",
              " \n",
              " [6 rows x 7 columns]}"
            ]
          },
          "metadata": {
            "tags": []
          },
          "execution_count": 14
        }
      ]
    },
    {
      "cell_type": "code",
      "metadata": {
        "id": "TiWDpfHILzSo",
        "colab": {
          "base_uri": "https://localhost:8080/",
          "height": 0
        },
        "outputId": "50e2e1c6-a841-4a39-87c5-65d7d0f8068e"
      },
      "source": [
        "outputs['plantsAllocation']"
      ],
      "execution_count": 15,
      "outputs": [
        {
          "output_type": "execute_result",
          "data": {
            "text/html": [
              "<div>\n",
              "<style scoped>\n",
              "    .dataframe tbody tr th:only-of-type {\n",
              "        vertical-align: middle;\n",
              "    }\n",
              "\n",
              "    .dataframe tbody tr th {\n",
              "        vertical-align: top;\n",
              "    }\n",
              "\n",
              "    .dataframe thead th {\n",
              "        text-align: right;\n",
              "    }\n",
              "</style>\n",
              "<table border=\"1\" class=\"dataframe\">\n",
              "  <thead>\n",
              "    <tr style=\"text-align: right;\">\n",
              "      <th></th>\n",
              "      <th>plants</th>\n",
              "      <th>plants allocation decision</th>\n",
              "      <th>plants selection decision</th>\n",
              "      <th>plants Capacity</th>\n",
              "      <th>plants Product</th>\n",
              "      <th>plants Cost</th>\n",
              "      <th>plants minValueAllocationForAssignment</th>\n",
              "    </tr>\n",
              "  </thead>\n",
              "  <tbody>\n",
              "    <tr>\n",
              "      <th>0</th>\n",
              "      <td>1</td>\n",
              "      <td>0.0</td>\n",
              "      <td>1.0</td>\n",
              "      <td>40</td>\n",
              "      <td>mask</td>\n",
              "      <td>3</td>\n",
              "      <td>0</td>\n",
              "    </tr>\n",
              "    <tr>\n",
              "      <th>1</th>\n",
              "      <td>2</td>\n",
              "      <td>15.0</td>\n",
              "      <td>1.0</td>\n",
              "      <td>30</td>\n",
              "      <td>mask</td>\n",
              "      <td>2</td>\n",
              "      <td>0</td>\n",
              "    </tr>\n",
              "    <tr>\n",
              "      <th>2</th>\n",
              "      <td>3</td>\n",
              "      <td>30.0</td>\n",
              "      <td>1.0</td>\n",
              "      <td>30</td>\n",
              "      <td>handSanitizer</td>\n",
              "      <td>1</td>\n",
              "      <td>0</td>\n",
              "    </tr>\n",
              "    <tr>\n",
              "      <th>3</th>\n",
              "      <td>4</td>\n",
              "      <td>70.0</td>\n",
              "      <td>1.0</td>\n",
              "      <td>100</td>\n",
              "      <td>handSanitizer</td>\n",
              "      <td>3</td>\n",
              "      <td>0</td>\n",
              "    </tr>\n",
              "    <tr>\n",
              "      <th>4</th>\n",
              "      <td>5</td>\n",
              "      <td>60.0</td>\n",
              "      <td>1.0</td>\n",
              "      <td>60</td>\n",
              "      <td>mask</td>\n",
              "      <td>2</td>\n",
              "      <td>0</td>\n",
              "    </tr>\n",
              "    <tr>\n",
              "      <th>5</th>\n",
              "      <td>6</td>\n",
              "      <td>45.0</td>\n",
              "      <td>1.0</td>\n",
              "      <td>45</td>\n",
              "      <td>mask</td>\n",
              "      <td>1</td>\n",
              "      <td>0</td>\n",
              "    </tr>\n",
              "  </tbody>\n",
              "</table>\n",
              "</div>"
            ],
            "text/plain": [
              "   plants  ...  plants minValueAllocationForAssignment\n",
              "0       1  ...                                       0\n",
              "1       2  ...                                       0\n",
              "2       3  ...                                       0\n",
              "3       4  ...                                       0\n",
              "4       5  ...                                       0\n",
              "5       6  ...                                       0\n",
              "\n",
              "[6 rows x 7 columns]"
            ]
          },
          "metadata": {
            "tags": []
          },
          "execution_count": 15
        }
      ]
    },
    {
      "cell_type": "code",
      "metadata": {
        "id": "Z7pXtDgMxKiX",
        "colab": {
          "base_uri": "https://localhost:8080/"
        },
        "outputId": "67a37cd9-b38c-4091-f1c8-15ee20bf106f"
      },
      "source": [
        "model"
      ],
      "execution_count": 16,
      "outputs": [
        {
          "output_type": "execute_result",
          "data": {
            "text/plain": [
              "docplex.mp.Model['docplex_model1']"
            ]
          },
          "metadata": {
            "tags": []
          },
          "execution_count": 16
        }
      ]
    },
    {
      "cell_type": "code",
      "metadata": {
        "colab": {
          "base_uri": "https://localhost:8080/"
        },
        "id": "GJb3NIm38Iuz",
        "outputId": "7298e911-951b-4d7e-88bf-ba9a712ff0c1"
      },
      "source": [
        "solution=model.solve()\n",
        "print(solution)\n",
        "solution"
      ],
      "execution_count": 17,
      "outputs": [
        {
          "output_type": "stream",
          "text": [
            "solution for: docplex_model1\n",
            "objective: -105680\n",
            "x2=15\n",
            "x3=30\n",
            "x4=70\n",
            "x5=60\n",
            "x6=45\n",
            "x7=1\n",
            "x8=1\n",
            "x9=1\n",
            "x10=1\n",
            "x11=1\n",
            "x12=1\n",
            "\n"
          ],
          "name": "stdout"
        },
        {
          "output_type": "execute_result",
          "data": {
            "text/plain": [
              "docplex.mp.solution.SolveSolution(obj=-105680,values={x2:15,x3:30,x4:70,.."
            ]
          },
          "metadata": {
            "tags": []
          },
          "execution_count": 17
        }
      ]
    },
    {
      "cell_type": "code",
      "metadata": {
        "id": "zHUJX4zh7DtO",
        "colab": {
          "base_uri": "https://localhost:8080/"
        },
        "outputId": "52b0ee61-45ac-4843-ad60-ace6fc7ae884"
      },
      "source": [
        "cost = solution.get_objective_value()\n",
        "x = solution.get_all_values()\n",
        "x = np.array(x)\n",
        "print(cost,x)"
      ],
      "execution_count": 18,
      "outputs": [
        {
          "output_type": "stream",
          "text": [
            "-105680.0 [ 0. 15. 30. 70. 60. 45.  1.  1.  1.  1.  1.  1.]\n"
          ],
          "name": "stdout"
        }
      ]
    },
    {
      "cell_type": "markdown",
      "metadata": {
        "id": "pou-xP5MYVuR"
      },
      "source": [
        "# 3. Solve the problem using D-Wave"
      ]
    },
    {
      "cell_type": "code",
      "metadata": {
        "id": "wtwrodHZYVuR",
        "colab": {
          "base_uri": "https://localhost:8080/"
        },
        "outputId": "f3615737-d630-4f46-f10f-760c22171631"
      },
      "source": [
        "# take a look at https://quantum-computing.ibm.com/lab/docs/iql/optimization\n",
        "\n",
        "#from qiskit_optimization import QuadraticProgram\n",
        "#from qiskit_optimization.translators import from_docplex_mp\n",
        "\n",
        "from qiskit.optimization import QuadraticProgram\n",
        "\n",
        "# load from a Docplex model\n",
        "mod = QuadraticProgram()\n",
        "mod.from_docplex(model)\n",
        "print(mod.export_as_lp_string())"
      ],
      "execution_count": 19,
      "outputs": [
        {
          "output_type": "stream",
          "text": [
            "/usr/local/lib/python3.7/dist-packages/qiskit/aqua/__init__.py:86: DeprecationWarning: The package qiskit.aqua is deprecated. It was moved/refactored to qiskit-terra For more information see <https://github.com/Qiskit/qiskit-aqua/blob/main/README.md#migration-guide>\n",
            "  warn_package('aqua', 'qiskit-terra')\n",
            "/usr/local/lib/python3.7/dist-packages/qiskit/optimization/__init__.py:92: DeprecationWarning: The package qiskit.optimization is deprecated. It was moved/refactored to qiskit_optimization (pip install qiskit-optimization). For more information see <https://github.com/Qiskit/qiskit-aqua/blob/main/README.md#migration-guide>\n",
            "  warn_package('optimization', 'qiskit_optimization', 'qiskit-optimization')\n"
          ],
          "name": "stderr"
        },
        {
          "output_type": "stream",
          "text": [
            "\\ This file has been generated by DOcplex\n",
            "\\ ENCODING=ISO-8859-1\n",
            "\\Problem name: docplex_model1\n",
            "\n",
            "Minimize\n",
            " obj: - 464 x0 - 480 x1 - 496 x2 - 464 x3 - 480 x4 - 496 x5\n",
            "Subject To\n",
            " _L_EXPR_1: x0 - 40 x6 <= 0\n",
            " _L_EXPR_2: x1 - 30 x7 <= 0\n",
            " _L_EXPR_3: x2 - 30 x8 <= 0\n",
            " _L_EXPR_4: x3 - 100 x9 <= 0\n",
            " _L_EXPR_5: x4 - 60 x10 <= 0\n",
            " _L_EXPR_6: x5 - 45 x11 <= 0\n",
            " _L_EXPR_7: x0 >= 0\n",
            " _L_EXPR_8: x1 >= 0\n",
            " _L_EXPR_9: x2 >= 0\n",
            " _L_EXPR_10: x3 >= 0\n",
            " _L_EXPR_11: x4 >= 0\n",
            " _L_EXPR_12: x5 >= 0\n",
            " _L_EXPR_13: x0 <= 40\n",
            " _L_EXPR_14: x1 <= 30\n",
            " _L_EXPR_15: x2 <= 30\n",
            " _L_EXPR_16: x3 <= 100\n",
            " _L_EXPR_17: x4 <= 60\n",
            " _L_EXPR_18: x5 <= 45\n",
            " _L_EXPR_19: x2 + x3 <= 100\n",
            " _L_EXPR_20: x0 + x1 + x4 + x5 <= 120\n",
            "\n",
            "Bounds\n",
            " 0 <= x6 <= 1\n",
            " 0 <= x7 <= 1\n",
            " 0 <= x8 <= 1\n",
            " 0 <= x9 <= 1\n",
            " 0 <= x10 <= 1\n",
            " 0 <= x11 <= 1\n",
            "\n",
            "Binaries\n",
            " x6 x7 x8 x9 x10 x11\n",
            "\n",
            "Generals\n",
            " x0 x1 x2 x3 x4 x5\n",
            "End\n",
            "\n"
          ],
          "name": "stdout"
        }
      ]
    },
    {
      "cell_type": "code",
      "metadata": {
        "colab": {
          "base_uri": "https://localhost:8080/"
        },
        "id": "7QsOma-VFkAk",
        "outputId": "aea904e4-b0bd-4b42-adf2-ed793700de88"
      },
      "source": [
        "print('constant:\\t\\t\\t', mod.objective.constant)\n",
        "\n",
        "print('linear dict:\\t\\t\\t', mod.objective.linear.to_dict())\n",
        "print('linear array:\\t\\t\\t', mod.objective.linear.to_array())\n",
        "print('linear array as sparse matrix:\\n', mod.objective.linear.coefficients, '\\n')\n",
        "\n",
        "print('quadratic dict w/ index:\\t', mod.objective.quadratic.to_dict())\n",
        "print('quadratic dict w/ name:\\t\\t', mod.objective.quadratic.to_dict(use_name=True))\n",
        "print('symmetric quadratic dict w/ name:\\t', mod.objective.quadratic.to_dict(use_name=True, symmetric=True))\n",
        "print('quadratic matrix:\\n', mod.objective.quadratic.to_array(),'\\n')\n",
        "print('symmetric quadratic matrix:\\n', mod.objective.quadratic.to_array(symmetric=True),'\\n')\n",
        "print('quadratic matrix as sparse matrix:\\n', mod.objective.quadratic.coefficients)\n"
      ],
      "execution_count": 20,
      "outputs": [
        {
          "output_type": "stream",
          "text": [
            "constant:\t\t\t 0.0\n",
            "linear dict:\t\t\t {0: -464.0, 1: -480.0, 2: -496.0, 3: -464.0, 4: -480.0, 5: -496.0}\n",
            "linear array:\t\t\t [-464. -480. -496. -464. -480. -496.    0.    0.    0.    0.    0.    0.]\n",
            "linear array as sparse matrix:\n",
            "   (0, 0)\t-464.0\n",
            "  (0, 1)\t-480.0\n",
            "  (0, 2)\t-496.0\n",
            "  (0, 3)\t-464.0\n",
            "  (0, 4)\t-480.0\n",
            "  (0, 5)\t-496.0 \n",
            "\n",
            "quadratic dict w/ index:\t {}\n",
            "quadratic dict w/ name:\t\t {}\n",
            "symmetric quadratic dict w/ name:\t {}\n",
            "quadratic matrix:\n",
            " [[0. 0. 0. 0. 0. 0. 0. 0. 0. 0. 0. 0.]\n",
            " [0. 0. 0. 0. 0. 0. 0. 0. 0. 0. 0. 0.]\n",
            " [0. 0. 0. 0. 0. 0. 0. 0. 0. 0. 0. 0.]\n",
            " [0. 0. 0. 0. 0. 0. 0. 0. 0. 0. 0. 0.]\n",
            " [0. 0. 0. 0. 0. 0. 0. 0. 0. 0. 0. 0.]\n",
            " [0. 0. 0. 0. 0. 0. 0. 0. 0. 0. 0. 0.]\n",
            " [0. 0. 0. 0. 0. 0. 0. 0. 0. 0. 0. 0.]\n",
            " [0. 0. 0. 0. 0. 0. 0. 0. 0. 0. 0. 0.]\n",
            " [0. 0. 0. 0. 0. 0. 0. 0. 0. 0. 0. 0.]\n",
            " [0. 0. 0. 0. 0. 0. 0. 0. 0. 0. 0. 0.]\n",
            " [0. 0. 0. 0. 0. 0. 0. 0. 0. 0. 0. 0.]\n",
            " [0. 0. 0. 0. 0. 0. 0. 0. 0. 0. 0. 0.]] \n",
            "\n",
            "symmetric quadratic matrix:\n",
            " [[0. 0. 0. 0. 0. 0. 0. 0. 0. 0. 0. 0.]\n",
            " [0. 0. 0. 0. 0. 0. 0. 0. 0. 0. 0. 0.]\n",
            " [0. 0. 0. 0. 0. 0. 0. 0. 0. 0. 0. 0.]\n",
            " [0. 0. 0. 0. 0. 0. 0. 0. 0. 0. 0. 0.]\n",
            " [0. 0. 0. 0. 0. 0. 0. 0. 0. 0. 0. 0.]\n",
            " [0. 0. 0. 0. 0. 0. 0. 0. 0. 0. 0. 0.]\n",
            " [0. 0. 0. 0. 0. 0. 0. 0. 0. 0. 0. 0.]\n",
            " [0. 0. 0. 0. 0. 0. 0. 0. 0. 0. 0. 0.]\n",
            " [0. 0. 0. 0. 0. 0. 0. 0. 0. 0. 0. 0.]\n",
            " [0. 0. 0. 0. 0. 0. 0. 0. 0. 0. 0. 0.]\n",
            " [0. 0. 0. 0. 0. 0. 0. 0. 0. 0. 0. 0.]\n",
            " [0. 0. 0. 0. 0. 0. 0. 0. 0. 0. 0. 0.]] \n",
            "\n",
            "quadratic matrix as sparse matrix:\n",
            " \n"
          ],
          "name": "stdout"
        }
      ]
    },
    {
      "cell_type": "code",
      "metadata": {
        "id": "Muc2yzYR2K-p"
      },
      "source": [
        "import dimod\n",
        "\n",
        "\n",
        "# Extract qubo data\n",
        "Q = mod.objective.quadratic.to_dict(use_name=True)\n",
        "g = mod.objective.linear.to_dict(use_name=True)\n",
        "c = mod.objective.constant\n",
        "\n",
        "# Build BQM\n",
        "bqm=dimod.BQM(g, Q, c, dimod.BINARY)"
      ],
      "execution_count": 24,
      "outputs": []
    },
    {
      "cell_type": "code",
      "metadata": {
        "id": "VZdp1qXk9E9s"
      },
      "source": [
        "from dwave.system import LeapHybridSampler\n",
        "from dwave.system import DWaveSampler, EmbeddingComposite\n",
        "\n",
        "# Solve using LeapHybridSampler\n",
        "sampler = LeapHybridSampler()\n",
        "bqm.result = sampler.sample(bqm)\n",
        "\n",
        "# Extract solution\n",
        "result_dict = bqm.result.first.sample\n",
        "extract_solution(result_dict)"
      ],
      "execution_count": null,
      "outputs": []
    }
  ]
}